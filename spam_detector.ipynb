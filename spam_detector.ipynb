{
 "cells": [
  {
   "cell_type": "code",
   "execution_count": 1,
   "metadata": {},
   "outputs": [
    {
     "data": {
      "application/javascript": [
       "(function(root) {\n",
       "  function now() {\n",
       "    return new Date();\n",
       "  }\n",
       "\n",
       "  var force = true;\n",
       "  var py_version = '3.3.4'.replace('rc', '-rc.').replace('.dev', '-dev.');\n",
       "  var reloading = false;\n",
       "  var Bokeh = root.Bokeh;\n",
       "\n",
       "  if (typeof (root._bokeh_timeout) === \"undefined\" || force) {\n",
       "    root._bokeh_timeout = Date.now() + 5000;\n",
       "    root._bokeh_failed_load = false;\n",
       "  }\n",
       "\n",
       "  function run_callbacks() {\n",
       "    try {\n",
       "      root._bokeh_onload_callbacks.forEach(function(callback) {\n",
       "        if (callback != null)\n",
       "          callback();\n",
       "      });\n",
       "    } finally {\n",
       "      delete root._bokeh_onload_callbacks;\n",
       "    }\n",
       "    console.debug(\"Bokeh: all callbacks have finished\");\n",
       "  }\n",
       "\n",
       "  function load_libs(css_urls, js_urls, js_modules, js_exports, callback) {\n",
       "    if (css_urls == null) css_urls = [];\n",
       "    if (js_urls == null) js_urls = [];\n",
       "    if (js_modules == null) js_modules = [];\n",
       "    if (js_exports == null) js_exports = {};\n",
       "\n",
       "    root._bokeh_onload_callbacks.push(callback);\n",
       "\n",
       "    if (root._bokeh_is_loading > 0) {\n",
       "      console.debug(\"Bokeh: BokehJS is being loaded, scheduling callback at\", now());\n",
       "      return null;\n",
       "    }\n",
       "    if (js_urls.length === 0 && js_modules.length === 0 && Object.keys(js_exports).length === 0) {\n",
       "      run_callbacks();\n",
       "      return null;\n",
       "    }\n",
       "    if (!reloading) {\n",
       "      console.debug(\"Bokeh: BokehJS not loaded, scheduling load and callback at\", now());\n",
       "    }\n",
       "\n",
       "    function on_load() {\n",
       "      root._bokeh_is_loading--;\n",
       "      if (root._bokeh_is_loading === 0) {\n",
       "        console.debug(\"Bokeh: all BokehJS libraries/stylesheets loaded\");\n",
       "        run_callbacks()\n",
       "      }\n",
       "    }\n",
       "    window._bokeh_on_load = on_load\n",
       "\n",
       "    function on_error() {\n",
       "      console.error(\"failed to load \" + url);\n",
       "    }\n",
       "\n",
       "    var skip = [];\n",
       "    if (window.requirejs) {\n",
       "      window.requirejs.config({'packages': {}, 'paths': {'jspanel': 'https://cdn.jsdelivr.net/npm/jspanel4@4.12.0/dist/jspanel', 'jspanel-modal': 'https://cdn.jsdelivr.net/npm/jspanel4@4.12.0/dist/extensions/modal/jspanel.modal', 'jspanel-tooltip': 'https://cdn.jsdelivr.net/npm/jspanel4@4.12.0/dist/extensions/tooltip/jspanel.tooltip', 'jspanel-hint': 'https://cdn.jsdelivr.net/npm/jspanel4@4.12.0/dist/extensions/hint/jspanel.hint', 'jspanel-layout': 'https://cdn.jsdelivr.net/npm/jspanel4@4.12.0/dist/extensions/layout/jspanel.layout', 'jspanel-contextmenu': 'https://cdn.jsdelivr.net/npm/jspanel4@4.12.0/dist/extensions/contextmenu/jspanel.contextmenu', 'jspanel-dock': 'https://cdn.jsdelivr.net/npm/jspanel4@4.12.0/dist/extensions/dock/jspanel.dock', 'gridstack': 'https://cdn.jsdelivr.net/npm/gridstack@7.2.3/dist/gridstack-all', 'notyf': 'https://cdn.jsdelivr.net/npm/notyf@3/notyf.min'}, 'shim': {'jspanel': {'exports': 'jsPanel'}, 'gridstack': {'exports': 'GridStack'}}});\n",
       "      require([\"jspanel\"], function(jsPanel) {\n",
       "\twindow.jsPanel = jsPanel\n",
       "\ton_load()\n",
       "      })\n",
       "      require([\"jspanel-modal\"], function() {\n",
       "\ton_load()\n",
       "      })\n",
       "      require([\"jspanel-tooltip\"], function() {\n",
       "\ton_load()\n",
       "      })\n",
       "      require([\"jspanel-hint\"], function() {\n",
       "\ton_load()\n",
       "      })\n",
       "      require([\"jspanel-layout\"], function() {\n",
       "\ton_load()\n",
       "      })\n",
       "      require([\"jspanel-contextmenu\"], function() {\n",
       "\ton_load()\n",
       "      })\n",
       "      require([\"jspanel-dock\"], function() {\n",
       "\ton_load()\n",
       "      })\n",
       "      require([\"gridstack\"], function(GridStack) {\n",
       "\twindow.GridStack = GridStack\n",
       "\ton_load()\n",
       "      })\n",
       "      require([\"notyf\"], function() {\n",
       "\ton_load()\n",
       "      })\n",
       "      root._bokeh_is_loading = css_urls.length + 9;\n",
       "    } else {\n",
       "      root._bokeh_is_loading = css_urls.length + js_urls.length + js_modules.length + Object.keys(js_exports).length;\n",
       "    }\n",
       "\n",
       "    var existing_stylesheets = []\n",
       "    var links = document.getElementsByTagName('link')\n",
       "    for (var i = 0; i < links.length; i++) {\n",
       "      var link = links[i]\n",
       "      if (link.href != null) {\n",
       "\texisting_stylesheets.push(link.href)\n",
       "      }\n",
       "    }\n",
       "    for (var i = 0; i < css_urls.length; i++) {\n",
       "      var url = css_urls[i];\n",
       "      if (existing_stylesheets.indexOf(url) !== -1) {\n",
       "\ton_load()\n",
       "\tcontinue;\n",
       "      }\n",
       "      const element = document.createElement(\"link\");\n",
       "      element.onload = on_load;\n",
       "      element.onerror = on_error;\n",
       "      element.rel = \"stylesheet\";\n",
       "      element.type = \"text/css\";\n",
       "      element.href = url;\n",
       "      console.debug(\"Bokeh: injecting link tag for BokehJS stylesheet: \", url);\n",
       "      document.body.appendChild(element);\n",
       "    }    if (((window['jsPanel'] !== undefined) && (!(window['jsPanel'] instanceof HTMLElement))) || window.requirejs) {\n",
       "      var urls = ['https://cdn.holoviz.org/panel/1.3.8/dist/bundled/floatpanel/jspanel4@4.12.0/dist/jspanel.js', 'https://cdn.holoviz.org/panel/1.3.8/dist/bundled/floatpanel/jspanel4@4.12.0/dist/extensions/modal/jspanel.modal.js', 'https://cdn.holoviz.org/panel/1.3.8/dist/bundled/floatpanel/jspanel4@4.12.0/dist/extensions/tooltip/jspanel.tooltip.js', 'https://cdn.holoviz.org/panel/1.3.8/dist/bundled/floatpanel/jspanel4@4.12.0/dist/extensions/hint/jspanel.hint.js', 'https://cdn.holoviz.org/panel/1.3.8/dist/bundled/floatpanel/jspanel4@4.12.0/dist/extensions/layout/jspanel.layout.js', 'https://cdn.holoviz.org/panel/1.3.8/dist/bundled/floatpanel/jspanel4@4.12.0/dist/extensions/contextmenu/jspanel.contextmenu.js', 'https://cdn.holoviz.org/panel/1.3.8/dist/bundled/floatpanel/jspanel4@4.12.0/dist/extensions/dock/jspanel.dock.js'];\n",
       "      for (var i = 0; i < urls.length; i++) {\n",
       "        skip.push(urls[i])\n",
       "      }\n",
       "    }    if (((window['GridStack'] !== undefined) && (!(window['GridStack'] instanceof HTMLElement))) || window.requirejs) {\n",
       "      var urls = ['https://cdn.holoviz.org/panel/1.3.8/dist/bundled/gridstack/gridstack@7.2.3/dist/gridstack-all.js'];\n",
       "      for (var i = 0; i < urls.length; i++) {\n",
       "        skip.push(urls[i])\n",
       "      }\n",
       "    }    if (((window['Notyf'] !== undefined) && (!(window['Notyf'] instanceof HTMLElement))) || window.requirejs) {\n",
       "      var urls = ['https://cdn.holoviz.org/panel/1.3.8/dist/bundled/notificationarea/notyf@3/notyf.min.js'];\n",
       "      for (var i = 0; i < urls.length; i++) {\n",
       "        skip.push(urls[i])\n",
       "      }\n",
       "    }    var existing_scripts = []\n",
       "    var scripts = document.getElementsByTagName('script')\n",
       "    for (var i = 0; i < scripts.length; i++) {\n",
       "      var script = scripts[i]\n",
       "      if (script.src != null) {\n",
       "\texisting_scripts.push(script.src)\n",
       "      }\n",
       "    }\n",
       "    for (var i = 0; i < js_urls.length; i++) {\n",
       "      var url = js_urls[i];\n",
       "      if (skip.indexOf(url) !== -1 || existing_scripts.indexOf(url) !== -1) {\n",
       "\tif (!window.requirejs) {\n",
       "\t  on_load();\n",
       "\t}\n",
       "\tcontinue;\n",
       "      }\n",
       "      var element = document.createElement('script');\n",
       "      element.onload = on_load;\n",
       "      element.onerror = on_error;\n",
       "      element.async = false;\n",
       "      element.src = url;\n",
       "      console.debug(\"Bokeh: injecting script tag for BokehJS library: \", url);\n",
       "      document.head.appendChild(element);\n",
       "    }\n",
       "    for (var i = 0; i < js_modules.length; i++) {\n",
       "      var url = js_modules[i];\n",
       "      if (skip.indexOf(url) !== -1 || existing_scripts.indexOf(url) !== -1) {\n",
       "\tif (!window.requirejs) {\n",
       "\t  on_load();\n",
       "\t}\n",
       "\tcontinue;\n",
       "      }\n",
       "      var element = document.createElement('script');\n",
       "      element.onload = on_load;\n",
       "      element.onerror = on_error;\n",
       "      element.async = false;\n",
       "      element.src = url;\n",
       "      element.type = \"module\";\n",
       "      console.debug(\"Bokeh: injecting script tag for BokehJS library: \", url);\n",
       "      document.head.appendChild(element);\n",
       "    }\n",
       "    for (const name in js_exports) {\n",
       "      var url = js_exports[name];\n",
       "      if (skip.indexOf(url) >= 0 || root[name] != null) {\n",
       "\tif (!window.requirejs) {\n",
       "\t  on_load();\n",
       "\t}\n",
       "\tcontinue;\n",
       "      }\n",
       "      var element = document.createElement('script');\n",
       "      element.onerror = on_error;\n",
       "      element.async = false;\n",
       "      element.type = \"module\";\n",
       "      console.debug(\"Bokeh: injecting script tag for BokehJS library: \", url);\n",
       "      element.textContent = `\n",
       "      import ${name} from \"${url}\"\n",
       "      window.${name} = ${name}\n",
       "      window._bokeh_on_load()\n",
       "      `\n",
       "      document.head.appendChild(element);\n",
       "    }\n",
       "    if (!js_urls.length && !js_modules.length) {\n",
       "      on_load()\n",
       "    }\n",
       "  };\n",
       "\n",
       "  function inject_raw_css(css) {\n",
       "    const element = document.createElement(\"style\");\n",
       "    element.appendChild(document.createTextNode(css));\n",
       "    document.body.appendChild(element);\n",
       "  }\n",
       "\n",
       "  var js_urls = [\"https://cdn.bokeh.org/bokeh/release/bokeh-3.3.4.min.js\", \"https://cdn.bokeh.org/bokeh/release/bokeh-gl-3.3.4.min.js\", \"https://cdn.bokeh.org/bokeh/release/bokeh-widgets-3.3.4.min.js\", \"https://cdn.bokeh.org/bokeh/release/bokeh-tables-3.3.4.min.js\", \"https://cdn.holoviz.org/panel/1.3.8/dist/panel.min.js\"];\n",
       "  var js_modules = [];\n",
       "  var js_exports = {};\n",
       "  var css_urls = [];\n",
       "  var inline_js = [    function(Bokeh) {\n",
       "      Bokeh.set_log_level(\"info\");\n",
       "    },\n",
       "function(Bokeh) {} // ensure no trailing comma for IE\n",
       "  ];\n",
       "\n",
       "  function run_inline_js() {\n",
       "    if ((root.Bokeh !== undefined) || (force === true)) {\n",
       "      for (var i = 0; i < inline_js.length; i++) {\n",
       "\ttry {\n",
       "          inline_js[i].call(root, root.Bokeh);\n",
       "\t} catch(e) {\n",
       "\t  if (!reloading) {\n",
       "\t    throw e;\n",
       "\t  }\n",
       "\t}\n",
       "      }\n",
       "      // Cache old bokeh versions\n",
       "      if (Bokeh != undefined && !reloading) {\n",
       "\tvar NewBokeh = root.Bokeh;\n",
       "\tif (Bokeh.versions === undefined) {\n",
       "\t  Bokeh.versions = new Map();\n",
       "\t}\n",
       "\tif (NewBokeh.version !== Bokeh.version) {\n",
       "\t  Bokeh.versions.set(NewBokeh.version, NewBokeh)\n",
       "\t}\n",
       "\troot.Bokeh = Bokeh;\n",
       "      }} else if (Date.now() < root._bokeh_timeout) {\n",
       "      setTimeout(run_inline_js, 100);\n",
       "    } else if (!root._bokeh_failed_load) {\n",
       "      console.log(\"Bokeh: BokehJS failed to load within specified timeout.\");\n",
       "      root._bokeh_failed_load = true;\n",
       "    }\n",
       "    root._bokeh_is_initializing = false\n",
       "  }\n",
       "\n",
       "  function load_or_wait() {\n",
       "    // Implement a backoff loop that tries to ensure we do not load multiple\n",
       "    // versions of Bokeh and its dependencies at the same time.\n",
       "    // In recent versions we use the root._bokeh_is_initializing flag\n",
       "    // to determine whether there is an ongoing attempt to initialize\n",
       "    // bokeh, however for backward compatibility we also try to ensure\n",
       "    // that we do not start loading a newer (Panel>=1.0 and Bokeh>3) version\n",
       "    // before older versions are fully initialized.\n",
       "    if (root._bokeh_is_initializing && Date.now() > root._bokeh_timeout) {\n",
       "      root._bokeh_is_initializing = false;\n",
       "      root._bokeh_onload_callbacks = undefined;\n",
       "      console.log(\"Bokeh: BokehJS was loaded multiple times but one version failed to initialize.\");\n",
       "      load_or_wait();\n",
       "    } else if (root._bokeh_is_initializing || (typeof root._bokeh_is_initializing === \"undefined\" && root._bokeh_onload_callbacks !== undefined)) {\n",
       "      setTimeout(load_or_wait, 100);\n",
       "    } else {\n",
       "      root._bokeh_is_initializing = true\n",
       "      root._bokeh_onload_callbacks = []\n",
       "      var bokeh_loaded = Bokeh != null && (Bokeh.version === py_version || (Bokeh.versions !== undefined && Bokeh.versions.has(py_version)));\n",
       "      if (!reloading && !bokeh_loaded) {\n",
       "\troot.Bokeh = undefined;\n",
       "      }\n",
       "      load_libs(css_urls, js_urls, js_modules, js_exports, function() {\n",
       "\tconsole.debug(\"Bokeh: BokehJS plotting callback run at\", now());\n",
       "\trun_inline_js();\n",
       "      });\n",
       "    }\n",
       "  }\n",
       "  // Give older versions of the autoload script a head-start to ensure\n",
       "  // they initialize before we start loading newer version.\n",
       "  setTimeout(load_or_wait, 100)\n",
       "}(window));"
      ],
      "application/vnd.holoviews_load.v0+json": "(function(root) {\n  function now() {\n    return new Date();\n  }\n\n  var force = true;\n  var py_version = '3.3.4'.replace('rc', '-rc.').replace('.dev', '-dev.');\n  var reloading = false;\n  var Bokeh = root.Bokeh;\n\n  if (typeof (root._bokeh_timeout) === \"undefined\" || force) {\n    root._bokeh_timeout = Date.now() + 5000;\n    root._bokeh_failed_load = false;\n  }\n\n  function run_callbacks() {\n    try {\n      root._bokeh_onload_callbacks.forEach(function(callback) {\n        if (callback != null)\n          callback();\n      });\n    } finally {\n      delete root._bokeh_onload_callbacks;\n    }\n    console.debug(\"Bokeh: all callbacks have finished\");\n  }\n\n  function load_libs(css_urls, js_urls, js_modules, js_exports, callback) {\n    if (css_urls == null) css_urls = [];\n    if (js_urls == null) js_urls = [];\n    if (js_modules == null) js_modules = [];\n    if (js_exports == null) js_exports = {};\n\n    root._bokeh_onload_callbacks.push(callback);\n\n    if (root._bokeh_is_loading > 0) {\n      console.debug(\"Bokeh: BokehJS is being loaded, scheduling callback at\", now());\n      return null;\n    }\n    if (js_urls.length === 0 && js_modules.length === 0 && Object.keys(js_exports).length === 0) {\n      run_callbacks();\n      return null;\n    }\n    if (!reloading) {\n      console.debug(\"Bokeh: BokehJS not loaded, scheduling load and callback at\", now());\n    }\n\n    function on_load() {\n      root._bokeh_is_loading--;\n      if (root._bokeh_is_loading === 0) {\n        console.debug(\"Bokeh: all BokehJS libraries/stylesheets loaded\");\n        run_callbacks()\n      }\n    }\n    window._bokeh_on_load = on_load\n\n    function on_error() {\n      console.error(\"failed to load \" + url);\n    }\n\n    var skip = [];\n    if (window.requirejs) {\n      window.requirejs.config({'packages': {}, 'paths': {'jspanel': 'https://cdn.jsdelivr.net/npm/jspanel4@4.12.0/dist/jspanel', 'jspanel-modal': 'https://cdn.jsdelivr.net/npm/jspanel4@4.12.0/dist/extensions/modal/jspanel.modal', 'jspanel-tooltip': 'https://cdn.jsdelivr.net/npm/jspanel4@4.12.0/dist/extensions/tooltip/jspanel.tooltip', 'jspanel-hint': 'https://cdn.jsdelivr.net/npm/jspanel4@4.12.0/dist/extensions/hint/jspanel.hint', 'jspanel-layout': 'https://cdn.jsdelivr.net/npm/jspanel4@4.12.0/dist/extensions/layout/jspanel.layout', 'jspanel-contextmenu': 'https://cdn.jsdelivr.net/npm/jspanel4@4.12.0/dist/extensions/contextmenu/jspanel.contextmenu', 'jspanel-dock': 'https://cdn.jsdelivr.net/npm/jspanel4@4.12.0/dist/extensions/dock/jspanel.dock', 'gridstack': 'https://cdn.jsdelivr.net/npm/gridstack@7.2.3/dist/gridstack-all', 'notyf': 'https://cdn.jsdelivr.net/npm/notyf@3/notyf.min'}, 'shim': {'jspanel': {'exports': 'jsPanel'}, 'gridstack': {'exports': 'GridStack'}}});\n      require([\"jspanel\"], function(jsPanel) {\n\twindow.jsPanel = jsPanel\n\ton_load()\n      })\n      require([\"jspanel-modal\"], function() {\n\ton_load()\n      })\n      require([\"jspanel-tooltip\"], function() {\n\ton_load()\n      })\n      require([\"jspanel-hint\"], function() {\n\ton_load()\n      })\n      require([\"jspanel-layout\"], function() {\n\ton_load()\n      })\n      require([\"jspanel-contextmenu\"], function() {\n\ton_load()\n      })\n      require([\"jspanel-dock\"], function() {\n\ton_load()\n      })\n      require([\"gridstack\"], function(GridStack) {\n\twindow.GridStack = GridStack\n\ton_load()\n      })\n      require([\"notyf\"], function() {\n\ton_load()\n      })\n      root._bokeh_is_loading = css_urls.length + 9;\n    } else {\n      root._bokeh_is_loading = css_urls.length + js_urls.length + js_modules.length + Object.keys(js_exports).length;\n    }\n\n    var existing_stylesheets = []\n    var links = document.getElementsByTagName('link')\n    for (var i = 0; i < links.length; i++) {\n      var link = links[i]\n      if (link.href != null) {\n\texisting_stylesheets.push(link.href)\n      }\n    }\n    for (var i = 0; i < css_urls.length; i++) {\n      var url = css_urls[i];\n      if (existing_stylesheets.indexOf(url) !== -1) {\n\ton_load()\n\tcontinue;\n      }\n      const element = document.createElement(\"link\");\n      element.onload = on_load;\n      element.onerror = on_error;\n      element.rel = \"stylesheet\";\n      element.type = \"text/css\";\n      element.href = url;\n      console.debug(\"Bokeh: injecting link tag for BokehJS stylesheet: \", url);\n      document.body.appendChild(element);\n    }    if (((window['jsPanel'] !== undefined) && (!(window['jsPanel'] instanceof HTMLElement))) || window.requirejs) {\n      var urls = ['https://cdn.holoviz.org/panel/1.3.8/dist/bundled/floatpanel/jspanel4@4.12.0/dist/jspanel.js', 'https://cdn.holoviz.org/panel/1.3.8/dist/bundled/floatpanel/jspanel4@4.12.0/dist/extensions/modal/jspanel.modal.js', 'https://cdn.holoviz.org/panel/1.3.8/dist/bundled/floatpanel/jspanel4@4.12.0/dist/extensions/tooltip/jspanel.tooltip.js', 'https://cdn.holoviz.org/panel/1.3.8/dist/bundled/floatpanel/jspanel4@4.12.0/dist/extensions/hint/jspanel.hint.js', 'https://cdn.holoviz.org/panel/1.3.8/dist/bundled/floatpanel/jspanel4@4.12.0/dist/extensions/layout/jspanel.layout.js', 'https://cdn.holoviz.org/panel/1.3.8/dist/bundled/floatpanel/jspanel4@4.12.0/dist/extensions/contextmenu/jspanel.contextmenu.js', 'https://cdn.holoviz.org/panel/1.3.8/dist/bundled/floatpanel/jspanel4@4.12.0/dist/extensions/dock/jspanel.dock.js'];\n      for (var i = 0; i < urls.length; i++) {\n        skip.push(urls[i])\n      }\n    }    if (((window['GridStack'] !== undefined) && (!(window['GridStack'] instanceof HTMLElement))) || window.requirejs) {\n      var urls = ['https://cdn.holoviz.org/panel/1.3.8/dist/bundled/gridstack/gridstack@7.2.3/dist/gridstack-all.js'];\n      for (var i = 0; i < urls.length; i++) {\n        skip.push(urls[i])\n      }\n    }    if (((window['Notyf'] !== undefined) && (!(window['Notyf'] instanceof HTMLElement))) || window.requirejs) {\n      var urls = ['https://cdn.holoviz.org/panel/1.3.8/dist/bundled/notificationarea/notyf@3/notyf.min.js'];\n      for (var i = 0; i < urls.length; i++) {\n        skip.push(urls[i])\n      }\n    }    var existing_scripts = []\n    var scripts = document.getElementsByTagName('script')\n    for (var i = 0; i < scripts.length; i++) {\n      var script = scripts[i]\n      if (script.src != null) {\n\texisting_scripts.push(script.src)\n      }\n    }\n    for (var i = 0; i < js_urls.length; i++) {\n      var url = js_urls[i];\n      if (skip.indexOf(url) !== -1 || existing_scripts.indexOf(url) !== -1) {\n\tif (!window.requirejs) {\n\t  on_load();\n\t}\n\tcontinue;\n      }\n      var element = document.createElement('script');\n      element.onload = on_load;\n      element.onerror = on_error;\n      element.async = false;\n      element.src = url;\n      console.debug(\"Bokeh: injecting script tag for BokehJS library: \", url);\n      document.head.appendChild(element);\n    }\n    for (var i = 0; i < js_modules.length; i++) {\n      var url = js_modules[i];\n      if (skip.indexOf(url) !== -1 || existing_scripts.indexOf(url) !== -1) {\n\tif (!window.requirejs) {\n\t  on_load();\n\t}\n\tcontinue;\n      }\n      var element = document.createElement('script');\n      element.onload = on_load;\n      element.onerror = on_error;\n      element.async = false;\n      element.src = url;\n      element.type = \"module\";\n      console.debug(\"Bokeh: injecting script tag for BokehJS library: \", url);\n      document.head.appendChild(element);\n    }\n    for (const name in js_exports) {\n      var url = js_exports[name];\n      if (skip.indexOf(url) >= 0 || root[name] != null) {\n\tif (!window.requirejs) {\n\t  on_load();\n\t}\n\tcontinue;\n      }\n      var element = document.createElement('script');\n      element.onerror = on_error;\n      element.async = false;\n      element.type = \"module\";\n      console.debug(\"Bokeh: injecting script tag for BokehJS library: \", url);\n      element.textContent = `\n      import ${name} from \"${url}\"\n      window.${name} = ${name}\n      window._bokeh_on_load()\n      `\n      document.head.appendChild(element);\n    }\n    if (!js_urls.length && !js_modules.length) {\n      on_load()\n    }\n  };\n\n  function inject_raw_css(css) {\n    const element = document.createElement(\"style\");\n    element.appendChild(document.createTextNode(css));\n    document.body.appendChild(element);\n  }\n\n  var js_urls = [\"https://cdn.bokeh.org/bokeh/release/bokeh-3.3.4.min.js\", \"https://cdn.bokeh.org/bokeh/release/bokeh-gl-3.3.4.min.js\", \"https://cdn.bokeh.org/bokeh/release/bokeh-widgets-3.3.4.min.js\", \"https://cdn.bokeh.org/bokeh/release/bokeh-tables-3.3.4.min.js\", \"https://cdn.holoviz.org/panel/1.3.8/dist/panel.min.js\"];\n  var js_modules = [];\n  var js_exports = {};\n  var css_urls = [];\n  var inline_js = [    function(Bokeh) {\n      Bokeh.set_log_level(\"info\");\n    },\nfunction(Bokeh) {} // ensure no trailing comma for IE\n  ];\n\n  function run_inline_js() {\n    if ((root.Bokeh !== undefined) || (force === true)) {\n      for (var i = 0; i < inline_js.length; i++) {\n\ttry {\n          inline_js[i].call(root, root.Bokeh);\n\t} catch(e) {\n\t  if (!reloading) {\n\t    throw e;\n\t  }\n\t}\n      }\n      // Cache old bokeh versions\n      if (Bokeh != undefined && !reloading) {\n\tvar NewBokeh = root.Bokeh;\n\tif (Bokeh.versions === undefined) {\n\t  Bokeh.versions = new Map();\n\t}\n\tif (NewBokeh.version !== Bokeh.version) {\n\t  Bokeh.versions.set(NewBokeh.version, NewBokeh)\n\t}\n\troot.Bokeh = Bokeh;\n      }} else if (Date.now() < root._bokeh_timeout) {\n      setTimeout(run_inline_js, 100);\n    } else if (!root._bokeh_failed_load) {\n      console.log(\"Bokeh: BokehJS failed to load within specified timeout.\");\n      root._bokeh_failed_load = true;\n    }\n    root._bokeh_is_initializing = false\n  }\n\n  function load_or_wait() {\n    // Implement a backoff loop that tries to ensure we do not load multiple\n    // versions of Bokeh and its dependencies at the same time.\n    // In recent versions we use the root._bokeh_is_initializing flag\n    // to determine whether there is an ongoing attempt to initialize\n    // bokeh, however for backward compatibility we also try to ensure\n    // that we do not start loading a newer (Panel>=1.0 and Bokeh>3) version\n    // before older versions are fully initialized.\n    if (root._bokeh_is_initializing && Date.now() > root._bokeh_timeout) {\n      root._bokeh_is_initializing = false;\n      root._bokeh_onload_callbacks = undefined;\n      console.log(\"Bokeh: BokehJS was loaded multiple times but one version failed to initialize.\");\n      load_or_wait();\n    } else if (root._bokeh_is_initializing || (typeof root._bokeh_is_initializing === \"undefined\" && root._bokeh_onload_callbacks !== undefined)) {\n      setTimeout(load_or_wait, 100);\n    } else {\n      root._bokeh_is_initializing = true\n      root._bokeh_onload_callbacks = []\n      var bokeh_loaded = Bokeh != null && (Bokeh.version === py_version || (Bokeh.versions !== undefined && Bokeh.versions.has(py_version)));\n      if (!reloading && !bokeh_loaded) {\n\troot.Bokeh = undefined;\n      }\n      load_libs(css_urls, js_urls, js_modules, js_exports, function() {\n\tconsole.debug(\"Bokeh: BokehJS plotting callback run at\", now());\n\trun_inline_js();\n      });\n    }\n  }\n  // Give older versions of the autoload script a head-start to ensure\n  // they initialize before we start loading newer version.\n  setTimeout(load_or_wait, 100)\n}(window));"
     },
     "metadata": {},
     "output_type": "display_data"
    },
    {
     "data": {
      "application/javascript": [
       "\n",
       "if ((window.PyViz === undefined) || (window.PyViz instanceof HTMLElement)) {\n",
       "  window.PyViz = {comms: {}, comm_status:{}, kernels:{}, receivers: {}, plot_index: []}\n",
       "}\n",
       "\n",
       "\n",
       "    function JupyterCommManager() {\n",
       "    }\n",
       "\n",
       "    JupyterCommManager.prototype.register_target = function(plot_id, comm_id, msg_handler) {\n",
       "      if (window.comm_manager || ((window.Jupyter !== undefined) && (Jupyter.notebook.kernel != null))) {\n",
       "        var comm_manager = window.comm_manager || Jupyter.notebook.kernel.comm_manager;\n",
       "        comm_manager.register_target(comm_id, function(comm) {\n",
       "          comm.on_msg(msg_handler);\n",
       "        });\n",
       "      } else if ((plot_id in window.PyViz.kernels) && (window.PyViz.kernels[plot_id])) {\n",
       "        window.PyViz.kernels[plot_id].registerCommTarget(comm_id, function(comm) {\n",
       "          comm.onMsg = msg_handler;\n",
       "        });\n",
       "      } else if (typeof google != 'undefined' && google.colab.kernel != null) {\n",
       "        google.colab.kernel.comms.registerTarget(comm_id, (comm) => {\n",
       "          var messages = comm.messages[Symbol.asyncIterator]();\n",
       "          function processIteratorResult(result) {\n",
       "            var message = result.value;\n",
       "            console.log(message)\n",
       "            var content = {data: message.data, comm_id};\n",
       "            var buffers = []\n",
       "            for (var buffer of message.buffers || []) {\n",
       "              buffers.push(new DataView(buffer))\n",
       "            }\n",
       "            var metadata = message.metadata || {};\n",
       "            var msg = {content, buffers, metadata}\n",
       "            msg_handler(msg);\n",
       "            return messages.next().then(processIteratorResult);\n",
       "          }\n",
       "          return messages.next().then(processIteratorResult);\n",
       "        })\n",
       "      }\n",
       "    }\n",
       "\n",
       "    JupyterCommManager.prototype.get_client_comm = function(plot_id, comm_id, msg_handler) {\n",
       "      if (comm_id in window.PyViz.comms) {\n",
       "        return window.PyViz.comms[comm_id];\n",
       "      } else if (window.comm_manager || ((window.Jupyter !== undefined) && (Jupyter.notebook.kernel != null))) {\n",
       "        var comm_manager = window.comm_manager || Jupyter.notebook.kernel.comm_manager;\n",
       "        var comm = comm_manager.new_comm(comm_id, {}, {}, {}, comm_id);\n",
       "        if (msg_handler) {\n",
       "          comm.on_msg(msg_handler);\n",
       "        }\n",
       "      } else if ((plot_id in window.PyViz.kernels) && (window.PyViz.kernels[plot_id])) {\n",
       "        var comm = window.PyViz.kernels[plot_id].connectToComm(comm_id);\n",
       "        comm.open();\n",
       "        if (msg_handler) {\n",
       "          comm.onMsg = msg_handler;\n",
       "        }\n",
       "      } else if (typeof google != 'undefined' && google.colab.kernel != null) {\n",
       "        var comm_promise = google.colab.kernel.comms.open(comm_id)\n",
       "        comm_promise.then((comm) => {\n",
       "          window.PyViz.comms[comm_id] = comm;\n",
       "          if (msg_handler) {\n",
       "            var messages = comm.messages[Symbol.asyncIterator]();\n",
       "            function processIteratorResult(result) {\n",
       "              var message = result.value;\n",
       "              var content = {data: message.data};\n",
       "              var metadata = message.metadata || {comm_id};\n",
       "              var msg = {content, metadata}\n",
       "              msg_handler(msg);\n",
       "              return messages.next().then(processIteratorResult);\n",
       "            }\n",
       "            return messages.next().then(processIteratorResult);\n",
       "          }\n",
       "        }) \n",
       "        var sendClosure = (data, metadata, buffers, disposeOnDone) => {\n",
       "          return comm_promise.then((comm) => {\n",
       "            comm.send(data, metadata, buffers, disposeOnDone);\n",
       "          });\n",
       "        };\n",
       "        var comm = {\n",
       "          send: sendClosure\n",
       "        };\n",
       "      }\n",
       "      window.PyViz.comms[comm_id] = comm;\n",
       "      return comm;\n",
       "    }\n",
       "    window.PyViz.comm_manager = new JupyterCommManager();\n",
       "    \n",
       "\n",
       "\n",
       "var JS_MIME_TYPE = 'application/javascript';\n",
       "var HTML_MIME_TYPE = 'text/html';\n",
       "var EXEC_MIME_TYPE = 'application/vnd.holoviews_exec.v0+json';\n",
       "var CLASS_NAME = 'output';\n",
       "\n",
       "/**\n",
       " * Render data to the DOM node\n",
       " */\n",
       "function render(props, node) {\n",
       "  var div = document.createElement(\"div\");\n",
       "  var script = document.createElement(\"script\");\n",
       "  node.appendChild(div);\n",
       "  node.appendChild(script);\n",
       "}\n",
       "\n",
       "/**\n",
       " * Handle when a new output is added\n",
       " */\n",
       "function handle_add_output(event, handle) {\n",
       "  var output_area = handle.output_area;\n",
       "  var output = handle.output;\n",
       "  if ((output.data == undefined) || (!output.data.hasOwnProperty(EXEC_MIME_TYPE))) {\n",
       "    return\n",
       "  }\n",
       "  var id = output.metadata[EXEC_MIME_TYPE][\"id\"];\n",
       "  var toinsert = output_area.element.find(\".\" + CLASS_NAME.split(' ')[0]);\n",
       "  if (id !== undefined) {\n",
       "    var nchildren = toinsert.length;\n",
       "    var html_node = toinsert[nchildren-1].children[0];\n",
       "    html_node.innerHTML = output.data[HTML_MIME_TYPE];\n",
       "    var scripts = [];\n",
       "    var nodelist = html_node.querySelectorAll(\"script\");\n",
       "    for (var i in nodelist) {\n",
       "      if (nodelist.hasOwnProperty(i)) {\n",
       "        scripts.push(nodelist[i])\n",
       "      }\n",
       "    }\n",
       "\n",
       "    scripts.forEach( function (oldScript) {\n",
       "      var newScript = document.createElement(\"script\");\n",
       "      var attrs = [];\n",
       "      var nodemap = oldScript.attributes;\n",
       "      for (var j in nodemap) {\n",
       "        if (nodemap.hasOwnProperty(j)) {\n",
       "          attrs.push(nodemap[j])\n",
       "        }\n",
       "      }\n",
       "      attrs.forEach(function(attr) { newScript.setAttribute(attr.name, attr.value) });\n",
       "      newScript.appendChild(document.createTextNode(oldScript.innerHTML));\n",
       "      oldScript.parentNode.replaceChild(newScript, oldScript);\n",
       "    });\n",
       "    if (JS_MIME_TYPE in output.data) {\n",
       "      toinsert[nchildren-1].children[1].textContent = output.data[JS_MIME_TYPE];\n",
       "    }\n",
       "    output_area._hv_plot_id = id;\n",
       "    if ((window.Bokeh !== undefined) && (id in Bokeh.index)) {\n",
       "      window.PyViz.plot_index[id] = Bokeh.index[id];\n",
       "    } else {\n",
       "      window.PyViz.plot_index[id] = null;\n",
       "    }\n",
       "  } else if (output.metadata[EXEC_MIME_TYPE][\"server_id\"] !== undefined) {\n",
       "    var bk_div = document.createElement(\"div\");\n",
       "    bk_div.innerHTML = output.data[HTML_MIME_TYPE];\n",
       "    var script_attrs = bk_div.children[0].attributes;\n",
       "    for (var i = 0; i < script_attrs.length; i++) {\n",
       "      toinsert[toinsert.length - 1].childNodes[1].setAttribute(script_attrs[i].name, script_attrs[i].value);\n",
       "    }\n",
       "    // store reference to server id on output_area\n",
       "    output_area._bokeh_server_id = output.metadata[EXEC_MIME_TYPE][\"server_id\"];\n",
       "  }\n",
       "}\n",
       "\n",
       "/**\n",
       " * Handle when an output is cleared or removed\n",
       " */\n",
       "function handle_clear_output(event, handle) {\n",
       "  var id = handle.cell.output_area._hv_plot_id;\n",
       "  var server_id = handle.cell.output_area._bokeh_server_id;\n",
       "  if (((id === undefined) || !(id in PyViz.plot_index)) && (server_id !== undefined)) { return; }\n",
       "  var comm = window.PyViz.comm_manager.get_client_comm(\"hv-extension-comm\", \"hv-extension-comm\", function () {});\n",
       "  if (server_id !== null) {\n",
       "    comm.send({event_type: 'server_delete', 'id': server_id});\n",
       "    return;\n",
       "  } else if (comm !== null) {\n",
       "    comm.send({event_type: 'delete', 'id': id});\n",
       "  }\n",
       "  delete PyViz.plot_index[id];\n",
       "  if ((window.Bokeh !== undefined) & (id in window.Bokeh.index)) {\n",
       "    var doc = window.Bokeh.index[id].model.document\n",
       "    doc.clear();\n",
       "    const i = window.Bokeh.documents.indexOf(doc);\n",
       "    if (i > -1) {\n",
       "      window.Bokeh.documents.splice(i, 1);\n",
       "    }\n",
       "  }\n",
       "}\n",
       "\n",
       "/**\n",
       " * Handle kernel restart event\n",
       " */\n",
       "function handle_kernel_cleanup(event, handle) {\n",
       "  delete PyViz.comms[\"hv-extension-comm\"];\n",
       "  window.PyViz.plot_index = {}\n",
       "}\n",
       "\n",
       "/**\n",
       " * Handle update_display_data messages\n",
       " */\n",
       "function handle_update_output(event, handle) {\n",
       "  handle_clear_output(event, {cell: {output_area: handle.output_area}})\n",
       "  handle_add_output(event, handle)\n",
       "}\n",
       "\n",
       "function register_renderer(events, OutputArea) {\n",
       "  function append_mime(data, metadata, element) {\n",
       "    // create a DOM node to render to\n",
       "    var toinsert = this.create_output_subarea(\n",
       "    metadata,\n",
       "    CLASS_NAME,\n",
       "    EXEC_MIME_TYPE\n",
       "    );\n",
       "    this.keyboard_manager.register_events(toinsert);\n",
       "    // Render to node\n",
       "    var props = {data: data, metadata: metadata[EXEC_MIME_TYPE]};\n",
       "    render(props, toinsert[0]);\n",
       "    element.append(toinsert);\n",
       "    return toinsert\n",
       "  }\n",
       "\n",
       "  events.on('output_added.OutputArea', handle_add_output);\n",
       "  events.on('output_updated.OutputArea', handle_update_output);\n",
       "  events.on('clear_output.CodeCell', handle_clear_output);\n",
       "  events.on('delete.Cell', handle_clear_output);\n",
       "  events.on('kernel_ready.Kernel', handle_kernel_cleanup);\n",
       "\n",
       "  OutputArea.prototype.register_mime_type(EXEC_MIME_TYPE, append_mime, {\n",
       "    safe: true,\n",
       "    index: 0\n",
       "  });\n",
       "}\n",
       "\n",
       "if (window.Jupyter !== undefined) {\n",
       "  try {\n",
       "    var events = require('base/js/events');\n",
       "    var OutputArea = require('notebook/js/outputarea').OutputArea;\n",
       "    if (OutputArea.prototype.mime_types().indexOf(EXEC_MIME_TYPE) == -1) {\n",
       "      register_renderer(events, OutputArea);\n",
       "    }\n",
       "  } catch(err) {\n",
       "  }\n",
       "}\n"
      ],
      "application/vnd.holoviews_load.v0+json": "\nif ((window.PyViz === undefined) || (window.PyViz instanceof HTMLElement)) {\n  window.PyViz = {comms: {}, comm_status:{}, kernels:{}, receivers: {}, plot_index: []}\n}\n\n\n    function JupyterCommManager() {\n    }\n\n    JupyterCommManager.prototype.register_target = function(plot_id, comm_id, msg_handler) {\n      if (window.comm_manager || ((window.Jupyter !== undefined) && (Jupyter.notebook.kernel != null))) {\n        var comm_manager = window.comm_manager || Jupyter.notebook.kernel.comm_manager;\n        comm_manager.register_target(comm_id, function(comm) {\n          comm.on_msg(msg_handler);\n        });\n      } else if ((plot_id in window.PyViz.kernels) && (window.PyViz.kernels[plot_id])) {\n        window.PyViz.kernels[plot_id].registerCommTarget(comm_id, function(comm) {\n          comm.onMsg = msg_handler;\n        });\n      } else if (typeof google != 'undefined' && google.colab.kernel != null) {\n        google.colab.kernel.comms.registerTarget(comm_id, (comm) => {\n          var messages = comm.messages[Symbol.asyncIterator]();\n          function processIteratorResult(result) {\n            var message = result.value;\n            console.log(message)\n            var content = {data: message.data, comm_id};\n            var buffers = []\n            for (var buffer of message.buffers || []) {\n              buffers.push(new DataView(buffer))\n            }\n            var metadata = message.metadata || {};\n            var msg = {content, buffers, metadata}\n            msg_handler(msg);\n            return messages.next().then(processIteratorResult);\n          }\n          return messages.next().then(processIteratorResult);\n        })\n      }\n    }\n\n    JupyterCommManager.prototype.get_client_comm = function(plot_id, comm_id, msg_handler) {\n      if (comm_id in window.PyViz.comms) {\n        return window.PyViz.comms[comm_id];\n      } else if (window.comm_manager || ((window.Jupyter !== undefined) && (Jupyter.notebook.kernel != null))) {\n        var comm_manager = window.comm_manager || Jupyter.notebook.kernel.comm_manager;\n        var comm = comm_manager.new_comm(comm_id, {}, {}, {}, comm_id);\n        if (msg_handler) {\n          comm.on_msg(msg_handler);\n        }\n      } else if ((plot_id in window.PyViz.kernels) && (window.PyViz.kernels[plot_id])) {\n        var comm = window.PyViz.kernels[plot_id].connectToComm(comm_id);\n        comm.open();\n        if (msg_handler) {\n          comm.onMsg = msg_handler;\n        }\n      } else if (typeof google != 'undefined' && google.colab.kernel != null) {\n        var comm_promise = google.colab.kernel.comms.open(comm_id)\n        comm_promise.then((comm) => {\n          window.PyViz.comms[comm_id] = comm;\n          if (msg_handler) {\n            var messages = comm.messages[Symbol.asyncIterator]();\n            function processIteratorResult(result) {\n              var message = result.value;\n              var content = {data: message.data};\n              var metadata = message.metadata || {comm_id};\n              var msg = {content, metadata}\n              msg_handler(msg);\n              return messages.next().then(processIteratorResult);\n            }\n            return messages.next().then(processIteratorResult);\n          }\n        }) \n        var sendClosure = (data, metadata, buffers, disposeOnDone) => {\n          return comm_promise.then((comm) => {\n            comm.send(data, metadata, buffers, disposeOnDone);\n          });\n        };\n        var comm = {\n          send: sendClosure\n        };\n      }\n      window.PyViz.comms[comm_id] = comm;\n      return comm;\n    }\n    window.PyViz.comm_manager = new JupyterCommManager();\n    \n\n\nvar JS_MIME_TYPE = 'application/javascript';\nvar HTML_MIME_TYPE = 'text/html';\nvar EXEC_MIME_TYPE = 'application/vnd.holoviews_exec.v0+json';\nvar CLASS_NAME = 'output';\n\n/**\n * Render data to the DOM node\n */\nfunction render(props, node) {\n  var div = document.createElement(\"div\");\n  var script = document.createElement(\"script\");\n  node.appendChild(div);\n  node.appendChild(script);\n}\n\n/**\n * Handle when a new output is added\n */\nfunction handle_add_output(event, handle) {\n  var output_area = handle.output_area;\n  var output = handle.output;\n  if ((output.data == undefined) || (!output.data.hasOwnProperty(EXEC_MIME_TYPE))) {\n    return\n  }\n  var id = output.metadata[EXEC_MIME_TYPE][\"id\"];\n  var toinsert = output_area.element.find(\".\" + CLASS_NAME.split(' ')[0]);\n  if (id !== undefined) {\n    var nchildren = toinsert.length;\n    var html_node = toinsert[nchildren-1].children[0];\n    html_node.innerHTML = output.data[HTML_MIME_TYPE];\n    var scripts = [];\n    var nodelist = html_node.querySelectorAll(\"script\");\n    for (var i in nodelist) {\n      if (nodelist.hasOwnProperty(i)) {\n        scripts.push(nodelist[i])\n      }\n    }\n\n    scripts.forEach( function (oldScript) {\n      var newScript = document.createElement(\"script\");\n      var attrs = [];\n      var nodemap = oldScript.attributes;\n      for (var j in nodemap) {\n        if (nodemap.hasOwnProperty(j)) {\n          attrs.push(nodemap[j])\n        }\n      }\n      attrs.forEach(function(attr) { newScript.setAttribute(attr.name, attr.value) });\n      newScript.appendChild(document.createTextNode(oldScript.innerHTML));\n      oldScript.parentNode.replaceChild(newScript, oldScript);\n    });\n    if (JS_MIME_TYPE in output.data) {\n      toinsert[nchildren-1].children[1].textContent = output.data[JS_MIME_TYPE];\n    }\n    output_area._hv_plot_id = id;\n    if ((window.Bokeh !== undefined) && (id in Bokeh.index)) {\n      window.PyViz.plot_index[id] = Bokeh.index[id];\n    } else {\n      window.PyViz.plot_index[id] = null;\n    }\n  } else if (output.metadata[EXEC_MIME_TYPE][\"server_id\"] !== undefined) {\n    var bk_div = document.createElement(\"div\");\n    bk_div.innerHTML = output.data[HTML_MIME_TYPE];\n    var script_attrs = bk_div.children[0].attributes;\n    for (var i = 0; i < script_attrs.length; i++) {\n      toinsert[toinsert.length - 1].childNodes[1].setAttribute(script_attrs[i].name, script_attrs[i].value);\n    }\n    // store reference to server id on output_area\n    output_area._bokeh_server_id = output.metadata[EXEC_MIME_TYPE][\"server_id\"];\n  }\n}\n\n/**\n * Handle when an output is cleared or removed\n */\nfunction handle_clear_output(event, handle) {\n  var id = handle.cell.output_area._hv_plot_id;\n  var server_id = handle.cell.output_area._bokeh_server_id;\n  if (((id === undefined) || !(id in PyViz.plot_index)) && (server_id !== undefined)) { return; }\n  var comm = window.PyViz.comm_manager.get_client_comm(\"hv-extension-comm\", \"hv-extension-comm\", function () {});\n  if (server_id !== null) {\n    comm.send({event_type: 'server_delete', 'id': server_id});\n    return;\n  } else if (comm !== null) {\n    comm.send({event_type: 'delete', 'id': id});\n  }\n  delete PyViz.plot_index[id];\n  if ((window.Bokeh !== undefined) & (id in window.Bokeh.index)) {\n    var doc = window.Bokeh.index[id].model.document\n    doc.clear();\n    const i = window.Bokeh.documents.indexOf(doc);\n    if (i > -1) {\n      window.Bokeh.documents.splice(i, 1);\n    }\n  }\n}\n\n/**\n * Handle kernel restart event\n */\nfunction handle_kernel_cleanup(event, handle) {\n  delete PyViz.comms[\"hv-extension-comm\"];\n  window.PyViz.plot_index = {}\n}\n\n/**\n * Handle update_display_data messages\n */\nfunction handle_update_output(event, handle) {\n  handle_clear_output(event, {cell: {output_area: handle.output_area}})\n  handle_add_output(event, handle)\n}\n\nfunction register_renderer(events, OutputArea) {\n  function append_mime(data, metadata, element) {\n    // create a DOM node to render to\n    var toinsert = this.create_output_subarea(\n    metadata,\n    CLASS_NAME,\n    EXEC_MIME_TYPE\n    );\n    this.keyboard_manager.register_events(toinsert);\n    // Render to node\n    var props = {data: data, metadata: metadata[EXEC_MIME_TYPE]};\n    render(props, toinsert[0]);\n    element.append(toinsert);\n    return toinsert\n  }\n\n  events.on('output_added.OutputArea', handle_add_output);\n  events.on('output_updated.OutputArea', handle_update_output);\n  events.on('clear_output.CodeCell', handle_clear_output);\n  events.on('delete.Cell', handle_clear_output);\n  events.on('kernel_ready.Kernel', handle_kernel_cleanup);\n\n  OutputArea.prototype.register_mime_type(EXEC_MIME_TYPE, append_mime, {\n    safe: true,\n    index: 0\n  });\n}\n\nif (window.Jupyter !== undefined) {\n  try {\n    var events = require('base/js/events');\n    var OutputArea = require('notebook/js/outputarea').OutputArea;\n    if (OutputArea.prototype.mime_types().indexOf(EXEC_MIME_TYPE) == -1) {\n      register_renderer(events, OutputArea);\n    }\n  } catch(err) {\n  }\n}\n"
     },
     "metadata": {},
     "output_type": "display_data"
    },
    {
     "data": {
      "text/html": [
       "<style>*[data-root-id],\n",
       "*[data-root-id] > * {\n",
       "  box-sizing: border-box;\n",
       "  font-family: var(--jp-ui-font-family);\n",
       "  font-size: var(--jp-ui-font-size1);\n",
       "  color: var(--vscode-editor-foreground, var(--jp-ui-font-color1));\n",
       "}\n",
       "\n",
       "/* Override VSCode background color */\n",
       ".cell-output-ipywidget-background:has(\n",
       "    > .cell-output-ipywidget-background > .lm-Widget > *[data-root-id]\n",
       "  ),\n",
       ".cell-output-ipywidget-background:has(> .lm-Widget > *[data-root-id]) {\n",
       "  background-color: transparent !important;\n",
       "}\n",
       "</style>"
      ]
     },
     "metadata": {},
     "output_type": "display_data"
    },
    {
     "data": {
      "application/vnd.holoviews_exec.v0+json": "",
      "text/html": [
       "<div id='p1002'>\n",
       "  <div id=\"e493001b-1962-4484-9fec-9f64589e3175\" data-root-id=\"p1002\" style=\"display: contents;\"></div>\n",
       "</div>\n",
       "<script type=\"application/javascript\">(function(root) {\n",
       "  var docs_json = {\"71e5ac0f-75c7-4103-aac8-fd4ada2bf8ab\":{\"version\":\"3.3.4\",\"title\":\"Bokeh Application\",\"roots\":[{\"type\":\"object\",\"name\":\"panel.models.browser.BrowserInfo\",\"id\":\"p1002\"},{\"type\":\"object\",\"name\":\"panel.models.comm_manager.CommManager\",\"id\":\"p1003\",\"attributes\":{\"plot_id\":\"p1002\",\"comm_id\":\"44746df6ea5a46d48b44891fbd8cd7e1\",\"client_comm_id\":\"8871ece995ca4c86ae031af3c30eb65a\"}}],\"defs\":[{\"type\":\"model\",\"name\":\"ReactiveHTML1\"},{\"type\":\"model\",\"name\":\"FlexBox1\",\"properties\":[{\"name\":\"align_content\",\"kind\":\"Any\",\"default\":\"flex-start\"},{\"name\":\"align_items\",\"kind\":\"Any\",\"default\":\"flex-start\"},{\"name\":\"flex_direction\",\"kind\":\"Any\",\"default\":\"row\"},{\"name\":\"flex_wrap\",\"kind\":\"Any\",\"default\":\"wrap\"},{\"name\":\"justify_content\",\"kind\":\"Any\",\"default\":\"flex-start\"}]},{\"type\":\"model\",\"name\":\"FloatPanel1\",\"properties\":[{\"name\":\"config\",\"kind\":\"Any\",\"default\":{\"type\":\"map\"}},{\"name\":\"contained\",\"kind\":\"Any\",\"default\":true},{\"name\":\"position\",\"kind\":\"Any\",\"default\":\"right-top\"},{\"name\":\"offsetx\",\"kind\":\"Any\",\"default\":null},{\"name\":\"offsety\",\"kind\":\"Any\",\"default\":null},{\"name\":\"theme\",\"kind\":\"Any\",\"default\":\"primary\"},{\"name\":\"status\",\"kind\":\"Any\",\"default\":\"normalized\"}]},{\"type\":\"model\",\"name\":\"GridStack1\",\"properties\":[{\"name\":\"mode\",\"kind\":\"Any\",\"default\":\"warn\"},{\"name\":\"ncols\",\"kind\":\"Any\",\"default\":null},{\"name\":\"nrows\",\"kind\":\"Any\",\"default\":null},{\"name\":\"allow_resize\",\"kind\":\"Any\",\"default\":true},{\"name\":\"allow_drag\",\"kind\":\"Any\",\"default\":true},{\"name\":\"state\",\"kind\":\"Any\",\"default\":[]}]},{\"type\":\"model\",\"name\":\"drag1\",\"properties\":[{\"name\":\"slider_width\",\"kind\":\"Any\",\"default\":5},{\"name\":\"slider_color\",\"kind\":\"Any\",\"default\":\"black\"},{\"name\":\"value\",\"kind\":\"Any\",\"default\":50}]},{\"type\":\"model\",\"name\":\"click1\",\"properties\":[{\"name\":\"terminal_output\",\"kind\":\"Any\",\"default\":\"\"},{\"name\":\"debug_name\",\"kind\":\"Any\",\"default\":\"\"},{\"name\":\"clears\",\"kind\":\"Any\",\"default\":0}]},{\"type\":\"model\",\"name\":\"copy_to_clipboard1\",\"properties\":[{\"name\":\"fill\",\"kind\":\"Any\",\"default\":\"none\"},{\"name\":\"value\",\"kind\":\"Any\",\"default\":null}]},{\"type\":\"model\",\"name\":\"FastWrapper1\",\"properties\":[{\"name\":\"object\",\"kind\":\"Any\",\"default\":null},{\"name\":\"style\",\"kind\":\"Any\",\"default\":null}]},{\"type\":\"model\",\"name\":\"NotificationAreaBase1\",\"properties\":[{\"name\":\"js_events\",\"kind\":\"Any\",\"default\":{\"type\":\"map\"}},{\"name\":\"position\",\"kind\":\"Any\",\"default\":\"bottom-right\"},{\"name\":\"_clear\",\"kind\":\"Any\",\"default\":0}]},{\"type\":\"model\",\"name\":\"NotificationArea1\",\"properties\":[{\"name\":\"js_events\",\"kind\":\"Any\",\"default\":{\"type\":\"map\"}},{\"name\":\"notifications\",\"kind\":\"Any\",\"default\":[]},{\"name\":\"position\",\"kind\":\"Any\",\"default\":\"bottom-right\"},{\"name\":\"_clear\",\"kind\":\"Any\",\"default\":0},{\"name\":\"types\",\"kind\":\"Any\",\"default\":[{\"type\":\"map\",\"entries\":[[\"type\",\"warning\"],[\"background\",\"#ffc107\"],[\"icon\",{\"type\":\"map\",\"entries\":[[\"className\",\"fas fa-exclamation-triangle\"],[\"tagName\",\"i\"],[\"color\",\"white\"]]}]]},{\"type\":\"map\",\"entries\":[[\"type\",\"info\"],[\"background\",\"#007bff\"],[\"icon\",{\"type\":\"map\",\"entries\":[[\"className\",\"fas fa-info-circle\"],[\"tagName\",\"i\"],[\"color\",\"white\"]]}]]}]}]},{\"type\":\"model\",\"name\":\"Notification\",\"properties\":[{\"name\":\"background\",\"kind\":\"Any\",\"default\":null},{\"name\":\"duration\",\"kind\":\"Any\",\"default\":3000},{\"name\":\"icon\",\"kind\":\"Any\",\"default\":null},{\"name\":\"message\",\"kind\":\"Any\",\"default\":\"\"},{\"name\":\"notification_type\",\"kind\":\"Any\",\"default\":null},{\"name\":\"_destroyed\",\"kind\":\"Any\",\"default\":false}]},{\"type\":\"model\",\"name\":\"TemplateActions1\",\"properties\":[{\"name\":\"open_modal\",\"kind\":\"Any\",\"default\":0},{\"name\":\"close_modal\",\"kind\":\"Any\",\"default\":0}]},{\"type\":\"model\",\"name\":\"BootstrapTemplateActions1\",\"properties\":[{\"name\":\"open_modal\",\"kind\":\"Any\",\"default\":0},{\"name\":\"close_modal\",\"kind\":\"Any\",\"default\":0}]},{\"type\":\"model\",\"name\":\"MaterialTemplateActions1\",\"properties\":[{\"name\":\"open_modal\",\"kind\":\"Any\",\"default\":0},{\"name\":\"close_modal\",\"kind\":\"Any\",\"default\":0}]}]}};\n",
       "  var render_items = [{\"docid\":\"71e5ac0f-75c7-4103-aac8-fd4ada2bf8ab\",\"roots\":{\"p1002\":\"e493001b-1962-4484-9fec-9f64589e3175\"},\"root_ids\":[\"p1002\"]}];\n",
       "  var docs = Object.values(docs_json)\n",
       "  if (!docs) {\n",
       "    return\n",
       "  }\n",
       "  const py_version = docs[0].version.replace('rc', '-rc.').replace('.dev', '-dev.')\n",
       "  function embed_document(root) {\n",
       "    var Bokeh = get_bokeh(root)\n",
       "    Bokeh.embed.embed_items_notebook(docs_json, render_items);\n",
       "    for (const render_item of render_items) {\n",
       "      for (const root_id of render_item.root_ids) {\n",
       "\tconst id_el = document.getElementById(root_id)\n",
       "\tif (id_el.children.length && (id_el.children[0].className === 'bk-root')) {\n",
       "\t  const root_el = id_el.children[0]\n",
       "\t  root_el.id = root_el.id + '-rendered'\n",
       "\t}\n",
       "      }\n",
       "    }\n",
       "  }\n",
       "  function get_bokeh(root) {\n",
       "    if (root.Bokeh === undefined) {\n",
       "      return null\n",
       "    } else if (root.Bokeh.version !== py_version) {\n",
       "      if (root.Bokeh.versions === undefined || !root.Bokeh.versions.has(py_version)) {\n",
       "\treturn null\n",
       "      }\n",
       "      return root.Bokeh.versions.get(py_version);\n",
       "    } else if (root.Bokeh.version === py_version) {\n",
       "      return root.Bokeh\n",
       "    }\n",
       "    return null\n",
       "  }\n",
       "  function is_loaded(root) {\n",
       "    var Bokeh = get_bokeh(root)\n",
       "    return (Bokeh != null && Bokeh.Panel !== undefined)\n",
       "  }\n",
       "  if (is_loaded(root)) {\n",
       "    embed_document(root);\n",
       "  } else {\n",
       "    var attempts = 0;\n",
       "    var timer = setInterval(function(root) {\n",
       "      if (is_loaded(root)) {\n",
       "        clearInterval(timer);\n",
       "        embed_document(root);\n",
       "      } else if (document.readyState == \"complete\") {\n",
       "        attempts++;\n",
       "        if (attempts > 200) {\n",
       "          clearInterval(timer);\n",
       "\t  var Bokeh = get_bokeh(root)\n",
       "\t  if (Bokeh == null || Bokeh.Panel == null) {\n",
       "            console.warn(\"Panel: ERROR: Unable to run Panel code because Bokeh or Panel library is missing\");\n",
       "\t  } else {\n",
       "\t    console.warn(\"Panel: WARNING: Attempting to render but not all required libraries could be resolved.\")\n",
       "\t    embed_document(root)\n",
       "\t  }\n",
       "        }\n",
       "      }\n",
       "    }, 25, root)\n",
       "  }\n",
       "})(window);</script>"
      ]
     },
     "metadata": {
      "application/vnd.holoviews_exec.v0+json": {
       "id": "p1002"
      }
     },
     "output_type": "display_data"
    }
   ],
   "source": [
    "#*******************************************************************************************\n",
    " #\n",
    " #  File Name:  spam_detector.ipynb\n",
    " #\n",
    " #  File Description:\n",
    " #      This interactive Python notebook, spam_detector.ipynb, reads a csv file, \n",
    " #      spam-data.csv and uses Python and scikit-learn module to find the best \n",
    " #      supervised learning model (binary classification) for detecting spam in \n",
    " #      e-mails. Here is a list of the models:\n",
    " #\n",
    " #      logistic regression\n",
    " #      decision tree\n",
    " #      random forest\n",
    " #      support vector machine\n",
    " #      k-nearest neighbor\n",
    " #      gaussian naive bayes\n",
    " #\n",
    " #\n",
    " #  Date            Description                             Programmer\n",
    " #  ----------      ------------------------------------    ------------------\n",
    " #  04/22/2024      Initial Development                     Nicholas J. George\n",
    " #\n",
    " #******************************************************************************************/\n",
    "\n",
    "import classificationsx\n",
    "import logx\n",
    "import pandas_processx\n",
    "import spam_detector_constants\n",
    "\n",
    "import pickle\n",
    "\n",
    "import numpy as np\n",
    "import pandas as pd\n",
    "\n",
    "from imblearn.combine import SMOTEENN\n",
    "from imblearn.over_sampling import RandomOverSampler\n",
    "from imblearn.over_sampling import SMOTE\n",
    "from imblearn.under_sampling import ClusterCentroids\n",
    "from imblearn.under_sampling import RandomUnderSampler\n",
    "\n",
    "from sklearn.cluster import KMeans\n",
    "from sklearn.linear_model import LogisticRegression\n",
    "from sklearn.tree import DecisionTreeClassifier\n",
    "from sklearn.ensemble import RandomForestClassifier\n",
    "from sklearn.svm import SVC\n",
    "from sklearn.neighbors import KNeighborsClassifier\n",
    "from sklearn.naive_bayes import GaussianNB\n",
    "\n",
    "from sklearn.model_selection import GridSearchCV\n",
    "from sklearn.model_selection import train_test_split\n",
    "from sklearn.metrics import accuracy_score\n",
    "from sklearn.preprocessing import StandardScaler"
   ]
  },
  {
   "cell_type": "code",
   "execution_count": 2,
   "metadata": {},
   "outputs": [],
   "source": [
    "CONSTANT_LOCAL_FILE_NAME = 'spam_detector.ipynb'\n",
    "\n",
    "\n",
    "logx.set_log_mode(False)\n",
    "\n",
    "logx.set_image_mode(False)\n",
    "\n",
    "\n",
    "logx.begin_program('spam_detector')"
   ]
  },
  {
   "cell_type": "markdown",
   "metadata": {},
   "source": [
    "# <br> **Section 1: Extraction and Transformation**"
   ]
  },
  {
   "cell_type": "markdown",
   "metadata": {},
   "source": [
    "## **1.1: Read the CSV data into a Pandas DataFrame**"
   ]
  },
  {
   "cell_type": "code",
   "execution_count": 3,
   "metadata": {},
   "outputs": [],
   "source": [
    "data_type_dictionary \\\n",
    "    = {'word_freq_make': float,\n",
    "       'word_freq_address': float,\n",
    "       'word_freq_all': float,\n",
    "       'word_freq_3d': float,\n",
    "       'word_freq_our': float,\n",
    "       'word_freq_over': float,\n",
    "       'word_freq_remove': float,\n",
    "       'word_freq_internet': float,\n",
    "       'word_freq_order': float,\n",
    "       'word_freq_mail': float,\n",
    "       'word_freq_receive': float,\n",
    "       'word_freq_will': float,\n",
    "       'word_freq_people': float,\n",
    "       'word_freq_report': float,\n",
    "       'word_freq_addresses': float,\n",
    "       'word_freq_free': float,\n",
    "       'word_freq_business': float,\n",
    "       'word_freq_email': float,\n",
    "       'word_freq_you': float,\n",
    "       'word_freq_credit': float,\n",
    "       'word_freq_your': float,\n",
    "       'word_freq_font': float,\n",
    "       'word_freq_000': float,\n",
    "       'word_freq_money': float,\n",
    "       'word_freq_hp': float,\n",
    "       'word_freq_hpl': float,\n",
    "       'word_freq_george': float,\n",
    "       'word_freq_650': float,\n",
    "       'word_freq_lab': float,\n",
    "       'word_freq_labs': float,\n",
    "       'word_freq_telnet': float,\n",
    "       'word_freq_857': float,\n",
    "       'word_freq_data': float,\n",
    "       'word_freq_415': float,\n",
    "       'word_freq_85': float,\n",
    "       'word_freq_technology': float,\n",
    "       'word_freq_1999': float,\n",
    "       'word_freq_parts': float,\n",
    "       'word_freq_pm': float,\n",
    "       'word_freq_direct': float,\n",
    "       'word_freq_cs': float,\n",
    "       'word_freq_meeting': float,\n",
    "       'word_freq_original': float,\n",
    "       'word_freq_project': float,\n",
    "       'word_freq_re': float,\n",
    "       'word_freq_edu': float,\n",
    "       'word_freq_table': float,\n",
    "       'word_freq_conference': float,\n",
    "       'char_freq_;': float,\n",
    "       'char_freq_(': float,\n",
    "       'char_freq_[': float,\n",
    "       'char_freq_!': float,\n",
    "       'char_freq_$': float,\n",
    "       'char_freq_#': float,\n",
    "       'capital_run_length_average': float,\n",
    "       'capital_run_length_longest': int,\n",
    "       'capital_run_length_total': int,\n",
    "       'spam': int}\n",
    "\n",
    "spam_dataframe \\\n",
    "    = pd.read_csv(spam_detector_constants.CONSTANT_INPUT_FILE_PATH, dtype = data_type_dictionary)\n",
    "\n",
    "logx.log_write_object(spam_dataframe)"
   ]
  },
  {
   "cell_type": "markdown",
   "metadata": {},
   "source": [
    "## **1.2: Display Spam DataFrame**"
   ]
  },
  {
   "cell_type": "code",
   "execution_count": 4,
   "metadata": {},
   "outputs": [
    {
     "data": {
      "text/html": [
       "<style type=\"text/css\">\n",
       "#T_44871 caption {\n",
       "  color: black;\n",
       "  font-size: 20px;\n",
       "  font-style: bold;\n",
       "  text-align: center;\n",
       "}\n",
       "#T_44871_row0_col0, #T_44871_row0_col1, #T_44871_row0_col2, #T_44871_row0_col3, #T_44871_row0_col4, #T_44871_row0_col5, #T_44871_row0_col6, #T_44871_row0_col7, #T_44871_row0_col8, #T_44871_row0_col9, #T_44871_row0_col10, #T_44871_row0_col11, #T_44871_row0_col12, #T_44871_row0_col13, #T_44871_row0_col14, #T_44871_row0_col15, #T_44871_row0_col16, #T_44871_row0_col17, #T_44871_row0_col18, #T_44871_row0_col19, #T_44871_row0_col20, #T_44871_row0_col21, #T_44871_row0_col22, #T_44871_row0_col23, #T_44871_row0_col24, #T_44871_row0_col25, #T_44871_row0_col26, #T_44871_row0_col27, #T_44871_row0_col28, #T_44871_row0_col29, #T_44871_row0_col30, #T_44871_row0_col31, #T_44871_row0_col32, #T_44871_row0_col33, #T_44871_row0_col34, #T_44871_row0_col35, #T_44871_row0_col36, #T_44871_row0_col37, #T_44871_row0_col38, #T_44871_row0_col39, #T_44871_row0_col40, #T_44871_row0_col41, #T_44871_row0_col42, #T_44871_row0_col43, #T_44871_row0_col44, #T_44871_row0_col45, #T_44871_row0_col46, #T_44871_row0_col47, #T_44871_row0_col48, #T_44871_row0_col49, #T_44871_row0_col50, #T_44871_row0_col51, #T_44871_row0_col52, #T_44871_row0_col53, #T_44871_row0_col54, #T_44871_row0_col55, #T_44871_row0_col56, #T_44871_row0_col57, #T_44871_row1_col0, #T_44871_row1_col1, #T_44871_row1_col2, #T_44871_row1_col3, #T_44871_row1_col4, #T_44871_row1_col5, #T_44871_row1_col6, #T_44871_row1_col7, #T_44871_row1_col8, #T_44871_row1_col9, #T_44871_row1_col10, #T_44871_row1_col11, #T_44871_row1_col12, #T_44871_row1_col13, #T_44871_row1_col14, #T_44871_row1_col15, #T_44871_row1_col16, #T_44871_row1_col17, #T_44871_row1_col18, #T_44871_row1_col19, #T_44871_row1_col20, #T_44871_row1_col21, #T_44871_row1_col22, #T_44871_row1_col23, #T_44871_row1_col24, #T_44871_row1_col25, #T_44871_row1_col26, #T_44871_row1_col27, #T_44871_row1_col28, #T_44871_row1_col29, #T_44871_row1_col30, #T_44871_row1_col31, #T_44871_row1_col32, #T_44871_row1_col33, #T_44871_row1_col34, #T_44871_row1_col35, #T_44871_row1_col36, #T_44871_row1_col37, #T_44871_row1_col38, #T_44871_row1_col39, #T_44871_row1_col40, #T_44871_row1_col41, #T_44871_row1_col42, #T_44871_row1_col43, #T_44871_row1_col44, #T_44871_row1_col45, #T_44871_row1_col46, #T_44871_row1_col47, #T_44871_row1_col48, #T_44871_row1_col49, #T_44871_row1_col50, #T_44871_row1_col51, #T_44871_row1_col52, #T_44871_row1_col53, #T_44871_row1_col54, #T_44871_row1_col55, #T_44871_row1_col56, #T_44871_row1_col57, #T_44871_row2_col0, #T_44871_row2_col1, #T_44871_row2_col2, #T_44871_row2_col3, #T_44871_row2_col4, #T_44871_row2_col5, #T_44871_row2_col6, #T_44871_row2_col7, #T_44871_row2_col8, #T_44871_row2_col9, #T_44871_row2_col10, #T_44871_row2_col11, #T_44871_row2_col12, #T_44871_row2_col13, #T_44871_row2_col14, #T_44871_row2_col15, #T_44871_row2_col16, #T_44871_row2_col17, #T_44871_row2_col18, #T_44871_row2_col19, #T_44871_row2_col20, #T_44871_row2_col21, #T_44871_row2_col22, #T_44871_row2_col23, #T_44871_row2_col24, #T_44871_row2_col25, #T_44871_row2_col26, #T_44871_row2_col27, #T_44871_row2_col28, #T_44871_row2_col29, #T_44871_row2_col30, #T_44871_row2_col31, #T_44871_row2_col32, #T_44871_row2_col33, #T_44871_row2_col34, #T_44871_row2_col35, #T_44871_row2_col36, #T_44871_row2_col37, #T_44871_row2_col38, #T_44871_row2_col39, #T_44871_row2_col40, #T_44871_row2_col41, #T_44871_row2_col42, #T_44871_row2_col43, #T_44871_row2_col44, #T_44871_row2_col45, #T_44871_row2_col46, #T_44871_row2_col47, #T_44871_row2_col48, #T_44871_row2_col49, #T_44871_row2_col50, #T_44871_row2_col51, #T_44871_row2_col52, #T_44871_row2_col53, #T_44871_row2_col54, #T_44871_row2_col55, #T_44871_row2_col56, #T_44871_row2_col57, #T_44871_row3_col0, #T_44871_row3_col1, #T_44871_row3_col2, #T_44871_row3_col3, #T_44871_row3_col4, #T_44871_row3_col5, #T_44871_row3_col6, #T_44871_row3_col7, #T_44871_row3_col8, #T_44871_row3_col9, #T_44871_row3_col10, #T_44871_row3_col11, #T_44871_row3_col12, #T_44871_row3_col13, #T_44871_row3_col14, #T_44871_row3_col15, #T_44871_row3_col16, #T_44871_row3_col17, #T_44871_row3_col18, #T_44871_row3_col19, #T_44871_row3_col20, #T_44871_row3_col21, #T_44871_row3_col22, #T_44871_row3_col23, #T_44871_row3_col24, #T_44871_row3_col25, #T_44871_row3_col26, #T_44871_row3_col27, #T_44871_row3_col28, #T_44871_row3_col29, #T_44871_row3_col30, #T_44871_row3_col31, #T_44871_row3_col32, #T_44871_row3_col33, #T_44871_row3_col34, #T_44871_row3_col35, #T_44871_row3_col36, #T_44871_row3_col37, #T_44871_row3_col38, #T_44871_row3_col39, #T_44871_row3_col40, #T_44871_row3_col41, #T_44871_row3_col42, #T_44871_row3_col43, #T_44871_row3_col44, #T_44871_row3_col45, #T_44871_row3_col46, #T_44871_row3_col47, #T_44871_row3_col48, #T_44871_row3_col49, #T_44871_row3_col50, #T_44871_row3_col51, #T_44871_row3_col52, #T_44871_row3_col53, #T_44871_row3_col54, #T_44871_row3_col55, #T_44871_row3_col56, #T_44871_row3_col57, #T_44871_row4_col0, #T_44871_row4_col1, #T_44871_row4_col2, #T_44871_row4_col3, #T_44871_row4_col4, #T_44871_row4_col5, #T_44871_row4_col6, #T_44871_row4_col7, #T_44871_row4_col8, #T_44871_row4_col9, #T_44871_row4_col10, #T_44871_row4_col11, #T_44871_row4_col12, #T_44871_row4_col13, #T_44871_row4_col14, #T_44871_row4_col15, #T_44871_row4_col16, #T_44871_row4_col17, #T_44871_row4_col18, #T_44871_row4_col19, #T_44871_row4_col20, #T_44871_row4_col21, #T_44871_row4_col22, #T_44871_row4_col23, #T_44871_row4_col24, #T_44871_row4_col25, #T_44871_row4_col26, #T_44871_row4_col27, #T_44871_row4_col28, #T_44871_row4_col29, #T_44871_row4_col30, #T_44871_row4_col31, #T_44871_row4_col32, #T_44871_row4_col33, #T_44871_row4_col34, #T_44871_row4_col35, #T_44871_row4_col36, #T_44871_row4_col37, #T_44871_row4_col38, #T_44871_row4_col39, #T_44871_row4_col40, #T_44871_row4_col41, #T_44871_row4_col42, #T_44871_row4_col43, #T_44871_row4_col44, #T_44871_row4_col45, #T_44871_row4_col46, #T_44871_row4_col47, #T_44871_row4_col48, #T_44871_row4_col49, #T_44871_row4_col50, #T_44871_row4_col51, #T_44871_row4_col52, #T_44871_row4_col53, #T_44871_row4_col54, #T_44871_row4_col55, #T_44871_row4_col56, #T_44871_row4_col57, #T_44871_row5_col0, #T_44871_row5_col1, #T_44871_row5_col2, #T_44871_row5_col3, #T_44871_row5_col4, #T_44871_row5_col5, #T_44871_row5_col6, #T_44871_row5_col7, #T_44871_row5_col8, #T_44871_row5_col9, #T_44871_row5_col10, #T_44871_row5_col11, #T_44871_row5_col12, #T_44871_row5_col13, #T_44871_row5_col14, #T_44871_row5_col15, #T_44871_row5_col16, #T_44871_row5_col17, #T_44871_row5_col18, #T_44871_row5_col19, #T_44871_row5_col20, #T_44871_row5_col21, #T_44871_row5_col22, #T_44871_row5_col23, #T_44871_row5_col24, #T_44871_row5_col25, #T_44871_row5_col26, #T_44871_row5_col27, #T_44871_row5_col28, #T_44871_row5_col29, #T_44871_row5_col30, #T_44871_row5_col31, #T_44871_row5_col32, #T_44871_row5_col33, #T_44871_row5_col34, #T_44871_row5_col35, #T_44871_row5_col36, #T_44871_row5_col37, #T_44871_row5_col38, #T_44871_row5_col39, #T_44871_row5_col40, #T_44871_row5_col41, #T_44871_row5_col42, #T_44871_row5_col43, #T_44871_row5_col44, #T_44871_row5_col45, #T_44871_row5_col46, #T_44871_row5_col47, #T_44871_row5_col48, #T_44871_row5_col49, #T_44871_row5_col50, #T_44871_row5_col51, #T_44871_row5_col52, #T_44871_row5_col53, #T_44871_row5_col54, #T_44871_row5_col55, #T_44871_row5_col56, #T_44871_row5_col57, #T_44871_row6_col0, #T_44871_row6_col1, #T_44871_row6_col2, #T_44871_row6_col3, #T_44871_row6_col4, #T_44871_row6_col5, #T_44871_row6_col6, #T_44871_row6_col7, #T_44871_row6_col8, #T_44871_row6_col9, #T_44871_row6_col10, #T_44871_row6_col11, #T_44871_row6_col12, #T_44871_row6_col13, #T_44871_row6_col14, #T_44871_row6_col15, #T_44871_row6_col16, #T_44871_row6_col17, #T_44871_row6_col18, #T_44871_row6_col19, #T_44871_row6_col20, #T_44871_row6_col21, #T_44871_row6_col22, #T_44871_row6_col23, #T_44871_row6_col24, #T_44871_row6_col25, #T_44871_row6_col26, #T_44871_row6_col27, #T_44871_row6_col28, #T_44871_row6_col29, #T_44871_row6_col30, #T_44871_row6_col31, #T_44871_row6_col32, #T_44871_row6_col33, #T_44871_row6_col34, #T_44871_row6_col35, #T_44871_row6_col36, #T_44871_row6_col37, #T_44871_row6_col38, #T_44871_row6_col39, #T_44871_row6_col40, #T_44871_row6_col41, #T_44871_row6_col42, #T_44871_row6_col43, #T_44871_row6_col44, #T_44871_row6_col45, #T_44871_row6_col46, #T_44871_row6_col47, #T_44871_row6_col48, #T_44871_row6_col49, #T_44871_row6_col50, #T_44871_row6_col51, #T_44871_row6_col52, #T_44871_row6_col53, #T_44871_row6_col54, #T_44871_row6_col55, #T_44871_row6_col56, #T_44871_row6_col57, #T_44871_row7_col0, #T_44871_row7_col1, #T_44871_row7_col2, #T_44871_row7_col3, #T_44871_row7_col4, #T_44871_row7_col5, #T_44871_row7_col6, #T_44871_row7_col7, #T_44871_row7_col8, #T_44871_row7_col9, #T_44871_row7_col10, #T_44871_row7_col11, #T_44871_row7_col12, #T_44871_row7_col13, #T_44871_row7_col14, #T_44871_row7_col15, #T_44871_row7_col16, #T_44871_row7_col17, #T_44871_row7_col18, #T_44871_row7_col19, #T_44871_row7_col20, #T_44871_row7_col21, #T_44871_row7_col22, #T_44871_row7_col23, #T_44871_row7_col24, #T_44871_row7_col25, #T_44871_row7_col26, #T_44871_row7_col27, #T_44871_row7_col28, #T_44871_row7_col29, #T_44871_row7_col30, #T_44871_row7_col31, #T_44871_row7_col32, #T_44871_row7_col33, #T_44871_row7_col34, #T_44871_row7_col35, #T_44871_row7_col36, #T_44871_row7_col37, #T_44871_row7_col38, #T_44871_row7_col39, #T_44871_row7_col40, #T_44871_row7_col41, #T_44871_row7_col42, #T_44871_row7_col43, #T_44871_row7_col44, #T_44871_row7_col45, #T_44871_row7_col46, #T_44871_row7_col47, #T_44871_row7_col48, #T_44871_row7_col49, #T_44871_row7_col50, #T_44871_row7_col51, #T_44871_row7_col52, #T_44871_row7_col53, #T_44871_row7_col54, #T_44871_row7_col55, #T_44871_row7_col56, #T_44871_row7_col57, #T_44871_row8_col0, #T_44871_row8_col1, #T_44871_row8_col2, #T_44871_row8_col3, #T_44871_row8_col4, #T_44871_row8_col5, #T_44871_row8_col6, #T_44871_row8_col7, #T_44871_row8_col8, #T_44871_row8_col9, #T_44871_row8_col10, #T_44871_row8_col11, #T_44871_row8_col12, #T_44871_row8_col13, #T_44871_row8_col14, #T_44871_row8_col15, #T_44871_row8_col16, #T_44871_row8_col17, #T_44871_row8_col18, #T_44871_row8_col19, #T_44871_row8_col20, #T_44871_row8_col21, #T_44871_row8_col22, #T_44871_row8_col23, #T_44871_row8_col24, #T_44871_row8_col25, #T_44871_row8_col26, #T_44871_row8_col27, #T_44871_row8_col28, #T_44871_row8_col29, #T_44871_row8_col30, #T_44871_row8_col31, #T_44871_row8_col32, #T_44871_row8_col33, #T_44871_row8_col34, #T_44871_row8_col35, #T_44871_row8_col36, #T_44871_row8_col37, #T_44871_row8_col38, #T_44871_row8_col39, #T_44871_row8_col40, #T_44871_row8_col41, #T_44871_row8_col42, #T_44871_row8_col43, #T_44871_row8_col44, #T_44871_row8_col45, #T_44871_row8_col46, #T_44871_row8_col47, #T_44871_row8_col48, #T_44871_row8_col49, #T_44871_row8_col50, #T_44871_row8_col51, #T_44871_row8_col52, #T_44871_row8_col53, #T_44871_row8_col54, #T_44871_row8_col55, #T_44871_row8_col56, #T_44871_row8_col57, #T_44871_row9_col0, #T_44871_row9_col1, #T_44871_row9_col2, #T_44871_row9_col3, #T_44871_row9_col4, #T_44871_row9_col5, #T_44871_row9_col6, #T_44871_row9_col7, #T_44871_row9_col8, #T_44871_row9_col9, #T_44871_row9_col10, #T_44871_row9_col11, #T_44871_row9_col12, #T_44871_row9_col13, #T_44871_row9_col14, #T_44871_row9_col15, #T_44871_row9_col16, #T_44871_row9_col17, #T_44871_row9_col18, #T_44871_row9_col19, #T_44871_row9_col20, #T_44871_row9_col21, #T_44871_row9_col22, #T_44871_row9_col23, #T_44871_row9_col24, #T_44871_row9_col25, #T_44871_row9_col26, #T_44871_row9_col27, #T_44871_row9_col28, #T_44871_row9_col29, #T_44871_row9_col30, #T_44871_row9_col31, #T_44871_row9_col32, #T_44871_row9_col33, #T_44871_row9_col34, #T_44871_row9_col35, #T_44871_row9_col36, #T_44871_row9_col37, #T_44871_row9_col38, #T_44871_row9_col39, #T_44871_row9_col40, #T_44871_row9_col41, #T_44871_row9_col42, #T_44871_row9_col43, #T_44871_row9_col44, #T_44871_row9_col45, #T_44871_row9_col46, #T_44871_row9_col47, #T_44871_row9_col48, #T_44871_row9_col49, #T_44871_row9_col50, #T_44871_row9_col51, #T_44871_row9_col52, #T_44871_row9_col53, #T_44871_row9_col54, #T_44871_row9_col55, #T_44871_row9_col56, #T_44871_row9_col57 {\n",
       "  text-align: center;\n",
       "  border: 1.3px solid red;\n",
       "  color: blue;\n",
       "}\n",
       "</style>\n",
       "<table id=\"T_44871\">\n",
       "  <caption>Table 1.2: Spam Data Table</caption>\n",
       "  <thead>\n",
       "    <tr>\n",
       "      <th id=\"T_44871_level0_col0\" class=\"col_heading level0 col0\" >word_freq_make</th>\n",
       "      <th id=\"T_44871_level0_col1\" class=\"col_heading level0 col1\" >word_freq_address</th>\n",
       "      <th id=\"T_44871_level0_col2\" class=\"col_heading level0 col2\" >word_freq_all</th>\n",
       "      <th id=\"T_44871_level0_col3\" class=\"col_heading level0 col3\" >word_freq_3d</th>\n",
       "      <th id=\"T_44871_level0_col4\" class=\"col_heading level0 col4\" >word_freq_our</th>\n",
       "      <th id=\"T_44871_level0_col5\" class=\"col_heading level0 col5\" >word_freq_over</th>\n",
       "      <th id=\"T_44871_level0_col6\" class=\"col_heading level0 col6\" >word_freq_remove</th>\n",
       "      <th id=\"T_44871_level0_col7\" class=\"col_heading level0 col7\" >word_freq_internet</th>\n",
       "      <th id=\"T_44871_level0_col8\" class=\"col_heading level0 col8\" >word_freq_order</th>\n",
       "      <th id=\"T_44871_level0_col9\" class=\"col_heading level0 col9\" >word_freq_mail</th>\n",
       "      <th id=\"T_44871_level0_col10\" class=\"col_heading level0 col10\" >word_freq_receive</th>\n",
       "      <th id=\"T_44871_level0_col11\" class=\"col_heading level0 col11\" >word_freq_will</th>\n",
       "      <th id=\"T_44871_level0_col12\" class=\"col_heading level0 col12\" >word_freq_people</th>\n",
       "      <th id=\"T_44871_level0_col13\" class=\"col_heading level0 col13\" >word_freq_report</th>\n",
       "      <th id=\"T_44871_level0_col14\" class=\"col_heading level0 col14\" >word_freq_addresses</th>\n",
       "      <th id=\"T_44871_level0_col15\" class=\"col_heading level0 col15\" >word_freq_free</th>\n",
       "      <th id=\"T_44871_level0_col16\" class=\"col_heading level0 col16\" >word_freq_business</th>\n",
       "      <th id=\"T_44871_level0_col17\" class=\"col_heading level0 col17\" >word_freq_email</th>\n",
       "      <th id=\"T_44871_level0_col18\" class=\"col_heading level0 col18\" >word_freq_you</th>\n",
       "      <th id=\"T_44871_level0_col19\" class=\"col_heading level0 col19\" >word_freq_credit</th>\n",
       "      <th id=\"T_44871_level0_col20\" class=\"col_heading level0 col20\" >word_freq_your</th>\n",
       "      <th id=\"T_44871_level0_col21\" class=\"col_heading level0 col21\" >word_freq_font</th>\n",
       "      <th id=\"T_44871_level0_col22\" class=\"col_heading level0 col22\" >word_freq_000</th>\n",
       "      <th id=\"T_44871_level0_col23\" class=\"col_heading level0 col23\" >word_freq_money</th>\n",
       "      <th id=\"T_44871_level0_col24\" class=\"col_heading level0 col24\" >word_freq_hp</th>\n",
       "      <th id=\"T_44871_level0_col25\" class=\"col_heading level0 col25\" >word_freq_hpl</th>\n",
       "      <th id=\"T_44871_level0_col26\" class=\"col_heading level0 col26\" >word_freq_george</th>\n",
       "      <th id=\"T_44871_level0_col27\" class=\"col_heading level0 col27\" >word_freq_650</th>\n",
       "      <th id=\"T_44871_level0_col28\" class=\"col_heading level0 col28\" >word_freq_lab</th>\n",
       "      <th id=\"T_44871_level0_col29\" class=\"col_heading level0 col29\" >word_freq_labs</th>\n",
       "      <th id=\"T_44871_level0_col30\" class=\"col_heading level0 col30\" >word_freq_telnet</th>\n",
       "      <th id=\"T_44871_level0_col31\" class=\"col_heading level0 col31\" >word_freq_857</th>\n",
       "      <th id=\"T_44871_level0_col32\" class=\"col_heading level0 col32\" >word_freq_data</th>\n",
       "      <th id=\"T_44871_level0_col33\" class=\"col_heading level0 col33\" >word_freq_415</th>\n",
       "      <th id=\"T_44871_level0_col34\" class=\"col_heading level0 col34\" >word_freq_85</th>\n",
       "      <th id=\"T_44871_level0_col35\" class=\"col_heading level0 col35\" >word_freq_technology</th>\n",
       "      <th id=\"T_44871_level0_col36\" class=\"col_heading level0 col36\" >word_freq_1999</th>\n",
       "      <th id=\"T_44871_level0_col37\" class=\"col_heading level0 col37\" >word_freq_parts</th>\n",
       "      <th id=\"T_44871_level0_col38\" class=\"col_heading level0 col38\" >word_freq_pm</th>\n",
       "      <th id=\"T_44871_level0_col39\" class=\"col_heading level0 col39\" >word_freq_direct</th>\n",
       "      <th id=\"T_44871_level0_col40\" class=\"col_heading level0 col40\" >word_freq_cs</th>\n",
       "      <th id=\"T_44871_level0_col41\" class=\"col_heading level0 col41\" >word_freq_meeting</th>\n",
       "      <th id=\"T_44871_level0_col42\" class=\"col_heading level0 col42\" >word_freq_original</th>\n",
       "      <th id=\"T_44871_level0_col43\" class=\"col_heading level0 col43\" >word_freq_project</th>\n",
       "      <th id=\"T_44871_level0_col44\" class=\"col_heading level0 col44\" >word_freq_re</th>\n",
       "      <th id=\"T_44871_level0_col45\" class=\"col_heading level0 col45\" >word_freq_edu</th>\n",
       "      <th id=\"T_44871_level0_col46\" class=\"col_heading level0 col46\" >word_freq_table</th>\n",
       "      <th id=\"T_44871_level0_col47\" class=\"col_heading level0 col47\" >word_freq_conference</th>\n",
       "      <th id=\"T_44871_level0_col48\" class=\"col_heading level0 col48\" >char_freq_;</th>\n",
       "      <th id=\"T_44871_level0_col49\" class=\"col_heading level0 col49\" >char_freq_(</th>\n",
       "      <th id=\"T_44871_level0_col50\" class=\"col_heading level0 col50\" >char_freq_[</th>\n",
       "      <th id=\"T_44871_level0_col51\" class=\"col_heading level0 col51\" >char_freq_!</th>\n",
       "      <th id=\"T_44871_level0_col52\" class=\"col_heading level0 col52\" >char_freq_$</th>\n",
       "      <th id=\"T_44871_level0_col53\" class=\"col_heading level0 col53\" >char_freq_#</th>\n",
       "      <th id=\"T_44871_level0_col54\" class=\"col_heading level0 col54\" >capital_run_length_average</th>\n",
       "      <th id=\"T_44871_level0_col55\" class=\"col_heading level0 col55\" >capital_run_length_longest</th>\n",
       "      <th id=\"T_44871_level0_col56\" class=\"col_heading level0 col56\" >capital_run_length_total</th>\n",
       "      <th id=\"T_44871_level0_col57\" class=\"col_heading level0 col57\" >spam</th>\n",
       "    </tr>\n",
       "  </thead>\n",
       "  <tbody>\n",
       "    <tr>\n",
       "      <td id=\"T_44871_row0_col0\" class=\"data row0 col0\" >0.00</td>\n",
       "      <td id=\"T_44871_row0_col1\" class=\"data row0 col1\" >0.64</td>\n",
       "      <td id=\"T_44871_row0_col2\" class=\"data row0 col2\" >0.64</td>\n",
       "      <td id=\"T_44871_row0_col3\" class=\"data row0 col3\" >0.00</td>\n",
       "      <td id=\"T_44871_row0_col4\" class=\"data row0 col4\" >0.32</td>\n",
       "      <td id=\"T_44871_row0_col5\" class=\"data row0 col5\" >0.00</td>\n",
       "      <td id=\"T_44871_row0_col6\" class=\"data row0 col6\" >0.00</td>\n",
       "      <td id=\"T_44871_row0_col7\" class=\"data row0 col7\" >0.00</td>\n",
       "      <td id=\"T_44871_row0_col8\" class=\"data row0 col8\" >0.00</td>\n",
       "      <td id=\"T_44871_row0_col9\" class=\"data row0 col9\" >0.00</td>\n",
       "      <td id=\"T_44871_row0_col10\" class=\"data row0 col10\" >0.00</td>\n",
       "      <td id=\"T_44871_row0_col11\" class=\"data row0 col11\" >0.64</td>\n",
       "      <td id=\"T_44871_row0_col12\" class=\"data row0 col12\" >0.00</td>\n",
       "      <td id=\"T_44871_row0_col13\" class=\"data row0 col13\" >0.00</td>\n",
       "      <td id=\"T_44871_row0_col14\" class=\"data row0 col14\" >0.00</td>\n",
       "      <td id=\"T_44871_row0_col15\" class=\"data row0 col15\" >0.32</td>\n",
       "      <td id=\"T_44871_row0_col16\" class=\"data row0 col16\" >0.00</td>\n",
       "      <td id=\"T_44871_row0_col17\" class=\"data row0 col17\" >1.29</td>\n",
       "      <td id=\"T_44871_row0_col18\" class=\"data row0 col18\" >1.93</td>\n",
       "      <td id=\"T_44871_row0_col19\" class=\"data row0 col19\" >0.00</td>\n",
       "      <td id=\"T_44871_row0_col20\" class=\"data row0 col20\" >0.96</td>\n",
       "      <td id=\"T_44871_row0_col21\" class=\"data row0 col21\" >0.00</td>\n",
       "      <td id=\"T_44871_row0_col22\" class=\"data row0 col22\" >0.00</td>\n",
       "      <td id=\"T_44871_row0_col23\" class=\"data row0 col23\" >0.00</td>\n",
       "      <td id=\"T_44871_row0_col24\" class=\"data row0 col24\" >0.00</td>\n",
       "      <td id=\"T_44871_row0_col25\" class=\"data row0 col25\" >0.00</td>\n",
       "      <td id=\"T_44871_row0_col26\" class=\"data row0 col26\" >0.00</td>\n",
       "      <td id=\"T_44871_row0_col27\" class=\"data row0 col27\" >0.00</td>\n",
       "      <td id=\"T_44871_row0_col28\" class=\"data row0 col28\" >0.00</td>\n",
       "      <td id=\"T_44871_row0_col29\" class=\"data row0 col29\" >0.00</td>\n",
       "      <td id=\"T_44871_row0_col30\" class=\"data row0 col30\" >0.00</td>\n",
       "      <td id=\"T_44871_row0_col31\" class=\"data row0 col31\" >0.00</td>\n",
       "      <td id=\"T_44871_row0_col32\" class=\"data row0 col32\" >0.00</td>\n",
       "      <td id=\"T_44871_row0_col33\" class=\"data row0 col33\" >0.00</td>\n",
       "      <td id=\"T_44871_row0_col34\" class=\"data row0 col34\" >0.00</td>\n",
       "      <td id=\"T_44871_row0_col35\" class=\"data row0 col35\" >0.00</td>\n",
       "      <td id=\"T_44871_row0_col36\" class=\"data row0 col36\" >0.00</td>\n",
       "      <td id=\"T_44871_row0_col37\" class=\"data row0 col37\" >0.00</td>\n",
       "      <td id=\"T_44871_row0_col38\" class=\"data row0 col38\" >0.00</td>\n",
       "      <td id=\"T_44871_row0_col39\" class=\"data row0 col39\" >0.00</td>\n",
       "      <td id=\"T_44871_row0_col40\" class=\"data row0 col40\" >0.00</td>\n",
       "      <td id=\"T_44871_row0_col41\" class=\"data row0 col41\" >0.00</td>\n",
       "      <td id=\"T_44871_row0_col42\" class=\"data row0 col42\" >0.00</td>\n",
       "      <td id=\"T_44871_row0_col43\" class=\"data row0 col43\" >0.00</td>\n",
       "      <td id=\"T_44871_row0_col44\" class=\"data row0 col44\" >0.00</td>\n",
       "      <td id=\"T_44871_row0_col45\" class=\"data row0 col45\" >0.00</td>\n",
       "      <td id=\"T_44871_row0_col46\" class=\"data row0 col46\" >0.00</td>\n",
       "      <td id=\"T_44871_row0_col47\" class=\"data row0 col47\" >0.00</td>\n",
       "      <td id=\"T_44871_row0_col48\" class=\"data row0 col48\" >0.00</td>\n",
       "      <td id=\"T_44871_row0_col49\" class=\"data row0 col49\" >0.00</td>\n",
       "      <td id=\"T_44871_row0_col50\" class=\"data row0 col50\" >0.00</td>\n",
       "      <td id=\"T_44871_row0_col51\" class=\"data row0 col51\" >0.78</td>\n",
       "      <td id=\"T_44871_row0_col52\" class=\"data row0 col52\" >0.00</td>\n",
       "      <td id=\"T_44871_row0_col53\" class=\"data row0 col53\" >0.00</td>\n",
       "      <td id=\"T_44871_row0_col54\" class=\"data row0 col54\" >3.76</td>\n",
       "      <td id=\"T_44871_row0_col55\" class=\"data row0 col55\" >61</td>\n",
       "      <td id=\"T_44871_row0_col56\" class=\"data row0 col56\" >278</td>\n",
       "      <td id=\"T_44871_row0_col57\" class=\"data row0 col57\" >1</td>\n",
       "    </tr>\n",
       "    <tr>\n",
       "      <td id=\"T_44871_row1_col0\" class=\"data row1 col0\" >0.21</td>\n",
       "      <td id=\"T_44871_row1_col1\" class=\"data row1 col1\" >0.28</td>\n",
       "      <td id=\"T_44871_row1_col2\" class=\"data row1 col2\" >0.50</td>\n",
       "      <td id=\"T_44871_row1_col3\" class=\"data row1 col3\" >0.00</td>\n",
       "      <td id=\"T_44871_row1_col4\" class=\"data row1 col4\" >0.14</td>\n",
       "      <td id=\"T_44871_row1_col5\" class=\"data row1 col5\" >0.28</td>\n",
       "      <td id=\"T_44871_row1_col6\" class=\"data row1 col6\" >0.21</td>\n",
       "      <td id=\"T_44871_row1_col7\" class=\"data row1 col7\" >0.07</td>\n",
       "      <td id=\"T_44871_row1_col8\" class=\"data row1 col8\" >0.00</td>\n",
       "      <td id=\"T_44871_row1_col9\" class=\"data row1 col9\" >0.94</td>\n",
       "      <td id=\"T_44871_row1_col10\" class=\"data row1 col10\" >0.21</td>\n",
       "      <td id=\"T_44871_row1_col11\" class=\"data row1 col11\" >0.79</td>\n",
       "      <td id=\"T_44871_row1_col12\" class=\"data row1 col12\" >0.65</td>\n",
       "      <td id=\"T_44871_row1_col13\" class=\"data row1 col13\" >0.21</td>\n",
       "      <td id=\"T_44871_row1_col14\" class=\"data row1 col14\" >0.14</td>\n",
       "      <td id=\"T_44871_row1_col15\" class=\"data row1 col15\" >0.14</td>\n",
       "      <td id=\"T_44871_row1_col16\" class=\"data row1 col16\" >0.07</td>\n",
       "      <td id=\"T_44871_row1_col17\" class=\"data row1 col17\" >0.28</td>\n",
       "      <td id=\"T_44871_row1_col18\" class=\"data row1 col18\" >3.47</td>\n",
       "      <td id=\"T_44871_row1_col19\" class=\"data row1 col19\" >0.00</td>\n",
       "      <td id=\"T_44871_row1_col20\" class=\"data row1 col20\" >1.59</td>\n",
       "      <td id=\"T_44871_row1_col21\" class=\"data row1 col21\" >0.00</td>\n",
       "      <td id=\"T_44871_row1_col22\" class=\"data row1 col22\" >0.43</td>\n",
       "      <td id=\"T_44871_row1_col23\" class=\"data row1 col23\" >0.43</td>\n",
       "      <td id=\"T_44871_row1_col24\" class=\"data row1 col24\" >0.00</td>\n",
       "      <td id=\"T_44871_row1_col25\" class=\"data row1 col25\" >0.00</td>\n",
       "      <td id=\"T_44871_row1_col26\" class=\"data row1 col26\" >0.00</td>\n",
       "      <td id=\"T_44871_row1_col27\" class=\"data row1 col27\" >0.00</td>\n",
       "      <td id=\"T_44871_row1_col28\" class=\"data row1 col28\" >0.00</td>\n",
       "      <td id=\"T_44871_row1_col29\" class=\"data row1 col29\" >0.00</td>\n",
       "      <td id=\"T_44871_row1_col30\" class=\"data row1 col30\" >0.00</td>\n",
       "      <td id=\"T_44871_row1_col31\" class=\"data row1 col31\" >0.00</td>\n",
       "      <td id=\"T_44871_row1_col32\" class=\"data row1 col32\" >0.00</td>\n",
       "      <td id=\"T_44871_row1_col33\" class=\"data row1 col33\" >0.00</td>\n",
       "      <td id=\"T_44871_row1_col34\" class=\"data row1 col34\" >0.00</td>\n",
       "      <td id=\"T_44871_row1_col35\" class=\"data row1 col35\" >0.00</td>\n",
       "      <td id=\"T_44871_row1_col36\" class=\"data row1 col36\" >0.07</td>\n",
       "      <td id=\"T_44871_row1_col37\" class=\"data row1 col37\" >0.00</td>\n",
       "      <td id=\"T_44871_row1_col38\" class=\"data row1 col38\" >0.00</td>\n",
       "      <td id=\"T_44871_row1_col39\" class=\"data row1 col39\" >0.00</td>\n",
       "      <td id=\"T_44871_row1_col40\" class=\"data row1 col40\" >0.00</td>\n",
       "      <td id=\"T_44871_row1_col41\" class=\"data row1 col41\" >0.00</td>\n",
       "      <td id=\"T_44871_row1_col42\" class=\"data row1 col42\" >0.00</td>\n",
       "      <td id=\"T_44871_row1_col43\" class=\"data row1 col43\" >0.00</td>\n",
       "      <td id=\"T_44871_row1_col44\" class=\"data row1 col44\" >0.00</td>\n",
       "      <td id=\"T_44871_row1_col45\" class=\"data row1 col45\" >0.00</td>\n",
       "      <td id=\"T_44871_row1_col46\" class=\"data row1 col46\" >0.00</td>\n",
       "      <td id=\"T_44871_row1_col47\" class=\"data row1 col47\" >0.00</td>\n",
       "      <td id=\"T_44871_row1_col48\" class=\"data row1 col48\" >0.00</td>\n",
       "      <td id=\"T_44871_row1_col49\" class=\"data row1 col49\" >0.13</td>\n",
       "      <td id=\"T_44871_row1_col50\" class=\"data row1 col50\" >0.00</td>\n",
       "      <td id=\"T_44871_row1_col51\" class=\"data row1 col51\" >0.37</td>\n",
       "      <td id=\"T_44871_row1_col52\" class=\"data row1 col52\" >0.18</td>\n",
       "      <td id=\"T_44871_row1_col53\" class=\"data row1 col53\" >0.05</td>\n",
       "      <td id=\"T_44871_row1_col54\" class=\"data row1 col54\" >5.11</td>\n",
       "      <td id=\"T_44871_row1_col55\" class=\"data row1 col55\" >101</td>\n",
       "      <td id=\"T_44871_row1_col56\" class=\"data row1 col56\" >1,028</td>\n",
       "      <td id=\"T_44871_row1_col57\" class=\"data row1 col57\" >1</td>\n",
       "    </tr>\n",
       "    <tr>\n",
       "      <td id=\"T_44871_row2_col0\" class=\"data row2 col0\" >0.06</td>\n",
       "      <td id=\"T_44871_row2_col1\" class=\"data row2 col1\" >0.00</td>\n",
       "      <td id=\"T_44871_row2_col2\" class=\"data row2 col2\" >0.71</td>\n",
       "      <td id=\"T_44871_row2_col3\" class=\"data row2 col3\" >0.00</td>\n",
       "      <td id=\"T_44871_row2_col4\" class=\"data row2 col4\" >1.23</td>\n",
       "      <td id=\"T_44871_row2_col5\" class=\"data row2 col5\" >0.19</td>\n",
       "      <td id=\"T_44871_row2_col6\" class=\"data row2 col6\" >0.19</td>\n",
       "      <td id=\"T_44871_row2_col7\" class=\"data row2 col7\" >0.12</td>\n",
       "      <td id=\"T_44871_row2_col8\" class=\"data row2 col8\" >0.64</td>\n",
       "      <td id=\"T_44871_row2_col9\" class=\"data row2 col9\" >0.25</td>\n",
       "      <td id=\"T_44871_row2_col10\" class=\"data row2 col10\" >0.38</td>\n",
       "      <td id=\"T_44871_row2_col11\" class=\"data row2 col11\" >0.45</td>\n",
       "      <td id=\"T_44871_row2_col12\" class=\"data row2 col12\" >0.12</td>\n",
       "      <td id=\"T_44871_row2_col13\" class=\"data row2 col13\" >0.00</td>\n",
       "      <td id=\"T_44871_row2_col14\" class=\"data row2 col14\" >1.75</td>\n",
       "      <td id=\"T_44871_row2_col15\" class=\"data row2 col15\" >0.06</td>\n",
       "      <td id=\"T_44871_row2_col16\" class=\"data row2 col16\" >0.06</td>\n",
       "      <td id=\"T_44871_row2_col17\" class=\"data row2 col17\" >1.03</td>\n",
       "      <td id=\"T_44871_row2_col18\" class=\"data row2 col18\" >1.36</td>\n",
       "      <td id=\"T_44871_row2_col19\" class=\"data row2 col19\" >0.32</td>\n",
       "      <td id=\"T_44871_row2_col20\" class=\"data row2 col20\" >0.51</td>\n",
       "      <td id=\"T_44871_row2_col21\" class=\"data row2 col21\" >0.00</td>\n",
       "      <td id=\"T_44871_row2_col22\" class=\"data row2 col22\" >1.16</td>\n",
       "      <td id=\"T_44871_row2_col23\" class=\"data row2 col23\" >0.06</td>\n",
       "      <td id=\"T_44871_row2_col24\" class=\"data row2 col24\" >0.00</td>\n",
       "      <td id=\"T_44871_row2_col25\" class=\"data row2 col25\" >0.00</td>\n",
       "      <td id=\"T_44871_row2_col26\" class=\"data row2 col26\" >0.00</td>\n",
       "      <td id=\"T_44871_row2_col27\" class=\"data row2 col27\" >0.00</td>\n",
       "      <td id=\"T_44871_row2_col28\" class=\"data row2 col28\" >0.00</td>\n",
       "      <td id=\"T_44871_row2_col29\" class=\"data row2 col29\" >0.00</td>\n",
       "      <td id=\"T_44871_row2_col30\" class=\"data row2 col30\" >0.00</td>\n",
       "      <td id=\"T_44871_row2_col31\" class=\"data row2 col31\" >0.00</td>\n",
       "      <td id=\"T_44871_row2_col32\" class=\"data row2 col32\" >0.00</td>\n",
       "      <td id=\"T_44871_row2_col33\" class=\"data row2 col33\" >0.00</td>\n",
       "      <td id=\"T_44871_row2_col34\" class=\"data row2 col34\" >0.00</td>\n",
       "      <td id=\"T_44871_row2_col35\" class=\"data row2 col35\" >0.00</td>\n",
       "      <td id=\"T_44871_row2_col36\" class=\"data row2 col36\" >0.00</td>\n",
       "      <td id=\"T_44871_row2_col37\" class=\"data row2 col37\" >0.00</td>\n",
       "      <td id=\"T_44871_row2_col38\" class=\"data row2 col38\" >0.00</td>\n",
       "      <td id=\"T_44871_row2_col39\" class=\"data row2 col39\" >0.06</td>\n",
       "      <td id=\"T_44871_row2_col40\" class=\"data row2 col40\" >0.00</td>\n",
       "      <td id=\"T_44871_row2_col41\" class=\"data row2 col41\" >0.00</td>\n",
       "      <td id=\"T_44871_row2_col42\" class=\"data row2 col42\" >0.12</td>\n",
       "      <td id=\"T_44871_row2_col43\" class=\"data row2 col43\" >0.00</td>\n",
       "      <td id=\"T_44871_row2_col44\" class=\"data row2 col44\" >0.06</td>\n",
       "      <td id=\"T_44871_row2_col45\" class=\"data row2 col45\" >0.06</td>\n",
       "      <td id=\"T_44871_row2_col46\" class=\"data row2 col46\" >0.00</td>\n",
       "      <td id=\"T_44871_row2_col47\" class=\"data row2 col47\" >0.00</td>\n",
       "      <td id=\"T_44871_row2_col48\" class=\"data row2 col48\" >0.01</td>\n",
       "      <td id=\"T_44871_row2_col49\" class=\"data row2 col49\" >0.14</td>\n",
       "      <td id=\"T_44871_row2_col50\" class=\"data row2 col50\" >0.00</td>\n",
       "      <td id=\"T_44871_row2_col51\" class=\"data row2 col51\" >0.28</td>\n",
       "      <td id=\"T_44871_row2_col52\" class=\"data row2 col52\" >0.18</td>\n",
       "      <td id=\"T_44871_row2_col53\" class=\"data row2 col53\" >0.01</td>\n",
       "      <td id=\"T_44871_row2_col54\" class=\"data row2 col54\" >9.82</td>\n",
       "      <td id=\"T_44871_row2_col55\" class=\"data row2 col55\" >485</td>\n",
       "      <td id=\"T_44871_row2_col56\" class=\"data row2 col56\" >2,259</td>\n",
       "      <td id=\"T_44871_row2_col57\" class=\"data row2 col57\" >1</td>\n",
       "    </tr>\n",
       "    <tr>\n",
       "      <td id=\"T_44871_row3_col0\" class=\"data row3 col0\" >0.00</td>\n",
       "      <td id=\"T_44871_row3_col1\" class=\"data row3 col1\" >0.00</td>\n",
       "      <td id=\"T_44871_row3_col2\" class=\"data row3 col2\" >0.00</td>\n",
       "      <td id=\"T_44871_row3_col3\" class=\"data row3 col3\" >0.00</td>\n",
       "      <td id=\"T_44871_row3_col4\" class=\"data row3 col4\" >0.63</td>\n",
       "      <td id=\"T_44871_row3_col5\" class=\"data row3 col5\" >0.00</td>\n",
       "      <td id=\"T_44871_row3_col6\" class=\"data row3 col6\" >0.31</td>\n",
       "      <td id=\"T_44871_row3_col7\" class=\"data row3 col7\" >0.63</td>\n",
       "      <td id=\"T_44871_row3_col8\" class=\"data row3 col8\" >0.31</td>\n",
       "      <td id=\"T_44871_row3_col9\" class=\"data row3 col9\" >0.63</td>\n",
       "      <td id=\"T_44871_row3_col10\" class=\"data row3 col10\" >0.31</td>\n",
       "      <td id=\"T_44871_row3_col11\" class=\"data row3 col11\" >0.31</td>\n",
       "      <td id=\"T_44871_row3_col12\" class=\"data row3 col12\" >0.31</td>\n",
       "      <td id=\"T_44871_row3_col13\" class=\"data row3 col13\" >0.00</td>\n",
       "      <td id=\"T_44871_row3_col14\" class=\"data row3 col14\" >0.00</td>\n",
       "      <td id=\"T_44871_row3_col15\" class=\"data row3 col15\" >0.31</td>\n",
       "      <td id=\"T_44871_row3_col16\" class=\"data row3 col16\" >0.00</td>\n",
       "      <td id=\"T_44871_row3_col17\" class=\"data row3 col17\" >0.00</td>\n",
       "      <td id=\"T_44871_row3_col18\" class=\"data row3 col18\" >3.18</td>\n",
       "      <td id=\"T_44871_row3_col19\" class=\"data row3 col19\" >0.00</td>\n",
       "      <td id=\"T_44871_row3_col20\" class=\"data row3 col20\" >0.31</td>\n",
       "      <td id=\"T_44871_row3_col21\" class=\"data row3 col21\" >0.00</td>\n",
       "      <td id=\"T_44871_row3_col22\" class=\"data row3 col22\" >0.00</td>\n",
       "      <td id=\"T_44871_row3_col23\" class=\"data row3 col23\" >0.00</td>\n",
       "      <td id=\"T_44871_row3_col24\" class=\"data row3 col24\" >0.00</td>\n",
       "      <td id=\"T_44871_row3_col25\" class=\"data row3 col25\" >0.00</td>\n",
       "      <td id=\"T_44871_row3_col26\" class=\"data row3 col26\" >0.00</td>\n",
       "      <td id=\"T_44871_row3_col27\" class=\"data row3 col27\" >0.00</td>\n",
       "      <td id=\"T_44871_row3_col28\" class=\"data row3 col28\" >0.00</td>\n",
       "      <td id=\"T_44871_row3_col29\" class=\"data row3 col29\" >0.00</td>\n",
       "      <td id=\"T_44871_row3_col30\" class=\"data row3 col30\" >0.00</td>\n",
       "      <td id=\"T_44871_row3_col31\" class=\"data row3 col31\" >0.00</td>\n",
       "      <td id=\"T_44871_row3_col32\" class=\"data row3 col32\" >0.00</td>\n",
       "      <td id=\"T_44871_row3_col33\" class=\"data row3 col33\" >0.00</td>\n",
       "      <td id=\"T_44871_row3_col34\" class=\"data row3 col34\" >0.00</td>\n",
       "      <td id=\"T_44871_row3_col35\" class=\"data row3 col35\" >0.00</td>\n",
       "      <td id=\"T_44871_row3_col36\" class=\"data row3 col36\" >0.00</td>\n",
       "      <td id=\"T_44871_row3_col37\" class=\"data row3 col37\" >0.00</td>\n",
       "      <td id=\"T_44871_row3_col38\" class=\"data row3 col38\" >0.00</td>\n",
       "      <td id=\"T_44871_row3_col39\" class=\"data row3 col39\" >0.00</td>\n",
       "      <td id=\"T_44871_row3_col40\" class=\"data row3 col40\" >0.00</td>\n",
       "      <td id=\"T_44871_row3_col41\" class=\"data row3 col41\" >0.00</td>\n",
       "      <td id=\"T_44871_row3_col42\" class=\"data row3 col42\" >0.00</td>\n",
       "      <td id=\"T_44871_row3_col43\" class=\"data row3 col43\" >0.00</td>\n",
       "      <td id=\"T_44871_row3_col44\" class=\"data row3 col44\" >0.00</td>\n",
       "      <td id=\"T_44871_row3_col45\" class=\"data row3 col45\" >0.00</td>\n",
       "      <td id=\"T_44871_row3_col46\" class=\"data row3 col46\" >0.00</td>\n",
       "      <td id=\"T_44871_row3_col47\" class=\"data row3 col47\" >0.00</td>\n",
       "      <td id=\"T_44871_row3_col48\" class=\"data row3 col48\" >0.00</td>\n",
       "      <td id=\"T_44871_row3_col49\" class=\"data row3 col49\" >0.14</td>\n",
       "      <td id=\"T_44871_row3_col50\" class=\"data row3 col50\" >0.00</td>\n",
       "      <td id=\"T_44871_row3_col51\" class=\"data row3 col51\" >0.14</td>\n",
       "      <td id=\"T_44871_row3_col52\" class=\"data row3 col52\" >0.00</td>\n",
       "      <td id=\"T_44871_row3_col53\" class=\"data row3 col53\" >0.00</td>\n",
       "      <td id=\"T_44871_row3_col54\" class=\"data row3 col54\" >3.54</td>\n",
       "      <td id=\"T_44871_row3_col55\" class=\"data row3 col55\" >40</td>\n",
       "      <td id=\"T_44871_row3_col56\" class=\"data row3 col56\" >191</td>\n",
       "      <td id=\"T_44871_row3_col57\" class=\"data row3 col57\" >1</td>\n",
       "    </tr>\n",
       "    <tr>\n",
       "      <td id=\"T_44871_row4_col0\" class=\"data row4 col0\" >0.00</td>\n",
       "      <td id=\"T_44871_row4_col1\" class=\"data row4 col1\" >0.00</td>\n",
       "      <td id=\"T_44871_row4_col2\" class=\"data row4 col2\" >0.00</td>\n",
       "      <td id=\"T_44871_row4_col3\" class=\"data row4 col3\" >0.00</td>\n",
       "      <td id=\"T_44871_row4_col4\" class=\"data row4 col4\" >0.63</td>\n",
       "      <td id=\"T_44871_row4_col5\" class=\"data row4 col5\" >0.00</td>\n",
       "      <td id=\"T_44871_row4_col6\" class=\"data row4 col6\" >0.31</td>\n",
       "      <td id=\"T_44871_row4_col7\" class=\"data row4 col7\" >0.63</td>\n",
       "      <td id=\"T_44871_row4_col8\" class=\"data row4 col8\" >0.31</td>\n",
       "      <td id=\"T_44871_row4_col9\" class=\"data row4 col9\" >0.63</td>\n",
       "      <td id=\"T_44871_row4_col10\" class=\"data row4 col10\" >0.31</td>\n",
       "      <td id=\"T_44871_row4_col11\" class=\"data row4 col11\" >0.31</td>\n",
       "      <td id=\"T_44871_row4_col12\" class=\"data row4 col12\" >0.31</td>\n",
       "      <td id=\"T_44871_row4_col13\" class=\"data row4 col13\" >0.00</td>\n",
       "      <td id=\"T_44871_row4_col14\" class=\"data row4 col14\" >0.00</td>\n",
       "      <td id=\"T_44871_row4_col15\" class=\"data row4 col15\" >0.31</td>\n",
       "      <td id=\"T_44871_row4_col16\" class=\"data row4 col16\" >0.00</td>\n",
       "      <td id=\"T_44871_row4_col17\" class=\"data row4 col17\" >0.00</td>\n",
       "      <td id=\"T_44871_row4_col18\" class=\"data row4 col18\" >3.18</td>\n",
       "      <td id=\"T_44871_row4_col19\" class=\"data row4 col19\" >0.00</td>\n",
       "      <td id=\"T_44871_row4_col20\" class=\"data row4 col20\" >0.31</td>\n",
       "      <td id=\"T_44871_row4_col21\" class=\"data row4 col21\" >0.00</td>\n",
       "      <td id=\"T_44871_row4_col22\" class=\"data row4 col22\" >0.00</td>\n",
       "      <td id=\"T_44871_row4_col23\" class=\"data row4 col23\" >0.00</td>\n",
       "      <td id=\"T_44871_row4_col24\" class=\"data row4 col24\" >0.00</td>\n",
       "      <td id=\"T_44871_row4_col25\" class=\"data row4 col25\" >0.00</td>\n",
       "      <td id=\"T_44871_row4_col26\" class=\"data row4 col26\" >0.00</td>\n",
       "      <td id=\"T_44871_row4_col27\" class=\"data row4 col27\" >0.00</td>\n",
       "      <td id=\"T_44871_row4_col28\" class=\"data row4 col28\" >0.00</td>\n",
       "      <td id=\"T_44871_row4_col29\" class=\"data row4 col29\" >0.00</td>\n",
       "      <td id=\"T_44871_row4_col30\" class=\"data row4 col30\" >0.00</td>\n",
       "      <td id=\"T_44871_row4_col31\" class=\"data row4 col31\" >0.00</td>\n",
       "      <td id=\"T_44871_row4_col32\" class=\"data row4 col32\" >0.00</td>\n",
       "      <td id=\"T_44871_row4_col33\" class=\"data row4 col33\" >0.00</td>\n",
       "      <td id=\"T_44871_row4_col34\" class=\"data row4 col34\" >0.00</td>\n",
       "      <td id=\"T_44871_row4_col35\" class=\"data row4 col35\" >0.00</td>\n",
       "      <td id=\"T_44871_row4_col36\" class=\"data row4 col36\" >0.00</td>\n",
       "      <td id=\"T_44871_row4_col37\" class=\"data row4 col37\" >0.00</td>\n",
       "      <td id=\"T_44871_row4_col38\" class=\"data row4 col38\" >0.00</td>\n",
       "      <td id=\"T_44871_row4_col39\" class=\"data row4 col39\" >0.00</td>\n",
       "      <td id=\"T_44871_row4_col40\" class=\"data row4 col40\" >0.00</td>\n",
       "      <td id=\"T_44871_row4_col41\" class=\"data row4 col41\" >0.00</td>\n",
       "      <td id=\"T_44871_row4_col42\" class=\"data row4 col42\" >0.00</td>\n",
       "      <td id=\"T_44871_row4_col43\" class=\"data row4 col43\" >0.00</td>\n",
       "      <td id=\"T_44871_row4_col44\" class=\"data row4 col44\" >0.00</td>\n",
       "      <td id=\"T_44871_row4_col45\" class=\"data row4 col45\" >0.00</td>\n",
       "      <td id=\"T_44871_row4_col46\" class=\"data row4 col46\" >0.00</td>\n",
       "      <td id=\"T_44871_row4_col47\" class=\"data row4 col47\" >0.00</td>\n",
       "      <td id=\"T_44871_row4_col48\" class=\"data row4 col48\" >0.00</td>\n",
       "      <td id=\"T_44871_row4_col49\" class=\"data row4 col49\" >0.14</td>\n",
       "      <td id=\"T_44871_row4_col50\" class=\"data row4 col50\" >0.00</td>\n",
       "      <td id=\"T_44871_row4_col51\" class=\"data row4 col51\" >0.14</td>\n",
       "      <td id=\"T_44871_row4_col52\" class=\"data row4 col52\" >0.00</td>\n",
       "      <td id=\"T_44871_row4_col53\" class=\"data row4 col53\" >0.00</td>\n",
       "      <td id=\"T_44871_row4_col54\" class=\"data row4 col54\" >3.54</td>\n",
       "      <td id=\"T_44871_row4_col55\" class=\"data row4 col55\" >40</td>\n",
       "      <td id=\"T_44871_row4_col56\" class=\"data row4 col56\" >191</td>\n",
       "      <td id=\"T_44871_row4_col57\" class=\"data row4 col57\" >1</td>\n",
       "    </tr>\n",
       "    <tr>\n",
       "      <td id=\"T_44871_row5_col0\" class=\"data row5 col0\" >0.00</td>\n",
       "      <td id=\"T_44871_row5_col1\" class=\"data row5 col1\" >0.00</td>\n",
       "      <td id=\"T_44871_row5_col2\" class=\"data row5 col2\" >0.00</td>\n",
       "      <td id=\"T_44871_row5_col3\" class=\"data row5 col3\" >0.00</td>\n",
       "      <td id=\"T_44871_row5_col4\" class=\"data row5 col4\" >1.85</td>\n",
       "      <td id=\"T_44871_row5_col5\" class=\"data row5 col5\" >0.00</td>\n",
       "      <td id=\"T_44871_row5_col6\" class=\"data row5 col6\" >0.00</td>\n",
       "      <td id=\"T_44871_row5_col7\" class=\"data row5 col7\" >1.85</td>\n",
       "      <td id=\"T_44871_row5_col8\" class=\"data row5 col8\" >0.00</td>\n",
       "      <td id=\"T_44871_row5_col9\" class=\"data row5 col9\" >0.00</td>\n",
       "      <td id=\"T_44871_row5_col10\" class=\"data row5 col10\" >0.00</td>\n",
       "      <td id=\"T_44871_row5_col11\" class=\"data row5 col11\" >0.00</td>\n",
       "      <td id=\"T_44871_row5_col12\" class=\"data row5 col12\" >0.00</td>\n",
       "      <td id=\"T_44871_row5_col13\" class=\"data row5 col13\" >0.00</td>\n",
       "      <td id=\"T_44871_row5_col14\" class=\"data row5 col14\" >0.00</td>\n",
       "      <td id=\"T_44871_row5_col15\" class=\"data row5 col15\" >0.00</td>\n",
       "      <td id=\"T_44871_row5_col16\" class=\"data row5 col16\" >0.00</td>\n",
       "      <td id=\"T_44871_row5_col17\" class=\"data row5 col17\" >0.00</td>\n",
       "      <td id=\"T_44871_row5_col18\" class=\"data row5 col18\" >0.00</td>\n",
       "      <td id=\"T_44871_row5_col19\" class=\"data row5 col19\" >0.00</td>\n",
       "      <td id=\"T_44871_row5_col20\" class=\"data row5 col20\" >0.00</td>\n",
       "      <td id=\"T_44871_row5_col21\" class=\"data row5 col21\" >0.00</td>\n",
       "      <td id=\"T_44871_row5_col22\" class=\"data row5 col22\" >0.00</td>\n",
       "      <td id=\"T_44871_row5_col23\" class=\"data row5 col23\" >0.00</td>\n",
       "      <td id=\"T_44871_row5_col24\" class=\"data row5 col24\" >0.00</td>\n",
       "      <td id=\"T_44871_row5_col25\" class=\"data row5 col25\" >0.00</td>\n",
       "      <td id=\"T_44871_row5_col26\" class=\"data row5 col26\" >0.00</td>\n",
       "      <td id=\"T_44871_row5_col27\" class=\"data row5 col27\" >0.00</td>\n",
       "      <td id=\"T_44871_row5_col28\" class=\"data row5 col28\" >0.00</td>\n",
       "      <td id=\"T_44871_row5_col29\" class=\"data row5 col29\" >0.00</td>\n",
       "      <td id=\"T_44871_row5_col30\" class=\"data row5 col30\" >0.00</td>\n",
       "      <td id=\"T_44871_row5_col31\" class=\"data row5 col31\" >0.00</td>\n",
       "      <td id=\"T_44871_row5_col32\" class=\"data row5 col32\" >0.00</td>\n",
       "      <td id=\"T_44871_row5_col33\" class=\"data row5 col33\" >0.00</td>\n",
       "      <td id=\"T_44871_row5_col34\" class=\"data row5 col34\" >0.00</td>\n",
       "      <td id=\"T_44871_row5_col35\" class=\"data row5 col35\" >0.00</td>\n",
       "      <td id=\"T_44871_row5_col36\" class=\"data row5 col36\" >0.00</td>\n",
       "      <td id=\"T_44871_row5_col37\" class=\"data row5 col37\" >0.00</td>\n",
       "      <td id=\"T_44871_row5_col38\" class=\"data row5 col38\" >0.00</td>\n",
       "      <td id=\"T_44871_row5_col39\" class=\"data row5 col39\" >0.00</td>\n",
       "      <td id=\"T_44871_row5_col40\" class=\"data row5 col40\" >0.00</td>\n",
       "      <td id=\"T_44871_row5_col41\" class=\"data row5 col41\" >0.00</td>\n",
       "      <td id=\"T_44871_row5_col42\" class=\"data row5 col42\" >0.00</td>\n",
       "      <td id=\"T_44871_row5_col43\" class=\"data row5 col43\" >0.00</td>\n",
       "      <td id=\"T_44871_row5_col44\" class=\"data row5 col44\" >0.00</td>\n",
       "      <td id=\"T_44871_row5_col45\" class=\"data row5 col45\" >0.00</td>\n",
       "      <td id=\"T_44871_row5_col46\" class=\"data row5 col46\" >0.00</td>\n",
       "      <td id=\"T_44871_row5_col47\" class=\"data row5 col47\" >0.00</td>\n",
       "      <td id=\"T_44871_row5_col48\" class=\"data row5 col48\" >0.00</td>\n",
       "      <td id=\"T_44871_row5_col49\" class=\"data row5 col49\" >0.22</td>\n",
       "      <td id=\"T_44871_row5_col50\" class=\"data row5 col50\" >0.00</td>\n",
       "      <td id=\"T_44871_row5_col51\" class=\"data row5 col51\" >0.00</td>\n",
       "      <td id=\"T_44871_row5_col52\" class=\"data row5 col52\" >0.00</td>\n",
       "      <td id=\"T_44871_row5_col53\" class=\"data row5 col53\" >0.00</td>\n",
       "      <td id=\"T_44871_row5_col54\" class=\"data row5 col54\" >3.00</td>\n",
       "      <td id=\"T_44871_row5_col55\" class=\"data row5 col55\" >15</td>\n",
       "      <td id=\"T_44871_row5_col56\" class=\"data row5 col56\" >54</td>\n",
       "      <td id=\"T_44871_row5_col57\" class=\"data row5 col57\" >1</td>\n",
       "    </tr>\n",
       "    <tr>\n",
       "      <td id=\"T_44871_row6_col0\" class=\"data row6 col0\" >0.00</td>\n",
       "      <td id=\"T_44871_row6_col1\" class=\"data row6 col1\" >0.00</td>\n",
       "      <td id=\"T_44871_row6_col2\" class=\"data row6 col2\" >0.00</td>\n",
       "      <td id=\"T_44871_row6_col3\" class=\"data row6 col3\" >0.00</td>\n",
       "      <td id=\"T_44871_row6_col4\" class=\"data row6 col4\" >1.92</td>\n",
       "      <td id=\"T_44871_row6_col5\" class=\"data row6 col5\" >0.00</td>\n",
       "      <td id=\"T_44871_row6_col6\" class=\"data row6 col6\" >0.00</td>\n",
       "      <td id=\"T_44871_row6_col7\" class=\"data row6 col7\" >0.00</td>\n",
       "      <td id=\"T_44871_row6_col8\" class=\"data row6 col8\" >0.00</td>\n",
       "      <td id=\"T_44871_row6_col9\" class=\"data row6 col9\" >0.64</td>\n",
       "      <td id=\"T_44871_row6_col10\" class=\"data row6 col10\" >0.96</td>\n",
       "      <td id=\"T_44871_row6_col11\" class=\"data row6 col11\" >1.28</td>\n",
       "      <td id=\"T_44871_row6_col12\" class=\"data row6 col12\" >0.00</td>\n",
       "      <td id=\"T_44871_row6_col13\" class=\"data row6 col13\" >0.00</td>\n",
       "      <td id=\"T_44871_row6_col14\" class=\"data row6 col14\" >0.00</td>\n",
       "      <td id=\"T_44871_row6_col15\" class=\"data row6 col15\" >0.96</td>\n",
       "      <td id=\"T_44871_row6_col16\" class=\"data row6 col16\" >0.00</td>\n",
       "      <td id=\"T_44871_row6_col17\" class=\"data row6 col17\" >0.32</td>\n",
       "      <td id=\"T_44871_row6_col18\" class=\"data row6 col18\" >3.85</td>\n",
       "      <td id=\"T_44871_row6_col19\" class=\"data row6 col19\" >0.00</td>\n",
       "      <td id=\"T_44871_row6_col20\" class=\"data row6 col20\" >0.64</td>\n",
       "      <td id=\"T_44871_row6_col21\" class=\"data row6 col21\" >0.00</td>\n",
       "      <td id=\"T_44871_row6_col22\" class=\"data row6 col22\" >0.00</td>\n",
       "      <td id=\"T_44871_row6_col23\" class=\"data row6 col23\" >0.00</td>\n",
       "      <td id=\"T_44871_row6_col24\" class=\"data row6 col24\" >0.00</td>\n",
       "      <td id=\"T_44871_row6_col25\" class=\"data row6 col25\" >0.00</td>\n",
       "      <td id=\"T_44871_row6_col26\" class=\"data row6 col26\" >0.00</td>\n",
       "      <td id=\"T_44871_row6_col27\" class=\"data row6 col27\" >0.00</td>\n",
       "      <td id=\"T_44871_row6_col28\" class=\"data row6 col28\" >0.00</td>\n",
       "      <td id=\"T_44871_row6_col29\" class=\"data row6 col29\" >0.00</td>\n",
       "      <td id=\"T_44871_row6_col30\" class=\"data row6 col30\" >0.00</td>\n",
       "      <td id=\"T_44871_row6_col31\" class=\"data row6 col31\" >0.00</td>\n",
       "      <td id=\"T_44871_row6_col32\" class=\"data row6 col32\" >0.00</td>\n",
       "      <td id=\"T_44871_row6_col33\" class=\"data row6 col33\" >0.00</td>\n",
       "      <td id=\"T_44871_row6_col34\" class=\"data row6 col34\" >0.00</td>\n",
       "      <td id=\"T_44871_row6_col35\" class=\"data row6 col35\" >0.00</td>\n",
       "      <td id=\"T_44871_row6_col36\" class=\"data row6 col36\" >0.00</td>\n",
       "      <td id=\"T_44871_row6_col37\" class=\"data row6 col37\" >0.00</td>\n",
       "      <td id=\"T_44871_row6_col38\" class=\"data row6 col38\" >0.00</td>\n",
       "      <td id=\"T_44871_row6_col39\" class=\"data row6 col39\" >0.00</td>\n",
       "      <td id=\"T_44871_row6_col40\" class=\"data row6 col40\" >0.00</td>\n",
       "      <td id=\"T_44871_row6_col41\" class=\"data row6 col41\" >0.00</td>\n",
       "      <td id=\"T_44871_row6_col42\" class=\"data row6 col42\" >0.00</td>\n",
       "      <td id=\"T_44871_row6_col43\" class=\"data row6 col43\" >0.00</td>\n",
       "      <td id=\"T_44871_row6_col44\" class=\"data row6 col44\" >0.00</td>\n",
       "      <td id=\"T_44871_row6_col45\" class=\"data row6 col45\" >0.00</td>\n",
       "      <td id=\"T_44871_row6_col46\" class=\"data row6 col46\" >0.00</td>\n",
       "      <td id=\"T_44871_row6_col47\" class=\"data row6 col47\" >0.00</td>\n",
       "      <td id=\"T_44871_row6_col48\" class=\"data row6 col48\" >0.00</td>\n",
       "      <td id=\"T_44871_row6_col49\" class=\"data row6 col49\" >0.05</td>\n",
       "      <td id=\"T_44871_row6_col50\" class=\"data row6 col50\" >0.00</td>\n",
       "      <td id=\"T_44871_row6_col51\" class=\"data row6 col51\" >0.16</td>\n",
       "      <td id=\"T_44871_row6_col52\" class=\"data row6 col52\" >0.05</td>\n",
       "      <td id=\"T_44871_row6_col53\" class=\"data row6 col53\" >0.00</td>\n",
       "      <td id=\"T_44871_row6_col54\" class=\"data row6 col54\" >1.67</td>\n",
       "      <td id=\"T_44871_row6_col55\" class=\"data row6 col55\" >4</td>\n",
       "      <td id=\"T_44871_row6_col56\" class=\"data row6 col56\" >112</td>\n",
       "      <td id=\"T_44871_row6_col57\" class=\"data row6 col57\" >1</td>\n",
       "    </tr>\n",
       "    <tr>\n",
       "      <td id=\"T_44871_row7_col0\" class=\"data row7 col0\" >0.00</td>\n",
       "      <td id=\"T_44871_row7_col1\" class=\"data row7 col1\" >0.00</td>\n",
       "      <td id=\"T_44871_row7_col2\" class=\"data row7 col2\" >0.00</td>\n",
       "      <td id=\"T_44871_row7_col3\" class=\"data row7 col3\" >0.00</td>\n",
       "      <td id=\"T_44871_row7_col4\" class=\"data row7 col4\" >1.88</td>\n",
       "      <td id=\"T_44871_row7_col5\" class=\"data row7 col5\" >0.00</td>\n",
       "      <td id=\"T_44871_row7_col6\" class=\"data row7 col6\" >0.00</td>\n",
       "      <td id=\"T_44871_row7_col7\" class=\"data row7 col7\" >1.88</td>\n",
       "      <td id=\"T_44871_row7_col8\" class=\"data row7 col8\" >0.00</td>\n",
       "      <td id=\"T_44871_row7_col9\" class=\"data row7 col9\" >0.00</td>\n",
       "      <td id=\"T_44871_row7_col10\" class=\"data row7 col10\" >0.00</td>\n",
       "      <td id=\"T_44871_row7_col11\" class=\"data row7 col11\" >0.00</td>\n",
       "      <td id=\"T_44871_row7_col12\" class=\"data row7 col12\" >0.00</td>\n",
       "      <td id=\"T_44871_row7_col13\" class=\"data row7 col13\" >0.00</td>\n",
       "      <td id=\"T_44871_row7_col14\" class=\"data row7 col14\" >0.00</td>\n",
       "      <td id=\"T_44871_row7_col15\" class=\"data row7 col15\" >0.00</td>\n",
       "      <td id=\"T_44871_row7_col16\" class=\"data row7 col16\" >0.00</td>\n",
       "      <td id=\"T_44871_row7_col17\" class=\"data row7 col17\" >0.00</td>\n",
       "      <td id=\"T_44871_row7_col18\" class=\"data row7 col18\" >0.00</td>\n",
       "      <td id=\"T_44871_row7_col19\" class=\"data row7 col19\" >0.00</td>\n",
       "      <td id=\"T_44871_row7_col20\" class=\"data row7 col20\" >0.00</td>\n",
       "      <td id=\"T_44871_row7_col21\" class=\"data row7 col21\" >0.00</td>\n",
       "      <td id=\"T_44871_row7_col22\" class=\"data row7 col22\" >0.00</td>\n",
       "      <td id=\"T_44871_row7_col23\" class=\"data row7 col23\" >0.00</td>\n",
       "      <td id=\"T_44871_row7_col24\" class=\"data row7 col24\" >0.00</td>\n",
       "      <td id=\"T_44871_row7_col25\" class=\"data row7 col25\" >0.00</td>\n",
       "      <td id=\"T_44871_row7_col26\" class=\"data row7 col26\" >0.00</td>\n",
       "      <td id=\"T_44871_row7_col27\" class=\"data row7 col27\" >0.00</td>\n",
       "      <td id=\"T_44871_row7_col28\" class=\"data row7 col28\" >0.00</td>\n",
       "      <td id=\"T_44871_row7_col29\" class=\"data row7 col29\" >0.00</td>\n",
       "      <td id=\"T_44871_row7_col30\" class=\"data row7 col30\" >0.00</td>\n",
       "      <td id=\"T_44871_row7_col31\" class=\"data row7 col31\" >0.00</td>\n",
       "      <td id=\"T_44871_row7_col32\" class=\"data row7 col32\" >0.00</td>\n",
       "      <td id=\"T_44871_row7_col33\" class=\"data row7 col33\" >0.00</td>\n",
       "      <td id=\"T_44871_row7_col34\" class=\"data row7 col34\" >0.00</td>\n",
       "      <td id=\"T_44871_row7_col35\" class=\"data row7 col35\" >0.00</td>\n",
       "      <td id=\"T_44871_row7_col36\" class=\"data row7 col36\" >0.00</td>\n",
       "      <td id=\"T_44871_row7_col37\" class=\"data row7 col37\" >0.00</td>\n",
       "      <td id=\"T_44871_row7_col38\" class=\"data row7 col38\" >0.00</td>\n",
       "      <td id=\"T_44871_row7_col39\" class=\"data row7 col39\" >0.00</td>\n",
       "      <td id=\"T_44871_row7_col40\" class=\"data row7 col40\" >0.00</td>\n",
       "      <td id=\"T_44871_row7_col41\" class=\"data row7 col41\" >0.00</td>\n",
       "      <td id=\"T_44871_row7_col42\" class=\"data row7 col42\" >0.00</td>\n",
       "      <td id=\"T_44871_row7_col43\" class=\"data row7 col43\" >0.00</td>\n",
       "      <td id=\"T_44871_row7_col44\" class=\"data row7 col44\" >0.00</td>\n",
       "      <td id=\"T_44871_row7_col45\" class=\"data row7 col45\" >0.00</td>\n",
       "      <td id=\"T_44871_row7_col46\" class=\"data row7 col46\" >0.00</td>\n",
       "      <td id=\"T_44871_row7_col47\" class=\"data row7 col47\" >0.00</td>\n",
       "      <td id=\"T_44871_row7_col48\" class=\"data row7 col48\" >0.00</td>\n",
       "      <td id=\"T_44871_row7_col49\" class=\"data row7 col49\" >0.21</td>\n",
       "      <td id=\"T_44871_row7_col50\" class=\"data row7 col50\" >0.00</td>\n",
       "      <td id=\"T_44871_row7_col51\" class=\"data row7 col51\" >0.00</td>\n",
       "      <td id=\"T_44871_row7_col52\" class=\"data row7 col52\" >0.00</td>\n",
       "      <td id=\"T_44871_row7_col53\" class=\"data row7 col53\" >0.00</td>\n",
       "      <td id=\"T_44871_row7_col54\" class=\"data row7 col54\" >2.45</td>\n",
       "      <td id=\"T_44871_row7_col55\" class=\"data row7 col55\" >11</td>\n",
       "      <td id=\"T_44871_row7_col56\" class=\"data row7 col56\" >49</td>\n",
       "      <td id=\"T_44871_row7_col57\" class=\"data row7 col57\" >1</td>\n",
       "    </tr>\n",
       "    <tr>\n",
       "      <td id=\"T_44871_row8_col0\" class=\"data row8 col0\" >0.15</td>\n",
       "      <td id=\"T_44871_row8_col1\" class=\"data row8 col1\" >0.00</td>\n",
       "      <td id=\"T_44871_row8_col2\" class=\"data row8 col2\" >0.46</td>\n",
       "      <td id=\"T_44871_row8_col3\" class=\"data row8 col3\" >0.00</td>\n",
       "      <td id=\"T_44871_row8_col4\" class=\"data row8 col4\" >0.61</td>\n",
       "      <td id=\"T_44871_row8_col5\" class=\"data row8 col5\" >0.00</td>\n",
       "      <td id=\"T_44871_row8_col6\" class=\"data row8 col6\" >0.30</td>\n",
       "      <td id=\"T_44871_row8_col7\" class=\"data row8 col7\" >0.00</td>\n",
       "      <td id=\"T_44871_row8_col8\" class=\"data row8 col8\" >0.92</td>\n",
       "      <td id=\"T_44871_row8_col9\" class=\"data row8 col9\" >0.76</td>\n",
       "      <td id=\"T_44871_row8_col10\" class=\"data row8 col10\" >0.76</td>\n",
       "      <td id=\"T_44871_row8_col11\" class=\"data row8 col11\" >0.92</td>\n",
       "      <td id=\"T_44871_row8_col12\" class=\"data row8 col12\" >0.00</td>\n",
       "      <td id=\"T_44871_row8_col13\" class=\"data row8 col13\" >0.00</td>\n",
       "      <td id=\"T_44871_row8_col14\" class=\"data row8 col14\" >0.00</td>\n",
       "      <td id=\"T_44871_row8_col15\" class=\"data row8 col15\" >0.00</td>\n",
       "      <td id=\"T_44871_row8_col16\" class=\"data row8 col16\" >0.00</td>\n",
       "      <td id=\"T_44871_row8_col17\" class=\"data row8 col17\" >0.15</td>\n",
       "      <td id=\"T_44871_row8_col18\" class=\"data row8 col18\" >1.23</td>\n",
       "      <td id=\"T_44871_row8_col19\" class=\"data row8 col19\" >3.53</td>\n",
       "      <td id=\"T_44871_row8_col20\" class=\"data row8 col20\" >2.00</td>\n",
       "      <td id=\"T_44871_row8_col21\" class=\"data row8 col21\" >0.00</td>\n",
       "      <td id=\"T_44871_row8_col22\" class=\"data row8 col22\" >0.00</td>\n",
       "      <td id=\"T_44871_row8_col23\" class=\"data row8 col23\" >0.15</td>\n",
       "      <td id=\"T_44871_row8_col24\" class=\"data row8 col24\" >0.00</td>\n",
       "      <td id=\"T_44871_row8_col25\" class=\"data row8 col25\" >0.00</td>\n",
       "      <td id=\"T_44871_row8_col26\" class=\"data row8 col26\" >0.00</td>\n",
       "      <td id=\"T_44871_row8_col27\" class=\"data row8 col27\" >0.00</td>\n",
       "      <td id=\"T_44871_row8_col28\" class=\"data row8 col28\" >0.00</td>\n",
       "      <td id=\"T_44871_row8_col29\" class=\"data row8 col29\" >0.00</td>\n",
       "      <td id=\"T_44871_row8_col30\" class=\"data row8 col30\" >0.00</td>\n",
       "      <td id=\"T_44871_row8_col31\" class=\"data row8 col31\" >0.00</td>\n",
       "      <td id=\"T_44871_row8_col32\" class=\"data row8 col32\" >0.15</td>\n",
       "      <td id=\"T_44871_row8_col33\" class=\"data row8 col33\" >0.00</td>\n",
       "      <td id=\"T_44871_row8_col34\" class=\"data row8 col34\" >0.00</td>\n",
       "      <td id=\"T_44871_row8_col35\" class=\"data row8 col35\" >0.00</td>\n",
       "      <td id=\"T_44871_row8_col36\" class=\"data row8 col36\" >0.00</td>\n",
       "      <td id=\"T_44871_row8_col37\" class=\"data row8 col37\" >0.00</td>\n",
       "      <td id=\"T_44871_row8_col38\" class=\"data row8 col38\" >0.00</td>\n",
       "      <td id=\"T_44871_row8_col39\" class=\"data row8 col39\" >0.00</td>\n",
       "      <td id=\"T_44871_row8_col40\" class=\"data row8 col40\" >0.00</td>\n",
       "      <td id=\"T_44871_row8_col41\" class=\"data row8 col41\" >0.00</td>\n",
       "      <td id=\"T_44871_row8_col42\" class=\"data row8 col42\" >0.30</td>\n",
       "      <td id=\"T_44871_row8_col43\" class=\"data row8 col43\" >0.00</td>\n",
       "      <td id=\"T_44871_row8_col44\" class=\"data row8 col44\" >0.00</td>\n",
       "      <td id=\"T_44871_row8_col45\" class=\"data row8 col45\" >0.00</td>\n",
       "      <td id=\"T_44871_row8_col46\" class=\"data row8 col46\" >0.00</td>\n",
       "      <td id=\"T_44871_row8_col47\" class=\"data row8 col47\" >0.00</td>\n",
       "      <td id=\"T_44871_row8_col48\" class=\"data row8 col48\" >0.00</td>\n",
       "      <td id=\"T_44871_row8_col49\" class=\"data row8 col49\" >0.27</td>\n",
       "      <td id=\"T_44871_row8_col50\" class=\"data row8 col50\" >0.00</td>\n",
       "      <td id=\"T_44871_row8_col51\" class=\"data row8 col51\" >0.18</td>\n",
       "      <td id=\"T_44871_row8_col52\" class=\"data row8 col52\" >0.20</td>\n",
       "      <td id=\"T_44871_row8_col53\" class=\"data row8 col53\" >0.02</td>\n",
       "      <td id=\"T_44871_row8_col54\" class=\"data row8 col54\" >9.74</td>\n",
       "      <td id=\"T_44871_row8_col55\" class=\"data row8 col55\" >445</td>\n",
       "      <td id=\"T_44871_row8_col56\" class=\"data row8 col56\" >1,257</td>\n",
       "      <td id=\"T_44871_row8_col57\" class=\"data row8 col57\" >1</td>\n",
       "    </tr>\n",
       "    <tr>\n",
       "      <td id=\"T_44871_row9_col0\" class=\"data row9 col0\" >0.06</td>\n",
       "      <td id=\"T_44871_row9_col1\" class=\"data row9 col1\" >0.12</td>\n",
       "      <td id=\"T_44871_row9_col2\" class=\"data row9 col2\" >0.77</td>\n",
       "      <td id=\"T_44871_row9_col3\" class=\"data row9 col3\" >0.00</td>\n",
       "      <td id=\"T_44871_row9_col4\" class=\"data row9 col4\" >0.19</td>\n",
       "      <td id=\"T_44871_row9_col5\" class=\"data row9 col5\" >0.32</td>\n",
       "      <td id=\"T_44871_row9_col6\" class=\"data row9 col6\" >0.38</td>\n",
       "      <td id=\"T_44871_row9_col7\" class=\"data row9 col7\" >0.00</td>\n",
       "      <td id=\"T_44871_row9_col8\" class=\"data row9 col8\" >0.06</td>\n",
       "      <td id=\"T_44871_row9_col9\" class=\"data row9 col9\" >0.00</td>\n",
       "      <td id=\"T_44871_row9_col10\" class=\"data row9 col10\" >0.00</td>\n",
       "      <td id=\"T_44871_row9_col11\" class=\"data row9 col11\" >0.64</td>\n",
       "      <td id=\"T_44871_row9_col12\" class=\"data row9 col12\" >0.25</td>\n",
       "      <td id=\"T_44871_row9_col13\" class=\"data row9 col13\" >0.00</td>\n",
       "      <td id=\"T_44871_row9_col14\" class=\"data row9 col14\" >0.12</td>\n",
       "      <td id=\"T_44871_row9_col15\" class=\"data row9 col15\" >0.00</td>\n",
       "      <td id=\"T_44871_row9_col16\" class=\"data row9 col16\" >0.00</td>\n",
       "      <td id=\"T_44871_row9_col17\" class=\"data row9 col17\" >0.12</td>\n",
       "      <td id=\"T_44871_row9_col18\" class=\"data row9 col18\" >1.67</td>\n",
       "      <td id=\"T_44871_row9_col19\" class=\"data row9 col19\" >0.06</td>\n",
       "      <td id=\"T_44871_row9_col20\" class=\"data row9 col20\" >0.71</td>\n",
       "      <td id=\"T_44871_row9_col21\" class=\"data row9 col21\" >0.00</td>\n",
       "      <td id=\"T_44871_row9_col22\" class=\"data row9 col22\" >0.19</td>\n",
       "      <td id=\"T_44871_row9_col23\" class=\"data row9 col23\" >0.00</td>\n",
       "      <td id=\"T_44871_row9_col24\" class=\"data row9 col24\" >0.00</td>\n",
       "      <td id=\"T_44871_row9_col25\" class=\"data row9 col25\" >0.00</td>\n",
       "      <td id=\"T_44871_row9_col26\" class=\"data row9 col26\" >0.00</td>\n",
       "      <td id=\"T_44871_row9_col27\" class=\"data row9 col27\" >0.00</td>\n",
       "      <td id=\"T_44871_row9_col28\" class=\"data row9 col28\" >0.00</td>\n",
       "      <td id=\"T_44871_row9_col29\" class=\"data row9 col29\" >0.00</td>\n",
       "      <td id=\"T_44871_row9_col30\" class=\"data row9 col30\" >0.00</td>\n",
       "      <td id=\"T_44871_row9_col31\" class=\"data row9 col31\" >0.00</td>\n",
       "      <td id=\"T_44871_row9_col32\" class=\"data row9 col32\" >0.00</td>\n",
       "      <td id=\"T_44871_row9_col33\" class=\"data row9 col33\" >0.00</td>\n",
       "      <td id=\"T_44871_row9_col34\" class=\"data row9 col34\" >0.00</td>\n",
       "      <td id=\"T_44871_row9_col35\" class=\"data row9 col35\" >0.00</td>\n",
       "      <td id=\"T_44871_row9_col36\" class=\"data row9 col36\" >0.00</td>\n",
       "      <td id=\"T_44871_row9_col37\" class=\"data row9 col37\" >0.00</td>\n",
       "      <td id=\"T_44871_row9_col38\" class=\"data row9 col38\" >0.00</td>\n",
       "      <td id=\"T_44871_row9_col39\" class=\"data row9 col39\" >0.00</td>\n",
       "      <td id=\"T_44871_row9_col40\" class=\"data row9 col40\" >0.00</td>\n",
       "      <td id=\"T_44871_row9_col41\" class=\"data row9 col41\" >0.00</td>\n",
       "      <td id=\"T_44871_row9_col42\" class=\"data row9 col42\" >0.00</td>\n",
       "      <td id=\"T_44871_row9_col43\" class=\"data row9 col43\" >0.06</td>\n",
       "      <td id=\"T_44871_row9_col44\" class=\"data row9 col44\" >0.00</td>\n",
       "      <td id=\"T_44871_row9_col45\" class=\"data row9 col45\" >0.00</td>\n",
       "      <td id=\"T_44871_row9_col46\" class=\"data row9 col46\" >0.00</td>\n",
       "      <td id=\"T_44871_row9_col47\" class=\"data row9 col47\" >0.00</td>\n",
       "      <td id=\"T_44871_row9_col48\" class=\"data row9 col48\" >0.04</td>\n",
       "      <td id=\"T_44871_row9_col49\" class=\"data row9 col49\" >0.03</td>\n",
       "      <td id=\"T_44871_row9_col50\" class=\"data row9 col50\" >0.00</td>\n",
       "      <td id=\"T_44871_row9_col51\" class=\"data row9 col51\" >0.24</td>\n",
       "      <td id=\"T_44871_row9_col52\" class=\"data row9 col52\" >0.08</td>\n",
       "      <td id=\"T_44871_row9_col53\" class=\"data row9 col53\" >0.00</td>\n",
       "      <td id=\"T_44871_row9_col54\" class=\"data row9 col54\" >1.73</td>\n",
       "      <td id=\"T_44871_row9_col55\" class=\"data row9 col55\" >43</td>\n",
       "      <td id=\"T_44871_row9_col56\" class=\"data row9 col56\" >749</td>\n",
       "      <td id=\"T_44871_row9_col57\" class=\"data row9 col57\" >1</td>\n",
       "    </tr>\n",
       "  </tbody>\n",
       "</table>\n"
      ],
      "text/plain": [
       "<pandas.io.formats.style.Styler at 0x14b30ccd0>"
      ]
     },
     "execution_count": 4,
     "metadata": {},
     "output_type": "execute_result"
    }
   ],
   "source": [
    "pandas_processx.return_formatted_table(spam_dataframe, 'Table 1.2: Spam Data Table')"
   ]
  },
  {
   "cell_type": "markdown",
   "metadata": {},
   "source": [
    "## **1.3: Create the labels series (`y`)  from the “spam” column, and then create the features (`X`) DataFrame from the remaining columns.**"
   ]
  },
  {
   "cell_type": "markdown",
   "metadata": {},
   "source": [
    "### **Separate the Y Variable, The Labels**"
   ]
  },
  {
   "cell_type": "code",
   "execution_count": 5,
   "metadata": {},
   "outputs": [],
   "source": [
    "y_series = spam_dataframe['spam']\n",
    "\n",
    "logx.log_write_object(y_series)"
   ]
  },
  {
   "cell_type": "markdown",
   "metadata": {},
   "source": [
    "### **Review the Y Series**"
   ]
  },
  {
   "cell_type": "code",
   "execution_count": 6,
   "metadata": {},
   "outputs": [
    {
     "data": {
      "text/html": [
       "<style type=\"text/css\">\n",
       "#T_bb619 caption {\n",
       "  color: black;\n",
       "  font-size: 20px;\n",
       "  font-style: bold;\n",
       "  text-align: center;\n",
       "}\n",
       "#T_bb619_row0_col0, #T_bb619_row1_col0, #T_bb619_row2_col0, #T_bb619_row3_col0, #T_bb619_row4_col0, #T_bb619_row5_col0, #T_bb619_row6_col0, #T_bb619_row7_col0, #T_bb619_row8_col0, #T_bb619_row9_col0 {\n",
       "  text-align: center;\n",
       "  border: 1.3px solid red;\n",
       "  color: blue;\n",
       "}\n",
       "</style>\n",
       "<table id=\"T_bb619\">\n",
       "  <caption>Table 1.3.1: Spam Target Series</caption>\n",
       "  <thead>\n",
       "    <tr>\n",
       "      <th id=\"T_bb619_level0_col0\" class=\"col_heading level0 col0\" >spam</th>\n",
       "    </tr>\n",
       "  </thead>\n",
       "  <tbody>\n",
       "    <tr>\n",
       "      <td id=\"T_bb619_row0_col0\" class=\"data row0 col0\" >1</td>\n",
       "    </tr>\n",
       "    <tr>\n",
       "      <td id=\"T_bb619_row1_col0\" class=\"data row1 col0\" >1</td>\n",
       "    </tr>\n",
       "    <tr>\n",
       "      <td id=\"T_bb619_row2_col0\" class=\"data row2 col0\" >1</td>\n",
       "    </tr>\n",
       "    <tr>\n",
       "      <td id=\"T_bb619_row3_col0\" class=\"data row3 col0\" >1</td>\n",
       "    </tr>\n",
       "    <tr>\n",
       "      <td id=\"T_bb619_row4_col0\" class=\"data row4 col0\" >1</td>\n",
       "    </tr>\n",
       "    <tr>\n",
       "      <td id=\"T_bb619_row5_col0\" class=\"data row5 col0\" >1</td>\n",
       "    </tr>\n",
       "    <tr>\n",
       "      <td id=\"T_bb619_row6_col0\" class=\"data row6 col0\" >1</td>\n",
       "    </tr>\n",
       "    <tr>\n",
       "      <td id=\"T_bb619_row7_col0\" class=\"data row7 col0\" >1</td>\n",
       "    </tr>\n",
       "    <tr>\n",
       "      <td id=\"T_bb619_row8_col0\" class=\"data row8 col0\" >1</td>\n",
       "    </tr>\n",
       "    <tr>\n",
       "      <td id=\"T_bb619_row9_col0\" class=\"data row9 col0\" >1</td>\n",
       "    </tr>\n",
       "  </tbody>\n",
       "</table>\n"
      ],
      "text/plain": [
       "<pandas.io.formats.style.Styler at 0x14b37d450>"
      ]
     },
     "execution_count": 6,
     "metadata": {},
     "output_type": "execute_result"
    }
   ],
   "source": [
    "pandas_processx.return_formatted_table(y_series.to_frame(), 'Table 1.3.1: Spam Target Series')"
   ]
  },
  {
   "cell_type": "markdown",
   "metadata": {},
   "source": [
    "### **Check the Balance of the Labels Variable (`y`) by Using the `value_counts` Function.**"
   ]
  },
  {
   "cell_type": "code",
   "execution_count": 7,
   "metadata": {},
   "outputs": [
    {
     "data": {
      "text/plain": [
       "spam\n",
       "0    2788\n",
       "1    1813\n",
       "Name: count, dtype: int64"
      ]
     },
     "execution_count": 7,
     "metadata": {},
     "output_type": "execute_result"
    }
   ],
   "source": [
    "y_series.value_counts()"
   ]
  },
  {
   "cell_type": "markdown",
   "metadata": {},
   "source": [
    "### **Separate the X Variable, the Features**"
   ]
  },
  {
   "cell_type": "code",
   "execution_count": 8,
   "metadata": {},
   "outputs": [],
   "source": [
    "x_dataframe = spam_dataframe.drop(columns = 'spam', axis = 1)\n",
    "\n",
    "logx.log_write_object(x_dataframe)"
   ]
  },
  {
   "cell_type": "markdown",
   "metadata": {},
   "source": [
    "### **Review the X DataFrame**"
   ]
  },
  {
   "cell_type": "code",
   "execution_count": 9,
   "metadata": {},
   "outputs": [
    {
     "data": {
      "text/html": [
       "<style type=\"text/css\">\n",
       "#T_7d0f1 caption {\n",
       "  color: black;\n",
       "  font-size: 20px;\n",
       "  font-style: bold;\n",
       "  text-align: center;\n",
       "}\n",
       "#T_7d0f1_row0_col0, #T_7d0f1_row0_col1, #T_7d0f1_row0_col2, #T_7d0f1_row0_col3, #T_7d0f1_row0_col4, #T_7d0f1_row0_col5, #T_7d0f1_row0_col6, #T_7d0f1_row0_col7, #T_7d0f1_row0_col8, #T_7d0f1_row0_col9, #T_7d0f1_row0_col10, #T_7d0f1_row0_col11, #T_7d0f1_row0_col12, #T_7d0f1_row0_col13, #T_7d0f1_row0_col14, #T_7d0f1_row0_col15, #T_7d0f1_row0_col16, #T_7d0f1_row0_col17, #T_7d0f1_row0_col18, #T_7d0f1_row0_col19, #T_7d0f1_row0_col20, #T_7d0f1_row0_col21, #T_7d0f1_row0_col22, #T_7d0f1_row0_col23, #T_7d0f1_row0_col24, #T_7d0f1_row0_col25, #T_7d0f1_row0_col26, #T_7d0f1_row0_col27, #T_7d0f1_row0_col28, #T_7d0f1_row0_col29, #T_7d0f1_row0_col30, #T_7d0f1_row0_col31, #T_7d0f1_row0_col32, #T_7d0f1_row0_col33, #T_7d0f1_row0_col34, #T_7d0f1_row0_col35, #T_7d0f1_row0_col36, #T_7d0f1_row0_col37, #T_7d0f1_row0_col38, #T_7d0f1_row0_col39, #T_7d0f1_row0_col40, #T_7d0f1_row0_col41, #T_7d0f1_row0_col42, #T_7d0f1_row0_col43, #T_7d0f1_row0_col44, #T_7d0f1_row0_col45, #T_7d0f1_row0_col46, #T_7d0f1_row0_col47, #T_7d0f1_row0_col48, #T_7d0f1_row0_col49, #T_7d0f1_row0_col50, #T_7d0f1_row0_col51, #T_7d0f1_row0_col52, #T_7d0f1_row0_col53, #T_7d0f1_row0_col54, #T_7d0f1_row0_col55, #T_7d0f1_row0_col56, #T_7d0f1_row1_col0, #T_7d0f1_row1_col1, #T_7d0f1_row1_col2, #T_7d0f1_row1_col3, #T_7d0f1_row1_col4, #T_7d0f1_row1_col5, #T_7d0f1_row1_col6, #T_7d0f1_row1_col7, #T_7d0f1_row1_col8, #T_7d0f1_row1_col9, #T_7d0f1_row1_col10, #T_7d0f1_row1_col11, #T_7d0f1_row1_col12, #T_7d0f1_row1_col13, #T_7d0f1_row1_col14, #T_7d0f1_row1_col15, #T_7d0f1_row1_col16, #T_7d0f1_row1_col17, #T_7d0f1_row1_col18, #T_7d0f1_row1_col19, #T_7d0f1_row1_col20, #T_7d0f1_row1_col21, #T_7d0f1_row1_col22, #T_7d0f1_row1_col23, #T_7d0f1_row1_col24, #T_7d0f1_row1_col25, #T_7d0f1_row1_col26, #T_7d0f1_row1_col27, #T_7d0f1_row1_col28, #T_7d0f1_row1_col29, #T_7d0f1_row1_col30, #T_7d0f1_row1_col31, #T_7d0f1_row1_col32, #T_7d0f1_row1_col33, #T_7d0f1_row1_col34, #T_7d0f1_row1_col35, #T_7d0f1_row1_col36, #T_7d0f1_row1_col37, #T_7d0f1_row1_col38, #T_7d0f1_row1_col39, #T_7d0f1_row1_col40, #T_7d0f1_row1_col41, #T_7d0f1_row1_col42, #T_7d0f1_row1_col43, #T_7d0f1_row1_col44, #T_7d0f1_row1_col45, #T_7d0f1_row1_col46, #T_7d0f1_row1_col47, #T_7d0f1_row1_col48, #T_7d0f1_row1_col49, #T_7d0f1_row1_col50, #T_7d0f1_row1_col51, #T_7d0f1_row1_col52, #T_7d0f1_row1_col53, #T_7d0f1_row1_col54, #T_7d0f1_row1_col55, #T_7d0f1_row1_col56, #T_7d0f1_row2_col0, #T_7d0f1_row2_col1, #T_7d0f1_row2_col2, #T_7d0f1_row2_col3, #T_7d0f1_row2_col4, #T_7d0f1_row2_col5, #T_7d0f1_row2_col6, #T_7d0f1_row2_col7, #T_7d0f1_row2_col8, #T_7d0f1_row2_col9, #T_7d0f1_row2_col10, #T_7d0f1_row2_col11, #T_7d0f1_row2_col12, #T_7d0f1_row2_col13, #T_7d0f1_row2_col14, #T_7d0f1_row2_col15, #T_7d0f1_row2_col16, #T_7d0f1_row2_col17, #T_7d0f1_row2_col18, #T_7d0f1_row2_col19, #T_7d0f1_row2_col20, #T_7d0f1_row2_col21, #T_7d0f1_row2_col22, #T_7d0f1_row2_col23, #T_7d0f1_row2_col24, #T_7d0f1_row2_col25, #T_7d0f1_row2_col26, #T_7d0f1_row2_col27, #T_7d0f1_row2_col28, #T_7d0f1_row2_col29, #T_7d0f1_row2_col30, #T_7d0f1_row2_col31, #T_7d0f1_row2_col32, #T_7d0f1_row2_col33, #T_7d0f1_row2_col34, #T_7d0f1_row2_col35, #T_7d0f1_row2_col36, #T_7d0f1_row2_col37, #T_7d0f1_row2_col38, #T_7d0f1_row2_col39, #T_7d0f1_row2_col40, #T_7d0f1_row2_col41, #T_7d0f1_row2_col42, #T_7d0f1_row2_col43, #T_7d0f1_row2_col44, #T_7d0f1_row2_col45, #T_7d0f1_row2_col46, #T_7d0f1_row2_col47, #T_7d0f1_row2_col48, #T_7d0f1_row2_col49, #T_7d0f1_row2_col50, #T_7d0f1_row2_col51, #T_7d0f1_row2_col52, #T_7d0f1_row2_col53, #T_7d0f1_row2_col54, #T_7d0f1_row2_col55, #T_7d0f1_row2_col56, #T_7d0f1_row3_col0, #T_7d0f1_row3_col1, #T_7d0f1_row3_col2, #T_7d0f1_row3_col3, #T_7d0f1_row3_col4, #T_7d0f1_row3_col5, #T_7d0f1_row3_col6, #T_7d0f1_row3_col7, #T_7d0f1_row3_col8, #T_7d0f1_row3_col9, #T_7d0f1_row3_col10, #T_7d0f1_row3_col11, #T_7d0f1_row3_col12, #T_7d0f1_row3_col13, #T_7d0f1_row3_col14, #T_7d0f1_row3_col15, #T_7d0f1_row3_col16, #T_7d0f1_row3_col17, #T_7d0f1_row3_col18, #T_7d0f1_row3_col19, #T_7d0f1_row3_col20, #T_7d0f1_row3_col21, #T_7d0f1_row3_col22, #T_7d0f1_row3_col23, #T_7d0f1_row3_col24, #T_7d0f1_row3_col25, #T_7d0f1_row3_col26, #T_7d0f1_row3_col27, #T_7d0f1_row3_col28, #T_7d0f1_row3_col29, #T_7d0f1_row3_col30, #T_7d0f1_row3_col31, #T_7d0f1_row3_col32, #T_7d0f1_row3_col33, #T_7d0f1_row3_col34, #T_7d0f1_row3_col35, #T_7d0f1_row3_col36, #T_7d0f1_row3_col37, #T_7d0f1_row3_col38, #T_7d0f1_row3_col39, #T_7d0f1_row3_col40, #T_7d0f1_row3_col41, #T_7d0f1_row3_col42, #T_7d0f1_row3_col43, #T_7d0f1_row3_col44, #T_7d0f1_row3_col45, #T_7d0f1_row3_col46, #T_7d0f1_row3_col47, #T_7d0f1_row3_col48, #T_7d0f1_row3_col49, #T_7d0f1_row3_col50, #T_7d0f1_row3_col51, #T_7d0f1_row3_col52, #T_7d0f1_row3_col53, #T_7d0f1_row3_col54, #T_7d0f1_row3_col55, #T_7d0f1_row3_col56, #T_7d0f1_row4_col0, #T_7d0f1_row4_col1, #T_7d0f1_row4_col2, #T_7d0f1_row4_col3, #T_7d0f1_row4_col4, #T_7d0f1_row4_col5, #T_7d0f1_row4_col6, #T_7d0f1_row4_col7, #T_7d0f1_row4_col8, #T_7d0f1_row4_col9, #T_7d0f1_row4_col10, #T_7d0f1_row4_col11, #T_7d0f1_row4_col12, #T_7d0f1_row4_col13, #T_7d0f1_row4_col14, #T_7d0f1_row4_col15, #T_7d0f1_row4_col16, #T_7d0f1_row4_col17, #T_7d0f1_row4_col18, #T_7d0f1_row4_col19, #T_7d0f1_row4_col20, #T_7d0f1_row4_col21, #T_7d0f1_row4_col22, #T_7d0f1_row4_col23, #T_7d0f1_row4_col24, #T_7d0f1_row4_col25, #T_7d0f1_row4_col26, #T_7d0f1_row4_col27, #T_7d0f1_row4_col28, #T_7d0f1_row4_col29, #T_7d0f1_row4_col30, #T_7d0f1_row4_col31, #T_7d0f1_row4_col32, #T_7d0f1_row4_col33, #T_7d0f1_row4_col34, #T_7d0f1_row4_col35, #T_7d0f1_row4_col36, #T_7d0f1_row4_col37, #T_7d0f1_row4_col38, #T_7d0f1_row4_col39, #T_7d0f1_row4_col40, #T_7d0f1_row4_col41, #T_7d0f1_row4_col42, #T_7d0f1_row4_col43, #T_7d0f1_row4_col44, #T_7d0f1_row4_col45, #T_7d0f1_row4_col46, #T_7d0f1_row4_col47, #T_7d0f1_row4_col48, #T_7d0f1_row4_col49, #T_7d0f1_row4_col50, #T_7d0f1_row4_col51, #T_7d0f1_row4_col52, #T_7d0f1_row4_col53, #T_7d0f1_row4_col54, #T_7d0f1_row4_col55, #T_7d0f1_row4_col56, #T_7d0f1_row5_col0, #T_7d0f1_row5_col1, #T_7d0f1_row5_col2, #T_7d0f1_row5_col3, #T_7d0f1_row5_col4, #T_7d0f1_row5_col5, #T_7d0f1_row5_col6, #T_7d0f1_row5_col7, #T_7d0f1_row5_col8, #T_7d0f1_row5_col9, #T_7d0f1_row5_col10, #T_7d0f1_row5_col11, #T_7d0f1_row5_col12, #T_7d0f1_row5_col13, #T_7d0f1_row5_col14, #T_7d0f1_row5_col15, #T_7d0f1_row5_col16, #T_7d0f1_row5_col17, #T_7d0f1_row5_col18, #T_7d0f1_row5_col19, #T_7d0f1_row5_col20, #T_7d0f1_row5_col21, #T_7d0f1_row5_col22, #T_7d0f1_row5_col23, #T_7d0f1_row5_col24, #T_7d0f1_row5_col25, #T_7d0f1_row5_col26, #T_7d0f1_row5_col27, #T_7d0f1_row5_col28, #T_7d0f1_row5_col29, #T_7d0f1_row5_col30, #T_7d0f1_row5_col31, #T_7d0f1_row5_col32, #T_7d0f1_row5_col33, #T_7d0f1_row5_col34, #T_7d0f1_row5_col35, #T_7d0f1_row5_col36, #T_7d0f1_row5_col37, #T_7d0f1_row5_col38, #T_7d0f1_row5_col39, #T_7d0f1_row5_col40, #T_7d0f1_row5_col41, #T_7d0f1_row5_col42, #T_7d0f1_row5_col43, #T_7d0f1_row5_col44, #T_7d0f1_row5_col45, #T_7d0f1_row5_col46, #T_7d0f1_row5_col47, #T_7d0f1_row5_col48, #T_7d0f1_row5_col49, #T_7d0f1_row5_col50, #T_7d0f1_row5_col51, #T_7d0f1_row5_col52, #T_7d0f1_row5_col53, #T_7d0f1_row5_col54, #T_7d0f1_row5_col55, #T_7d0f1_row5_col56, #T_7d0f1_row6_col0, #T_7d0f1_row6_col1, #T_7d0f1_row6_col2, #T_7d0f1_row6_col3, #T_7d0f1_row6_col4, #T_7d0f1_row6_col5, #T_7d0f1_row6_col6, #T_7d0f1_row6_col7, #T_7d0f1_row6_col8, #T_7d0f1_row6_col9, #T_7d0f1_row6_col10, #T_7d0f1_row6_col11, #T_7d0f1_row6_col12, #T_7d0f1_row6_col13, #T_7d0f1_row6_col14, #T_7d0f1_row6_col15, #T_7d0f1_row6_col16, #T_7d0f1_row6_col17, #T_7d0f1_row6_col18, #T_7d0f1_row6_col19, #T_7d0f1_row6_col20, #T_7d0f1_row6_col21, #T_7d0f1_row6_col22, #T_7d0f1_row6_col23, #T_7d0f1_row6_col24, #T_7d0f1_row6_col25, #T_7d0f1_row6_col26, #T_7d0f1_row6_col27, #T_7d0f1_row6_col28, #T_7d0f1_row6_col29, #T_7d0f1_row6_col30, #T_7d0f1_row6_col31, #T_7d0f1_row6_col32, #T_7d0f1_row6_col33, #T_7d0f1_row6_col34, #T_7d0f1_row6_col35, #T_7d0f1_row6_col36, #T_7d0f1_row6_col37, #T_7d0f1_row6_col38, #T_7d0f1_row6_col39, #T_7d0f1_row6_col40, #T_7d0f1_row6_col41, #T_7d0f1_row6_col42, #T_7d0f1_row6_col43, #T_7d0f1_row6_col44, #T_7d0f1_row6_col45, #T_7d0f1_row6_col46, #T_7d0f1_row6_col47, #T_7d0f1_row6_col48, #T_7d0f1_row6_col49, #T_7d0f1_row6_col50, #T_7d0f1_row6_col51, #T_7d0f1_row6_col52, #T_7d0f1_row6_col53, #T_7d0f1_row6_col54, #T_7d0f1_row6_col55, #T_7d0f1_row6_col56, #T_7d0f1_row7_col0, #T_7d0f1_row7_col1, #T_7d0f1_row7_col2, #T_7d0f1_row7_col3, #T_7d0f1_row7_col4, #T_7d0f1_row7_col5, #T_7d0f1_row7_col6, #T_7d0f1_row7_col7, #T_7d0f1_row7_col8, #T_7d0f1_row7_col9, #T_7d0f1_row7_col10, #T_7d0f1_row7_col11, #T_7d0f1_row7_col12, #T_7d0f1_row7_col13, #T_7d0f1_row7_col14, #T_7d0f1_row7_col15, #T_7d0f1_row7_col16, #T_7d0f1_row7_col17, #T_7d0f1_row7_col18, #T_7d0f1_row7_col19, #T_7d0f1_row7_col20, #T_7d0f1_row7_col21, #T_7d0f1_row7_col22, #T_7d0f1_row7_col23, #T_7d0f1_row7_col24, #T_7d0f1_row7_col25, #T_7d0f1_row7_col26, #T_7d0f1_row7_col27, #T_7d0f1_row7_col28, #T_7d0f1_row7_col29, #T_7d0f1_row7_col30, #T_7d0f1_row7_col31, #T_7d0f1_row7_col32, #T_7d0f1_row7_col33, #T_7d0f1_row7_col34, #T_7d0f1_row7_col35, #T_7d0f1_row7_col36, #T_7d0f1_row7_col37, #T_7d0f1_row7_col38, #T_7d0f1_row7_col39, #T_7d0f1_row7_col40, #T_7d0f1_row7_col41, #T_7d0f1_row7_col42, #T_7d0f1_row7_col43, #T_7d0f1_row7_col44, #T_7d0f1_row7_col45, #T_7d0f1_row7_col46, #T_7d0f1_row7_col47, #T_7d0f1_row7_col48, #T_7d0f1_row7_col49, #T_7d0f1_row7_col50, #T_7d0f1_row7_col51, #T_7d0f1_row7_col52, #T_7d0f1_row7_col53, #T_7d0f1_row7_col54, #T_7d0f1_row7_col55, #T_7d0f1_row7_col56, #T_7d0f1_row8_col0, #T_7d0f1_row8_col1, #T_7d0f1_row8_col2, #T_7d0f1_row8_col3, #T_7d0f1_row8_col4, #T_7d0f1_row8_col5, #T_7d0f1_row8_col6, #T_7d0f1_row8_col7, #T_7d0f1_row8_col8, #T_7d0f1_row8_col9, #T_7d0f1_row8_col10, #T_7d0f1_row8_col11, #T_7d0f1_row8_col12, #T_7d0f1_row8_col13, #T_7d0f1_row8_col14, #T_7d0f1_row8_col15, #T_7d0f1_row8_col16, #T_7d0f1_row8_col17, #T_7d0f1_row8_col18, #T_7d0f1_row8_col19, #T_7d0f1_row8_col20, #T_7d0f1_row8_col21, #T_7d0f1_row8_col22, #T_7d0f1_row8_col23, #T_7d0f1_row8_col24, #T_7d0f1_row8_col25, #T_7d0f1_row8_col26, #T_7d0f1_row8_col27, #T_7d0f1_row8_col28, #T_7d0f1_row8_col29, #T_7d0f1_row8_col30, #T_7d0f1_row8_col31, #T_7d0f1_row8_col32, #T_7d0f1_row8_col33, #T_7d0f1_row8_col34, #T_7d0f1_row8_col35, #T_7d0f1_row8_col36, #T_7d0f1_row8_col37, #T_7d0f1_row8_col38, #T_7d0f1_row8_col39, #T_7d0f1_row8_col40, #T_7d0f1_row8_col41, #T_7d0f1_row8_col42, #T_7d0f1_row8_col43, #T_7d0f1_row8_col44, #T_7d0f1_row8_col45, #T_7d0f1_row8_col46, #T_7d0f1_row8_col47, #T_7d0f1_row8_col48, #T_7d0f1_row8_col49, #T_7d0f1_row8_col50, #T_7d0f1_row8_col51, #T_7d0f1_row8_col52, #T_7d0f1_row8_col53, #T_7d0f1_row8_col54, #T_7d0f1_row8_col55, #T_7d0f1_row8_col56, #T_7d0f1_row9_col0, #T_7d0f1_row9_col1, #T_7d0f1_row9_col2, #T_7d0f1_row9_col3, #T_7d0f1_row9_col4, #T_7d0f1_row9_col5, #T_7d0f1_row9_col6, #T_7d0f1_row9_col7, #T_7d0f1_row9_col8, #T_7d0f1_row9_col9, #T_7d0f1_row9_col10, #T_7d0f1_row9_col11, #T_7d0f1_row9_col12, #T_7d0f1_row9_col13, #T_7d0f1_row9_col14, #T_7d0f1_row9_col15, #T_7d0f1_row9_col16, #T_7d0f1_row9_col17, #T_7d0f1_row9_col18, #T_7d0f1_row9_col19, #T_7d0f1_row9_col20, #T_7d0f1_row9_col21, #T_7d0f1_row9_col22, #T_7d0f1_row9_col23, #T_7d0f1_row9_col24, #T_7d0f1_row9_col25, #T_7d0f1_row9_col26, #T_7d0f1_row9_col27, #T_7d0f1_row9_col28, #T_7d0f1_row9_col29, #T_7d0f1_row9_col30, #T_7d0f1_row9_col31, #T_7d0f1_row9_col32, #T_7d0f1_row9_col33, #T_7d0f1_row9_col34, #T_7d0f1_row9_col35, #T_7d0f1_row9_col36, #T_7d0f1_row9_col37, #T_7d0f1_row9_col38, #T_7d0f1_row9_col39, #T_7d0f1_row9_col40, #T_7d0f1_row9_col41, #T_7d0f1_row9_col42, #T_7d0f1_row9_col43, #T_7d0f1_row9_col44, #T_7d0f1_row9_col45, #T_7d0f1_row9_col46, #T_7d0f1_row9_col47, #T_7d0f1_row9_col48, #T_7d0f1_row9_col49, #T_7d0f1_row9_col50, #T_7d0f1_row9_col51, #T_7d0f1_row9_col52, #T_7d0f1_row9_col53, #T_7d0f1_row9_col54, #T_7d0f1_row9_col55, #T_7d0f1_row9_col56 {\n",
       "  text-align: center;\n",
       "  border: 1.3px solid red;\n",
       "  color: blue;\n",
       "}\n",
       "</style>\n",
       "<table id=\"T_7d0f1\">\n",
       "  <caption>Table 1.3.2: Spam Features DataFrame</caption>\n",
       "  <thead>\n",
       "    <tr>\n",
       "      <th id=\"T_7d0f1_level0_col0\" class=\"col_heading level0 col0\" >word_freq_make</th>\n",
       "      <th id=\"T_7d0f1_level0_col1\" class=\"col_heading level0 col1\" >word_freq_address</th>\n",
       "      <th id=\"T_7d0f1_level0_col2\" class=\"col_heading level0 col2\" >word_freq_all</th>\n",
       "      <th id=\"T_7d0f1_level0_col3\" class=\"col_heading level0 col3\" >word_freq_3d</th>\n",
       "      <th id=\"T_7d0f1_level0_col4\" class=\"col_heading level0 col4\" >word_freq_our</th>\n",
       "      <th id=\"T_7d0f1_level0_col5\" class=\"col_heading level0 col5\" >word_freq_over</th>\n",
       "      <th id=\"T_7d0f1_level0_col6\" class=\"col_heading level0 col6\" >word_freq_remove</th>\n",
       "      <th id=\"T_7d0f1_level0_col7\" class=\"col_heading level0 col7\" >word_freq_internet</th>\n",
       "      <th id=\"T_7d0f1_level0_col8\" class=\"col_heading level0 col8\" >word_freq_order</th>\n",
       "      <th id=\"T_7d0f1_level0_col9\" class=\"col_heading level0 col9\" >word_freq_mail</th>\n",
       "      <th id=\"T_7d0f1_level0_col10\" class=\"col_heading level0 col10\" >word_freq_receive</th>\n",
       "      <th id=\"T_7d0f1_level0_col11\" class=\"col_heading level0 col11\" >word_freq_will</th>\n",
       "      <th id=\"T_7d0f1_level0_col12\" class=\"col_heading level0 col12\" >word_freq_people</th>\n",
       "      <th id=\"T_7d0f1_level0_col13\" class=\"col_heading level0 col13\" >word_freq_report</th>\n",
       "      <th id=\"T_7d0f1_level0_col14\" class=\"col_heading level0 col14\" >word_freq_addresses</th>\n",
       "      <th id=\"T_7d0f1_level0_col15\" class=\"col_heading level0 col15\" >word_freq_free</th>\n",
       "      <th id=\"T_7d0f1_level0_col16\" class=\"col_heading level0 col16\" >word_freq_business</th>\n",
       "      <th id=\"T_7d0f1_level0_col17\" class=\"col_heading level0 col17\" >word_freq_email</th>\n",
       "      <th id=\"T_7d0f1_level0_col18\" class=\"col_heading level0 col18\" >word_freq_you</th>\n",
       "      <th id=\"T_7d0f1_level0_col19\" class=\"col_heading level0 col19\" >word_freq_credit</th>\n",
       "      <th id=\"T_7d0f1_level0_col20\" class=\"col_heading level0 col20\" >word_freq_your</th>\n",
       "      <th id=\"T_7d0f1_level0_col21\" class=\"col_heading level0 col21\" >word_freq_font</th>\n",
       "      <th id=\"T_7d0f1_level0_col22\" class=\"col_heading level0 col22\" >word_freq_000</th>\n",
       "      <th id=\"T_7d0f1_level0_col23\" class=\"col_heading level0 col23\" >word_freq_money</th>\n",
       "      <th id=\"T_7d0f1_level0_col24\" class=\"col_heading level0 col24\" >word_freq_hp</th>\n",
       "      <th id=\"T_7d0f1_level0_col25\" class=\"col_heading level0 col25\" >word_freq_hpl</th>\n",
       "      <th id=\"T_7d0f1_level0_col26\" class=\"col_heading level0 col26\" >word_freq_george</th>\n",
       "      <th id=\"T_7d0f1_level0_col27\" class=\"col_heading level0 col27\" >word_freq_650</th>\n",
       "      <th id=\"T_7d0f1_level0_col28\" class=\"col_heading level0 col28\" >word_freq_lab</th>\n",
       "      <th id=\"T_7d0f1_level0_col29\" class=\"col_heading level0 col29\" >word_freq_labs</th>\n",
       "      <th id=\"T_7d0f1_level0_col30\" class=\"col_heading level0 col30\" >word_freq_telnet</th>\n",
       "      <th id=\"T_7d0f1_level0_col31\" class=\"col_heading level0 col31\" >word_freq_857</th>\n",
       "      <th id=\"T_7d0f1_level0_col32\" class=\"col_heading level0 col32\" >word_freq_data</th>\n",
       "      <th id=\"T_7d0f1_level0_col33\" class=\"col_heading level0 col33\" >word_freq_415</th>\n",
       "      <th id=\"T_7d0f1_level0_col34\" class=\"col_heading level0 col34\" >word_freq_85</th>\n",
       "      <th id=\"T_7d0f1_level0_col35\" class=\"col_heading level0 col35\" >word_freq_technology</th>\n",
       "      <th id=\"T_7d0f1_level0_col36\" class=\"col_heading level0 col36\" >word_freq_1999</th>\n",
       "      <th id=\"T_7d0f1_level0_col37\" class=\"col_heading level0 col37\" >word_freq_parts</th>\n",
       "      <th id=\"T_7d0f1_level0_col38\" class=\"col_heading level0 col38\" >word_freq_pm</th>\n",
       "      <th id=\"T_7d0f1_level0_col39\" class=\"col_heading level0 col39\" >word_freq_direct</th>\n",
       "      <th id=\"T_7d0f1_level0_col40\" class=\"col_heading level0 col40\" >word_freq_cs</th>\n",
       "      <th id=\"T_7d0f1_level0_col41\" class=\"col_heading level0 col41\" >word_freq_meeting</th>\n",
       "      <th id=\"T_7d0f1_level0_col42\" class=\"col_heading level0 col42\" >word_freq_original</th>\n",
       "      <th id=\"T_7d0f1_level0_col43\" class=\"col_heading level0 col43\" >word_freq_project</th>\n",
       "      <th id=\"T_7d0f1_level0_col44\" class=\"col_heading level0 col44\" >word_freq_re</th>\n",
       "      <th id=\"T_7d0f1_level0_col45\" class=\"col_heading level0 col45\" >word_freq_edu</th>\n",
       "      <th id=\"T_7d0f1_level0_col46\" class=\"col_heading level0 col46\" >word_freq_table</th>\n",
       "      <th id=\"T_7d0f1_level0_col47\" class=\"col_heading level0 col47\" >word_freq_conference</th>\n",
       "      <th id=\"T_7d0f1_level0_col48\" class=\"col_heading level0 col48\" >char_freq_;</th>\n",
       "      <th id=\"T_7d0f1_level0_col49\" class=\"col_heading level0 col49\" >char_freq_(</th>\n",
       "      <th id=\"T_7d0f1_level0_col50\" class=\"col_heading level0 col50\" >char_freq_[</th>\n",
       "      <th id=\"T_7d0f1_level0_col51\" class=\"col_heading level0 col51\" >char_freq_!</th>\n",
       "      <th id=\"T_7d0f1_level0_col52\" class=\"col_heading level0 col52\" >char_freq_$</th>\n",
       "      <th id=\"T_7d0f1_level0_col53\" class=\"col_heading level0 col53\" >char_freq_#</th>\n",
       "      <th id=\"T_7d0f1_level0_col54\" class=\"col_heading level0 col54\" >capital_run_length_average</th>\n",
       "      <th id=\"T_7d0f1_level0_col55\" class=\"col_heading level0 col55\" >capital_run_length_longest</th>\n",
       "      <th id=\"T_7d0f1_level0_col56\" class=\"col_heading level0 col56\" >capital_run_length_total</th>\n",
       "    </tr>\n",
       "  </thead>\n",
       "  <tbody>\n",
       "    <tr>\n",
       "      <td id=\"T_7d0f1_row0_col0\" class=\"data row0 col0\" >0.00</td>\n",
       "      <td id=\"T_7d0f1_row0_col1\" class=\"data row0 col1\" >0.64</td>\n",
       "      <td id=\"T_7d0f1_row0_col2\" class=\"data row0 col2\" >0.64</td>\n",
       "      <td id=\"T_7d0f1_row0_col3\" class=\"data row0 col3\" >0.00</td>\n",
       "      <td id=\"T_7d0f1_row0_col4\" class=\"data row0 col4\" >0.32</td>\n",
       "      <td id=\"T_7d0f1_row0_col5\" class=\"data row0 col5\" >0.00</td>\n",
       "      <td id=\"T_7d0f1_row0_col6\" class=\"data row0 col6\" >0.00</td>\n",
       "      <td id=\"T_7d0f1_row0_col7\" class=\"data row0 col7\" >0.00</td>\n",
       "      <td id=\"T_7d0f1_row0_col8\" class=\"data row0 col8\" >0.00</td>\n",
       "      <td id=\"T_7d0f1_row0_col9\" class=\"data row0 col9\" >0.00</td>\n",
       "      <td id=\"T_7d0f1_row0_col10\" class=\"data row0 col10\" >0.00</td>\n",
       "      <td id=\"T_7d0f1_row0_col11\" class=\"data row0 col11\" >0.64</td>\n",
       "      <td id=\"T_7d0f1_row0_col12\" class=\"data row0 col12\" >0.00</td>\n",
       "      <td id=\"T_7d0f1_row0_col13\" class=\"data row0 col13\" >0.00</td>\n",
       "      <td id=\"T_7d0f1_row0_col14\" class=\"data row0 col14\" >0.00</td>\n",
       "      <td id=\"T_7d0f1_row0_col15\" class=\"data row0 col15\" >0.32</td>\n",
       "      <td id=\"T_7d0f1_row0_col16\" class=\"data row0 col16\" >0.00</td>\n",
       "      <td id=\"T_7d0f1_row0_col17\" class=\"data row0 col17\" >1.29</td>\n",
       "      <td id=\"T_7d0f1_row0_col18\" class=\"data row0 col18\" >1.93</td>\n",
       "      <td id=\"T_7d0f1_row0_col19\" class=\"data row0 col19\" >0.00</td>\n",
       "      <td id=\"T_7d0f1_row0_col20\" class=\"data row0 col20\" >0.96</td>\n",
       "      <td id=\"T_7d0f1_row0_col21\" class=\"data row0 col21\" >0.00</td>\n",
       "      <td id=\"T_7d0f1_row0_col22\" class=\"data row0 col22\" >0.00</td>\n",
       "      <td id=\"T_7d0f1_row0_col23\" class=\"data row0 col23\" >0.00</td>\n",
       "      <td id=\"T_7d0f1_row0_col24\" class=\"data row0 col24\" >0.00</td>\n",
       "      <td id=\"T_7d0f1_row0_col25\" class=\"data row0 col25\" >0.00</td>\n",
       "      <td id=\"T_7d0f1_row0_col26\" class=\"data row0 col26\" >0.00</td>\n",
       "      <td id=\"T_7d0f1_row0_col27\" class=\"data row0 col27\" >0.00</td>\n",
       "      <td id=\"T_7d0f1_row0_col28\" class=\"data row0 col28\" >0.00</td>\n",
       "      <td id=\"T_7d0f1_row0_col29\" class=\"data row0 col29\" >0.00</td>\n",
       "      <td id=\"T_7d0f1_row0_col30\" class=\"data row0 col30\" >0.00</td>\n",
       "      <td id=\"T_7d0f1_row0_col31\" class=\"data row0 col31\" >0.00</td>\n",
       "      <td id=\"T_7d0f1_row0_col32\" class=\"data row0 col32\" >0.00</td>\n",
       "      <td id=\"T_7d0f1_row0_col33\" class=\"data row0 col33\" >0.00</td>\n",
       "      <td id=\"T_7d0f1_row0_col34\" class=\"data row0 col34\" >0.00</td>\n",
       "      <td id=\"T_7d0f1_row0_col35\" class=\"data row0 col35\" >0.00</td>\n",
       "      <td id=\"T_7d0f1_row0_col36\" class=\"data row0 col36\" >0.00</td>\n",
       "      <td id=\"T_7d0f1_row0_col37\" class=\"data row0 col37\" >0.00</td>\n",
       "      <td id=\"T_7d0f1_row0_col38\" class=\"data row0 col38\" >0.00</td>\n",
       "      <td id=\"T_7d0f1_row0_col39\" class=\"data row0 col39\" >0.00</td>\n",
       "      <td id=\"T_7d0f1_row0_col40\" class=\"data row0 col40\" >0.00</td>\n",
       "      <td id=\"T_7d0f1_row0_col41\" class=\"data row0 col41\" >0.00</td>\n",
       "      <td id=\"T_7d0f1_row0_col42\" class=\"data row0 col42\" >0.00</td>\n",
       "      <td id=\"T_7d0f1_row0_col43\" class=\"data row0 col43\" >0.00</td>\n",
       "      <td id=\"T_7d0f1_row0_col44\" class=\"data row0 col44\" >0.00</td>\n",
       "      <td id=\"T_7d0f1_row0_col45\" class=\"data row0 col45\" >0.00</td>\n",
       "      <td id=\"T_7d0f1_row0_col46\" class=\"data row0 col46\" >0.00</td>\n",
       "      <td id=\"T_7d0f1_row0_col47\" class=\"data row0 col47\" >0.00</td>\n",
       "      <td id=\"T_7d0f1_row0_col48\" class=\"data row0 col48\" >0.00</td>\n",
       "      <td id=\"T_7d0f1_row0_col49\" class=\"data row0 col49\" >0.00</td>\n",
       "      <td id=\"T_7d0f1_row0_col50\" class=\"data row0 col50\" >0.00</td>\n",
       "      <td id=\"T_7d0f1_row0_col51\" class=\"data row0 col51\" >0.78</td>\n",
       "      <td id=\"T_7d0f1_row0_col52\" class=\"data row0 col52\" >0.00</td>\n",
       "      <td id=\"T_7d0f1_row0_col53\" class=\"data row0 col53\" >0.00</td>\n",
       "      <td id=\"T_7d0f1_row0_col54\" class=\"data row0 col54\" >3.76</td>\n",
       "      <td id=\"T_7d0f1_row0_col55\" class=\"data row0 col55\" >61</td>\n",
       "      <td id=\"T_7d0f1_row0_col56\" class=\"data row0 col56\" >278</td>\n",
       "    </tr>\n",
       "    <tr>\n",
       "      <td id=\"T_7d0f1_row1_col0\" class=\"data row1 col0\" >0.21</td>\n",
       "      <td id=\"T_7d0f1_row1_col1\" class=\"data row1 col1\" >0.28</td>\n",
       "      <td id=\"T_7d0f1_row1_col2\" class=\"data row1 col2\" >0.50</td>\n",
       "      <td id=\"T_7d0f1_row1_col3\" class=\"data row1 col3\" >0.00</td>\n",
       "      <td id=\"T_7d0f1_row1_col4\" class=\"data row1 col4\" >0.14</td>\n",
       "      <td id=\"T_7d0f1_row1_col5\" class=\"data row1 col5\" >0.28</td>\n",
       "      <td id=\"T_7d0f1_row1_col6\" class=\"data row1 col6\" >0.21</td>\n",
       "      <td id=\"T_7d0f1_row1_col7\" class=\"data row1 col7\" >0.07</td>\n",
       "      <td id=\"T_7d0f1_row1_col8\" class=\"data row1 col8\" >0.00</td>\n",
       "      <td id=\"T_7d0f1_row1_col9\" class=\"data row1 col9\" >0.94</td>\n",
       "      <td id=\"T_7d0f1_row1_col10\" class=\"data row1 col10\" >0.21</td>\n",
       "      <td id=\"T_7d0f1_row1_col11\" class=\"data row1 col11\" >0.79</td>\n",
       "      <td id=\"T_7d0f1_row1_col12\" class=\"data row1 col12\" >0.65</td>\n",
       "      <td id=\"T_7d0f1_row1_col13\" class=\"data row1 col13\" >0.21</td>\n",
       "      <td id=\"T_7d0f1_row1_col14\" class=\"data row1 col14\" >0.14</td>\n",
       "      <td id=\"T_7d0f1_row1_col15\" class=\"data row1 col15\" >0.14</td>\n",
       "      <td id=\"T_7d0f1_row1_col16\" class=\"data row1 col16\" >0.07</td>\n",
       "      <td id=\"T_7d0f1_row1_col17\" class=\"data row1 col17\" >0.28</td>\n",
       "      <td id=\"T_7d0f1_row1_col18\" class=\"data row1 col18\" >3.47</td>\n",
       "      <td id=\"T_7d0f1_row1_col19\" class=\"data row1 col19\" >0.00</td>\n",
       "      <td id=\"T_7d0f1_row1_col20\" class=\"data row1 col20\" >1.59</td>\n",
       "      <td id=\"T_7d0f1_row1_col21\" class=\"data row1 col21\" >0.00</td>\n",
       "      <td id=\"T_7d0f1_row1_col22\" class=\"data row1 col22\" >0.43</td>\n",
       "      <td id=\"T_7d0f1_row1_col23\" class=\"data row1 col23\" >0.43</td>\n",
       "      <td id=\"T_7d0f1_row1_col24\" class=\"data row1 col24\" >0.00</td>\n",
       "      <td id=\"T_7d0f1_row1_col25\" class=\"data row1 col25\" >0.00</td>\n",
       "      <td id=\"T_7d0f1_row1_col26\" class=\"data row1 col26\" >0.00</td>\n",
       "      <td id=\"T_7d0f1_row1_col27\" class=\"data row1 col27\" >0.00</td>\n",
       "      <td id=\"T_7d0f1_row1_col28\" class=\"data row1 col28\" >0.00</td>\n",
       "      <td id=\"T_7d0f1_row1_col29\" class=\"data row1 col29\" >0.00</td>\n",
       "      <td id=\"T_7d0f1_row1_col30\" class=\"data row1 col30\" >0.00</td>\n",
       "      <td id=\"T_7d0f1_row1_col31\" class=\"data row1 col31\" >0.00</td>\n",
       "      <td id=\"T_7d0f1_row1_col32\" class=\"data row1 col32\" >0.00</td>\n",
       "      <td id=\"T_7d0f1_row1_col33\" class=\"data row1 col33\" >0.00</td>\n",
       "      <td id=\"T_7d0f1_row1_col34\" class=\"data row1 col34\" >0.00</td>\n",
       "      <td id=\"T_7d0f1_row1_col35\" class=\"data row1 col35\" >0.00</td>\n",
       "      <td id=\"T_7d0f1_row1_col36\" class=\"data row1 col36\" >0.07</td>\n",
       "      <td id=\"T_7d0f1_row1_col37\" class=\"data row1 col37\" >0.00</td>\n",
       "      <td id=\"T_7d0f1_row1_col38\" class=\"data row1 col38\" >0.00</td>\n",
       "      <td id=\"T_7d0f1_row1_col39\" class=\"data row1 col39\" >0.00</td>\n",
       "      <td id=\"T_7d0f1_row1_col40\" class=\"data row1 col40\" >0.00</td>\n",
       "      <td id=\"T_7d0f1_row1_col41\" class=\"data row1 col41\" >0.00</td>\n",
       "      <td id=\"T_7d0f1_row1_col42\" class=\"data row1 col42\" >0.00</td>\n",
       "      <td id=\"T_7d0f1_row1_col43\" class=\"data row1 col43\" >0.00</td>\n",
       "      <td id=\"T_7d0f1_row1_col44\" class=\"data row1 col44\" >0.00</td>\n",
       "      <td id=\"T_7d0f1_row1_col45\" class=\"data row1 col45\" >0.00</td>\n",
       "      <td id=\"T_7d0f1_row1_col46\" class=\"data row1 col46\" >0.00</td>\n",
       "      <td id=\"T_7d0f1_row1_col47\" class=\"data row1 col47\" >0.00</td>\n",
       "      <td id=\"T_7d0f1_row1_col48\" class=\"data row1 col48\" >0.00</td>\n",
       "      <td id=\"T_7d0f1_row1_col49\" class=\"data row1 col49\" >0.13</td>\n",
       "      <td id=\"T_7d0f1_row1_col50\" class=\"data row1 col50\" >0.00</td>\n",
       "      <td id=\"T_7d0f1_row1_col51\" class=\"data row1 col51\" >0.37</td>\n",
       "      <td id=\"T_7d0f1_row1_col52\" class=\"data row1 col52\" >0.18</td>\n",
       "      <td id=\"T_7d0f1_row1_col53\" class=\"data row1 col53\" >0.05</td>\n",
       "      <td id=\"T_7d0f1_row1_col54\" class=\"data row1 col54\" >5.11</td>\n",
       "      <td id=\"T_7d0f1_row1_col55\" class=\"data row1 col55\" >101</td>\n",
       "      <td id=\"T_7d0f1_row1_col56\" class=\"data row1 col56\" >1,028</td>\n",
       "    </tr>\n",
       "    <tr>\n",
       "      <td id=\"T_7d0f1_row2_col0\" class=\"data row2 col0\" >0.06</td>\n",
       "      <td id=\"T_7d0f1_row2_col1\" class=\"data row2 col1\" >0.00</td>\n",
       "      <td id=\"T_7d0f1_row2_col2\" class=\"data row2 col2\" >0.71</td>\n",
       "      <td id=\"T_7d0f1_row2_col3\" class=\"data row2 col3\" >0.00</td>\n",
       "      <td id=\"T_7d0f1_row2_col4\" class=\"data row2 col4\" >1.23</td>\n",
       "      <td id=\"T_7d0f1_row2_col5\" class=\"data row2 col5\" >0.19</td>\n",
       "      <td id=\"T_7d0f1_row2_col6\" class=\"data row2 col6\" >0.19</td>\n",
       "      <td id=\"T_7d0f1_row2_col7\" class=\"data row2 col7\" >0.12</td>\n",
       "      <td id=\"T_7d0f1_row2_col8\" class=\"data row2 col8\" >0.64</td>\n",
       "      <td id=\"T_7d0f1_row2_col9\" class=\"data row2 col9\" >0.25</td>\n",
       "      <td id=\"T_7d0f1_row2_col10\" class=\"data row2 col10\" >0.38</td>\n",
       "      <td id=\"T_7d0f1_row2_col11\" class=\"data row2 col11\" >0.45</td>\n",
       "      <td id=\"T_7d0f1_row2_col12\" class=\"data row2 col12\" >0.12</td>\n",
       "      <td id=\"T_7d0f1_row2_col13\" class=\"data row2 col13\" >0.00</td>\n",
       "      <td id=\"T_7d0f1_row2_col14\" class=\"data row2 col14\" >1.75</td>\n",
       "      <td id=\"T_7d0f1_row2_col15\" class=\"data row2 col15\" >0.06</td>\n",
       "      <td id=\"T_7d0f1_row2_col16\" class=\"data row2 col16\" >0.06</td>\n",
       "      <td id=\"T_7d0f1_row2_col17\" class=\"data row2 col17\" >1.03</td>\n",
       "      <td id=\"T_7d0f1_row2_col18\" class=\"data row2 col18\" >1.36</td>\n",
       "      <td id=\"T_7d0f1_row2_col19\" class=\"data row2 col19\" >0.32</td>\n",
       "      <td id=\"T_7d0f1_row2_col20\" class=\"data row2 col20\" >0.51</td>\n",
       "      <td id=\"T_7d0f1_row2_col21\" class=\"data row2 col21\" >0.00</td>\n",
       "      <td id=\"T_7d0f1_row2_col22\" class=\"data row2 col22\" >1.16</td>\n",
       "      <td id=\"T_7d0f1_row2_col23\" class=\"data row2 col23\" >0.06</td>\n",
       "      <td id=\"T_7d0f1_row2_col24\" class=\"data row2 col24\" >0.00</td>\n",
       "      <td id=\"T_7d0f1_row2_col25\" class=\"data row2 col25\" >0.00</td>\n",
       "      <td id=\"T_7d0f1_row2_col26\" class=\"data row2 col26\" >0.00</td>\n",
       "      <td id=\"T_7d0f1_row2_col27\" class=\"data row2 col27\" >0.00</td>\n",
       "      <td id=\"T_7d0f1_row2_col28\" class=\"data row2 col28\" >0.00</td>\n",
       "      <td id=\"T_7d0f1_row2_col29\" class=\"data row2 col29\" >0.00</td>\n",
       "      <td id=\"T_7d0f1_row2_col30\" class=\"data row2 col30\" >0.00</td>\n",
       "      <td id=\"T_7d0f1_row2_col31\" class=\"data row2 col31\" >0.00</td>\n",
       "      <td id=\"T_7d0f1_row2_col32\" class=\"data row2 col32\" >0.00</td>\n",
       "      <td id=\"T_7d0f1_row2_col33\" class=\"data row2 col33\" >0.00</td>\n",
       "      <td id=\"T_7d0f1_row2_col34\" class=\"data row2 col34\" >0.00</td>\n",
       "      <td id=\"T_7d0f1_row2_col35\" class=\"data row2 col35\" >0.00</td>\n",
       "      <td id=\"T_7d0f1_row2_col36\" class=\"data row2 col36\" >0.00</td>\n",
       "      <td id=\"T_7d0f1_row2_col37\" class=\"data row2 col37\" >0.00</td>\n",
       "      <td id=\"T_7d0f1_row2_col38\" class=\"data row2 col38\" >0.00</td>\n",
       "      <td id=\"T_7d0f1_row2_col39\" class=\"data row2 col39\" >0.06</td>\n",
       "      <td id=\"T_7d0f1_row2_col40\" class=\"data row2 col40\" >0.00</td>\n",
       "      <td id=\"T_7d0f1_row2_col41\" class=\"data row2 col41\" >0.00</td>\n",
       "      <td id=\"T_7d0f1_row2_col42\" class=\"data row2 col42\" >0.12</td>\n",
       "      <td id=\"T_7d0f1_row2_col43\" class=\"data row2 col43\" >0.00</td>\n",
       "      <td id=\"T_7d0f1_row2_col44\" class=\"data row2 col44\" >0.06</td>\n",
       "      <td id=\"T_7d0f1_row2_col45\" class=\"data row2 col45\" >0.06</td>\n",
       "      <td id=\"T_7d0f1_row2_col46\" class=\"data row2 col46\" >0.00</td>\n",
       "      <td id=\"T_7d0f1_row2_col47\" class=\"data row2 col47\" >0.00</td>\n",
       "      <td id=\"T_7d0f1_row2_col48\" class=\"data row2 col48\" >0.01</td>\n",
       "      <td id=\"T_7d0f1_row2_col49\" class=\"data row2 col49\" >0.14</td>\n",
       "      <td id=\"T_7d0f1_row2_col50\" class=\"data row2 col50\" >0.00</td>\n",
       "      <td id=\"T_7d0f1_row2_col51\" class=\"data row2 col51\" >0.28</td>\n",
       "      <td id=\"T_7d0f1_row2_col52\" class=\"data row2 col52\" >0.18</td>\n",
       "      <td id=\"T_7d0f1_row2_col53\" class=\"data row2 col53\" >0.01</td>\n",
       "      <td id=\"T_7d0f1_row2_col54\" class=\"data row2 col54\" >9.82</td>\n",
       "      <td id=\"T_7d0f1_row2_col55\" class=\"data row2 col55\" >485</td>\n",
       "      <td id=\"T_7d0f1_row2_col56\" class=\"data row2 col56\" >2,259</td>\n",
       "    </tr>\n",
       "    <tr>\n",
       "      <td id=\"T_7d0f1_row3_col0\" class=\"data row3 col0\" >0.00</td>\n",
       "      <td id=\"T_7d0f1_row3_col1\" class=\"data row3 col1\" >0.00</td>\n",
       "      <td id=\"T_7d0f1_row3_col2\" class=\"data row3 col2\" >0.00</td>\n",
       "      <td id=\"T_7d0f1_row3_col3\" class=\"data row3 col3\" >0.00</td>\n",
       "      <td id=\"T_7d0f1_row3_col4\" class=\"data row3 col4\" >0.63</td>\n",
       "      <td id=\"T_7d0f1_row3_col5\" class=\"data row3 col5\" >0.00</td>\n",
       "      <td id=\"T_7d0f1_row3_col6\" class=\"data row3 col6\" >0.31</td>\n",
       "      <td id=\"T_7d0f1_row3_col7\" class=\"data row3 col7\" >0.63</td>\n",
       "      <td id=\"T_7d0f1_row3_col8\" class=\"data row3 col8\" >0.31</td>\n",
       "      <td id=\"T_7d0f1_row3_col9\" class=\"data row3 col9\" >0.63</td>\n",
       "      <td id=\"T_7d0f1_row3_col10\" class=\"data row3 col10\" >0.31</td>\n",
       "      <td id=\"T_7d0f1_row3_col11\" class=\"data row3 col11\" >0.31</td>\n",
       "      <td id=\"T_7d0f1_row3_col12\" class=\"data row3 col12\" >0.31</td>\n",
       "      <td id=\"T_7d0f1_row3_col13\" class=\"data row3 col13\" >0.00</td>\n",
       "      <td id=\"T_7d0f1_row3_col14\" class=\"data row3 col14\" >0.00</td>\n",
       "      <td id=\"T_7d0f1_row3_col15\" class=\"data row3 col15\" >0.31</td>\n",
       "      <td id=\"T_7d0f1_row3_col16\" class=\"data row3 col16\" >0.00</td>\n",
       "      <td id=\"T_7d0f1_row3_col17\" class=\"data row3 col17\" >0.00</td>\n",
       "      <td id=\"T_7d0f1_row3_col18\" class=\"data row3 col18\" >3.18</td>\n",
       "      <td id=\"T_7d0f1_row3_col19\" class=\"data row3 col19\" >0.00</td>\n",
       "      <td id=\"T_7d0f1_row3_col20\" class=\"data row3 col20\" >0.31</td>\n",
       "      <td id=\"T_7d0f1_row3_col21\" class=\"data row3 col21\" >0.00</td>\n",
       "      <td id=\"T_7d0f1_row3_col22\" class=\"data row3 col22\" >0.00</td>\n",
       "      <td id=\"T_7d0f1_row3_col23\" class=\"data row3 col23\" >0.00</td>\n",
       "      <td id=\"T_7d0f1_row3_col24\" class=\"data row3 col24\" >0.00</td>\n",
       "      <td id=\"T_7d0f1_row3_col25\" class=\"data row3 col25\" >0.00</td>\n",
       "      <td id=\"T_7d0f1_row3_col26\" class=\"data row3 col26\" >0.00</td>\n",
       "      <td id=\"T_7d0f1_row3_col27\" class=\"data row3 col27\" >0.00</td>\n",
       "      <td id=\"T_7d0f1_row3_col28\" class=\"data row3 col28\" >0.00</td>\n",
       "      <td id=\"T_7d0f1_row3_col29\" class=\"data row3 col29\" >0.00</td>\n",
       "      <td id=\"T_7d0f1_row3_col30\" class=\"data row3 col30\" >0.00</td>\n",
       "      <td id=\"T_7d0f1_row3_col31\" class=\"data row3 col31\" >0.00</td>\n",
       "      <td id=\"T_7d0f1_row3_col32\" class=\"data row3 col32\" >0.00</td>\n",
       "      <td id=\"T_7d0f1_row3_col33\" class=\"data row3 col33\" >0.00</td>\n",
       "      <td id=\"T_7d0f1_row3_col34\" class=\"data row3 col34\" >0.00</td>\n",
       "      <td id=\"T_7d0f1_row3_col35\" class=\"data row3 col35\" >0.00</td>\n",
       "      <td id=\"T_7d0f1_row3_col36\" class=\"data row3 col36\" >0.00</td>\n",
       "      <td id=\"T_7d0f1_row3_col37\" class=\"data row3 col37\" >0.00</td>\n",
       "      <td id=\"T_7d0f1_row3_col38\" class=\"data row3 col38\" >0.00</td>\n",
       "      <td id=\"T_7d0f1_row3_col39\" class=\"data row3 col39\" >0.00</td>\n",
       "      <td id=\"T_7d0f1_row3_col40\" class=\"data row3 col40\" >0.00</td>\n",
       "      <td id=\"T_7d0f1_row3_col41\" class=\"data row3 col41\" >0.00</td>\n",
       "      <td id=\"T_7d0f1_row3_col42\" class=\"data row3 col42\" >0.00</td>\n",
       "      <td id=\"T_7d0f1_row3_col43\" class=\"data row3 col43\" >0.00</td>\n",
       "      <td id=\"T_7d0f1_row3_col44\" class=\"data row3 col44\" >0.00</td>\n",
       "      <td id=\"T_7d0f1_row3_col45\" class=\"data row3 col45\" >0.00</td>\n",
       "      <td id=\"T_7d0f1_row3_col46\" class=\"data row3 col46\" >0.00</td>\n",
       "      <td id=\"T_7d0f1_row3_col47\" class=\"data row3 col47\" >0.00</td>\n",
       "      <td id=\"T_7d0f1_row3_col48\" class=\"data row3 col48\" >0.00</td>\n",
       "      <td id=\"T_7d0f1_row3_col49\" class=\"data row3 col49\" >0.14</td>\n",
       "      <td id=\"T_7d0f1_row3_col50\" class=\"data row3 col50\" >0.00</td>\n",
       "      <td id=\"T_7d0f1_row3_col51\" class=\"data row3 col51\" >0.14</td>\n",
       "      <td id=\"T_7d0f1_row3_col52\" class=\"data row3 col52\" >0.00</td>\n",
       "      <td id=\"T_7d0f1_row3_col53\" class=\"data row3 col53\" >0.00</td>\n",
       "      <td id=\"T_7d0f1_row3_col54\" class=\"data row3 col54\" >3.54</td>\n",
       "      <td id=\"T_7d0f1_row3_col55\" class=\"data row3 col55\" >40</td>\n",
       "      <td id=\"T_7d0f1_row3_col56\" class=\"data row3 col56\" >191</td>\n",
       "    </tr>\n",
       "    <tr>\n",
       "      <td id=\"T_7d0f1_row4_col0\" class=\"data row4 col0\" >0.00</td>\n",
       "      <td id=\"T_7d0f1_row4_col1\" class=\"data row4 col1\" >0.00</td>\n",
       "      <td id=\"T_7d0f1_row4_col2\" class=\"data row4 col2\" >0.00</td>\n",
       "      <td id=\"T_7d0f1_row4_col3\" class=\"data row4 col3\" >0.00</td>\n",
       "      <td id=\"T_7d0f1_row4_col4\" class=\"data row4 col4\" >0.63</td>\n",
       "      <td id=\"T_7d0f1_row4_col5\" class=\"data row4 col5\" >0.00</td>\n",
       "      <td id=\"T_7d0f1_row4_col6\" class=\"data row4 col6\" >0.31</td>\n",
       "      <td id=\"T_7d0f1_row4_col7\" class=\"data row4 col7\" >0.63</td>\n",
       "      <td id=\"T_7d0f1_row4_col8\" class=\"data row4 col8\" >0.31</td>\n",
       "      <td id=\"T_7d0f1_row4_col9\" class=\"data row4 col9\" >0.63</td>\n",
       "      <td id=\"T_7d0f1_row4_col10\" class=\"data row4 col10\" >0.31</td>\n",
       "      <td id=\"T_7d0f1_row4_col11\" class=\"data row4 col11\" >0.31</td>\n",
       "      <td id=\"T_7d0f1_row4_col12\" class=\"data row4 col12\" >0.31</td>\n",
       "      <td id=\"T_7d0f1_row4_col13\" class=\"data row4 col13\" >0.00</td>\n",
       "      <td id=\"T_7d0f1_row4_col14\" class=\"data row4 col14\" >0.00</td>\n",
       "      <td id=\"T_7d0f1_row4_col15\" class=\"data row4 col15\" >0.31</td>\n",
       "      <td id=\"T_7d0f1_row4_col16\" class=\"data row4 col16\" >0.00</td>\n",
       "      <td id=\"T_7d0f1_row4_col17\" class=\"data row4 col17\" >0.00</td>\n",
       "      <td id=\"T_7d0f1_row4_col18\" class=\"data row4 col18\" >3.18</td>\n",
       "      <td id=\"T_7d0f1_row4_col19\" class=\"data row4 col19\" >0.00</td>\n",
       "      <td id=\"T_7d0f1_row4_col20\" class=\"data row4 col20\" >0.31</td>\n",
       "      <td id=\"T_7d0f1_row4_col21\" class=\"data row4 col21\" >0.00</td>\n",
       "      <td id=\"T_7d0f1_row4_col22\" class=\"data row4 col22\" >0.00</td>\n",
       "      <td id=\"T_7d0f1_row4_col23\" class=\"data row4 col23\" >0.00</td>\n",
       "      <td id=\"T_7d0f1_row4_col24\" class=\"data row4 col24\" >0.00</td>\n",
       "      <td id=\"T_7d0f1_row4_col25\" class=\"data row4 col25\" >0.00</td>\n",
       "      <td id=\"T_7d0f1_row4_col26\" class=\"data row4 col26\" >0.00</td>\n",
       "      <td id=\"T_7d0f1_row4_col27\" class=\"data row4 col27\" >0.00</td>\n",
       "      <td id=\"T_7d0f1_row4_col28\" class=\"data row4 col28\" >0.00</td>\n",
       "      <td id=\"T_7d0f1_row4_col29\" class=\"data row4 col29\" >0.00</td>\n",
       "      <td id=\"T_7d0f1_row4_col30\" class=\"data row4 col30\" >0.00</td>\n",
       "      <td id=\"T_7d0f1_row4_col31\" class=\"data row4 col31\" >0.00</td>\n",
       "      <td id=\"T_7d0f1_row4_col32\" class=\"data row4 col32\" >0.00</td>\n",
       "      <td id=\"T_7d0f1_row4_col33\" class=\"data row4 col33\" >0.00</td>\n",
       "      <td id=\"T_7d0f1_row4_col34\" class=\"data row4 col34\" >0.00</td>\n",
       "      <td id=\"T_7d0f1_row4_col35\" class=\"data row4 col35\" >0.00</td>\n",
       "      <td id=\"T_7d0f1_row4_col36\" class=\"data row4 col36\" >0.00</td>\n",
       "      <td id=\"T_7d0f1_row4_col37\" class=\"data row4 col37\" >0.00</td>\n",
       "      <td id=\"T_7d0f1_row4_col38\" class=\"data row4 col38\" >0.00</td>\n",
       "      <td id=\"T_7d0f1_row4_col39\" class=\"data row4 col39\" >0.00</td>\n",
       "      <td id=\"T_7d0f1_row4_col40\" class=\"data row4 col40\" >0.00</td>\n",
       "      <td id=\"T_7d0f1_row4_col41\" class=\"data row4 col41\" >0.00</td>\n",
       "      <td id=\"T_7d0f1_row4_col42\" class=\"data row4 col42\" >0.00</td>\n",
       "      <td id=\"T_7d0f1_row4_col43\" class=\"data row4 col43\" >0.00</td>\n",
       "      <td id=\"T_7d0f1_row4_col44\" class=\"data row4 col44\" >0.00</td>\n",
       "      <td id=\"T_7d0f1_row4_col45\" class=\"data row4 col45\" >0.00</td>\n",
       "      <td id=\"T_7d0f1_row4_col46\" class=\"data row4 col46\" >0.00</td>\n",
       "      <td id=\"T_7d0f1_row4_col47\" class=\"data row4 col47\" >0.00</td>\n",
       "      <td id=\"T_7d0f1_row4_col48\" class=\"data row4 col48\" >0.00</td>\n",
       "      <td id=\"T_7d0f1_row4_col49\" class=\"data row4 col49\" >0.14</td>\n",
       "      <td id=\"T_7d0f1_row4_col50\" class=\"data row4 col50\" >0.00</td>\n",
       "      <td id=\"T_7d0f1_row4_col51\" class=\"data row4 col51\" >0.14</td>\n",
       "      <td id=\"T_7d0f1_row4_col52\" class=\"data row4 col52\" >0.00</td>\n",
       "      <td id=\"T_7d0f1_row4_col53\" class=\"data row4 col53\" >0.00</td>\n",
       "      <td id=\"T_7d0f1_row4_col54\" class=\"data row4 col54\" >3.54</td>\n",
       "      <td id=\"T_7d0f1_row4_col55\" class=\"data row4 col55\" >40</td>\n",
       "      <td id=\"T_7d0f1_row4_col56\" class=\"data row4 col56\" >191</td>\n",
       "    </tr>\n",
       "    <tr>\n",
       "      <td id=\"T_7d0f1_row5_col0\" class=\"data row5 col0\" >0.00</td>\n",
       "      <td id=\"T_7d0f1_row5_col1\" class=\"data row5 col1\" >0.00</td>\n",
       "      <td id=\"T_7d0f1_row5_col2\" class=\"data row5 col2\" >0.00</td>\n",
       "      <td id=\"T_7d0f1_row5_col3\" class=\"data row5 col3\" >0.00</td>\n",
       "      <td id=\"T_7d0f1_row5_col4\" class=\"data row5 col4\" >1.85</td>\n",
       "      <td id=\"T_7d0f1_row5_col5\" class=\"data row5 col5\" >0.00</td>\n",
       "      <td id=\"T_7d0f1_row5_col6\" class=\"data row5 col6\" >0.00</td>\n",
       "      <td id=\"T_7d0f1_row5_col7\" class=\"data row5 col7\" >1.85</td>\n",
       "      <td id=\"T_7d0f1_row5_col8\" class=\"data row5 col8\" >0.00</td>\n",
       "      <td id=\"T_7d0f1_row5_col9\" class=\"data row5 col9\" >0.00</td>\n",
       "      <td id=\"T_7d0f1_row5_col10\" class=\"data row5 col10\" >0.00</td>\n",
       "      <td id=\"T_7d0f1_row5_col11\" class=\"data row5 col11\" >0.00</td>\n",
       "      <td id=\"T_7d0f1_row5_col12\" class=\"data row5 col12\" >0.00</td>\n",
       "      <td id=\"T_7d0f1_row5_col13\" class=\"data row5 col13\" >0.00</td>\n",
       "      <td id=\"T_7d0f1_row5_col14\" class=\"data row5 col14\" >0.00</td>\n",
       "      <td id=\"T_7d0f1_row5_col15\" class=\"data row5 col15\" >0.00</td>\n",
       "      <td id=\"T_7d0f1_row5_col16\" class=\"data row5 col16\" >0.00</td>\n",
       "      <td id=\"T_7d0f1_row5_col17\" class=\"data row5 col17\" >0.00</td>\n",
       "      <td id=\"T_7d0f1_row5_col18\" class=\"data row5 col18\" >0.00</td>\n",
       "      <td id=\"T_7d0f1_row5_col19\" class=\"data row5 col19\" >0.00</td>\n",
       "      <td id=\"T_7d0f1_row5_col20\" class=\"data row5 col20\" >0.00</td>\n",
       "      <td id=\"T_7d0f1_row5_col21\" class=\"data row5 col21\" >0.00</td>\n",
       "      <td id=\"T_7d0f1_row5_col22\" class=\"data row5 col22\" >0.00</td>\n",
       "      <td id=\"T_7d0f1_row5_col23\" class=\"data row5 col23\" >0.00</td>\n",
       "      <td id=\"T_7d0f1_row5_col24\" class=\"data row5 col24\" >0.00</td>\n",
       "      <td id=\"T_7d0f1_row5_col25\" class=\"data row5 col25\" >0.00</td>\n",
       "      <td id=\"T_7d0f1_row5_col26\" class=\"data row5 col26\" >0.00</td>\n",
       "      <td id=\"T_7d0f1_row5_col27\" class=\"data row5 col27\" >0.00</td>\n",
       "      <td id=\"T_7d0f1_row5_col28\" class=\"data row5 col28\" >0.00</td>\n",
       "      <td id=\"T_7d0f1_row5_col29\" class=\"data row5 col29\" >0.00</td>\n",
       "      <td id=\"T_7d0f1_row5_col30\" class=\"data row5 col30\" >0.00</td>\n",
       "      <td id=\"T_7d0f1_row5_col31\" class=\"data row5 col31\" >0.00</td>\n",
       "      <td id=\"T_7d0f1_row5_col32\" class=\"data row5 col32\" >0.00</td>\n",
       "      <td id=\"T_7d0f1_row5_col33\" class=\"data row5 col33\" >0.00</td>\n",
       "      <td id=\"T_7d0f1_row5_col34\" class=\"data row5 col34\" >0.00</td>\n",
       "      <td id=\"T_7d0f1_row5_col35\" class=\"data row5 col35\" >0.00</td>\n",
       "      <td id=\"T_7d0f1_row5_col36\" class=\"data row5 col36\" >0.00</td>\n",
       "      <td id=\"T_7d0f1_row5_col37\" class=\"data row5 col37\" >0.00</td>\n",
       "      <td id=\"T_7d0f1_row5_col38\" class=\"data row5 col38\" >0.00</td>\n",
       "      <td id=\"T_7d0f1_row5_col39\" class=\"data row5 col39\" >0.00</td>\n",
       "      <td id=\"T_7d0f1_row5_col40\" class=\"data row5 col40\" >0.00</td>\n",
       "      <td id=\"T_7d0f1_row5_col41\" class=\"data row5 col41\" >0.00</td>\n",
       "      <td id=\"T_7d0f1_row5_col42\" class=\"data row5 col42\" >0.00</td>\n",
       "      <td id=\"T_7d0f1_row5_col43\" class=\"data row5 col43\" >0.00</td>\n",
       "      <td id=\"T_7d0f1_row5_col44\" class=\"data row5 col44\" >0.00</td>\n",
       "      <td id=\"T_7d0f1_row5_col45\" class=\"data row5 col45\" >0.00</td>\n",
       "      <td id=\"T_7d0f1_row5_col46\" class=\"data row5 col46\" >0.00</td>\n",
       "      <td id=\"T_7d0f1_row5_col47\" class=\"data row5 col47\" >0.00</td>\n",
       "      <td id=\"T_7d0f1_row5_col48\" class=\"data row5 col48\" >0.00</td>\n",
       "      <td id=\"T_7d0f1_row5_col49\" class=\"data row5 col49\" >0.22</td>\n",
       "      <td id=\"T_7d0f1_row5_col50\" class=\"data row5 col50\" >0.00</td>\n",
       "      <td id=\"T_7d0f1_row5_col51\" class=\"data row5 col51\" >0.00</td>\n",
       "      <td id=\"T_7d0f1_row5_col52\" class=\"data row5 col52\" >0.00</td>\n",
       "      <td id=\"T_7d0f1_row5_col53\" class=\"data row5 col53\" >0.00</td>\n",
       "      <td id=\"T_7d0f1_row5_col54\" class=\"data row5 col54\" >3.00</td>\n",
       "      <td id=\"T_7d0f1_row5_col55\" class=\"data row5 col55\" >15</td>\n",
       "      <td id=\"T_7d0f1_row5_col56\" class=\"data row5 col56\" >54</td>\n",
       "    </tr>\n",
       "    <tr>\n",
       "      <td id=\"T_7d0f1_row6_col0\" class=\"data row6 col0\" >0.00</td>\n",
       "      <td id=\"T_7d0f1_row6_col1\" class=\"data row6 col1\" >0.00</td>\n",
       "      <td id=\"T_7d0f1_row6_col2\" class=\"data row6 col2\" >0.00</td>\n",
       "      <td id=\"T_7d0f1_row6_col3\" class=\"data row6 col3\" >0.00</td>\n",
       "      <td id=\"T_7d0f1_row6_col4\" class=\"data row6 col4\" >1.92</td>\n",
       "      <td id=\"T_7d0f1_row6_col5\" class=\"data row6 col5\" >0.00</td>\n",
       "      <td id=\"T_7d0f1_row6_col6\" class=\"data row6 col6\" >0.00</td>\n",
       "      <td id=\"T_7d0f1_row6_col7\" class=\"data row6 col7\" >0.00</td>\n",
       "      <td id=\"T_7d0f1_row6_col8\" class=\"data row6 col8\" >0.00</td>\n",
       "      <td id=\"T_7d0f1_row6_col9\" class=\"data row6 col9\" >0.64</td>\n",
       "      <td id=\"T_7d0f1_row6_col10\" class=\"data row6 col10\" >0.96</td>\n",
       "      <td id=\"T_7d0f1_row6_col11\" class=\"data row6 col11\" >1.28</td>\n",
       "      <td id=\"T_7d0f1_row6_col12\" class=\"data row6 col12\" >0.00</td>\n",
       "      <td id=\"T_7d0f1_row6_col13\" class=\"data row6 col13\" >0.00</td>\n",
       "      <td id=\"T_7d0f1_row6_col14\" class=\"data row6 col14\" >0.00</td>\n",
       "      <td id=\"T_7d0f1_row6_col15\" class=\"data row6 col15\" >0.96</td>\n",
       "      <td id=\"T_7d0f1_row6_col16\" class=\"data row6 col16\" >0.00</td>\n",
       "      <td id=\"T_7d0f1_row6_col17\" class=\"data row6 col17\" >0.32</td>\n",
       "      <td id=\"T_7d0f1_row6_col18\" class=\"data row6 col18\" >3.85</td>\n",
       "      <td id=\"T_7d0f1_row6_col19\" class=\"data row6 col19\" >0.00</td>\n",
       "      <td id=\"T_7d0f1_row6_col20\" class=\"data row6 col20\" >0.64</td>\n",
       "      <td id=\"T_7d0f1_row6_col21\" class=\"data row6 col21\" >0.00</td>\n",
       "      <td id=\"T_7d0f1_row6_col22\" class=\"data row6 col22\" >0.00</td>\n",
       "      <td id=\"T_7d0f1_row6_col23\" class=\"data row6 col23\" >0.00</td>\n",
       "      <td id=\"T_7d0f1_row6_col24\" class=\"data row6 col24\" >0.00</td>\n",
       "      <td id=\"T_7d0f1_row6_col25\" class=\"data row6 col25\" >0.00</td>\n",
       "      <td id=\"T_7d0f1_row6_col26\" class=\"data row6 col26\" >0.00</td>\n",
       "      <td id=\"T_7d0f1_row6_col27\" class=\"data row6 col27\" >0.00</td>\n",
       "      <td id=\"T_7d0f1_row6_col28\" class=\"data row6 col28\" >0.00</td>\n",
       "      <td id=\"T_7d0f1_row6_col29\" class=\"data row6 col29\" >0.00</td>\n",
       "      <td id=\"T_7d0f1_row6_col30\" class=\"data row6 col30\" >0.00</td>\n",
       "      <td id=\"T_7d0f1_row6_col31\" class=\"data row6 col31\" >0.00</td>\n",
       "      <td id=\"T_7d0f1_row6_col32\" class=\"data row6 col32\" >0.00</td>\n",
       "      <td id=\"T_7d0f1_row6_col33\" class=\"data row6 col33\" >0.00</td>\n",
       "      <td id=\"T_7d0f1_row6_col34\" class=\"data row6 col34\" >0.00</td>\n",
       "      <td id=\"T_7d0f1_row6_col35\" class=\"data row6 col35\" >0.00</td>\n",
       "      <td id=\"T_7d0f1_row6_col36\" class=\"data row6 col36\" >0.00</td>\n",
       "      <td id=\"T_7d0f1_row6_col37\" class=\"data row6 col37\" >0.00</td>\n",
       "      <td id=\"T_7d0f1_row6_col38\" class=\"data row6 col38\" >0.00</td>\n",
       "      <td id=\"T_7d0f1_row6_col39\" class=\"data row6 col39\" >0.00</td>\n",
       "      <td id=\"T_7d0f1_row6_col40\" class=\"data row6 col40\" >0.00</td>\n",
       "      <td id=\"T_7d0f1_row6_col41\" class=\"data row6 col41\" >0.00</td>\n",
       "      <td id=\"T_7d0f1_row6_col42\" class=\"data row6 col42\" >0.00</td>\n",
       "      <td id=\"T_7d0f1_row6_col43\" class=\"data row6 col43\" >0.00</td>\n",
       "      <td id=\"T_7d0f1_row6_col44\" class=\"data row6 col44\" >0.00</td>\n",
       "      <td id=\"T_7d0f1_row6_col45\" class=\"data row6 col45\" >0.00</td>\n",
       "      <td id=\"T_7d0f1_row6_col46\" class=\"data row6 col46\" >0.00</td>\n",
       "      <td id=\"T_7d0f1_row6_col47\" class=\"data row6 col47\" >0.00</td>\n",
       "      <td id=\"T_7d0f1_row6_col48\" class=\"data row6 col48\" >0.00</td>\n",
       "      <td id=\"T_7d0f1_row6_col49\" class=\"data row6 col49\" >0.05</td>\n",
       "      <td id=\"T_7d0f1_row6_col50\" class=\"data row6 col50\" >0.00</td>\n",
       "      <td id=\"T_7d0f1_row6_col51\" class=\"data row6 col51\" >0.16</td>\n",
       "      <td id=\"T_7d0f1_row6_col52\" class=\"data row6 col52\" >0.05</td>\n",
       "      <td id=\"T_7d0f1_row6_col53\" class=\"data row6 col53\" >0.00</td>\n",
       "      <td id=\"T_7d0f1_row6_col54\" class=\"data row6 col54\" >1.67</td>\n",
       "      <td id=\"T_7d0f1_row6_col55\" class=\"data row6 col55\" >4</td>\n",
       "      <td id=\"T_7d0f1_row6_col56\" class=\"data row6 col56\" >112</td>\n",
       "    </tr>\n",
       "    <tr>\n",
       "      <td id=\"T_7d0f1_row7_col0\" class=\"data row7 col0\" >0.00</td>\n",
       "      <td id=\"T_7d0f1_row7_col1\" class=\"data row7 col1\" >0.00</td>\n",
       "      <td id=\"T_7d0f1_row7_col2\" class=\"data row7 col2\" >0.00</td>\n",
       "      <td id=\"T_7d0f1_row7_col3\" class=\"data row7 col3\" >0.00</td>\n",
       "      <td id=\"T_7d0f1_row7_col4\" class=\"data row7 col4\" >1.88</td>\n",
       "      <td id=\"T_7d0f1_row7_col5\" class=\"data row7 col5\" >0.00</td>\n",
       "      <td id=\"T_7d0f1_row7_col6\" class=\"data row7 col6\" >0.00</td>\n",
       "      <td id=\"T_7d0f1_row7_col7\" class=\"data row7 col7\" >1.88</td>\n",
       "      <td id=\"T_7d0f1_row7_col8\" class=\"data row7 col8\" >0.00</td>\n",
       "      <td id=\"T_7d0f1_row7_col9\" class=\"data row7 col9\" >0.00</td>\n",
       "      <td id=\"T_7d0f1_row7_col10\" class=\"data row7 col10\" >0.00</td>\n",
       "      <td id=\"T_7d0f1_row7_col11\" class=\"data row7 col11\" >0.00</td>\n",
       "      <td id=\"T_7d0f1_row7_col12\" class=\"data row7 col12\" >0.00</td>\n",
       "      <td id=\"T_7d0f1_row7_col13\" class=\"data row7 col13\" >0.00</td>\n",
       "      <td id=\"T_7d0f1_row7_col14\" class=\"data row7 col14\" >0.00</td>\n",
       "      <td id=\"T_7d0f1_row7_col15\" class=\"data row7 col15\" >0.00</td>\n",
       "      <td id=\"T_7d0f1_row7_col16\" class=\"data row7 col16\" >0.00</td>\n",
       "      <td id=\"T_7d0f1_row7_col17\" class=\"data row7 col17\" >0.00</td>\n",
       "      <td id=\"T_7d0f1_row7_col18\" class=\"data row7 col18\" >0.00</td>\n",
       "      <td id=\"T_7d0f1_row7_col19\" class=\"data row7 col19\" >0.00</td>\n",
       "      <td id=\"T_7d0f1_row7_col20\" class=\"data row7 col20\" >0.00</td>\n",
       "      <td id=\"T_7d0f1_row7_col21\" class=\"data row7 col21\" >0.00</td>\n",
       "      <td id=\"T_7d0f1_row7_col22\" class=\"data row7 col22\" >0.00</td>\n",
       "      <td id=\"T_7d0f1_row7_col23\" class=\"data row7 col23\" >0.00</td>\n",
       "      <td id=\"T_7d0f1_row7_col24\" class=\"data row7 col24\" >0.00</td>\n",
       "      <td id=\"T_7d0f1_row7_col25\" class=\"data row7 col25\" >0.00</td>\n",
       "      <td id=\"T_7d0f1_row7_col26\" class=\"data row7 col26\" >0.00</td>\n",
       "      <td id=\"T_7d0f1_row7_col27\" class=\"data row7 col27\" >0.00</td>\n",
       "      <td id=\"T_7d0f1_row7_col28\" class=\"data row7 col28\" >0.00</td>\n",
       "      <td id=\"T_7d0f1_row7_col29\" class=\"data row7 col29\" >0.00</td>\n",
       "      <td id=\"T_7d0f1_row7_col30\" class=\"data row7 col30\" >0.00</td>\n",
       "      <td id=\"T_7d0f1_row7_col31\" class=\"data row7 col31\" >0.00</td>\n",
       "      <td id=\"T_7d0f1_row7_col32\" class=\"data row7 col32\" >0.00</td>\n",
       "      <td id=\"T_7d0f1_row7_col33\" class=\"data row7 col33\" >0.00</td>\n",
       "      <td id=\"T_7d0f1_row7_col34\" class=\"data row7 col34\" >0.00</td>\n",
       "      <td id=\"T_7d0f1_row7_col35\" class=\"data row7 col35\" >0.00</td>\n",
       "      <td id=\"T_7d0f1_row7_col36\" class=\"data row7 col36\" >0.00</td>\n",
       "      <td id=\"T_7d0f1_row7_col37\" class=\"data row7 col37\" >0.00</td>\n",
       "      <td id=\"T_7d0f1_row7_col38\" class=\"data row7 col38\" >0.00</td>\n",
       "      <td id=\"T_7d0f1_row7_col39\" class=\"data row7 col39\" >0.00</td>\n",
       "      <td id=\"T_7d0f1_row7_col40\" class=\"data row7 col40\" >0.00</td>\n",
       "      <td id=\"T_7d0f1_row7_col41\" class=\"data row7 col41\" >0.00</td>\n",
       "      <td id=\"T_7d0f1_row7_col42\" class=\"data row7 col42\" >0.00</td>\n",
       "      <td id=\"T_7d0f1_row7_col43\" class=\"data row7 col43\" >0.00</td>\n",
       "      <td id=\"T_7d0f1_row7_col44\" class=\"data row7 col44\" >0.00</td>\n",
       "      <td id=\"T_7d0f1_row7_col45\" class=\"data row7 col45\" >0.00</td>\n",
       "      <td id=\"T_7d0f1_row7_col46\" class=\"data row7 col46\" >0.00</td>\n",
       "      <td id=\"T_7d0f1_row7_col47\" class=\"data row7 col47\" >0.00</td>\n",
       "      <td id=\"T_7d0f1_row7_col48\" class=\"data row7 col48\" >0.00</td>\n",
       "      <td id=\"T_7d0f1_row7_col49\" class=\"data row7 col49\" >0.21</td>\n",
       "      <td id=\"T_7d0f1_row7_col50\" class=\"data row7 col50\" >0.00</td>\n",
       "      <td id=\"T_7d0f1_row7_col51\" class=\"data row7 col51\" >0.00</td>\n",
       "      <td id=\"T_7d0f1_row7_col52\" class=\"data row7 col52\" >0.00</td>\n",
       "      <td id=\"T_7d0f1_row7_col53\" class=\"data row7 col53\" >0.00</td>\n",
       "      <td id=\"T_7d0f1_row7_col54\" class=\"data row7 col54\" >2.45</td>\n",
       "      <td id=\"T_7d0f1_row7_col55\" class=\"data row7 col55\" >11</td>\n",
       "      <td id=\"T_7d0f1_row7_col56\" class=\"data row7 col56\" >49</td>\n",
       "    </tr>\n",
       "    <tr>\n",
       "      <td id=\"T_7d0f1_row8_col0\" class=\"data row8 col0\" >0.15</td>\n",
       "      <td id=\"T_7d0f1_row8_col1\" class=\"data row8 col1\" >0.00</td>\n",
       "      <td id=\"T_7d0f1_row8_col2\" class=\"data row8 col2\" >0.46</td>\n",
       "      <td id=\"T_7d0f1_row8_col3\" class=\"data row8 col3\" >0.00</td>\n",
       "      <td id=\"T_7d0f1_row8_col4\" class=\"data row8 col4\" >0.61</td>\n",
       "      <td id=\"T_7d0f1_row8_col5\" class=\"data row8 col5\" >0.00</td>\n",
       "      <td id=\"T_7d0f1_row8_col6\" class=\"data row8 col6\" >0.30</td>\n",
       "      <td id=\"T_7d0f1_row8_col7\" class=\"data row8 col7\" >0.00</td>\n",
       "      <td id=\"T_7d0f1_row8_col8\" class=\"data row8 col8\" >0.92</td>\n",
       "      <td id=\"T_7d0f1_row8_col9\" class=\"data row8 col9\" >0.76</td>\n",
       "      <td id=\"T_7d0f1_row8_col10\" class=\"data row8 col10\" >0.76</td>\n",
       "      <td id=\"T_7d0f1_row8_col11\" class=\"data row8 col11\" >0.92</td>\n",
       "      <td id=\"T_7d0f1_row8_col12\" class=\"data row8 col12\" >0.00</td>\n",
       "      <td id=\"T_7d0f1_row8_col13\" class=\"data row8 col13\" >0.00</td>\n",
       "      <td id=\"T_7d0f1_row8_col14\" class=\"data row8 col14\" >0.00</td>\n",
       "      <td id=\"T_7d0f1_row8_col15\" class=\"data row8 col15\" >0.00</td>\n",
       "      <td id=\"T_7d0f1_row8_col16\" class=\"data row8 col16\" >0.00</td>\n",
       "      <td id=\"T_7d0f1_row8_col17\" class=\"data row8 col17\" >0.15</td>\n",
       "      <td id=\"T_7d0f1_row8_col18\" class=\"data row8 col18\" >1.23</td>\n",
       "      <td id=\"T_7d0f1_row8_col19\" class=\"data row8 col19\" >3.53</td>\n",
       "      <td id=\"T_7d0f1_row8_col20\" class=\"data row8 col20\" >2.00</td>\n",
       "      <td id=\"T_7d0f1_row8_col21\" class=\"data row8 col21\" >0.00</td>\n",
       "      <td id=\"T_7d0f1_row8_col22\" class=\"data row8 col22\" >0.00</td>\n",
       "      <td id=\"T_7d0f1_row8_col23\" class=\"data row8 col23\" >0.15</td>\n",
       "      <td id=\"T_7d0f1_row8_col24\" class=\"data row8 col24\" >0.00</td>\n",
       "      <td id=\"T_7d0f1_row8_col25\" class=\"data row8 col25\" >0.00</td>\n",
       "      <td id=\"T_7d0f1_row8_col26\" class=\"data row8 col26\" >0.00</td>\n",
       "      <td id=\"T_7d0f1_row8_col27\" class=\"data row8 col27\" >0.00</td>\n",
       "      <td id=\"T_7d0f1_row8_col28\" class=\"data row8 col28\" >0.00</td>\n",
       "      <td id=\"T_7d0f1_row8_col29\" class=\"data row8 col29\" >0.00</td>\n",
       "      <td id=\"T_7d0f1_row8_col30\" class=\"data row8 col30\" >0.00</td>\n",
       "      <td id=\"T_7d0f1_row8_col31\" class=\"data row8 col31\" >0.00</td>\n",
       "      <td id=\"T_7d0f1_row8_col32\" class=\"data row8 col32\" >0.15</td>\n",
       "      <td id=\"T_7d0f1_row8_col33\" class=\"data row8 col33\" >0.00</td>\n",
       "      <td id=\"T_7d0f1_row8_col34\" class=\"data row8 col34\" >0.00</td>\n",
       "      <td id=\"T_7d0f1_row8_col35\" class=\"data row8 col35\" >0.00</td>\n",
       "      <td id=\"T_7d0f1_row8_col36\" class=\"data row8 col36\" >0.00</td>\n",
       "      <td id=\"T_7d0f1_row8_col37\" class=\"data row8 col37\" >0.00</td>\n",
       "      <td id=\"T_7d0f1_row8_col38\" class=\"data row8 col38\" >0.00</td>\n",
       "      <td id=\"T_7d0f1_row8_col39\" class=\"data row8 col39\" >0.00</td>\n",
       "      <td id=\"T_7d0f1_row8_col40\" class=\"data row8 col40\" >0.00</td>\n",
       "      <td id=\"T_7d0f1_row8_col41\" class=\"data row8 col41\" >0.00</td>\n",
       "      <td id=\"T_7d0f1_row8_col42\" class=\"data row8 col42\" >0.30</td>\n",
       "      <td id=\"T_7d0f1_row8_col43\" class=\"data row8 col43\" >0.00</td>\n",
       "      <td id=\"T_7d0f1_row8_col44\" class=\"data row8 col44\" >0.00</td>\n",
       "      <td id=\"T_7d0f1_row8_col45\" class=\"data row8 col45\" >0.00</td>\n",
       "      <td id=\"T_7d0f1_row8_col46\" class=\"data row8 col46\" >0.00</td>\n",
       "      <td id=\"T_7d0f1_row8_col47\" class=\"data row8 col47\" >0.00</td>\n",
       "      <td id=\"T_7d0f1_row8_col48\" class=\"data row8 col48\" >0.00</td>\n",
       "      <td id=\"T_7d0f1_row8_col49\" class=\"data row8 col49\" >0.27</td>\n",
       "      <td id=\"T_7d0f1_row8_col50\" class=\"data row8 col50\" >0.00</td>\n",
       "      <td id=\"T_7d0f1_row8_col51\" class=\"data row8 col51\" >0.18</td>\n",
       "      <td id=\"T_7d0f1_row8_col52\" class=\"data row8 col52\" >0.20</td>\n",
       "      <td id=\"T_7d0f1_row8_col53\" class=\"data row8 col53\" >0.02</td>\n",
       "      <td id=\"T_7d0f1_row8_col54\" class=\"data row8 col54\" >9.74</td>\n",
       "      <td id=\"T_7d0f1_row8_col55\" class=\"data row8 col55\" >445</td>\n",
       "      <td id=\"T_7d0f1_row8_col56\" class=\"data row8 col56\" >1,257</td>\n",
       "    </tr>\n",
       "    <tr>\n",
       "      <td id=\"T_7d0f1_row9_col0\" class=\"data row9 col0\" >0.06</td>\n",
       "      <td id=\"T_7d0f1_row9_col1\" class=\"data row9 col1\" >0.12</td>\n",
       "      <td id=\"T_7d0f1_row9_col2\" class=\"data row9 col2\" >0.77</td>\n",
       "      <td id=\"T_7d0f1_row9_col3\" class=\"data row9 col3\" >0.00</td>\n",
       "      <td id=\"T_7d0f1_row9_col4\" class=\"data row9 col4\" >0.19</td>\n",
       "      <td id=\"T_7d0f1_row9_col5\" class=\"data row9 col5\" >0.32</td>\n",
       "      <td id=\"T_7d0f1_row9_col6\" class=\"data row9 col6\" >0.38</td>\n",
       "      <td id=\"T_7d0f1_row9_col7\" class=\"data row9 col7\" >0.00</td>\n",
       "      <td id=\"T_7d0f1_row9_col8\" class=\"data row9 col8\" >0.06</td>\n",
       "      <td id=\"T_7d0f1_row9_col9\" class=\"data row9 col9\" >0.00</td>\n",
       "      <td id=\"T_7d0f1_row9_col10\" class=\"data row9 col10\" >0.00</td>\n",
       "      <td id=\"T_7d0f1_row9_col11\" class=\"data row9 col11\" >0.64</td>\n",
       "      <td id=\"T_7d0f1_row9_col12\" class=\"data row9 col12\" >0.25</td>\n",
       "      <td id=\"T_7d0f1_row9_col13\" class=\"data row9 col13\" >0.00</td>\n",
       "      <td id=\"T_7d0f1_row9_col14\" class=\"data row9 col14\" >0.12</td>\n",
       "      <td id=\"T_7d0f1_row9_col15\" class=\"data row9 col15\" >0.00</td>\n",
       "      <td id=\"T_7d0f1_row9_col16\" class=\"data row9 col16\" >0.00</td>\n",
       "      <td id=\"T_7d0f1_row9_col17\" class=\"data row9 col17\" >0.12</td>\n",
       "      <td id=\"T_7d0f1_row9_col18\" class=\"data row9 col18\" >1.67</td>\n",
       "      <td id=\"T_7d0f1_row9_col19\" class=\"data row9 col19\" >0.06</td>\n",
       "      <td id=\"T_7d0f1_row9_col20\" class=\"data row9 col20\" >0.71</td>\n",
       "      <td id=\"T_7d0f1_row9_col21\" class=\"data row9 col21\" >0.00</td>\n",
       "      <td id=\"T_7d0f1_row9_col22\" class=\"data row9 col22\" >0.19</td>\n",
       "      <td id=\"T_7d0f1_row9_col23\" class=\"data row9 col23\" >0.00</td>\n",
       "      <td id=\"T_7d0f1_row9_col24\" class=\"data row9 col24\" >0.00</td>\n",
       "      <td id=\"T_7d0f1_row9_col25\" class=\"data row9 col25\" >0.00</td>\n",
       "      <td id=\"T_7d0f1_row9_col26\" class=\"data row9 col26\" >0.00</td>\n",
       "      <td id=\"T_7d0f1_row9_col27\" class=\"data row9 col27\" >0.00</td>\n",
       "      <td id=\"T_7d0f1_row9_col28\" class=\"data row9 col28\" >0.00</td>\n",
       "      <td id=\"T_7d0f1_row9_col29\" class=\"data row9 col29\" >0.00</td>\n",
       "      <td id=\"T_7d0f1_row9_col30\" class=\"data row9 col30\" >0.00</td>\n",
       "      <td id=\"T_7d0f1_row9_col31\" class=\"data row9 col31\" >0.00</td>\n",
       "      <td id=\"T_7d0f1_row9_col32\" class=\"data row9 col32\" >0.00</td>\n",
       "      <td id=\"T_7d0f1_row9_col33\" class=\"data row9 col33\" >0.00</td>\n",
       "      <td id=\"T_7d0f1_row9_col34\" class=\"data row9 col34\" >0.00</td>\n",
       "      <td id=\"T_7d0f1_row9_col35\" class=\"data row9 col35\" >0.00</td>\n",
       "      <td id=\"T_7d0f1_row9_col36\" class=\"data row9 col36\" >0.00</td>\n",
       "      <td id=\"T_7d0f1_row9_col37\" class=\"data row9 col37\" >0.00</td>\n",
       "      <td id=\"T_7d0f1_row9_col38\" class=\"data row9 col38\" >0.00</td>\n",
       "      <td id=\"T_7d0f1_row9_col39\" class=\"data row9 col39\" >0.00</td>\n",
       "      <td id=\"T_7d0f1_row9_col40\" class=\"data row9 col40\" >0.00</td>\n",
       "      <td id=\"T_7d0f1_row9_col41\" class=\"data row9 col41\" >0.00</td>\n",
       "      <td id=\"T_7d0f1_row9_col42\" class=\"data row9 col42\" >0.00</td>\n",
       "      <td id=\"T_7d0f1_row9_col43\" class=\"data row9 col43\" >0.06</td>\n",
       "      <td id=\"T_7d0f1_row9_col44\" class=\"data row9 col44\" >0.00</td>\n",
       "      <td id=\"T_7d0f1_row9_col45\" class=\"data row9 col45\" >0.00</td>\n",
       "      <td id=\"T_7d0f1_row9_col46\" class=\"data row9 col46\" >0.00</td>\n",
       "      <td id=\"T_7d0f1_row9_col47\" class=\"data row9 col47\" >0.00</td>\n",
       "      <td id=\"T_7d0f1_row9_col48\" class=\"data row9 col48\" >0.04</td>\n",
       "      <td id=\"T_7d0f1_row9_col49\" class=\"data row9 col49\" >0.03</td>\n",
       "      <td id=\"T_7d0f1_row9_col50\" class=\"data row9 col50\" >0.00</td>\n",
       "      <td id=\"T_7d0f1_row9_col51\" class=\"data row9 col51\" >0.24</td>\n",
       "      <td id=\"T_7d0f1_row9_col52\" class=\"data row9 col52\" >0.08</td>\n",
       "      <td id=\"T_7d0f1_row9_col53\" class=\"data row9 col53\" >0.00</td>\n",
       "      <td id=\"T_7d0f1_row9_col54\" class=\"data row9 col54\" >1.73</td>\n",
       "      <td id=\"T_7d0f1_row9_col55\" class=\"data row9 col55\" >43</td>\n",
       "      <td id=\"T_7d0f1_row9_col56\" class=\"data row9 col56\" >749</td>\n",
       "    </tr>\n",
       "  </tbody>\n",
       "</table>\n"
      ],
      "text/plain": [
       "<pandas.io.formats.style.Styler at 0x14b323dd0>"
      ]
     },
     "execution_count": 9,
     "metadata": {},
     "output_type": "execute_result"
    }
   ],
   "source": [
    "pandas_processx.return_formatted_table(x_dataframe, 'Table 1.3.2: Spam Features DataFrame')"
   ]
  },
  {
   "cell_type": "markdown",
   "metadata": {},
   "source": [
    "## **1.4: Split the Data into Training and Testing Datasets by Using `train_test_split`.**"
   ]
  },
  {
   "cell_type": "code",
   "execution_count": 10,
   "metadata": {},
   "outputs": [],
   "source": [
    "x_train_dataframe, x_test_dataframe, \\\n",
    "y_train_series, y_test_series \\\n",
    "    = train_test_split \\\n",
    "        (x_dataframe, y_series, \n",
    "         random_state = spam_detector_constants.CONSTANT_ML_RANDOM_STATE_1)"
   ]
  },
  {
   "cell_type": "code",
   "execution_count": 11,
   "metadata": {},
   "outputs": [],
   "source": [
    "logx.log_write_object(x_train_dataframe)\n",
    "\n",
    "logx.log_write_object(x_test_dataframe)\n",
    "\n",
    "logx.log_write_object(y_train_series)\n",
    "\n",
    "logx.log_write_object(y_test_series)"
   ]
  },
  {
   "cell_type": "markdown",
   "metadata": {},
   "source": [
    "## **1.5: Use the StandardScaler to Scale the X Variables**"
   ]
  },
  {
   "cell_type": "markdown",
   "metadata": {},
   "source": [
    "### **Scale Training and Test Data as Numpy Arrays**"
   ]
  },
  {
   "cell_type": "code",
   "execution_count": 12,
   "metadata": {},
   "outputs": [],
   "source": [
    "x_train_scaled_nparray = StandardScaler().fit_transform(x_train_dataframe)\n",
    "\n",
    "logx.log_write_object(x_train_scaled_nparray)"
   ]
  },
  {
   "cell_type": "code",
   "execution_count": 13,
   "metadata": {},
   "outputs": [],
   "source": [
    "x_test_scaled_nparray = StandardScaler().fit_transform(x_test_dataframe)\n",
    "\n",
    "logx.log_write_object(x_test_scaled_nparray)"
   ]
  },
  {
   "cell_type": "markdown",
   "metadata": {},
   "source": [
    "### **Create Scaled X Variable DataFrames**"
   ]
  },
  {
   "cell_type": "code",
   "execution_count": 14,
   "metadata": {},
   "outputs": [],
   "source": [
    "x_train_scaled_dataframe \\\n",
    "    = pd.DataFrame \\\n",
    "        (x_train_scaled_nparray, \n",
    "         columns = x_train_dataframe.columns, \n",
    "         index = x_train_dataframe.index)\n",
    "    \n",
    "logx.log_write_object(x_train_scaled_dataframe)"
   ]
  },
  {
   "cell_type": "code",
   "execution_count": 15,
   "metadata": {},
   "outputs": [],
   "source": [
    "x_test_scaled_dataframe \\\n",
    "    = pd.DataFrame \\\n",
    "        (x_test_scaled_nparray, \n",
    "         columns = x_test_dataframe.columns, \n",
    "         index = x_test_dataframe.index)\n",
    "    \n",
    "logx.log_write_object(x_test_scaled_dataframe)"
   ]
  },
  {
   "cell_type": "markdown",
   "metadata": {},
   "source": [
    "### **Display Scaled Training and Testing Data**"
   ]
  },
  {
   "cell_type": "code",
   "execution_count": 16,
   "metadata": {},
   "outputs": [
    {
     "data": {
      "text/html": [
       "<style type=\"text/css\">\n",
       "#T_532c1 caption {\n",
       "  color: black;\n",
       "  font-size: 20px;\n",
       "  font-style: bold;\n",
       "  text-align: center;\n",
       "}\n",
       "#T_532c1_row0_col0, #T_532c1_row0_col1, #T_532c1_row0_col2, #T_532c1_row0_col3, #T_532c1_row0_col4, #T_532c1_row0_col5, #T_532c1_row0_col6, #T_532c1_row0_col7, #T_532c1_row0_col8, #T_532c1_row0_col9, #T_532c1_row0_col10, #T_532c1_row0_col11, #T_532c1_row0_col12, #T_532c1_row0_col13, #T_532c1_row0_col14, #T_532c1_row0_col15, #T_532c1_row0_col16, #T_532c1_row0_col17, #T_532c1_row0_col18, #T_532c1_row0_col19, #T_532c1_row0_col20, #T_532c1_row0_col21, #T_532c1_row0_col22, #T_532c1_row0_col23, #T_532c1_row0_col24, #T_532c1_row0_col25, #T_532c1_row0_col26, #T_532c1_row0_col27, #T_532c1_row0_col28, #T_532c1_row0_col29, #T_532c1_row0_col30, #T_532c1_row0_col31, #T_532c1_row0_col32, #T_532c1_row0_col33, #T_532c1_row0_col34, #T_532c1_row0_col35, #T_532c1_row0_col36, #T_532c1_row0_col37, #T_532c1_row0_col38, #T_532c1_row0_col39, #T_532c1_row0_col40, #T_532c1_row0_col41, #T_532c1_row0_col42, #T_532c1_row0_col43, #T_532c1_row0_col44, #T_532c1_row0_col45, #T_532c1_row0_col46, #T_532c1_row0_col47, #T_532c1_row0_col48, #T_532c1_row0_col49, #T_532c1_row0_col50, #T_532c1_row0_col51, #T_532c1_row0_col52, #T_532c1_row0_col53, #T_532c1_row0_col54, #T_532c1_row0_col55, #T_532c1_row0_col56, #T_532c1_row1_col0, #T_532c1_row1_col1, #T_532c1_row1_col2, #T_532c1_row1_col3, #T_532c1_row1_col4, #T_532c1_row1_col5, #T_532c1_row1_col6, #T_532c1_row1_col7, #T_532c1_row1_col8, #T_532c1_row1_col9, #T_532c1_row1_col10, #T_532c1_row1_col11, #T_532c1_row1_col12, #T_532c1_row1_col13, #T_532c1_row1_col14, #T_532c1_row1_col15, #T_532c1_row1_col16, #T_532c1_row1_col17, #T_532c1_row1_col18, #T_532c1_row1_col19, #T_532c1_row1_col20, #T_532c1_row1_col21, #T_532c1_row1_col22, #T_532c1_row1_col23, #T_532c1_row1_col24, #T_532c1_row1_col25, #T_532c1_row1_col26, #T_532c1_row1_col27, #T_532c1_row1_col28, #T_532c1_row1_col29, #T_532c1_row1_col30, #T_532c1_row1_col31, #T_532c1_row1_col32, #T_532c1_row1_col33, #T_532c1_row1_col34, #T_532c1_row1_col35, #T_532c1_row1_col36, #T_532c1_row1_col37, #T_532c1_row1_col38, #T_532c1_row1_col39, #T_532c1_row1_col40, #T_532c1_row1_col41, #T_532c1_row1_col42, #T_532c1_row1_col43, #T_532c1_row1_col44, #T_532c1_row1_col45, #T_532c1_row1_col46, #T_532c1_row1_col47, #T_532c1_row1_col48, #T_532c1_row1_col49, #T_532c1_row1_col50, #T_532c1_row1_col51, #T_532c1_row1_col52, #T_532c1_row1_col53, #T_532c1_row1_col54, #T_532c1_row1_col55, #T_532c1_row1_col56, #T_532c1_row2_col0, #T_532c1_row2_col1, #T_532c1_row2_col2, #T_532c1_row2_col3, #T_532c1_row2_col4, #T_532c1_row2_col5, #T_532c1_row2_col6, #T_532c1_row2_col7, #T_532c1_row2_col8, #T_532c1_row2_col9, #T_532c1_row2_col10, #T_532c1_row2_col11, #T_532c1_row2_col12, #T_532c1_row2_col13, #T_532c1_row2_col14, #T_532c1_row2_col15, #T_532c1_row2_col16, #T_532c1_row2_col17, #T_532c1_row2_col18, #T_532c1_row2_col19, #T_532c1_row2_col20, #T_532c1_row2_col21, #T_532c1_row2_col22, #T_532c1_row2_col23, #T_532c1_row2_col24, #T_532c1_row2_col25, #T_532c1_row2_col26, #T_532c1_row2_col27, #T_532c1_row2_col28, #T_532c1_row2_col29, #T_532c1_row2_col30, #T_532c1_row2_col31, #T_532c1_row2_col32, #T_532c1_row2_col33, #T_532c1_row2_col34, #T_532c1_row2_col35, #T_532c1_row2_col36, #T_532c1_row2_col37, #T_532c1_row2_col38, #T_532c1_row2_col39, #T_532c1_row2_col40, #T_532c1_row2_col41, #T_532c1_row2_col42, #T_532c1_row2_col43, #T_532c1_row2_col44, #T_532c1_row2_col45, #T_532c1_row2_col46, #T_532c1_row2_col47, #T_532c1_row2_col48, #T_532c1_row2_col49, #T_532c1_row2_col50, #T_532c1_row2_col51, #T_532c1_row2_col52, #T_532c1_row2_col53, #T_532c1_row2_col54, #T_532c1_row2_col55, #T_532c1_row2_col56, #T_532c1_row3_col0, #T_532c1_row3_col1, #T_532c1_row3_col2, #T_532c1_row3_col3, #T_532c1_row3_col4, #T_532c1_row3_col5, #T_532c1_row3_col6, #T_532c1_row3_col7, #T_532c1_row3_col8, #T_532c1_row3_col9, #T_532c1_row3_col10, #T_532c1_row3_col11, #T_532c1_row3_col12, #T_532c1_row3_col13, #T_532c1_row3_col14, #T_532c1_row3_col15, #T_532c1_row3_col16, #T_532c1_row3_col17, #T_532c1_row3_col18, #T_532c1_row3_col19, #T_532c1_row3_col20, #T_532c1_row3_col21, #T_532c1_row3_col22, #T_532c1_row3_col23, #T_532c1_row3_col24, #T_532c1_row3_col25, #T_532c1_row3_col26, #T_532c1_row3_col27, #T_532c1_row3_col28, #T_532c1_row3_col29, #T_532c1_row3_col30, #T_532c1_row3_col31, #T_532c1_row3_col32, #T_532c1_row3_col33, #T_532c1_row3_col34, #T_532c1_row3_col35, #T_532c1_row3_col36, #T_532c1_row3_col37, #T_532c1_row3_col38, #T_532c1_row3_col39, #T_532c1_row3_col40, #T_532c1_row3_col41, #T_532c1_row3_col42, #T_532c1_row3_col43, #T_532c1_row3_col44, #T_532c1_row3_col45, #T_532c1_row3_col46, #T_532c1_row3_col47, #T_532c1_row3_col48, #T_532c1_row3_col49, #T_532c1_row3_col50, #T_532c1_row3_col51, #T_532c1_row3_col52, #T_532c1_row3_col53, #T_532c1_row3_col54, #T_532c1_row3_col55, #T_532c1_row3_col56, #T_532c1_row4_col0, #T_532c1_row4_col1, #T_532c1_row4_col2, #T_532c1_row4_col3, #T_532c1_row4_col4, #T_532c1_row4_col5, #T_532c1_row4_col6, #T_532c1_row4_col7, #T_532c1_row4_col8, #T_532c1_row4_col9, #T_532c1_row4_col10, #T_532c1_row4_col11, #T_532c1_row4_col12, #T_532c1_row4_col13, #T_532c1_row4_col14, #T_532c1_row4_col15, #T_532c1_row4_col16, #T_532c1_row4_col17, #T_532c1_row4_col18, #T_532c1_row4_col19, #T_532c1_row4_col20, #T_532c1_row4_col21, #T_532c1_row4_col22, #T_532c1_row4_col23, #T_532c1_row4_col24, #T_532c1_row4_col25, #T_532c1_row4_col26, #T_532c1_row4_col27, #T_532c1_row4_col28, #T_532c1_row4_col29, #T_532c1_row4_col30, #T_532c1_row4_col31, #T_532c1_row4_col32, #T_532c1_row4_col33, #T_532c1_row4_col34, #T_532c1_row4_col35, #T_532c1_row4_col36, #T_532c1_row4_col37, #T_532c1_row4_col38, #T_532c1_row4_col39, #T_532c1_row4_col40, #T_532c1_row4_col41, #T_532c1_row4_col42, #T_532c1_row4_col43, #T_532c1_row4_col44, #T_532c1_row4_col45, #T_532c1_row4_col46, #T_532c1_row4_col47, #T_532c1_row4_col48, #T_532c1_row4_col49, #T_532c1_row4_col50, #T_532c1_row4_col51, #T_532c1_row4_col52, #T_532c1_row4_col53, #T_532c1_row4_col54, #T_532c1_row4_col55, #T_532c1_row4_col56, #T_532c1_row5_col0, #T_532c1_row5_col1, #T_532c1_row5_col2, #T_532c1_row5_col3, #T_532c1_row5_col4, #T_532c1_row5_col5, #T_532c1_row5_col6, #T_532c1_row5_col7, #T_532c1_row5_col8, #T_532c1_row5_col9, #T_532c1_row5_col10, #T_532c1_row5_col11, #T_532c1_row5_col12, #T_532c1_row5_col13, #T_532c1_row5_col14, #T_532c1_row5_col15, #T_532c1_row5_col16, #T_532c1_row5_col17, #T_532c1_row5_col18, #T_532c1_row5_col19, #T_532c1_row5_col20, #T_532c1_row5_col21, #T_532c1_row5_col22, #T_532c1_row5_col23, #T_532c1_row5_col24, #T_532c1_row5_col25, #T_532c1_row5_col26, #T_532c1_row5_col27, #T_532c1_row5_col28, #T_532c1_row5_col29, #T_532c1_row5_col30, #T_532c1_row5_col31, #T_532c1_row5_col32, #T_532c1_row5_col33, #T_532c1_row5_col34, #T_532c1_row5_col35, #T_532c1_row5_col36, #T_532c1_row5_col37, #T_532c1_row5_col38, #T_532c1_row5_col39, #T_532c1_row5_col40, #T_532c1_row5_col41, #T_532c1_row5_col42, #T_532c1_row5_col43, #T_532c1_row5_col44, #T_532c1_row5_col45, #T_532c1_row5_col46, #T_532c1_row5_col47, #T_532c1_row5_col48, #T_532c1_row5_col49, #T_532c1_row5_col50, #T_532c1_row5_col51, #T_532c1_row5_col52, #T_532c1_row5_col53, #T_532c1_row5_col54, #T_532c1_row5_col55, #T_532c1_row5_col56, #T_532c1_row6_col0, #T_532c1_row6_col1, #T_532c1_row6_col2, #T_532c1_row6_col3, #T_532c1_row6_col4, #T_532c1_row6_col5, #T_532c1_row6_col6, #T_532c1_row6_col7, #T_532c1_row6_col8, #T_532c1_row6_col9, #T_532c1_row6_col10, #T_532c1_row6_col11, #T_532c1_row6_col12, #T_532c1_row6_col13, #T_532c1_row6_col14, #T_532c1_row6_col15, #T_532c1_row6_col16, #T_532c1_row6_col17, #T_532c1_row6_col18, #T_532c1_row6_col19, #T_532c1_row6_col20, #T_532c1_row6_col21, #T_532c1_row6_col22, #T_532c1_row6_col23, #T_532c1_row6_col24, #T_532c1_row6_col25, #T_532c1_row6_col26, #T_532c1_row6_col27, #T_532c1_row6_col28, #T_532c1_row6_col29, #T_532c1_row6_col30, #T_532c1_row6_col31, #T_532c1_row6_col32, #T_532c1_row6_col33, #T_532c1_row6_col34, #T_532c1_row6_col35, #T_532c1_row6_col36, #T_532c1_row6_col37, #T_532c1_row6_col38, #T_532c1_row6_col39, #T_532c1_row6_col40, #T_532c1_row6_col41, #T_532c1_row6_col42, #T_532c1_row6_col43, #T_532c1_row6_col44, #T_532c1_row6_col45, #T_532c1_row6_col46, #T_532c1_row6_col47, #T_532c1_row6_col48, #T_532c1_row6_col49, #T_532c1_row6_col50, #T_532c1_row6_col51, #T_532c1_row6_col52, #T_532c1_row6_col53, #T_532c1_row6_col54, #T_532c1_row6_col55, #T_532c1_row6_col56, #T_532c1_row7_col0, #T_532c1_row7_col1, #T_532c1_row7_col2, #T_532c1_row7_col3, #T_532c1_row7_col4, #T_532c1_row7_col5, #T_532c1_row7_col6, #T_532c1_row7_col7, #T_532c1_row7_col8, #T_532c1_row7_col9, #T_532c1_row7_col10, #T_532c1_row7_col11, #T_532c1_row7_col12, #T_532c1_row7_col13, #T_532c1_row7_col14, #T_532c1_row7_col15, #T_532c1_row7_col16, #T_532c1_row7_col17, #T_532c1_row7_col18, #T_532c1_row7_col19, #T_532c1_row7_col20, #T_532c1_row7_col21, #T_532c1_row7_col22, #T_532c1_row7_col23, #T_532c1_row7_col24, #T_532c1_row7_col25, #T_532c1_row7_col26, #T_532c1_row7_col27, #T_532c1_row7_col28, #T_532c1_row7_col29, #T_532c1_row7_col30, #T_532c1_row7_col31, #T_532c1_row7_col32, #T_532c1_row7_col33, #T_532c1_row7_col34, #T_532c1_row7_col35, #T_532c1_row7_col36, #T_532c1_row7_col37, #T_532c1_row7_col38, #T_532c1_row7_col39, #T_532c1_row7_col40, #T_532c1_row7_col41, #T_532c1_row7_col42, #T_532c1_row7_col43, #T_532c1_row7_col44, #T_532c1_row7_col45, #T_532c1_row7_col46, #T_532c1_row7_col47, #T_532c1_row7_col48, #T_532c1_row7_col49, #T_532c1_row7_col50, #T_532c1_row7_col51, #T_532c1_row7_col52, #T_532c1_row7_col53, #T_532c1_row7_col54, #T_532c1_row7_col55, #T_532c1_row7_col56, #T_532c1_row8_col0, #T_532c1_row8_col1, #T_532c1_row8_col2, #T_532c1_row8_col3, #T_532c1_row8_col4, #T_532c1_row8_col5, #T_532c1_row8_col6, #T_532c1_row8_col7, #T_532c1_row8_col8, #T_532c1_row8_col9, #T_532c1_row8_col10, #T_532c1_row8_col11, #T_532c1_row8_col12, #T_532c1_row8_col13, #T_532c1_row8_col14, #T_532c1_row8_col15, #T_532c1_row8_col16, #T_532c1_row8_col17, #T_532c1_row8_col18, #T_532c1_row8_col19, #T_532c1_row8_col20, #T_532c1_row8_col21, #T_532c1_row8_col22, #T_532c1_row8_col23, #T_532c1_row8_col24, #T_532c1_row8_col25, #T_532c1_row8_col26, #T_532c1_row8_col27, #T_532c1_row8_col28, #T_532c1_row8_col29, #T_532c1_row8_col30, #T_532c1_row8_col31, #T_532c1_row8_col32, #T_532c1_row8_col33, #T_532c1_row8_col34, #T_532c1_row8_col35, #T_532c1_row8_col36, #T_532c1_row8_col37, #T_532c1_row8_col38, #T_532c1_row8_col39, #T_532c1_row8_col40, #T_532c1_row8_col41, #T_532c1_row8_col42, #T_532c1_row8_col43, #T_532c1_row8_col44, #T_532c1_row8_col45, #T_532c1_row8_col46, #T_532c1_row8_col47, #T_532c1_row8_col48, #T_532c1_row8_col49, #T_532c1_row8_col50, #T_532c1_row8_col51, #T_532c1_row8_col52, #T_532c1_row8_col53, #T_532c1_row8_col54, #T_532c1_row8_col55, #T_532c1_row8_col56, #T_532c1_row9_col0, #T_532c1_row9_col1, #T_532c1_row9_col2, #T_532c1_row9_col3, #T_532c1_row9_col4, #T_532c1_row9_col5, #T_532c1_row9_col6, #T_532c1_row9_col7, #T_532c1_row9_col8, #T_532c1_row9_col9, #T_532c1_row9_col10, #T_532c1_row9_col11, #T_532c1_row9_col12, #T_532c1_row9_col13, #T_532c1_row9_col14, #T_532c1_row9_col15, #T_532c1_row9_col16, #T_532c1_row9_col17, #T_532c1_row9_col18, #T_532c1_row9_col19, #T_532c1_row9_col20, #T_532c1_row9_col21, #T_532c1_row9_col22, #T_532c1_row9_col23, #T_532c1_row9_col24, #T_532c1_row9_col25, #T_532c1_row9_col26, #T_532c1_row9_col27, #T_532c1_row9_col28, #T_532c1_row9_col29, #T_532c1_row9_col30, #T_532c1_row9_col31, #T_532c1_row9_col32, #T_532c1_row9_col33, #T_532c1_row9_col34, #T_532c1_row9_col35, #T_532c1_row9_col36, #T_532c1_row9_col37, #T_532c1_row9_col38, #T_532c1_row9_col39, #T_532c1_row9_col40, #T_532c1_row9_col41, #T_532c1_row9_col42, #T_532c1_row9_col43, #T_532c1_row9_col44, #T_532c1_row9_col45, #T_532c1_row9_col46, #T_532c1_row9_col47, #T_532c1_row9_col48, #T_532c1_row9_col49, #T_532c1_row9_col50, #T_532c1_row9_col51, #T_532c1_row9_col52, #T_532c1_row9_col53, #T_532c1_row9_col54, #T_532c1_row9_col55, #T_532c1_row9_col56 {\n",
       "  text-align: center;\n",
       "  border: 1.3px solid red;\n",
       "  color: blue;\n",
       "}\n",
       "</style>\n",
       "<table id=\"T_532c1\">\n",
       "  <caption>Table 1.5.1: Spam Scaled Features Training Data</caption>\n",
       "  <thead>\n",
       "    <tr>\n",
       "      <th id=\"T_532c1_level0_col0\" class=\"col_heading level0 col0\" >word_freq_make</th>\n",
       "      <th id=\"T_532c1_level0_col1\" class=\"col_heading level0 col1\" >word_freq_address</th>\n",
       "      <th id=\"T_532c1_level0_col2\" class=\"col_heading level0 col2\" >word_freq_all</th>\n",
       "      <th id=\"T_532c1_level0_col3\" class=\"col_heading level0 col3\" >word_freq_3d</th>\n",
       "      <th id=\"T_532c1_level0_col4\" class=\"col_heading level0 col4\" >word_freq_our</th>\n",
       "      <th id=\"T_532c1_level0_col5\" class=\"col_heading level0 col5\" >word_freq_over</th>\n",
       "      <th id=\"T_532c1_level0_col6\" class=\"col_heading level0 col6\" >word_freq_remove</th>\n",
       "      <th id=\"T_532c1_level0_col7\" class=\"col_heading level0 col7\" >word_freq_internet</th>\n",
       "      <th id=\"T_532c1_level0_col8\" class=\"col_heading level0 col8\" >word_freq_order</th>\n",
       "      <th id=\"T_532c1_level0_col9\" class=\"col_heading level0 col9\" >word_freq_mail</th>\n",
       "      <th id=\"T_532c1_level0_col10\" class=\"col_heading level0 col10\" >word_freq_receive</th>\n",
       "      <th id=\"T_532c1_level0_col11\" class=\"col_heading level0 col11\" >word_freq_will</th>\n",
       "      <th id=\"T_532c1_level0_col12\" class=\"col_heading level0 col12\" >word_freq_people</th>\n",
       "      <th id=\"T_532c1_level0_col13\" class=\"col_heading level0 col13\" >word_freq_report</th>\n",
       "      <th id=\"T_532c1_level0_col14\" class=\"col_heading level0 col14\" >word_freq_addresses</th>\n",
       "      <th id=\"T_532c1_level0_col15\" class=\"col_heading level0 col15\" >word_freq_free</th>\n",
       "      <th id=\"T_532c1_level0_col16\" class=\"col_heading level0 col16\" >word_freq_business</th>\n",
       "      <th id=\"T_532c1_level0_col17\" class=\"col_heading level0 col17\" >word_freq_email</th>\n",
       "      <th id=\"T_532c1_level0_col18\" class=\"col_heading level0 col18\" >word_freq_you</th>\n",
       "      <th id=\"T_532c1_level0_col19\" class=\"col_heading level0 col19\" >word_freq_credit</th>\n",
       "      <th id=\"T_532c1_level0_col20\" class=\"col_heading level0 col20\" >word_freq_your</th>\n",
       "      <th id=\"T_532c1_level0_col21\" class=\"col_heading level0 col21\" >word_freq_font</th>\n",
       "      <th id=\"T_532c1_level0_col22\" class=\"col_heading level0 col22\" >word_freq_000</th>\n",
       "      <th id=\"T_532c1_level0_col23\" class=\"col_heading level0 col23\" >word_freq_money</th>\n",
       "      <th id=\"T_532c1_level0_col24\" class=\"col_heading level0 col24\" >word_freq_hp</th>\n",
       "      <th id=\"T_532c1_level0_col25\" class=\"col_heading level0 col25\" >word_freq_hpl</th>\n",
       "      <th id=\"T_532c1_level0_col26\" class=\"col_heading level0 col26\" >word_freq_george</th>\n",
       "      <th id=\"T_532c1_level0_col27\" class=\"col_heading level0 col27\" >word_freq_650</th>\n",
       "      <th id=\"T_532c1_level0_col28\" class=\"col_heading level0 col28\" >word_freq_lab</th>\n",
       "      <th id=\"T_532c1_level0_col29\" class=\"col_heading level0 col29\" >word_freq_labs</th>\n",
       "      <th id=\"T_532c1_level0_col30\" class=\"col_heading level0 col30\" >word_freq_telnet</th>\n",
       "      <th id=\"T_532c1_level0_col31\" class=\"col_heading level0 col31\" >word_freq_857</th>\n",
       "      <th id=\"T_532c1_level0_col32\" class=\"col_heading level0 col32\" >word_freq_data</th>\n",
       "      <th id=\"T_532c1_level0_col33\" class=\"col_heading level0 col33\" >word_freq_415</th>\n",
       "      <th id=\"T_532c1_level0_col34\" class=\"col_heading level0 col34\" >word_freq_85</th>\n",
       "      <th id=\"T_532c1_level0_col35\" class=\"col_heading level0 col35\" >word_freq_technology</th>\n",
       "      <th id=\"T_532c1_level0_col36\" class=\"col_heading level0 col36\" >word_freq_1999</th>\n",
       "      <th id=\"T_532c1_level0_col37\" class=\"col_heading level0 col37\" >word_freq_parts</th>\n",
       "      <th id=\"T_532c1_level0_col38\" class=\"col_heading level0 col38\" >word_freq_pm</th>\n",
       "      <th id=\"T_532c1_level0_col39\" class=\"col_heading level0 col39\" >word_freq_direct</th>\n",
       "      <th id=\"T_532c1_level0_col40\" class=\"col_heading level0 col40\" >word_freq_cs</th>\n",
       "      <th id=\"T_532c1_level0_col41\" class=\"col_heading level0 col41\" >word_freq_meeting</th>\n",
       "      <th id=\"T_532c1_level0_col42\" class=\"col_heading level0 col42\" >word_freq_original</th>\n",
       "      <th id=\"T_532c1_level0_col43\" class=\"col_heading level0 col43\" >word_freq_project</th>\n",
       "      <th id=\"T_532c1_level0_col44\" class=\"col_heading level0 col44\" >word_freq_re</th>\n",
       "      <th id=\"T_532c1_level0_col45\" class=\"col_heading level0 col45\" >word_freq_edu</th>\n",
       "      <th id=\"T_532c1_level0_col46\" class=\"col_heading level0 col46\" >word_freq_table</th>\n",
       "      <th id=\"T_532c1_level0_col47\" class=\"col_heading level0 col47\" >word_freq_conference</th>\n",
       "      <th id=\"T_532c1_level0_col48\" class=\"col_heading level0 col48\" >char_freq_;</th>\n",
       "      <th id=\"T_532c1_level0_col49\" class=\"col_heading level0 col49\" >char_freq_(</th>\n",
       "      <th id=\"T_532c1_level0_col50\" class=\"col_heading level0 col50\" >char_freq_[</th>\n",
       "      <th id=\"T_532c1_level0_col51\" class=\"col_heading level0 col51\" >char_freq_!</th>\n",
       "      <th id=\"T_532c1_level0_col52\" class=\"col_heading level0 col52\" >char_freq_$</th>\n",
       "      <th id=\"T_532c1_level0_col53\" class=\"col_heading level0 col53\" >char_freq_#</th>\n",
       "      <th id=\"T_532c1_level0_col54\" class=\"col_heading level0 col54\" >capital_run_length_average</th>\n",
       "      <th id=\"T_532c1_level0_col55\" class=\"col_heading level0 col55\" >capital_run_length_longest</th>\n",
       "      <th id=\"T_532c1_level0_col56\" class=\"col_heading level0 col56\" >capital_run_length_total</th>\n",
       "    </tr>\n",
       "  </thead>\n",
       "  <tbody>\n",
       "    <tr>\n",
       "      <td id=\"T_532c1_row0_col0\" class=\"data row0 col0\" >2.83</td>\n",
       "      <td id=\"T_532c1_row0_col1\" class=\"data row0 col1\" >-0.16</td>\n",
       "      <td id=\"T_532c1_row0_col2\" class=\"data row0 col2\" >1.35</td>\n",
       "      <td id=\"T_532c1_row0_col3\" class=\"data row0 col3\" >-0.05</td>\n",
       "      <td id=\"T_532c1_row0_col4\" class=\"data row0 col4\" >-0.46</td>\n",
       "      <td id=\"T_532c1_row0_col5\" class=\"data row0 col5\" >-0.36</td>\n",
       "      <td id=\"T_532c1_row0_col6\" class=\"data row0 col6\" >-0.29</td>\n",
       "      <td id=\"T_532c1_row0_col7\" class=\"data row0 col7\" >-0.26</td>\n",
       "      <td id=\"T_532c1_row0_col8\" class=\"data row0 col8\" >-0.32</td>\n",
       "      <td id=\"T_532c1_row0_col9\" class=\"data row0 col9\" >-0.37</td>\n",
       "      <td id=\"T_532c1_row0_col10\" class=\"data row0 col10\" >-0.30</td>\n",
       "      <td id=\"T_532c1_row0_col11\" class=\"data row0 col11\" >-0.63</td>\n",
       "      <td id=\"T_532c1_row0_col12\" class=\"data row0 col12\" >-0.30</td>\n",
       "      <td id=\"T_532c1_row0_col13\" class=\"data row0 col13\" >-0.17</td>\n",
       "      <td id=\"T_532c1_row0_col14\" class=\"data row0 col14\" >-0.19</td>\n",
       "      <td id=\"T_532c1_row0_col15\" class=\"data row0 col15\" >-0.32</td>\n",
       "      <td id=\"T_532c1_row0_col16\" class=\"data row0 col16\" >-0.31</td>\n",
       "      <td id=\"T_532c1_row0_col17\" class=\"data row0 col17\" >-0.35</td>\n",
       "      <td id=\"T_532c1_row0_col18\" class=\"data row0 col18\" >0.68</td>\n",
       "      <td id=\"T_532c1_row0_col19\" class=\"data row0 col19\" >-0.16</td>\n",
       "      <td id=\"T_532c1_row0_col20\" class=\"data row0 col20\" >-0.67</td>\n",
       "      <td id=\"T_532c1_row0_col21\" class=\"data row0 col21\" >-0.12</td>\n",
       "      <td id=\"T_532c1_row0_col22\" class=\"data row0 col22\" >-0.29</td>\n",
       "      <td id=\"T_532c1_row0_col23\" class=\"data row0 col23\" >-0.21</td>\n",
       "      <td id=\"T_532c1_row0_col24\" class=\"data row0 col24\" >-0.34</td>\n",
       "      <td id=\"T_532c1_row0_col25\" class=\"data row0 col25\" >-0.30</td>\n",
       "      <td id=\"T_532c1_row0_col26\" class=\"data row0 col26\" >0.06</td>\n",
       "      <td id=\"T_532c1_row0_col27\" class=\"data row0 col27\" >-0.23</td>\n",
       "      <td id=\"T_532c1_row0_col28\" class=\"data row0 col28\" >-0.18</td>\n",
       "      <td id=\"T_532c1_row0_col29\" class=\"data row0 col29\" >-0.22</td>\n",
       "      <td id=\"T_532c1_row0_col30\" class=\"data row0 col30\" >-0.16</td>\n",
       "      <td id=\"T_532c1_row0_col31\" class=\"data row0 col31\" >-0.14</td>\n",
       "      <td id=\"T_532c1_row0_col32\" class=\"data row0 col32\" >-0.17</td>\n",
       "      <td id=\"T_532c1_row0_col33\" class=\"data row0 col33\" >-0.15</td>\n",
       "      <td id=\"T_532c1_row0_col34\" class=\"data row0 col34\" >-0.19</td>\n",
       "      <td id=\"T_532c1_row0_col35\" class=\"data row0 col35\" >-0.24</td>\n",
       "      <td id=\"T_532c1_row0_col36\" class=\"data row0 col36\" >-0.32</td>\n",
       "      <td id=\"T_532c1_row0_col37\" class=\"data row0 col37\" >-0.06</td>\n",
       "      <td id=\"T_532c1_row0_col38\" class=\"data row0 col38\" >-0.18</td>\n",
       "      <td id=\"T_532c1_row0_col39\" class=\"data row0 col39\" >-0.18</td>\n",
       "      <td id=\"T_532c1_row0_col40\" class=\"data row0 col40\" >-0.13</td>\n",
       "      <td id=\"T_532c1_row0_col41\" class=\"data row0 col41\" >-0.18</td>\n",
       "      <td id=\"T_532c1_row0_col42\" class=\"data row0 col42\" >-0.21</td>\n",
       "      <td id=\"T_532c1_row0_col43\" class=\"data row0 col43\" >-0.12</td>\n",
       "      <td id=\"T_532c1_row0_col44\" class=\"data row0 col44\" >-0.30</td>\n",
       "      <td id=\"T_532c1_row0_col45\" class=\"data row0 col45\" >-0.20</td>\n",
       "      <td id=\"T_532c1_row0_col46\" class=\"data row0 col46\" >-0.07</td>\n",
       "      <td id=\"T_532c1_row0_col47\" class=\"data row0 col47\" >-0.11</td>\n",
       "      <td id=\"T_532c1_row0_col48\" class=\"data row0 col48\" >-0.16</td>\n",
       "      <td id=\"T_532c1_row0_col49\" class=\"data row0 col49\" >-0.48</td>\n",
       "      <td id=\"T_532c1_row0_col50\" class=\"data row0 col50\" >-0.19</td>\n",
       "      <td id=\"T_532c1_row0_col51\" class=\"data row0 col51\" >-0.12</td>\n",
       "      <td id=\"T_532c1_row0_col52\" class=\"data row0 col52\" >-0.30</td>\n",
       "      <td id=\"T_532c1_row0_col53\" class=\"data row0 col53\" >-0.10</td>\n",
       "      <td id=\"T_532c1_row0_col54\" class=\"data row0 col54\" >-0.09</td>\n",
       "      <td id=\"T_532c1_row0_col55\" class=\"data row0 col55\" >-0.20</td>\n",
       "      <td id=\"T_532c1_row0_col56\" class=\"data row0 col56\" >-0.36</td>\n",
       "    </tr>\n",
       "    <tr>\n",
       "      <td id=\"T_532c1_row1_col0\" class=\"data row1 col0\" >-0.35</td>\n",
       "      <td id=\"T_532c1_row1_col1\" class=\"data row1 col1\" >-0.16</td>\n",
       "      <td id=\"T_532c1_row1_col2\" class=\"data row1 col2\" >-0.56</td>\n",
       "      <td id=\"T_532c1_row1_col3\" class=\"data row1 col3\" >-0.05</td>\n",
       "      <td id=\"T_532c1_row1_col4\" class=\"data row1 col4\" >-0.46</td>\n",
       "      <td id=\"T_532c1_row1_col5\" class=\"data row1 col5\" >-0.36</td>\n",
       "      <td id=\"T_532c1_row1_col6\" class=\"data row1 col6\" >-0.29</td>\n",
       "      <td id=\"T_532c1_row1_col7\" class=\"data row1 col7\" >-0.26</td>\n",
       "      <td id=\"T_532c1_row1_col8\" class=\"data row1 col8\" >-0.32</td>\n",
       "      <td id=\"T_532c1_row1_col9\" class=\"data row1 col9\" >-0.37</td>\n",
       "      <td id=\"T_532c1_row1_col10\" class=\"data row1 col10\" >-0.30</td>\n",
       "      <td id=\"T_532c1_row1_col11\" class=\"data row1 col11\" >-0.63</td>\n",
       "      <td id=\"T_532c1_row1_col12\" class=\"data row1 col12\" >-0.30</td>\n",
       "      <td id=\"T_532c1_row1_col13\" class=\"data row1 col13\" >-0.17</td>\n",
       "      <td id=\"T_532c1_row1_col14\" class=\"data row1 col14\" >-0.19</td>\n",
       "      <td id=\"T_532c1_row1_col15\" class=\"data row1 col15\" >-0.32</td>\n",
       "      <td id=\"T_532c1_row1_col16\" class=\"data row1 col16\" >-0.31</td>\n",
       "      <td id=\"T_532c1_row1_col17\" class=\"data row1 col17\" >-0.35</td>\n",
       "      <td id=\"T_532c1_row1_col18\" class=\"data row1 col18\" >0.35</td>\n",
       "      <td id=\"T_532c1_row1_col19\" class=\"data row1 col19\" >-0.16</td>\n",
       "      <td id=\"T_532c1_row1_col20\" class=\"data row1 col20\" >-0.67</td>\n",
       "      <td id=\"T_532c1_row1_col21\" class=\"data row1 col21\" >-0.12</td>\n",
       "      <td id=\"T_532c1_row1_col22\" class=\"data row1 col22\" >-0.29</td>\n",
       "      <td id=\"T_532c1_row1_col23\" class=\"data row1 col23\" >-0.21</td>\n",
       "      <td id=\"T_532c1_row1_col24\" class=\"data row1 col24\" >-0.34</td>\n",
       "      <td id=\"T_532c1_row1_col25\" class=\"data row1 col25\" >-0.30</td>\n",
       "      <td id=\"T_532c1_row1_col26\" class=\"data row1 col26\" >-0.23</td>\n",
       "      <td id=\"T_532c1_row1_col27\" class=\"data row1 col27\" >-0.23</td>\n",
       "      <td id=\"T_532c1_row1_col28\" class=\"data row1 col28\" >-0.18</td>\n",
       "      <td id=\"T_532c1_row1_col29\" class=\"data row1 col29\" >-0.22</td>\n",
       "      <td id=\"T_532c1_row1_col30\" class=\"data row1 col30\" >-0.16</td>\n",
       "      <td id=\"T_532c1_row1_col31\" class=\"data row1 col31\" >-0.14</td>\n",
       "      <td id=\"T_532c1_row1_col32\" class=\"data row1 col32\" >-0.17</td>\n",
       "      <td id=\"T_532c1_row1_col33\" class=\"data row1 col33\" >-0.15</td>\n",
       "      <td id=\"T_532c1_row1_col34\" class=\"data row1 col34\" >3.86</td>\n",
       "      <td id=\"T_532c1_row1_col35\" class=\"data row1 col35\" >-0.24</td>\n",
       "      <td id=\"T_532c1_row1_col36\" class=\"data row1 col36\" >-0.32</td>\n",
       "      <td id=\"T_532c1_row1_col37\" class=\"data row1 col37\" >-0.06</td>\n",
       "      <td id=\"T_532c1_row1_col38\" class=\"data row1 col38\" >-0.18</td>\n",
       "      <td id=\"T_532c1_row1_col39\" class=\"data row1 col39\" >-0.18</td>\n",
       "      <td id=\"T_532c1_row1_col40\" class=\"data row1 col40\" >-0.13</td>\n",
       "      <td id=\"T_532c1_row1_col41\" class=\"data row1 col41\" >2.80</td>\n",
       "      <td id=\"T_532c1_row1_col42\" class=\"data row1 col42\" >-0.21</td>\n",
       "      <td id=\"T_532c1_row1_col43\" class=\"data row1 col43\" >-0.12</td>\n",
       "      <td id=\"T_532c1_row1_col44\" class=\"data row1 col44\" >-0.30</td>\n",
       "      <td id=\"T_532c1_row1_col45\" class=\"data row1 col45\" >-0.20</td>\n",
       "      <td id=\"T_532c1_row1_col46\" class=\"data row1 col46\" >-0.07</td>\n",
       "      <td id=\"T_532c1_row1_col47\" class=\"data row1 col47\" >-0.11</td>\n",
       "      <td id=\"T_532c1_row1_col48\" class=\"data row1 col48\" >-0.16</td>\n",
       "      <td id=\"T_532c1_row1_col49\" class=\"data row1 col49\" >-0.48</td>\n",
       "      <td id=\"T_532c1_row1_col50\" class=\"data row1 col50\" >-0.19</td>\n",
       "      <td id=\"T_532c1_row1_col51\" class=\"data row1 col51\" >0.05</td>\n",
       "      <td id=\"T_532c1_row1_col52\" class=\"data row1 col52\" >-0.30</td>\n",
       "      <td id=\"T_532c1_row1_col53\" class=\"data row1 col53\" >-0.10</td>\n",
       "      <td id=\"T_532c1_row1_col54\" class=\"data row1 col54\" >-0.09</td>\n",
       "      <td id=\"T_532c1_row1_col55\" class=\"data row1 col55\" >-0.21</td>\n",
       "      <td id=\"T_532c1_row1_col56\" class=\"data row1 col56\" >-0.38</td>\n",
       "    </tr>\n",
       "    <tr>\n",
       "      <td id=\"T_532c1_row2_col0\" class=\"data row2 col0\" >-0.35</td>\n",
       "      <td id=\"T_532c1_row2_col1\" class=\"data row2 col1\" >-0.16</td>\n",
       "      <td id=\"T_532c1_row2_col2\" class=\"data row2 col2\" >-0.56</td>\n",
       "      <td id=\"T_532c1_row2_col3\" class=\"data row2 col3\" >-0.05</td>\n",
       "      <td id=\"T_532c1_row2_col4\" class=\"data row2 col4\" >-0.46</td>\n",
       "      <td id=\"T_532c1_row2_col5\" class=\"data row2 col5\" >-0.36</td>\n",
       "      <td id=\"T_532c1_row2_col6\" class=\"data row2 col6\" >-0.29</td>\n",
       "      <td id=\"T_532c1_row2_col7\" class=\"data row2 col7\" >-0.26</td>\n",
       "      <td id=\"T_532c1_row2_col8\" class=\"data row2 col8\" >-0.32</td>\n",
       "      <td id=\"T_532c1_row2_col9\" class=\"data row2 col9\" >-0.37</td>\n",
       "      <td id=\"T_532c1_row2_col10\" class=\"data row2 col10\" >-0.30</td>\n",
       "      <td id=\"T_532c1_row2_col11\" class=\"data row2 col11\" >-0.63</td>\n",
       "      <td id=\"T_532c1_row2_col12\" class=\"data row2 col12\" >-0.30</td>\n",
       "      <td id=\"T_532c1_row2_col13\" class=\"data row2 col13\" >-0.17</td>\n",
       "      <td id=\"T_532c1_row2_col14\" class=\"data row2 col14\" >-0.19</td>\n",
       "      <td id=\"T_532c1_row2_col15\" class=\"data row2 col15\" >-0.32</td>\n",
       "      <td id=\"T_532c1_row2_col16\" class=\"data row2 col16\" >-0.31</td>\n",
       "      <td id=\"T_532c1_row2_col17\" class=\"data row2 col17\" >-0.35</td>\n",
       "      <td id=\"T_532c1_row2_col18\" class=\"data row2 col18\" >-0.94</td>\n",
       "      <td id=\"T_532c1_row2_col19\" class=\"data row2 col19\" >-0.16</td>\n",
       "      <td id=\"T_532c1_row2_col20\" class=\"data row2 col20\" >-0.67</td>\n",
       "      <td id=\"T_532c1_row2_col21\" class=\"data row2 col21\" >-0.12</td>\n",
       "      <td id=\"T_532c1_row2_col22\" class=\"data row2 col22\" >-0.29</td>\n",
       "      <td id=\"T_532c1_row2_col23\" class=\"data row2 col23\" >-0.21</td>\n",
       "      <td id=\"T_532c1_row2_col24\" class=\"data row2 col24\" >-0.34</td>\n",
       "      <td id=\"T_532c1_row2_col25\" class=\"data row2 col25\" >-0.30</td>\n",
       "      <td id=\"T_532c1_row2_col26\" class=\"data row2 col26\" >-0.23</td>\n",
       "      <td id=\"T_532c1_row2_col27\" class=\"data row2 col27\" >-0.23</td>\n",
       "      <td id=\"T_532c1_row2_col28\" class=\"data row2 col28\" >-0.18</td>\n",
       "      <td id=\"T_532c1_row2_col29\" class=\"data row2 col29\" >-0.22</td>\n",
       "      <td id=\"T_532c1_row2_col30\" class=\"data row2 col30\" >-0.16</td>\n",
       "      <td id=\"T_532c1_row2_col31\" class=\"data row2 col31\" >-0.14</td>\n",
       "      <td id=\"T_532c1_row2_col32\" class=\"data row2 col32\" >-0.17</td>\n",
       "      <td id=\"T_532c1_row2_col33\" class=\"data row2 col33\" >-0.15</td>\n",
       "      <td id=\"T_532c1_row2_col34\" class=\"data row2 col34\" >-0.19</td>\n",
       "      <td id=\"T_532c1_row2_col35\" class=\"data row2 col35\" >-0.24</td>\n",
       "      <td id=\"T_532c1_row2_col36\" class=\"data row2 col36\" >-0.32</td>\n",
       "      <td id=\"T_532c1_row2_col37\" class=\"data row2 col37\" >-0.06</td>\n",
       "      <td id=\"T_532c1_row2_col38\" class=\"data row2 col38\" >-0.18</td>\n",
       "      <td id=\"T_532c1_row2_col39\" class=\"data row2 col39\" >-0.18</td>\n",
       "      <td id=\"T_532c1_row2_col40\" class=\"data row2 col40\" >-0.13</td>\n",
       "      <td id=\"T_532c1_row2_col41\" class=\"data row2 col41\" >-0.18</td>\n",
       "      <td id=\"T_532c1_row2_col42\" class=\"data row2 col42\" >-0.21</td>\n",
       "      <td id=\"T_532c1_row2_col43\" class=\"data row2 col43\" >-0.12</td>\n",
       "      <td id=\"T_532c1_row2_col44\" class=\"data row2 col44\" >-0.30</td>\n",
       "      <td id=\"T_532c1_row2_col45\" class=\"data row2 col45\" >-0.20</td>\n",
       "      <td id=\"T_532c1_row2_col46\" class=\"data row2 col46\" >-0.07</td>\n",
       "      <td id=\"T_532c1_row2_col47\" class=\"data row2 col47\" >-0.11</td>\n",
       "      <td id=\"T_532c1_row2_col48\" class=\"data row2 col48\" >-0.16</td>\n",
       "      <td id=\"T_532c1_row2_col49\" class=\"data row2 col49\" >-0.48</td>\n",
       "      <td id=\"T_532c1_row2_col50\" class=\"data row2 col50\" >-0.19</td>\n",
       "      <td id=\"T_532c1_row2_col51\" class=\"data row2 col51\" >-0.31</td>\n",
       "      <td id=\"T_532c1_row2_col52\" class=\"data row2 col52\" >-0.30</td>\n",
       "      <td id=\"T_532c1_row2_col53\" class=\"data row2 col53\" >-0.10</td>\n",
       "      <td id=\"T_532c1_row2_col54\" class=\"data row2 col54\" >-0.13</td>\n",
       "      <td id=\"T_532c1_row2_col55\" class=\"data row2 col55\" >-0.25</td>\n",
       "      <td id=\"T_532c1_row2_col56\" class=\"data row2 col56\" >-0.45</td>\n",
       "    </tr>\n",
       "    <tr>\n",
       "      <td id=\"T_532c1_row3_col0\" class=\"data row3 col0\" >-0.35</td>\n",
       "      <td id=\"T_532c1_row3_col1\" class=\"data row3 col1\" >-0.16</td>\n",
       "      <td id=\"T_532c1_row3_col2\" class=\"data row3 col2\" >-0.56</td>\n",
       "      <td id=\"T_532c1_row3_col3\" class=\"data row3 col3\" >-0.05</td>\n",
       "      <td id=\"T_532c1_row3_col4\" class=\"data row3 col4\" >-0.46</td>\n",
       "      <td id=\"T_532c1_row3_col5\" class=\"data row3 col5\" >-0.36</td>\n",
       "      <td id=\"T_532c1_row3_col6\" class=\"data row3 col6\" >-0.29</td>\n",
       "      <td id=\"T_532c1_row3_col7\" class=\"data row3 col7\" >-0.26</td>\n",
       "      <td id=\"T_532c1_row3_col8\" class=\"data row3 col8\" >-0.32</td>\n",
       "      <td id=\"T_532c1_row3_col9\" class=\"data row3 col9\" >-0.37</td>\n",
       "      <td id=\"T_532c1_row3_col10\" class=\"data row3 col10\" >-0.30</td>\n",
       "      <td id=\"T_532c1_row3_col11\" class=\"data row3 col11\" >-0.63</td>\n",
       "      <td id=\"T_532c1_row3_col12\" class=\"data row3 col12\" >-0.30</td>\n",
       "      <td id=\"T_532c1_row3_col13\" class=\"data row3 col13\" >-0.17</td>\n",
       "      <td id=\"T_532c1_row3_col14\" class=\"data row3 col14\" >-0.19</td>\n",
       "      <td id=\"T_532c1_row3_col15\" class=\"data row3 col15\" >-0.32</td>\n",
       "      <td id=\"T_532c1_row3_col16\" class=\"data row3 col16\" >-0.31</td>\n",
       "      <td id=\"T_532c1_row3_col17\" class=\"data row3 col17\" >-0.35</td>\n",
       "      <td id=\"T_532c1_row3_col18\" class=\"data row3 col18\" >-0.94</td>\n",
       "      <td id=\"T_532c1_row3_col19\" class=\"data row3 col19\" >-0.16</td>\n",
       "      <td id=\"T_532c1_row3_col20\" class=\"data row3 col20\" >-0.67</td>\n",
       "      <td id=\"T_532c1_row3_col21\" class=\"data row3 col21\" >-0.12</td>\n",
       "      <td id=\"T_532c1_row3_col22\" class=\"data row3 col22\" >-0.29</td>\n",
       "      <td id=\"T_532c1_row3_col23\" class=\"data row3 col23\" >-0.21</td>\n",
       "      <td id=\"T_532c1_row3_col24\" class=\"data row3 col24\" >-0.34</td>\n",
       "      <td id=\"T_532c1_row3_col25\" class=\"data row3 col25\" >-0.30</td>\n",
       "      <td id=\"T_532c1_row3_col26\" class=\"data row3 col26\" >5.77</td>\n",
       "      <td id=\"T_532c1_row3_col27\" class=\"data row3 col27\" >-0.23</td>\n",
       "      <td id=\"T_532c1_row3_col28\" class=\"data row3 col28\" >-0.18</td>\n",
       "      <td id=\"T_532c1_row3_col29\" class=\"data row3 col29\" >-0.22</td>\n",
       "      <td id=\"T_532c1_row3_col30\" class=\"data row3 col30\" >-0.16</td>\n",
       "      <td id=\"T_532c1_row3_col31\" class=\"data row3 col31\" >-0.14</td>\n",
       "      <td id=\"T_532c1_row3_col32\" class=\"data row3 col32\" >-0.17</td>\n",
       "      <td id=\"T_532c1_row3_col33\" class=\"data row3 col33\" >-0.15</td>\n",
       "      <td id=\"T_532c1_row3_col34\" class=\"data row3 col34\" >-0.19</td>\n",
       "      <td id=\"T_532c1_row3_col35\" class=\"data row3 col35\" >-0.24</td>\n",
       "      <td id=\"T_532c1_row3_col36\" class=\"data row3 col36\" >-0.32</td>\n",
       "      <td id=\"T_532c1_row3_col37\" class=\"data row3 col37\" >-0.06</td>\n",
       "      <td id=\"T_532c1_row3_col38\" class=\"data row3 col38\" >-0.18</td>\n",
       "      <td id=\"T_532c1_row3_col39\" class=\"data row3 col39\" >-0.18</td>\n",
       "      <td id=\"T_532c1_row3_col40\" class=\"data row3 col40\" >-0.13</td>\n",
       "      <td id=\"T_532c1_row3_col41\" class=\"data row3 col41\" >-0.18</td>\n",
       "      <td id=\"T_532c1_row3_col42\" class=\"data row3 col42\" >-0.21</td>\n",
       "      <td id=\"T_532c1_row3_col43\" class=\"data row3 col43\" >-0.12</td>\n",
       "      <td id=\"T_532c1_row3_col44\" class=\"data row3 col44\" >-0.30</td>\n",
       "      <td id=\"T_532c1_row3_col45\" class=\"data row3 col45\" >-0.20</td>\n",
       "      <td id=\"T_532c1_row3_col46\" class=\"data row3 col46\" >-0.07</td>\n",
       "      <td id=\"T_532c1_row3_col47\" class=\"data row3 col47\" >-0.11</td>\n",
       "      <td id=\"T_532c1_row3_col48\" class=\"data row3 col48\" >-0.16</td>\n",
       "      <td id=\"T_532c1_row3_col49\" class=\"data row3 col49\" >-0.48</td>\n",
       "      <td id=\"T_532c1_row3_col50\" class=\"data row3 col50\" >-0.19</td>\n",
       "      <td id=\"T_532c1_row3_col51\" class=\"data row3 col51\" >-0.31</td>\n",
       "      <td id=\"T_532c1_row3_col52\" class=\"data row3 col52\" >-0.30</td>\n",
       "      <td id=\"T_532c1_row3_col53\" class=\"data row3 col53\" >-0.10</td>\n",
       "      <td id=\"T_532c1_row3_col54\" class=\"data row3 col54\" >-0.13</td>\n",
       "      <td id=\"T_532c1_row3_col55\" class=\"data row3 col55\" >-0.25</td>\n",
       "      <td id=\"T_532c1_row3_col56\" class=\"data row3 col56\" >-0.45</td>\n",
       "    </tr>\n",
       "    <tr>\n",
       "      <td id=\"T_532c1_row4_col0\" class=\"data row4 col0\" >0.93</td>\n",
       "      <td id=\"T_532c1_row4_col1\" class=\"data row4 col1\" >0.15</td>\n",
       "      <td id=\"T_532c1_row4_col2\" class=\"data row4 col2\" >-0.56</td>\n",
       "      <td id=\"T_532c1_row4_col3\" class=\"data row4 col3\" >-0.05</td>\n",
       "      <td id=\"T_532c1_row4_col4\" class=\"data row4 col4\" >0.12</td>\n",
       "      <td id=\"T_532c1_row4_col5\" class=\"data row4 col5\" >-0.36</td>\n",
       "      <td id=\"T_532c1_row4_col6\" class=\"data row4 col6\" >-0.29</td>\n",
       "      <td id=\"T_532c1_row4_col7\" class=\"data row4 col7\" >-0.26</td>\n",
       "      <td id=\"T_532c1_row4_col8\" class=\"data row4 col8\" >-0.32</td>\n",
       "      <td id=\"T_532c1_row4_col9\" class=\"data row4 col9\" >0.24</td>\n",
       "      <td id=\"T_532c1_row4_col10\" class=\"data row4 col10\" >-0.30</td>\n",
       "      <td id=\"T_532c1_row4_col11\" class=\"data row4 col11\" >0.74</td>\n",
       "      <td id=\"T_532c1_row4_col12\" class=\"data row4 col12\" >-0.30</td>\n",
       "      <td id=\"T_532c1_row4_col13\" class=\"data row4 col13\" >0.99</td>\n",
       "      <td id=\"T_532c1_row4_col14\" class=\"data row4 col14\" >-0.19</td>\n",
       "      <td id=\"T_532c1_row4_col15\" class=\"data row4 col15\" >-0.32</td>\n",
       "      <td id=\"T_532c1_row4_col16\" class=\"data row4 col16\" >-0.31</td>\n",
       "      <td id=\"T_532c1_row4_col17\" class=\"data row4 col17\" >-0.35</td>\n",
       "      <td id=\"T_532c1_row4_col18\" class=\"data row4 col18\" >-0.28</td>\n",
       "      <td id=\"T_532c1_row4_col19\" class=\"data row4 col19\" >-0.16</td>\n",
       "      <td id=\"T_532c1_row4_col20\" class=\"data row4 col20\" >-0.67</td>\n",
       "      <td id=\"T_532c1_row4_col21\" class=\"data row4 col21\" >-0.12</td>\n",
       "      <td id=\"T_532c1_row4_col22\" class=\"data row4 col22\" >-0.29</td>\n",
       "      <td id=\"T_532c1_row4_col23\" class=\"data row4 col23\" >-0.21</td>\n",
       "      <td id=\"T_532c1_row4_col24\" class=\"data row4 col24\" >1.41</td>\n",
       "      <td id=\"T_532c1_row4_col25\" class=\"data row4 col25\" >1.93</td>\n",
       "      <td id=\"T_532c1_row4_col26\" class=\"data row4 col26\" >0.13</td>\n",
       "      <td id=\"T_532c1_row4_col27\" class=\"data row4 col27\" >1.90</td>\n",
       "      <td id=\"T_532c1_row4_col28\" class=\"data row4 col28\" >0.52</td>\n",
       "      <td id=\"T_532c1_row4_col29\" class=\"data row4 col29\" >0.61</td>\n",
       "      <td id=\"T_532c1_row4_col30\" class=\"data row4 col30\" >0.76</td>\n",
       "      <td id=\"T_532c1_row4_col31\" class=\"data row4 col31\" >0.98</td>\n",
       "      <td id=\"T_532c1_row4_col32\" class=\"data row4 col32\" >-0.17</td>\n",
       "      <td id=\"T_532c1_row4_col33\" class=\"data row4 col33\" >0.97</td>\n",
       "      <td id=\"T_532c1_row4_col34\" class=\"data row4 col34\" >1.88</td>\n",
       "      <td id=\"T_532c1_row4_col35\" class=\"data row4 col35\" >0.76</td>\n",
       "      <td id=\"T_532c1_row4_col36\" class=\"data row4 col36\" >0.58</td>\n",
       "      <td id=\"T_532c1_row4_col37\" class=\"data row4 col37\" >-0.06</td>\n",
       "      <td id=\"T_532c1_row4_col38\" class=\"data row4 col38\" >-0.18</td>\n",
       "      <td id=\"T_532c1_row4_col39\" class=\"data row4 col39\" >0.88</td>\n",
       "      <td id=\"T_532c1_row4_col40\" class=\"data row4 col40\" >-0.13</td>\n",
       "      <td id=\"T_532c1_row4_col41\" class=\"data row4 col41\" >0.32</td>\n",
       "      <td id=\"T_532c1_row4_col42\" class=\"data row4 col42\" >1.51</td>\n",
       "      <td id=\"T_532c1_row4_col43\" class=\"data row4 col43\" >-0.12</td>\n",
       "      <td id=\"T_532c1_row4_col44\" class=\"data row4 col44\" >0.10</td>\n",
       "      <td id=\"T_532c1_row4_col45\" class=\"data row4 col45\" >-0.20</td>\n",
       "      <td id=\"T_532c1_row4_col46\" class=\"data row4 col46\" >-0.07</td>\n",
       "      <td id=\"T_532c1_row4_col47\" class=\"data row4 col47\" >-0.11</td>\n",
       "      <td id=\"T_532c1_row4_col48\" class=\"data row4 col48\" >0.35</td>\n",
       "      <td id=\"T_532c1_row4_col49\" class=\"data row4 col49\" >0.83</td>\n",
       "      <td id=\"T_532c1_row4_col50\" class=\"data row4 col50\" >5.17</td>\n",
       "      <td id=\"T_532c1_row4_col51\" class=\"data row4 col51\" >-0.31</td>\n",
       "      <td id=\"T_532c1_row4_col52\" class=\"data row4 col52\" >-0.30</td>\n",
       "      <td id=\"T_532c1_row4_col53\" class=\"data row4 col53\" >-0.10</td>\n",
       "      <td id=\"T_532c1_row4_col54\" class=\"data row4 col54\" >-0.09</td>\n",
       "      <td id=\"T_532c1_row4_col55\" class=\"data row4 col55\" >-0.19</td>\n",
       "      <td id=\"T_532c1_row4_col56\" class=\"data row4 col56\" >-0.23</td>\n",
       "    </tr>\n",
       "    <tr>\n",
       "      <td id=\"T_532c1_row5_col0\" class=\"data row5 col0\" >-0.35</td>\n",
       "      <td id=\"T_532c1_row5_col1\" class=\"data row5 col1\" >-0.16</td>\n",
       "      <td id=\"T_532c1_row5_col2\" class=\"data row5 col2\" >-0.56</td>\n",
       "      <td id=\"T_532c1_row5_col3\" class=\"data row5 col3\" >-0.05</td>\n",
       "      <td id=\"T_532c1_row5_col4\" class=\"data row5 col4\" >-0.46</td>\n",
       "      <td id=\"T_532c1_row5_col5\" class=\"data row5 col5\" >-0.36</td>\n",
       "      <td id=\"T_532c1_row5_col6\" class=\"data row5 col6\" >-0.29</td>\n",
       "      <td id=\"T_532c1_row5_col7\" class=\"data row5 col7\" >-0.26</td>\n",
       "      <td id=\"T_532c1_row5_col8\" class=\"data row5 col8\" >2.35</td>\n",
       "      <td id=\"T_532c1_row5_col9\" class=\"data row5 col9\" >-0.37</td>\n",
       "      <td id=\"T_532c1_row5_col10\" class=\"data row5 col10\" >-0.30</td>\n",
       "      <td id=\"T_532c1_row5_col11\" class=\"data row5 col11\" >-0.63</td>\n",
       "      <td id=\"T_532c1_row5_col12\" class=\"data row5 col12\" >-0.30</td>\n",
       "      <td id=\"T_532c1_row5_col13\" class=\"data row5 col13\" >-0.17</td>\n",
       "      <td id=\"T_532c1_row5_col14\" class=\"data row5 col14\" >-0.19</td>\n",
       "      <td id=\"T_532c1_row5_col15\" class=\"data row5 col15\" >-0.32</td>\n",
       "      <td id=\"T_532c1_row5_col16\" class=\"data row5 col16\" >-0.31</td>\n",
       "      <td id=\"T_532c1_row5_col17\" class=\"data row5 col17\" >-0.35</td>\n",
       "      <td id=\"T_532c1_row5_col18\" class=\"data row5 col18\" >0.30</td>\n",
       "      <td id=\"T_532c1_row5_col19\" class=\"data row5 col19\" >-0.16</td>\n",
       "      <td id=\"T_532c1_row5_col20\" class=\"data row5 col20\" >-0.67</td>\n",
       "      <td id=\"T_532c1_row5_col21\" class=\"data row5 col21\" >-0.12</td>\n",
       "      <td id=\"T_532c1_row5_col22\" class=\"data row5 col22\" >-0.29</td>\n",
       "      <td id=\"T_532c1_row5_col23\" class=\"data row5 col23\" >-0.21</td>\n",
       "      <td id=\"T_532c1_row5_col24\" class=\"data row5 col24\" >-0.34</td>\n",
       "      <td id=\"T_532c1_row5_col25\" class=\"data row5 col25\" >-0.30</td>\n",
       "      <td id=\"T_532c1_row5_col26\" class=\"data row5 col26\" >-0.23</td>\n",
       "      <td id=\"T_532c1_row5_col27\" class=\"data row5 col27\" >-0.23</td>\n",
       "      <td id=\"T_532c1_row5_col28\" class=\"data row5 col28\" >-0.18</td>\n",
       "      <td id=\"T_532c1_row5_col29\" class=\"data row5 col29\" >-0.22</td>\n",
       "      <td id=\"T_532c1_row5_col30\" class=\"data row5 col30\" >-0.16</td>\n",
       "      <td id=\"T_532c1_row5_col31\" class=\"data row5 col31\" >-0.14</td>\n",
       "      <td id=\"T_532c1_row5_col32\" class=\"data row5 col32\" >-0.17</td>\n",
       "      <td id=\"T_532c1_row5_col33\" class=\"data row5 col33\" >-0.15</td>\n",
       "      <td id=\"T_532c1_row5_col34\" class=\"data row5 col34\" >-0.19</td>\n",
       "      <td id=\"T_532c1_row5_col35\" class=\"data row5 col35\" >-0.24</td>\n",
       "      <td id=\"T_532c1_row5_col36\" class=\"data row5 col36\" >-0.32</td>\n",
       "      <td id=\"T_532c1_row5_col37\" class=\"data row5 col37\" >-0.06</td>\n",
       "      <td id=\"T_532c1_row5_col38\" class=\"data row5 col38\" >1.58</td>\n",
       "      <td id=\"T_532c1_row5_col39\" class=\"data row5 col39\" >-0.18</td>\n",
       "      <td id=\"T_532c1_row5_col40\" class=\"data row5 col40\" >-0.13</td>\n",
       "      <td id=\"T_532c1_row5_col41\" class=\"data row5 col41\" >-0.18</td>\n",
       "      <td id=\"T_532c1_row5_col42\" class=\"data row5 col42\" >-0.21</td>\n",
       "      <td id=\"T_532c1_row5_col43\" class=\"data row5 col43\" >-0.12</td>\n",
       "      <td id=\"T_532c1_row5_col44\" class=\"data row5 col44\" >0.46</td>\n",
       "      <td id=\"T_532c1_row5_col45\" class=\"data row5 col45\" >-0.20</td>\n",
       "      <td id=\"T_532c1_row5_col46\" class=\"data row5 col46\" >-0.07</td>\n",
       "      <td id=\"T_532c1_row5_col47\" class=\"data row5 col47\" >-0.11</td>\n",
       "      <td id=\"T_532c1_row5_col48\" class=\"data row5 col48\" >-0.16</td>\n",
       "      <td id=\"T_532c1_row5_col49\" class=\"data row5 col49\" >0.48</td>\n",
       "      <td id=\"T_532c1_row5_col50\" class=\"data row5 col50\" >-0.19</td>\n",
       "      <td id=\"T_532c1_row5_col51\" class=\"data row5 col51\" >0.32</td>\n",
       "      <td id=\"T_532c1_row5_col52\" class=\"data row5 col52\" >-0.30</td>\n",
       "      <td id=\"T_532c1_row5_col53\" class=\"data row5 col53\" >-0.10</td>\n",
       "      <td id=\"T_532c1_row5_col54\" class=\"data row5 col54\" >-0.08</td>\n",
       "      <td id=\"T_532c1_row5_col55\" class=\"data row5 col55\" >-0.18</td>\n",
       "      <td id=\"T_532c1_row5_col56\" class=\"data row5 col56\" >-0.34</td>\n",
       "    </tr>\n",
       "    <tr>\n",
       "      <td id=\"T_532c1_row6_col0\" class=\"data row6 col0\" >1.42</td>\n",
       "      <td id=\"T_532c1_row6_col1\" class=\"data row6 col1\" >-0.16</td>\n",
       "      <td id=\"T_532c1_row6_col2\" class=\"data row6 col2\" >-0.56</td>\n",
       "      <td id=\"T_532c1_row6_col3\" class=\"data row6 col3\" >-0.05</td>\n",
       "      <td id=\"T_532c1_row6_col4\" class=\"data row6 col4\" >-0.46</td>\n",
       "      <td id=\"T_532c1_row6_col5\" class=\"data row6 col5\" >0.65</td>\n",
       "      <td id=\"T_532c1_row6_col6\" class=\"data row6 col6\" >-0.29</td>\n",
       "      <td id=\"T_532c1_row6_col7\" class=\"data row6 col7\" >-0.26</td>\n",
       "      <td id=\"T_532c1_row6_col8\" class=\"data row6 col8\" >-0.32</td>\n",
       "      <td id=\"T_532c1_row6_col9\" class=\"data row6 col9\" >-0.37</td>\n",
       "      <td id=\"T_532c1_row6_col10\" class=\"data row6 col10\" >-0.30</td>\n",
       "      <td id=\"T_532c1_row6_col11\" class=\"data row6 col11\" >-0.63</td>\n",
       "      <td id=\"T_532c1_row6_col12\" class=\"data row6 col12\" >1.45</td>\n",
       "      <td id=\"T_532c1_row6_col13\" class=\"data row6 col13\" >-0.17</td>\n",
       "      <td id=\"T_532c1_row6_col14\" class=\"data row6 col14\" >-0.19</td>\n",
       "      <td id=\"T_532c1_row6_col15\" class=\"data row6 col15\" >-0.32</td>\n",
       "      <td id=\"T_532c1_row6_col16\" class=\"data row6 col16\" >-0.31</td>\n",
       "      <td id=\"T_532c1_row6_col17\" class=\"data row6 col17\" >-0.35</td>\n",
       "      <td id=\"T_532c1_row6_col18\" class=\"data row6 col18\" >1.18</td>\n",
       "      <td id=\"T_532c1_row6_col19\" class=\"data row6 col19\" >-0.16</td>\n",
       "      <td id=\"T_532c1_row6_col20\" class=\"data row6 col20\" >-0.23</td>\n",
       "      <td id=\"T_532c1_row6_col21\" class=\"data row6 col21\" >-0.12</td>\n",
       "      <td id=\"T_532c1_row6_col22\" class=\"data row6 col22\" >-0.29</td>\n",
       "      <td id=\"T_532c1_row6_col23\" class=\"data row6 col23\" >-0.21</td>\n",
       "      <td id=\"T_532c1_row6_col24\" class=\"data row6 col24\" >-0.17</td>\n",
       "      <td id=\"T_532c1_row6_col25\" class=\"data row6 col25\" >-0.30</td>\n",
       "      <td id=\"T_532c1_row6_col26\" class=\"data row6 col26\" >-0.23</td>\n",
       "      <td id=\"T_532c1_row6_col27\" class=\"data row6 col27\" >-0.23</td>\n",
       "      <td id=\"T_532c1_row6_col28\" class=\"data row6 col28\" >-0.18</td>\n",
       "      <td id=\"T_532c1_row6_col29\" class=\"data row6 col29\" >-0.22</td>\n",
       "      <td id=\"T_532c1_row6_col30\" class=\"data row6 col30\" >1.11</td>\n",
       "      <td id=\"T_532c1_row6_col31\" class=\"data row6 col31\" >-0.14</td>\n",
       "      <td id=\"T_532c1_row6_col32\" class=\"data row6 col32\" >-0.17</td>\n",
       "      <td id=\"T_532c1_row6_col33\" class=\"data row6 col33\" >-0.15</td>\n",
       "      <td id=\"T_532c1_row6_col34\" class=\"data row6 col34\" >0.28</td>\n",
       "      <td id=\"T_532c1_row6_col35\" class=\"data row6 col35\" >-0.24</td>\n",
       "      <td id=\"T_532c1_row6_col36\" class=\"data row6 col36\" >-0.32</td>\n",
       "      <td id=\"T_532c1_row6_col37\" class=\"data row6 col37\" >-0.06</td>\n",
       "      <td id=\"T_532c1_row6_col38\" class=\"data row6 col38\" >-0.18</td>\n",
       "      <td id=\"T_532c1_row6_col39\" class=\"data row6 col39\" >-0.18</td>\n",
       "      <td id=\"T_532c1_row6_col40\" class=\"data row6 col40\" >-0.13</td>\n",
       "      <td id=\"T_532c1_row6_col41\" class=\"data row6 col41\" >-0.18</td>\n",
       "      <td id=\"T_532c1_row6_col42\" class=\"data row6 col42\" >-0.21</td>\n",
       "      <td id=\"T_532c1_row6_col43\" class=\"data row6 col43\" >-0.12</td>\n",
       "      <td id=\"T_532c1_row6_col44\" class=\"data row6 col44\" >-0.30</td>\n",
       "      <td id=\"T_532c1_row6_col45\" class=\"data row6 col45\" >-0.20</td>\n",
       "      <td id=\"T_532c1_row6_col46\" class=\"data row6 col46\" >-0.07</td>\n",
       "      <td id=\"T_532c1_row6_col47\" class=\"data row6 col47\" >-0.11</td>\n",
       "      <td id=\"T_532c1_row6_col48\" class=\"data row6 col48\" >-0.16</td>\n",
       "      <td id=\"T_532c1_row6_col49\" class=\"data row6 col49\" >1.02</td>\n",
       "      <td id=\"T_532c1_row6_col50\" class=\"data row6 col50\" >-0.19</td>\n",
       "      <td id=\"T_532c1_row6_col51\" class=\"data row6 col51\" >-0.31</td>\n",
       "      <td id=\"T_532c1_row6_col52\" class=\"data row6 col52\" >0.01</td>\n",
       "      <td id=\"T_532c1_row6_col53\" class=\"data row6 col53\" >-0.10</td>\n",
       "      <td id=\"T_532c1_row6_col54\" class=\"data row6 col54\" >-0.10</td>\n",
       "      <td id=\"T_532c1_row6_col55\" class=\"data row6 col55\" >-0.17</td>\n",
       "      <td id=\"T_532c1_row6_col56\" class=\"data row6 col56\" >-0.29</td>\n",
       "    </tr>\n",
       "    <tr>\n",
       "      <td id=\"T_532c1_row7_col0\" class=\"data row7 col0\" >-0.35</td>\n",
       "      <td id=\"T_532c1_row7_col1\" class=\"data row7 col1\" >-0.02</td>\n",
       "      <td id=\"T_532c1_row7_col2\" class=\"data row7 col2\" >-0.56</td>\n",
       "      <td id=\"T_532c1_row7_col3\" class=\"data row7 col3\" >-0.05</td>\n",
       "      <td id=\"T_532c1_row7_col4\" class=\"data row7 col4\" >-0.20</td>\n",
       "      <td id=\"T_532c1_row7_col5\" class=\"data row7 col5\" >-0.36</td>\n",
       "      <td id=\"T_532c1_row7_col6\" class=\"data row7 col6\" >-0.29</td>\n",
       "      <td id=\"T_532c1_row7_col7\" class=\"data row7 col7\" >0.66</td>\n",
       "      <td id=\"T_532c1_row7_col8\" class=\"data row7 col8\" >-0.32</td>\n",
       "      <td id=\"T_532c1_row7_col9\" class=\"data row7 col9\" >-0.37</td>\n",
       "      <td id=\"T_532c1_row7_col10\" class=\"data row7 col10\" >-0.30</td>\n",
       "      <td id=\"T_532c1_row7_col11\" class=\"data row7 col11\" >0.45</td>\n",
       "      <td id=\"T_532c1_row7_col12\" class=\"data row7 col12\" >-0.30</td>\n",
       "      <td id=\"T_532c1_row7_col13\" class=\"data row7 col13\" >-0.17</td>\n",
       "      <td id=\"T_532c1_row7_col14\" class=\"data row7 col14\" >-0.19</td>\n",
       "      <td id=\"T_532c1_row7_col15\" class=\"data row7 col15\" >-0.32</td>\n",
       "      <td id=\"T_532c1_row7_col16\" class=\"data row7 col16\" >3.74</td>\n",
       "      <td id=\"T_532c1_row7_col17\" class=\"data row7 col17\" >-0.35</td>\n",
       "      <td id=\"T_532c1_row7_col18\" class=\"data row7 col18\" >-0.84</td>\n",
       "      <td id=\"T_532c1_row7_col19\" class=\"data row7 col19\" >-0.16</td>\n",
       "      <td id=\"T_532c1_row7_col20\" class=\"data row7 col20\" >-0.67</td>\n",
       "      <td id=\"T_532c1_row7_col21\" class=\"data row7 col21\" >-0.12</td>\n",
       "      <td id=\"T_532c1_row7_col22\" class=\"data row7 col22\" >-0.29</td>\n",
       "      <td id=\"T_532c1_row7_col23\" class=\"data row7 col23\" >-0.21</td>\n",
       "      <td id=\"T_532c1_row7_col24\" class=\"data row7 col24\" >-0.10</td>\n",
       "      <td id=\"T_532c1_row7_col25\" class=\"data row7 col25\" >-0.10</td>\n",
       "      <td id=\"T_532c1_row7_col26\" class=\"data row7 col26\" >-0.23</td>\n",
       "      <td id=\"T_532c1_row7_col27\" class=\"data row7 col27\" >-0.23</td>\n",
       "      <td id=\"T_532c1_row7_col28\" class=\"data row7 col28\" >-0.18</td>\n",
       "      <td id=\"T_532c1_row7_col29\" class=\"data row7 col29\" >0.16</td>\n",
       "      <td id=\"T_532c1_row7_col30\" class=\"data row7 col30\" >-0.16</td>\n",
       "      <td id=\"T_532c1_row7_col31\" class=\"data row7 col31\" >-0.14</td>\n",
       "      <td id=\"T_532c1_row7_col32\" class=\"data row7 col32\" >-0.17</td>\n",
       "      <td id=\"T_532c1_row7_col33\" class=\"data row7 col33\" >-0.15</td>\n",
       "      <td id=\"T_532c1_row7_col34\" class=\"data row7 col34\" >-0.19</td>\n",
       "      <td id=\"T_532c1_row7_col35\" class=\"data row7 col35\" >0.71</td>\n",
       "      <td id=\"T_532c1_row7_col36\" class=\"data row7 col36\" >-0.32</td>\n",
       "      <td id=\"T_532c1_row7_col37\" class=\"data row7 col37\" >-0.06</td>\n",
       "      <td id=\"T_532c1_row7_col38\" class=\"data row7 col38\" >-0.18</td>\n",
       "      <td id=\"T_532c1_row7_col39\" class=\"data row7 col39\" >-0.18</td>\n",
       "      <td id=\"T_532c1_row7_col40\" class=\"data row7 col40\" >-0.13</td>\n",
       "      <td id=\"T_532c1_row7_col41\" class=\"data row7 col41\" >-0.18</td>\n",
       "      <td id=\"T_532c1_row7_col42\" class=\"data row7 col42\" >-0.21</td>\n",
       "      <td id=\"T_532c1_row7_col43\" class=\"data row7 col43\" >-0.12</td>\n",
       "      <td id=\"T_532c1_row7_col44\" class=\"data row7 col44\" >0.28</td>\n",
       "      <td id=\"T_532c1_row7_col45\" class=\"data row7 col45\" >-0.20</td>\n",
       "      <td id=\"T_532c1_row7_col46\" class=\"data row7 col46\" >-0.07</td>\n",
       "      <td id=\"T_532c1_row7_col47\" class=\"data row7 col47\" >-0.11</td>\n",
       "      <td id=\"T_532c1_row7_col48\" class=\"data row7 col48\" >-0.16</td>\n",
       "      <td id=\"T_532c1_row7_col49\" class=\"data row7 col49\" >0.36</td>\n",
       "      <td id=\"T_532c1_row7_col50\" class=\"data row7 col50\" >-0.19</td>\n",
       "      <td id=\"T_532c1_row7_col51\" class=\"data row7 col51\" >-0.31</td>\n",
       "      <td id=\"T_532c1_row7_col52\" class=\"data row7 col52\" >-0.30</td>\n",
       "      <td id=\"T_532c1_row7_col53\" class=\"data row7 col53\" >-0.10</td>\n",
       "      <td id=\"T_532c1_row7_col54\" class=\"data row7 col54\" >-0.11</td>\n",
       "      <td id=\"T_532c1_row7_col55\" class=\"data row7 col55\" >-0.21</td>\n",
       "      <td id=\"T_532c1_row7_col56\" class=\"data row7 col56\" >-0.19</td>\n",
       "    </tr>\n",
       "    <tr>\n",
       "      <td id=\"T_532c1_row8_col0\" class=\"data row8 col0\" >-0.35</td>\n",
       "      <td id=\"T_532c1_row8_col1\" class=\"data row8 col1\" >-0.16</td>\n",
       "      <td id=\"T_532c1_row8_col2\" class=\"data row8 col2\" >-0.56</td>\n",
       "      <td id=\"T_532c1_row8_col3\" class=\"data row8 col3\" >-0.05</td>\n",
       "      <td id=\"T_532c1_row8_col4\" class=\"data row8 col4\" >0.88</td>\n",
       "      <td id=\"T_532c1_row8_col5\" class=\"data row8 col5\" >-0.36</td>\n",
       "      <td id=\"T_532c1_row8_col6\" class=\"data row8 col6\" >1.88</td>\n",
       "      <td id=\"T_532c1_row8_col7\" class=\"data row8 col7\" >-0.26</td>\n",
       "      <td id=\"T_532c1_row8_col8\" class=\"data row8 col8\" >-0.32</td>\n",
       "      <td id=\"T_532c1_row8_col9\" class=\"data row8 col9\" >1.04</td>\n",
       "      <td id=\"T_532c1_row8_col10\" class=\"data row8 col10\" >4.10</td>\n",
       "      <td id=\"T_532c1_row8_col11\" class=\"data row8 col11\" >-0.63</td>\n",
       "      <td id=\"T_532c1_row8_col12\" class=\"data row8 col12\" >2.62</td>\n",
       "      <td id=\"T_532c1_row8_col13\" class=\"data row8 col13\" >-0.17</td>\n",
       "      <td id=\"T_532c1_row8_col14\" class=\"data row8 col14\" >-0.19</td>\n",
       "      <td id=\"T_532c1_row8_col15\" class=\"data row8 col15\" >-0.32</td>\n",
       "      <td id=\"T_532c1_row8_col16\" class=\"data row8 col16\" >-0.31</td>\n",
       "      <td id=\"T_532c1_row8_col17\" class=\"data row8 col17\" >-0.35</td>\n",
       "      <td id=\"T_532c1_row8_col18\" class=\"data row8 col18\" >0.58</td>\n",
       "      <td id=\"T_532c1_row8_col19\" class=\"data row8 col19\" >-0.16</td>\n",
       "      <td id=\"T_532c1_row8_col20\" class=\"data row8 col20\" >0.06</td>\n",
       "      <td id=\"T_532c1_row8_col21\" class=\"data row8 col21\" >-0.12</td>\n",
       "      <td id=\"T_532c1_row8_col22\" class=\"data row8 col22\" >-0.29</td>\n",
       "      <td id=\"T_532c1_row8_col23\" class=\"data row8 col23\" >-0.21</td>\n",
       "      <td id=\"T_532c1_row8_col24\" class=\"data row8 col24\" >-0.34</td>\n",
       "      <td id=\"T_532c1_row8_col25\" class=\"data row8 col25\" >-0.30</td>\n",
       "      <td id=\"T_532c1_row8_col26\" class=\"data row8 col26\" >-0.23</td>\n",
       "      <td id=\"T_532c1_row8_col27\" class=\"data row8 col27\" >-0.23</td>\n",
       "      <td id=\"T_532c1_row8_col28\" class=\"data row8 col28\" >-0.18</td>\n",
       "      <td id=\"T_532c1_row8_col29\" class=\"data row8 col29\" >-0.22</td>\n",
       "      <td id=\"T_532c1_row8_col30\" class=\"data row8 col30\" >-0.16</td>\n",
       "      <td id=\"T_532c1_row8_col31\" class=\"data row8 col31\" >-0.14</td>\n",
       "      <td id=\"T_532c1_row8_col32\" class=\"data row8 col32\" >-0.17</td>\n",
       "      <td id=\"T_532c1_row8_col33\" class=\"data row8 col33\" >-0.15</td>\n",
       "      <td id=\"T_532c1_row8_col34\" class=\"data row8 col34\" >-0.19</td>\n",
       "      <td id=\"T_532c1_row8_col35\" class=\"data row8 col35\" >-0.24</td>\n",
       "      <td id=\"T_532c1_row8_col36\" class=\"data row8 col36\" >-0.32</td>\n",
       "      <td id=\"T_532c1_row8_col37\" class=\"data row8 col37\" >-0.06</td>\n",
       "      <td id=\"T_532c1_row8_col38\" class=\"data row8 col38\" >-0.18</td>\n",
       "      <td id=\"T_532c1_row8_col39\" class=\"data row8 col39\" >-0.18</td>\n",
       "      <td id=\"T_532c1_row8_col40\" class=\"data row8 col40\" >-0.13</td>\n",
       "      <td id=\"T_532c1_row8_col41\" class=\"data row8 col41\" >-0.18</td>\n",
       "      <td id=\"T_532c1_row8_col42\" class=\"data row8 col42\" >-0.21</td>\n",
       "      <td id=\"T_532c1_row8_col43\" class=\"data row8 col43\" >-0.12</td>\n",
       "      <td id=\"T_532c1_row8_col44\" class=\"data row8 col44\" >-0.30</td>\n",
       "      <td id=\"T_532c1_row8_col45\" class=\"data row8 col45\" >-0.20</td>\n",
       "      <td id=\"T_532c1_row8_col46\" class=\"data row8 col46\" >-0.07</td>\n",
       "      <td id=\"T_532c1_row8_col47\" class=\"data row8 col47\" >-0.11</td>\n",
       "      <td id=\"T_532c1_row8_col48\" class=\"data row8 col48\" >-0.16</td>\n",
       "      <td id=\"T_532c1_row8_col49\" class=\"data row8 col49\" >-0.48</td>\n",
       "      <td id=\"T_532c1_row8_col50\" class=\"data row8 col50\" >-0.19</td>\n",
       "      <td id=\"T_532c1_row8_col51\" class=\"data row8 col51\" >-0.31</td>\n",
       "      <td id=\"T_532c1_row8_col52\" class=\"data row8 col52\" >-0.30</td>\n",
       "      <td id=\"T_532c1_row8_col53\" class=\"data row8 col53\" >-0.10</td>\n",
       "      <td id=\"T_532c1_row8_col54\" class=\"data row8 col54\" >-0.10</td>\n",
       "      <td id=\"T_532c1_row8_col55\" class=\"data row8 col55\" >-0.22</td>\n",
       "      <td id=\"T_532c1_row8_col56\" class=\"data row8 col56\" >-0.42</td>\n",
       "    </tr>\n",
       "    <tr>\n",
       "      <td id=\"T_532c1_row9_col0\" class=\"data row9 col0\" >-0.35</td>\n",
       "      <td id=\"T_532c1_row9_col1\" class=\"data row9 col1\" >-0.16</td>\n",
       "      <td id=\"T_532c1_row9_col2\" class=\"data row9 col2\" >3.33</td>\n",
       "      <td id=\"T_532c1_row9_col3\" class=\"data row9 col3\" >-0.05</td>\n",
       "      <td id=\"T_532c1_row9_col4\" class=\"data row9 col4\" >1.01</td>\n",
       "      <td id=\"T_532c1_row9_col5\" class=\"data row9 col5\" >-0.36</td>\n",
       "      <td id=\"T_532c1_row9_col6\" class=\"data row9 col6\" >-0.29</td>\n",
       "      <td id=\"T_532c1_row9_col7\" class=\"data row9 col7\" >-0.26</td>\n",
       "      <td id=\"T_532c1_row9_col8\" class=\"data row9 col8\" >-0.32</td>\n",
       "      <td id=\"T_532c1_row9_col9\" class=\"data row9 col9\" >-0.37</td>\n",
       "      <td id=\"T_532c1_row9_col10\" class=\"data row9 col10\" >-0.30</td>\n",
       "      <td id=\"T_532c1_row9_col11\" class=\"data row9 col11\" >1.65</td>\n",
       "      <td id=\"T_532c1_row9_col12\" class=\"data row9 col12\" >-0.30</td>\n",
       "      <td id=\"T_532c1_row9_col13\" class=\"data row9 col13\" >-0.17</td>\n",
       "      <td id=\"T_532c1_row9_col14\" class=\"data row9 col14\" >-0.19</td>\n",
       "      <td id=\"T_532c1_row9_col15\" class=\"data row9 col15\" >-0.32</td>\n",
       "      <td id=\"T_532c1_row9_col16\" class=\"data row9 col16\" >-0.31</td>\n",
       "      <td id=\"T_532c1_row9_col17\" class=\"data row9 col17\" >-0.35</td>\n",
       "      <td id=\"T_532c1_row9_col18\" class=\"data row9 col18\" >1.83</td>\n",
       "      <td id=\"T_532c1_row9_col19\" class=\"data row9 col19\" >-0.16</td>\n",
       "      <td id=\"T_532c1_row9_col20\" class=\"data row9 col20\" >0.13</td>\n",
       "      <td id=\"T_532c1_row9_col21\" class=\"data row9 col21\" >-0.12</td>\n",
       "      <td id=\"T_532c1_row9_col22\" class=\"data row9 col22\" >-0.29</td>\n",
       "      <td id=\"T_532c1_row9_col23\" class=\"data row9 col23\" >-0.21</td>\n",
       "      <td id=\"T_532c1_row9_col24\" class=\"data row9 col24\" >-0.34</td>\n",
       "      <td id=\"T_532c1_row9_col25\" class=\"data row9 col25\" >-0.30</td>\n",
       "      <td id=\"T_532c1_row9_col26\" class=\"data row9 col26\" >-0.23</td>\n",
       "      <td id=\"T_532c1_row9_col27\" class=\"data row9 col27\" >-0.23</td>\n",
       "      <td id=\"T_532c1_row9_col28\" class=\"data row9 col28\" >-0.18</td>\n",
       "      <td id=\"T_532c1_row9_col29\" class=\"data row9 col29\" >-0.22</td>\n",
       "      <td id=\"T_532c1_row9_col30\" class=\"data row9 col30\" >-0.16</td>\n",
       "      <td id=\"T_532c1_row9_col31\" class=\"data row9 col31\" >-0.14</td>\n",
       "      <td id=\"T_532c1_row9_col32\" class=\"data row9 col32\" >-0.17</td>\n",
       "      <td id=\"T_532c1_row9_col33\" class=\"data row9 col33\" >-0.15</td>\n",
       "      <td id=\"T_532c1_row9_col34\" class=\"data row9 col34\" >-0.19</td>\n",
       "      <td id=\"T_532c1_row9_col35\" class=\"data row9 col35\" >-0.24</td>\n",
       "      <td id=\"T_532c1_row9_col36\" class=\"data row9 col36\" >-0.32</td>\n",
       "      <td id=\"T_532c1_row9_col37\" class=\"data row9 col37\" >-0.06</td>\n",
       "      <td id=\"T_532c1_row9_col38\" class=\"data row9 col38\" >2.18</td>\n",
       "      <td id=\"T_532c1_row9_col39\" class=\"data row9 col39\" >-0.18</td>\n",
       "      <td id=\"T_532c1_row9_col40\" class=\"data row9 col40\" >-0.13</td>\n",
       "      <td id=\"T_532c1_row9_col41\" class=\"data row9 col41\" >2.37</td>\n",
       "      <td id=\"T_532c1_row9_col42\" class=\"data row9 col42\" >-0.21</td>\n",
       "      <td id=\"T_532c1_row9_col43\" class=\"data row9 col43\" >-0.12</td>\n",
       "      <td id=\"T_532c1_row9_col44\" class=\"data row9 col44\" >-0.30</td>\n",
       "      <td id=\"T_532c1_row9_col45\" class=\"data row9 col45\" >-0.20</td>\n",
       "      <td id=\"T_532c1_row9_col46\" class=\"data row9 col46\" >-0.07</td>\n",
       "      <td id=\"T_532c1_row9_col47\" class=\"data row9 col47\" >-0.11</td>\n",
       "      <td id=\"T_532c1_row9_col48\" class=\"data row9 col48\" >-0.16</td>\n",
       "      <td id=\"T_532c1_row9_col49\" class=\"data row9 col49\" >-0.48</td>\n",
       "      <td id=\"T_532c1_row9_col50\" class=\"data row9 col50\" >-0.19</td>\n",
       "      <td id=\"T_532c1_row9_col51\" class=\"data row9 col51\" >-0.31</td>\n",
       "      <td id=\"T_532c1_row9_col52\" class=\"data row9 col52\" >-0.30</td>\n",
       "      <td id=\"T_532c1_row9_col53\" class=\"data row9 col53\" >-0.10</td>\n",
       "      <td id=\"T_532c1_row9_col54\" class=\"data row9 col54\" >-0.12</td>\n",
       "      <td id=\"T_532c1_row9_col55\" class=\"data row9 col55\" >-0.23</td>\n",
       "      <td id=\"T_532c1_row9_col56\" class=\"data row9 col56\" >-0.42</td>\n",
       "    </tr>\n",
       "  </tbody>\n",
       "</table>\n"
      ],
      "text/plain": [
       "<pandas.io.formats.style.Styler at 0x14ae23e50>"
      ]
     },
     "execution_count": 16,
     "metadata": {},
     "output_type": "execute_result"
    }
   ],
   "source": [
    "pandas_processx.return_formatted_table \\\n",
    "    (x_train_scaled_dataframe, \n",
    "     'Table 1.5.1: Spam Scaled Features Training Data')"
   ]
  },
  {
   "cell_type": "code",
   "execution_count": 17,
   "metadata": {},
   "outputs": [
    {
     "data": {
      "text/html": [
       "<style type=\"text/css\">\n",
       "#T_a2a19 caption {\n",
       "  color: black;\n",
       "  font-size: 20px;\n",
       "  font-style: bold;\n",
       "  text-align: center;\n",
       "}\n",
       "#T_a2a19_row0_col0, #T_a2a19_row0_col1, #T_a2a19_row0_col2, #T_a2a19_row0_col3, #T_a2a19_row0_col4, #T_a2a19_row0_col5, #T_a2a19_row0_col6, #T_a2a19_row0_col7, #T_a2a19_row0_col8, #T_a2a19_row0_col9, #T_a2a19_row0_col10, #T_a2a19_row0_col11, #T_a2a19_row0_col12, #T_a2a19_row0_col13, #T_a2a19_row0_col14, #T_a2a19_row0_col15, #T_a2a19_row0_col16, #T_a2a19_row0_col17, #T_a2a19_row0_col18, #T_a2a19_row0_col19, #T_a2a19_row0_col20, #T_a2a19_row0_col21, #T_a2a19_row0_col22, #T_a2a19_row0_col23, #T_a2a19_row0_col24, #T_a2a19_row0_col25, #T_a2a19_row0_col26, #T_a2a19_row0_col27, #T_a2a19_row0_col28, #T_a2a19_row0_col29, #T_a2a19_row0_col30, #T_a2a19_row0_col31, #T_a2a19_row0_col32, #T_a2a19_row0_col33, #T_a2a19_row0_col34, #T_a2a19_row0_col35, #T_a2a19_row0_col36, #T_a2a19_row0_col37, #T_a2a19_row0_col38, #T_a2a19_row0_col39, #T_a2a19_row0_col40, #T_a2a19_row0_col41, #T_a2a19_row0_col42, #T_a2a19_row0_col43, #T_a2a19_row0_col44, #T_a2a19_row0_col45, #T_a2a19_row0_col46, #T_a2a19_row0_col47, #T_a2a19_row0_col48, #T_a2a19_row0_col49, #T_a2a19_row0_col50, #T_a2a19_row0_col51, #T_a2a19_row0_col52, #T_a2a19_row0_col53, #T_a2a19_row0_col54, #T_a2a19_row0_col55, #T_a2a19_row0_col56, #T_a2a19_row1_col0, #T_a2a19_row1_col1, #T_a2a19_row1_col2, #T_a2a19_row1_col3, #T_a2a19_row1_col4, #T_a2a19_row1_col5, #T_a2a19_row1_col6, #T_a2a19_row1_col7, #T_a2a19_row1_col8, #T_a2a19_row1_col9, #T_a2a19_row1_col10, #T_a2a19_row1_col11, #T_a2a19_row1_col12, #T_a2a19_row1_col13, #T_a2a19_row1_col14, #T_a2a19_row1_col15, #T_a2a19_row1_col16, #T_a2a19_row1_col17, #T_a2a19_row1_col18, #T_a2a19_row1_col19, #T_a2a19_row1_col20, #T_a2a19_row1_col21, #T_a2a19_row1_col22, #T_a2a19_row1_col23, #T_a2a19_row1_col24, #T_a2a19_row1_col25, #T_a2a19_row1_col26, #T_a2a19_row1_col27, #T_a2a19_row1_col28, #T_a2a19_row1_col29, #T_a2a19_row1_col30, #T_a2a19_row1_col31, #T_a2a19_row1_col32, #T_a2a19_row1_col33, #T_a2a19_row1_col34, #T_a2a19_row1_col35, #T_a2a19_row1_col36, #T_a2a19_row1_col37, #T_a2a19_row1_col38, #T_a2a19_row1_col39, #T_a2a19_row1_col40, #T_a2a19_row1_col41, #T_a2a19_row1_col42, #T_a2a19_row1_col43, #T_a2a19_row1_col44, #T_a2a19_row1_col45, #T_a2a19_row1_col46, #T_a2a19_row1_col47, #T_a2a19_row1_col48, #T_a2a19_row1_col49, #T_a2a19_row1_col50, #T_a2a19_row1_col51, #T_a2a19_row1_col52, #T_a2a19_row1_col53, #T_a2a19_row1_col54, #T_a2a19_row1_col55, #T_a2a19_row1_col56, #T_a2a19_row2_col0, #T_a2a19_row2_col1, #T_a2a19_row2_col2, #T_a2a19_row2_col3, #T_a2a19_row2_col4, #T_a2a19_row2_col5, #T_a2a19_row2_col6, #T_a2a19_row2_col7, #T_a2a19_row2_col8, #T_a2a19_row2_col9, #T_a2a19_row2_col10, #T_a2a19_row2_col11, #T_a2a19_row2_col12, #T_a2a19_row2_col13, #T_a2a19_row2_col14, #T_a2a19_row2_col15, #T_a2a19_row2_col16, #T_a2a19_row2_col17, #T_a2a19_row2_col18, #T_a2a19_row2_col19, #T_a2a19_row2_col20, #T_a2a19_row2_col21, #T_a2a19_row2_col22, #T_a2a19_row2_col23, #T_a2a19_row2_col24, #T_a2a19_row2_col25, #T_a2a19_row2_col26, #T_a2a19_row2_col27, #T_a2a19_row2_col28, #T_a2a19_row2_col29, #T_a2a19_row2_col30, #T_a2a19_row2_col31, #T_a2a19_row2_col32, #T_a2a19_row2_col33, #T_a2a19_row2_col34, #T_a2a19_row2_col35, #T_a2a19_row2_col36, #T_a2a19_row2_col37, #T_a2a19_row2_col38, #T_a2a19_row2_col39, #T_a2a19_row2_col40, #T_a2a19_row2_col41, #T_a2a19_row2_col42, #T_a2a19_row2_col43, #T_a2a19_row2_col44, #T_a2a19_row2_col45, #T_a2a19_row2_col46, #T_a2a19_row2_col47, #T_a2a19_row2_col48, #T_a2a19_row2_col49, #T_a2a19_row2_col50, #T_a2a19_row2_col51, #T_a2a19_row2_col52, #T_a2a19_row2_col53, #T_a2a19_row2_col54, #T_a2a19_row2_col55, #T_a2a19_row2_col56, #T_a2a19_row3_col0, #T_a2a19_row3_col1, #T_a2a19_row3_col2, #T_a2a19_row3_col3, #T_a2a19_row3_col4, #T_a2a19_row3_col5, #T_a2a19_row3_col6, #T_a2a19_row3_col7, #T_a2a19_row3_col8, #T_a2a19_row3_col9, #T_a2a19_row3_col10, #T_a2a19_row3_col11, #T_a2a19_row3_col12, #T_a2a19_row3_col13, #T_a2a19_row3_col14, #T_a2a19_row3_col15, #T_a2a19_row3_col16, #T_a2a19_row3_col17, #T_a2a19_row3_col18, #T_a2a19_row3_col19, #T_a2a19_row3_col20, #T_a2a19_row3_col21, #T_a2a19_row3_col22, #T_a2a19_row3_col23, #T_a2a19_row3_col24, #T_a2a19_row3_col25, #T_a2a19_row3_col26, #T_a2a19_row3_col27, #T_a2a19_row3_col28, #T_a2a19_row3_col29, #T_a2a19_row3_col30, #T_a2a19_row3_col31, #T_a2a19_row3_col32, #T_a2a19_row3_col33, #T_a2a19_row3_col34, #T_a2a19_row3_col35, #T_a2a19_row3_col36, #T_a2a19_row3_col37, #T_a2a19_row3_col38, #T_a2a19_row3_col39, #T_a2a19_row3_col40, #T_a2a19_row3_col41, #T_a2a19_row3_col42, #T_a2a19_row3_col43, #T_a2a19_row3_col44, #T_a2a19_row3_col45, #T_a2a19_row3_col46, #T_a2a19_row3_col47, #T_a2a19_row3_col48, #T_a2a19_row3_col49, #T_a2a19_row3_col50, #T_a2a19_row3_col51, #T_a2a19_row3_col52, #T_a2a19_row3_col53, #T_a2a19_row3_col54, #T_a2a19_row3_col55, #T_a2a19_row3_col56, #T_a2a19_row4_col0, #T_a2a19_row4_col1, #T_a2a19_row4_col2, #T_a2a19_row4_col3, #T_a2a19_row4_col4, #T_a2a19_row4_col5, #T_a2a19_row4_col6, #T_a2a19_row4_col7, #T_a2a19_row4_col8, #T_a2a19_row4_col9, #T_a2a19_row4_col10, #T_a2a19_row4_col11, #T_a2a19_row4_col12, #T_a2a19_row4_col13, #T_a2a19_row4_col14, #T_a2a19_row4_col15, #T_a2a19_row4_col16, #T_a2a19_row4_col17, #T_a2a19_row4_col18, #T_a2a19_row4_col19, #T_a2a19_row4_col20, #T_a2a19_row4_col21, #T_a2a19_row4_col22, #T_a2a19_row4_col23, #T_a2a19_row4_col24, #T_a2a19_row4_col25, #T_a2a19_row4_col26, #T_a2a19_row4_col27, #T_a2a19_row4_col28, #T_a2a19_row4_col29, #T_a2a19_row4_col30, #T_a2a19_row4_col31, #T_a2a19_row4_col32, #T_a2a19_row4_col33, #T_a2a19_row4_col34, #T_a2a19_row4_col35, #T_a2a19_row4_col36, #T_a2a19_row4_col37, #T_a2a19_row4_col38, #T_a2a19_row4_col39, #T_a2a19_row4_col40, #T_a2a19_row4_col41, #T_a2a19_row4_col42, #T_a2a19_row4_col43, #T_a2a19_row4_col44, #T_a2a19_row4_col45, #T_a2a19_row4_col46, #T_a2a19_row4_col47, #T_a2a19_row4_col48, #T_a2a19_row4_col49, #T_a2a19_row4_col50, #T_a2a19_row4_col51, #T_a2a19_row4_col52, #T_a2a19_row4_col53, #T_a2a19_row4_col54, #T_a2a19_row4_col55, #T_a2a19_row4_col56, #T_a2a19_row5_col0, #T_a2a19_row5_col1, #T_a2a19_row5_col2, #T_a2a19_row5_col3, #T_a2a19_row5_col4, #T_a2a19_row5_col5, #T_a2a19_row5_col6, #T_a2a19_row5_col7, #T_a2a19_row5_col8, #T_a2a19_row5_col9, #T_a2a19_row5_col10, #T_a2a19_row5_col11, #T_a2a19_row5_col12, #T_a2a19_row5_col13, #T_a2a19_row5_col14, #T_a2a19_row5_col15, #T_a2a19_row5_col16, #T_a2a19_row5_col17, #T_a2a19_row5_col18, #T_a2a19_row5_col19, #T_a2a19_row5_col20, #T_a2a19_row5_col21, #T_a2a19_row5_col22, #T_a2a19_row5_col23, #T_a2a19_row5_col24, #T_a2a19_row5_col25, #T_a2a19_row5_col26, #T_a2a19_row5_col27, #T_a2a19_row5_col28, #T_a2a19_row5_col29, #T_a2a19_row5_col30, #T_a2a19_row5_col31, #T_a2a19_row5_col32, #T_a2a19_row5_col33, #T_a2a19_row5_col34, #T_a2a19_row5_col35, #T_a2a19_row5_col36, #T_a2a19_row5_col37, #T_a2a19_row5_col38, #T_a2a19_row5_col39, #T_a2a19_row5_col40, #T_a2a19_row5_col41, #T_a2a19_row5_col42, #T_a2a19_row5_col43, #T_a2a19_row5_col44, #T_a2a19_row5_col45, #T_a2a19_row5_col46, #T_a2a19_row5_col47, #T_a2a19_row5_col48, #T_a2a19_row5_col49, #T_a2a19_row5_col50, #T_a2a19_row5_col51, #T_a2a19_row5_col52, #T_a2a19_row5_col53, #T_a2a19_row5_col54, #T_a2a19_row5_col55, #T_a2a19_row5_col56, #T_a2a19_row6_col0, #T_a2a19_row6_col1, #T_a2a19_row6_col2, #T_a2a19_row6_col3, #T_a2a19_row6_col4, #T_a2a19_row6_col5, #T_a2a19_row6_col6, #T_a2a19_row6_col7, #T_a2a19_row6_col8, #T_a2a19_row6_col9, #T_a2a19_row6_col10, #T_a2a19_row6_col11, #T_a2a19_row6_col12, #T_a2a19_row6_col13, #T_a2a19_row6_col14, #T_a2a19_row6_col15, #T_a2a19_row6_col16, #T_a2a19_row6_col17, #T_a2a19_row6_col18, #T_a2a19_row6_col19, #T_a2a19_row6_col20, #T_a2a19_row6_col21, #T_a2a19_row6_col22, #T_a2a19_row6_col23, #T_a2a19_row6_col24, #T_a2a19_row6_col25, #T_a2a19_row6_col26, #T_a2a19_row6_col27, #T_a2a19_row6_col28, #T_a2a19_row6_col29, #T_a2a19_row6_col30, #T_a2a19_row6_col31, #T_a2a19_row6_col32, #T_a2a19_row6_col33, #T_a2a19_row6_col34, #T_a2a19_row6_col35, #T_a2a19_row6_col36, #T_a2a19_row6_col37, #T_a2a19_row6_col38, #T_a2a19_row6_col39, #T_a2a19_row6_col40, #T_a2a19_row6_col41, #T_a2a19_row6_col42, #T_a2a19_row6_col43, #T_a2a19_row6_col44, #T_a2a19_row6_col45, #T_a2a19_row6_col46, #T_a2a19_row6_col47, #T_a2a19_row6_col48, #T_a2a19_row6_col49, #T_a2a19_row6_col50, #T_a2a19_row6_col51, #T_a2a19_row6_col52, #T_a2a19_row6_col53, #T_a2a19_row6_col54, #T_a2a19_row6_col55, #T_a2a19_row6_col56, #T_a2a19_row7_col0, #T_a2a19_row7_col1, #T_a2a19_row7_col2, #T_a2a19_row7_col3, #T_a2a19_row7_col4, #T_a2a19_row7_col5, #T_a2a19_row7_col6, #T_a2a19_row7_col7, #T_a2a19_row7_col8, #T_a2a19_row7_col9, #T_a2a19_row7_col10, #T_a2a19_row7_col11, #T_a2a19_row7_col12, #T_a2a19_row7_col13, #T_a2a19_row7_col14, #T_a2a19_row7_col15, #T_a2a19_row7_col16, #T_a2a19_row7_col17, #T_a2a19_row7_col18, #T_a2a19_row7_col19, #T_a2a19_row7_col20, #T_a2a19_row7_col21, #T_a2a19_row7_col22, #T_a2a19_row7_col23, #T_a2a19_row7_col24, #T_a2a19_row7_col25, #T_a2a19_row7_col26, #T_a2a19_row7_col27, #T_a2a19_row7_col28, #T_a2a19_row7_col29, #T_a2a19_row7_col30, #T_a2a19_row7_col31, #T_a2a19_row7_col32, #T_a2a19_row7_col33, #T_a2a19_row7_col34, #T_a2a19_row7_col35, #T_a2a19_row7_col36, #T_a2a19_row7_col37, #T_a2a19_row7_col38, #T_a2a19_row7_col39, #T_a2a19_row7_col40, #T_a2a19_row7_col41, #T_a2a19_row7_col42, #T_a2a19_row7_col43, #T_a2a19_row7_col44, #T_a2a19_row7_col45, #T_a2a19_row7_col46, #T_a2a19_row7_col47, #T_a2a19_row7_col48, #T_a2a19_row7_col49, #T_a2a19_row7_col50, #T_a2a19_row7_col51, #T_a2a19_row7_col52, #T_a2a19_row7_col53, #T_a2a19_row7_col54, #T_a2a19_row7_col55, #T_a2a19_row7_col56, #T_a2a19_row8_col0, #T_a2a19_row8_col1, #T_a2a19_row8_col2, #T_a2a19_row8_col3, #T_a2a19_row8_col4, #T_a2a19_row8_col5, #T_a2a19_row8_col6, #T_a2a19_row8_col7, #T_a2a19_row8_col8, #T_a2a19_row8_col9, #T_a2a19_row8_col10, #T_a2a19_row8_col11, #T_a2a19_row8_col12, #T_a2a19_row8_col13, #T_a2a19_row8_col14, #T_a2a19_row8_col15, #T_a2a19_row8_col16, #T_a2a19_row8_col17, #T_a2a19_row8_col18, #T_a2a19_row8_col19, #T_a2a19_row8_col20, #T_a2a19_row8_col21, #T_a2a19_row8_col22, #T_a2a19_row8_col23, #T_a2a19_row8_col24, #T_a2a19_row8_col25, #T_a2a19_row8_col26, #T_a2a19_row8_col27, #T_a2a19_row8_col28, #T_a2a19_row8_col29, #T_a2a19_row8_col30, #T_a2a19_row8_col31, #T_a2a19_row8_col32, #T_a2a19_row8_col33, #T_a2a19_row8_col34, #T_a2a19_row8_col35, #T_a2a19_row8_col36, #T_a2a19_row8_col37, #T_a2a19_row8_col38, #T_a2a19_row8_col39, #T_a2a19_row8_col40, #T_a2a19_row8_col41, #T_a2a19_row8_col42, #T_a2a19_row8_col43, #T_a2a19_row8_col44, #T_a2a19_row8_col45, #T_a2a19_row8_col46, #T_a2a19_row8_col47, #T_a2a19_row8_col48, #T_a2a19_row8_col49, #T_a2a19_row8_col50, #T_a2a19_row8_col51, #T_a2a19_row8_col52, #T_a2a19_row8_col53, #T_a2a19_row8_col54, #T_a2a19_row8_col55, #T_a2a19_row8_col56, #T_a2a19_row9_col0, #T_a2a19_row9_col1, #T_a2a19_row9_col2, #T_a2a19_row9_col3, #T_a2a19_row9_col4, #T_a2a19_row9_col5, #T_a2a19_row9_col6, #T_a2a19_row9_col7, #T_a2a19_row9_col8, #T_a2a19_row9_col9, #T_a2a19_row9_col10, #T_a2a19_row9_col11, #T_a2a19_row9_col12, #T_a2a19_row9_col13, #T_a2a19_row9_col14, #T_a2a19_row9_col15, #T_a2a19_row9_col16, #T_a2a19_row9_col17, #T_a2a19_row9_col18, #T_a2a19_row9_col19, #T_a2a19_row9_col20, #T_a2a19_row9_col21, #T_a2a19_row9_col22, #T_a2a19_row9_col23, #T_a2a19_row9_col24, #T_a2a19_row9_col25, #T_a2a19_row9_col26, #T_a2a19_row9_col27, #T_a2a19_row9_col28, #T_a2a19_row9_col29, #T_a2a19_row9_col30, #T_a2a19_row9_col31, #T_a2a19_row9_col32, #T_a2a19_row9_col33, #T_a2a19_row9_col34, #T_a2a19_row9_col35, #T_a2a19_row9_col36, #T_a2a19_row9_col37, #T_a2a19_row9_col38, #T_a2a19_row9_col39, #T_a2a19_row9_col40, #T_a2a19_row9_col41, #T_a2a19_row9_col42, #T_a2a19_row9_col43, #T_a2a19_row9_col44, #T_a2a19_row9_col45, #T_a2a19_row9_col46, #T_a2a19_row9_col47, #T_a2a19_row9_col48, #T_a2a19_row9_col49, #T_a2a19_row9_col50, #T_a2a19_row9_col51, #T_a2a19_row9_col52, #T_a2a19_row9_col53, #T_a2a19_row9_col54, #T_a2a19_row9_col55, #T_a2a19_row9_col56 {\n",
       "  text-align: center;\n",
       "  border: 1.3px solid red;\n",
       "  color: blue;\n",
       "}\n",
       "</style>\n",
       "<table id=\"T_a2a19\">\n",
       "  <caption>Table 1.5.2: Spam Scaled Features Test Data</caption>\n",
       "  <thead>\n",
       "    <tr>\n",
       "      <th id=\"T_a2a19_level0_col0\" class=\"col_heading level0 col0\" >word_freq_make</th>\n",
       "      <th id=\"T_a2a19_level0_col1\" class=\"col_heading level0 col1\" >word_freq_address</th>\n",
       "      <th id=\"T_a2a19_level0_col2\" class=\"col_heading level0 col2\" >word_freq_all</th>\n",
       "      <th id=\"T_a2a19_level0_col3\" class=\"col_heading level0 col3\" >word_freq_3d</th>\n",
       "      <th id=\"T_a2a19_level0_col4\" class=\"col_heading level0 col4\" >word_freq_our</th>\n",
       "      <th id=\"T_a2a19_level0_col5\" class=\"col_heading level0 col5\" >word_freq_over</th>\n",
       "      <th id=\"T_a2a19_level0_col6\" class=\"col_heading level0 col6\" >word_freq_remove</th>\n",
       "      <th id=\"T_a2a19_level0_col7\" class=\"col_heading level0 col7\" >word_freq_internet</th>\n",
       "      <th id=\"T_a2a19_level0_col8\" class=\"col_heading level0 col8\" >word_freq_order</th>\n",
       "      <th id=\"T_a2a19_level0_col9\" class=\"col_heading level0 col9\" >word_freq_mail</th>\n",
       "      <th id=\"T_a2a19_level0_col10\" class=\"col_heading level0 col10\" >word_freq_receive</th>\n",
       "      <th id=\"T_a2a19_level0_col11\" class=\"col_heading level0 col11\" >word_freq_will</th>\n",
       "      <th id=\"T_a2a19_level0_col12\" class=\"col_heading level0 col12\" >word_freq_people</th>\n",
       "      <th id=\"T_a2a19_level0_col13\" class=\"col_heading level0 col13\" >word_freq_report</th>\n",
       "      <th id=\"T_a2a19_level0_col14\" class=\"col_heading level0 col14\" >word_freq_addresses</th>\n",
       "      <th id=\"T_a2a19_level0_col15\" class=\"col_heading level0 col15\" >word_freq_free</th>\n",
       "      <th id=\"T_a2a19_level0_col16\" class=\"col_heading level0 col16\" >word_freq_business</th>\n",
       "      <th id=\"T_a2a19_level0_col17\" class=\"col_heading level0 col17\" >word_freq_email</th>\n",
       "      <th id=\"T_a2a19_level0_col18\" class=\"col_heading level0 col18\" >word_freq_you</th>\n",
       "      <th id=\"T_a2a19_level0_col19\" class=\"col_heading level0 col19\" >word_freq_credit</th>\n",
       "      <th id=\"T_a2a19_level0_col20\" class=\"col_heading level0 col20\" >word_freq_your</th>\n",
       "      <th id=\"T_a2a19_level0_col21\" class=\"col_heading level0 col21\" >word_freq_font</th>\n",
       "      <th id=\"T_a2a19_level0_col22\" class=\"col_heading level0 col22\" >word_freq_000</th>\n",
       "      <th id=\"T_a2a19_level0_col23\" class=\"col_heading level0 col23\" >word_freq_money</th>\n",
       "      <th id=\"T_a2a19_level0_col24\" class=\"col_heading level0 col24\" >word_freq_hp</th>\n",
       "      <th id=\"T_a2a19_level0_col25\" class=\"col_heading level0 col25\" >word_freq_hpl</th>\n",
       "      <th id=\"T_a2a19_level0_col26\" class=\"col_heading level0 col26\" >word_freq_george</th>\n",
       "      <th id=\"T_a2a19_level0_col27\" class=\"col_heading level0 col27\" >word_freq_650</th>\n",
       "      <th id=\"T_a2a19_level0_col28\" class=\"col_heading level0 col28\" >word_freq_lab</th>\n",
       "      <th id=\"T_a2a19_level0_col29\" class=\"col_heading level0 col29\" >word_freq_labs</th>\n",
       "      <th id=\"T_a2a19_level0_col30\" class=\"col_heading level0 col30\" >word_freq_telnet</th>\n",
       "      <th id=\"T_a2a19_level0_col31\" class=\"col_heading level0 col31\" >word_freq_857</th>\n",
       "      <th id=\"T_a2a19_level0_col32\" class=\"col_heading level0 col32\" >word_freq_data</th>\n",
       "      <th id=\"T_a2a19_level0_col33\" class=\"col_heading level0 col33\" >word_freq_415</th>\n",
       "      <th id=\"T_a2a19_level0_col34\" class=\"col_heading level0 col34\" >word_freq_85</th>\n",
       "      <th id=\"T_a2a19_level0_col35\" class=\"col_heading level0 col35\" >word_freq_technology</th>\n",
       "      <th id=\"T_a2a19_level0_col36\" class=\"col_heading level0 col36\" >word_freq_1999</th>\n",
       "      <th id=\"T_a2a19_level0_col37\" class=\"col_heading level0 col37\" >word_freq_parts</th>\n",
       "      <th id=\"T_a2a19_level0_col38\" class=\"col_heading level0 col38\" >word_freq_pm</th>\n",
       "      <th id=\"T_a2a19_level0_col39\" class=\"col_heading level0 col39\" >word_freq_direct</th>\n",
       "      <th id=\"T_a2a19_level0_col40\" class=\"col_heading level0 col40\" >word_freq_cs</th>\n",
       "      <th id=\"T_a2a19_level0_col41\" class=\"col_heading level0 col41\" >word_freq_meeting</th>\n",
       "      <th id=\"T_a2a19_level0_col42\" class=\"col_heading level0 col42\" >word_freq_original</th>\n",
       "      <th id=\"T_a2a19_level0_col43\" class=\"col_heading level0 col43\" >word_freq_project</th>\n",
       "      <th id=\"T_a2a19_level0_col44\" class=\"col_heading level0 col44\" >word_freq_re</th>\n",
       "      <th id=\"T_a2a19_level0_col45\" class=\"col_heading level0 col45\" >word_freq_edu</th>\n",
       "      <th id=\"T_a2a19_level0_col46\" class=\"col_heading level0 col46\" >word_freq_table</th>\n",
       "      <th id=\"T_a2a19_level0_col47\" class=\"col_heading level0 col47\" >word_freq_conference</th>\n",
       "      <th id=\"T_a2a19_level0_col48\" class=\"col_heading level0 col48\" >char_freq_;</th>\n",
       "      <th id=\"T_a2a19_level0_col49\" class=\"col_heading level0 col49\" >char_freq_(</th>\n",
       "      <th id=\"T_a2a19_level0_col50\" class=\"col_heading level0 col50\" >char_freq_[</th>\n",
       "      <th id=\"T_a2a19_level0_col51\" class=\"col_heading level0 col51\" >char_freq_!</th>\n",
       "      <th id=\"T_a2a19_level0_col52\" class=\"col_heading level0 col52\" >char_freq_$</th>\n",
       "      <th id=\"T_a2a19_level0_col53\" class=\"col_heading level0 col53\" >char_freq_#</th>\n",
       "      <th id=\"T_a2a19_level0_col54\" class=\"col_heading level0 col54\" >capital_run_length_average</th>\n",
       "      <th id=\"T_a2a19_level0_col55\" class=\"col_heading level0 col55\" >capital_run_length_longest</th>\n",
       "      <th id=\"T_a2a19_level0_col56\" class=\"col_heading level0 col56\" >capital_run_length_total</th>\n",
       "    </tr>\n",
       "  </thead>\n",
       "  <tbody>\n",
       "    <tr>\n",
       "      <td id=\"T_a2a19_row0_col0\" class=\"data row0 col0\" >-0.02</td>\n",
       "      <td id=\"T_a2a19_row0_col1\" class=\"data row0 col1\" >-0.17</td>\n",
       "      <td id=\"T_a2a19_row0_col2\" class=\"data row0 col2\" >-0.00</td>\n",
       "      <td id=\"T_a2a19_row0_col3\" class=\"data row0 col3\" >-0.05</td>\n",
       "      <td id=\"T_a2a19_row0_col4\" class=\"data row0 col4\" >0.06</td>\n",
       "      <td id=\"T_a2a19_row0_col5\" class=\"data row0 col5\" >-0.02</td>\n",
       "      <td id=\"T_a2a19_row0_col6\" class=\"data row0 col6\" >-0.30</td>\n",
       "      <td id=\"T_a2a19_row0_col7\" class=\"data row0 col7\" >0.18</td>\n",
       "      <td id=\"T_a2a19_row0_col8\" class=\"data row0 col8\" >-0.01</td>\n",
       "      <td id=\"T_a2a19_row0_col9\" class=\"data row0 col9\" >-0.38</td>\n",
       "      <td id=\"T_a2a19_row0_col10\" class=\"data row0 col10\" >-0.29</td>\n",
       "      <td id=\"T_a2a19_row0_col11\" class=\"data row0 col11\" >0.23</td>\n",
       "      <td id=\"T_a2a19_row0_col12\" class=\"data row0 col12\" >-0.35</td>\n",
       "      <td id=\"T_a2a19_row0_col13\" class=\"data row0 col13\" >0.89</td>\n",
       "      <td id=\"T_a2a19_row0_col14\" class=\"data row0 col14\" >-0.20</td>\n",
       "      <td id=\"T_a2a19_row0_col15\" class=\"data row0 col15\" >-0.27</td>\n",
       "      <td id=\"T_a2a19_row0_col16\" class=\"data row0 col16\" >-0.36</td>\n",
       "      <td id=\"T_a2a19_row0_col17\" class=\"data row0 col17\" >-0.36</td>\n",
       "      <td id=\"T_a2a19_row0_col18\" class=\"data row0 col18\" >0.24</td>\n",
       "      <td id=\"T_a2a19_row0_col19\" class=\"data row0 col19\" >-0.18</td>\n",
       "      <td id=\"T_a2a19_row0_col20\" class=\"data row0 col20\" >2.26</td>\n",
       "      <td id=\"T_a2a19_row0_col21\" class=\"data row0 col21\" >-0.12</td>\n",
       "      <td id=\"T_a2a19_row0_col22\" class=\"data row0 col22\" >0.78</td>\n",
       "      <td id=\"T_a2a19_row0_col23\" class=\"data row0 col23\" >0.02</td>\n",
       "      <td id=\"T_a2a19_row0_col24\" class=\"data row0 col24\" >-0.32</td>\n",
       "      <td id=\"T_a2a19_row0_col25\" class=\"data row0 col25\" >-0.29</td>\n",
       "      <td id=\"T_a2a19_row0_col26\" class=\"data row0 col26\" >-0.22</td>\n",
       "      <td id=\"T_a2a19_row0_col27\" class=\"data row0 col27\" >-0.24</td>\n",
       "      <td id=\"T_a2a19_row0_col28\" class=\"data row0 col28\" >-0.14</td>\n",
       "      <td id=\"T_a2a19_row0_col29\" class=\"data row0 col29\" >-0.23</td>\n",
       "      <td id=\"T_a2a19_row0_col30\" class=\"data row0 col30\" >-0.18</td>\n",
       "      <td id=\"T_a2a19_row0_col31\" class=\"data row0 col31\" >-0.15</td>\n",
       "      <td id=\"T_a2a19_row0_col32\" class=\"data row0 col32\" >-0.18</td>\n",
       "      <td id=\"T_a2a19_row0_col33\" class=\"data row0 col33\" >-0.15</td>\n",
       "      <td id=\"T_a2a19_row0_col34\" class=\"data row0 col34\" >-0.23</td>\n",
       "      <td id=\"T_a2a19_row0_col35\" class=\"data row0 col35\" >-0.25</td>\n",
       "      <td id=\"T_a2a19_row0_col36\" class=\"data row0 col36\" >-0.33</td>\n",
       "      <td id=\"T_a2a19_row0_col37\" class=\"data row0 col37\" >-0.07</td>\n",
       "      <td id=\"T_a2a19_row0_col38\" class=\"data row0 col38\" >-0.18</td>\n",
       "      <td id=\"T_a2a19_row0_col39\" class=\"data row0 col39\" >-0.21</td>\n",
       "      <td id=\"T_a2a19_row0_col40\" class=\"data row0 col40\" >-0.10</td>\n",
       "      <td id=\"T_a2a19_row0_col41\" class=\"data row0 col41\" >-0.16</td>\n",
       "      <td id=\"T_a2a19_row0_col42\" class=\"data row0 col42\" >-0.20</td>\n",
       "      <td id=\"T_a2a19_row0_col43\" class=\"data row0 col43\" >-0.14</td>\n",
       "      <td id=\"T_a2a19_row0_col44\" class=\"data row0 col44\" >-0.05</td>\n",
       "      <td id=\"T_a2a19_row0_col45\" class=\"data row0 col45\" >-0.19</td>\n",
       "      <td id=\"T_a2a19_row0_col46\" class=\"data row0 col46\" >-0.08</td>\n",
       "      <td id=\"T_a2a19_row0_col47\" class=\"data row0 col47\" >-0.13</td>\n",
       "      <td id=\"T_a2a19_row0_col48\" class=\"data row0 col48\" >-0.10</td>\n",
       "      <td id=\"T_a2a19_row0_col49\" class=\"data row0 col49\" >-0.44</td>\n",
       "      <td id=\"T_a2a19_row0_col50\" class=\"data row0 col50\" >0.05</td>\n",
       "      <td id=\"T_a2a19_row0_col51\" class=\"data row0 col51\" >-0.04</td>\n",
       "      <td id=\"T_a2a19_row0_col52\" class=\"data row0 col52\" >-0.19</td>\n",
       "      <td id=\"T_a2a19_row0_col53\" class=\"data row0 col53\" >0.00</td>\n",
       "      <td id=\"T_a2a19_row0_col54\" class=\"data row0 col54\" >-0.02</td>\n",
       "      <td id=\"T_a2a19_row0_col55\" class=\"data row0 col55\" >0.20</td>\n",
       "      <td id=\"T_a2a19_row0_col56\" class=\"data row0 col56\" >0.48</td>\n",
       "    </tr>\n",
       "    <tr>\n",
       "      <td id=\"T_a2a19_row1_col0\" class=\"data row1 col0\" >-0.31</td>\n",
       "      <td id=\"T_a2a19_row1_col1\" class=\"data row1 col1\" >-0.17</td>\n",
       "      <td id=\"T_a2a19_row1_col2\" class=\"data row1 col2\" >-0.56</td>\n",
       "      <td id=\"T_a2a19_row1_col3\" class=\"data row1 col3\" >-0.05</td>\n",
       "      <td id=\"T_a2a19_row1_col4\" class=\"data row1 col4\" >-0.46</td>\n",
       "      <td id=\"T_a2a19_row1_col5\" class=\"data row1 col5\" >-0.34</td>\n",
       "      <td id=\"T_a2a19_row1_col6\" class=\"data row1 col6\" >-0.30</td>\n",
       "      <td id=\"T_a2a19_row1_col7\" class=\"data row1 col7\" >-0.28</td>\n",
       "      <td id=\"T_a2a19_row1_col8\" class=\"data row1 col8\" >-0.33</td>\n",
       "      <td id=\"T_a2a19_row1_col9\" class=\"data row1 col9\" >-0.38</td>\n",
       "      <td id=\"T_a2a19_row1_col10\" class=\"data row1 col10\" >-0.29</td>\n",
       "      <td id=\"T_a2a19_row1_col11\" class=\"data row1 col11\" >-0.62</td>\n",
       "      <td id=\"T_a2a19_row1_col12\" class=\"data row1 col12\" >-0.35</td>\n",
       "      <td id=\"T_a2a19_row1_col13\" class=\"data row1 col13\" >-0.18</td>\n",
       "      <td id=\"T_a2a19_row1_col14\" class=\"data row1 col14\" >-0.20</td>\n",
       "      <td id=\"T_a2a19_row1_col15\" class=\"data row1 col15\" >-0.27</td>\n",
       "      <td id=\"T_a2a19_row1_col16\" class=\"data row1 col16\" >-0.36</td>\n",
       "      <td id=\"T_a2a19_row1_col17\" class=\"data row1 col17\" >-0.36</td>\n",
       "      <td id=\"T_a2a19_row1_col18\" class=\"data row1 col18\" >-0.51</td>\n",
       "      <td id=\"T_a2a19_row1_col19\" class=\"data row1 col19\" >-0.18</td>\n",
       "      <td id=\"T_a2a19_row1_col20\" class=\"data row1 col20\" >-0.69</td>\n",
       "      <td id=\"T_a2a19_row1_col21\" class=\"data row1 col21\" >-0.12</td>\n",
       "      <td id=\"T_a2a19_row1_col22\" class=\"data row1 col22\" >-0.30</td>\n",
       "      <td id=\"T_a2a19_row1_col23\" class=\"data row1 col23\" >-0.26</td>\n",
       "      <td id=\"T_a2a19_row1_col24\" class=\"data row1 col24\" >-0.13</td>\n",
       "      <td id=\"T_a2a19_row1_col25\" class=\"data row1 col25\" >0.10</td>\n",
       "      <td id=\"T_a2a19_row1_col26\" class=\"data row1 col26\" >-0.22</td>\n",
       "      <td id=\"T_a2a19_row1_col27\" class=\"data row1 col27\" >1.23</td>\n",
       "      <td id=\"T_a2a19_row1_col28\" class=\"data row1 col28\" >0.37</td>\n",
       "      <td id=\"T_a2a19_row1_col29\" class=\"data row1 col29\" >0.62</td>\n",
       "      <td id=\"T_a2a19_row1_col30\" class=\"data row1 col30\" >-0.18</td>\n",
       "      <td id=\"T_a2a19_row1_col31\" class=\"data row1 col31\" >-0.15</td>\n",
       "      <td id=\"T_a2a19_row1_col32\" class=\"data row1 col32\" >-0.18</td>\n",
       "      <td id=\"T_a2a19_row1_col33\" class=\"data row1 col33\" >-0.15</td>\n",
       "      <td id=\"T_a2a19_row1_col34\" class=\"data row1 col34\" >0.68</td>\n",
       "      <td id=\"T_a2a19_row1_col35\" class=\"data row1 col35\" >-0.25</td>\n",
       "      <td id=\"T_a2a19_row1_col36\" class=\"data row1 col36\" >-0.33</td>\n",
       "      <td id=\"T_a2a19_row1_col37\" class=\"data row1 col37\" >-0.07</td>\n",
       "      <td id=\"T_a2a19_row1_col38\" class=\"data row1 col38\" >1.29</td>\n",
       "      <td id=\"T_a2a19_row1_col39\" class=\"data row1 col39\" >-0.21</td>\n",
       "      <td id=\"T_a2a19_row1_col40\" class=\"data row1 col40\" >-0.10</td>\n",
       "      <td id=\"T_a2a19_row1_col41\" class=\"data row1 col41\" >-0.16</td>\n",
       "      <td id=\"T_a2a19_row1_col42\" class=\"data row1 col42\" >-0.20</td>\n",
       "      <td id=\"T_a2a19_row1_col43\" class=\"data row1 col43\" >0.55</td>\n",
       "      <td id=\"T_a2a19_row1_col44\" class=\"data row1 col44\" >-0.29</td>\n",
       "      <td id=\"T_a2a19_row1_col45\" class=\"data row1 col45\" >-0.19</td>\n",
       "      <td id=\"T_a2a19_row1_col46\" class=\"data row1 col46\" >-0.08</td>\n",
       "      <td id=\"T_a2a19_row1_col47\" class=\"data row1 col47\" >-0.13</td>\n",
       "      <td id=\"T_a2a19_row1_col48\" class=\"data row1 col48\" >-0.17</td>\n",
       "      <td id=\"T_a2a19_row1_col49\" class=\"data row1 col49\" >-0.66</td>\n",
       "      <td id=\"T_a2a19_row1_col50\" class=\"data row1 col50\" >-0.13</td>\n",
       "      <td id=\"T_a2a19_row1_col51\" class=\"data row1 col51\" >-0.43</td>\n",
       "      <td id=\"T_a2a19_row1_col52\" class=\"data row1 col52\" >-0.32</td>\n",
       "      <td id=\"T_a2a19_row1_col53\" class=\"data row1 col53\" >-0.16</td>\n",
       "      <td id=\"T_a2a19_row1_col54\" class=\"data row1 col54\" >-0.19</td>\n",
       "      <td id=\"T_a2a19_row1_col55\" class=\"data row1 col55\" >-0.30</td>\n",
       "      <td id=\"T_a2a19_row1_col56\" class=\"data row1 col56\" >-0.30</td>\n",
       "    </tr>\n",
       "    <tr>\n",
       "      <td id=\"T_a2a19_row2_col0\" class=\"data row2 col0\" >-0.31</td>\n",
       "      <td id=\"T_a2a19_row2_col1\" class=\"data row2 col1\" >-0.17</td>\n",
       "      <td id=\"T_a2a19_row2_col2\" class=\"data row2 col2\" >-0.56</td>\n",
       "      <td id=\"T_a2a19_row2_col3\" class=\"data row2 col3\" >-0.05</td>\n",
       "      <td id=\"T_a2a19_row2_col4\" class=\"data row2 col4\" >-0.46</td>\n",
       "      <td id=\"T_a2a19_row2_col5\" class=\"data row2 col5\" >-0.34</td>\n",
       "      <td id=\"T_a2a19_row2_col6\" class=\"data row2 col6\" >-0.30</td>\n",
       "      <td id=\"T_a2a19_row2_col7\" class=\"data row2 col7\" >-0.28</td>\n",
       "      <td id=\"T_a2a19_row2_col8\" class=\"data row2 col8\" >-0.33</td>\n",
       "      <td id=\"T_a2a19_row2_col9\" class=\"data row2 col9\" >2.42</td>\n",
       "      <td id=\"T_a2a19_row2_col10\" class=\"data row2 col10\" >-0.29</td>\n",
       "      <td id=\"T_a2a19_row2_col11\" class=\"data row2 col11\" >0.85</td>\n",
       "      <td id=\"T_a2a19_row2_col12\" class=\"data row2 col12\" >-0.35</td>\n",
       "      <td id=\"T_a2a19_row2_col13\" class=\"data row2 col13\" >-0.18</td>\n",
       "      <td id=\"T_a2a19_row2_col14\" class=\"data row2 col14\" >-0.20</td>\n",
       "      <td id=\"T_a2a19_row2_col15\" class=\"data row2 col15\" >-0.27</td>\n",
       "      <td id=\"T_a2a19_row2_col16\" class=\"data row2 col16\" >-0.36</td>\n",
       "      <td id=\"T_a2a19_row2_col17\" class=\"data row2 col17\" >-0.36</td>\n",
       "      <td id=\"T_a2a19_row2_col18\" class=\"data row2 col18\" >-0.92</td>\n",
       "      <td id=\"T_a2a19_row2_col19\" class=\"data row2 col19\" >-0.18</td>\n",
       "      <td id=\"T_a2a19_row2_col20\" class=\"data row2 col20\" >-0.69</td>\n",
       "      <td id=\"T_a2a19_row2_col21\" class=\"data row2 col21\" >-0.12</td>\n",
       "      <td id=\"T_a2a19_row2_col22\" class=\"data row2 col22\" >-0.30</td>\n",
       "      <td id=\"T_a2a19_row2_col23\" class=\"data row2 col23\" >-0.26</td>\n",
       "      <td id=\"T_a2a19_row2_col24\" class=\"data row2 col24\" >0.99</td>\n",
       "      <td id=\"T_a2a19_row2_col25\" class=\"data row2 col25\" >1.11</td>\n",
       "      <td id=\"T_a2a19_row2_col26\" class=\"data row2 col26\" >0.14</td>\n",
       "      <td id=\"T_a2a19_row2_col27\" class=\"data row2 col27\" >3.68</td>\n",
       "      <td id=\"T_a2a19_row2_col28\" class=\"data row2 col28\" >0.77</td>\n",
       "      <td id=\"T_a2a19_row2_col29\" class=\"data row2 col29\" >1.27</td>\n",
       "      <td id=\"T_a2a19_row2_col30\" class=\"data row2 col30\" >1.72</td>\n",
       "      <td id=\"T_a2a19_row2_col31\" class=\"data row2 col31\" >2.20</td>\n",
       "      <td id=\"T_a2a19_row2_col32\" class=\"data row2 col32\" >-0.18</td>\n",
       "      <td id=\"T_a2a19_row2_col33\" class=\"data row2 col33\" >2.21</td>\n",
       "      <td id=\"T_a2a19_row2_col34\" class=\"data row2 col34\" >1.38</td>\n",
       "      <td id=\"T_a2a19_row2_col35\" class=\"data row2 col35\" >2.58</td>\n",
       "      <td id=\"T_a2a19_row2_col36\" class=\"data row2 col36\" >-0.33</td>\n",
       "      <td id=\"T_a2a19_row2_col37\" class=\"data row2 col37\" >-0.07</td>\n",
       "      <td id=\"T_a2a19_row2_col38\" class=\"data row2 col38\" >1.12</td>\n",
       "      <td id=\"T_a2a19_row2_col39\" class=\"data row2 col39\" >1.97</td>\n",
       "      <td id=\"T_a2a19_row2_col40\" class=\"data row2 col40\" >-0.10</td>\n",
       "      <td id=\"T_a2a19_row2_col41\" class=\"data row2 col41\" >-0.16</td>\n",
       "      <td id=\"T_a2a19_row2_col42\" class=\"data row2 col42\" >2.68</td>\n",
       "      <td id=\"T_a2a19_row2_col43\" class=\"data row2 col43\" >-0.14</td>\n",
       "      <td id=\"T_a2a19_row2_col44\" class=\"data row2 col44\" >0.26</td>\n",
       "      <td id=\"T_a2a19_row2_col45\" class=\"data row2 col45\" >-0.19</td>\n",
       "      <td id=\"T_a2a19_row2_col46\" class=\"data row2 col46\" >-0.08</td>\n",
       "      <td id=\"T_a2a19_row2_col47\" class=\"data row2 col47\" >-0.13</td>\n",
       "      <td id=\"T_a2a19_row2_col48\" class=\"data row2 col48\" >0.63</td>\n",
       "      <td id=\"T_a2a19_row2_col49\" class=\"data row2 col49\" >2.93</td>\n",
       "      <td id=\"T_a2a19_row2_col50\" class=\"data row2 col50\" >-0.13</td>\n",
       "      <td id=\"T_a2a19_row2_col51\" class=\"data row2 col51\" >-0.43</td>\n",
       "      <td id=\"T_a2a19_row2_col52\" class=\"data row2 col52\" >-0.32</td>\n",
       "      <td id=\"T_a2a19_row2_col53\" class=\"data row2 col53\" >-0.16</td>\n",
       "      <td id=\"T_a2a19_row2_col54\" class=\"data row2 col54\" >-0.11</td>\n",
       "      <td id=\"T_a2a19_row2_col55\" class=\"data row2 col55\" >-0.26</td>\n",
       "      <td id=\"T_a2a19_row2_col56\" class=\"data row2 col56\" >-0.20</td>\n",
       "    </tr>\n",
       "    <tr>\n",
       "      <td id=\"T_a2a19_row3_col0\" class=\"data row3 col0\" >-0.31</td>\n",
       "      <td id=\"T_a2a19_row3_col1\" class=\"data row3 col1\" >-0.17</td>\n",
       "      <td id=\"T_a2a19_row3_col2\" class=\"data row3 col2\" >-0.56</td>\n",
       "      <td id=\"T_a2a19_row3_col3\" class=\"data row3 col3\" >-0.05</td>\n",
       "      <td id=\"T_a2a19_row3_col4\" class=\"data row3 col4\" >-0.46</td>\n",
       "      <td id=\"T_a2a19_row3_col5\" class=\"data row3 col5\" >-0.34</td>\n",
       "      <td id=\"T_a2a19_row3_col6\" class=\"data row3 col6\" >-0.30</td>\n",
       "      <td id=\"T_a2a19_row3_col7\" class=\"data row3 col7\" >-0.28</td>\n",
       "      <td id=\"T_a2a19_row3_col8\" class=\"data row3 col8\" >-0.33</td>\n",
       "      <td id=\"T_a2a19_row3_col9\" class=\"data row3 col9\" >0.31</td>\n",
       "      <td id=\"T_a2a19_row3_col10\" class=\"data row3 col10\" >-0.29</td>\n",
       "      <td id=\"T_a2a19_row3_col11\" class=\"data row3 col11\" >1.56</td>\n",
       "      <td id=\"T_a2a19_row3_col12\" class=\"data row3 col12\" >-0.35</td>\n",
       "      <td id=\"T_a2a19_row3_col13\" class=\"data row3 col13\" >-0.18</td>\n",
       "      <td id=\"T_a2a19_row3_col14\" class=\"data row3 col14\" >-0.20</td>\n",
       "      <td id=\"T_a2a19_row3_col15\" class=\"data row3 col15\" >-0.27</td>\n",
       "      <td id=\"T_a2a19_row3_col16\" class=\"data row3 col16\" >-0.36</td>\n",
       "      <td id=\"T_a2a19_row3_col17\" class=\"data row3 col17\" >0.46</td>\n",
       "      <td id=\"T_a2a19_row3_col18\" class=\"data row3 col18\" >-0.12</td>\n",
       "      <td id=\"T_a2a19_row3_col19\" class=\"data row3 col19\" >-0.18</td>\n",
       "      <td id=\"T_a2a19_row3_col20\" class=\"data row3 col20\" >-0.28</td>\n",
       "      <td id=\"T_a2a19_row3_col21\" class=\"data row3 col21\" >-0.12</td>\n",
       "      <td id=\"T_a2a19_row3_col22\" class=\"data row3 col22\" >-0.30</td>\n",
       "      <td id=\"T_a2a19_row3_col23\" class=\"data row3 col23\" >-0.26</td>\n",
       "      <td id=\"T_a2a19_row3_col24\" class=\"data row3 col24\" >0.66</td>\n",
       "      <td id=\"T_a2a19_row3_col25\" class=\"data row3 col25\" >1.26</td>\n",
       "      <td id=\"T_a2a19_row3_col26\" class=\"data row3 col26\" >0.05</td>\n",
       "      <td id=\"T_a2a19_row3_col27\" class=\"data row3 col27\" >1.70</td>\n",
       "      <td id=\"T_a2a19_row3_col28\" class=\"data row3 col28\" >0.54</td>\n",
       "      <td id=\"T_a2a19_row3_col29\" class=\"data row3 col29\" >0.88</td>\n",
       "      <td id=\"T_a2a19_row3_col30\" class=\"data row3 col30\" >2.64</td>\n",
       "      <td id=\"T_a2a19_row3_col31\" class=\"data row3 col31\" >5.09</td>\n",
       "      <td id=\"T_a2a19_row3_col32\" class=\"data row3 col32\" >-0.18</td>\n",
       "      <td id=\"T_a2a19_row3_col33\" class=\"data row3 col33\" >5.10</td>\n",
       "      <td id=\"T_a2a19_row3_col34\" class=\"data row3 col34\" >2.16</td>\n",
       "      <td id=\"T_a2a19_row3_col35\" class=\"data row3 col35\" >0.80</td>\n",
       "      <td id=\"T_a2a19_row3_col36\" class=\"data row3 col36\" >-0.33</td>\n",
       "      <td id=\"T_a2a19_row3_col37\" class=\"data row3 col37\" >-0.07</td>\n",
       "      <td id=\"T_a2a19_row3_col38\" class=\"data row3 col38\" >-0.18</td>\n",
       "      <td id=\"T_a2a19_row3_col39\" class=\"data row3 col39\" >3.03</td>\n",
       "      <td id=\"T_a2a19_row3_col40\" class=\"data row3 col40\" >-0.10</td>\n",
       "      <td id=\"T_a2a19_row3_col41\" class=\"data row3 col41\" >1.73</td>\n",
       "      <td id=\"T_a2a19_row3_col42\" class=\"data row3 col42\" >-0.20</td>\n",
       "      <td id=\"T_a2a19_row3_col43\" class=\"data row3 col43\" >-0.14</td>\n",
       "      <td id=\"T_a2a19_row3_col44\" class=\"data row3 col44\" >0.12</td>\n",
       "      <td id=\"T_a2a19_row3_col45\" class=\"data row3 col45\" >-0.19</td>\n",
       "      <td id=\"T_a2a19_row3_col46\" class=\"data row3 col46\" >-0.08</td>\n",
       "      <td id=\"T_a2a19_row3_col47\" class=\"data row3 col47\" >4.55</td>\n",
       "      <td id=\"T_a2a19_row3_col48\" class=\"data row3 col48\" >-0.17</td>\n",
       "      <td id=\"T_a2a19_row3_col49\" class=\"data row3 col49\" >1.06</td>\n",
       "      <td id=\"T_a2a19_row3_col50\" class=\"data row3 col50\" >-0.13</td>\n",
       "      <td id=\"T_a2a19_row3_col51\" class=\"data row3 col51\" >-0.43</td>\n",
       "      <td id=\"T_a2a19_row3_col52\" class=\"data row3 col52\" >-0.32</td>\n",
       "      <td id=\"T_a2a19_row3_col53\" class=\"data row3 col53\" >-0.16</td>\n",
       "      <td id=\"T_a2a19_row3_col54\" class=\"data row3 col54\" >0.00</td>\n",
       "      <td id=\"T_a2a19_row3_col55\" class=\"data row3 col55\" >-0.10</td>\n",
       "      <td id=\"T_a2a19_row3_col56\" class=\"data row3 col56\" >-0.21</td>\n",
       "    </tr>\n",
       "    <tr>\n",
       "      <td id=\"T_a2a19_row4_col0\" class=\"data row4 col0\" >-0.31</td>\n",
       "      <td id=\"T_a2a19_row4_col1\" class=\"data row4 col1\" >-0.17</td>\n",
       "      <td id=\"T_a2a19_row4_col2\" class=\"data row4 col2\" >0.04</td>\n",
       "      <td id=\"T_a2a19_row4_col3\" class=\"data row4 col3\" >-0.05</td>\n",
       "      <td id=\"T_a2a19_row4_col4\" class=\"data row4 col4\" >0.83</td>\n",
       "      <td id=\"T_a2a19_row4_col5\" class=\"data row4 col5\" >0.15</td>\n",
       "      <td id=\"T_a2a19_row4_col6\" class=\"data row4 col6\" >-0.30</td>\n",
       "      <td id=\"T_a2a19_row4_col7\" class=\"data row4 col7\" >-0.28</td>\n",
       "      <td id=\"T_a2a19_row4_col8\" class=\"data row4 col8\" >2.78</td>\n",
       "      <td id=\"T_a2a19_row4_col9\" class=\"data row4 col9\" >-0.38</td>\n",
       "      <td id=\"T_a2a19_row4_col10\" class=\"data row4 col10\" >-0.29</td>\n",
       "      <td id=\"T_a2a19_row4_col11\" class=\"data row4 col11\" >0.24</td>\n",
       "      <td id=\"T_a2a19_row4_col12\" class=\"data row4 col12\" >0.15</td>\n",
       "      <td id=\"T_a2a19_row4_col13\" class=\"data row4 col13\" >-0.18</td>\n",
       "      <td id=\"T_a2a19_row4_col14\" class=\"data row4 col14\" >-0.20</td>\n",
       "      <td id=\"T_a2a19_row4_col15\" class=\"data row4 col15\" >-0.27</td>\n",
       "      <td id=\"T_a2a19_row4_col16\" class=\"data row4 col16\" >0.43</td>\n",
       "      <td id=\"T_a2a19_row4_col17\" class=\"data row4 col17\" >-0.36</td>\n",
       "      <td id=\"T_a2a19_row4_col18\" class=\"data row4 col18\" >0.35</td>\n",
       "      <td id=\"T_a2a19_row4_col19\" class=\"data row4 col19\" >-0.18</td>\n",
       "      <td id=\"T_a2a19_row4_col20\" class=\"data row4 col20\" >0.10</td>\n",
       "      <td id=\"T_a2a19_row4_col21\" class=\"data row4 col21\" >-0.12</td>\n",
       "      <td id=\"T_a2a19_row4_col22\" class=\"data row4 col22\" >0.12</td>\n",
       "      <td id=\"T_a2a19_row4_col23\" class=\"data row4 col23\" >0.66</td>\n",
       "      <td id=\"T_a2a19_row4_col24\" class=\"data row4 col24\" >-0.32</td>\n",
       "      <td id=\"T_a2a19_row4_col25\" class=\"data row4 col25\" >-0.29</td>\n",
       "      <td id=\"T_a2a19_row4_col26\" class=\"data row4 col26\" >-0.22</td>\n",
       "      <td id=\"T_a2a19_row4_col27\" class=\"data row4 col27\" >-0.24</td>\n",
       "      <td id=\"T_a2a19_row4_col28\" class=\"data row4 col28\" >-0.14</td>\n",
       "      <td id=\"T_a2a19_row4_col29\" class=\"data row4 col29\" >-0.23</td>\n",
       "      <td id=\"T_a2a19_row4_col30\" class=\"data row4 col30\" >-0.18</td>\n",
       "      <td id=\"T_a2a19_row4_col31\" class=\"data row4 col31\" >-0.15</td>\n",
       "      <td id=\"T_a2a19_row4_col32\" class=\"data row4 col32\" >-0.18</td>\n",
       "      <td id=\"T_a2a19_row4_col33\" class=\"data row4 col33\" >-0.15</td>\n",
       "      <td id=\"T_a2a19_row4_col34\" class=\"data row4 col34\" >1.28</td>\n",
       "      <td id=\"T_a2a19_row4_col35\" class=\"data row4 col35\" >-0.25</td>\n",
       "      <td id=\"T_a2a19_row4_col36\" class=\"data row4 col36\" >-0.33</td>\n",
       "      <td id=\"T_a2a19_row4_col37\" class=\"data row4 col37\" >-0.07</td>\n",
       "      <td id=\"T_a2a19_row4_col38\" class=\"data row4 col38\" >-0.18</td>\n",
       "      <td id=\"T_a2a19_row4_col39\" class=\"data row4 col39\" >-0.21</td>\n",
       "      <td id=\"T_a2a19_row4_col40\" class=\"data row4 col40\" >-0.10</td>\n",
       "      <td id=\"T_a2a19_row4_col41\" class=\"data row4 col41\" >-0.16</td>\n",
       "      <td id=\"T_a2a19_row4_col42\" class=\"data row4 col42\" >-0.20</td>\n",
       "      <td id=\"T_a2a19_row4_col43\" class=\"data row4 col43\" >-0.14</td>\n",
       "      <td id=\"T_a2a19_row4_col44\" class=\"data row4 col44\" >-0.29</td>\n",
       "      <td id=\"T_a2a19_row4_col45\" class=\"data row4 col45\" >-0.19</td>\n",
       "      <td id=\"T_a2a19_row4_col46\" class=\"data row4 col46\" >-0.08</td>\n",
       "      <td id=\"T_a2a19_row4_col47\" class=\"data row4 col47\" >-0.13</td>\n",
       "      <td id=\"T_a2a19_row4_col48\" class=\"data row4 col48\" >-0.17</td>\n",
       "      <td id=\"T_a2a19_row4_col49\" class=\"data row4 col49\" >-0.20</td>\n",
       "      <td id=\"T_a2a19_row4_col50\" class=\"data row4 col50\" >-0.13</td>\n",
       "      <td id=\"T_a2a19_row4_col51\" class=\"data row4 col51\" >0.20</td>\n",
       "      <td id=\"T_a2a19_row4_col52\" class=\"data row4 col52\" >-0.11</td>\n",
       "      <td id=\"T_a2a19_row4_col53\" class=\"data row4 col53\" >-0.03</td>\n",
       "      <td id=\"T_a2a19_row4_col54\" class=\"data row4 col54\" >-0.13</td>\n",
       "      <td id=\"T_a2a19_row4_col55\" class=\"data row4 col55\" >0.03</td>\n",
       "      <td id=\"T_a2a19_row4_col56\" class=\"data row4 col56\" >0.27</td>\n",
       "    </tr>\n",
       "    <tr>\n",
       "      <td id=\"T_a2a19_row5_col0\" class=\"data row5 col0\" >-0.31</td>\n",
       "      <td id=\"T_a2a19_row5_col1\" class=\"data row5 col1\" >-0.17</td>\n",
       "      <td id=\"T_a2a19_row5_col2\" class=\"data row5 col2\" >0.75</td>\n",
       "      <td id=\"T_a2a19_row5_col3\" class=\"data row5 col3\" >-0.05</td>\n",
       "      <td id=\"T_a2a19_row5_col4\" class=\"data row5 col4\" >-0.46</td>\n",
       "      <td id=\"T_a2a19_row5_col5\" class=\"data row5 col5\" >1.88</td>\n",
       "      <td id=\"T_a2a19_row5_col6\" class=\"data row5 col6\" >-0.30</td>\n",
       "      <td id=\"T_a2a19_row5_col7\" class=\"data row5 col7\" >-0.28</td>\n",
       "      <td id=\"T_a2a19_row5_col8\" class=\"data row5 col8\" >-0.33</td>\n",
       "      <td id=\"T_a2a19_row5_col9\" class=\"data row5 col9\" >-0.38</td>\n",
       "      <td id=\"T_a2a19_row5_col10\" class=\"data row5 col10\" >-0.29</td>\n",
       "      <td id=\"T_a2a19_row5_col11\" class=\"data row5 col11\" >-0.62</td>\n",
       "      <td id=\"T_a2a19_row5_col12\" class=\"data row5 col12\" >-0.35</td>\n",
       "      <td id=\"T_a2a19_row5_col13\" class=\"data row5 col13\" >-0.18</td>\n",
       "      <td id=\"T_a2a19_row5_col14\" class=\"data row5 col14\" >-0.20</td>\n",
       "      <td id=\"T_a2a19_row5_col15\" class=\"data row5 col15\" >0.37</td>\n",
       "      <td id=\"T_a2a19_row5_col16\" class=\"data row5 col16\" >-0.36</td>\n",
       "      <td id=\"T_a2a19_row5_col17\" class=\"data row5 col17\" >-0.36</td>\n",
       "      <td id=\"T_a2a19_row5_col18\" class=\"data row5 col18\" >0.58</td>\n",
       "      <td id=\"T_a2a19_row5_col19\" class=\"data row5 col19\" >-0.18</td>\n",
       "      <td id=\"T_a2a19_row5_col20\" class=\"data row5 col20\" >-0.69</td>\n",
       "      <td id=\"T_a2a19_row5_col21\" class=\"data row5 col21\" >-0.12</td>\n",
       "      <td id=\"T_a2a19_row5_col22\" class=\"data row5 col22\" >1.61</td>\n",
       "      <td id=\"T_a2a19_row5_col23\" class=\"data row5 col23\" >-0.26</td>\n",
       "      <td id=\"T_a2a19_row5_col24\" class=\"data row5 col24\" >-0.32</td>\n",
       "      <td id=\"T_a2a19_row5_col25\" class=\"data row5 col25\" >-0.29</td>\n",
       "      <td id=\"T_a2a19_row5_col26\" class=\"data row5 col26\" >-0.22</td>\n",
       "      <td id=\"T_a2a19_row5_col27\" class=\"data row5 col27\" >-0.24</td>\n",
       "      <td id=\"T_a2a19_row5_col28\" class=\"data row5 col28\" >-0.14</td>\n",
       "      <td id=\"T_a2a19_row5_col29\" class=\"data row5 col29\" >-0.23</td>\n",
       "      <td id=\"T_a2a19_row5_col30\" class=\"data row5 col30\" >-0.18</td>\n",
       "      <td id=\"T_a2a19_row5_col31\" class=\"data row5 col31\" >-0.15</td>\n",
       "      <td id=\"T_a2a19_row5_col32\" class=\"data row5 col32\" >-0.18</td>\n",
       "      <td id=\"T_a2a19_row5_col33\" class=\"data row5 col33\" >-0.15</td>\n",
       "      <td id=\"T_a2a19_row5_col34\" class=\"data row5 col34\" >-0.23</td>\n",
       "      <td id=\"T_a2a19_row5_col35\" class=\"data row5 col35\" >-0.25</td>\n",
       "      <td id=\"T_a2a19_row5_col36\" class=\"data row5 col36\" >1.30</td>\n",
       "      <td id=\"T_a2a19_row5_col37\" class=\"data row5 col37\" >-0.07</td>\n",
       "      <td id=\"T_a2a19_row5_col38\" class=\"data row5 col38\" >-0.18</td>\n",
       "      <td id=\"T_a2a19_row5_col39\" class=\"data row5 col39\" >-0.21</td>\n",
       "      <td id=\"T_a2a19_row5_col40\" class=\"data row5 col40\" >-0.10</td>\n",
       "      <td id=\"T_a2a19_row5_col41\" class=\"data row5 col41\" >-0.16</td>\n",
       "      <td id=\"T_a2a19_row5_col42\" class=\"data row5 col42\" >-0.20</td>\n",
       "      <td id=\"T_a2a19_row5_col43\" class=\"data row5 col43\" >-0.14</td>\n",
       "      <td id=\"T_a2a19_row5_col44\" class=\"data row5 col44\" >-0.29</td>\n",
       "      <td id=\"T_a2a19_row5_col45\" class=\"data row5 col45\" >-0.19</td>\n",
       "      <td id=\"T_a2a19_row5_col46\" class=\"data row5 col46\" >-0.08</td>\n",
       "      <td id=\"T_a2a19_row5_col47\" class=\"data row5 col47\" >-0.13</td>\n",
       "      <td id=\"T_a2a19_row5_col48\" class=\"data row5 col48\" >0.23</td>\n",
       "      <td id=\"T_a2a19_row5_col49\" class=\"data row5 col49\" >0.24</td>\n",
       "      <td id=\"T_a2a19_row5_col50\" class=\"data row5 col50\" >1.58</td>\n",
       "      <td id=\"T_a2a19_row5_col51\" class=\"data row5 col51\" >0.64</td>\n",
       "      <td id=\"T_a2a19_row5_col52\" class=\"data row5 col52\" >-0.32</td>\n",
       "      <td id=\"T_a2a19_row5_col53\" class=\"data row5 col53\" >-0.16</td>\n",
       "      <td id=\"T_a2a19_row5_col54\" class=\"data row5 col54\" >0.42</td>\n",
       "      <td id=\"T_a2a19_row5_col55\" class=\"data row5 col55\" >0.74</td>\n",
       "      <td id=\"T_a2a19_row5_col56\" class=\"data row5 col56\" >0.02</td>\n",
       "    </tr>\n",
       "    <tr>\n",
       "      <td id=\"T_a2a19_row6_col0\" class=\"data row6 col0\" >0.76</td>\n",
       "      <td id=\"T_a2a19_row6_col1\" class=\"data row6 col1\" >-0.17</td>\n",
       "      <td id=\"T_a2a19_row6_col2\" class=\"data row6 col2\" >2.82</td>\n",
       "      <td id=\"T_a2a19_row6_col3\" class=\"data row6 col3\" >-0.05</td>\n",
       "      <td id=\"T_a2a19_row6_col4\" class=\"data row6 col4\" >0.99</td>\n",
       "      <td id=\"T_a2a19_row6_col5\" class=\"data row6 col5\" >-0.34</td>\n",
       "      <td id=\"T_a2a19_row6_col6\" class=\"data row6 col6\" >0.76</td>\n",
       "      <td id=\"T_a2a19_row6_col7\" class=\"data row6 col7\" >-0.28</td>\n",
       "      <td id=\"T_a2a19_row6_col8\" class=\"data row6 col8\" >2.01</td>\n",
       "      <td id=\"T_a2a19_row6_col9\" class=\"data row6 col9\" >1.61</td>\n",
       "      <td id=\"T_a2a19_row6_col10\" class=\"data row6 col10\" >-0.29</td>\n",
       "      <td id=\"T_a2a19_row6_col11\" class=\"data row6 col11\" >-0.62</td>\n",
       "      <td id=\"T_a2a19_row6_col12\" class=\"data row6 col12\" >-0.35</td>\n",
       "      <td id=\"T_a2a19_row6_col13\" class=\"data row6 col13\" >-0.18</td>\n",
       "      <td id=\"T_a2a19_row6_col14\" class=\"data row6 col14\" >-0.20</td>\n",
       "      <td id=\"T_a2a19_row6_col15\" class=\"data row6 col15\" >-0.27</td>\n",
       "      <td id=\"T_a2a19_row6_col16\" class=\"data row6 col16\" >-0.36</td>\n",
       "      <td id=\"T_a2a19_row6_col17\" class=\"data row6 col17\" >-0.36</td>\n",
       "      <td id=\"T_a2a19_row6_col18\" class=\"data row6 col18\" >-0.73</td>\n",
       "      <td id=\"T_a2a19_row6_col19\" class=\"data row6 col19\" >2.13</td>\n",
       "      <td id=\"T_a2a19_row6_col20\" class=\"data row6 col20\" >-0.10</td>\n",
       "      <td id=\"T_a2a19_row6_col21\" class=\"data row6 col21\" >-0.12</td>\n",
       "      <td id=\"T_a2a19_row6_col22\" class=\"data row6 col22\" >-0.30</td>\n",
       "      <td id=\"T_a2a19_row6_col23\" class=\"data row6 col23\" >-0.26</td>\n",
       "      <td id=\"T_a2a19_row6_col24\" class=\"data row6 col24\" >-0.14</td>\n",
       "      <td id=\"T_a2a19_row6_col25\" class=\"data row6 col25\" >-0.29</td>\n",
       "      <td id=\"T_a2a19_row6_col26\" class=\"data row6 col26\" >-0.22</td>\n",
       "      <td id=\"T_a2a19_row6_col27\" class=\"data row6 col27\" >-0.24</td>\n",
       "      <td id=\"T_a2a19_row6_col28\" class=\"data row6 col28\" >-0.14</td>\n",
       "      <td id=\"T_a2a19_row6_col29\" class=\"data row6 col29\" >-0.23</td>\n",
       "      <td id=\"T_a2a19_row6_col30\" class=\"data row6 col30\" >-0.18</td>\n",
       "      <td id=\"T_a2a19_row6_col31\" class=\"data row6 col31\" >-0.15</td>\n",
       "      <td id=\"T_a2a19_row6_col32\" class=\"data row6 col32\" >-0.18</td>\n",
       "      <td id=\"T_a2a19_row6_col33\" class=\"data row6 col33\" >-0.15</td>\n",
       "      <td id=\"T_a2a19_row6_col34\" class=\"data row6 col34\" >-0.23</td>\n",
       "      <td id=\"T_a2a19_row6_col35\" class=\"data row6 col35\" >-0.25</td>\n",
       "      <td id=\"T_a2a19_row6_col36\" class=\"data row6 col36\" >-0.33</td>\n",
       "      <td id=\"T_a2a19_row6_col37\" class=\"data row6 col37\" >-0.07</td>\n",
       "      <td id=\"T_a2a19_row6_col38\" class=\"data row6 col38\" >-0.18</td>\n",
       "      <td id=\"T_a2a19_row6_col39\" class=\"data row6 col39\" >-0.21</td>\n",
       "      <td id=\"T_a2a19_row6_col40\" class=\"data row6 col40\" >-0.10</td>\n",
       "      <td id=\"T_a2a19_row6_col41\" class=\"data row6 col41\" >-0.16</td>\n",
       "      <td id=\"T_a2a19_row6_col42\" class=\"data row6 col42\" >-0.20</td>\n",
       "      <td id=\"T_a2a19_row6_col43\" class=\"data row6 col43\" >-0.14</td>\n",
       "      <td id=\"T_a2a19_row6_col44\" class=\"data row6 col44\" >-0.29</td>\n",
       "      <td id=\"T_a2a19_row6_col45\" class=\"data row6 col45\" >-0.19</td>\n",
       "      <td id=\"T_a2a19_row6_col46\" class=\"data row6 col46\" >-0.08</td>\n",
       "      <td id=\"T_a2a19_row6_col47\" class=\"data row6 col47\" >-0.13</td>\n",
       "      <td id=\"T_a2a19_row6_col48\" class=\"data row6 col48\" >-0.17</td>\n",
       "      <td id=\"T_a2a19_row6_col49\" class=\"data row6 col49\" >-0.66</td>\n",
       "      <td id=\"T_a2a19_row6_col50\" class=\"data row6 col50\" >-0.13</td>\n",
       "      <td id=\"T_a2a19_row6_col51\" class=\"data row6 col51\" >0.96</td>\n",
       "      <td id=\"T_a2a19_row6_col52\" class=\"data row6 col52\" >0.12</td>\n",
       "      <td id=\"T_a2a19_row6_col53\" class=\"data row6 col53\" >-0.16</td>\n",
       "      <td id=\"T_a2a19_row6_col54\" class=\"data row6 col54\" >23.74</td>\n",
       "      <td id=\"T_a2a19_row6_col55\" class=\"data row6 col55\" >9.53</td>\n",
       "      <td id=\"T_a2a19_row6_col56\" class=\"data row6 col56\" >1.94</td>\n",
       "    </tr>\n",
       "    <tr>\n",
       "      <td id=\"T_a2a19_row7_col0\" class=\"data row7 col0\" >-0.31</td>\n",
       "      <td id=\"T_a2a19_row7_col1\" class=\"data row7 col1\" >-0.17</td>\n",
       "      <td id=\"T_a2a19_row7_col2\" class=\"data row7 col2\" >-0.56</td>\n",
       "      <td id=\"T_a2a19_row7_col3\" class=\"data row7 col3\" >-0.05</td>\n",
       "      <td id=\"T_a2a19_row7_col4\" class=\"data row7 col4\" >3.85</td>\n",
       "      <td id=\"T_a2a19_row7_col5\" class=\"data row7 col5\" >-0.34</td>\n",
       "      <td id=\"T_a2a19_row7_col6\" class=\"data row7 col6\" >-0.30</td>\n",
       "      <td id=\"T_a2a19_row7_col7\" class=\"data row7 col7\" >-0.28</td>\n",
       "      <td id=\"T_a2a19_row7_col8\" class=\"data row7 col8\" >-0.33</td>\n",
       "      <td id=\"T_a2a19_row7_col9\" class=\"data row7 col9\" >-0.38</td>\n",
       "      <td id=\"T_a2a19_row7_col10\" class=\"data row7 col10\" >-0.29</td>\n",
       "      <td id=\"T_a2a19_row7_col11\" class=\"data row7 col11\" >-0.62</td>\n",
       "      <td id=\"T_a2a19_row7_col12\" class=\"data row7 col12\" >-0.35</td>\n",
       "      <td id=\"T_a2a19_row7_col13\" class=\"data row7 col13\" >-0.18</td>\n",
       "      <td id=\"T_a2a19_row7_col14\" class=\"data row7 col14\" >-0.20</td>\n",
       "      <td id=\"T_a2a19_row7_col15\" class=\"data row7 col15\" >2.64</td>\n",
       "      <td id=\"T_a2a19_row7_col16\" class=\"data row7 col16\" >-0.36</td>\n",
       "      <td id=\"T_a2a19_row7_col17\" class=\"data row7 col17\" >-0.36</td>\n",
       "      <td id=\"T_a2a19_row7_col18\" class=\"data row7 col18\" >-0.92</td>\n",
       "      <td id=\"T_a2a19_row7_col19\" class=\"data row7 col19\" >-0.18</td>\n",
       "      <td id=\"T_a2a19_row7_col20\" class=\"data row7 col20\" >-0.69</td>\n",
       "      <td id=\"T_a2a19_row7_col21\" class=\"data row7 col21\" >-0.12</td>\n",
       "      <td id=\"T_a2a19_row7_col22\" class=\"data row7 col22\" >-0.30</td>\n",
       "      <td id=\"T_a2a19_row7_col23\" class=\"data row7 col23\" >-0.26</td>\n",
       "      <td id=\"T_a2a19_row7_col24\" class=\"data row7 col24\" >-0.32</td>\n",
       "      <td id=\"T_a2a19_row7_col25\" class=\"data row7 col25\" >-0.29</td>\n",
       "      <td id=\"T_a2a19_row7_col26\" class=\"data row7 col26\" >-0.22</td>\n",
       "      <td id=\"T_a2a19_row7_col27\" class=\"data row7 col27\" >-0.24</td>\n",
       "      <td id=\"T_a2a19_row7_col28\" class=\"data row7 col28\" >-0.14</td>\n",
       "      <td id=\"T_a2a19_row7_col29\" class=\"data row7 col29\" >-0.23</td>\n",
       "      <td id=\"T_a2a19_row7_col30\" class=\"data row7 col30\" >-0.18</td>\n",
       "      <td id=\"T_a2a19_row7_col31\" class=\"data row7 col31\" >-0.15</td>\n",
       "      <td id=\"T_a2a19_row7_col32\" class=\"data row7 col32\" >-0.18</td>\n",
       "      <td id=\"T_a2a19_row7_col33\" class=\"data row7 col33\" >-0.15</td>\n",
       "      <td id=\"T_a2a19_row7_col34\" class=\"data row7 col34\" >-0.23</td>\n",
       "      <td id=\"T_a2a19_row7_col35\" class=\"data row7 col35\" >-0.25</td>\n",
       "      <td id=\"T_a2a19_row7_col36\" class=\"data row7 col36\" >-0.33</td>\n",
       "      <td id=\"T_a2a19_row7_col37\" class=\"data row7 col37\" >-0.07</td>\n",
       "      <td id=\"T_a2a19_row7_col38\" class=\"data row7 col38\" >-0.18</td>\n",
       "      <td id=\"T_a2a19_row7_col39\" class=\"data row7 col39\" >-0.21</td>\n",
       "      <td id=\"T_a2a19_row7_col40\" class=\"data row7 col40\" >-0.10</td>\n",
       "      <td id=\"T_a2a19_row7_col41\" class=\"data row7 col41\" >-0.16</td>\n",
       "      <td id=\"T_a2a19_row7_col42\" class=\"data row7 col42\" >-0.20</td>\n",
       "      <td id=\"T_a2a19_row7_col43\" class=\"data row7 col43\" >-0.14</td>\n",
       "      <td id=\"T_a2a19_row7_col44\" class=\"data row7 col44\" >-0.29</td>\n",
       "      <td id=\"T_a2a19_row7_col45\" class=\"data row7 col45\" >-0.19</td>\n",
       "      <td id=\"T_a2a19_row7_col46\" class=\"data row7 col46\" >-0.08</td>\n",
       "      <td id=\"T_a2a19_row7_col47\" class=\"data row7 col47\" >-0.13</td>\n",
       "      <td id=\"T_a2a19_row7_col48\" class=\"data row7 col48\" >1.33</td>\n",
       "      <td id=\"T_a2a19_row7_col49\" class=\"data row7 col49\" >1.02</td>\n",
       "      <td id=\"T_a2a19_row7_col50\" class=\"data row7 col50\" >-0.13</td>\n",
       "      <td id=\"T_a2a19_row7_col51\" class=\"data row7 col51\" >0.72</td>\n",
       "      <td id=\"T_a2a19_row7_col52\" class=\"data row7 col52\" >-0.32</td>\n",
       "      <td id=\"T_a2a19_row7_col53\" class=\"data row7 col53\" >-0.16</td>\n",
       "      <td id=\"T_a2a19_row7_col54\" class=\"data row7 col54\" >-0.01</td>\n",
       "      <td id=\"T_a2a19_row7_col55\" class=\"data row7 col55\" >-0.30</td>\n",
       "      <td id=\"T_a2a19_row7_col56\" class=\"data row7 col56\" >-0.46</td>\n",
       "    </tr>\n",
       "    <tr>\n",
       "      <td id=\"T_a2a19_row8_col0\" class=\"data row8 col0\" >0.76</td>\n",
       "      <td id=\"T_a2a19_row8_col1\" class=\"data row8 col1\" >-0.17</td>\n",
       "      <td id=\"T_a2a19_row8_col2\" class=\"data row8 col2\" >-0.56</td>\n",
       "      <td id=\"T_a2a19_row8_col3\" class=\"data row8 col3\" >-0.05</td>\n",
       "      <td id=\"T_a2a19_row8_col4\" class=\"data row8 col4\" >-0.46</td>\n",
       "      <td id=\"T_a2a19_row8_col5\" class=\"data row8 col5\" >0.81</td>\n",
       "      <td id=\"T_a2a19_row8_col6\" class=\"data row8 col6\" >-0.30</td>\n",
       "      <td id=\"T_a2a19_row8_col7\" class=\"data row8 col7\" >-0.28</td>\n",
       "      <td id=\"T_a2a19_row8_col8\" class=\"data row8 col8\" >-0.33</td>\n",
       "      <td id=\"T_a2a19_row8_col9\" class=\"data row8 col9\" >-0.38</td>\n",
       "      <td id=\"T_a2a19_row8_col10\" class=\"data row8 col10\" >-0.29</td>\n",
       "      <td id=\"T_a2a19_row8_col11\" class=\"data row8 col11\" >0.58</td>\n",
       "      <td id=\"T_a2a19_row8_col12\" class=\"data row8 col12\" >2.07</td>\n",
       "      <td id=\"T_a2a19_row8_col13\" class=\"data row8 col13\" >-0.18</td>\n",
       "      <td id=\"T_a2a19_row8_col14\" class=\"data row8 col14\" >-0.20</td>\n",
       "      <td id=\"T_a2a19_row8_col15\" class=\"data row8 col15\" >-0.27</td>\n",
       "      <td id=\"T_a2a19_row8_col16\" class=\"data row8 col16\" >1.45</td>\n",
       "      <td id=\"T_a2a19_row8_col17\" class=\"data row8 col17\" >-0.36</td>\n",
       "      <td id=\"T_a2a19_row8_col18\" class=\"data row8 col18\" >0.84</td>\n",
       "      <td id=\"T_a2a19_row8_col19\" class=\"data row8 col19\" >-0.18</td>\n",
       "      <td id=\"T_a2a19_row8_col20\" class=\"data row8 col20\" >1.14</td>\n",
       "      <td id=\"T_a2a19_row8_col21\" class=\"data row8 col21\" >-0.12</td>\n",
       "      <td id=\"T_a2a19_row8_col22\" class=\"data row8 col22\" >-0.30</td>\n",
       "      <td id=\"T_a2a19_row8_col23\" class=\"data row8 col23\" >-0.26</td>\n",
       "      <td id=\"T_a2a19_row8_col24\" class=\"data row8 col24\" >-0.32</td>\n",
       "      <td id=\"T_a2a19_row8_col25\" class=\"data row8 col25\" >-0.29</td>\n",
       "      <td id=\"T_a2a19_row8_col26\" class=\"data row8 col26\" >-0.22</td>\n",
       "      <td id=\"T_a2a19_row8_col27\" class=\"data row8 col27\" >-0.24</td>\n",
       "      <td id=\"T_a2a19_row8_col28\" class=\"data row8 col28\" >-0.14</td>\n",
       "      <td id=\"T_a2a19_row8_col29\" class=\"data row8 col29\" >-0.23</td>\n",
       "      <td id=\"T_a2a19_row8_col30\" class=\"data row8 col30\" >-0.18</td>\n",
       "      <td id=\"T_a2a19_row8_col31\" class=\"data row8 col31\" >-0.15</td>\n",
       "      <td id=\"T_a2a19_row8_col32\" class=\"data row8 col32\" >-0.18</td>\n",
       "      <td id=\"T_a2a19_row8_col33\" class=\"data row8 col33\" >-0.15</td>\n",
       "      <td id=\"T_a2a19_row8_col34\" class=\"data row8 col34\" >-0.23</td>\n",
       "      <td id=\"T_a2a19_row8_col35\" class=\"data row8 col35\" >-0.25</td>\n",
       "      <td id=\"T_a2a19_row8_col36\" class=\"data row8 col36\" >-0.33</td>\n",
       "      <td id=\"T_a2a19_row8_col37\" class=\"data row8 col37\" >-0.07</td>\n",
       "      <td id=\"T_a2a19_row8_col38\" class=\"data row8 col38\" >-0.18</td>\n",
       "      <td id=\"T_a2a19_row8_col39\" class=\"data row8 col39\" >-0.21</td>\n",
       "      <td id=\"T_a2a19_row8_col40\" class=\"data row8 col40\" >-0.10</td>\n",
       "      <td id=\"T_a2a19_row8_col41\" class=\"data row8 col41\" >-0.16</td>\n",
       "      <td id=\"T_a2a19_row8_col42\" class=\"data row8 col42\" >-0.20</td>\n",
       "      <td id=\"T_a2a19_row8_col43\" class=\"data row8 col43\" >-0.14</td>\n",
       "      <td id=\"T_a2a19_row8_col44\" class=\"data row8 col44\" >-0.29</td>\n",
       "      <td id=\"T_a2a19_row8_col45\" class=\"data row8 col45\" >-0.19</td>\n",
       "      <td id=\"T_a2a19_row8_col46\" class=\"data row8 col46\" >-0.08</td>\n",
       "      <td id=\"T_a2a19_row8_col47\" class=\"data row8 col47\" >-0.13</td>\n",
       "      <td id=\"T_a2a19_row8_col48\" class=\"data row8 col48\" >-0.17</td>\n",
       "      <td id=\"T_a2a19_row8_col49\" class=\"data row8 col49\" >-0.66</td>\n",
       "      <td id=\"T_a2a19_row8_col50\" class=\"data row8 col50\" >-0.13</td>\n",
       "      <td id=\"T_a2a19_row8_col51\" class=\"data row8 col51\" >-0.43</td>\n",
       "      <td id=\"T_a2a19_row8_col52\" class=\"data row8 col52\" >-0.32</td>\n",
       "      <td id=\"T_a2a19_row8_col53\" class=\"data row8 col53\" >-0.16</td>\n",
       "      <td id=\"T_a2a19_row8_col54\" class=\"data row8 col54\" >-0.17</td>\n",
       "      <td id=\"T_a2a19_row8_col55\" class=\"data row8 col55\" >-0.22</td>\n",
       "      <td id=\"T_a2a19_row8_col56\" class=\"data row8 col56\" >-0.38</td>\n",
       "    </tr>\n",
       "    <tr>\n",
       "      <td id=\"T_a2a19_row9_col0\" class=\"data row9 col0\" >-0.31</td>\n",
       "      <td id=\"T_a2a19_row9_col1\" class=\"data row9 col1\" >-0.17</td>\n",
       "      <td id=\"T_a2a19_row9_col2\" class=\"data row9 col2\" >-0.56</td>\n",
       "      <td id=\"T_a2a19_row9_col3\" class=\"data row9 col3\" >-0.05</td>\n",
       "      <td id=\"T_a2a19_row9_col4\" class=\"data row9 col4\" >-0.46</td>\n",
       "      <td id=\"T_a2a19_row9_col5\" class=\"data row9 col5\" >-0.34</td>\n",
       "      <td id=\"T_a2a19_row9_col6\" class=\"data row9 col6\" >-0.30</td>\n",
       "      <td id=\"T_a2a19_row9_col7\" class=\"data row9 col7\" >-0.28</td>\n",
       "      <td id=\"T_a2a19_row9_col8\" class=\"data row9 col8\" >-0.33</td>\n",
       "      <td id=\"T_a2a19_row9_col9\" class=\"data row9 col9\" >-0.38</td>\n",
       "      <td id=\"T_a2a19_row9_col10\" class=\"data row9 col10\" >-0.29</td>\n",
       "      <td id=\"T_a2a19_row9_col11\" class=\"data row9 col11\" >-0.62</td>\n",
       "      <td id=\"T_a2a19_row9_col12\" class=\"data row9 col12\" >-0.35</td>\n",
       "      <td id=\"T_a2a19_row9_col13\" class=\"data row9 col13\" >-0.18</td>\n",
       "      <td id=\"T_a2a19_row9_col14\" class=\"data row9 col14\" >-0.20</td>\n",
       "      <td id=\"T_a2a19_row9_col15\" class=\"data row9 col15\" >-0.27</td>\n",
       "      <td id=\"T_a2a19_row9_col16\" class=\"data row9 col16\" >-0.36</td>\n",
       "      <td id=\"T_a2a19_row9_col17\" class=\"data row9 col17\" >-0.36</td>\n",
       "      <td id=\"T_a2a19_row9_col18\" class=\"data row9 col18\" >0.68</td>\n",
       "      <td id=\"T_a2a19_row9_col19\" class=\"data row9 col19\" >-0.18</td>\n",
       "      <td id=\"T_a2a19_row9_col20\" class=\"data row9 col20\" >-0.69</td>\n",
       "      <td id=\"T_a2a19_row9_col21\" class=\"data row9 col21\" >-0.12</td>\n",
       "      <td id=\"T_a2a19_row9_col22\" class=\"data row9 col22\" >-0.30</td>\n",
       "      <td id=\"T_a2a19_row9_col23\" class=\"data row9 col23\" >-0.26</td>\n",
       "      <td id=\"T_a2a19_row9_col24\" class=\"data row9 col24\" >-0.32</td>\n",
       "      <td id=\"T_a2a19_row9_col25\" class=\"data row9 col25\" >-0.29</td>\n",
       "      <td id=\"T_a2a19_row9_col26\" class=\"data row9 col26\" >-0.22</td>\n",
       "      <td id=\"T_a2a19_row9_col27\" class=\"data row9 col27\" >-0.24</td>\n",
       "      <td id=\"T_a2a19_row9_col28\" class=\"data row9 col28\" >-0.14</td>\n",
       "      <td id=\"T_a2a19_row9_col29\" class=\"data row9 col29\" >-0.23</td>\n",
       "      <td id=\"T_a2a19_row9_col30\" class=\"data row9 col30\" >-0.18</td>\n",
       "      <td id=\"T_a2a19_row9_col31\" class=\"data row9 col31\" >-0.15</td>\n",
       "      <td id=\"T_a2a19_row9_col32\" class=\"data row9 col32\" >-0.18</td>\n",
       "      <td id=\"T_a2a19_row9_col33\" class=\"data row9 col33\" >-0.15</td>\n",
       "      <td id=\"T_a2a19_row9_col34\" class=\"data row9 col34\" >-0.23</td>\n",
       "      <td id=\"T_a2a19_row9_col35\" class=\"data row9 col35\" >-0.25</td>\n",
       "      <td id=\"T_a2a19_row9_col36\" class=\"data row9 col36\" >-0.33</td>\n",
       "      <td id=\"T_a2a19_row9_col37\" class=\"data row9 col37\" >-0.07</td>\n",
       "      <td id=\"T_a2a19_row9_col38\" class=\"data row9 col38\" >-0.18</td>\n",
       "      <td id=\"T_a2a19_row9_col39\" class=\"data row9 col39\" >-0.21</td>\n",
       "      <td id=\"T_a2a19_row9_col40\" class=\"data row9 col40\" >-0.10</td>\n",
       "      <td id=\"T_a2a19_row9_col41\" class=\"data row9 col41\" >-0.16</td>\n",
       "      <td id=\"T_a2a19_row9_col42\" class=\"data row9 col42\" >-0.20</td>\n",
       "      <td id=\"T_a2a19_row9_col43\" class=\"data row9 col43\" >-0.14</td>\n",
       "      <td id=\"T_a2a19_row9_col44\" class=\"data row9 col44\" >-0.29</td>\n",
       "      <td id=\"T_a2a19_row9_col45\" class=\"data row9 col45\" >2.74</td>\n",
       "      <td id=\"T_a2a19_row9_col46\" class=\"data row9 col46\" >-0.08</td>\n",
       "      <td id=\"T_a2a19_row9_col47\" class=\"data row9 col47\" >-0.13</td>\n",
       "      <td id=\"T_a2a19_row9_col48\" class=\"data row9 col48\" >-0.17</td>\n",
       "      <td id=\"T_a2a19_row9_col49\" class=\"data row9 col49\" >-0.66</td>\n",
       "      <td id=\"T_a2a19_row9_col50\" class=\"data row9 col50\" >-0.13</td>\n",
       "      <td id=\"T_a2a19_row9_col51\" class=\"data row9 col51\" >-0.43</td>\n",
       "      <td id=\"T_a2a19_row9_col52\" class=\"data row9 col52\" >-0.32</td>\n",
       "      <td id=\"T_a2a19_row9_col53\" class=\"data row9 col53\" >-0.16</td>\n",
       "      <td id=\"T_a2a19_row9_col54\" class=\"data row9 col54\" >-0.22</td>\n",
       "      <td id=\"T_a2a19_row9_col55\" class=\"data row9 col55\" >-0.39</td>\n",
       "      <td id=\"T_a2a19_row9_col56\" class=\"data row9 col56\" >-0.49</td>\n",
       "    </tr>\n",
       "  </tbody>\n",
       "</table>\n"
      ],
      "text/plain": [
       "<pandas.io.formats.style.Styler at 0x14b3a6750>"
      ]
     },
     "execution_count": 17,
     "metadata": {},
     "output_type": "execute_result"
    }
   ],
   "source": [
    "pandas_processx.return_formatted_table \\\n",
    "    (x_test_scaled_dataframe, \n",
    "     'Table 1.5.2: Spam Scaled Features Test Data')"
   ]
  },
  {
   "cell_type": "markdown",
   "metadata": {},
   "source": [
    "# <br> **Section 2: Undersampled and OverSampled Spam Data**"
   ]
  },
  {
   "cell_type": "markdown",
   "metadata": {},
   "source": [
    "## **2.1: Instantiate the Random Undersampler Instance**"
   ]
  },
  {
   "cell_type": "code",
   "execution_count": 18,
   "metadata": {},
   "outputs": [],
   "source": [
    "x_train_scaled_undersampled_dataframe, y_train_undersampled_series \\\n",
    "    = RandomUnderSampler(random_state = spam_detector_constants.CONSTANT_ML_RANDOM_STATE_1) \\\n",
    "        .fit_resample(x_train_scaled_dataframe, y_train_series)"
   ]
  },
  {
   "cell_type": "code",
   "execution_count": 19,
   "metadata": {},
   "outputs": [],
   "source": [
    "logx.log_write_object(x_train_scaled_undersampled_dataframe)\n",
    "\n",
    "logx.log_write_object(y_train_undersampled_series)"
   ]
  },
  {
   "cell_type": "markdown",
   "metadata": {},
   "source": [
    "## **2.2: Instantiate the Random Oversampler Instance**"
   ]
  },
  {
   "cell_type": "code",
   "execution_count": 20,
   "metadata": {},
   "outputs": [],
   "source": [
    "x_train_scaled_oversampled_dataframe, y_train_oversampled_series \\\n",
    "    = RandomOverSampler(random_state = spam_detector_constants.CONSTANT_ML_RANDOM_STATE_1) \\\n",
    "        .fit_resample(x_train_scaled_dataframe, y_train_series)"
   ]
  },
  {
   "cell_type": "code",
   "execution_count": 21,
   "metadata": {},
   "outputs": [],
   "source": [
    "logx.log_write_object(x_train_scaled_undersampled_dataframe)\n",
    "\n",
    "logx.log_write_object(y_train_undersampled_series)"
   ]
  },
  {
   "cell_type": "markdown",
   "metadata": {},
   "source": [
    "## **2.3: Instantiate the Cluster Centroids Instance**"
   ]
  },
  {
   "cell_type": "code",
   "execution_count": 22,
   "metadata": {},
   "outputs": [],
   "source": [
    "x_train_scaled_cluster_centroids_dataframe, y_train_cluster_centroids_series \\\n",
    "    = ClusterCentroids \\\n",
    "        (estimator \\\n",
    "             = KMeans(n_init = 'auto', random_state = spam_detector_constants.CONSTANT_ML_RANDOM_STATE_2), \n",
    "         random_state = spam_detector_constants.CONSTANT_ML_RANDOM_STATE_1) \\\n",
    "        .fit_resample(x_train_scaled_dataframe, y_train_series)"
   ]
  },
  {
   "cell_type": "code",
   "execution_count": 23,
   "metadata": {},
   "outputs": [],
   "source": [
    "logx.log_write_object(x_train_scaled_cluster_centroids_dataframe)\n",
    "\n",
    "logx.log_write_object(y_train_cluster_centroids_series)"
   ]
  },
  {
   "cell_type": "markdown",
   "metadata": {},
   "source": [
    "## **2.4: Instantiate the SMOTE Instance**"
   ]
  },
  {
   "cell_type": "code",
   "execution_count": 24,
   "metadata": {},
   "outputs": [],
   "source": [
    "x_train_scaled_smote_dataframe, y_train_smote_series \\\n",
    "    = SMOTE(random_state = spam_detector_constants.CONSTANT_ML_RANDOM_STATE_1, sampling_strategy = 'auto') \\\n",
    "        .fit_resample(x_train_scaled_dataframe, y_train_series)"
   ]
  },
  {
   "cell_type": "code",
   "execution_count": 25,
   "metadata": {},
   "outputs": [],
   "source": [
    "logx.log_write_object(x_train_scaled_smote_dataframe)\n",
    "\n",
    "logx.log_write_object(y_train_smote_series)"
   ]
  },
  {
   "cell_type": "markdown",
   "metadata": {},
   "source": [
    "## **2.5: Instantiate the SMOTEEN Instance**"
   ]
  },
  {
   "cell_type": "code",
   "execution_count": 26,
   "metadata": {},
   "outputs": [],
   "source": [
    "x_train_scaled_smoteen_dataframe, y_train_smoteen_series \\\n",
    "    = SMOTEENN(random_state = spam_detector_constants.CONSTANT_ML_RANDOM_STATE_1) \\\n",
    "        .fit_resample(x_train_scaled_dataframe, y_train_series)"
   ]
  },
  {
   "cell_type": "code",
   "execution_count": 27,
   "metadata": {},
   "outputs": [],
   "source": [
    "logx.log_write_object(x_train_scaled_smoteen_dataframe)\n",
    "\n",
    "logx.log_write_object(y_train_smoteen_series)"
   ]
  },
  {
   "cell_type": "markdown",
   "metadata": {},
   "source": [
    "## **2.6: Check the Balance of the Labels Variable (`y`) by Using the `value_counts` Function.**"
   ]
  },
  {
   "cell_type": "code",
   "execution_count": 28,
   "metadata": {},
   "outputs": [
    {
     "data": {
      "text/plain": [
       "spam\n",
       "0    1361\n",
       "1    1361\n",
       "Name: count, dtype: int64"
      ]
     },
     "execution_count": 28,
     "metadata": {},
     "output_type": "execute_result"
    }
   ],
   "source": [
    "y_train_undersampled_series.value_counts()"
   ]
  },
  {
   "cell_type": "code",
   "execution_count": 29,
   "metadata": {},
   "outputs": [
    {
     "data": {
      "text/plain": [
       "spam\n",
       "0    2089\n",
       "1    2089\n",
       "Name: count, dtype: int64"
      ]
     },
     "execution_count": 29,
     "metadata": {},
     "output_type": "execute_result"
    }
   ],
   "source": [
    "y_train_oversampled_series.value_counts()"
   ]
  },
  {
   "cell_type": "code",
   "execution_count": 30,
   "metadata": {},
   "outputs": [
    {
     "data": {
      "text/plain": [
       "spam\n",
       "0    1361\n",
       "1    1361\n",
       "Name: count, dtype: int64"
      ]
     },
     "execution_count": 30,
     "metadata": {},
     "output_type": "execute_result"
    }
   ],
   "source": [
    "y_train_cluster_centroids_series.value_counts()"
   ]
  },
  {
   "cell_type": "code",
   "execution_count": 31,
   "metadata": {},
   "outputs": [
    {
     "data": {
      "text/plain": [
       "spam\n",
       "0    2089\n",
       "1    2089\n",
       "Name: count, dtype: int64"
      ]
     },
     "execution_count": 31,
     "metadata": {},
     "output_type": "execute_result"
    }
   ],
   "source": [
    "y_train_smote_series.value_counts()"
   ]
  },
  {
   "cell_type": "code",
   "execution_count": 32,
   "metadata": {},
   "outputs": [
    {
     "data": {
      "text/plain": [
       "spam\n",
       "1    1785\n",
       "0    1651\n",
       "Name: count, dtype: int64"
      ]
     },
     "execution_count": 32,
     "metadata": {},
     "output_type": "execute_result"
    }
   ],
   "source": [
    "y_train_smoteen_series.value_counts()"
   ]
  },
  {
   "cell_type": "markdown",
   "metadata": {},
   "source": [
    "## **2.7: Display Normalized Resampled Training and Testing Data**"
   ]
  },
  {
   "cell_type": "code",
   "execution_count": 33,
   "metadata": {},
   "outputs": [
    {
     "data": {
      "text/html": [
       "<style type=\"text/css\">\n",
       "#T_83b7e caption {\n",
       "  color: black;\n",
       "  font-size: 20px;\n",
       "  font-style: bold;\n",
       "  text-align: center;\n",
       "}\n",
       "#T_83b7e_row0_col0, #T_83b7e_row0_col1, #T_83b7e_row0_col2, #T_83b7e_row0_col3, #T_83b7e_row0_col4, #T_83b7e_row0_col5, #T_83b7e_row0_col6, #T_83b7e_row0_col7, #T_83b7e_row0_col8, #T_83b7e_row0_col9, #T_83b7e_row0_col10, #T_83b7e_row0_col11, #T_83b7e_row0_col12, #T_83b7e_row0_col13, #T_83b7e_row0_col14, #T_83b7e_row0_col15, #T_83b7e_row0_col16, #T_83b7e_row0_col17, #T_83b7e_row0_col18, #T_83b7e_row0_col19, #T_83b7e_row0_col20, #T_83b7e_row0_col21, #T_83b7e_row0_col22, #T_83b7e_row0_col23, #T_83b7e_row0_col24, #T_83b7e_row0_col25, #T_83b7e_row0_col26, #T_83b7e_row0_col27, #T_83b7e_row0_col28, #T_83b7e_row0_col29, #T_83b7e_row0_col30, #T_83b7e_row0_col31, #T_83b7e_row0_col32, #T_83b7e_row0_col33, #T_83b7e_row0_col34, #T_83b7e_row0_col35, #T_83b7e_row0_col36, #T_83b7e_row0_col37, #T_83b7e_row0_col38, #T_83b7e_row0_col39, #T_83b7e_row0_col40, #T_83b7e_row0_col41, #T_83b7e_row0_col42, #T_83b7e_row0_col43, #T_83b7e_row0_col44, #T_83b7e_row0_col45, #T_83b7e_row0_col46, #T_83b7e_row0_col47, #T_83b7e_row0_col48, #T_83b7e_row0_col49, #T_83b7e_row0_col50, #T_83b7e_row0_col51, #T_83b7e_row0_col52, #T_83b7e_row0_col53, #T_83b7e_row0_col54, #T_83b7e_row0_col55, #T_83b7e_row0_col56, #T_83b7e_row1_col0, #T_83b7e_row1_col1, #T_83b7e_row1_col2, #T_83b7e_row1_col3, #T_83b7e_row1_col4, #T_83b7e_row1_col5, #T_83b7e_row1_col6, #T_83b7e_row1_col7, #T_83b7e_row1_col8, #T_83b7e_row1_col9, #T_83b7e_row1_col10, #T_83b7e_row1_col11, #T_83b7e_row1_col12, #T_83b7e_row1_col13, #T_83b7e_row1_col14, #T_83b7e_row1_col15, #T_83b7e_row1_col16, #T_83b7e_row1_col17, #T_83b7e_row1_col18, #T_83b7e_row1_col19, #T_83b7e_row1_col20, #T_83b7e_row1_col21, #T_83b7e_row1_col22, #T_83b7e_row1_col23, #T_83b7e_row1_col24, #T_83b7e_row1_col25, #T_83b7e_row1_col26, #T_83b7e_row1_col27, #T_83b7e_row1_col28, #T_83b7e_row1_col29, #T_83b7e_row1_col30, #T_83b7e_row1_col31, #T_83b7e_row1_col32, #T_83b7e_row1_col33, #T_83b7e_row1_col34, #T_83b7e_row1_col35, #T_83b7e_row1_col36, #T_83b7e_row1_col37, #T_83b7e_row1_col38, #T_83b7e_row1_col39, #T_83b7e_row1_col40, #T_83b7e_row1_col41, #T_83b7e_row1_col42, #T_83b7e_row1_col43, #T_83b7e_row1_col44, #T_83b7e_row1_col45, #T_83b7e_row1_col46, #T_83b7e_row1_col47, #T_83b7e_row1_col48, #T_83b7e_row1_col49, #T_83b7e_row1_col50, #T_83b7e_row1_col51, #T_83b7e_row1_col52, #T_83b7e_row1_col53, #T_83b7e_row1_col54, #T_83b7e_row1_col55, #T_83b7e_row1_col56, #T_83b7e_row2_col0, #T_83b7e_row2_col1, #T_83b7e_row2_col2, #T_83b7e_row2_col3, #T_83b7e_row2_col4, #T_83b7e_row2_col5, #T_83b7e_row2_col6, #T_83b7e_row2_col7, #T_83b7e_row2_col8, #T_83b7e_row2_col9, #T_83b7e_row2_col10, #T_83b7e_row2_col11, #T_83b7e_row2_col12, #T_83b7e_row2_col13, #T_83b7e_row2_col14, #T_83b7e_row2_col15, #T_83b7e_row2_col16, #T_83b7e_row2_col17, #T_83b7e_row2_col18, #T_83b7e_row2_col19, #T_83b7e_row2_col20, #T_83b7e_row2_col21, #T_83b7e_row2_col22, #T_83b7e_row2_col23, #T_83b7e_row2_col24, #T_83b7e_row2_col25, #T_83b7e_row2_col26, #T_83b7e_row2_col27, #T_83b7e_row2_col28, #T_83b7e_row2_col29, #T_83b7e_row2_col30, #T_83b7e_row2_col31, #T_83b7e_row2_col32, #T_83b7e_row2_col33, #T_83b7e_row2_col34, #T_83b7e_row2_col35, #T_83b7e_row2_col36, #T_83b7e_row2_col37, #T_83b7e_row2_col38, #T_83b7e_row2_col39, #T_83b7e_row2_col40, #T_83b7e_row2_col41, #T_83b7e_row2_col42, #T_83b7e_row2_col43, #T_83b7e_row2_col44, #T_83b7e_row2_col45, #T_83b7e_row2_col46, #T_83b7e_row2_col47, #T_83b7e_row2_col48, #T_83b7e_row2_col49, #T_83b7e_row2_col50, #T_83b7e_row2_col51, #T_83b7e_row2_col52, #T_83b7e_row2_col53, #T_83b7e_row2_col54, #T_83b7e_row2_col55, #T_83b7e_row2_col56, #T_83b7e_row3_col0, #T_83b7e_row3_col1, #T_83b7e_row3_col2, #T_83b7e_row3_col3, #T_83b7e_row3_col4, #T_83b7e_row3_col5, #T_83b7e_row3_col6, #T_83b7e_row3_col7, #T_83b7e_row3_col8, #T_83b7e_row3_col9, #T_83b7e_row3_col10, #T_83b7e_row3_col11, #T_83b7e_row3_col12, #T_83b7e_row3_col13, #T_83b7e_row3_col14, #T_83b7e_row3_col15, #T_83b7e_row3_col16, #T_83b7e_row3_col17, #T_83b7e_row3_col18, #T_83b7e_row3_col19, #T_83b7e_row3_col20, #T_83b7e_row3_col21, #T_83b7e_row3_col22, #T_83b7e_row3_col23, #T_83b7e_row3_col24, #T_83b7e_row3_col25, #T_83b7e_row3_col26, #T_83b7e_row3_col27, #T_83b7e_row3_col28, #T_83b7e_row3_col29, #T_83b7e_row3_col30, #T_83b7e_row3_col31, #T_83b7e_row3_col32, #T_83b7e_row3_col33, #T_83b7e_row3_col34, #T_83b7e_row3_col35, #T_83b7e_row3_col36, #T_83b7e_row3_col37, #T_83b7e_row3_col38, #T_83b7e_row3_col39, #T_83b7e_row3_col40, #T_83b7e_row3_col41, #T_83b7e_row3_col42, #T_83b7e_row3_col43, #T_83b7e_row3_col44, #T_83b7e_row3_col45, #T_83b7e_row3_col46, #T_83b7e_row3_col47, #T_83b7e_row3_col48, #T_83b7e_row3_col49, #T_83b7e_row3_col50, #T_83b7e_row3_col51, #T_83b7e_row3_col52, #T_83b7e_row3_col53, #T_83b7e_row3_col54, #T_83b7e_row3_col55, #T_83b7e_row3_col56, #T_83b7e_row4_col0, #T_83b7e_row4_col1, #T_83b7e_row4_col2, #T_83b7e_row4_col3, #T_83b7e_row4_col4, #T_83b7e_row4_col5, #T_83b7e_row4_col6, #T_83b7e_row4_col7, #T_83b7e_row4_col8, #T_83b7e_row4_col9, #T_83b7e_row4_col10, #T_83b7e_row4_col11, #T_83b7e_row4_col12, #T_83b7e_row4_col13, #T_83b7e_row4_col14, #T_83b7e_row4_col15, #T_83b7e_row4_col16, #T_83b7e_row4_col17, #T_83b7e_row4_col18, #T_83b7e_row4_col19, #T_83b7e_row4_col20, #T_83b7e_row4_col21, #T_83b7e_row4_col22, #T_83b7e_row4_col23, #T_83b7e_row4_col24, #T_83b7e_row4_col25, #T_83b7e_row4_col26, #T_83b7e_row4_col27, #T_83b7e_row4_col28, #T_83b7e_row4_col29, #T_83b7e_row4_col30, #T_83b7e_row4_col31, #T_83b7e_row4_col32, #T_83b7e_row4_col33, #T_83b7e_row4_col34, #T_83b7e_row4_col35, #T_83b7e_row4_col36, #T_83b7e_row4_col37, #T_83b7e_row4_col38, #T_83b7e_row4_col39, #T_83b7e_row4_col40, #T_83b7e_row4_col41, #T_83b7e_row4_col42, #T_83b7e_row4_col43, #T_83b7e_row4_col44, #T_83b7e_row4_col45, #T_83b7e_row4_col46, #T_83b7e_row4_col47, #T_83b7e_row4_col48, #T_83b7e_row4_col49, #T_83b7e_row4_col50, #T_83b7e_row4_col51, #T_83b7e_row4_col52, #T_83b7e_row4_col53, #T_83b7e_row4_col54, #T_83b7e_row4_col55, #T_83b7e_row4_col56, #T_83b7e_row5_col0, #T_83b7e_row5_col1, #T_83b7e_row5_col2, #T_83b7e_row5_col3, #T_83b7e_row5_col4, #T_83b7e_row5_col5, #T_83b7e_row5_col6, #T_83b7e_row5_col7, #T_83b7e_row5_col8, #T_83b7e_row5_col9, #T_83b7e_row5_col10, #T_83b7e_row5_col11, #T_83b7e_row5_col12, #T_83b7e_row5_col13, #T_83b7e_row5_col14, #T_83b7e_row5_col15, #T_83b7e_row5_col16, #T_83b7e_row5_col17, #T_83b7e_row5_col18, #T_83b7e_row5_col19, #T_83b7e_row5_col20, #T_83b7e_row5_col21, #T_83b7e_row5_col22, #T_83b7e_row5_col23, #T_83b7e_row5_col24, #T_83b7e_row5_col25, #T_83b7e_row5_col26, #T_83b7e_row5_col27, #T_83b7e_row5_col28, #T_83b7e_row5_col29, #T_83b7e_row5_col30, #T_83b7e_row5_col31, #T_83b7e_row5_col32, #T_83b7e_row5_col33, #T_83b7e_row5_col34, #T_83b7e_row5_col35, #T_83b7e_row5_col36, #T_83b7e_row5_col37, #T_83b7e_row5_col38, #T_83b7e_row5_col39, #T_83b7e_row5_col40, #T_83b7e_row5_col41, #T_83b7e_row5_col42, #T_83b7e_row5_col43, #T_83b7e_row5_col44, #T_83b7e_row5_col45, #T_83b7e_row5_col46, #T_83b7e_row5_col47, #T_83b7e_row5_col48, #T_83b7e_row5_col49, #T_83b7e_row5_col50, #T_83b7e_row5_col51, #T_83b7e_row5_col52, #T_83b7e_row5_col53, #T_83b7e_row5_col54, #T_83b7e_row5_col55, #T_83b7e_row5_col56, #T_83b7e_row6_col0, #T_83b7e_row6_col1, #T_83b7e_row6_col2, #T_83b7e_row6_col3, #T_83b7e_row6_col4, #T_83b7e_row6_col5, #T_83b7e_row6_col6, #T_83b7e_row6_col7, #T_83b7e_row6_col8, #T_83b7e_row6_col9, #T_83b7e_row6_col10, #T_83b7e_row6_col11, #T_83b7e_row6_col12, #T_83b7e_row6_col13, #T_83b7e_row6_col14, #T_83b7e_row6_col15, #T_83b7e_row6_col16, #T_83b7e_row6_col17, #T_83b7e_row6_col18, #T_83b7e_row6_col19, #T_83b7e_row6_col20, #T_83b7e_row6_col21, #T_83b7e_row6_col22, #T_83b7e_row6_col23, #T_83b7e_row6_col24, #T_83b7e_row6_col25, #T_83b7e_row6_col26, #T_83b7e_row6_col27, #T_83b7e_row6_col28, #T_83b7e_row6_col29, #T_83b7e_row6_col30, #T_83b7e_row6_col31, #T_83b7e_row6_col32, #T_83b7e_row6_col33, #T_83b7e_row6_col34, #T_83b7e_row6_col35, #T_83b7e_row6_col36, #T_83b7e_row6_col37, #T_83b7e_row6_col38, #T_83b7e_row6_col39, #T_83b7e_row6_col40, #T_83b7e_row6_col41, #T_83b7e_row6_col42, #T_83b7e_row6_col43, #T_83b7e_row6_col44, #T_83b7e_row6_col45, #T_83b7e_row6_col46, #T_83b7e_row6_col47, #T_83b7e_row6_col48, #T_83b7e_row6_col49, #T_83b7e_row6_col50, #T_83b7e_row6_col51, #T_83b7e_row6_col52, #T_83b7e_row6_col53, #T_83b7e_row6_col54, #T_83b7e_row6_col55, #T_83b7e_row6_col56, #T_83b7e_row7_col0, #T_83b7e_row7_col1, #T_83b7e_row7_col2, #T_83b7e_row7_col3, #T_83b7e_row7_col4, #T_83b7e_row7_col5, #T_83b7e_row7_col6, #T_83b7e_row7_col7, #T_83b7e_row7_col8, #T_83b7e_row7_col9, #T_83b7e_row7_col10, #T_83b7e_row7_col11, #T_83b7e_row7_col12, #T_83b7e_row7_col13, #T_83b7e_row7_col14, #T_83b7e_row7_col15, #T_83b7e_row7_col16, #T_83b7e_row7_col17, #T_83b7e_row7_col18, #T_83b7e_row7_col19, #T_83b7e_row7_col20, #T_83b7e_row7_col21, #T_83b7e_row7_col22, #T_83b7e_row7_col23, #T_83b7e_row7_col24, #T_83b7e_row7_col25, #T_83b7e_row7_col26, #T_83b7e_row7_col27, #T_83b7e_row7_col28, #T_83b7e_row7_col29, #T_83b7e_row7_col30, #T_83b7e_row7_col31, #T_83b7e_row7_col32, #T_83b7e_row7_col33, #T_83b7e_row7_col34, #T_83b7e_row7_col35, #T_83b7e_row7_col36, #T_83b7e_row7_col37, #T_83b7e_row7_col38, #T_83b7e_row7_col39, #T_83b7e_row7_col40, #T_83b7e_row7_col41, #T_83b7e_row7_col42, #T_83b7e_row7_col43, #T_83b7e_row7_col44, #T_83b7e_row7_col45, #T_83b7e_row7_col46, #T_83b7e_row7_col47, #T_83b7e_row7_col48, #T_83b7e_row7_col49, #T_83b7e_row7_col50, #T_83b7e_row7_col51, #T_83b7e_row7_col52, #T_83b7e_row7_col53, #T_83b7e_row7_col54, #T_83b7e_row7_col55, #T_83b7e_row7_col56, #T_83b7e_row8_col0, #T_83b7e_row8_col1, #T_83b7e_row8_col2, #T_83b7e_row8_col3, #T_83b7e_row8_col4, #T_83b7e_row8_col5, #T_83b7e_row8_col6, #T_83b7e_row8_col7, #T_83b7e_row8_col8, #T_83b7e_row8_col9, #T_83b7e_row8_col10, #T_83b7e_row8_col11, #T_83b7e_row8_col12, #T_83b7e_row8_col13, #T_83b7e_row8_col14, #T_83b7e_row8_col15, #T_83b7e_row8_col16, #T_83b7e_row8_col17, #T_83b7e_row8_col18, #T_83b7e_row8_col19, #T_83b7e_row8_col20, #T_83b7e_row8_col21, #T_83b7e_row8_col22, #T_83b7e_row8_col23, #T_83b7e_row8_col24, #T_83b7e_row8_col25, #T_83b7e_row8_col26, #T_83b7e_row8_col27, #T_83b7e_row8_col28, #T_83b7e_row8_col29, #T_83b7e_row8_col30, #T_83b7e_row8_col31, #T_83b7e_row8_col32, #T_83b7e_row8_col33, #T_83b7e_row8_col34, #T_83b7e_row8_col35, #T_83b7e_row8_col36, #T_83b7e_row8_col37, #T_83b7e_row8_col38, #T_83b7e_row8_col39, #T_83b7e_row8_col40, #T_83b7e_row8_col41, #T_83b7e_row8_col42, #T_83b7e_row8_col43, #T_83b7e_row8_col44, #T_83b7e_row8_col45, #T_83b7e_row8_col46, #T_83b7e_row8_col47, #T_83b7e_row8_col48, #T_83b7e_row8_col49, #T_83b7e_row8_col50, #T_83b7e_row8_col51, #T_83b7e_row8_col52, #T_83b7e_row8_col53, #T_83b7e_row8_col54, #T_83b7e_row8_col55, #T_83b7e_row8_col56, #T_83b7e_row9_col0, #T_83b7e_row9_col1, #T_83b7e_row9_col2, #T_83b7e_row9_col3, #T_83b7e_row9_col4, #T_83b7e_row9_col5, #T_83b7e_row9_col6, #T_83b7e_row9_col7, #T_83b7e_row9_col8, #T_83b7e_row9_col9, #T_83b7e_row9_col10, #T_83b7e_row9_col11, #T_83b7e_row9_col12, #T_83b7e_row9_col13, #T_83b7e_row9_col14, #T_83b7e_row9_col15, #T_83b7e_row9_col16, #T_83b7e_row9_col17, #T_83b7e_row9_col18, #T_83b7e_row9_col19, #T_83b7e_row9_col20, #T_83b7e_row9_col21, #T_83b7e_row9_col22, #T_83b7e_row9_col23, #T_83b7e_row9_col24, #T_83b7e_row9_col25, #T_83b7e_row9_col26, #T_83b7e_row9_col27, #T_83b7e_row9_col28, #T_83b7e_row9_col29, #T_83b7e_row9_col30, #T_83b7e_row9_col31, #T_83b7e_row9_col32, #T_83b7e_row9_col33, #T_83b7e_row9_col34, #T_83b7e_row9_col35, #T_83b7e_row9_col36, #T_83b7e_row9_col37, #T_83b7e_row9_col38, #T_83b7e_row9_col39, #T_83b7e_row9_col40, #T_83b7e_row9_col41, #T_83b7e_row9_col42, #T_83b7e_row9_col43, #T_83b7e_row9_col44, #T_83b7e_row9_col45, #T_83b7e_row9_col46, #T_83b7e_row9_col47, #T_83b7e_row9_col48, #T_83b7e_row9_col49, #T_83b7e_row9_col50, #T_83b7e_row9_col51, #T_83b7e_row9_col52, #T_83b7e_row9_col53, #T_83b7e_row9_col54, #T_83b7e_row9_col55, #T_83b7e_row9_col56 {\n",
       "  text-align: center;\n",
       "  border: 1.3px solid red;\n",
       "  color: blue;\n",
       "}\n",
       "</style>\n",
       "<table id=\"T_83b7e\">\n",
       "  <caption>Table 2.7.1: Scaled Features Training Undersampled Data</caption>\n",
       "  <thead>\n",
       "    <tr>\n",
       "      <th id=\"T_83b7e_level0_col0\" class=\"col_heading level0 col0\" >word_freq_make</th>\n",
       "      <th id=\"T_83b7e_level0_col1\" class=\"col_heading level0 col1\" >word_freq_address</th>\n",
       "      <th id=\"T_83b7e_level0_col2\" class=\"col_heading level0 col2\" >word_freq_all</th>\n",
       "      <th id=\"T_83b7e_level0_col3\" class=\"col_heading level0 col3\" >word_freq_3d</th>\n",
       "      <th id=\"T_83b7e_level0_col4\" class=\"col_heading level0 col4\" >word_freq_our</th>\n",
       "      <th id=\"T_83b7e_level0_col5\" class=\"col_heading level0 col5\" >word_freq_over</th>\n",
       "      <th id=\"T_83b7e_level0_col6\" class=\"col_heading level0 col6\" >word_freq_remove</th>\n",
       "      <th id=\"T_83b7e_level0_col7\" class=\"col_heading level0 col7\" >word_freq_internet</th>\n",
       "      <th id=\"T_83b7e_level0_col8\" class=\"col_heading level0 col8\" >word_freq_order</th>\n",
       "      <th id=\"T_83b7e_level0_col9\" class=\"col_heading level0 col9\" >word_freq_mail</th>\n",
       "      <th id=\"T_83b7e_level0_col10\" class=\"col_heading level0 col10\" >word_freq_receive</th>\n",
       "      <th id=\"T_83b7e_level0_col11\" class=\"col_heading level0 col11\" >word_freq_will</th>\n",
       "      <th id=\"T_83b7e_level0_col12\" class=\"col_heading level0 col12\" >word_freq_people</th>\n",
       "      <th id=\"T_83b7e_level0_col13\" class=\"col_heading level0 col13\" >word_freq_report</th>\n",
       "      <th id=\"T_83b7e_level0_col14\" class=\"col_heading level0 col14\" >word_freq_addresses</th>\n",
       "      <th id=\"T_83b7e_level0_col15\" class=\"col_heading level0 col15\" >word_freq_free</th>\n",
       "      <th id=\"T_83b7e_level0_col16\" class=\"col_heading level0 col16\" >word_freq_business</th>\n",
       "      <th id=\"T_83b7e_level0_col17\" class=\"col_heading level0 col17\" >word_freq_email</th>\n",
       "      <th id=\"T_83b7e_level0_col18\" class=\"col_heading level0 col18\" >word_freq_you</th>\n",
       "      <th id=\"T_83b7e_level0_col19\" class=\"col_heading level0 col19\" >word_freq_credit</th>\n",
       "      <th id=\"T_83b7e_level0_col20\" class=\"col_heading level0 col20\" >word_freq_your</th>\n",
       "      <th id=\"T_83b7e_level0_col21\" class=\"col_heading level0 col21\" >word_freq_font</th>\n",
       "      <th id=\"T_83b7e_level0_col22\" class=\"col_heading level0 col22\" >word_freq_000</th>\n",
       "      <th id=\"T_83b7e_level0_col23\" class=\"col_heading level0 col23\" >word_freq_money</th>\n",
       "      <th id=\"T_83b7e_level0_col24\" class=\"col_heading level0 col24\" >word_freq_hp</th>\n",
       "      <th id=\"T_83b7e_level0_col25\" class=\"col_heading level0 col25\" >word_freq_hpl</th>\n",
       "      <th id=\"T_83b7e_level0_col26\" class=\"col_heading level0 col26\" >word_freq_george</th>\n",
       "      <th id=\"T_83b7e_level0_col27\" class=\"col_heading level0 col27\" >word_freq_650</th>\n",
       "      <th id=\"T_83b7e_level0_col28\" class=\"col_heading level0 col28\" >word_freq_lab</th>\n",
       "      <th id=\"T_83b7e_level0_col29\" class=\"col_heading level0 col29\" >word_freq_labs</th>\n",
       "      <th id=\"T_83b7e_level0_col30\" class=\"col_heading level0 col30\" >word_freq_telnet</th>\n",
       "      <th id=\"T_83b7e_level0_col31\" class=\"col_heading level0 col31\" >word_freq_857</th>\n",
       "      <th id=\"T_83b7e_level0_col32\" class=\"col_heading level0 col32\" >word_freq_data</th>\n",
       "      <th id=\"T_83b7e_level0_col33\" class=\"col_heading level0 col33\" >word_freq_415</th>\n",
       "      <th id=\"T_83b7e_level0_col34\" class=\"col_heading level0 col34\" >word_freq_85</th>\n",
       "      <th id=\"T_83b7e_level0_col35\" class=\"col_heading level0 col35\" >word_freq_technology</th>\n",
       "      <th id=\"T_83b7e_level0_col36\" class=\"col_heading level0 col36\" >word_freq_1999</th>\n",
       "      <th id=\"T_83b7e_level0_col37\" class=\"col_heading level0 col37\" >word_freq_parts</th>\n",
       "      <th id=\"T_83b7e_level0_col38\" class=\"col_heading level0 col38\" >word_freq_pm</th>\n",
       "      <th id=\"T_83b7e_level0_col39\" class=\"col_heading level0 col39\" >word_freq_direct</th>\n",
       "      <th id=\"T_83b7e_level0_col40\" class=\"col_heading level0 col40\" >word_freq_cs</th>\n",
       "      <th id=\"T_83b7e_level0_col41\" class=\"col_heading level0 col41\" >word_freq_meeting</th>\n",
       "      <th id=\"T_83b7e_level0_col42\" class=\"col_heading level0 col42\" >word_freq_original</th>\n",
       "      <th id=\"T_83b7e_level0_col43\" class=\"col_heading level0 col43\" >word_freq_project</th>\n",
       "      <th id=\"T_83b7e_level0_col44\" class=\"col_heading level0 col44\" >word_freq_re</th>\n",
       "      <th id=\"T_83b7e_level0_col45\" class=\"col_heading level0 col45\" >word_freq_edu</th>\n",
       "      <th id=\"T_83b7e_level0_col46\" class=\"col_heading level0 col46\" >word_freq_table</th>\n",
       "      <th id=\"T_83b7e_level0_col47\" class=\"col_heading level0 col47\" >word_freq_conference</th>\n",
       "      <th id=\"T_83b7e_level0_col48\" class=\"col_heading level0 col48\" >char_freq_;</th>\n",
       "      <th id=\"T_83b7e_level0_col49\" class=\"col_heading level0 col49\" >char_freq_(</th>\n",
       "      <th id=\"T_83b7e_level0_col50\" class=\"col_heading level0 col50\" >char_freq_[</th>\n",
       "      <th id=\"T_83b7e_level0_col51\" class=\"col_heading level0 col51\" >char_freq_!</th>\n",
       "      <th id=\"T_83b7e_level0_col52\" class=\"col_heading level0 col52\" >char_freq_$</th>\n",
       "      <th id=\"T_83b7e_level0_col53\" class=\"col_heading level0 col53\" >char_freq_#</th>\n",
       "      <th id=\"T_83b7e_level0_col54\" class=\"col_heading level0 col54\" >capital_run_length_average</th>\n",
       "      <th id=\"T_83b7e_level0_col55\" class=\"col_heading level0 col55\" >capital_run_length_longest</th>\n",
       "      <th id=\"T_83b7e_level0_col56\" class=\"col_heading level0 col56\" >capital_run_length_total</th>\n",
       "    </tr>\n",
       "  </thead>\n",
       "  <tbody>\n",
       "    <tr>\n",
       "      <td id=\"T_83b7e_row0_col0\" class=\"data row0 col0\" >-0.35</td>\n",
       "      <td id=\"T_83b7e_row0_col1\" class=\"data row0 col1\" >-0.16</td>\n",
       "      <td id=\"T_83b7e_row0_col2\" class=\"data row0 col2\" >-0.56</td>\n",
       "      <td id=\"T_83b7e_row0_col3\" class=\"data row0 col3\" >-0.05</td>\n",
       "      <td id=\"T_83b7e_row0_col4\" class=\"data row0 col4\" >-0.46</td>\n",
       "      <td id=\"T_83b7e_row0_col5\" class=\"data row0 col5\" >-0.36</td>\n",
       "      <td id=\"T_83b7e_row0_col6\" class=\"data row0 col6\" >-0.29</td>\n",
       "      <td id=\"T_83b7e_row0_col7\" class=\"data row0 col7\" >-0.26</td>\n",
       "      <td id=\"T_83b7e_row0_col8\" class=\"data row0 col8\" >-0.32</td>\n",
       "      <td id=\"T_83b7e_row0_col9\" class=\"data row0 col9\" >-0.37</td>\n",
       "      <td id=\"T_83b7e_row0_col10\" class=\"data row0 col10\" >-0.30</td>\n",
       "      <td id=\"T_83b7e_row0_col11\" class=\"data row0 col11\" >-0.63</td>\n",
       "      <td id=\"T_83b7e_row0_col12\" class=\"data row0 col12\" >-0.30</td>\n",
       "      <td id=\"T_83b7e_row0_col13\" class=\"data row0 col13\" >-0.17</td>\n",
       "      <td id=\"T_83b7e_row0_col14\" class=\"data row0 col14\" >-0.19</td>\n",
       "      <td id=\"T_83b7e_row0_col15\" class=\"data row0 col15\" >-0.32</td>\n",
       "      <td id=\"T_83b7e_row0_col16\" class=\"data row0 col16\" >-0.31</td>\n",
       "      <td id=\"T_83b7e_row0_col17\" class=\"data row0 col17\" >-0.35</td>\n",
       "      <td id=\"T_83b7e_row0_col18\" class=\"data row0 col18\" >-0.94</td>\n",
       "      <td id=\"T_83b7e_row0_col19\" class=\"data row0 col19\" >-0.16</td>\n",
       "      <td id=\"T_83b7e_row0_col20\" class=\"data row0 col20\" >-0.67</td>\n",
       "      <td id=\"T_83b7e_row0_col21\" class=\"data row0 col21\" >-0.12</td>\n",
       "      <td id=\"T_83b7e_row0_col22\" class=\"data row0 col22\" >-0.29</td>\n",
       "      <td id=\"T_83b7e_row0_col23\" class=\"data row0 col23\" >-0.21</td>\n",
       "      <td id=\"T_83b7e_row0_col24\" class=\"data row0 col24\" >-0.34</td>\n",
       "      <td id=\"T_83b7e_row0_col25\" class=\"data row0 col25\" >-0.30</td>\n",
       "      <td id=\"T_83b7e_row0_col26\" class=\"data row0 col26\" >1.27</td>\n",
       "      <td id=\"T_83b7e_row0_col27\" class=\"data row0 col27\" >-0.23</td>\n",
       "      <td id=\"T_83b7e_row0_col28\" class=\"data row0 col28\" >-0.18</td>\n",
       "      <td id=\"T_83b7e_row0_col29\" class=\"data row0 col29\" >-0.22</td>\n",
       "      <td id=\"T_83b7e_row0_col30\" class=\"data row0 col30\" >-0.16</td>\n",
       "      <td id=\"T_83b7e_row0_col31\" class=\"data row0 col31\" >-0.14</td>\n",
       "      <td id=\"T_83b7e_row0_col32\" class=\"data row0 col32\" >-0.17</td>\n",
       "      <td id=\"T_83b7e_row0_col33\" class=\"data row0 col33\" >-0.15</td>\n",
       "      <td id=\"T_83b7e_row0_col34\" class=\"data row0 col34\" >-0.19</td>\n",
       "      <td id=\"T_83b7e_row0_col35\" class=\"data row0 col35\" >-0.24</td>\n",
       "      <td id=\"T_83b7e_row0_col36\" class=\"data row0 col36\" >-0.32</td>\n",
       "      <td id=\"T_83b7e_row0_col37\" class=\"data row0 col37\" >-0.06</td>\n",
       "      <td id=\"T_83b7e_row0_col38\" class=\"data row0 col38\" >-0.18</td>\n",
       "      <td id=\"T_83b7e_row0_col39\" class=\"data row0 col39\" >-0.18</td>\n",
       "      <td id=\"T_83b7e_row0_col40\" class=\"data row0 col40\" >-0.13</td>\n",
       "      <td id=\"T_83b7e_row0_col41\" class=\"data row0 col41\" >-0.18</td>\n",
       "      <td id=\"T_83b7e_row0_col42\" class=\"data row0 col42\" >-0.21</td>\n",
       "      <td id=\"T_83b7e_row0_col43\" class=\"data row0 col43\" >7.49</td>\n",
       "      <td id=\"T_83b7e_row0_col44\" class=\"data row0 col44\" >4.85</td>\n",
       "      <td id=\"T_83b7e_row0_col45\" class=\"data row0 col45\" >-0.20</td>\n",
       "      <td id=\"T_83b7e_row0_col46\" class=\"data row0 col46\" >-0.07</td>\n",
       "      <td id=\"T_83b7e_row0_col47\" class=\"data row0 col47\" >-0.11</td>\n",
       "      <td id=\"T_83b7e_row0_col48\" class=\"data row0 col48\" >-0.16</td>\n",
       "      <td id=\"T_83b7e_row0_col49\" class=\"data row0 col49\" >-0.48</td>\n",
       "      <td id=\"T_83b7e_row0_col50\" class=\"data row0 col50\" >-0.19</td>\n",
       "      <td id=\"T_83b7e_row0_col51\" class=\"data row0 col51\" >-0.31</td>\n",
       "      <td id=\"T_83b7e_row0_col52\" class=\"data row0 col52\" >-0.30</td>\n",
       "      <td id=\"T_83b7e_row0_col53\" class=\"data row0 col53\" >-0.10</td>\n",
       "      <td id=\"T_83b7e_row0_col54\" class=\"data row0 col54\" >-0.12</td>\n",
       "      <td id=\"T_83b7e_row0_col55\" class=\"data row0 col55\" >-0.24</td>\n",
       "      <td id=\"T_83b7e_row0_col56\" class=\"data row0 col56\" >-0.44</td>\n",
       "    </tr>\n",
       "    <tr>\n",
       "      <td id=\"T_83b7e_row1_col0\" class=\"data row1 col0\" >-0.35</td>\n",
       "      <td id=\"T_83b7e_row1_col1\" class=\"data row1 col1\" >-0.16</td>\n",
       "      <td id=\"T_83b7e_row1_col2\" class=\"data row1 col2\" >-0.56</td>\n",
       "      <td id=\"T_83b7e_row1_col3\" class=\"data row1 col3\" >-0.05</td>\n",
       "      <td id=\"T_83b7e_row1_col4\" class=\"data row1 col4\" >-0.46</td>\n",
       "      <td id=\"T_83b7e_row1_col5\" class=\"data row1 col5\" >1.88</td>\n",
       "      <td id=\"T_83b7e_row1_col6\" class=\"data row1 col6\" >-0.29</td>\n",
       "      <td id=\"T_83b7e_row1_col7\" class=\"data row1 col7\" >-0.26</td>\n",
       "      <td id=\"T_83b7e_row1_col8\" class=\"data row1 col8\" >-0.32</td>\n",
       "      <td id=\"T_83b7e_row1_col9\" class=\"data row1 col9\" >0.57</td>\n",
       "      <td id=\"T_83b7e_row1_col10\" class=\"data row1 col10\" >-0.30</td>\n",
       "      <td id=\"T_83b7e_row1_col11\" class=\"data row1 col11\" >0.06</td>\n",
       "      <td id=\"T_83b7e_row1_col12\" class=\"data row1 col12\" >1.64</td>\n",
       "      <td id=\"T_83b7e_row1_col13\" class=\"data row1 col13\" >-0.17</td>\n",
       "      <td id=\"T_83b7e_row1_col14\" class=\"data row1 col14\" >-0.19</td>\n",
       "      <td id=\"T_83b7e_row1_col15\" class=\"data row1 col15\" >-0.32</td>\n",
       "      <td id=\"T_83b7e_row1_col16\" class=\"data row1 col16\" >-0.31</td>\n",
       "      <td id=\"T_83b7e_row1_col17\" class=\"data row1 col17\" >-0.35</td>\n",
       "      <td id=\"T_83b7e_row1_col18\" class=\"data row1 col18\" >0.76</td>\n",
       "      <td id=\"T_83b7e_row1_col19\" class=\"data row1 col19\" >-0.16</td>\n",
       "      <td id=\"T_83b7e_row1_col20\" class=\"data row1 col20\" >-0.67</td>\n",
       "      <td id=\"T_83b7e_row1_col21\" class=\"data row1 col21\" >-0.12</td>\n",
       "      <td id=\"T_83b7e_row1_col22\" class=\"data row1 col22\" >-0.29</td>\n",
       "      <td id=\"T_83b7e_row1_col23\" class=\"data row1 col23\" >-0.21</td>\n",
       "      <td id=\"T_83b7e_row1_col24\" class=\"data row1 col24\" >-0.34</td>\n",
       "      <td id=\"T_83b7e_row1_col25\" class=\"data row1 col25\" >-0.30</td>\n",
       "      <td id=\"T_83b7e_row1_col26\" class=\"data row1 col26\" >-0.23</td>\n",
       "      <td id=\"T_83b7e_row1_col27\" class=\"data row1 col27\" >-0.23</td>\n",
       "      <td id=\"T_83b7e_row1_col28\" class=\"data row1 col28\" >-0.18</td>\n",
       "      <td id=\"T_83b7e_row1_col29\" class=\"data row1 col29\" >-0.22</td>\n",
       "      <td id=\"T_83b7e_row1_col30\" class=\"data row1 col30\" >-0.16</td>\n",
       "      <td id=\"T_83b7e_row1_col31\" class=\"data row1 col31\" >-0.14</td>\n",
       "      <td id=\"T_83b7e_row1_col32\" class=\"data row1 col32\" >-0.17</td>\n",
       "      <td id=\"T_83b7e_row1_col33\" class=\"data row1 col33\" >-0.15</td>\n",
       "      <td id=\"T_83b7e_row1_col34\" class=\"data row1 col34\" >-0.19</td>\n",
       "      <td id=\"T_83b7e_row1_col35\" class=\"data row1 col35\" >-0.24</td>\n",
       "      <td id=\"T_83b7e_row1_col36\" class=\"data row1 col36\" >1.06</td>\n",
       "      <td id=\"T_83b7e_row1_col37\" class=\"data row1 col37\" >-0.06</td>\n",
       "      <td id=\"T_83b7e_row1_col38\" class=\"data row1 col38\" >-0.18</td>\n",
       "      <td id=\"T_83b7e_row1_col39\" class=\"data row1 col39\" >-0.18</td>\n",
       "      <td id=\"T_83b7e_row1_col40\" class=\"data row1 col40\" >-0.13</td>\n",
       "      <td id=\"T_83b7e_row1_col41\" class=\"data row1 col41\" >-0.18</td>\n",
       "      <td id=\"T_83b7e_row1_col42\" class=\"data row1 col42\" >-0.21</td>\n",
       "      <td id=\"T_83b7e_row1_col43\" class=\"data row1 col43\" >-0.12</td>\n",
       "      <td id=\"T_83b7e_row1_col44\" class=\"data row1 col44\" >0.32</td>\n",
       "      <td id=\"T_83b7e_row1_col45\" class=\"data row1 col45\" >3.18</td>\n",
       "      <td id=\"T_83b7e_row1_col46\" class=\"data row1 col46\" >-0.07</td>\n",
       "      <td id=\"T_83b7e_row1_col47\" class=\"data row1 col47\" >-0.11</td>\n",
       "      <td id=\"T_83b7e_row1_col48\" class=\"data row1 col48\" >0.23</td>\n",
       "      <td id=\"T_83b7e_row1_col49\" class=\"data row1 col49\" >-0.48</td>\n",
       "      <td id=\"T_83b7e_row1_col50\" class=\"data row1 col50\" >-0.19</td>\n",
       "      <td id=\"T_83b7e_row1_col51\" class=\"data row1 col51\" >-0.20</td>\n",
       "      <td id=\"T_83b7e_row1_col52\" class=\"data row1 col52\" >0.45</td>\n",
       "      <td id=\"T_83b7e_row1_col53\" class=\"data row1 col53\" >-0.10</td>\n",
       "      <td id=\"T_83b7e_row1_col54\" class=\"data row1 col54\" >-0.10</td>\n",
       "      <td id=\"T_83b7e_row1_col55\" class=\"data row1 col55\" >-0.18</td>\n",
       "      <td id=\"T_83b7e_row1_col56\" class=\"data row1 col56\" >-0.32</td>\n",
       "    </tr>\n",
       "    <tr>\n",
       "      <td id=\"T_83b7e_row2_col0\" class=\"data row2 col0\" >-0.35</td>\n",
       "      <td id=\"T_83b7e_row2_col1\" class=\"data row2 col1\" >-0.16</td>\n",
       "      <td id=\"T_83b7e_row2_col2\" class=\"data row2 col2\" >-0.56</td>\n",
       "      <td id=\"T_83b7e_row2_col3\" class=\"data row2 col3\" >-0.05</td>\n",
       "      <td id=\"T_83b7e_row2_col4\" class=\"data row2 col4\" >-0.46</td>\n",
       "      <td id=\"T_83b7e_row2_col5\" class=\"data row2 col5\" >-0.36</td>\n",
       "      <td id=\"T_83b7e_row2_col6\" class=\"data row2 col6\" >-0.29</td>\n",
       "      <td id=\"T_83b7e_row2_col7\" class=\"data row2 col7\" >-0.26</td>\n",
       "      <td id=\"T_83b7e_row2_col8\" class=\"data row2 col8\" >3.86</td>\n",
       "      <td id=\"T_83b7e_row2_col9\" class=\"data row2 col9\" >-0.37</td>\n",
       "      <td id=\"T_83b7e_row2_col10\" class=\"data row2 col10\" >-0.30</td>\n",
       "      <td id=\"T_83b7e_row2_col11\" class=\"data row2 col11\" >0.71</td>\n",
       "      <td id=\"T_83b7e_row2_col12\" class=\"data row2 col12\" >3.46</td>\n",
       "      <td id=\"T_83b7e_row2_col13\" class=\"data row2 col13\" >-0.17</td>\n",
       "      <td id=\"T_83b7e_row2_col14\" class=\"data row2 col14\" >-0.19</td>\n",
       "      <td id=\"T_83b7e_row2_col15\" class=\"data row2 col15\" >-0.32</td>\n",
       "      <td id=\"T_83b7e_row2_col16\" class=\"data row2 col16\" >-0.31</td>\n",
       "      <td id=\"T_83b7e_row2_col17\" class=\"data row2 col17\" >-0.35</td>\n",
       "      <td id=\"T_83b7e_row2_col18\" class=\"data row2 col18\" >-0.29</td>\n",
       "      <td id=\"T_83b7e_row2_col19\" class=\"data row2 col19\" >-0.16</td>\n",
       "      <td id=\"T_83b7e_row2_col20\" class=\"data row2 col20\" >0.27</td>\n",
       "      <td id=\"T_83b7e_row2_col21\" class=\"data row2 col21\" >-0.12</td>\n",
       "      <td id=\"T_83b7e_row2_col22\" class=\"data row2 col22\" >-0.29</td>\n",
       "      <td id=\"T_83b7e_row2_col23\" class=\"data row2 col23\" >-0.21</td>\n",
       "      <td id=\"T_83b7e_row2_col24\" class=\"data row2 col24\" >-0.34</td>\n",
       "      <td id=\"T_83b7e_row2_col25\" class=\"data row2 col25\" >-0.30</td>\n",
       "      <td id=\"T_83b7e_row2_col26\" class=\"data row2 col26\" >0.12</td>\n",
       "      <td id=\"T_83b7e_row2_col27\" class=\"data row2 col27\" >-0.23</td>\n",
       "      <td id=\"T_83b7e_row2_col28\" class=\"data row2 col28\" >-0.18</td>\n",
       "      <td id=\"T_83b7e_row2_col29\" class=\"data row2 col29\" >-0.22</td>\n",
       "      <td id=\"T_83b7e_row2_col30\" class=\"data row2 col30\" >-0.16</td>\n",
       "      <td id=\"T_83b7e_row2_col31\" class=\"data row2 col31\" >-0.14</td>\n",
       "      <td id=\"T_83b7e_row2_col32\" class=\"data row2 col32\" >-0.17</td>\n",
       "      <td id=\"T_83b7e_row2_col33\" class=\"data row2 col33\" >-0.15</td>\n",
       "      <td id=\"T_83b7e_row2_col34\" class=\"data row2 col34\" >-0.19</td>\n",
       "      <td id=\"T_83b7e_row2_col35\" class=\"data row2 col35\" >-0.24</td>\n",
       "      <td id=\"T_83b7e_row2_col36\" class=\"data row2 col36\" >-0.32</td>\n",
       "      <td id=\"T_83b7e_row2_col37\" class=\"data row2 col37\" >-0.06</td>\n",
       "      <td id=\"T_83b7e_row2_col38\" class=\"data row2 col38\" >-0.18</td>\n",
       "      <td id=\"T_83b7e_row2_col39\" class=\"data row2 col39\" >-0.18</td>\n",
       "      <td id=\"T_83b7e_row2_col40\" class=\"data row2 col40\" >-0.13</td>\n",
       "      <td id=\"T_83b7e_row2_col41\" class=\"data row2 col41\" >-0.18</td>\n",
       "      <td id=\"T_83b7e_row2_col42\" class=\"data row2 col42\" >-0.21</td>\n",
       "      <td id=\"T_83b7e_row2_col43\" class=\"data row2 col43\" >-0.12</td>\n",
       "      <td id=\"T_83b7e_row2_col44\" class=\"data row2 col44\" >-0.30</td>\n",
       "      <td id=\"T_83b7e_row2_col45\" class=\"data row2 col45\" >-0.20</td>\n",
       "      <td id=\"T_83b7e_row2_col46\" class=\"data row2 col46\" >-0.07</td>\n",
       "      <td id=\"T_83b7e_row2_col47\" class=\"data row2 col47\" >-0.11</td>\n",
       "      <td id=\"T_83b7e_row2_col48\" class=\"data row2 col48\" >-0.16</td>\n",
       "      <td id=\"T_83b7e_row2_col49\" class=\"data row2 col49\" >-0.48</td>\n",
       "      <td id=\"T_83b7e_row2_col50\" class=\"data row2 col50\" >-0.19</td>\n",
       "      <td id=\"T_83b7e_row2_col51\" class=\"data row2 col51\" >-0.31</td>\n",
       "      <td id=\"T_83b7e_row2_col52\" class=\"data row2 col52\" >-0.30</td>\n",
       "      <td id=\"T_83b7e_row2_col53\" class=\"data row2 col53\" >-0.10</td>\n",
       "      <td id=\"T_83b7e_row2_col54\" class=\"data row2 col54\" >-0.12</td>\n",
       "      <td id=\"T_83b7e_row2_col55\" class=\"data row2 col55\" >-0.24</td>\n",
       "      <td id=\"T_83b7e_row2_col56\" class=\"data row2 col56\" >-0.44</td>\n",
       "    </tr>\n",
       "    <tr>\n",
       "      <td id=\"T_83b7e_row3_col0\" class=\"data row3 col0\" >-0.35</td>\n",
       "      <td id=\"T_83b7e_row3_col1\" class=\"data row3 col1\" >-0.16</td>\n",
       "      <td id=\"T_83b7e_row3_col2\" class=\"data row3 col2\" >-0.56</td>\n",
       "      <td id=\"T_83b7e_row3_col3\" class=\"data row3 col3\" >-0.05</td>\n",
       "      <td id=\"T_83b7e_row3_col4\" class=\"data row3 col4\" >-0.46</td>\n",
       "      <td id=\"T_83b7e_row3_col5\" class=\"data row3 col5\" >-0.36</td>\n",
       "      <td id=\"T_83b7e_row3_col6\" class=\"data row3 col6\" >-0.29</td>\n",
       "      <td id=\"T_83b7e_row3_col7\" class=\"data row3 col7\" >-0.26</td>\n",
       "      <td id=\"T_83b7e_row3_col8\" class=\"data row3 col8\" >6.21</td>\n",
       "      <td id=\"T_83b7e_row3_col9\" class=\"data row3 col9\" >-0.37</td>\n",
       "      <td id=\"T_83b7e_row3_col10\" class=\"data row3 col10\" >-0.30</td>\n",
       "      <td id=\"T_83b7e_row3_col11\" class=\"data row3 col11\" >-0.63</td>\n",
       "      <td id=\"T_83b7e_row3_col12\" class=\"data row3 col12\" >-0.30</td>\n",
       "      <td id=\"T_83b7e_row3_col13\" class=\"data row3 col13\" >-0.17</td>\n",
       "      <td id=\"T_83b7e_row3_col14\" class=\"data row3 col14\" >-0.19</td>\n",
       "      <td id=\"T_83b7e_row3_col15\" class=\"data row3 col15\" >-0.32</td>\n",
       "      <td id=\"T_83b7e_row3_col16\" class=\"data row3 col16\" >-0.31</td>\n",
       "      <td id=\"T_83b7e_row3_col17\" class=\"data row3 col17\" >-0.35</td>\n",
       "      <td id=\"T_83b7e_row3_col18\" class=\"data row3 col18\" >3.12</td>\n",
       "      <td id=\"T_83b7e_row3_col19\" class=\"data row3 col19\" >-0.16</td>\n",
       "      <td id=\"T_83b7e_row3_col20\" class=\"data row3 col20\" >0.80</td>\n",
       "      <td id=\"T_83b7e_row3_col21\" class=\"data row3 col21\" >-0.12</td>\n",
       "      <td id=\"T_83b7e_row3_col22\" class=\"data row3 col22\" >-0.29</td>\n",
       "      <td id=\"T_83b7e_row3_col23\" class=\"data row3 col23\" >-0.21</td>\n",
       "      <td id=\"T_83b7e_row3_col24\" class=\"data row3 col24\" >-0.34</td>\n",
       "      <td id=\"T_83b7e_row3_col25\" class=\"data row3 col25\" >-0.30</td>\n",
       "      <td id=\"T_83b7e_row3_col26\" class=\"data row3 col26\" >0.31</td>\n",
       "      <td id=\"T_83b7e_row3_col27\" class=\"data row3 col27\" >-0.23</td>\n",
       "      <td id=\"T_83b7e_row3_col28\" class=\"data row3 col28\" >-0.18</td>\n",
       "      <td id=\"T_83b7e_row3_col29\" class=\"data row3 col29\" >-0.22</td>\n",
       "      <td id=\"T_83b7e_row3_col30\" class=\"data row3 col30\" >-0.16</td>\n",
       "      <td id=\"T_83b7e_row3_col31\" class=\"data row3 col31\" >-0.14</td>\n",
       "      <td id=\"T_83b7e_row3_col32\" class=\"data row3 col32\" >-0.17</td>\n",
       "      <td id=\"T_83b7e_row3_col33\" class=\"data row3 col33\" >-0.15</td>\n",
       "      <td id=\"T_83b7e_row3_col34\" class=\"data row3 col34\" >-0.19</td>\n",
       "      <td id=\"T_83b7e_row3_col35\" class=\"data row3 col35\" >-0.24</td>\n",
       "      <td id=\"T_83b7e_row3_col36\" class=\"data row3 col36\" >-0.32</td>\n",
       "      <td id=\"T_83b7e_row3_col37\" class=\"data row3 col37\" >-0.06</td>\n",
       "      <td id=\"T_83b7e_row3_col38\" class=\"data row3 col38\" >-0.18</td>\n",
       "      <td id=\"T_83b7e_row3_col39\" class=\"data row3 col39\" >-0.18</td>\n",
       "      <td id=\"T_83b7e_row3_col40\" class=\"data row3 col40\" >-0.13</td>\n",
       "      <td id=\"T_83b7e_row3_col41\" class=\"data row3 col41\" >-0.18</td>\n",
       "      <td id=\"T_83b7e_row3_col42\" class=\"data row3 col42\" >-0.21</td>\n",
       "      <td id=\"T_83b7e_row3_col43\" class=\"data row3 col43\" >-0.12</td>\n",
       "      <td id=\"T_83b7e_row3_col44\" class=\"data row3 col44\" >-0.30</td>\n",
       "      <td id=\"T_83b7e_row3_col45\" class=\"data row3 col45\" >-0.20</td>\n",
       "      <td id=\"T_83b7e_row3_col46\" class=\"data row3 col46\" >-0.07</td>\n",
       "      <td id=\"T_83b7e_row3_col47\" class=\"data row3 col47\" >-0.11</td>\n",
       "      <td id=\"T_83b7e_row3_col48\" class=\"data row3 col48\" >-0.16</td>\n",
       "      <td id=\"T_83b7e_row3_col49\" class=\"data row3 col49\" >0.62</td>\n",
       "      <td id=\"T_83b7e_row3_col50\" class=\"data row3 col50\" >-0.19</td>\n",
       "      <td id=\"T_83b7e_row3_col51\" class=\"data row3 col51\" >-0.31</td>\n",
       "      <td id=\"T_83b7e_row3_col52\" class=\"data row3 col52\" >-0.30</td>\n",
       "      <td id=\"T_83b7e_row3_col53\" class=\"data row3 col53\" >-0.10</td>\n",
       "      <td id=\"T_83b7e_row3_col54\" class=\"data row3 col54\" >-0.12</td>\n",
       "      <td id=\"T_83b7e_row3_col55\" class=\"data row3 col55\" >-0.24</td>\n",
       "      <td id=\"T_83b7e_row3_col56\" class=\"data row3 col56\" >-0.44</td>\n",
       "    </tr>\n",
       "    <tr>\n",
       "      <td id=\"T_83b7e_row4_col0\" class=\"data row4 col0\" >-0.35</td>\n",
       "      <td id=\"T_83b7e_row4_col1\" class=\"data row4 col1\" >1.34</td>\n",
       "      <td id=\"T_83b7e_row4_col2\" class=\"data row4 col2\" >-0.56</td>\n",
       "      <td id=\"T_83b7e_row4_col3\" class=\"data row4 col3\" >-0.05</td>\n",
       "      <td id=\"T_83b7e_row4_col4\" class=\"data row4 col4\" >-0.46</td>\n",
       "      <td id=\"T_83b7e_row4_col5\" class=\"data row4 col5\" >-0.36</td>\n",
       "      <td id=\"T_83b7e_row4_col6\" class=\"data row4 col6\" >-0.29</td>\n",
       "      <td id=\"T_83b7e_row4_col7\" class=\"data row4 col7\" >-0.26</td>\n",
       "      <td id=\"T_83b7e_row4_col8\" class=\"data row4 col8\" >-0.32</td>\n",
       "      <td id=\"T_83b7e_row4_col9\" class=\"data row4 col9\" >1.09</td>\n",
       "      <td id=\"T_83b7e_row4_col10\" class=\"data row4 col10\" >-0.30</td>\n",
       "      <td id=\"T_83b7e_row4_col11\" class=\"data row4 col11\" >-0.63</td>\n",
       "      <td id=\"T_83b7e_row4_col12\" class=\"data row4 col12\" >-0.30</td>\n",
       "      <td id=\"T_83b7e_row4_col13\" class=\"data row4 col13\" >-0.17</td>\n",
       "      <td id=\"T_83b7e_row4_col14\" class=\"data row4 col14\" >-0.19</td>\n",
       "      <td id=\"T_83b7e_row4_col15\" class=\"data row4 col15\" >-0.32</td>\n",
       "      <td id=\"T_83b7e_row4_col16\" class=\"data row4 col16\" >-0.31</td>\n",
       "      <td id=\"T_83b7e_row4_col17\" class=\"data row4 col17\" >-0.35</td>\n",
       "      <td id=\"T_83b7e_row4_col18\" class=\"data row4 col18\" >-0.94</td>\n",
       "      <td id=\"T_83b7e_row4_col19\" class=\"data row4 col19\" >-0.16</td>\n",
       "      <td id=\"T_83b7e_row4_col20\" class=\"data row4 col20\" >-0.67</td>\n",
       "      <td id=\"T_83b7e_row4_col21\" class=\"data row4 col21\" >-0.12</td>\n",
       "      <td id=\"T_83b7e_row4_col22\" class=\"data row4 col22\" >-0.29</td>\n",
       "      <td id=\"T_83b7e_row4_col23\" class=\"data row4 col23\" >-0.21</td>\n",
       "      <td id=\"T_83b7e_row4_col24\" class=\"data row4 col24\" >1.43</td>\n",
       "      <td id=\"T_83b7e_row4_col25\" class=\"data row4 col25\" >1.80</td>\n",
       "      <td id=\"T_83b7e_row4_col26\" class=\"data row4 col26\" >0.33</td>\n",
       "      <td id=\"T_83b7e_row4_col27\" class=\"data row4 col27\" >1.44</td>\n",
       "      <td id=\"T_83b7e_row4_col28\" class=\"data row4 col28\" >1.47</td>\n",
       "      <td id=\"T_83b7e_row4_col29\" class=\"data row4 col29\" >1.75</td>\n",
       "      <td id=\"T_83b7e_row4_col30\" class=\"data row4 col30\" >2.03</td>\n",
       "      <td id=\"T_83b7e_row4_col31\" class=\"data row4 col31\" >2.53</td>\n",
       "      <td id=\"T_83b7e_row4_col32\" class=\"data row4 col32\" >-0.17</td>\n",
       "      <td id=\"T_83b7e_row4_col33\" class=\"data row4 col33\" >2.52</td>\n",
       "      <td id=\"T_83b7e_row4_col34\" class=\"data row4 col34\" >1.43</td>\n",
       "      <td id=\"T_83b7e_row4_col35\" class=\"data row4 col35\" >2.14</td>\n",
       "      <td id=\"T_83b7e_row4_col36\" class=\"data row4 col36\" >1.82</td>\n",
       "      <td id=\"T_83b7e_row4_col37\" class=\"data row4 col37\" >-0.06</td>\n",
       "      <td id=\"T_83b7e_row4_col38\" class=\"data row4 col38\" >2.03</td>\n",
       "      <td id=\"T_83b7e_row4_col39\" class=\"data row4 col39\" >2.34</td>\n",
       "      <td id=\"T_83b7e_row4_col40\" class=\"data row4 col40\" >-0.13</td>\n",
       "      <td id=\"T_83b7e_row4_col41\" class=\"data row4 col41\" >1.02</td>\n",
       "      <td id=\"T_83b7e_row4_col42\" class=\"data row4 col42\" >3.90</td>\n",
       "      <td id=\"T_83b7e_row4_col43\" class=\"data row4 col43\" >-0.12</td>\n",
       "      <td id=\"T_83b7e_row4_col44\" class=\"data row4 col44\" >0.66</td>\n",
       "      <td id=\"T_83b7e_row4_col45\" class=\"data row4 col45\" >-0.20</td>\n",
       "      <td id=\"T_83b7e_row4_col46\" class=\"data row4 col46\" >-0.07</td>\n",
       "      <td id=\"T_83b7e_row4_col47\" class=\"data row4 col47\" >-0.11</td>\n",
       "      <td id=\"T_83b7e_row4_col48\" class=\"data row4 col48\" >-0.16</td>\n",
       "      <td id=\"T_83b7e_row4_col49\" class=\"data row4 col49\" >1.11</td>\n",
       "      <td id=\"T_83b7e_row4_col50\" class=\"data row4 col50\" >1.67</td>\n",
       "      <td id=\"T_83b7e_row4_col51\" class=\"data row4 col51\" >-0.31</td>\n",
       "      <td id=\"T_83b7e_row4_col52\" class=\"data row4 col52\" >-0.30</td>\n",
       "      <td id=\"T_83b7e_row4_col53\" class=\"data row4 col53\" >-0.10</td>\n",
       "      <td id=\"T_83b7e_row4_col54\" class=\"data row4 col54\" >-0.10</td>\n",
       "      <td id=\"T_83b7e_row4_col55\" class=\"data row4 col55\" >-0.19</td>\n",
       "      <td id=\"T_83b7e_row4_col56\" class=\"data row4 col56\" >-0.32</td>\n",
       "    </tr>\n",
       "    <tr>\n",
       "      <td id=\"T_83b7e_row5_col0\" class=\"data row5 col0\" >-0.35</td>\n",
       "      <td id=\"T_83b7e_row5_col1\" class=\"data row5 col1\" >-0.16</td>\n",
       "      <td id=\"T_83b7e_row5_col2\" class=\"data row5 col2\" >-0.56</td>\n",
       "      <td id=\"T_83b7e_row5_col3\" class=\"data row5 col3\" >-0.05</td>\n",
       "      <td id=\"T_83b7e_row5_col4\" class=\"data row5 col4\" >-0.46</td>\n",
       "      <td id=\"T_83b7e_row5_col5\" class=\"data row5 col5\" >-0.36</td>\n",
       "      <td id=\"T_83b7e_row5_col6\" class=\"data row5 col6\" >-0.29</td>\n",
       "      <td id=\"T_83b7e_row5_col7\" class=\"data row5 col7\" >-0.26</td>\n",
       "      <td id=\"T_83b7e_row5_col8\" class=\"data row5 col8\" >-0.32</td>\n",
       "      <td id=\"T_83b7e_row5_col9\" class=\"data row5 col9\" >-0.37</td>\n",
       "      <td id=\"T_83b7e_row5_col10\" class=\"data row5 col10\" >-0.30</td>\n",
       "      <td id=\"T_83b7e_row5_col11\" class=\"data row5 col11\" >-0.63</td>\n",
       "      <td id=\"T_83b7e_row5_col12\" class=\"data row5 col12\" >-0.30</td>\n",
       "      <td id=\"T_83b7e_row5_col13\" class=\"data row5 col13\" >-0.17</td>\n",
       "      <td id=\"T_83b7e_row5_col14\" class=\"data row5 col14\" >-0.19</td>\n",
       "      <td id=\"T_83b7e_row5_col15\" class=\"data row5 col15\" >-0.32</td>\n",
       "      <td id=\"T_83b7e_row5_col16\" class=\"data row5 col16\" >-0.31</td>\n",
       "      <td id=\"T_83b7e_row5_col17\" class=\"data row5 col17\" >-0.35</td>\n",
       "      <td id=\"T_83b7e_row5_col18\" class=\"data row5 col18\" >-0.94</td>\n",
       "      <td id=\"T_83b7e_row5_col19\" class=\"data row5 col19\" >-0.16</td>\n",
       "      <td id=\"T_83b7e_row5_col20\" class=\"data row5 col20\" >-0.67</td>\n",
       "      <td id=\"T_83b7e_row5_col21\" class=\"data row5 col21\" >-0.12</td>\n",
       "      <td id=\"T_83b7e_row5_col22\" class=\"data row5 col22\" >-0.29</td>\n",
       "      <td id=\"T_83b7e_row5_col23\" class=\"data row5 col23\" >-0.21</td>\n",
       "      <td id=\"T_83b7e_row5_col24\" class=\"data row5 col24\" >-0.34</td>\n",
       "      <td id=\"T_83b7e_row5_col25\" class=\"data row5 col25\" >-0.30</td>\n",
       "      <td id=\"T_83b7e_row5_col26\" class=\"data row5 col26\" >-0.23</td>\n",
       "      <td id=\"T_83b7e_row5_col27\" class=\"data row5 col27\" >-0.23</td>\n",
       "      <td id=\"T_83b7e_row5_col28\" class=\"data row5 col28\" >-0.18</td>\n",
       "      <td id=\"T_83b7e_row5_col29\" class=\"data row5 col29\" >-0.22</td>\n",
       "      <td id=\"T_83b7e_row5_col30\" class=\"data row5 col30\" >-0.16</td>\n",
       "      <td id=\"T_83b7e_row5_col31\" class=\"data row5 col31\" >-0.14</td>\n",
       "      <td id=\"T_83b7e_row5_col32\" class=\"data row5 col32\" >-0.17</td>\n",
       "      <td id=\"T_83b7e_row5_col33\" class=\"data row5 col33\" >-0.15</td>\n",
       "      <td id=\"T_83b7e_row5_col34\" class=\"data row5 col34\" >-0.19</td>\n",
       "      <td id=\"T_83b7e_row5_col35\" class=\"data row5 col35\" >-0.24</td>\n",
       "      <td id=\"T_83b7e_row5_col36\" class=\"data row5 col36\" >-0.32</td>\n",
       "      <td id=\"T_83b7e_row5_col37\" class=\"data row5 col37\" >-0.06</td>\n",
       "      <td id=\"T_83b7e_row5_col38\" class=\"data row5 col38\" >8.64</td>\n",
       "      <td id=\"T_83b7e_row5_col39\" class=\"data row5 col39\" >-0.18</td>\n",
       "      <td id=\"T_83b7e_row5_col40\" class=\"data row5 col40\" >-0.13</td>\n",
       "      <td id=\"T_83b7e_row5_col41\" class=\"data row5 col41\" >4.57</td>\n",
       "      <td id=\"T_83b7e_row5_col42\" class=\"data row5 col42\" >-0.21</td>\n",
       "      <td id=\"T_83b7e_row5_col43\" class=\"data row5 col43\" >-0.12</td>\n",
       "      <td id=\"T_83b7e_row5_col44\" class=\"data row5 col44\" >3.51</td>\n",
       "      <td id=\"T_83b7e_row5_col45\" class=\"data row5 col45\" >-0.20</td>\n",
       "      <td id=\"T_83b7e_row5_col46\" class=\"data row5 col46\" >-0.07</td>\n",
       "      <td id=\"T_83b7e_row5_col47\" class=\"data row5 col47\" >-0.11</td>\n",
       "      <td id=\"T_83b7e_row5_col48\" class=\"data row5 col48\" >-0.16</td>\n",
       "      <td id=\"T_83b7e_row5_col49\" class=\"data row5 col49\" >-0.48</td>\n",
       "      <td id=\"T_83b7e_row5_col50\" class=\"data row5 col50\" >8.23</td>\n",
       "      <td id=\"T_83b7e_row5_col51\" class=\"data row5 col51\" >-0.31</td>\n",
       "      <td id=\"T_83b7e_row5_col52\" class=\"data row5 col52\" >-0.30</td>\n",
       "      <td id=\"T_83b7e_row5_col53\" class=\"data row5 col53\" >-0.10</td>\n",
       "      <td id=\"T_83b7e_row5_col54\" class=\"data row5 col54\" >-0.10</td>\n",
       "      <td id=\"T_83b7e_row5_col55\" class=\"data row5 col55\" >-0.23</td>\n",
       "      <td id=\"T_83b7e_row5_col56\" class=\"data row5 col56\" >-0.43</td>\n",
       "    </tr>\n",
       "    <tr>\n",
       "      <td id=\"T_83b7e_row6_col0\" class=\"data row6 col0\" >-0.35</td>\n",
       "      <td id=\"T_83b7e_row6_col1\" class=\"data row6 col1\" >-0.16</td>\n",
       "      <td id=\"T_83b7e_row6_col2\" class=\"data row6 col2\" >-0.56</td>\n",
       "      <td id=\"T_83b7e_row6_col3\" class=\"data row6 col3\" >-0.05</td>\n",
       "      <td id=\"T_83b7e_row6_col4\" class=\"data row6 col4\" >-0.46</td>\n",
       "      <td id=\"T_83b7e_row6_col5\" class=\"data row6 col5\" >-0.36</td>\n",
       "      <td id=\"T_83b7e_row6_col6\" class=\"data row6 col6\" >-0.29</td>\n",
       "      <td id=\"T_83b7e_row6_col7\" class=\"data row6 col7\" >-0.26</td>\n",
       "      <td id=\"T_83b7e_row6_col8\" class=\"data row6 col8\" >-0.32</td>\n",
       "      <td id=\"T_83b7e_row6_col9\" class=\"data row6 col9\" >-0.37</td>\n",
       "      <td id=\"T_83b7e_row6_col10\" class=\"data row6 col10\" >-0.30</td>\n",
       "      <td id=\"T_83b7e_row6_col11\" class=\"data row6 col11\" >4.65</td>\n",
       "      <td id=\"T_83b7e_row6_col12\" class=\"data row6 col12\" >-0.30</td>\n",
       "      <td id=\"T_83b7e_row6_col13\" class=\"data row6 col13\" >-0.17</td>\n",
       "      <td id=\"T_83b7e_row6_col14\" class=\"data row6 col14\" >-0.19</td>\n",
       "      <td id=\"T_83b7e_row6_col15\" class=\"data row6 col15\" >-0.32</td>\n",
       "      <td id=\"T_83b7e_row6_col16\" class=\"data row6 col16\" >1.64</td>\n",
       "      <td id=\"T_83b7e_row6_col17\" class=\"data row6 col17\" >-0.35</td>\n",
       "      <td id=\"T_83b7e_row6_col18\" class=\"data row6 col18\" >-0.94</td>\n",
       "      <td id=\"T_83b7e_row6_col19\" class=\"data row6 col19\" >-0.16</td>\n",
       "      <td id=\"T_83b7e_row6_col20\" class=\"data row6 col20\" >0.07</td>\n",
       "      <td id=\"T_83b7e_row6_col21\" class=\"data row6 col21\" >-0.12</td>\n",
       "      <td id=\"T_83b7e_row6_col22\" class=\"data row6 col22\" >-0.29</td>\n",
       "      <td id=\"T_83b7e_row6_col23\" class=\"data row6 col23\" >-0.21</td>\n",
       "      <td id=\"T_83b7e_row6_col24\" class=\"data row6 col24\" >0.82</td>\n",
       "      <td id=\"T_83b7e_row6_col25\" class=\"data row6 col25\" >-0.30</td>\n",
       "      <td id=\"T_83b7e_row6_col26\" class=\"data row6 col26\" >-0.23</td>\n",
       "      <td id=\"T_83b7e_row6_col27\" class=\"data row6 col27\" >-0.23</td>\n",
       "      <td id=\"T_83b7e_row6_col28\" class=\"data row6 col28\" >-0.18</td>\n",
       "      <td id=\"T_83b7e_row6_col29\" class=\"data row6 col29\" >1.71</td>\n",
       "      <td id=\"T_83b7e_row6_col30\" class=\"data row6 col30\" >-0.16</td>\n",
       "      <td id=\"T_83b7e_row6_col31\" class=\"data row6 col31\" >-0.14</td>\n",
       "      <td id=\"T_83b7e_row6_col32\" class=\"data row6 col32\" >-0.17</td>\n",
       "      <td id=\"T_83b7e_row6_col33\" class=\"data row6 col33\" >-0.15</td>\n",
       "      <td id=\"T_83b7e_row6_col34\" class=\"data row6 col34\" >-0.19</td>\n",
       "      <td id=\"T_83b7e_row6_col35\" class=\"data row6 col35\" >2.09</td>\n",
       "      <td id=\"T_83b7e_row6_col36\" class=\"data row6 col36\" >-0.32</td>\n",
       "      <td id=\"T_83b7e_row6_col37\" class=\"data row6 col37\" >-0.06</td>\n",
       "      <td id=\"T_83b7e_row6_col38\" class=\"data row6 col38\" >1.99</td>\n",
       "      <td id=\"T_83b7e_row6_col39\" class=\"data row6 col39\" >-0.18</td>\n",
       "      <td id=\"T_83b7e_row6_col40\" class=\"data row6 col40\" >-0.13</td>\n",
       "      <td id=\"T_83b7e_row6_col41\" class=\"data row6 col41\" >-0.18</td>\n",
       "      <td id=\"T_83b7e_row6_col42\" class=\"data row6 col42\" >-0.21</td>\n",
       "      <td id=\"T_83b7e_row6_col43\" class=\"data row6 col43\" >-0.12</td>\n",
       "      <td id=\"T_83b7e_row6_col44\" class=\"data row6 col44\" >-0.30</td>\n",
       "      <td id=\"T_83b7e_row6_col45\" class=\"data row6 col45\" >-0.20</td>\n",
       "      <td id=\"T_83b7e_row6_col46\" class=\"data row6 col46\" >-0.07</td>\n",
       "      <td id=\"T_83b7e_row6_col47\" class=\"data row6 col47\" >-0.11</td>\n",
       "      <td id=\"T_83b7e_row6_col48\" class=\"data row6 col48\" >-0.16</td>\n",
       "      <td id=\"T_83b7e_row6_col49\" class=\"data row6 col49\" >-0.05</td>\n",
       "      <td id=\"T_83b7e_row6_col50\" class=\"data row6 col50\" >-0.19</td>\n",
       "      <td id=\"T_83b7e_row6_col51\" class=\"data row6 col51\" >-0.02</td>\n",
       "      <td id=\"T_83b7e_row6_col52\" class=\"data row6 col52\" >-0.30</td>\n",
       "      <td id=\"T_83b7e_row6_col53\" class=\"data row6 col53\" >-0.10</td>\n",
       "      <td id=\"T_83b7e_row6_col54\" class=\"data row6 col54\" >-0.08</td>\n",
       "      <td id=\"T_83b7e_row6_col55\" class=\"data row6 col55\" >-0.19</td>\n",
       "      <td id=\"T_83b7e_row6_col56\" class=\"data row6 col56\" >-0.35</td>\n",
       "    </tr>\n",
       "    <tr>\n",
       "      <td id=\"T_83b7e_row7_col0\" class=\"data row7 col0\" >-0.35</td>\n",
       "      <td id=\"T_83b7e_row7_col1\" class=\"data row7 col1\" >0.47</td>\n",
       "      <td id=\"T_83b7e_row7_col2\" class=\"data row7 col2\" >2.51</td>\n",
       "      <td id=\"T_83b7e_row7_col3\" class=\"data row7 col3\" >-0.05</td>\n",
       "      <td id=\"T_83b7e_row7_col4\" class=\"data row7 col4\" >-0.46</td>\n",
       "      <td id=\"T_83b7e_row7_col5\" class=\"data row7 col5\" >-0.36</td>\n",
       "      <td id=\"T_83b7e_row7_col6\" class=\"data row7 col6\" >-0.29</td>\n",
       "      <td id=\"T_83b7e_row7_col7\" class=\"data row7 col7\" >-0.26</td>\n",
       "      <td id=\"T_83b7e_row7_col8\" class=\"data row7 col8\" >-0.32</td>\n",
       "      <td id=\"T_83b7e_row7_col9\" class=\"data row7 col9\" >-0.37</td>\n",
       "      <td id=\"T_83b7e_row7_col10\" class=\"data row7 col10\" >-0.30</td>\n",
       "      <td id=\"T_83b7e_row7_col11\" class=\"data row7 col11\" >0.27</td>\n",
       "      <td id=\"T_83b7e_row7_col12\" class=\"data row7 col12\" >-0.30</td>\n",
       "      <td id=\"T_83b7e_row7_col13\" class=\"data row7 col13\" >-0.17</td>\n",
       "      <td id=\"T_83b7e_row7_col14\" class=\"data row7 col14\" >-0.19</td>\n",
       "      <td id=\"T_83b7e_row7_col15\" class=\"data row7 col15\" >-0.32</td>\n",
       "      <td id=\"T_83b7e_row7_col16\" class=\"data row7 col16\" >-0.31</td>\n",
       "      <td id=\"T_83b7e_row7_col17\" class=\"data row7 col17\" >2.65</td>\n",
       "      <td id=\"T_83b7e_row7_col18\" class=\"data row7 col18\" >2.11</td>\n",
       "      <td id=\"T_83b7e_row7_col19\" class=\"data row7 col19\" >-0.16</td>\n",
       "      <td id=\"T_83b7e_row7_col20\" class=\"data row7 col20\" >2.50</td>\n",
       "      <td id=\"T_83b7e_row7_col21\" class=\"data row7 col21\" >-0.12</td>\n",
       "      <td id=\"T_83b7e_row7_col22\" class=\"data row7 col22\" >-0.29</td>\n",
       "      <td id=\"T_83b7e_row7_col23\" class=\"data row7 col23\" >-0.21</td>\n",
       "      <td id=\"T_83b7e_row7_col24\" class=\"data row7 col24\" >-0.34</td>\n",
       "      <td id=\"T_83b7e_row7_col25\" class=\"data row7 col25\" >-0.30</td>\n",
       "      <td id=\"T_83b7e_row7_col26\" class=\"data row7 col26\" >-0.23</td>\n",
       "      <td id=\"T_83b7e_row7_col27\" class=\"data row7 col27\" >-0.23</td>\n",
       "      <td id=\"T_83b7e_row7_col28\" class=\"data row7 col28\" >-0.18</td>\n",
       "      <td id=\"T_83b7e_row7_col29\" class=\"data row7 col29\" >-0.22</td>\n",
       "      <td id=\"T_83b7e_row7_col30\" class=\"data row7 col30\" >-0.16</td>\n",
       "      <td id=\"T_83b7e_row7_col31\" class=\"data row7 col31\" >-0.14</td>\n",
       "      <td id=\"T_83b7e_row7_col32\" class=\"data row7 col32\" >-0.17</td>\n",
       "      <td id=\"T_83b7e_row7_col33\" class=\"data row7 col33\" >-0.15</td>\n",
       "      <td id=\"T_83b7e_row7_col34\" class=\"data row7 col34\" >-0.19</td>\n",
       "      <td id=\"T_83b7e_row7_col35\" class=\"data row7 col35\" >-0.24</td>\n",
       "      <td id=\"T_83b7e_row7_col36\" class=\"data row7 col36\" >-0.32</td>\n",
       "      <td id=\"T_83b7e_row7_col37\" class=\"data row7 col37\" >-0.06</td>\n",
       "      <td id=\"T_83b7e_row7_col38\" class=\"data row7 col38\" >-0.18</td>\n",
       "      <td id=\"T_83b7e_row7_col39\" class=\"data row7 col39\" >-0.18</td>\n",
       "      <td id=\"T_83b7e_row7_col40\" class=\"data row7 col40\" >-0.13</td>\n",
       "      <td id=\"T_83b7e_row7_col41\" class=\"data row7 col41\" >-0.18</td>\n",
       "      <td id=\"T_83b7e_row7_col42\" class=\"data row7 col42\" >-0.21</td>\n",
       "      <td id=\"T_83b7e_row7_col43\" class=\"data row7 col43\" >-0.12</td>\n",
       "      <td id=\"T_83b7e_row7_col44\" class=\"data row7 col44\" >-0.30</td>\n",
       "      <td id=\"T_83b7e_row7_col45\" class=\"data row7 col45\" >-0.20</td>\n",
       "      <td id=\"T_83b7e_row7_col46\" class=\"data row7 col46\" >-0.07</td>\n",
       "      <td id=\"T_83b7e_row7_col47\" class=\"data row7 col47\" >-0.11</td>\n",
       "      <td id=\"T_83b7e_row7_col48\" class=\"data row7 col48\" >-0.16</td>\n",
       "      <td id=\"T_83b7e_row7_col49\" class=\"data row7 col49\" >-0.01</td>\n",
       "      <td id=\"T_83b7e_row7_col50\" class=\"data row7 col50\" >-0.19</td>\n",
       "      <td id=\"T_83b7e_row7_col51\" class=\"data row7 col51\" >0.01</td>\n",
       "      <td id=\"T_83b7e_row7_col52\" class=\"data row7 col52\" >-0.30</td>\n",
       "      <td id=\"T_83b7e_row7_col53\" class=\"data row7 col53\" >-0.10</td>\n",
       "      <td id=\"T_83b7e_row7_col54\" class=\"data row7 col54\" >-0.11</td>\n",
       "      <td id=\"T_83b7e_row7_col55\" class=\"data row7 col55\" >-0.21</td>\n",
       "      <td id=\"T_83b7e_row7_col56\" class=\"data row7 col56\" >-0.39</td>\n",
       "    </tr>\n",
       "    <tr>\n",
       "      <td id=\"T_83b7e_row8_col0\" class=\"data row8 col0\" >-0.35</td>\n",
       "      <td id=\"T_83b7e_row8_col1\" class=\"data row8 col1\" >11.39</td>\n",
       "      <td id=\"T_83b7e_row8_col2\" class=\"data row8 col2\" >-0.56</td>\n",
       "      <td id=\"T_83b7e_row8_col3\" class=\"data row8 col3\" >-0.05</td>\n",
       "      <td id=\"T_83b7e_row8_col4\" class=\"data row8 col4\" >-0.46</td>\n",
       "      <td id=\"T_83b7e_row8_col5\" class=\"data row8 col5\" >-0.36</td>\n",
       "      <td id=\"T_83b7e_row8_col6\" class=\"data row8 col6\" >-0.29</td>\n",
       "      <td id=\"T_83b7e_row8_col7\" class=\"data row8 col7\" >-0.26</td>\n",
       "      <td id=\"T_83b7e_row8_col8\" class=\"data row8 col8\" >-0.32</td>\n",
       "      <td id=\"T_83b7e_row8_col9\" class=\"data row8 col9\" >-0.37</td>\n",
       "      <td id=\"T_83b7e_row8_col10\" class=\"data row8 col10\" >-0.30</td>\n",
       "      <td id=\"T_83b7e_row8_col11\" class=\"data row8 col11\" >-0.63</td>\n",
       "      <td id=\"T_83b7e_row8_col12\" class=\"data row8 col12\" >-0.30</td>\n",
       "      <td id=\"T_83b7e_row8_col13\" class=\"data row8 col13\" >-0.17</td>\n",
       "      <td id=\"T_83b7e_row8_col14\" class=\"data row8 col14\" >-0.19</td>\n",
       "      <td id=\"T_83b7e_row8_col15\" class=\"data row8 col15\" >-0.32</td>\n",
       "      <td id=\"T_83b7e_row8_col16\" class=\"data row8 col16\" >-0.31</td>\n",
       "      <td id=\"T_83b7e_row8_col17\" class=\"data row8 col17\" >-0.35</td>\n",
       "      <td id=\"T_83b7e_row8_col18\" class=\"data row8 col18\" >-0.94</td>\n",
       "      <td id=\"T_83b7e_row8_col19\" class=\"data row8 col19\" >-0.16</td>\n",
       "      <td id=\"T_83b7e_row8_col20\" class=\"data row8 col20\" >-0.67</td>\n",
       "      <td id=\"T_83b7e_row8_col21\" class=\"data row8 col21\" >-0.12</td>\n",
       "      <td id=\"T_83b7e_row8_col22\" class=\"data row8 col22\" >-0.29</td>\n",
       "      <td id=\"T_83b7e_row8_col23\" class=\"data row8 col23\" >-0.21</td>\n",
       "      <td id=\"T_83b7e_row8_col24\" class=\"data row8 col24\" >-0.34</td>\n",
       "      <td id=\"T_83b7e_row8_col25\" class=\"data row8 col25\" >-0.30</td>\n",
       "      <td id=\"T_83b7e_row8_col26\" class=\"data row8 col26\" >-0.23</td>\n",
       "      <td id=\"T_83b7e_row8_col27\" class=\"data row8 col27\" >-0.23</td>\n",
       "      <td id=\"T_83b7e_row8_col28\" class=\"data row8 col28\" >-0.18</td>\n",
       "      <td id=\"T_83b7e_row8_col29\" class=\"data row8 col29\" >-0.22</td>\n",
       "      <td id=\"T_83b7e_row8_col30\" class=\"data row8 col30\" >-0.16</td>\n",
       "      <td id=\"T_83b7e_row8_col31\" class=\"data row8 col31\" >-0.14</td>\n",
       "      <td id=\"T_83b7e_row8_col32\" class=\"data row8 col32\" >-0.17</td>\n",
       "      <td id=\"T_83b7e_row8_col33\" class=\"data row8 col33\" >-0.15</td>\n",
       "      <td id=\"T_83b7e_row8_col34\" class=\"data row8 col34\" >-0.19</td>\n",
       "      <td id=\"T_83b7e_row8_col35\" class=\"data row8 col35\" >-0.24</td>\n",
       "      <td id=\"T_83b7e_row8_col36\" class=\"data row8 col36\" >-0.32</td>\n",
       "      <td id=\"T_83b7e_row8_col37\" class=\"data row8 col37\" >-0.06</td>\n",
       "      <td id=\"T_83b7e_row8_col38\" class=\"data row8 col38\" >-0.18</td>\n",
       "      <td id=\"T_83b7e_row8_col39\" class=\"data row8 col39\" >-0.18</td>\n",
       "      <td id=\"T_83b7e_row8_col40\" class=\"data row8 col40\" >-0.13</td>\n",
       "      <td id=\"T_83b7e_row8_col41\" class=\"data row8 col41\" >-0.18</td>\n",
       "      <td id=\"T_83b7e_row8_col42\" class=\"data row8 col42\" >-0.21</td>\n",
       "      <td id=\"T_83b7e_row8_col43\" class=\"data row8 col43\" >-0.12</td>\n",
       "      <td id=\"T_83b7e_row8_col44\" class=\"data row8 col44\" >-0.30</td>\n",
       "      <td id=\"T_83b7e_row8_col45\" class=\"data row8 col45\" >-0.20</td>\n",
       "      <td id=\"T_83b7e_row8_col46\" class=\"data row8 col46\" >-0.07</td>\n",
       "      <td id=\"T_83b7e_row8_col47\" class=\"data row8 col47\" >-0.11</td>\n",
       "      <td id=\"T_83b7e_row8_col48\" class=\"data row8 col48\" >-0.16</td>\n",
       "      <td id=\"T_83b7e_row8_col49\" class=\"data row8 col49\" >-0.48</td>\n",
       "      <td id=\"T_83b7e_row8_col50\" class=\"data row8 col50\" >-0.19</td>\n",
       "      <td id=\"T_83b7e_row8_col51\" class=\"data row8 col51\" >-0.31</td>\n",
       "      <td id=\"T_83b7e_row8_col52\" class=\"data row8 col52\" >-0.30</td>\n",
       "      <td id=\"T_83b7e_row8_col53\" class=\"data row8 col53\" >-0.10</td>\n",
       "      <td id=\"T_83b7e_row8_col54\" class=\"data row8 col54\" >-0.10</td>\n",
       "      <td id=\"T_83b7e_row8_col55\" class=\"data row8 col55\" >-0.23</td>\n",
       "      <td id=\"T_83b7e_row8_col56\" class=\"data row8 col56\" >-0.44</td>\n",
       "    </tr>\n",
       "    <tr>\n",
       "      <td id=\"T_83b7e_row9_col0\" class=\"data row9 col0\" >-0.35</td>\n",
       "      <td id=\"T_83b7e_row9_col1\" class=\"data row9 col1\" >-0.16</td>\n",
       "      <td id=\"T_83b7e_row9_col2\" class=\"data row9 col2\" >0.09</td>\n",
       "      <td id=\"T_83b7e_row9_col3\" class=\"data row9 col3\" >-0.05</td>\n",
       "      <td id=\"T_83b7e_row9_col4\" class=\"data row9 col4\" >0.52</td>\n",
       "      <td id=\"T_83b7e_row9_col5\" class=\"data row9 col5\" >-0.36</td>\n",
       "      <td id=\"T_83b7e_row9_col6\" class=\"data row9 col6\" >-0.29</td>\n",
       "      <td id=\"T_83b7e_row9_col7\" class=\"data row9 col7\" >0.56</td>\n",
       "      <td id=\"T_83b7e_row9_col8\" class=\"data row9 col8\" >-0.32</td>\n",
       "      <td id=\"T_83b7e_row9_col9\" class=\"data row9 col9\" >1.70</td>\n",
       "      <td id=\"T_83b7e_row9_col10\" class=\"data row9 col10\" >-0.30</td>\n",
       "      <td id=\"T_83b7e_row9_col11\" class=\"data row9 col11\" >-0.63</td>\n",
       "      <td id=\"T_83b7e_row9_col12\" class=\"data row9 col12\" >-0.30</td>\n",
       "      <td id=\"T_83b7e_row9_col13\" class=\"data row9 col13\" >0.81</td>\n",
       "      <td id=\"T_83b7e_row9_col14\" class=\"data row9 col14\" >-0.19</td>\n",
       "      <td id=\"T_83b7e_row9_col15\" class=\"data row9 col15\" >-0.32</td>\n",
       "      <td id=\"T_83b7e_row9_col16\" class=\"data row9 col16\" >0.39</td>\n",
       "      <td id=\"T_83b7e_row9_col17\" class=\"data row9 col17\" >-0.35</td>\n",
       "      <td id=\"T_83b7e_row9_col18\" class=\"data row9 col18\" >-0.20</td>\n",
       "      <td id=\"T_83b7e_row9_col19\" class=\"data row9 col19\" >-0.16</td>\n",
       "      <td id=\"T_83b7e_row9_col20\" class=\"data row9 col20\" >-0.40</td>\n",
       "      <td id=\"T_83b7e_row9_col21\" class=\"data row9 col21\" >-0.12</td>\n",
       "      <td id=\"T_83b7e_row9_col22\" class=\"data row9 col22\" >-0.29</td>\n",
       "      <td id=\"T_83b7e_row9_col23\" class=\"data row9 col23\" >-0.21</td>\n",
       "      <td id=\"T_83b7e_row9_col24\" class=\"data row9 col24\" >0.91</td>\n",
       "      <td id=\"T_83b7e_row9_col25\" class=\"data row9 col25\" >0.44</td>\n",
       "      <td id=\"T_83b7e_row9_col26\" class=\"data row9 col26\" >-0.03</td>\n",
       "      <td id=\"T_83b7e_row9_col27\" class=\"data row9 col27\" >-0.23</td>\n",
       "      <td id=\"T_83b7e_row9_col28\" class=\"data row9 col28\" >-0.18</td>\n",
       "      <td id=\"T_83b7e_row9_col29\" class=\"data row9 col29\" >-0.22</td>\n",
       "      <td id=\"T_83b7e_row9_col30\" class=\"data row9 col30\" >-0.16</td>\n",
       "      <td id=\"T_83b7e_row9_col31\" class=\"data row9 col31\" >-0.14</td>\n",
       "      <td id=\"T_83b7e_row9_col32\" class=\"data row9 col32\" >0.41</td>\n",
       "      <td id=\"T_83b7e_row9_col33\" class=\"data row9 col33\" >-0.15</td>\n",
       "      <td id=\"T_83b7e_row9_col34\" class=\"data row9 col34\" >-0.19</td>\n",
       "      <td id=\"T_83b7e_row9_col35\" class=\"data row9 col35\" >-0.24</td>\n",
       "      <td id=\"T_83b7e_row9_col36\" class=\"data row9 col36\" >1.96</td>\n",
       "      <td id=\"T_83b7e_row9_col37\" class=\"data row9 col37\" >-0.06</td>\n",
       "      <td id=\"T_83b7e_row9_col38\" class=\"data row9 col38\" >-0.18</td>\n",
       "      <td id=\"T_83b7e_row9_col39\" class=\"data row9 col39\" >-0.18</td>\n",
       "      <td id=\"T_83b7e_row9_col40\" class=\"data row9 col40\" >-0.13</td>\n",
       "      <td id=\"T_83b7e_row9_col41\" class=\"data row9 col41\" >-0.18</td>\n",
       "      <td id=\"T_83b7e_row9_col42\" class=\"data row9 col42\" >1.25</td>\n",
       "      <td id=\"T_83b7e_row9_col43\" class=\"data row9 col43\" >0.38</td>\n",
       "      <td id=\"T_83b7e_row9_col44\" class=\"data row9 col44\" >0.04</td>\n",
       "      <td id=\"T_83b7e_row9_col45\" class=\"data row9 col45\" >-0.20</td>\n",
       "      <td id=\"T_83b7e_row9_col46\" class=\"data row9 col46\" >-0.07</td>\n",
       "      <td id=\"T_83b7e_row9_col47\" class=\"data row9 col47\" >-0.11</td>\n",
       "      <td id=\"T_83b7e_row9_col48\" class=\"data row9 col48\" >0.53</td>\n",
       "      <td id=\"T_83b7e_row9_col49\" class=\"data row9 col49\" >0.88</td>\n",
       "      <td id=\"T_83b7e_row9_col50\" class=\"data row9 col50\" >-0.19</td>\n",
       "      <td id=\"T_83b7e_row9_col51\" class=\"data row9 col51\" >-0.05</td>\n",
       "      <td id=\"T_83b7e_row9_col52\" class=\"data row9 col52\" >1.03</td>\n",
       "      <td id=\"T_83b7e_row9_col53\" class=\"data row9 col53\" >-0.10</td>\n",
       "      <td id=\"T_83b7e_row9_col54\" class=\"data row9 col54\" >-0.04</td>\n",
       "      <td id=\"T_83b7e_row9_col55\" class=\"data row9 col55\" >-0.06</td>\n",
       "      <td id=\"T_83b7e_row9_col56\" class=\"data row9 col56\" >0.06</td>\n",
       "    </tr>\n",
       "  </tbody>\n",
       "</table>\n"
      ],
      "text/plain": [
       "<pandas.io.formats.style.Styler at 0x14b378510>"
      ]
     },
     "execution_count": 33,
     "metadata": {},
     "output_type": "execute_result"
    }
   ],
   "source": [
    "pandas_processx.return_formatted_table \\\n",
    "    (x_train_scaled_undersampled_dataframe, \n",
    "     'Table 2.7.1: Scaled Features Training Undersampled Data')"
   ]
  },
  {
   "cell_type": "code",
   "execution_count": 34,
   "metadata": {},
   "outputs": [
    {
     "data": {
      "text/html": [
       "<style type=\"text/css\">\n",
       "#T_a3c65 caption {\n",
       "  color: black;\n",
       "  font-size: 20px;\n",
       "  font-style: bold;\n",
       "  text-align: center;\n",
       "}\n",
       "#T_a3c65_row0_col0, #T_a3c65_row0_col1, #T_a3c65_row0_col2, #T_a3c65_row0_col3, #T_a3c65_row0_col4, #T_a3c65_row0_col5, #T_a3c65_row0_col6, #T_a3c65_row0_col7, #T_a3c65_row0_col8, #T_a3c65_row0_col9, #T_a3c65_row0_col10, #T_a3c65_row0_col11, #T_a3c65_row0_col12, #T_a3c65_row0_col13, #T_a3c65_row0_col14, #T_a3c65_row0_col15, #T_a3c65_row0_col16, #T_a3c65_row0_col17, #T_a3c65_row0_col18, #T_a3c65_row0_col19, #T_a3c65_row0_col20, #T_a3c65_row0_col21, #T_a3c65_row0_col22, #T_a3c65_row0_col23, #T_a3c65_row0_col24, #T_a3c65_row0_col25, #T_a3c65_row0_col26, #T_a3c65_row0_col27, #T_a3c65_row0_col28, #T_a3c65_row0_col29, #T_a3c65_row0_col30, #T_a3c65_row0_col31, #T_a3c65_row0_col32, #T_a3c65_row0_col33, #T_a3c65_row0_col34, #T_a3c65_row0_col35, #T_a3c65_row0_col36, #T_a3c65_row0_col37, #T_a3c65_row0_col38, #T_a3c65_row0_col39, #T_a3c65_row0_col40, #T_a3c65_row0_col41, #T_a3c65_row0_col42, #T_a3c65_row0_col43, #T_a3c65_row0_col44, #T_a3c65_row0_col45, #T_a3c65_row0_col46, #T_a3c65_row0_col47, #T_a3c65_row0_col48, #T_a3c65_row0_col49, #T_a3c65_row0_col50, #T_a3c65_row0_col51, #T_a3c65_row0_col52, #T_a3c65_row0_col53, #T_a3c65_row0_col54, #T_a3c65_row0_col55, #T_a3c65_row0_col56, #T_a3c65_row1_col0, #T_a3c65_row1_col1, #T_a3c65_row1_col2, #T_a3c65_row1_col3, #T_a3c65_row1_col4, #T_a3c65_row1_col5, #T_a3c65_row1_col6, #T_a3c65_row1_col7, #T_a3c65_row1_col8, #T_a3c65_row1_col9, #T_a3c65_row1_col10, #T_a3c65_row1_col11, #T_a3c65_row1_col12, #T_a3c65_row1_col13, #T_a3c65_row1_col14, #T_a3c65_row1_col15, #T_a3c65_row1_col16, #T_a3c65_row1_col17, #T_a3c65_row1_col18, #T_a3c65_row1_col19, #T_a3c65_row1_col20, #T_a3c65_row1_col21, #T_a3c65_row1_col22, #T_a3c65_row1_col23, #T_a3c65_row1_col24, #T_a3c65_row1_col25, #T_a3c65_row1_col26, #T_a3c65_row1_col27, #T_a3c65_row1_col28, #T_a3c65_row1_col29, #T_a3c65_row1_col30, #T_a3c65_row1_col31, #T_a3c65_row1_col32, #T_a3c65_row1_col33, #T_a3c65_row1_col34, #T_a3c65_row1_col35, #T_a3c65_row1_col36, #T_a3c65_row1_col37, #T_a3c65_row1_col38, #T_a3c65_row1_col39, #T_a3c65_row1_col40, #T_a3c65_row1_col41, #T_a3c65_row1_col42, #T_a3c65_row1_col43, #T_a3c65_row1_col44, #T_a3c65_row1_col45, #T_a3c65_row1_col46, #T_a3c65_row1_col47, #T_a3c65_row1_col48, #T_a3c65_row1_col49, #T_a3c65_row1_col50, #T_a3c65_row1_col51, #T_a3c65_row1_col52, #T_a3c65_row1_col53, #T_a3c65_row1_col54, #T_a3c65_row1_col55, #T_a3c65_row1_col56, #T_a3c65_row2_col0, #T_a3c65_row2_col1, #T_a3c65_row2_col2, #T_a3c65_row2_col3, #T_a3c65_row2_col4, #T_a3c65_row2_col5, #T_a3c65_row2_col6, #T_a3c65_row2_col7, #T_a3c65_row2_col8, #T_a3c65_row2_col9, #T_a3c65_row2_col10, #T_a3c65_row2_col11, #T_a3c65_row2_col12, #T_a3c65_row2_col13, #T_a3c65_row2_col14, #T_a3c65_row2_col15, #T_a3c65_row2_col16, #T_a3c65_row2_col17, #T_a3c65_row2_col18, #T_a3c65_row2_col19, #T_a3c65_row2_col20, #T_a3c65_row2_col21, #T_a3c65_row2_col22, #T_a3c65_row2_col23, #T_a3c65_row2_col24, #T_a3c65_row2_col25, #T_a3c65_row2_col26, #T_a3c65_row2_col27, #T_a3c65_row2_col28, #T_a3c65_row2_col29, #T_a3c65_row2_col30, #T_a3c65_row2_col31, #T_a3c65_row2_col32, #T_a3c65_row2_col33, #T_a3c65_row2_col34, #T_a3c65_row2_col35, #T_a3c65_row2_col36, #T_a3c65_row2_col37, #T_a3c65_row2_col38, #T_a3c65_row2_col39, #T_a3c65_row2_col40, #T_a3c65_row2_col41, #T_a3c65_row2_col42, #T_a3c65_row2_col43, #T_a3c65_row2_col44, #T_a3c65_row2_col45, #T_a3c65_row2_col46, #T_a3c65_row2_col47, #T_a3c65_row2_col48, #T_a3c65_row2_col49, #T_a3c65_row2_col50, #T_a3c65_row2_col51, #T_a3c65_row2_col52, #T_a3c65_row2_col53, #T_a3c65_row2_col54, #T_a3c65_row2_col55, #T_a3c65_row2_col56, #T_a3c65_row3_col0, #T_a3c65_row3_col1, #T_a3c65_row3_col2, #T_a3c65_row3_col3, #T_a3c65_row3_col4, #T_a3c65_row3_col5, #T_a3c65_row3_col6, #T_a3c65_row3_col7, #T_a3c65_row3_col8, #T_a3c65_row3_col9, #T_a3c65_row3_col10, #T_a3c65_row3_col11, #T_a3c65_row3_col12, #T_a3c65_row3_col13, #T_a3c65_row3_col14, #T_a3c65_row3_col15, #T_a3c65_row3_col16, #T_a3c65_row3_col17, #T_a3c65_row3_col18, #T_a3c65_row3_col19, #T_a3c65_row3_col20, #T_a3c65_row3_col21, #T_a3c65_row3_col22, #T_a3c65_row3_col23, #T_a3c65_row3_col24, #T_a3c65_row3_col25, #T_a3c65_row3_col26, #T_a3c65_row3_col27, #T_a3c65_row3_col28, #T_a3c65_row3_col29, #T_a3c65_row3_col30, #T_a3c65_row3_col31, #T_a3c65_row3_col32, #T_a3c65_row3_col33, #T_a3c65_row3_col34, #T_a3c65_row3_col35, #T_a3c65_row3_col36, #T_a3c65_row3_col37, #T_a3c65_row3_col38, #T_a3c65_row3_col39, #T_a3c65_row3_col40, #T_a3c65_row3_col41, #T_a3c65_row3_col42, #T_a3c65_row3_col43, #T_a3c65_row3_col44, #T_a3c65_row3_col45, #T_a3c65_row3_col46, #T_a3c65_row3_col47, #T_a3c65_row3_col48, #T_a3c65_row3_col49, #T_a3c65_row3_col50, #T_a3c65_row3_col51, #T_a3c65_row3_col52, #T_a3c65_row3_col53, #T_a3c65_row3_col54, #T_a3c65_row3_col55, #T_a3c65_row3_col56, #T_a3c65_row4_col0, #T_a3c65_row4_col1, #T_a3c65_row4_col2, #T_a3c65_row4_col3, #T_a3c65_row4_col4, #T_a3c65_row4_col5, #T_a3c65_row4_col6, #T_a3c65_row4_col7, #T_a3c65_row4_col8, #T_a3c65_row4_col9, #T_a3c65_row4_col10, #T_a3c65_row4_col11, #T_a3c65_row4_col12, #T_a3c65_row4_col13, #T_a3c65_row4_col14, #T_a3c65_row4_col15, #T_a3c65_row4_col16, #T_a3c65_row4_col17, #T_a3c65_row4_col18, #T_a3c65_row4_col19, #T_a3c65_row4_col20, #T_a3c65_row4_col21, #T_a3c65_row4_col22, #T_a3c65_row4_col23, #T_a3c65_row4_col24, #T_a3c65_row4_col25, #T_a3c65_row4_col26, #T_a3c65_row4_col27, #T_a3c65_row4_col28, #T_a3c65_row4_col29, #T_a3c65_row4_col30, #T_a3c65_row4_col31, #T_a3c65_row4_col32, #T_a3c65_row4_col33, #T_a3c65_row4_col34, #T_a3c65_row4_col35, #T_a3c65_row4_col36, #T_a3c65_row4_col37, #T_a3c65_row4_col38, #T_a3c65_row4_col39, #T_a3c65_row4_col40, #T_a3c65_row4_col41, #T_a3c65_row4_col42, #T_a3c65_row4_col43, #T_a3c65_row4_col44, #T_a3c65_row4_col45, #T_a3c65_row4_col46, #T_a3c65_row4_col47, #T_a3c65_row4_col48, #T_a3c65_row4_col49, #T_a3c65_row4_col50, #T_a3c65_row4_col51, #T_a3c65_row4_col52, #T_a3c65_row4_col53, #T_a3c65_row4_col54, #T_a3c65_row4_col55, #T_a3c65_row4_col56, #T_a3c65_row5_col0, #T_a3c65_row5_col1, #T_a3c65_row5_col2, #T_a3c65_row5_col3, #T_a3c65_row5_col4, #T_a3c65_row5_col5, #T_a3c65_row5_col6, #T_a3c65_row5_col7, #T_a3c65_row5_col8, #T_a3c65_row5_col9, #T_a3c65_row5_col10, #T_a3c65_row5_col11, #T_a3c65_row5_col12, #T_a3c65_row5_col13, #T_a3c65_row5_col14, #T_a3c65_row5_col15, #T_a3c65_row5_col16, #T_a3c65_row5_col17, #T_a3c65_row5_col18, #T_a3c65_row5_col19, #T_a3c65_row5_col20, #T_a3c65_row5_col21, #T_a3c65_row5_col22, #T_a3c65_row5_col23, #T_a3c65_row5_col24, #T_a3c65_row5_col25, #T_a3c65_row5_col26, #T_a3c65_row5_col27, #T_a3c65_row5_col28, #T_a3c65_row5_col29, #T_a3c65_row5_col30, #T_a3c65_row5_col31, #T_a3c65_row5_col32, #T_a3c65_row5_col33, #T_a3c65_row5_col34, #T_a3c65_row5_col35, #T_a3c65_row5_col36, #T_a3c65_row5_col37, #T_a3c65_row5_col38, #T_a3c65_row5_col39, #T_a3c65_row5_col40, #T_a3c65_row5_col41, #T_a3c65_row5_col42, #T_a3c65_row5_col43, #T_a3c65_row5_col44, #T_a3c65_row5_col45, #T_a3c65_row5_col46, #T_a3c65_row5_col47, #T_a3c65_row5_col48, #T_a3c65_row5_col49, #T_a3c65_row5_col50, #T_a3c65_row5_col51, #T_a3c65_row5_col52, #T_a3c65_row5_col53, #T_a3c65_row5_col54, #T_a3c65_row5_col55, #T_a3c65_row5_col56, #T_a3c65_row6_col0, #T_a3c65_row6_col1, #T_a3c65_row6_col2, #T_a3c65_row6_col3, #T_a3c65_row6_col4, #T_a3c65_row6_col5, #T_a3c65_row6_col6, #T_a3c65_row6_col7, #T_a3c65_row6_col8, #T_a3c65_row6_col9, #T_a3c65_row6_col10, #T_a3c65_row6_col11, #T_a3c65_row6_col12, #T_a3c65_row6_col13, #T_a3c65_row6_col14, #T_a3c65_row6_col15, #T_a3c65_row6_col16, #T_a3c65_row6_col17, #T_a3c65_row6_col18, #T_a3c65_row6_col19, #T_a3c65_row6_col20, #T_a3c65_row6_col21, #T_a3c65_row6_col22, #T_a3c65_row6_col23, #T_a3c65_row6_col24, #T_a3c65_row6_col25, #T_a3c65_row6_col26, #T_a3c65_row6_col27, #T_a3c65_row6_col28, #T_a3c65_row6_col29, #T_a3c65_row6_col30, #T_a3c65_row6_col31, #T_a3c65_row6_col32, #T_a3c65_row6_col33, #T_a3c65_row6_col34, #T_a3c65_row6_col35, #T_a3c65_row6_col36, #T_a3c65_row6_col37, #T_a3c65_row6_col38, #T_a3c65_row6_col39, #T_a3c65_row6_col40, #T_a3c65_row6_col41, #T_a3c65_row6_col42, #T_a3c65_row6_col43, #T_a3c65_row6_col44, #T_a3c65_row6_col45, #T_a3c65_row6_col46, #T_a3c65_row6_col47, #T_a3c65_row6_col48, #T_a3c65_row6_col49, #T_a3c65_row6_col50, #T_a3c65_row6_col51, #T_a3c65_row6_col52, #T_a3c65_row6_col53, #T_a3c65_row6_col54, #T_a3c65_row6_col55, #T_a3c65_row6_col56, #T_a3c65_row7_col0, #T_a3c65_row7_col1, #T_a3c65_row7_col2, #T_a3c65_row7_col3, #T_a3c65_row7_col4, #T_a3c65_row7_col5, #T_a3c65_row7_col6, #T_a3c65_row7_col7, #T_a3c65_row7_col8, #T_a3c65_row7_col9, #T_a3c65_row7_col10, #T_a3c65_row7_col11, #T_a3c65_row7_col12, #T_a3c65_row7_col13, #T_a3c65_row7_col14, #T_a3c65_row7_col15, #T_a3c65_row7_col16, #T_a3c65_row7_col17, #T_a3c65_row7_col18, #T_a3c65_row7_col19, #T_a3c65_row7_col20, #T_a3c65_row7_col21, #T_a3c65_row7_col22, #T_a3c65_row7_col23, #T_a3c65_row7_col24, #T_a3c65_row7_col25, #T_a3c65_row7_col26, #T_a3c65_row7_col27, #T_a3c65_row7_col28, #T_a3c65_row7_col29, #T_a3c65_row7_col30, #T_a3c65_row7_col31, #T_a3c65_row7_col32, #T_a3c65_row7_col33, #T_a3c65_row7_col34, #T_a3c65_row7_col35, #T_a3c65_row7_col36, #T_a3c65_row7_col37, #T_a3c65_row7_col38, #T_a3c65_row7_col39, #T_a3c65_row7_col40, #T_a3c65_row7_col41, #T_a3c65_row7_col42, #T_a3c65_row7_col43, #T_a3c65_row7_col44, #T_a3c65_row7_col45, #T_a3c65_row7_col46, #T_a3c65_row7_col47, #T_a3c65_row7_col48, #T_a3c65_row7_col49, #T_a3c65_row7_col50, #T_a3c65_row7_col51, #T_a3c65_row7_col52, #T_a3c65_row7_col53, #T_a3c65_row7_col54, #T_a3c65_row7_col55, #T_a3c65_row7_col56, #T_a3c65_row8_col0, #T_a3c65_row8_col1, #T_a3c65_row8_col2, #T_a3c65_row8_col3, #T_a3c65_row8_col4, #T_a3c65_row8_col5, #T_a3c65_row8_col6, #T_a3c65_row8_col7, #T_a3c65_row8_col8, #T_a3c65_row8_col9, #T_a3c65_row8_col10, #T_a3c65_row8_col11, #T_a3c65_row8_col12, #T_a3c65_row8_col13, #T_a3c65_row8_col14, #T_a3c65_row8_col15, #T_a3c65_row8_col16, #T_a3c65_row8_col17, #T_a3c65_row8_col18, #T_a3c65_row8_col19, #T_a3c65_row8_col20, #T_a3c65_row8_col21, #T_a3c65_row8_col22, #T_a3c65_row8_col23, #T_a3c65_row8_col24, #T_a3c65_row8_col25, #T_a3c65_row8_col26, #T_a3c65_row8_col27, #T_a3c65_row8_col28, #T_a3c65_row8_col29, #T_a3c65_row8_col30, #T_a3c65_row8_col31, #T_a3c65_row8_col32, #T_a3c65_row8_col33, #T_a3c65_row8_col34, #T_a3c65_row8_col35, #T_a3c65_row8_col36, #T_a3c65_row8_col37, #T_a3c65_row8_col38, #T_a3c65_row8_col39, #T_a3c65_row8_col40, #T_a3c65_row8_col41, #T_a3c65_row8_col42, #T_a3c65_row8_col43, #T_a3c65_row8_col44, #T_a3c65_row8_col45, #T_a3c65_row8_col46, #T_a3c65_row8_col47, #T_a3c65_row8_col48, #T_a3c65_row8_col49, #T_a3c65_row8_col50, #T_a3c65_row8_col51, #T_a3c65_row8_col52, #T_a3c65_row8_col53, #T_a3c65_row8_col54, #T_a3c65_row8_col55, #T_a3c65_row8_col56, #T_a3c65_row9_col0, #T_a3c65_row9_col1, #T_a3c65_row9_col2, #T_a3c65_row9_col3, #T_a3c65_row9_col4, #T_a3c65_row9_col5, #T_a3c65_row9_col6, #T_a3c65_row9_col7, #T_a3c65_row9_col8, #T_a3c65_row9_col9, #T_a3c65_row9_col10, #T_a3c65_row9_col11, #T_a3c65_row9_col12, #T_a3c65_row9_col13, #T_a3c65_row9_col14, #T_a3c65_row9_col15, #T_a3c65_row9_col16, #T_a3c65_row9_col17, #T_a3c65_row9_col18, #T_a3c65_row9_col19, #T_a3c65_row9_col20, #T_a3c65_row9_col21, #T_a3c65_row9_col22, #T_a3c65_row9_col23, #T_a3c65_row9_col24, #T_a3c65_row9_col25, #T_a3c65_row9_col26, #T_a3c65_row9_col27, #T_a3c65_row9_col28, #T_a3c65_row9_col29, #T_a3c65_row9_col30, #T_a3c65_row9_col31, #T_a3c65_row9_col32, #T_a3c65_row9_col33, #T_a3c65_row9_col34, #T_a3c65_row9_col35, #T_a3c65_row9_col36, #T_a3c65_row9_col37, #T_a3c65_row9_col38, #T_a3c65_row9_col39, #T_a3c65_row9_col40, #T_a3c65_row9_col41, #T_a3c65_row9_col42, #T_a3c65_row9_col43, #T_a3c65_row9_col44, #T_a3c65_row9_col45, #T_a3c65_row9_col46, #T_a3c65_row9_col47, #T_a3c65_row9_col48, #T_a3c65_row9_col49, #T_a3c65_row9_col50, #T_a3c65_row9_col51, #T_a3c65_row9_col52, #T_a3c65_row9_col53, #T_a3c65_row9_col54, #T_a3c65_row9_col55, #T_a3c65_row9_col56 {\n",
       "  text-align: center;\n",
       "  border: 1.3px solid red;\n",
       "  color: blue;\n",
       "}\n",
       "</style>\n",
       "<table id=\"T_a3c65\">\n",
       "  <caption>Table 2.7.2: Scaled Features Training Oversampled Data</caption>\n",
       "  <thead>\n",
       "    <tr>\n",
       "      <th id=\"T_a3c65_level0_col0\" class=\"col_heading level0 col0\" >word_freq_make</th>\n",
       "      <th id=\"T_a3c65_level0_col1\" class=\"col_heading level0 col1\" >word_freq_address</th>\n",
       "      <th id=\"T_a3c65_level0_col2\" class=\"col_heading level0 col2\" >word_freq_all</th>\n",
       "      <th id=\"T_a3c65_level0_col3\" class=\"col_heading level0 col3\" >word_freq_3d</th>\n",
       "      <th id=\"T_a3c65_level0_col4\" class=\"col_heading level0 col4\" >word_freq_our</th>\n",
       "      <th id=\"T_a3c65_level0_col5\" class=\"col_heading level0 col5\" >word_freq_over</th>\n",
       "      <th id=\"T_a3c65_level0_col6\" class=\"col_heading level0 col6\" >word_freq_remove</th>\n",
       "      <th id=\"T_a3c65_level0_col7\" class=\"col_heading level0 col7\" >word_freq_internet</th>\n",
       "      <th id=\"T_a3c65_level0_col8\" class=\"col_heading level0 col8\" >word_freq_order</th>\n",
       "      <th id=\"T_a3c65_level0_col9\" class=\"col_heading level0 col9\" >word_freq_mail</th>\n",
       "      <th id=\"T_a3c65_level0_col10\" class=\"col_heading level0 col10\" >word_freq_receive</th>\n",
       "      <th id=\"T_a3c65_level0_col11\" class=\"col_heading level0 col11\" >word_freq_will</th>\n",
       "      <th id=\"T_a3c65_level0_col12\" class=\"col_heading level0 col12\" >word_freq_people</th>\n",
       "      <th id=\"T_a3c65_level0_col13\" class=\"col_heading level0 col13\" >word_freq_report</th>\n",
       "      <th id=\"T_a3c65_level0_col14\" class=\"col_heading level0 col14\" >word_freq_addresses</th>\n",
       "      <th id=\"T_a3c65_level0_col15\" class=\"col_heading level0 col15\" >word_freq_free</th>\n",
       "      <th id=\"T_a3c65_level0_col16\" class=\"col_heading level0 col16\" >word_freq_business</th>\n",
       "      <th id=\"T_a3c65_level0_col17\" class=\"col_heading level0 col17\" >word_freq_email</th>\n",
       "      <th id=\"T_a3c65_level0_col18\" class=\"col_heading level0 col18\" >word_freq_you</th>\n",
       "      <th id=\"T_a3c65_level0_col19\" class=\"col_heading level0 col19\" >word_freq_credit</th>\n",
       "      <th id=\"T_a3c65_level0_col20\" class=\"col_heading level0 col20\" >word_freq_your</th>\n",
       "      <th id=\"T_a3c65_level0_col21\" class=\"col_heading level0 col21\" >word_freq_font</th>\n",
       "      <th id=\"T_a3c65_level0_col22\" class=\"col_heading level0 col22\" >word_freq_000</th>\n",
       "      <th id=\"T_a3c65_level0_col23\" class=\"col_heading level0 col23\" >word_freq_money</th>\n",
       "      <th id=\"T_a3c65_level0_col24\" class=\"col_heading level0 col24\" >word_freq_hp</th>\n",
       "      <th id=\"T_a3c65_level0_col25\" class=\"col_heading level0 col25\" >word_freq_hpl</th>\n",
       "      <th id=\"T_a3c65_level0_col26\" class=\"col_heading level0 col26\" >word_freq_george</th>\n",
       "      <th id=\"T_a3c65_level0_col27\" class=\"col_heading level0 col27\" >word_freq_650</th>\n",
       "      <th id=\"T_a3c65_level0_col28\" class=\"col_heading level0 col28\" >word_freq_lab</th>\n",
       "      <th id=\"T_a3c65_level0_col29\" class=\"col_heading level0 col29\" >word_freq_labs</th>\n",
       "      <th id=\"T_a3c65_level0_col30\" class=\"col_heading level0 col30\" >word_freq_telnet</th>\n",
       "      <th id=\"T_a3c65_level0_col31\" class=\"col_heading level0 col31\" >word_freq_857</th>\n",
       "      <th id=\"T_a3c65_level0_col32\" class=\"col_heading level0 col32\" >word_freq_data</th>\n",
       "      <th id=\"T_a3c65_level0_col33\" class=\"col_heading level0 col33\" >word_freq_415</th>\n",
       "      <th id=\"T_a3c65_level0_col34\" class=\"col_heading level0 col34\" >word_freq_85</th>\n",
       "      <th id=\"T_a3c65_level0_col35\" class=\"col_heading level0 col35\" >word_freq_technology</th>\n",
       "      <th id=\"T_a3c65_level0_col36\" class=\"col_heading level0 col36\" >word_freq_1999</th>\n",
       "      <th id=\"T_a3c65_level0_col37\" class=\"col_heading level0 col37\" >word_freq_parts</th>\n",
       "      <th id=\"T_a3c65_level0_col38\" class=\"col_heading level0 col38\" >word_freq_pm</th>\n",
       "      <th id=\"T_a3c65_level0_col39\" class=\"col_heading level0 col39\" >word_freq_direct</th>\n",
       "      <th id=\"T_a3c65_level0_col40\" class=\"col_heading level0 col40\" >word_freq_cs</th>\n",
       "      <th id=\"T_a3c65_level0_col41\" class=\"col_heading level0 col41\" >word_freq_meeting</th>\n",
       "      <th id=\"T_a3c65_level0_col42\" class=\"col_heading level0 col42\" >word_freq_original</th>\n",
       "      <th id=\"T_a3c65_level0_col43\" class=\"col_heading level0 col43\" >word_freq_project</th>\n",
       "      <th id=\"T_a3c65_level0_col44\" class=\"col_heading level0 col44\" >word_freq_re</th>\n",
       "      <th id=\"T_a3c65_level0_col45\" class=\"col_heading level0 col45\" >word_freq_edu</th>\n",
       "      <th id=\"T_a3c65_level0_col46\" class=\"col_heading level0 col46\" >word_freq_table</th>\n",
       "      <th id=\"T_a3c65_level0_col47\" class=\"col_heading level0 col47\" >word_freq_conference</th>\n",
       "      <th id=\"T_a3c65_level0_col48\" class=\"col_heading level0 col48\" >char_freq_;</th>\n",
       "      <th id=\"T_a3c65_level0_col49\" class=\"col_heading level0 col49\" >char_freq_(</th>\n",
       "      <th id=\"T_a3c65_level0_col50\" class=\"col_heading level0 col50\" >char_freq_[</th>\n",
       "      <th id=\"T_a3c65_level0_col51\" class=\"col_heading level0 col51\" >char_freq_!</th>\n",
       "      <th id=\"T_a3c65_level0_col52\" class=\"col_heading level0 col52\" >char_freq_$</th>\n",
       "      <th id=\"T_a3c65_level0_col53\" class=\"col_heading level0 col53\" >char_freq_#</th>\n",
       "      <th id=\"T_a3c65_level0_col54\" class=\"col_heading level0 col54\" >capital_run_length_average</th>\n",
       "      <th id=\"T_a3c65_level0_col55\" class=\"col_heading level0 col55\" >capital_run_length_longest</th>\n",
       "      <th id=\"T_a3c65_level0_col56\" class=\"col_heading level0 col56\" >capital_run_length_total</th>\n",
       "    </tr>\n",
       "  </thead>\n",
       "  <tbody>\n",
       "    <tr>\n",
       "      <td id=\"T_a3c65_row0_col0\" class=\"data row0 col0\" >2.83</td>\n",
       "      <td id=\"T_a3c65_row0_col1\" class=\"data row0 col1\" >-0.16</td>\n",
       "      <td id=\"T_a3c65_row0_col2\" class=\"data row0 col2\" >1.35</td>\n",
       "      <td id=\"T_a3c65_row0_col3\" class=\"data row0 col3\" >-0.05</td>\n",
       "      <td id=\"T_a3c65_row0_col4\" class=\"data row0 col4\" >-0.46</td>\n",
       "      <td id=\"T_a3c65_row0_col5\" class=\"data row0 col5\" >-0.36</td>\n",
       "      <td id=\"T_a3c65_row0_col6\" class=\"data row0 col6\" >-0.29</td>\n",
       "      <td id=\"T_a3c65_row0_col7\" class=\"data row0 col7\" >-0.26</td>\n",
       "      <td id=\"T_a3c65_row0_col8\" class=\"data row0 col8\" >-0.32</td>\n",
       "      <td id=\"T_a3c65_row0_col9\" class=\"data row0 col9\" >-0.37</td>\n",
       "      <td id=\"T_a3c65_row0_col10\" class=\"data row0 col10\" >-0.30</td>\n",
       "      <td id=\"T_a3c65_row0_col11\" class=\"data row0 col11\" >-0.63</td>\n",
       "      <td id=\"T_a3c65_row0_col12\" class=\"data row0 col12\" >-0.30</td>\n",
       "      <td id=\"T_a3c65_row0_col13\" class=\"data row0 col13\" >-0.17</td>\n",
       "      <td id=\"T_a3c65_row0_col14\" class=\"data row0 col14\" >-0.19</td>\n",
       "      <td id=\"T_a3c65_row0_col15\" class=\"data row0 col15\" >-0.32</td>\n",
       "      <td id=\"T_a3c65_row0_col16\" class=\"data row0 col16\" >-0.31</td>\n",
       "      <td id=\"T_a3c65_row0_col17\" class=\"data row0 col17\" >-0.35</td>\n",
       "      <td id=\"T_a3c65_row0_col18\" class=\"data row0 col18\" >0.68</td>\n",
       "      <td id=\"T_a3c65_row0_col19\" class=\"data row0 col19\" >-0.16</td>\n",
       "      <td id=\"T_a3c65_row0_col20\" class=\"data row0 col20\" >-0.67</td>\n",
       "      <td id=\"T_a3c65_row0_col21\" class=\"data row0 col21\" >-0.12</td>\n",
       "      <td id=\"T_a3c65_row0_col22\" class=\"data row0 col22\" >-0.29</td>\n",
       "      <td id=\"T_a3c65_row0_col23\" class=\"data row0 col23\" >-0.21</td>\n",
       "      <td id=\"T_a3c65_row0_col24\" class=\"data row0 col24\" >-0.34</td>\n",
       "      <td id=\"T_a3c65_row0_col25\" class=\"data row0 col25\" >-0.30</td>\n",
       "      <td id=\"T_a3c65_row0_col26\" class=\"data row0 col26\" >0.06</td>\n",
       "      <td id=\"T_a3c65_row0_col27\" class=\"data row0 col27\" >-0.23</td>\n",
       "      <td id=\"T_a3c65_row0_col28\" class=\"data row0 col28\" >-0.18</td>\n",
       "      <td id=\"T_a3c65_row0_col29\" class=\"data row0 col29\" >-0.22</td>\n",
       "      <td id=\"T_a3c65_row0_col30\" class=\"data row0 col30\" >-0.16</td>\n",
       "      <td id=\"T_a3c65_row0_col31\" class=\"data row0 col31\" >-0.14</td>\n",
       "      <td id=\"T_a3c65_row0_col32\" class=\"data row0 col32\" >-0.17</td>\n",
       "      <td id=\"T_a3c65_row0_col33\" class=\"data row0 col33\" >-0.15</td>\n",
       "      <td id=\"T_a3c65_row0_col34\" class=\"data row0 col34\" >-0.19</td>\n",
       "      <td id=\"T_a3c65_row0_col35\" class=\"data row0 col35\" >-0.24</td>\n",
       "      <td id=\"T_a3c65_row0_col36\" class=\"data row0 col36\" >-0.32</td>\n",
       "      <td id=\"T_a3c65_row0_col37\" class=\"data row0 col37\" >-0.06</td>\n",
       "      <td id=\"T_a3c65_row0_col38\" class=\"data row0 col38\" >-0.18</td>\n",
       "      <td id=\"T_a3c65_row0_col39\" class=\"data row0 col39\" >-0.18</td>\n",
       "      <td id=\"T_a3c65_row0_col40\" class=\"data row0 col40\" >-0.13</td>\n",
       "      <td id=\"T_a3c65_row0_col41\" class=\"data row0 col41\" >-0.18</td>\n",
       "      <td id=\"T_a3c65_row0_col42\" class=\"data row0 col42\" >-0.21</td>\n",
       "      <td id=\"T_a3c65_row0_col43\" class=\"data row0 col43\" >-0.12</td>\n",
       "      <td id=\"T_a3c65_row0_col44\" class=\"data row0 col44\" >-0.30</td>\n",
       "      <td id=\"T_a3c65_row0_col45\" class=\"data row0 col45\" >-0.20</td>\n",
       "      <td id=\"T_a3c65_row0_col46\" class=\"data row0 col46\" >-0.07</td>\n",
       "      <td id=\"T_a3c65_row0_col47\" class=\"data row0 col47\" >-0.11</td>\n",
       "      <td id=\"T_a3c65_row0_col48\" class=\"data row0 col48\" >-0.16</td>\n",
       "      <td id=\"T_a3c65_row0_col49\" class=\"data row0 col49\" >-0.48</td>\n",
       "      <td id=\"T_a3c65_row0_col50\" class=\"data row0 col50\" >-0.19</td>\n",
       "      <td id=\"T_a3c65_row0_col51\" class=\"data row0 col51\" >-0.12</td>\n",
       "      <td id=\"T_a3c65_row0_col52\" class=\"data row0 col52\" >-0.30</td>\n",
       "      <td id=\"T_a3c65_row0_col53\" class=\"data row0 col53\" >-0.10</td>\n",
       "      <td id=\"T_a3c65_row0_col54\" class=\"data row0 col54\" >-0.09</td>\n",
       "      <td id=\"T_a3c65_row0_col55\" class=\"data row0 col55\" >-0.20</td>\n",
       "      <td id=\"T_a3c65_row0_col56\" class=\"data row0 col56\" >-0.36</td>\n",
       "    </tr>\n",
       "    <tr>\n",
       "      <td id=\"T_a3c65_row1_col0\" class=\"data row1 col0\" >-0.35</td>\n",
       "      <td id=\"T_a3c65_row1_col1\" class=\"data row1 col1\" >-0.16</td>\n",
       "      <td id=\"T_a3c65_row1_col2\" class=\"data row1 col2\" >-0.56</td>\n",
       "      <td id=\"T_a3c65_row1_col3\" class=\"data row1 col3\" >-0.05</td>\n",
       "      <td id=\"T_a3c65_row1_col4\" class=\"data row1 col4\" >-0.46</td>\n",
       "      <td id=\"T_a3c65_row1_col5\" class=\"data row1 col5\" >-0.36</td>\n",
       "      <td id=\"T_a3c65_row1_col6\" class=\"data row1 col6\" >-0.29</td>\n",
       "      <td id=\"T_a3c65_row1_col7\" class=\"data row1 col7\" >-0.26</td>\n",
       "      <td id=\"T_a3c65_row1_col8\" class=\"data row1 col8\" >-0.32</td>\n",
       "      <td id=\"T_a3c65_row1_col9\" class=\"data row1 col9\" >-0.37</td>\n",
       "      <td id=\"T_a3c65_row1_col10\" class=\"data row1 col10\" >-0.30</td>\n",
       "      <td id=\"T_a3c65_row1_col11\" class=\"data row1 col11\" >-0.63</td>\n",
       "      <td id=\"T_a3c65_row1_col12\" class=\"data row1 col12\" >-0.30</td>\n",
       "      <td id=\"T_a3c65_row1_col13\" class=\"data row1 col13\" >-0.17</td>\n",
       "      <td id=\"T_a3c65_row1_col14\" class=\"data row1 col14\" >-0.19</td>\n",
       "      <td id=\"T_a3c65_row1_col15\" class=\"data row1 col15\" >-0.32</td>\n",
       "      <td id=\"T_a3c65_row1_col16\" class=\"data row1 col16\" >-0.31</td>\n",
       "      <td id=\"T_a3c65_row1_col17\" class=\"data row1 col17\" >-0.35</td>\n",
       "      <td id=\"T_a3c65_row1_col18\" class=\"data row1 col18\" >0.35</td>\n",
       "      <td id=\"T_a3c65_row1_col19\" class=\"data row1 col19\" >-0.16</td>\n",
       "      <td id=\"T_a3c65_row1_col20\" class=\"data row1 col20\" >-0.67</td>\n",
       "      <td id=\"T_a3c65_row1_col21\" class=\"data row1 col21\" >-0.12</td>\n",
       "      <td id=\"T_a3c65_row1_col22\" class=\"data row1 col22\" >-0.29</td>\n",
       "      <td id=\"T_a3c65_row1_col23\" class=\"data row1 col23\" >-0.21</td>\n",
       "      <td id=\"T_a3c65_row1_col24\" class=\"data row1 col24\" >-0.34</td>\n",
       "      <td id=\"T_a3c65_row1_col25\" class=\"data row1 col25\" >-0.30</td>\n",
       "      <td id=\"T_a3c65_row1_col26\" class=\"data row1 col26\" >-0.23</td>\n",
       "      <td id=\"T_a3c65_row1_col27\" class=\"data row1 col27\" >-0.23</td>\n",
       "      <td id=\"T_a3c65_row1_col28\" class=\"data row1 col28\" >-0.18</td>\n",
       "      <td id=\"T_a3c65_row1_col29\" class=\"data row1 col29\" >-0.22</td>\n",
       "      <td id=\"T_a3c65_row1_col30\" class=\"data row1 col30\" >-0.16</td>\n",
       "      <td id=\"T_a3c65_row1_col31\" class=\"data row1 col31\" >-0.14</td>\n",
       "      <td id=\"T_a3c65_row1_col32\" class=\"data row1 col32\" >-0.17</td>\n",
       "      <td id=\"T_a3c65_row1_col33\" class=\"data row1 col33\" >-0.15</td>\n",
       "      <td id=\"T_a3c65_row1_col34\" class=\"data row1 col34\" >3.86</td>\n",
       "      <td id=\"T_a3c65_row1_col35\" class=\"data row1 col35\" >-0.24</td>\n",
       "      <td id=\"T_a3c65_row1_col36\" class=\"data row1 col36\" >-0.32</td>\n",
       "      <td id=\"T_a3c65_row1_col37\" class=\"data row1 col37\" >-0.06</td>\n",
       "      <td id=\"T_a3c65_row1_col38\" class=\"data row1 col38\" >-0.18</td>\n",
       "      <td id=\"T_a3c65_row1_col39\" class=\"data row1 col39\" >-0.18</td>\n",
       "      <td id=\"T_a3c65_row1_col40\" class=\"data row1 col40\" >-0.13</td>\n",
       "      <td id=\"T_a3c65_row1_col41\" class=\"data row1 col41\" >2.80</td>\n",
       "      <td id=\"T_a3c65_row1_col42\" class=\"data row1 col42\" >-0.21</td>\n",
       "      <td id=\"T_a3c65_row1_col43\" class=\"data row1 col43\" >-0.12</td>\n",
       "      <td id=\"T_a3c65_row1_col44\" class=\"data row1 col44\" >-0.30</td>\n",
       "      <td id=\"T_a3c65_row1_col45\" class=\"data row1 col45\" >-0.20</td>\n",
       "      <td id=\"T_a3c65_row1_col46\" class=\"data row1 col46\" >-0.07</td>\n",
       "      <td id=\"T_a3c65_row1_col47\" class=\"data row1 col47\" >-0.11</td>\n",
       "      <td id=\"T_a3c65_row1_col48\" class=\"data row1 col48\" >-0.16</td>\n",
       "      <td id=\"T_a3c65_row1_col49\" class=\"data row1 col49\" >-0.48</td>\n",
       "      <td id=\"T_a3c65_row1_col50\" class=\"data row1 col50\" >-0.19</td>\n",
       "      <td id=\"T_a3c65_row1_col51\" class=\"data row1 col51\" >0.05</td>\n",
       "      <td id=\"T_a3c65_row1_col52\" class=\"data row1 col52\" >-0.30</td>\n",
       "      <td id=\"T_a3c65_row1_col53\" class=\"data row1 col53\" >-0.10</td>\n",
       "      <td id=\"T_a3c65_row1_col54\" class=\"data row1 col54\" >-0.09</td>\n",
       "      <td id=\"T_a3c65_row1_col55\" class=\"data row1 col55\" >-0.21</td>\n",
       "      <td id=\"T_a3c65_row1_col56\" class=\"data row1 col56\" >-0.38</td>\n",
       "    </tr>\n",
       "    <tr>\n",
       "      <td id=\"T_a3c65_row2_col0\" class=\"data row2 col0\" >-0.35</td>\n",
       "      <td id=\"T_a3c65_row2_col1\" class=\"data row2 col1\" >-0.16</td>\n",
       "      <td id=\"T_a3c65_row2_col2\" class=\"data row2 col2\" >-0.56</td>\n",
       "      <td id=\"T_a3c65_row2_col3\" class=\"data row2 col3\" >-0.05</td>\n",
       "      <td id=\"T_a3c65_row2_col4\" class=\"data row2 col4\" >-0.46</td>\n",
       "      <td id=\"T_a3c65_row2_col5\" class=\"data row2 col5\" >-0.36</td>\n",
       "      <td id=\"T_a3c65_row2_col6\" class=\"data row2 col6\" >-0.29</td>\n",
       "      <td id=\"T_a3c65_row2_col7\" class=\"data row2 col7\" >-0.26</td>\n",
       "      <td id=\"T_a3c65_row2_col8\" class=\"data row2 col8\" >-0.32</td>\n",
       "      <td id=\"T_a3c65_row2_col9\" class=\"data row2 col9\" >-0.37</td>\n",
       "      <td id=\"T_a3c65_row2_col10\" class=\"data row2 col10\" >-0.30</td>\n",
       "      <td id=\"T_a3c65_row2_col11\" class=\"data row2 col11\" >-0.63</td>\n",
       "      <td id=\"T_a3c65_row2_col12\" class=\"data row2 col12\" >-0.30</td>\n",
       "      <td id=\"T_a3c65_row2_col13\" class=\"data row2 col13\" >-0.17</td>\n",
       "      <td id=\"T_a3c65_row2_col14\" class=\"data row2 col14\" >-0.19</td>\n",
       "      <td id=\"T_a3c65_row2_col15\" class=\"data row2 col15\" >-0.32</td>\n",
       "      <td id=\"T_a3c65_row2_col16\" class=\"data row2 col16\" >-0.31</td>\n",
       "      <td id=\"T_a3c65_row2_col17\" class=\"data row2 col17\" >-0.35</td>\n",
       "      <td id=\"T_a3c65_row2_col18\" class=\"data row2 col18\" >-0.94</td>\n",
       "      <td id=\"T_a3c65_row2_col19\" class=\"data row2 col19\" >-0.16</td>\n",
       "      <td id=\"T_a3c65_row2_col20\" class=\"data row2 col20\" >-0.67</td>\n",
       "      <td id=\"T_a3c65_row2_col21\" class=\"data row2 col21\" >-0.12</td>\n",
       "      <td id=\"T_a3c65_row2_col22\" class=\"data row2 col22\" >-0.29</td>\n",
       "      <td id=\"T_a3c65_row2_col23\" class=\"data row2 col23\" >-0.21</td>\n",
       "      <td id=\"T_a3c65_row2_col24\" class=\"data row2 col24\" >-0.34</td>\n",
       "      <td id=\"T_a3c65_row2_col25\" class=\"data row2 col25\" >-0.30</td>\n",
       "      <td id=\"T_a3c65_row2_col26\" class=\"data row2 col26\" >-0.23</td>\n",
       "      <td id=\"T_a3c65_row2_col27\" class=\"data row2 col27\" >-0.23</td>\n",
       "      <td id=\"T_a3c65_row2_col28\" class=\"data row2 col28\" >-0.18</td>\n",
       "      <td id=\"T_a3c65_row2_col29\" class=\"data row2 col29\" >-0.22</td>\n",
       "      <td id=\"T_a3c65_row2_col30\" class=\"data row2 col30\" >-0.16</td>\n",
       "      <td id=\"T_a3c65_row2_col31\" class=\"data row2 col31\" >-0.14</td>\n",
       "      <td id=\"T_a3c65_row2_col32\" class=\"data row2 col32\" >-0.17</td>\n",
       "      <td id=\"T_a3c65_row2_col33\" class=\"data row2 col33\" >-0.15</td>\n",
       "      <td id=\"T_a3c65_row2_col34\" class=\"data row2 col34\" >-0.19</td>\n",
       "      <td id=\"T_a3c65_row2_col35\" class=\"data row2 col35\" >-0.24</td>\n",
       "      <td id=\"T_a3c65_row2_col36\" class=\"data row2 col36\" >-0.32</td>\n",
       "      <td id=\"T_a3c65_row2_col37\" class=\"data row2 col37\" >-0.06</td>\n",
       "      <td id=\"T_a3c65_row2_col38\" class=\"data row2 col38\" >-0.18</td>\n",
       "      <td id=\"T_a3c65_row2_col39\" class=\"data row2 col39\" >-0.18</td>\n",
       "      <td id=\"T_a3c65_row2_col40\" class=\"data row2 col40\" >-0.13</td>\n",
       "      <td id=\"T_a3c65_row2_col41\" class=\"data row2 col41\" >-0.18</td>\n",
       "      <td id=\"T_a3c65_row2_col42\" class=\"data row2 col42\" >-0.21</td>\n",
       "      <td id=\"T_a3c65_row2_col43\" class=\"data row2 col43\" >-0.12</td>\n",
       "      <td id=\"T_a3c65_row2_col44\" class=\"data row2 col44\" >-0.30</td>\n",
       "      <td id=\"T_a3c65_row2_col45\" class=\"data row2 col45\" >-0.20</td>\n",
       "      <td id=\"T_a3c65_row2_col46\" class=\"data row2 col46\" >-0.07</td>\n",
       "      <td id=\"T_a3c65_row2_col47\" class=\"data row2 col47\" >-0.11</td>\n",
       "      <td id=\"T_a3c65_row2_col48\" class=\"data row2 col48\" >-0.16</td>\n",
       "      <td id=\"T_a3c65_row2_col49\" class=\"data row2 col49\" >-0.48</td>\n",
       "      <td id=\"T_a3c65_row2_col50\" class=\"data row2 col50\" >-0.19</td>\n",
       "      <td id=\"T_a3c65_row2_col51\" class=\"data row2 col51\" >-0.31</td>\n",
       "      <td id=\"T_a3c65_row2_col52\" class=\"data row2 col52\" >-0.30</td>\n",
       "      <td id=\"T_a3c65_row2_col53\" class=\"data row2 col53\" >-0.10</td>\n",
       "      <td id=\"T_a3c65_row2_col54\" class=\"data row2 col54\" >-0.13</td>\n",
       "      <td id=\"T_a3c65_row2_col55\" class=\"data row2 col55\" >-0.25</td>\n",
       "      <td id=\"T_a3c65_row2_col56\" class=\"data row2 col56\" >-0.45</td>\n",
       "    </tr>\n",
       "    <tr>\n",
       "      <td id=\"T_a3c65_row3_col0\" class=\"data row3 col0\" >-0.35</td>\n",
       "      <td id=\"T_a3c65_row3_col1\" class=\"data row3 col1\" >-0.16</td>\n",
       "      <td id=\"T_a3c65_row3_col2\" class=\"data row3 col2\" >-0.56</td>\n",
       "      <td id=\"T_a3c65_row3_col3\" class=\"data row3 col3\" >-0.05</td>\n",
       "      <td id=\"T_a3c65_row3_col4\" class=\"data row3 col4\" >-0.46</td>\n",
       "      <td id=\"T_a3c65_row3_col5\" class=\"data row3 col5\" >-0.36</td>\n",
       "      <td id=\"T_a3c65_row3_col6\" class=\"data row3 col6\" >-0.29</td>\n",
       "      <td id=\"T_a3c65_row3_col7\" class=\"data row3 col7\" >-0.26</td>\n",
       "      <td id=\"T_a3c65_row3_col8\" class=\"data row3 col8\" >-0.32</td>\n",
       "      <td id=\"T_a3c65_row3_col9\" class=\"data row3 col9\" >-0.37</td>\n",
       "      <td id=\"T_a3c65_row3_col10\" class=\"data row3 col10\" >-0.30</td>\n",
       "      <td id=\"T_a3c65_row3_col11\" class=\"data row3 col11\" >-0.63</td>\n",
       "      <td id=\"T_a3c65_row3_col12\" class=\"data row3 col12\" >-0.30</td>\n",
       "      <td id=\"T_a3c65_row3_col13\" class=\"data row3 col13\" >-0.17</td>\n",
       "      <td id=\"T_a3c65_row3_col14\" class=\"data row3 col14\" >-0.19</td>\n",
       "      <td id=\"T_a3c65_row3_col15\" class=\"data row3 col15\" >-0.32</td>\n",
       "      <td id=\"T_a3c65_row3_col16\" class=\"data row3 col16\" >-0.31</td>\n",
       "      <td id=\"T_a3c65_row3_col17\" class=\"data row3 col17\" >-0.35</td>\n",
       "      <td id=\"T_a3c65_row3_col18\" class=\"data row3 col18\" >-0.94</td>\n",
       "      <td id=\"T_a3c65_row3_col19\" class=\"data row3 col19\" >-0.16</td>\n",
       "      <td id=\"T_a3c65_row3_col20\" class=\"data row3 col20\" >-0.67</td>\n",
       "      <td id=\"T_a3c65_row3_col21\" class=\"data row3 col21\" >-0.12</td>\n",
       "      <td id=\"T_a3c65_row3_col22\" class=\"data row3 col22\" >-0.29</td>\n",
       "      <td id=\"T_a3c65_row3_col23\" class=\"data row3 col23\" >-0.21</td>\n",
       "      <td id=\"T_a3c65_row3_col24\" class=\"data row3 col24\" >-0.34</td>\n",
       "      <td id=\"T_a3c65_row3_col25\" class=\"data row3 col25\" >-0.30</td>\n",
       "      <td id=\"T_a3c65_row3_col26\" class=\"data row3 col26\" >5.77</td>\n",
       "      <td id=\"T_a3c65_row3_col27\" class=\"data row3 col27\" >-0.23</td>\n",
       "      <td id=\"T_a3c65_row3_col28\" class=\"data row3 col28\" >-0.18</td>\n",
       "      <td id=\"T_a3c65_row3_col29\" class=\"data row3 col29\" >-0.22</td>\n",
       "      <td id=\"T_a3c65_row3_col30\" class=\"data row3 col30\" >-0.16</td>\n",
       "      <td id=\"T_a3c65_row3_col31\" class=\"data row3 col31\" >-0.14</td>\n",
       "      <td id=\"T_a3c65_row3_col32\" class=\"data row3 col32\" >-0.17</td>\n",
       "      <td id=\"T_a3c65_row3_col33\" class=\"data row3 col33\" >-0.15</td>\n",
       "      <td id=\"T_a3c65_row3_col34\" class=\"data row3 col34\" >-0.19</td>\n",
       "      <td id=\"T_a3c65_row3_col35\" class=\"data row3 col35\" >-0.24</td>\n",
       "      <td id=\"T_a3c65_row3_col36\" class=\"data row3 col36\" >-0.32</td>\n",
       "      <td id=\"T_a3c65_row3_col37\" class=\"data row3 col37\" >-0.06</td>\n",
       "      <td id=\"T_a3c65_row3_col38\" class=\"data row3 col38\" >-0.18</td>\n",
       "      <td id=\"T_a3c65_row3_col39\" class=\"data row3 col39\" >-0.18</td>\n",
       "      <td id=\"T_a3c65_row3_col40\" class=\"data row3 col40\" >-0.13</td>\n",
       "      <td id=\"T_a3c65_row3_col41\" class=\"data row3 col41\" >-0.18</td>\n",
       "      <td id=\"T_a3c65_row3_col42\" class=\"data row3 col42\" >-0.21</td>\n",
       "      <td id=\"T_a3c65_row3_col43\" class=\"data row3 col43\" >-0.12</td>\n",
       "      <td id=\"T_a3c65_row3_col44\" class=\"data row3 col44\" >-0.30</td>\n",
       "      <td id=\"T_a3c65_row3_col45\" class=\"data row3 col45\" >-0.20</td>\n",
       "      <td id=\"T_a3c65_row3_col46\" class=\"data row3 col46\" >-0.07</td>\n",
       "      <td id=\"T_a3c65_row3_col47\" class=\"data row3 col47\" >-0.11</td>\n",
       "      <td id=\"T_a3c65_row3_col48\" class=\"data row3 col48\" >-0.16</td>\n",
       "      <td id=\"T_a3c65_row3_col49\" class=\"data row3 col49\" >-0.48</td>\n",
       "      <td id=\"T_a3c65_row3_col50\" class=\"data row3 col50\" >-0.19</td>\n",
       "      <td id=\"T_a3c65_row3_col51\" class=\"data row3 col51\" >-0.31</td>\n",
       "      <td id=\"T_a3c65_row3_col52\" class=\"data row3 col52\" >-0.30</td>\n",
       "      <td id=\"T_a3c65_row3_col53\" class=\"data row3 col53\" >-0.10</td>\n",
       "      <td id=\"T_a3c65_row3_col54\" class=\"data row3 col54\" >-0.13</td>\n",
       "      <td id=\"T_a3c65_row3_col55\" class=\"data row3 col55\" >-0.25</td>\n",
       "      <td id=\"T_a3c65_row3_col56\" class=\"data row3 col56\" >-0.45</td>\n",
       "    </tr>\n",
       "    <tr>\n",
       "      <td id=\"T_a3c65_row4_col0\" class=\"data row4 col0\" >0.93</td>\n",
       "      <td id=\"T_a3c65_row4_col1\" class=\"data row4 col1\" >0.15</td>\n",
       "      <td id=\"T_a3c65_row4_col2\" class=\"data row4 col2\" >-0.56</td>\n",
       "      <td id=\"T_a3c65_row4_col3\" class=\"data row4 col3\" >-0.05</td>\n",
       "      <td id=\"T_a3c65_row4_col4\" class=\"data row4 col4\" >0.12</td>\n",
       "      <td id=\"T_a3c65_row4_col5\" class=\"data row4 col5\" >-0.36</td>\n",
       "      <td id=\"T_a3c65_row4_col6\" class=\"data row4 col6\" >-0.29</td>\n",
       "      <td id=\"T_a3c65_row4_col7\" class=\"data row4 col7\" >-0.26</td>\n",
       "      <td id=\"T_a3c65_row4_col8\" class=\"data row4 col8\" >-0.32</td>\n",
       "      <td id=\"T_a3c65_row4_col9\" class=\"data row4 col9\" >0.24</td>\n",
       "      <td id=\"T_a3c65_row4_col10\" class=\"data row4 col10\" >-0.30</td>\n",
       "      <td id=\"T_a3c65_row4_col11\" class=\"data row4 col11\" >0.74</td>\n",
       "      <td id=\"T_a3c65_row4_col12\" class=\"data row4 col12\" >-0.30</td>\n",
       "      <td id=\"T_a3c65_row4_col13\" class=\"data row4 col13\" >0.99</td>\n",
       "      <td id=\"T_a3c65_row4_col14\" class=\"data row4 col14\" >-0.19</td>\n",
       "      <td id=\"T_a3c65_row4_col15\" class=\"data row4 col15\" >-0.32</td>\n",
       "      <td id=\"T_a3c65_row4_col16\" class=\"data row4 col16\" >-0.31</td>\n",
       "      <td id=\"T_a3c65_row4_col17\" class=\"data row4 col17\" >-0.35</td>\n",
       "      <td id=\"T_a3c65_row4_col18\" class=\"data row4 col18\" >-0.28</td>\n",
       "      <td id=\"T_a3c65_row4_col19\" class=\"data row4 col19\" >-0.16</td>\n",
       "      <td id=\"T_a3c65_row4_col20\" class=\"data row4 col20\" >-0.67</td>\n",
       "      <td id=\"T_a3c65_row4_col21\" class=\"data row4 col21\" >-0.12</td>\n",
       "      <td id=\"T_a3c65_row4_col22\" class=\"data row4 col22\" >-0.29</td>\n",
       "      <td id=\"T_a3c65_row4_col23\" class=\"data row4 col23\" >-0.21</td>\n",
       "      <td id=\"T_a3c65_row4_col24\" class=\"data row4 col24\" >1.41</td>\n",
       "      <td id=\"T_a3c65_row4_col25\" class=\"data row4 col25\" >1.93</td>\n",
       "      <td id=\"T_a3c65_row4_col26\" class=\"data row4 col26\" >0.13</td>\n",
       "      <td id=\"T_a3c65_row4_col27\" class=\"data row4 col27\" >1.90</td>\n",
       "      <td id=\"T_a3c65_row4_col28\" class=\"data row4 col28\" >0.52</td>\n",
       "      <td id=\"T_a3c65_row4_col29\" class=\"data row4 col29\" >0.61</td>\n",
       "      <td id=\"T_a3c65_row4_col30\" class=\"data row4 col30\" >0.76</td>\n",
       "      <td id=\"T_a3c65_row4_col31\" class=\"data row4 col31\" >0.98</td>\n",
       "      <td id=\"T_a3c65_row4_col32\" class=\"data row4 col32\" >-0.17</td>\n",
       "      <td id=\"T_a3c65_row4_col33\" class=\"data row4 col33\" >0.97</td>\n",
       "      <td id=\"T_a3c65_row4_col34\" class=\"data row4 col34\" >1.88</td>\n",
       "      <td id=\"T_a3c65_row4_col35\" class=\"data row4 col35\" >0.76</td>\n",
       "      <td id=\"T_a3c65_row4_col36\" class=\"data row4 col36\" >0.58</td>\n",
       "      <td id=\"T_a3c65_row4_col37\" class=\"data row4 col37\" >-0.06</td>\n",
       "      <td id=\"T_a3c65_row4_col38\" class=\"data row4 col38\" >-0.18</td>\n",
       "      <td id=\"T_a3c65_row4_col39\" class=\"data row4 col39\" >0.88</td>\n",
       "      <td id=\"T_a3c65_row4_col40\" class=\"data row4 col40\" >-0.13</td>\n",
       "      <td id=\"T_a3c65_row4_col41\" class=\"data row4 col41\" >0.32</td>\n",
       "      <td id=\"T_a3c65_row4_col42\" class=\"data row4 col42\" >1.51</td>\n",
       "      <td id=\"T_a3c65_row4_col43\" class=\"data row4 col43\" >-0.12</td>\n",
       "      <td id=\"T_a3c65_row4_col44\" class=\"data row4 col44\" >0.10</td>\n",
       "      <td id=\"T_a3c65_row4_col45\" class=\"data row4 col45\" >-0.20</td>\n",
       "      <td id=\"T_a3c65_row4_col46\" class=\"data row4 col46\" >-0.07</td>\n",
       "      <td id=\"T_a3c65_row4_col47\" class=\"data row4 col47\" >-0.11</td>\n",
       "      <td id=\"T_a3c65_row4_col48\" class=\"data row4 col48\" >0.35</td>\n",
       "      <td id=\"T_a3c65_row4_col49\" class=\"data row4 col49\" >0.83</td>\n",
       "      <td id=\"T_a3c65_row4_col50\" class=\"data row4 col50\" >5.17</td>\n",
       "      <td id=\"T_a3c65_row4_col51\" class=\"data row4 col51\" >-0.31</td>\n",
       "      <td id=\"T_a3c65_row4_col52\" class=\"data row4 col52\" >-0.30</td>\n",
       "      <td id=\"T_a3c65_row4_col53\" class=\"data row4 col53\" >-0.10</td>\n",
       "      <td id=\"T_a3c65_row4_col54\" class=\"data row4 col54\" >-0.09</td>\n",
       "      <td id=\"T_a3c65_row4_col55\" class=\"data row4 col55\" >-0.19</td>\n",
       "      <td id=\"T_a3c65_row4_col56\" class=\"data row4 col56\" >-0.23</td>\n",
       "    </tr>\n",
       "    <tr>\n",
       "      <td id=\"T_a3c65_row5_col0\" class=\"data row5 col0\" >-0.35</td>\n",
       "      <td id=\"T_a3c65_row5_col1\" class=\"data row5 col1\" >-0.16</td>\n",
       "      <td id=\"T_a3c65_row5_col2\" class=\"data row5 col2\" >-0.56</td>\n",
       "      <td id=\"T_a3c65_row5_col3\" class=\"data row5 col3\" >-0.05</td>\n",
       "      <td id=\"T_a3c65_row5_col4\" class=\"data row5 col4\" >-0.46</td>\n",
       "      <td id=\"T_a3c65_row5_col5\" class=\"data row5 col5\" >-0.36</td>\n",
       "      <td id=\"T_a3c65_row5_col6\" class=\"data row5 col6\" >-0.29</td>\n",
       "      <td id=\"T_a3c65_row5_col7\" class=\"data row5 col7\" >-0.26</td>\n",
       "      <td id=\"T_a3c65_row5_col8\" class=\"data row5 col8\" >2.35</td>\n",
       "      <td id=\"T_a3c65_row5_col9\" class=\"data row5 col9\" >-0.37</td>\n",
       "      <td id=\"T_a3c65_row5_col10\" class=\"data row5 col10\" >-0.30</td>\n",
       "      <td id=\"T_a3c65_row5_col11\" class=\"data row5 col11\" >-0.63</td>\n",
       "      <td id=\"T_a3c65_row5_col12\" class=\"data row5 col12\" >-0.30</td>\n",
       "      <td id=\"T_a3c65_row5_col13\" class=\"data row5 col13\" >-0.17</td>\n",
       "      <td id=\"T_a3c65_row5_col14\" class=\"data row5 col14\" >-0.19</td>\n",
       "      <td id=\"T_a3c65_row5_col15\" class=\"data row5 col15\" >-0.32</td>\n",
       "      <td id=\"T_a3c65_row5_col16\" class=\"data row5 col16\" >-0.31</td>\n",
       "      <td id=\"T_a3c65_row5_col17\" class=\"data row5 col17\" >-0.35</td>\n",
       "      <td id=\"T_a3c65_row5_col18\" class=\"data row5 col18\" >0.30</td>\n",
       "      <td id=\"T_a3c65_row5_col19\" class=\"data row5 col19\" >-0.16</td>\n",
       "      <td id=\"T_a3c65_row5_col20\" class=\"data row5 col20\" >-0.67</td>\n",
       "      <td id=\"T_a3c65_row5_col21\" class=\"data row5 col21\" >-0.12</td>\n",
       "      <td id=\"T_a3c65_row5_col22\" class=\"data row5 col22\" >-0.29</td>\n",
       "      <td id=\"T_a3c65_row5_col23\" class=\"data row5 col23\" >-0.21</td>\n",
       "      <td id=\"T_a3c65_row5_col24\" class=\"data row5 col24\" >-0.34</td>\n",
       "      <td id=\"T_a3c65_row5_col25\" class=\"data row5 col25\" >-0.30</td>\n",
       "      <td id=\"T_a3c65_row5_col26\" class=\"data row5 col26\" >-0.23</td>\n",
       "      <td id=\"T_a3c65_row5_col27\" class=\"data row5 col27\" >-0.23</td>\n",
       "      <td id=\"T_a3c65_row5_col28\" class=\"data row5 col28\" >-0.18</td>\n",
       "      <td id=\"T_a3c65_row5_col29\" class=\"data row5 col29\" >-0.22</td>\n",
       "      <td id=\"T_a3c65_row5_col30\" class=\"data row5 col30\" >-0.16</td>\n",
       "      <td id=\"T_a3c65_row5_col31\" class=\"data row5 col31\" >-0.14</td>\n",
       "      <td id=\"T_a3c65_row5_col32\" class=\"data row5 col32\" >-0.17</td>\n",
       "      <td id=\"T_a3c65_row5_col33\" class=\"data row5 col33\" >-0.15</td>\n",
       "      <td id=\"T_a3c65_row5_col34\" class=\"data row5 col34\" >-0.19</td>\n",
       "      <td id=\"T_a3c65_row5_col35\" class=\"data row5 col35\" >-0.24</td>\n",
       "      <td id=\"T_a3c65_row5_col36\" class=\"data row5 col36\" >-0.32</td>\n",
       "      <td id=\"T_a3c65_row5_col37\" class=\"data row5 col37\" >-0.06</td>\n",
       "      <td id=\"T_a3c65_row5_col38\" class=\"data row5 col38\" >1.58</td>\n",
       "      <td id=\"T_a3c65_row5_col39\" class=\"data row5 col39\" >-0.18</td>\n",
       "      <td id=\"T_a3c65_row5_col40\" class=\"data row5 col40\" >-0.13</td>\n",
       "      <td id=\"T_a3c65_row5_col41\" class=\"data row5 col41\" >-0.18</td>\n",
       "      <td id=\"T_a3c65_row5_col42\" class=\"data row5 col42\" >-0.21</td>\n",
       "      <td id=\"T_a3c65_row5_col43\" class=\"data row5 col43\" >-0.12</td>\n",
       "      <td id=\"T_a3c65_row5_col44\" class=\"data row5 col44\" >0.46</td>\n",
       "      <td id=\"T_a3c65_row5_col45\" class=\"data row5 col45\" >-0.20</td>\n",
       "      <td id=\"T_a3c65_row5_col46\" class=\"data row5 col46\" >-0.07</td>\n",
       "      <td id=\"T_a3c65_row5_col47\" class=\"data row5 col47\" >-0.11</td>\n",
       "      <td id=\"T_a3c65_row5_col48\" class=\"data row5 col48\" >-0.16</td>\n",
       "      <td id=\"T_a3c65_row5_col49\" class=\"data row5 col49\" >0.48</td>\n",
       "      <td id=\"T_a3c65_row5_col50\" class=\"data row5 col50\" >-0.19</td>\n",
       "      <td id=\"T_a3c65_row5_col51\" class=\"data row5 col51\" >0.32</td>\n",
       "      <td id=\"T_a3c65_row5_col52\" class=\"data row5 col52\" >-0.30</td>\n",
       "      <td id=\"T_a3c65_row5_col53\" class=\"data row5 col53\" >-0.10</td>\n",
       "      <td id=\"T_a3c65_row5_col54\" class=\"data row5 col54\" >-0.08</td>\n",
       "      <td id=\"T_a3c65_row5_col55\" class=\"data row5 col55\" >-0.18</td>\n",
       "      <td id=\"T_a3c65_row5_col56\" class=\"data row5 col56\" >-0.34</td>\n",
       "    </tr>\n",
       "    <tr>\n",
       "      <td id=\"T_a3c65_row6_col0\" class=\"data row6 col0\" >1.42</td>\n",
       "      <td id=\"T_a3c65_row6_col1\" class=\"data row6 col1\" >-0.16</td>\n",
       "      <td id=\"T_a3c65_row6_col2\" class=\"data row6 col2\" >-0.56</td>\n",
       "      <td id=\"T_a3c65_row6_col3\" class=\"data row6 col3\" >-0.05</td>\n",
       "      <td id=\"T_a3c65_row6_col4\" class=\"data row6 col4\" >-0.46</td>\n",
       "      <td id=\"T_a3c65_row6_col5\" class=\"data row6 col5\" >0.65</td>\n",
       "      <td id=\"T_a3c65_row6_col6\" class=\"data row6 col6\" >-0.29</td>\n",
       "      <td id=\"T_a3c65_row6_col7\" class=\"data row6 col7\" >-0.26</td>\n",
       "      <td id=\"T_a3c65_row6_col8\" class=\"data row6 col8\" >-0.32</td>\n",
       "      <td id=\"T_a3c65_row6_col9\" class=\"data row6 col9\" >-0.37</td>\n",
       "      <td id=\"T_a3c65_row6_col10\" class=\"data row6 col10\" >-0.30</td>\n",
       "      <td id=\"T_a3c65_row6_col11\" class=\"data row6 col11\" >-0.63</td>\n",
       "      <td id=\"T_a3c65_row6_col12\" class=\"data row6 col12\" >1.45</td>\n",
       "      <td id=\"T_a3c65_row6_col13\" class=\"data row6 col13\" >-0.17</td>\n",
       "      <td id=\"T_a3c65_row6_col14\" class=\"data row6 col14\" >-0.19</td>\n",
       "      <td id=\"T_a3c65_row6_col15\" class=\"data row6 col15\" >-0.32</td>\n",
       "      <td id=\"T_a3c65_row6_col16\" class=\"data row6 col16\" >-0.31</td>\n",
       "      <td id=\"T_a3c65_row6_col17\" class=\"data row6 col17\" >-0.35</td>\n",
       "      <td id=\"T_a3c65_row6_col18\" class=\"data row6 col18\" >1.18</td>\n",
       "      <td id=\"T_a3c65_row6_col19\" class=\"data row6 col19\" >-0.16</td>\n",
       "      <td id=\"T_a3c65_row6_col20\" class=\"data row6 col20\" >-0.23</td>\n",
       "      <td id=\"T_a3c65_row6_col21\" class=\"data row6 col21\" >-0.12</td>\n",
       "      <td id=\"T_a3c65_row6_col22\" class=\"data row6 col22\" >-0.29</td>\n",
       "      <td id=\"T_a3c65_row6_col23\" class=\"data row6 col23\" >-0.21</td>\n",
       "      <td id=\"T_a3c65_row6_col24\" class=\"data row6 col24\" >-0.17</td>\n",
       "      <td id=\"T_a3c65_row6_col25\" class=\"data row6 col25\" >-0.30</td>\n",
       "      <td id=\"T_a3c65_row6_col26\" class=\"data row6 col26\" >-0.23</td>\n",
       "      <td id=\"T_a3c65_row6_col27\" class=\"data row6 col27\" >-0.23</td>\n",
       "      <td id=\"T_a3c65_row6_col28\" class=\"data row6 col28\" >-0.18</td>\n",
       "      <td id=\"T_a3c65_row6_col29\" class=\"data row6 col29\" >-0.22</td>\n",
       "      <td id=\"T_a3c65_row6_col30\" class=\"data row6 col30\" >1.11</td>\n",
       "      <td id=\"T_a3c65_row6_col31\" class=\"data row6 col31\" >-0.14</td>\n",
       "      <td id=\"T_a3c65_row6_col32\" class=\"data row6 col32\" >-0.17</td>\n",
       "      <td id=\"T_a3c65_row6_col33\" class=\"data row6 col33\" >-0.15</td>\n",
       "      <td id=\"T_a3c65_row6_col34\" class=\"data row6 col34\" >0.28</td>\n",
       "      <td id=\"T_a3c65_row6_col35\" class=\"data row6 col35\" >-0.24</td>\n",
       "      <td id=\"T_a3c65_row6_col36\" class=\"data row6 col36\" >-0.32</td>\n",
       "      <td id=\"T_a3c65_row6_col37\" class=\"data row6 col37\" >-0.06</td>\n",
       "      <td id=\"T_a3c65_row6_col38\" class=\"data row6 col38\" >-0.18</td>\n",
       "      <td id=\"T_a3c65_row6_col39\" class=\"data row6 col39\" >-0.18</td>\n",
       "      <td id=\"T_a3c65_row6_col40\" class=\"data row6 col40\" >-0.13</td>\n",
       "      <td id=\"T_a3c65_row6_col41\" class=\"data row6 col41\" >-0.18</td>\n",
       "      <td id=\"T_a3c65_row6_col42\" class=\"data row6 col42\" >-0.21</td>\n",
       "      <td id=\"T_a3c65_row6_col43\" class=\"data row6 col43\" >-0.12</td>\n",
       "      <td id=\"T_a3c65_row6_col44\" class=\"data row6 col44\" >-0.30</td>\n",
       "      <td id=\"T_a3c65_row6_col45\" class=\"data row6 col45\" >-0.20</td>\n",
       "      <td id=\"T_a3c65_row6_col46\" class=\"data row6 col46\" >-0.07</td>\n",
       "      <td id=\"T_a3c65_row6_col47\" class=\"data row6 col47\" >-0.11</td>\n",
       "      <td id=\"T_a3c65_row6_col48\" class=\"data row6 col48\" >-0.16</td>\n",
       "      <td id=\"T_a3c65_row6_col49\" class=\"data row6 col49\" >1.02</td>\n",
       "      <td id=\"T_a3c65_row6_col50\" class=\"data row6 col50\" >-0.19</td>\n",
       "      <td id=\"T_a3c65_row6_col51\" class=\"data row6 col51\" >-0.31</td>\n",
       "      <td id=\"T_a3c65_row6_col52\" class=\"data row6 col52\" >0.01</td>\n",
       "      <td id=\"T_a3c65_row6_col53\" class=\"data row6 col53\" >-0.10</td>\n",
       "      <td id=\"T_a3c65_row6_col54\" class=\"data row6 col54\" >-0.10</td>\n",
       "      <td id=\"T_a3c65_row6_col55\" class=\"data row6 col55\" >-0.17</td>\n",
       "      <td id=\"T_a3c65_row6_col56\" class=\"data row6 col56\" >-0.29</td>\n",
       "    </tr>\n",
       "    <tr>\n",
       "      <td id=\"T_a3c65_row7_col0\" class=\"data row7 col0\" >-0.35</td>\n",
       "      <td id=\"T_a3c65_row7_col1\" class=\"data row7 col1\" >-0.02</td>\n",
       "      <td id=\"T_a3c65_row7_col2\" class=\"data row7 col2\" >-0.56</td>\n",
       "      <td id=\"T_a3c65_row7_col3\" class=\"data row7 col3\" >-0.05</td>\n",
       "      <td id=\"T_a3c65_row7_col4\" class=\"data row7 col4\" >-0.20</td>\n",
       "      <td id=\"T_a3c65_row7_col5\" class=\"data row7 col5\" >-0.36</td>\n",
       "      <td id=\"T_a3c65_row7_col6\" class=\"data row7 col6\" >-0.29</td>\n",
       "      <td id=\"T_a3c65_row7_col7\" class=\"data row7 col7\" >0.66</td>\n",
       "      <td id=\"T_a3c65_row7_col8\" class=\"data row7 col8\" >-0.32</td>\n",
       "      <td id=\"T_a3c65_row7_col9\" class=\"data row7 col9\" >-0.37</td>\n",
       "      <td id=\"T_a3c65_row7_col10\" class=\"data row7 col10\" >-0.30</td>\n",
       "      <td id=\"T_a3c65_row7_col11\" class=\"data row7 col11\" >0.45</td>\n",
       "      <td id=\"T_a3c65_row7_col12\" class=\"data row7 col12\" >-0.30</td>\n",
       "      <td id=\"T_a3c65_row7_col13\" class=\"data row7 col13\" >-0.17</td>\n",
       "      <td id=\"T_a3c65_row7_col14\" class=\"data row7 col14\" >-0.19</td>\n",
       "      <td id=\"T_a3c65_row7_col15\" class=\"data row7 col15\" >-0.32</td>\n",
       "      <td id=\"T_a3c65_row7_col16\" class=\"data row7 col16\" >3.74</td>\n",
       "      <td id=\"T_a3c65_row7_col17\" class=\"data row7 col17\" >-0.35</td>\n",
       "      <td id=\"T_a3c65_row7_col18\" class=\"data row7 col18\" >-0.84</td>\n",
       "      <td id=\"T_a3c65_row7_col19\" class=\"data row7 col19\" >-0.16</td>\n",
       "      <td id=\"T_a3c65_row7_col20\" class=\"data row7 col20\" >-0.67</td>\n",
       "      <td id=\"T_a3c65_row7_col21\" class=\"data row7 col21\" >-0.12</td>\n",
       "      <td id=\"T_a3c65_row7_col22\" class=\"data row7 col22\" >-0.29</td>\n",
       "      <td id=\"T_a3c65_row7_col23\" class=\"data row7 col23\" >-0.21</td>\n",
       "      <td id=\"T_a3c65_row7_col24\" class=\"data row7 col24\" >-0.10</td>\n",
       "      <td id=\"T_a3c65_row7_col25\" class=\"data row7 col25\" >-0.10</td>\n",
       "      <td id=\"T_a3c65_row7_col26\" class=\"data row7 col26\" >-0.23</td>\n",
       "      <td id=\"T_a3c65_row7_col27\" class=\"data row7 col27\" >-0.23</td>\n",
       "      <td id=\"T_a3c65_row7_col28\" class=\"data row7 col28\" >-0.18</td>\n",
       "      <td id=\"T_a3c65_row7_col29\" class=\"data row7 col29\" >0.16</td>\n",
       "      <td id=\"T_a3c65_row7_col30\" class=\"data row7 col30\" >-0.16</td>\n",
       "      <td id=\"T_a3c65_row7_col31\" class=\"data row7 col31\" >-0.14</td>\n",
       "      <td id=\"T_a3c65_row7_col32\" class=\"data row7 col32\" >-0.17</td>\n",
       "      <td id=\"T_a3c65_row7_col33\" class=\"data row7 col33\" >-0.15</td>\n",
       "      <td id=\"T_a3c65_row7_col34\" class=\"data row7 col34\" >-0.19</td>\n",
       "      <td id=\"T_a3c65_row7_col35\" class=\"data row7 col35\" >0.71</td>\n",
       "      <td id=\"T_a3c65_row7_col36\" class=\"data row7 col36\" >-0.32</td>\n",
       "      <td id=\"T_a3c65_row7_col37\" class=\"data row7 col37\" >-0.06</td>\n",
       "      <td id=\"T_a3c65_row7_col38\" class=\"data row7 col38\" >-0.18</td>\n",
       "      <td id=\"T_a3c65_row7_col39\" class=\"data row7 col39\" >-0.18</td>\n",
       "      <td id=\"T_a3c65_row7_col40\" class=\"data row7 col40\" >-0.13</td>\n",
       "      <td id=\"T_a3c65_row7_col41\" class=\"data row7 col41\" >-0.18</td>\n",
       "      <td id=\"T_a3c65_row7_col42\" class=\"data row7 col42\" >-0.21</td>\n",
       "      <td id=\"T_a3c65_row7_col43\" class=\"data row7 col43\" >-0.12</td>\n",
       "      <td id=\"T_a3c65_row7_col44\" class=\"data row7 col44\" >0.28</td>\n",
       "      <td id=\"T_a3c65_row7_col45\" class=\"data row7 col45\" >-0.20</td>\n",
       "      <td id=\"T_a3c65_row7_col46\" class=\"data row7 col46\" >-0.07</td>\n",
       "      <td id=\"T_a3c65_row7_col47\" class=\"data row7 col47\" >-0.11</td>\n",
       "      <td id=\"T_a3c65_row7_col48\" class=\"data row7 col48\" >-0.16</td>\n",
       "      <td id=\"T_a3c65_row7_col49\" class=\"data row7 col49\" >0.36</td>\n",
       "      <td id=\"T_a3c65_row7_col50\" class=\"data row7 col50\" >-0.19</td>\n",
       "      <td id=\"T_a3c65_row7_col51\" class=\"data row7 col51\" >-0.31</td>\n",
       "      <td id=\"T_a3c65_row7_col52\" class=\"data row7 col52\" >-0.30</td>\n",
       "      <td id=\"T_a3c65_row7_col53\" class=\"data row7 col53\" >-0.10</td>\n",
       "      <td id=\"T_a3c65_row7_col54\" class=\"data row7 col54\" >-0.11</td>\n",
       "      <td id=\"T_a3c65_row7_col55\" class=\"data row7 col55\" >-0.21</td>\n",
       "      <td id=\"T_a3c65_row7_col56\" class=\"data row7 col56\" >-0.19</td>\n",
       "    </tr>\n",
       "    <tr>\n",
       "      <td id=\"T_a3c65_row8_col0\" class=\"data row8 col0\" >-0.35</td>\n",
       "      <td id=\"T_a3c65_row8_col1\" class=\"data row8 col1\" >-0.16</td>\n",
       "      <td id=\"T_a3c65_row8_col2\" class=\"data row8 col2\" >-0.56</td>\n",
       "      <td id=\"T_a3c65_row8_col3\" class=\"data row8 col3\" >-0.05</td>\n",
       "      <td id=\"T_a3c65_row8_col4\" class=\"data row8 col4\" >0.88</td>\n",
       "      <td id=\"T_a3c65_row8_col5\" class=\"data row8 col5\" >-0.36</td>\n",
       "      <td id=\"T_a3c65_row8_col6\" class=\"data row8 col6\" >1.88</td>\n",
       "      <td id=\"T_a3c65_row8_col7\" class=\"data row8 col7\" >-0.26</td>\n",
       "      <td id=\"T_a3c65_row8_col8\" class=\"data row8 col8\" >-0.32</td>\n",
       "      <td id=\"T_a3c65_row8_col9\" class=\"data row8 col9\" >1.04</td>\n",
       "      <td id=\"T_a3c65_row8_col10\" class=\"data row8 col10\" >4.10</td>\n",
       "      <td id=\"T_a3c65_row8_col11\" class=\"data row8 col11\" >-0.63</td>\n",
       "      <td id=\"T_a3c65_row8_col12\" class=\"data row8 col12\" >2.62</td>\n",
       "      <td id=\"T_a3c65_row8_col13\" class=\"data row8 col13\" >-0.17</td>\n",
       "      <td id=\"T_a3c65_row8_col14\" class=\"data row8 col14\" >-0.19</td>\n",
       "      <td id=\"T_a3c65_row8_col15\" class=\"data row8 col15\" >-0.32</td>\n",
       "      <td id=\"T_a3c65_row8_col16\" class=\"data row8 col16\" >-0.31</td>\n",
       "      <td id=\"T_a3c65_row8_col17\" class=\"data row8 col17\" >-0.35</td>\n",
       "      <td id=\"T_a3c65_row8_col18\" class=\"data row8 col18\" >0.58</td>\n",
       "      <td id=\"T_a3c65_row8_col19\" class=\"data row8 col19\" >-0.16</td>\n",
       "      <td id=\"T_a3c65_row8_col20\" class=\"data row8 col20\" >0.06</td>\n",
       "      <td id=\"T_a3c65_row8_col21\" class=\"data row8 col21\" >-0.12</td>\n",
       "      <td id=\"T_a3c65_row8_col22\" class=\"data row8 col22\" >-0.29</td>\n",
       "      <td id=\"T_a3c65_row8_col23\" class=\"data row8 col23\" >-0.21</td>\n",
       "      <td id=\"T_a3c65_row8_col24\" class=\"data row8 col24\" >-0.34</td>\n",
       "      <td id=\"T_a3c65_row8_col25\" class=\"data row8 col25\" >-0.30</td>\n",
       "      <td id=\"T_a3c65_row8_col26\" class=\"data row8 col26\" >-0.23</td>\n",
       "      <td id=\"T_a3c65_row8_col27\" class=\"data row8 col27\" >-0.23</td>\n",
       "      <td id=\"T_a3c65_row8_col28\" class=\"data row8 col28\" >-0.18</td>\n",
       "      <td id=\"T_a3c65_row8_col29\" class=\"data row8 col29\" >-0.22</td>\n",
       "      <td id=\"T_a3c65_row8_col30\" class=\"data row8 col30\" >-0.16</td>\n",
       "      <td id=\"T_a3c65_row8_col31\" class=\"data row8 col31\" >-0.14</td>\n",
       "      <td id=\"T_a3c65_row8_col32\" class=\"data row8 col32\" >-0.17</td>\n",
       "      <td id=\"T_a3c65_row8_col33\" class=\"data row8 col33\" >-0.15</td>\n",
       "      <td id=\"T_a3c65_row8_col34\" class=\"data row8 col34\" >-0.19</td>\n",
       "      <td id=\"T_a3c65_row8_col35\" class=\"data row8 col35\" >-0.24</td>\n",
       "      <td id=\"T_a3c65_row8_col36\" class=\"data row8 col36\" >-0.32</td>\n",
       "      <td id=\"T_a3c65_row8_col37\" class=\"data row8 col37\" >-0.06</td>\n",
       "      <td id=\"T_a3c65_row8_col38\" class=\"data row8 col38\" >-0.18</td>\n",
       "      <td id=\"T_a3c65_row8_col39\" class=\"data row8 col39\" >-0.18</td>\n",
       "      <td id=\"T_a3c65_row8_col40\" class=\"data row8 col40\" >-0.13</td>\n",
       "      <td id=\"T_a3c65_row8_col41\" class=\"data row8 col41\" >-0.18</td>\n",
       "      <td id=\"T_a3c65_row8_col42\" class=\"data row8 col42\" >-0.21</td>\n",
       "      <td id=\"T_a3c65_row8_col43\" class=\"data row8 col43\" >-0.12</td>\n",
       "      <td id=\"T_a3c65_row8_col44\" class=\"data row8 col44\" >-0.30</td>\n",
       "      <td id=\"T_a3c65_row8_col45\" class=\"data row8 col45\" >-0.20</td>\n",
       "      <td id=\"T_a3c65_row8_col46\" class=\"data row8 col46\" >-0.07</td>\n",
       "      <td id=\"T_a3c65_row8_col47\" class=\"data row8 col47\" >-0.11</td>\n",
       "      <td id=\"T_a3c65_row8_col48\" class=\"data row8 col48\" >-0.16</td>\n",
       "      <td id=\"T_a3c65_row8_col49\" class=\"data row8 col49\" >-0.48</td>\n",
       "      <td id=\"T_a3c65_row8_col50\" class=\"data row8 col50\" >-0.19</td>\n",
       "      <td id=\"T_a3c65_row8_col51\" class=\"data row8 col51\" >-0.31</td>\n",
       "      <td id=\"T_a3c65_row8_col52\" class=\"data row8 col52\" >-0.30</td>\n",
       "      <td id=\"T_a3c65_row8_col53\" class=\"data row8 col53\" >-0.10</td>\n",
       "      <td id=\"T_a3c65_row8_col54\" class=\"data row8 col54\" >-0.10</td>\n",
       "      <td id=\"T_a3c65_row8_col55\" class=\"data row8 col55\" >-0.22</td>\n",
       "      <td id=\"T_a3c65_row8_col56\" class=\"data row8 col56\" >-0.42</td>\n",
       "    </tr>\n",
       "    <tr>\n",
       "      <td id=\"T_a3c65_row9_col0\" class=\"data row9 col0\" >-0.35</td>\n",
       "      <td id=\"T_a3c65_row9_col1\" class=\"data row9 col1\" >-0.16</td>\n",
       "      <td id=\"T_a3c65_row9_col2\" class=\"data row9 col2\" >3.33</td>\n",
       "      <td id=\"T_a3c65_row9_col3\" class=\"data row9 col3\" >-0.05</td>\n",
       "      <td id=\"T_a3c65_row9_col4\" class=\"data row9 col4\" >1.01</td>\n",
       "      <td id=\"T_a3c65_row9_col5\" class=\"data row9 col5\" >-0.36</td>\n",
       "      <td id=\"T_a3c65_row9_col6\" class=\"data row9 col6\" >-0.29</td>\n",
       "      <td id=\"T_a3c65_row9_col7\" class=\"data row9 col7\" >-0.26</td>\n",
       "      <td id=\"T_a3c65_row9_col8\" class=\"data row9 col8\" >-0.32</td>\n",
       "      <td id=\"T_a3c65_row9_col9\" class=\"data row9 col9\" >-0.37</td>\n",
       "      <td id=\"T_a3c65_row9_col10\" class=\"data row9 col10\" >-0.30</td>\n",
       "      <td id=\"T_a3c65_row9_col11\" class=\"data row9 col11\" >1.65</td>\n",
       "      <td id=\"T_a3c65_row9_col12\" class=\"data row9 col12\" >-0.30</td>\n",
       "      <td id=\"T_a3c65_row9_col13\" class=\"data row9 col13\" >-0.17</td>\n",
       "      <td id=\"T_a3c65_row9_col14\" class=\"data row9 col14\" >-0.19</td>\n",
       "      <td id=\"T_a3c65_row9_col15\" class=\"data row9 col15\" >-0.32</td>\n",
       "      <td id=\"T_a3c65_row9_col16\" class=\"data row9 col16\" >-0.31</td>\n",
       "      <td id=\"T_a3c65_row9_col17\" class=\"data row9 col17\" >-0.35</td>\n",
       "      <td id=\"T_a3c65_row9_col18\" class=\"data row9 col18\" >1.83</td>\n",
       "      <td id=\"T_a3c65_row9_col19\" class=\"data row9 col19\" >-0.16</td>\n",
       "      <td id=\"T_a3c65_row9_col20\" class=\"data row9 col20\" >0.13</td>\n",
       "      <td id=\"T_a3c65_row9_col21\" class=\"data row9 col21\" >-0.12</td>\n",
       "      <td id=\"T_a3c65_row9_col22\" class=\"data row9 col22\" >-0.29</td>\n",
       "      <td id=\"T_a3c65_row9_col23\" class=\"data row9 col23\" >-0.21</td>\n",
       "      <td id=\"T_a3c65_row9_col24\" class=\"data row9 col24\" >-0.34</td>\n",
       "      <td id=\"T_a3c65_row9_col25\" class=\"data row9 col25\" >-0.30</td>\n",
       "      <td id=\"T_a3c65_row9_col26\" class=\"data row9 col26\" >-0.23</td>\n",
       "      <td id=\"T_a3c65_row9_col27\" class=\"data row9 col27\" >-0.23</td>\n",
       "      <td id=\"T_a3c65_row9_col28\" class=\"data row9 col28\" >-0.18</td>\n",
       "      <td id=\"T_a3c65_row9_col29\" class=\"data row9 col29\" >-0.22</td>\n",
       "      <td id=\"T_a3c65_row9_col30\" class=\"data row9 col30\" >-0.16</td>\n",
       "      <td id=\"T_a3c65_row9_col31\" class=\"data row9 col31\" >-0.14</td>\n",
       "      <td id=\"T_a3c65_row9_col32\" class=\"data row9 col32\" >-0.17</td>\n",
       "      <td id=\"T_a3c65_row9_col33\" class=\"data row9 col33\" >-0.15</td>\n",
       "      <td id=\"T_a3c65_row9_col34\" class=\"data row9 col34\" >-0.19</td>\n",
       "      <td id=\"T_a3c65_row9_col35\" class=\"data row9 col35\" >-0.24</td>\n",
       "      <td id=\"T_a3c65_row9_col36\" class=\"data row9 col36\" >-0.32</td>\n",
       "      <td id=\"T_a3c65_row9_col37\" class=\"data row9 col37\" >-0.06</td>\n",
       "      <td id=\"T_a3c65_row9_col38\" class=\"data row9 col38\" >2.18</td>\n",
       "      <td id=\"T_a3c65_row9_col39\" class=\"data row9 col39\" >-0.18</td>\n",
       "      <td id=\"T_a3c65_row9_col40\" class=\"data row9 col40\" >-0.13</td>\n",
       "      <td id=\"T_a3c65_row9_col41\" class=\"data row9 col41\" >2.37</td>\n",
       "      <td id=\"T_a3c65_row9_col42\" class=\"data row9 col42\" >-0.21</td>\n",
       "      <td id=\"T_a3c65_row9_col43\" class=\"data row9 col43\" >-0.12</td>\n",
       "      <td id=\"T_a3c65_row9_col44\" class=\"data row9 col44\" >-0.30</td>\n",
       "      <td id=\"T_a3c65_row9_col45\" class=\"data row9 col45\" >-0.20</td>\n",
       "      <td id=\"T_a3c65_row9_col46\" class=\"data row9 col46\" >-0.07</td>\n",
       "      <td id=\"T_a3c65_row9_col47\" class=\"data row9 col47\" >-0.11</td>\n",
       "      <td id=\"T_a3c65_row9_col48\" class=\"data row9 col48\" >-0.16</td>\n",
       "      <td id=\"T_a3c65_row9_col49\" class=\"data row9 col49\" >-0.48</td>\n",
       "      <td id=\"T_a3c65_row9_col50\" class=\"data row9 col50\" >-0.19</td>\n",
       "      <td id=\"T_a3c65_row9_col51\" class=\"data row9 col51\" >-0.31</td>\n",
       "      <td id=\"T_a3c65_row9_col52\" class=\"data row9 col52\" >-0.30</td>\n",
       "      <td id=\"T_a3c65_row9_col53\" class=\"data row9 col53\" >-0.10</td>\n",
       "      <td id=\"T_a3c65_row9_col54\" class=\"data row9 col54\" >-0.12</td>\n",
       "      <td id=\"T_a3c65_row9_col55\" class=\"data row9 col55\" >-0.23</td>\n",
       "      <td id=\"T_a3c65_row9_col56\" class=\"data row9 col56\" >-0.42</td>\n",
       "    </tr>\n",
       "  </tbody>\n",
       "</table>\n"
      ],
      "text/plain": [
       "<pandas.io.formats.style.Styler at 0x14b443650>"
      ]
     },
     "execution_count": 34,
     "metadata": {},
     "output_type": "execute_result"
    }
   ],
   "source": [
    "pandas_processx.return_formatted_table \\\n",
    "    (x_train_scaled_oversampled_dataframe, \n",
    "     'Table 2.7.2: Scaled Features Training Oversampled Data')"
   ]
  },
  {
   "cell_type": "code",
   "execution_count": 35,
   "metadata": {},
   "outputs": [
    {
     "data": {
      "text/html": [
       "<style type=\"text/css\">\n",
       "#T_c5f5b caption {\n",
       "  color: black;\n",
       "  font-size: 20px;\n",
       "  font-style: bold;\n",
       "  text-align: center;\n",
       "}\n",
       "#T_c5f5b_row0_col0, #T_c5f5b_row0_col1, #T_c5f5b_row0_col2, #T_c5f5b_row0_col3, #T_c5f5b_row0_col4, #T_c5f5b_row0_col5, #T_c5f5b_row0_col6, #T_c5f5b_row0_col7, #T_c5f5b_row0_col8, #T_c5f5b_row0_col9, #T_c5f5b_row0_col10, #T_c5f5b_row0_col11, #T_c5f5b_row0_col12, #T_c5f5b_row0_col13, #T_c5f5b_row0_col14, #T_c5f5b_row0_col15, #T_c5f5b_row0_col16, #T_c5f5b_row0_col17, #T_c5f5b_row0_col18, #T_c5f5b_row0_col19, #T_c5f5b_row0_col20, #T_c5f5b_row0_col21, #T_c5f5b_row0_col22, #T_c5f5b_row0_col23, #T_c5f5b_row0_col24, #T_c5f5b_row0_col25, #T_c5f5b_row0_col26, #T_c5f5b_row0_col27, #T_c5f5b_row0_col28, #T_c5f5b_row0_col29, #T_c5f5b_row0_col30, #T_c5f5b_row0_col31, #T_c5f5b_row0_col32, #T_c5f5b_row0_col33, #T_c5f5b_row0_col34, #T_c5f5b_row0_col35, #T_c5f5b_row0_col36, #T_c5f5b_row0_col37, #T_c5f5b_row0_col38, #T_c5f5b_row0_col39, #T_c5f5b_row0_col40, #T_c5f5b_row0_col41, #T_c5f5b_row0_col42, #T_c5f5b_row0_col43, #T_c5f5b_row0_col44, #T_c5f5b_row0_col45, #T_c5f5b_row0_col46, #T_c5f5b_row0_col47, #T_c5f5b_row0_col48, #T_c5f5b_row0_col49, #T_c5f5b_row0_col50, #T_c5f5b_row0_col51, #T_c5f5b_row0_col52, #T_c5f5b_row0_col53, #T_c5f5b_row0_col54, #T_c5f5b_row0_col55, #T_c5f5b_row0_col56, #T_c5f5b_row1_col0, #T_c5f5b_row1_col1, #T_c5f5b_row1_col2, #T_c5f5b_row1_col3, #T_c5f5b_row1_col4, #T_c5f5b_row1_col5, #T_c5f5b_row1_col6, #T_c5f5b_row1_col7, #T_c5f5b_row1_col8, #T_c5f5b_row1_col9, #T_c5f5b_row1_col10, #T_c5f5b_row1_col11, #T_c5f5b_row1_col12, #T_c5f5b_row1_col13, #T_c5f5b_row1_col14, #T_c5f5b_row1_col15, #T_c5f5b_row1_col16, #T_c5f5b_row1_col17, #T_c5f5b_row1_col18, #T_c5f5b_row1_col19, #T_c5f5b_row1_col20, #T_c5f5b_row1_col21, #T_c5f5b_row1_col22, #T_c5f5b_row1_col23, #T_c5f5b_row1_col24, #T_c5f5b_row1_col25, #T_c5f5b_row1_col26, #T_c5f5b_row1_col27, #T_c5f5b_row1_col28, #T_c5f5b_row1_col29, #T_c5f5b_row1_col30, #T_c5f5b_row1_col31, #T_c5f5b_row1_col32, #T_c5f5b_row1_col33, #T_c5f5b_row1_col34, #T_c5f5b_row1_col35, #T_c5f5b_row1_col36, #T_c5f5b_row1_col37, #T_c5f5b_row1_col38, #T_c5f5b_row1_col39, #T_c5f5b_row1_col40, #T_c5f5b_row1_col41, #T_c5f5b_row1_col42, #T_c5f5b_row1_col43, #T_c5f5b_row1_col44, #T_c5f5b_row1_col45, #T_c5f5b_row1_col46, #T_c5f5b_row1_col47, #T_c5f5b_row1_col48, #T_c5f5b_row1_col49, #T_c5f5b_row1_col50, #T_c5f5b_row1_col51, #T_c5f5b_row1_col52, #T_c5f5b_row1_col53, #T_c5f5b_row1_col54, #T_c5f5b_row1_col55, #T_c5f5b_row1_col56, #T_c5f5b_row2_col0, #T_c5f5b_row2_col1, #T_c5f5b_row2_col2, #T_c5f5b_row2_col3, #T_c5f5b_row2_col4, #T_c5f5b_row2_col5, #T_c5f5b_row2_col6, #T_c5f5b_row2_col7, #T_c5f5b_row2_col8, #T_c5f5b_row2_col9, #T_c5f5b_row2_col10, #T_c5f5b_row2_col11, #T_c5f5b_row2_col12, #T_c5f5b_row2_col13, #T_c5f5b_row2_col14, #T_c5f5b_row2_col15, #T_c5f5b_row2_col16, #T_c5f5b_row2_col17, #T_c5f5b_row2_col18, #T_c5f5b_row2_col19, #T_c5f5b_row2_col20, #T_c5f5b_row2_col21, #T_c5f5b_row2_col22, #T_c5f5b_row2_col23, #T_c5f5b_row2_col24, #T_c5f5b_row2_col25, #T_c5f5b_row2_col26, #T_c5f5b_row2_col27, #T_c5f5b_row2_col28, #T_c5f5b_row2_col29, #T_c5f5b_row2_col30, #T_c5f5b_row2_col31, #T_c5f5b_row2_col32, #T_c5f5b_row2_col33, #T_c5f5b_row2_col34, #T_c5f5b_row2_col35, #T_c5f5b_row2_col36, #T_c5f5b_row2_col37, #T_c5f5b_row2_col38, #T_c5f5b_row2_col39, #T_c5f5b_row2_col40, #T_c5f5b_row2_col41, #T_c5f5b_row2_col42, #T_c5f5b_row2_col43, #T_c5f5b_row2_col44, #T_c5f5b_row2_col45, #T_c5f5b_row2_col46, #T_c5f5b_row2_col47, #T_c5f5b_row2_col48, #T_c5f5b_row2_col49, #T_c5f5b_row2_col50, #T_c5f5b_row2_col51, #T_c5f5b_row2_col52, #T_c5f5b_row2_col53, #T_c5f5b_row2_col54, #T_c5f5b_row2_col55, #T_c5f5b_row2_col56, #T_c5f5b_row3_col0, #T_c5f5b_row3_col1, #T_c5f5b_row3_col2, #T_c5f5b_row3_col3, #T_c5f5b_row3_col4, #T_c5f5b_row3_col5, #T_c5f5b_row3_col6, #T_c5f5b_row3_col7, #T_c5f5b_row3_col8, #T_c5f5b_row3_col9, #T_c5f5b_row3_col10, #T_c5f5b_row3_col11, #T_c5f5b_row3_col12, #T_c5f5b_row3_col13, #T_c5f5b_row3_col14, #T_c5f5b_row3_col15, #T_c5f5b_row3_col16, #T_c5f5b_row3_col17, #T_c5f5b_row3_col18, #T_c5f5b_row3_col19, #T_c5f5b_row3_col20, #T_c5f5b_row3_col21, #T_c5f5b_row3_col22, #T_c5f5b_row3_col23, #T_c5f5b_row3_col24, #T_c5f5b_row3_col25, #T_c5f5b_row3_col26, #T_c5f5b_row3_col27, #T_c5f5b_row3_col28, #T_c5f5b_row3_col29, #T_c5f5b_row3_col30, #T_c5f5b_row3_col31, #T_c5f5b_row3_col32, #T_c5f5b_row3_col33, #T_c5f5b_row3_col34, #T_c5f5b_row3_col35, #T_c5f5b_row3_col36, #T_c5f5b_row3_col37, #T_c5f5b_row3_col38, #T_c5f5b_row3_col39, #T_c5f5b_row3_col40, #T_c5f5b_row3_col41, #T_c5f5b_row3_col42, #T_c5f5b_row3_col43, #T_c5f5b_row3_col44, #T_c5f5b_row3_col45, #T_c5f5b_row3_col46, #T_c5f5b_row3_col47, #T_c5f5b_row3_col48, #T_c5f5b_row3_col49, #T_c5f5b_row3_col50, #T_c5f5b_row3_col51, #T_c5f5b_row3_col52, #T_c5f5b_row3_col53, #T_c5f5b_row3_col54, #T_c5f5b_row3_col55, #T_c5f5b_row3_col56, #T_c5f5b_row4_col0, #T_c5f5b_row4_col1, #T_c5f5b_row4_col2, #T_c5f5b_row4_col3, #T_c5f5b_row4_col4, #T_c5f5b_row4_col5, #T_c5f5b_row4_col6, #T_c5f5b_row4_col7, #T_c5f5b_row4_col8, #T_c5f5b_row4_col9, #T_c5f5b_row4_col10, #T_c5f5b_row4_col11, #T_c5f5b_row4_col12, #T_c5f5b_row4_col13, #T_c5f5b_row4_col14, #T_c5f5b_row4_col15, #T_c5f5b_row4_col16, #T_c5f5b_row4_col17, #T_c5f5b_row4_col18, #T_c5f5b_row4_col19, #T_c5f5b_row4_col20, #T_c5f5b_row4_col21, #T_c5f5b_row4_col22, #T_c5f5b_row4_col23, #T_c5f5b_row4_col24, #T_c5f5b_row4_col25, #T_c5f5b_row4_col26, #T_c5f5b_row4_col27, #T_c5f5b_row4_col28, #T_c5f5b_row4_col29, #T_c5f5b_row4_col30, #T_c5f5b_row4_col31, #T_c5f5b_row4_col32, #T_c5f5b_row4_col33, #T_c5f5b_row4_col34, #T_c5f5b_row4_col35, #T_c5f5b_row4_col36, #T_c5f5b_row4_col37, #T_c5f5b_row4_col38, #T_c5f5b_row4_col39, #T_c5f5b_row4_col40, #T_c5f5b_row4_col41, #T_c5f5b_row4_col42, #T_c5f5b_row4_col43, #T_c5f5b_row4_col44, #T_c5f5b_row4_col45, #T_c5f5b_row4_col46, #T_c5f5b_row4_col47, #T_c5f5b_row4_col48, #T_c5f5b_row4_col49, #T_c5f5b_row4_col50, #T_c5f5b_row4_col51, #T_c5f5b_row4_col52, #T_c5f5b_row4_col53, #T_c5f5b_row4_col54, #T_c5f5b_row4_col55, #T_c5f5b_row4_col56, #T_c5f5b_row5_col0, #T_c5f5b_row5_col1, #T_c5f5b_row5_col2, #T_c5f5b_row5_col3, #T_c5f5b_row5_col4, #T_c5f5b_row5_col5, #T_c5f5b_row5_col6, #T_c5f5b_row5_col7, #T_c5f5b_row5_col8, #T_c5f5b_row5_col9, #T_c5f5b_row5_col10, #T_c5f5b_row5_col11, #T_c5f5b_row5_col12, #T_c5f5b_row5_col13, #T_c5f5b_row5_col14, #T_c5f5b_row5_col15, #T_c5f5b_row5_col16, #T_c5f5b_row5_col17, #T_c5f5b_row5_col18, #T_c5f5b_row5_col19, #T_c5f5b_row5_col20, #T_c5f5b_row5_col21, #T_c5f5b_row5_col22, #T_c5f5b_row5_col23, #T_c5f5b_row5_col24, #T_c5f5b_row5_col25, #T_c5f5b_row5_col26, #T_c5f5b_row5_col27, #T_c5f5b_row5_col28, #T_c5f5b_row5_col29, #T_c5f5b_row5_col30, #T_c5f5b_row5_col31, #T_c5f5b_row5_col32, #T_c5f5b_row5_col33, #T_c5f5b_row5_col34, #T_c5f5b_row5_col35, #T_c5f5b_row5_col36, #T_c5f5b_row5_col37, #T_c5f5b_row5_col38, #T_c5f5b_row5_col39, #T_c5f5b_row5_col40, #T_c5f5b_row5_col41, #T_c5f5b_row5_col42, #T_c5f5b_row5_col43, #T_c5f5b_row5_col44, #T_c5f5b_row5_col45, #T_c5f5b_row5_col46, #T_c5f5b_row5_col47, #T_c5f5b_row5_col48, #T_c5f5b_row5_col49, #T_c5f5b_row5_col50, #T_c5f5b_row5_col51, #T_c5f5b_row5_col52, #T_c5f5b_row5_col53, #T_c5f5b_row5_col54, #T_c5f5b_row5_col55, #T_c5f5b_row5_col56, #T_c5f5b_row6_col0, #T_c5f5b_row6_col1, #T_c5f5b_row6_col2, #T_c5f5b_row6_col3, #T_c5f5b_row6_col4, #T_c5f5b_row6_col5, #T_c5f5b_row6_col6, #T_c5f5b_row6_col7, #T_c5f5b_row6_col8, #T_c5f5b_row6_col9, #T_c5f5b_row6_col10, #T_c5f5b_row6_col11, #T_c5f5b_row6_col12, #T_c5f5b_row6_col13, #T_c5f5b_row6_col14, #T_c5f5b_row6_col15, #T_c5f5b_row6_col16, #T_c5f5b_row6_col17, #T_c5f5b_row6_col18, #T_c5f5b_row6_col19, #T_c5f5b_row6_col20, #T_c5f5b_row6_col21, #T_c5f5b_row6_col22, #T_c5f5b_row6_col23, #T_c5f5b_row6_col24, #T_c5f5b_row6_col25, #T_c5f5b_row6_col26, #T_c5f5b_row6_col27, #T_c5f5b_row6_col28, #T_c5f5b_row6_col29, #T_c5f5b_row6_col30, #T_c5f5b_row6_col31, #T_c5f5b_row6_col32, #T_c5f5b_row6_col33, #T_c5f5b_row6_col34, #T_c5f5b_row6_col35, #T_c5f5b_row6_col36, #T_c5f5b_row6_col37, #T_c5f5b_row6_col38, #T_c5f5b_row6_col39, #T_c5f5b_row6_col40, #T_c5f5b_row6_col41, #T_c5f5b_row6_col42, #T_c5f5b_row6_col43, #T_c5f5b_row6_col44, #T_c5f5b_row6_col45, #T_c5f5b_row6_col46, #T_c5f5b_row6_col47, #T_c5f5b_row6_col48, #T_c5f5b_row6_col49, #T_c5f5b_row6_col50, #T_c5f5b_row6_col51, #T_c5f5b_row6_col52, #T_c5f5b_row6_col53, #T_c5f5b_row6_col54, #T_c5f5b_row6_col55, #T_c5f5b_row6_col56, #T_c5f5b_row7_col0, #T_c5f5b_row7_col1, #T_c5f5b_row7_col2, #T_c5f5b_row7_col3, #T_c5f5b_row7_col4, #T_c5f5b_row7_col5, #T_c5f5b_row7_col6, #T_c5f5b_row7_col7, #T_c5f5b_row7_col8, #T_c5f5b_row7_col9, #T_c5f5b_row7_col10, #T_c5f5b_row7_col11, #T_c5f5b_row7_col12, #T_c5f5b_row7_col13, #T_c5f5b_row7_col14, #T_c5f5b_row7_col15, #T_c5f5b_row7_col16, #T_c5f5b_row7_col17, #T_c5f5b_row7_col18, #T_c5f5b_row7_col19, #T_c5f5b_row7_col20, #T_c5f5b_row7_col21, #T_c5f5b_row7_col22, #T_c5f5b_row7_col23, #T_c5f5b_row7_col24, #T_c5f5b_row7_col25, #T_c5f5b_row7_col26, #T_c5f5b_row7_col27, #T_c5f5b_row7_col28, #T_c5f5b_row7_col29, #T_c5f5b_row7_col30, #T_c5f5b_row7_col31, #T_c5f5b_row7_col32, #T_c5f5b_row7_col33, #T_c5f5b_row7_col34, #T_c5f5b_row7_col35, #T_c5f5b_row7_col36, #T_c5f5b_row7_col37, #T_c5f5b_row7_col38, #T_c5f5b_row7_col39, #T_c5f5b_row7_col40, #T_c5f5b_row7_col41, #T_c5f5b_row7_col42, #T_c5f5b_row7_col43, #T_c5f5b_row7_col44, #T_c5f5b_row7_col45, #T_c5f5b_row7_col46, #T_c5f5b_row7_col47, #T_c5f5b_row7_col48, #T_c5f5b_row7_col49, #T_c5f5b_row7_col50, #T_c5f5b_row7_col51, #T_c5f5b_row7_col52, #T_c5f5b_row7_col53, #T_c5f5b_row7_col54, #T_c5f5b_row7_col55, #T_c5f5b_row7_col56, #T_c5f5b_row8_col0, #T_c5f5b_row8_col1, #T_c5f5b_row8_col2, #T_c5f5b_row8_col3, #T_c5f5b_row8_col4, #T_c5f5b_row8_col5, #T_c5f5b_row8_col6, #T_c5f5b_row8_col7, #T_c5f5b_row8_col8, #T_c5f5b_row8_col9, #T_c5f5b_row8_col10, #T_c5f5b_row8_col11, #T_c5f5b_row8_col12, #T_c5f5b_row8_col13, #T_c5f5b_row8_col14, #T_c5f5b_row8_col15, #T_c5f5b_row8_col16, #T_c5f5b_row8_col17, #T_c5f5b_row8_col18, #T_c5f5b_row8_col19, #T_c5f5b_row8_col20, #T_c5f5b_row8_col21, #T_c5f5b_row8_col22, #T_c5f5b_row8_col23, #T_c5f5b_row8_col24, #T_c5f5b_row8_col25, #T_c5f5b_row8_col26, #T_c5f5b_row8_col27, #T_c5f5b_row8_col28, #T_c5f5b_row8_col29, #T_c5f5b_row8_col30, #T_c5f5b_row8_col31, #T_c5f5b_row8_col32, #T_c5f5b_row8_col33, #T_c5f5b_row8_col34, #T_c5f5b_row8_col35, #T_c5f5b_row8_col36, #T_c5f5b_row8_col37, #T_c5f5b_row8_col38, #T_c5f5b_row8_col39, #T_c5f5b_row8_col40, #T_c5f5b_row8_col41, #T_c5f5b_row8_col42, #T_c5f5b_row8_col43, #T_c5f5b_row8_col44, #T_c5f5b_row8_col45, #T_c5f5b_row8_col46, #T_c5f5b_row8_col47, #T_c5f5b_row8_col48, #T_c5f5b_row8_col49, #T_c5f5b_row8_col50, #T_c5f5b_row8_col51, #T_c5f5b_row8_col52, #T_c5f5b_row8_col53, #T_c5f5b_row8_col54, #T_c5f5b_row8_col55, #T_c5f5b_row8_col56, #T_c5f5b_row9_col0, #T_c5f5b_row9_col1, #T_c5f5b_row9_col2, #T_c5f5b_row9_col3, #T_c5f5b_row9_col4, #T_c5f5b_row9_col5, #T_c5f5b_row9_col6, #T_c5f5b_row9_col7, #T_c5f5b_row9_col8, #T_c5f5b_row9_col9, #T_c5f5b_row9_col10, #T_c5f5b_row9_col11, #T_c5f5b_row9_col12, #T_c5f5b_row9_col13, #T_c5f5b_row9_col14, #T_c5f5b_row9_col15, #T_c5f5b_row9_col16, #T_c5f5b_row9_col17, #T_c5f5b_row9_col18, #T_c5f5b_row9_col19, #T_c5f5b_row9_col20, #T_c5f5b_row9_col21, #T_c5f5b_row9_col22, #T_c5f5b_row9_col23, #T_c5f5b_row9_col24, #T_c5f5b_row9_col25, #T_c5f5b_row9_col26, #T_c5f5b_row9_col27, #T_c5f5b_row9_col28, #T_c5f5b_row9_col29, #T_c5f5b_row9_col30, #T_c5f5b_row9_col31, #T_c5f5b_row9_col32, #T_c5f5b_row9_col33, #T_c5f5b_row9_col34, #T_c5f5b_row9_col35, #T_c5f5b_row9_col36, #T_c5f5b_row9_col37, #T_c5f5b_row9_col38, #T_c5f5b_row9_col39, #T_c5f5b_row9_col40, #T_c5f5b_row9_col41, #T_c5f5b_row9_col42, #T_c5f5b_row9_col43, #T_c5f5b_row9_col44, #T_c5f5b_row9_col45, #T_c5f5b_row9_col46, #T_c5f5b_row9_col47, #T_c5f5b_row9_col48, #T_c5f5b_row9_col49, #T_c5f5b_row9_col50, #T_c5f5b_row9_col51, #T_c5f5b_row9_col52, #T_c5f5b_row9_col53, #T_c5f5b_row9_col54, #T_c5f5b_row9_col55, #T_c5f5b_row9_col56 {\n",
       "  text-align: center;\n",
       "  border: 1.3px solid red;\n",
       "  color: blue;\n",
       "}\n",
       "</style>\n",
       "<table id=\"T_c5f5b\">\n",
       "  <caption>Table 2.7.3: Scaled Features Training Cluster Centroids Data</caption>\n",
       "  <thead>\n",
       "    <tr>\n",
       "      <th id=\"T_c5f5b_level0_col0\" class=\"col_heading level0 col0\" >word_freq_make</th>\n",
       "      <th id=\"T_c5f5b_level0_col1\" class=\"col_heading level0 col1\" >word_freq_address</th>\n",
       "      <th id=\"T_c5f5b_level0_col2\" class=\"col_heading level0 col2\" >word_freq_all</th>\n",
       "      <th id=\"T_c5f5b_level0_col3\" class=\"col_heading level0 col3\" >word_freq_3d</th>\n",
       "      <th id=\"T_c5f5b_level0_col4\" class=\"col_heading level0 col4\" >word_freq_our</th>\n",
       "      <th id=\"T_c5f5b_level0_col5\" class=\"col_heading level0 col5\" >word_freq_over</th>\n",
       "      <th id=\"T_c5f5b_level0_col6\" class=\"col_heading level0 col6\" >word_freq_remove</th>\n",
       "      <th id=\"T_c5f5b_level0_col7\" class=\"col_heading level0 col7\" >word_freq_internet</th>\n",
       "      <th id=\"T_c5f5b_level0_col8\" class=\"col_heading level0 col8\" >word_freq_order</th>\n",
       "      <th id=\"T_c5f5b_level0_col9\" class=\"col_heading level0 col9\" >word_freq_mail</th>\n",
       "      <th id=\"T_c5f5b_level0_col10\" class=\"col_heading level0 col10\" >word_freq_receive</th>\n",
       "      <th id=\"T_c5f5b_level0_col11\" class=\"col_heading level0 col11\" >word_freq_will</th>\n",
       "      <th id=\"T_c5f5b_level0_col12\" class=\"col_heading level0 col12\" >word_freq_people</th>\n",
       "      <th id=\"T_c5f5b_level0_col13\" class=\"col_heading level0 col13\" >word_freq_report</th>\n",
       "      <th id=\"T_c5f5b_level0_col14\" class=\"col_heading level0 col14\" >word_freq_addresses</th>\n",
       "      <th id=\"T_c5f5b_level0_col15\" class=\"col_heading level0 col15\" >word_freq_free</th>\n",
       "      <th id=\"T_c5f5b_level0_col16\" class=\"col_heading level0 col16\" >word_freq_business</th>\n",
       "      <th id=\"T_c5f5b_level0_col17\" class=\"col_heading level0 col17\" >word_freq_email</th>\n",
       "      <th id=\"T_c5f5b_level0_col18\" class=\"col_heading level0 col18\" >word_freq_you</th>\n",
       "      <th id=\"T_c5f5b_level0_col19\" class=\"col_heading level0 col19\" >word_freq_credit</th>\n",
       "      <th id=\"T_c5f5b_level0_col20\" class=\"col_heading level0 col20\" >word_freq_your</th>\n",
       "      <th id=\"T_c5f5b_level0_col21\" class=\"col_heading level0 col21\" >word_freq_font</th>\n",
       "      <th id=\"T_c5f5b_level0_col22\" class=\"col_heading level0 col22\" >word_freq_000</th>\n",
       "      <th id=\"T_c5f5b_level0_col23\" class=\"col_heading level0 col23\" >word_freq_money</th>\n",
       "      <th id=\"T_c5f5b_level0_col24\" class=\"col_heading level0 col24\" >word_freq_hp</th>\n",
       "      <th id=\"T_c5f5b_level0_col25\" class=\"col_heading level0 col25\" >word_freq_hpl</th>\n",
       "      <th id=\"T_c5f5b_level0_col26\" class=\"col_heading level0 col26\" >word_freq_george</th>\n",
       "      <th id=\"T_c5f5b_level0_col27\" class=\"col_heading level0 col27\" >word_freq_650</th>\n",
       "      <th id=\"T_c5f5b_level0_col28\" class=\"col_heading level0 col28\" >word_freq_lab</th>\n",
       "      <th id=\"T_c5f5b_level0_col29\" class=\"col_heading level0 col29\" >word_freq_labs</th>\n",
       "      <th id=\"T_c5f5b_level0_col30\" class=\"col_heading level0 col30\" >word_freq_telnet</th>\n",
       "      <th id=\"T_c5f5b_level0_col31\" class=\"col_heading level0 col31\" >word_freq_857</th>\n",
       "      <th id=\"T_c5f5b_level0_col32\" class=\"col_heading level0 col32\" >word_freq_data</th>\n",
       "      <th id=\"T_c5f5b_level0_col33\" class=\"col_heading level0 col33\" >word_freq_415</th>\n",
       "      <th id=\"T_c5f5b_level0_col34\" class=\"col_heading level0 col34\" >word_freq_85</th>\n",
       "      <th id=\"T_c5f5b_level0_col35\" class=\"col_heading level0 col35\" >word_freq_technology</th>\n",
       "      <th id=\"T_c5f5b_level0_col36\" class=\"col_heading level0 col36\" >word_freq_1999</th>\n",
       "      <th id=\"T_c5f5b_level0_col37\" class=\"col_heading level0 col37\" >word_freq_parts</th>\n",
       "      <th id=\"T_c5f5b_level0_col38\" class=\"col_heading level0 col38\" >word_freq_pm</th>\n",
       "      <th id=\"T_c5f5b_level0_col39\" class=\"col_heading level0 col39\" >word_freq_direct</th>\n",
       "      <th id=\"T_c5f5b_level0_col40\" class=\"col_heading level0 col40\" >word_freq_cs</th>\n",
       "      <th id=\"T_c5f5b_level0_col41\" class=\"col_heading level0 col41\" >word_freq_meeting</th>\n",
       "      <th id=\"T_c5f5b_level0_col42\" class=\"col_heading level0 col42\" >word_freq_original</th>\n",
       "      <th id=\"T_c5f5b_level0_col43\" class=\"col_heading level0 col43\" >word_freq_project</th>\n",
       "      <th id=\"T_c5f5b_level0_col44\" class=\"col_heading level0 col44\" >word_freq_re</th>\n",
       "      <th id=\"T_c5f5b_level0_col45\" class=\"col_heading level0 col45\" >word_freq_edu</th>\n",
       "      <th id=\"T_c5f5b_level0_col46\" class=\"col_heading level0 col46\" >word_freq_table</th>\n",
       "      <th id=\"T_c5f5b_level0_col47\" class=\"col_heading level0 col47\" >word_freq_conference</th>\n",
       "      <th id=\"T_c5f5b_level0_col48\" class=\"col_heading level0 col48\" >char_freq_;</th>\n",
       "      <th id=\"T_c5f5b_level0_col49\" class=\"col_heading level0 col49\" >char_freq_(</th>\n",
       "      <th id=\"T_c5f5b_level0_col50\" class=\"col_heading level0 col50\" >char_freq_[</th>\n",
       "      <th id=\"T_c5f5b_level0_col51\" class=\"col_heading level0 col51\" >char_freq_!</th>\n",
       "      <th id=\"T_c5f5b_level0_col52\" class=\"col_heading level0 col52\" >char_freq_$</th>\n",
       "      <th id=\"T_c5f5b_level0_col53\" class=\"col_heading level0 col53\" >char_freq_#</th>\n",
       "      <th id=\"T_c5f5b_level0_col54\" class=\"col_heading level0 col54\" >capital_run_length_average</th>\n",
       "      <th id=\"T_c5f5b_level0_col55\" class=\"col_heading level0 col55\" >capital_run_length_longest</th>\n",
       "      <th id=\"T_c5f5b_level0_col56\" class=\"col_heading level0 col56\" >capital_run_length_total</th>\n",
       "    </tr>\n",
       "  </thead>\n",
       "  <tbody>\n",
       "    <tr>\n",
       "      <td id=\"T_c5f5b_row0_col0\" class=\"data row0 col0\" >-0.35</td>\n",
       "      <td id=\"T_c5f5b_row0_col1\" class=\"data row0 col1\" >-0.16</td>\n",
       "      <td id=\"T_c5f5b_row0_col2\" class=\"data row0 col2\" >-0.56</td>\n",
       "      <td id=\"T_c5f5b_row0_col3\" class=\"data row0 col3\" >-0.05</td>\n",
       "      <td id=\"T_c5f5b_row0_col4\" class=\"data row0 col4\" >-0.46</td>\n",
       "      <td id=\"T_c5f5b_row0_col5\" class=\"data row0 col5\" >-0.36</td>\n",
       "      <td id=\"T_c5f5b_row0_col6\" class=\"data row0 col6\" >-0.29</td>\n",
       "      <td id=\"T_c5f5b_row0_col7\" class=\"data row0 col7\" >-0.26</td>\n",
       "      <td id=\"T_c5f5b_row0_col8\" class=\"data row0 col8\" >-0.32</td>\n",
       "      <td id=\"T_c5f5b_row0_col9\" class=\"data row0 col9\" >-0.37</td>\n",
       "      <td id=\"T_c5f5b_row0_col10\" class=\"data row0 col10\" >-0.30</td>\n",
       "      <td id=\"T_c5f5b_row0_col11\" class=\"data row0 col11\" >-0.63</td>\n",
       "      <td id=\"T_c5f5b_row0_col12\" class=\"data row0 col12\" >-0.30</td>\n",
       "      <td id=\"T_c5f5b_row0_col13\" class=\"data row0 col13\" >-0.17</td>\n",
       "      <td id=\"T_c5f5b_row0_col14\" class=\"data row0 col14\" >-0.19</td>\n",
       "      <td id=\"T_c5f5b_row0_col15\" class=\"data row0 col15\" >-0.32</td>\n",
       "      <td id=\"T_c5f5b_row0_col16\" class=\"data row0 col16\" >-0.31</td>\n",
       "      <td id=\"T_c5f5b_row0_col17\" class=\"data row0 col17\" >-0.35</td>\n",
       "      <td id=\"T_c5f5b_row0_col18\" class=\"data row0 col18\" >-0.94</td>\n",
       "      <td id=\"T_c5f5b_row0_col19\" class=\"data row0 col19\" >-0.16</td>\n",
       "      <td id=\"T_c5f5b_row0_col20\" class=\"data row0 col20\" >-0.67</td>\n",
       "      <td id=\"T_c5f5b_row0_col21\" class=\"data row0 col21\" >-0.12</td>\n",
       "      <td id=\"T_c5f5b_row0_col22\" class=\"data row0 col22\" >-0.29</td>\n",
       "      <td id=\"T_c5f5b_row0_col23\" class=\"data row0 col23\" >-0.21</td>\n",
       "      <td id=\"T_c5f5b_row0_col24\" class=\"data row0 col24\" >-0.34</td>\n",
       "      <td id=\"T_c5f5b_row0_col25\" class=\"data row0 col25\" >-0.30</td>\n",
       "      <td id=\"T_c5f5b_row0_col26\" class=\"data row0 col26\" >5.77</td>\n",
       "      <td id=\"T_c5f5b_row0_col27\" class=\"data row0 col27\" >-0.23</td>\n",
       "      <td id=\"T_c5f5b_row0_col28\" class=\"data row0 col28\" >-0.18</td>\n",
       "      <td id=\"T_c5f5b_row0_col29\" class=\"data row0 col29\" >-0.22</td>\n",
       "      <td id=\"T_c5f5b_row0_col30\" class=\"data row0 col30\" >-0.16</td>\n",
       "      <td id=\"T_c5f5b_row0_col31\" class=\"data row0 col31\" >-0.14</td>\n",
       "      <td id=\"T_c5f5b_row0_col32\" class=\"data row0 col32\" >-0.17</td>\n",
       "      <td id=\"T_c5f5b_row0_col33\" class=\"data row0 col33\" >-0.15</td>\n",
       "      <td id=\"T_c5f5b_row0_col34\" class=\"data row0 col34\" >-0.19</td>\n",
       "      <td id=\"T_c5f5b_row0_col35\" class=\"data row0 col35\" >-0.24</td>\n",
       "      <td id=\"T_c5f5b_row0_col36\" class=\"data row0 col36\" >-0.32</td>\n",
       "      <td id=\"T_c5f5b_row0_col37\" class=\"data row0 col37\" >-0.06</td>\n",
       "      <td id=\"T_c5f5b_row0_col38\" class=\"data row0 col38\" >-0.18</td>\n",
       "      <td id=\"T_c5f5b_row0_col39\" class=\"data row0 col39\" >-0.18</td>\n",
       "      <td id=\"T_c5f5b_row0_col40\" class=\"data row0 col40\" >-0.13</td>\n",
       "      <td id=\"T_c5f5b_row0_col41\" class=\"data row0 col41\" >-0.18</td>\n",
       "      <td id=\"T_c5f5b_row0_col42\" class=\"data row0 col42\" >-0.21</td>\n",
       "      <td id=\"T_c5f5b_row0_col43\" class=\"data row0 col43\" >-0.12</td>\n",
       "      <td id=\"T_c5f5b_row0_col44\" class=\"data row0 col44\" >-0.30</td>\n",
       "      <td id=\"T_c5f5b_row0_col45\" class=\"data row0 col45\" >-0.20</td>\n",
       "      <td id=\"T_c5f5b_row0_col46\" class=\"data row0 col46\" >-0.07</td>\n",
       "      <td id=\"T_c5f5b_row0_col47\" class=\"data row0 col47\" >-0.11</td>\n",
       "      <td id=\"T_c5f5b_row0_col48\" class=\"data row0 col48\" >-0.16</td>\n",
       "      <td id=\"T_c5f5b_row0_col49\" class=\"data row0 col49\" >-0.48</td>\n",
       "      <td id=\"T_c5f5b_row0_col50\" class=\"data row0 col50\" >-0.19</td>\n",
       "      <td id=\"T_c5f5b_row0_col51\" class=\"data row0 col51\" >-0.31</td>\n",
       "      <td id=\"T_c5f5b_row0_col52\" class=\"data row0 col52\" >-0.30</td>\n",
       "      <td id=\"T_c5f5b_row0_col53\" class=\"data row0 col53\" >-0.10</td>\n",
       "      <td id=\"T_c5f5b_row0_col54\" class=\"data row0 col54\" >-0.13</td>\n",
       "      <td id=\"T_c5f5b_row0_col55\" class=\"data row0 col55\" >-0.25</td>\n",
       "      <td id=\"T_c5f5b_row0_col56\" class=\"data row0 col56\" >-0.45</td>\n",
       "    </tr>\n",
       "    <tr>\n",
       "      <td id=\"T_c5f5b_row1_col0\" class=\"data row1 col0\" >-0.35</td>\n",
       "      <td id=\"T_c5f5b_row1_col1\" class=\"data row1 col1\" >-0.16</td>\n",
       "      <td id=\"T_c5f5b_row1_col2\" class=\"data row1 col2\" >-0.55</td>\n",
       "      <td id=\"T_c5f5b_row1_col3\" class=\"data row1 col3\" >-0.05</td>\n",
       "      <td id=\"T_c5f5b_row1_col4\" class=\"data row1 col4\" >-0.46</td>\n",
       "      <td id=\"T_c5f5b_row1_col5\" class=\"data row1 col5\" >-0.36</td>\n",
       "      <td id=\"T_c5f5b_row1_col6\" class=\"data row1 col6\" >-0.29</td>\n",
       "      <td id=\"T_c5f5b_row1_col7\" class=\"data row1 col7\" >-0.26</td>\n",
       "      <td id=\"T_c5f5b_row1_col8\" class=\"data row1 col8\" >-0.32</td>\n",
       "      <td id=\"T_c5f5b_row1_col9\" class=\"data row1 col9\" >-0.37</td>\n",
       "      <td id=\"T_c5f5b_row1_col10\" class=\"data row1 col10\" >-0.30</td>\n",
       "      <td id=\"T_c5f5b_row1_col11\" class=\"data row1 col11\" >-0.62</td>\n",
       "      <td id=\"T_c5f5b_row1_col12\" class=\"data row1 col12\" >-0.30</td>\n",
       "      <td id=\"T_c5f5b_row1_col13\" class=\"data row1 col13\" >-0.17</td>\n",
       "      <td id=\"T_c5f5b_row1_col14\" class=\"data row1 col14\" >-0.19</td>\n",
       "      <td id=\"T_c5f5b_row1_col15\" class=\"data row1 col15\" >-0.32</td>\n",
       "      <td id=\"T_c5f5b_row1_col16\" class=\"data row1 col16\" >-0.31</td>\n",
       "      <td id=\"T_c5f5b_row1_col17\" class=\"data row1 col17\" >-0.35</td>\n",
       "      <td id=\"T_c5f5b_row1_col18\" class=\"data row1 col18\" >-0.94</td>\n",
       "      <td id=\"T_c5f5b_row1_col19\" class=\"data row1 col19\" >-0.16</td>\n",
       "      <td id=\"T_c5f5b_row1_col20\" class=\"data row1 col20\" >-0.67</td>\n",
       "      <td id=\"T_c5f5b_row1_col21\" class=\"data row1 col21\" >-0.12</td>\n",
       "      <td id=\"T_c5f5b_row1_col22\" class=\"data row1 col22\" >-0.29</td>\n",
       "      <td id=\"T_c5f5b_row1_col23\" class=\"data row1 col23\" >-0.20</td>\n",
       "      <td id=\"T_c5f5b_row1_col24\" class=\"data row1 col24\" >-0.34</td>\n",
       "      <td id=\"T_c5f5b_row1_col25\" class=\"data row1 col25\" >-0.30</td>\n",
       "      <td id=\"T_c5f5b_row1_col26\" class=\"data row1 col26\" >-0.23</td>\n",
       "      <td id=\"T_c5f5b_row1_col27\" class=\"data row1 col27\" >-0.23</td>\n",
       "      <td id=\"T_c5f5b_row1_col28\" class=\"data row1 col28\" >-0.18</td>\n",
       "      <td id=\"T_c5f5b_row1_col29\" class=\"data row1 col29\" >-0.22</td>\n",
       "      <td id=\"T_c5f5b_row1_col30\" class=\"data row1 col30\" >-0.16</td>\n",
       "      <td id=\"T_c5f5b_row1_col31\" class=\"data row1 col31\" >-0.14</td>\n",
       "      <td id=\"T_c5f5b_row1_col32\" class=\"data row1 col32\" >-0.17</td>\n",
       "      <td id=\"T_c5f5b_row1_col33\" class=\"data row1 col33\" >-0.15</td>\n",
       "      <td id=\"T_c5f5b_row1_col34\" class=\"data row1 col34\" >-0.19</td>\n",
       "      <td id=\"T_c5f5b_row1_col35\" class=\"data row1 col35\" >-0.24</td>\n",
       "      <td id=\"T_c5f5b_row1_col36\" class=\"data row1 col36\" >-0.32</td>\n",
       "      <td id=\"T_c5f5b_row1_col37\" class=\"data row1 col37\" >-0.06</td>\n",
       "      <td id=\"T_c5f5b_row1_col38\" class=\"data row1 col38\" >-0.18</td>\n",
       "      <td id=\"T_c5f5b_row1_col39\" class=\"data row1 col39\" >-0.18</td>\n",
       "      <td id=\"T_c5f5b_row1_col40\" class=\"data row1 col40\" >-0.13</td>\n",
       "      <td id=\"T_c5f5b_row1_col41\" class=\"data row1 col41\" >-0.18</td>\n",
       "      <td id=\"T_c5f5b_row1_col42\" class=\"data row1 col42\" >-0.21</td>\n",
       "      <td id=\"T_c5f5b_row1_col43\" class=\"data row1 col43\" >-0.11</td>\n",
       "      <td id=\"T_c5f5b_row1_col44\" class=\"data row1 col44\" >-0.30</td>\n",
       "      <td id=\"T_c5f5b_row1_col45\" class=\"data row1 col45\" >-0.20</td>\n",
       "      <td id=\"T_c5f5b_row1_col46\" class=\"data row1 col46\" >-0.07</td>\n",
       "      <td id=\"T_c5f5b_row1_col47\" class=\"data row1 col47\" >-0.11</td>\n",
       "      <td id=\"T_c5f5b_row1_col48\" class=\"data row1 col48\" >-0.14</td>\n",
       "      <td id=\"T_c5f5b_row1_col49\" class=\"data row1 col49\" >-0.48</td>\n",
       "      <td id=\"T_c5f5b_row1_col50\" class=\"data row1 col50\" >-0.19</td>\n",
       "      <td id=\"T_c5f5b_row1_col51\" class=\"data row1 col51\" >-0.29</td>\n",
       "      <td id=\"T_c5f5b_row1_col52\" class=\"data row1 col52\" >-0.30</td>\n",
       "      <td id=\"T_c5f5b_row1_col53\" class=\"data row1 col53\" >-0.10</td>\n",
       "      <td id=\"T_c5f5b_row1_col54\" class=\"data row1 col54\" >-0.11</td>\n",
       "      <td id=\"T_c5f5b_row1_col55\" class=\"data row1 col55\" >-0.24</td>\n",
       "      <td id=\"T_c5f5b_row1_col56\" class=\"data row1 col56\" >-0.44</td>\n",
       "    </tr>\n",
       "    <tr>\n",
       "      <td id=\"T_c5f5b_row2_col0\" class=\"data row2 col0\" >-0.35</td>\n",
       "      <td id=\"T_c5f5b_row2_col1\" class=\"data row2 col1\" >0.18</td>\n",
       "      <td id=\"T_c5f5b_row2_col2\" class=\"data row2 col2\" >-0.42</td>\n",
       "      <td id=\"T_c5f5b_row2_col3\" class=\"data row2 col3\" >-0.05</td>\n",
       "      <td id=\"T_c5f5b_row2_col4\" class=\"data row2 col4\" >-0.25</td>\n",
       "      <td id=\"T_c5f5b_row2_col5\" class=\"data row2 col5\" >-0.36</td>\n",
       "      <td id=\"T_c5f5b_row2_col6\" class=\"data row2 col6\" >-0.29</td>\n",
       "      <td id=\"T_c5f5b_row2_col7\" class=\"data row2 col7\" >-0.26</td>\n",
       "      <td id=\"T_c5f5b_row2_col8\" class=\"data row2 col8\" >-0.32</td>\n",
       "      <td id=\"T_c5f5b_row2_col9\" class=\"data row2 col9\" >0.30</td>\n",
       "      <td id=\"T_c5f5b_row2_col10\" class=\"data row2 col10\" >-0.30</td>\n",
       "      <td id=\"T_c5f5b_row2_col11\" class=\"data row2 col11\" >-0.30</td>\n",
       "      <td id=\"T_c5f5b_row2_col12\" class=\"data row2 col12\" >-0.30</td>\n",
       "      <td id=\"T_c5f5b_row2_col13\" class=\"data row2 col13\" >-0.17</td>\n",
       "      <td id=\"T_c5f5b_row2_col14\" class=\"data row2 col14\" >-0.19</td>\n",
       "      <td id=\"T_c5f5b_row2_col15\" class=\"data row2 col15\" >-0.32</td>\n",
       "      <td id=\"T_c5f5b_row2_col16\" class=\"data row2 col16\" >-0.31</td>\n",
       "      <td id=\"T_c5f5b_row2_col17\" class=\"data row2 col17\" >-0.35</td>\n",
       "      <td id=\"T_c5f5b_row2_col18\" class=\"data row2 col18\" >-0.55</td>\n",
       "      <td id=\"T_c5f5b_row2_col19\" class=\"data row2 col19\" >-0.16</td>\n",
       "      <td id=\"T_c5f5b_row2_col20\" class=\"data row2 col20\" >-0.61</td>\n",
       "      <td id=\"T_c5f5b_row2_col21\" class=\"data row2 col21\" >7.64</td>\n",
       "      <td id=\"T_c5f5b_row2_col22\" class=\"data row2 col22\" >-0.29</td>\n",
       "      <td id=\"T_c5f5b_row2_col23\" class=\"data row2 col23\" >-0.21</td>\n",
       "      <td id=\"T_c5f5b_row2_col24\" class=\"data row2 col24\" >-0.34</td>\n",
       "      <td id=\"T_c5f5b_row2_col25\" class=\"data row2 col25\" >-0.30</td>\n",
       "      <td id=\"T_c5f5b_row2_col26\" class=\"data row2 col26\" >-0.23</td>\n",
       "      <td id=\"T_c5f5b_row2_col27\" class=\"data row2 col27\" >-0.23</td>\n",
       "      <td id=\"T_c5f5b_row2_col28\" class=\"data row2 col28\" >-0.18</td>\n",
       "      <td id=\"T_c5f5b_row2_col29\" class=\"data row2 col29\" >-0.22</td>\n",
       "      <td id=\"T_c5f5b_row2_col30\" class=\"data row2 col30\" >-0.16</td>\n",
       "      <td id=\"T_c5f5b_row2_col31\" class=\"data row2 col31\" >-0.14</td>\n",
       "      <td id=\"T_c5f5b_row2_col32\" class=\"data row2 col32\" >-0.17</td>\n",
       "      <td id=\"T_c5f5b_row2_col33\" class=\"data row2 col33\" >-0.15</td>\n",
       "      <td id=\"T_c5f5b_row2_col34\" class=\"data row2 col34\" >-0.19</td>\n",
       "      <td id=\"T_c5f5b_row2_col35\" class=\"data row2 col35\" >-0.24</td>\n",
       "      <td id=\"T_c5f5b_row2_col36\" class=\"data row2 col36\" >-0.32</td>\n",
       "      <td id=\"T_c5f5b_row2_col37\" class=\"data row2 col37\" >-0.06</td>\n",
       "      <td id=\"T_c5f5b_row2_col38\" class=\"data row2 col38\" >-0.18</td>\n",
       "      <td id=\"T_c5f5b_row2_col39\" class=\"data row2 col39\" >-0.18</td>\n",
       "      <td id=\"T_c5f5b_row2_col40\" class=\"data row2 col40\" >-0.13</td>\n",
       "      <td id=\"T_c5f5b_row2_col41\" class=\"data row2 col41\" >-0.18</td>\n",
       "      <td id=\"T_c5f5b_row2_col42\" class=\"data row2 col42\" >0.10</td>\n",
       "      <td id=\"T_c5f5b_row2_col43\" class=\"data row2 col43\" >-0.12</td>\n",
       "      <td id=\"T_c5f5b_row2_col44\" class=\"data row2 col44\" >-0.30</td>\n",
       "      <td id=\"T_c5f5b_row2_col45\" class=\"data row2 col45\" >-0.04</td>\n",
       "      <td id=\"T_c5f5b_row2_col46\" class=\"data row2 col46\" >-0.07</td>\n",
       "      <td id=\"T_c5f5b_row2_col47\" class=\"data row2 col47\" >-0.11</td>\n",
       "      <td id=\"T_c5f5b_row2_col48\" class=\"data row2 col48\" >17.30</td>\n",
       "      <td id=\"T_c5f5b_row2_col49\" class=\"data row2 col49\" >-0.48</td>\n",
       "      <td id=\"T_c5f5b_row2_col50\" class=\"data row2 col50\" >-0.19</td>\n",
       "      <td id=\"T_c5f5b_row2_col51\" class=\"data row2 col51\" >-0.23</td>\n",
       "      <td id=\"T_c5f5b_row2_col52\" class=\"data row2 col52\" >-0.30</td>\n",
       "      <td id=\"T_c5f5b_row2_col53\" class=\"data row2 col53\" >1.19</td>\n",
       "      <td id=\"T_c5f5b_row2_col54\" class=\"data row2 col54\" >0.05</td>\n",
       "      <td id=\"T_c5f5b_row2_col55\" class=\"data row2 col55\" >-0.05</td>\n",
       "      <td id=\"T_c5f5b_row2_col56\" class=\"data row2 col56\" >0.24</td>\n",
       "    </tr>\n",
       "    <tr>\n",
       "      <td id=\"T_c5f5b_row3_col0\" class=\"data row3 col0\" >-0.35</td>\n",
       "      <td id=\"T_c5f5b_row3_col1\" class=\"data row3 col1\" >11.39</td>\n",
       "      <td id=\"T_c5f5b_row3_col2\" class=\"data row3 col2\" >-0.56</td>\n",
       "      <td id=\"T_c5f5b_row3_col3\" class=\"data row3 col3\" >-0.05</td>\n",
       "      <td id=\"T_c5f5b_row3_col4\" class=\"data row3 col4\" >-0.46</td>\n",
       "      <td id=\"T_c5f5b_row3_col5\" class=\"data row3 col5\" >-0.36</td>\n",
       "      <td id=\"T_c5f5b_row3_col6\" class=\"data row3 col6\" >-0.29</td>\n",
       "      <td id=\"T_c5f5b_row3_col7\" class=\"data row3 col7\" >-0.26</td>\n",
       "      <td id=\"T_c5f5b_row3_col8\" class=\"data row3 col8\" >-0.32</td>\n",
       "      <td id=\"T_c5f5b_row3_col9\" class=\"data row3 col9\" >-0.37</td>\n",
       "      <td id=\"T_c5f5b_row3_col10\" class=\"data row3 col10\" >-0.30</td>\n",
       "      <td id=\"T_c5f5b_row3_col11\" class=\"data row3 col11\" >-0.63</td>\n",
       "      <td id=\"T_c5f5b_row3_col12\" class=\"data row3 col12\" >-0.30</td>\n",
       "      <td id=\"T_c5f5b_row3_col13\" class=\"data row3 col13\" >-0.17</td>\n",
       "      <td id=\"T_c5f5b_row3_col14\" class=\"data row3 col14\" >-0.19</td>\n",
       "      <td id=\"T_c5f5b_row3_col15\" class=\"data row3 col15\" >-0.32</td>\n",
       "      <td id=\"T_c5f5b_row3_col16\" class=\"data row3 col16\" >-0.31</td>\n",
       "      <td id=\"T_c5f5b_row3_col17\" class=\"data row3 col17\" >-0.35</td>\n",
       "      <td id=\"T_c5f5b_row3_col18\" class=\"data row3 col18\" >-0.94</td>\n",
       "      <td id=\"T_c5f5b_row3_col19\" class=\"data row3 col19\" >-0.16</td>\n",
       "      <td id=\"T_c5f5b_row3_col20\" class=\"data row3 col20\" >-0.67</td>\n",
       "      <td id=\"T_c5f5b_row3_col21\" class=\"data row3 col21\" >-0.12</td>\n",
       "      <td id=\"T_c5f5b_row3_col22\" class=\"data row3 col22\" >-0.29</td>\n",
       "      <td id=\"T_c5f5b_row3_col23\" class=\"data row3 col23\" >-0.21</td>\n",
       "      <td id=\"T_c5f5b_row3_col24\" class=\"data row3 col24\" >-0.34</td>\n",
       "      <td id=\"T_c5f5b_row3_col25\" class=\"data row3 col25\" >-0.30</td>\n",
       "      <td id=\"T_c5f5b_row3_col26\" class=\"data row3 col26\" >-0.23</td>\n",
       "      <td id=\"T_c5f5b_row3_col27\" class=\"data row3 col27\" >-0.23</td>\n",
       "      <td id=\"T_c5f5b_row3_col28\" class=\"data row3 col28\" >-0.18</td>\n",
       "      <td id=\"T_c5f5b_row3_col29\" class=\"data row3 col29\" >-0.22</td>\n",
       "      <td id=\"T_c5f5b_row3_col30\" class=\"data row3 col30\" >-0.16</td>\n",
       "      <td id=\"T_c5f5b_row3_col31\" class=\"data row3 col31\" >-0.14</td>\n",
       "      <td id=\"T_c5f5b_row3_col32\" class=\"data row3 col32\" >-0.17</td>\n",
       "      <td id=\"T_c5f5b_row3_col33\" class=\"data row3 col33\" >-0.15</td>\n",
       "      <td id=\"T_c5f5b_row3_col34\" class=\"data row3 col34\" >-0.19</td>\n",
       "      <td id=\"T_c5f5b_row3_col35\" class=\"data row3 col35\" >-0.24</td>\n",
       "      <td id=\"T_c5f5b_row3_col36\" class=\"data row3 col36\" >-0.32</td>\n",
       "      <td id=\"T_c5f5b_row3_col37\" class=\"data row3 col37\" >-0.06</td>\n",
       "      <td id=\"T_c5f5b_row3_col38\" class=\"data row3 col38\" >-0.18</td>\n",
       "      <td id=\"T_c5f5b_row3_col39\" class=\"data row3 col39\" >-0.18</td>\n",
       "      <td id=\"T_c5f5b_row3_col40\" class=\"data row3 col40\" >-0.13</td>\n",
       "      <td id=\"T_c5f5b_row3_col41\" class=\"data row3 col41\" >-0.18</td>\n",
       "      <td id=\"T_c5f5b_row3_col42\" class=\"data row3 col42\" >-0.21</td>\n",
       "      <td id=\"T_c5f5b_row3_col43\" class=\"data row3 col43\" >-0.12</td>\n",
       "      <td id=\"T_c5f5b_row3_col44\" class=\"data row3 col44\" >-0.30</td>\n",
       "      <td id=\"T_c5f5b_row3_col45\" class=\"data row3 col45\" >-0.20</td>\n",
       "      <td id=\"T_c5f5b_row3_col46\" class=\"data row3 col46\" >-0.07</td>\n",
       "      <td id=\"T_c5f5b_row3_col47\" class=\"data row3 col47\" >-0.11</td>\n",
       "      <td id=\"T_c5f5b_row3_col48\" class=\"data row3 col48\" >-0.16</td>\n",
       "      <td id=\"T_c5f5b_row3_col49\" class=\"data row3 col49\" >-0.48</td>\n",
       "      <td id=\"T_c5f5b_row3_col50\" class=\"data row3 col50\" >-0.19</td>\n",
       "      <td id=\"T_c5f5b_row3_col51\" class=\"data row3 col51\" >-0.31</td>\n",
       "      <td id=\"T_c5f5b_row3_col52\" class=\"data row3 col52\" >-0.30</td>\n",
       "      <td id=\"T_c5f5b_row3_col53\" class=\"data row3 col53\" >-0.10</td>\n",
       "      <td id=\"T_c5f5b_row3_col54\" class=\"data row3 col54\" >-0.10</td>\n",
       "      <td id=\"T_c5f5b_row3_col55\" class=\"data row3 col55\" >-0.23</td>\n",
       "      <td id=\"T_c5f5b_row3_col56\" class=\"data row3 col56\" >-0.44</td>\n",
       "    </tr>\n",
       "    <tr>\n",
       "      <td id=\"T_c5f5b_row4_col0\" class=\"data row4 col0\" >-0.35</td>\n",
       "      <td id=\"T_c5f5b_row4_col1\" class=\"data row4 col1\" >-0.16</td>\n",
       "      <td id=\"T_c5f5b_row4_col2\" class=\"data row4 col2\" >-0.56</td>\n",
       "      <td id=\"T_c5f5b_row4_col3\" class=\"data row4 col3\" >-0.05</td>\n",
       "      <td id=\"T_c5f5b_row4_col4\" class=\"data row4 col4\" >-0.46</td>\n",
       "      <td id=\"T_c5f5b_row4_col5\" class=\"data row4 col5\" >-0.36</td>\n",
       "      <td id=\"T_c5f5b_row4_col6\" class=\"data row4 col6\" >-0.29</td>\n",
       "      <td id=\"T_c5f5b_row4_col7\" class=\"data row4 col7\" >-0.26</td>\n",
       "      <td id=\"T_c5f5b_row4_col8\" class=\"data row4 col8\" >-0.32</td>\n",
       "      <td id=\"T_c5f5b_row4_col9\" class=\"data row4 col9\" >-0.37</td>\n",
       "      <td id=\"T_c5f5b_row4_col10\" class=\"data row4 col10\" >-0.30</td>\n",
       "      <td id=\"T_c5f5b_row4_col11\" class=\"data row4 col11\" >-0.63</td>\n",
       "      <td id=\"T_c5f5b_row4_col12\" class=\"data row4 col12\" >-0.30</td>\n",
       "      <td id=\"T_c5f5b_row4_col13\" class=\"data row4 col13\" >-0.17</td>\n",
       "      <td id=\"T_c5f5b_row4_col14\" class=\"data row4 col14\" >-0.19</td>\n",
       "      <td id=\"T_c5f5b_row4_col15\" class=\"data row4 col15\" >-0.32</td>\n",
       "      <td id=\"T_c5f5b_row4_col16\" class=\"data row4 col16\" >-0.31</td>\n",
       "      <td id=\"T_c5f5b_row4_col17\" class=\"data row4 col17\" >-0.35</td>\n",
       "      <td id=\"T_c5f5b_row4_col18\" class=\"data row4 col18\" >-0.94</td>\n",
       "      <td id=\"T_c5f5b_row4_col19\" class=\"data row4 col19\" >-0.16</td>\n",
       "      <td id=\"T_c5f5b_row4_col20\" class=\"data row4 col20\" >-0.67</td>\n",
       "      <td id=\"T_c5f5b_row4_col21\" class=\"data row4 col21\" >-0.12</td>\n",
       "      <td id=\"T_c5f5b_row4_col22\" class=\"data row4 col22\" >-0.29</td>\n",
       "      <td id=\"T_c5f5b_row4_col23\" class=\"data row4 col23\" >-0.21</td>\n",
       "      <td id=\"T_c5f5b_row4_col24\" class=\"data row4 col24\" >4.90</td>\n",
       "      <td id=\"T_c5f5b_row4_col25\" class=\"data row4 col25\" >4.39</td>\n",
       "      <td id=\"T_c5f5b_row4_col26\" class=\"data row4 col26\" >1.02</td>\n",
       "      <td id=\"T_c5f5b_row4_col27\" class=\"data row4 col27\" >7.22</td>\n",
       "      <td id=\"T_c5f5b_row4_col28\" class=\"data row4 col28\" >7.21</td>\n",
       "      <td id=\"T_c5f5b_row4_col29\" class=\"data row4 col29\" >8.61</td>\n",
       "      <td id=\"T_c5f5b_row4_col30\" class=\"data row4 col30\" >9.61</td>\n",
       "      <td id=\"T_c5f5b_row4_col31\" class=\"data row4 col31\" >11.83</td>\n",
       "      <td id=\"T_c5f5b_row4_col32\" class=\"data row4 col32\" >-0.17</td>\n",
       "      <td id=\"T_c5f5b_row4_col33\" class=\"data row4 col33\" >11.78</td>\n",
       "      <td id=\"T_c5f5b_row4_col34\" class=\"data row4 col34\" >7.07</td>\n",
       "      <td id=\"T_c5f5b_row4_col35\" class=\"data row4 col35\" >10.43</td>\n",
       "      <td id=\"T_c5f5b_row4_col36\" class=\"data row4 col36\" >-0.32</td>\n",
       "      <td id=\"T_c5f5b_row4_col37\" class=\"data row4 col37\" >-0.06</td>\n",
       "      <td id=\"T_c5f5b_row4_col38\" class=\"data row4 col38\" >-0.18</td>\n",
       "      <td id=\"T_c5f5b_row4_col39\" class=\"data row4 col39\" >11.09</td>\n",
       "      <td id=\"T_c5f5b_row4_col40\" class=\"data row4 col40\" >-0.13</td>\n",
       "      <td id=\"T_c5f5b_row4_col41\" class=\"data row4 col41\" >-0.18</td>\n",
       "      <td id=\"T_c5f5b_row4_col42\" class=\"data row4 col42\" >-0.21</td>\n",
       "      <td id=\"T_c5f5b_row4_col43\" class=\"data row4 col43\" >-0.12</td>\n",
       "      <td id=\"T_c5f5b_row4_col44\" class=\"data row4 col44\" >-0.30</td>\n",
       "      <td id=\"T_c5f5b_row4_col45\" class=\"data row4 col45\" >-0.20</td>\n",
       "      <td id=\"T_c5f5b_row4_col46\" class=\"data row4 col46\" >-0.07</td>\n",
       "      <td id=\"T_c5f5b_row4_col47\" class=\"data row4 col47\" >-0.11</td>\n",
       "      <td id=\"T_c5f5b_row4_col48\" class=\"data row4 col48\" >-0.16</td>\n",
       "      <td id=\"T_c5f5b_row4_col49\" class=\"data row4 col49\" >3.47</td>\n",
       "      <td id=\"T_c5f5b_row4_col50\" class=\"data row4 col50\" >-0.19</td>\n",
       "      <td id=\"T_c5f5b_row4_col51\" class=\"data row4 col51\" >-0.31</td>\n",
       "      <td id=\"T_c5f5b_row4_col52\" class=\"data row4 col52\" >-0.30</td>\n",
       "      <td id=\"T_c5f5b_row4_col53\" class=\"data row4 col53\" >-0.10</td>\n",
       "      <td id=\"T_c5f5b_row4_col54\" class=\"data row4 col54\" >-0.06</td>\n",
       "      <td id=\"T_c5f5b_row4_col55\" class=\"data row4 col55\" >-0.20</td>\n",
       "      <td id=\"T_c5f5b_row4_col56\" class=\"data row4 col56\" >-0.41</td>\n",
       "    </tr>\n",
       "    <tr>\n",
       "      <td id=\"T_c5f5b_row5_col0\" class=\"data row5 col0\" >-0.35</td>\n",
       "      <td id=\"T_c5f5b_row5_col1\" class=\"data row5 col1\" >-0.16</td>\n",
       "      <td id=\"T_c5f5b_row5_col2\" class=\"data row5 col2\" >-0.56</td>\n",
       "      <td id=\"T_c5f5b_row5_col3\" class=\"data row5 col3\" >-0.05</td>\n",
       "      <td id=\"T_c5f5b_row5_col4\" class=\"data row5 col4\" >-0.46</td>\n",
       "      <td id=\"T_c5f5b_row5_col5\" class=\"data row5 col5\" >-0.36</td>\n",
       "      <td id=\"T_c5f5b_row5_col6\" class=\"data row5 col6\" >-0.29</td>\n",
       "      <td id=\"T_c5f5b_row5_col7\" class=\"data row5 col7\" >-0.26</td>\n",
       "      <td id=\"T_c5f5b_row5_col8\" class=\"data row5 col8\" >-0.32</td>\n",
       "      <td id=\"T_c5f5b_row5_col9\" class=\"data row5 col9\" >-0.37</td>\n",
       "      <td id=\"T_c5f5b_row5_col10\" class=\"data row5 col10\" >-0.30</td>\n",
       "      <td id=\"T_c5f5b_row5_col11\" class=\"data row5 col11\" >0.22</td>\n",
       "      <td id=\"T_c5f5b_row5_col12\" class=\"data row5 col12\" >-0.30</td>\n",
       "      <td id=\"T_c5f5b_row5_col13\" class=\"data row5 col13\" >-0.17</td>\n",
       "      <td id=\"T_c5f5b_row5_col14\" class=\"data row5 col14\" >-0.19</td>\n",
       "      <td id=\"T_c5f5b_row5_col15\" class=\"data row5 col15\" >-0.32</td>\n",
       "      <td id=\"T_c5f5b_row5_col16\" class=\"data row5 col16\" >-0.31</td>\n",
       "      <td id=\"T_c5f5b_row5_col17\" class=\"data row5 col17\" >1.08</td>\n",
       "      <td id=\"T_c5f5b_row5_col18\" class=\"data row5 col18\" >-0.11</td>\n",
       "      <td id=\"T_c5f5b_row5_col19\" class=\"data row5 col19\" >-0.16</td>\n",
       "      <td id=\"T_c5f5b_row5_col20\" class=\"data row5 col20\" >-0.67</td>\n",
       "      <td id=\"T_c5f5b_row5_col21\" class=\"data row5 col21\" >-0.12</td>\n",
       "      <td id=\"T_c5f5b_row5_col22\" class=\"data row5 col22\" >-0.29</td>\n",
       "      <td id=\"T_c5f5b_row5_col23\" class=\"data row5 col23\" >-0.21</td>\n",
       "      <td id=\"T_c5f5b_row5_col24\" class=\"data row5 col24\" >2.48</td>\n",
       "      <td id=\"T_c5f5b_row5_col25\" class=\"data row5 col25\" >2.21</td>\n",
       "      <td id=\"T_c5f5b_row5_col26\" class=\"data row5 col26\" >-0.23</td>\n",
       "      <td id=\"T_c5f5b_row5_col27\" class=\"data row5 col27\" >1.10</td>\n",
       "      <td id=\"T_c5f5b_row5_col28\" class=\"data row5 col28\" >-0.18</td>\n",
       "      <td id=\"T_c5f5b_row5_col29\" class=\"data row5 col29\" >1.35</td>\n",
       "      <td id=\"T_c5f5b_row5_col30\" class=\"data row5 col30\" >1.58</td>\n",
       "      <td id=\"T_c5f5b_row5_col31\" class=\"data row5 col31\" >-0.14</td>\n",
       "      <td id=\"T_c5f5b_row5_col32\" class=\"data row5 col32\" >-0.17</td>\n",
       "      <td id=\"T_c5f5b_row5_col33\" class=\"data row5 col33\" >-0.15</td>\n",
       "      <td id=\"T_c5f5b_row5_col34\" class=\"data row5 col34\" >1.10</td>\n",
       "      <td id=\"T_c5f5b_row5_col35\" class=\"data row5 col35\" >1.66</td>\n",
       "      <td id=\"T_c5f5b_row5_col36\" class=\"data row5 col36\" >-0.32</td>\n",
       "      <td id=\"T_c5f5b_row5_col37\" class=\"data row5 col37\" >-0.06</td>\n",
       "      <td id=\"T_c5f5b_row5_col38\" class=\"data row5 col38\" >-0.18</td>\n",
       "      <td id=\"T_c5f5b_row5_col39\" class=\"data row5 col39\" >-0.18</td>\n",
       "      <td id=\"T_c5f5b_row5_col40\" class=\"data row5 col40\" >-0.13</td>\n",
       "      <td id=\"T_c5f5b_row5_col41\" class=\"data row5 col41\" >-0.18</td>\n",
       "      <td id=\"T_c5f5b_row5_col42\" class=\"data row5 col42\" >-0.21</td>\n",
       "      <td id=\"T_c5f5b_row5_col43\" class=\"data row5 col43\" >-0.12</td>\n",
       "      <td id=\"T_c5f5b_row5_col44\" class=\"data row5 col44\" >-0.30</td>\n",
       "      <td id=\"T_c5f5b_row5_col45\" class=\"data row5 col45\" >-0.20</td>\n",
       "      <td id=\"T_c5f5b_row5_col46\" class=\"data row5 col46\" >-0.07</td>\n",
       "      <td id=\"T_c5f5b_row5_col47\" class=\"data row5 col47\" >-0.11</td>\n",
       "      <td id=\"T_c5f5b_row5_col48\" class=\"data row5 col48\" >-0.16</td>\n",
       "      <td id=\"T_c5f5b_row5_col49\" class=\"data row5 col49\" >-0.13</td>\n",
       "      <td id=\"T_c5f5b_row5_col50\" class=\"data row5 col50\" >2.30</td>\n",
       "      <td id=\"T_c5f5b_row5_col51\" class=\"data row5 col51\" >-0.19</td>\n",
       "      <td id=\"T_c5f5b_row5_col52\" class=\"data row5 col52\" >-0.30</td>\n",
       "      <td id=\"T_c5f5b_row5_col53\" class=\"data row5 col53\" >0.32</td>\n",
       "      <td id=\"T_c5f5b_row5_col54\" class=\"data row5 col54\" >-0.10</td>\n",
       "      <td id=\"T_c5f5b_row5_col55\" class=\"data row5 col55\" >-0.21</td>\n",
       "      <td id=\"T_c5f5b_row5_col56\" class=\"data row5 col56\" >-0.32</td>\n",
       "    </tr>\n",
       "    <tr>\n",
       "      <td id=\"T_c5f5b_row6_col0\" class=\"data row6 col0\" >-0.35</td>\n",
       "      <td id=\"T_c5f5b_row6_col1\" class=\"data row6 col1\" >0.73</td>\n",
       "      <td id=\"T_c5f5b_row6_col2\" class=\"data row6 col2\" >-0.56</td>\n",
       "      <td id=\"T_c5f5b_row6_col3\" class=\"data row6 col3\" >-0.05</td>\n",
       "      <td id=\"T_c5f5b_row6_col4\" class=\"data row6 col4\" >0.36</td>\n",
       "      <td id=\"T_c5f5b_row6_col5\" class=\"data row6 col5\" >-0.36</td>\n",
       "      <td id=\"T_c5f5b_row6_col6\" class=\"data row6 col6\" >-0.29</td>\n",
       "      <td id=\"T_c5f5b_row6_col7\" class=\"data row6 col7\" >-0.26</td>\n",
       "      <td id=\"T_c5f5b_row6_col8\" class=\"data row6 col8\" >-0.32</td>\n",
       "      <td id=\"T_c5f5b_row6_col9\" class=\"data row6 col9\" >1.36</td>\n",
       "      <td id=\"T_c5f5b_row6_col10\" class=\"data row6 col10\" >-0.30</td>\n",
       "      <td id=\"T_c5f5b_row6_col11\" class=\"data row6 col11\" >-0.63</td>\n",
       "      <td id=\"T_c5f5b_row6_col12\" class=\"data row6 col12\" >-0.30</td>\n",
       "      <td id=\"T_c5f5b_row6_col13\" class=\"data row6 col13\" >-0.17</td>\n",
       "      <td id=\"T_c5f5b_row6_col14\" class=\"data row6 col14\" >-0.19</td>\n",
       "      <td id=\"T_c5f5b_row6_col15\" class=\"data row6 col15\" >-0.32</td>\n",
       "      <td id=\"T_c5f5b_row6_col16\" class=\"data row6 col16\" >-0.31</td>\n",
       "      <td id=\"T_c5f5b_row6_col17\" class=\"data row6 col17\" >0.71</td>\n",
       "      <td id=\"T_c5f5b_row6_col18\" class=\"data row6 col18\" >-0.94</td>\n",
       "      <td id=\"T_c5f5b_row6_col19\" class=\"data row6 col19\" >-0.16</td>\n",
       "      <td id=\"T_c5f5b_row6_col20\" class=\"data row6 col20\" >0.22</td>\n",
       "      <td id=\"T_c5f5b_row6_col21\" class=\"data row6 col21\" >-0.12</td>\n",
       "      <td id=\"T_c5f5b_row6_col22\" class=\"data row6 col22\" >-0.29</td>\n",
       "      <td id=\"T_c5f5b_row6_col23\" class=\"data row6 col23\" >-0.21</td>\n",
       "      <td id=\"T_c5f5b_row6_col24\" class=\"data row6 col24\" >0.01</td>\n",
       "      <td id=\"T_c5f5b_row6_col25\" class=\"data row6 col25\" >0.32</td>\n",
       "      <td id=\"T_c5f5b_row6_col26\" class=\"data row6 col26\" >0.43</td>\n",
       "      <td id=\"T_c5f5b_row6_col27\" class=\"data row6 col27\" >-0.23</td>\n",
       "      <td id=\"T_c5f5b_row6_col28\" class=\"data row6 col28\" >-0.18</td>\n",
       "      <td id=\"T_c5f5b_row6_col29\" class=\"data row6 col29\" >-0.22</td>\n",
       "      <td id=\"T_c5f5b_row6_col30\" class=\"data row6 col30\" >-0.16</td>\n",
       "      <td id=\"T_c5f5b_row6_col31\" class=\"data row6 col31\" >1.44</td>\n",
       "      <td id=\"T_c5f5b_row6_col32\" class=\"data row6 col32\" >-0.17</td>\n",
       "      <td id=\"T_c5f5b_row6_col33\" class=\"data row6 col33\" >1.43</td>\n",
       "      <td id=\"T_c5f5b_row6_col34\" class=\"data row6 col34\" >-0.19</td>\n",
       "      <td id=\"T_c5f5b_row6_col35\" class=\"data row6 col35\" >-0.24</td>\n",
       "      <td id=\"T_c5f5b_row6_col36\" class=\"data row6 col36\" >3.49</td>\n",
       "      <td id=\"T_c5f5b_row6_col37\" class=\"data row6 col37\" >-0.06</td>\n",
       "      <td id=\"T_c5f5b_row6_col38\" class=\"data row6 col38\" >1.13</td>\n",
       "      <td id=\"T_c5f5b_row6_col39\" class=\"data row6 col39\" >-0.18</td>\n",
       "      <td id=\"T_c5f5b_row6_col40\" class=\"data row6 col40\" >-0.13</td>\n",
       "      <td id=\"T_c5f5b_row6_col41\" class=\"data row6 col41\" >-0.18</td>\n",
       "      <td id=\"T_c5f5b_row6_col42\" class=\"data row6 col42\" >4.65</td>\n",
       "      <td id=\"T_c5f5b_row6_col43\" class=\"data row6 col43\" >-0.12</td>\n",
       "      <td id=\"T_c5f5b_row6_col44\" class=\"data row6 col44\" >0.27</td>\n",
       "      <td id=\"T_c5f5b_row6_col45\" class=\"data row6 col45\" >-0.20</td>\n",
       "      <td id=\"T_c5f5b_row6_col46\" class=\"data row6 col46\" >-0.07</td>\n",
       "      <td id=\"T_c5f5b_row6_col47\" class=\"data row6 col47\" >-0.11</td>\n",
       "      <td id=\"T_c5f5b_row6_col48\" class=\"data row6 col48\" >0.20</td>\n",
       "      <td id=\"T_c5f5b_row6_col49\" class=\"data row6 col49\" >0.75</td>\n",
       "      <td id=\"T_c5f5b_row6_col50\" class=\"data row6 col50\" >0.88</td>\n",
       "      <td id=\"T_c5f5b_row6_col51\" class=\"data row6 col51\" >-0.11</td>\n",
       "      <td id=\"T_c5f5b_row6_col52\" class=\"data row6 col52\" >-0.30</td>\n",
       "      <td id=\"T_c5f5b_row6_col53\" class=\"data row6 col53\" >-0.10</td>\n",
       "      <td id=\"T_c5f5b_row6_col54\" class=\"data row6 col54\" >-0.10</td>\n",
       "      <td id=\"T_c5f5b_row6_col55\" class=\"data row6 col55\" >-0.15</td>\n",
       "      <td id=\"T_c5f5b_row6_col56\" class=\"data row6 col56\" >-0.25</td>\n",
       "    </tr>\n",
       "    <tr>\n",
       "      <td id=\"T_c5f5b_row7_col0\" class=\"data row7 col0\" >-0.35</td>\n",
       "      <td id=\"T_c5f5b_row7_col1\" class=\"data row7 col1\" >-0.16</td>\n",
       "      <td id=\"T_c5f5b_row7_col2\" class=\"data row7 col2\" >-0.56</td>\n",
       "      <td id=\"T_c5f5b_row7_col3\" class=\"data row7 col3\" >-0.05</td>\n",
       "      <td id=\"T_c5f5b_row7_col4\" class=\"data row7 col4\" >-0.46</td>\n",
       "      <td id=\"T_c5f5b_row7_col5\" class=\"data row7 col5\" >-0.36</td>\n",
       "      <td id=\"T_c5f5b_row7_col6\" class=\"data row7 col6\" >-0.29</td>\n",
       "      <td id=\"T_c5f5b_row7_col7\" class=\"data row7 col7\" >-0.26</td>\n",
       "      <td id=\"T_c5f5b_row7_col8\" class=\"data row7 col8\" >-0.32</td>\n",
       "      <td id=\"T_c5f5b_row7_col9\" class=\"data row7 col9\" >-0.37</td>\n",
       "      <td id=\"T_c5f5b_row7_col10\" class=\"data row7 col10\" >-0.30</td>\n",
       "      <td id=\"T_c5f5b_row7_col11\" class=\"data row7 col11\" >-0.63</td>\n",
       "      <td id=\"T_c5f5b_row7_col12\" class=\"data row7 col12\" >-0.30</td>\n",
       "      <td id=\"T_c5f5b_row7_col13\" class=\"data row7 col13\" >-0.17</td>\n",
       "      <td id=\"T_c5f5b_row7_col14\" class=\"data row7 col14\" >-0.19</td>\n",
       "      <td id=\"T_c5f5b_row7_col15\" class=\"data row7 col15\" >-0.32</td>\n",
       "      <td id=\"T_c5f5b_row7_col16\" class=\"data row7 col16\" >-0.31</td>\n",
       "      <td id=\"T_c5f5b_row7_col17\" class=\"data row7 col17\" >-0.35</td>\n",
       "      <td id=\"T_c5f5b_row7_col18\" class=\"data row7 col18\" >-0.94</td>\n",
       "      <td id=\"T_c5f5b_row7_col19\" class=\"data row7 col19\" >-0.16</td>\n",
       "      <td id=\"T_c5f5b_row7_col20\" class=\"data row7 col20\" >-0.67</td>\n",
       "      <td id=\"T_c5f5b_row7_col21\" class=\"data row7 col21\" >-0.12</td>\n",
       "      <td id=\"T_c5f5b_row7_col22\" class=\"data row7 col22\" >-0.29</td>\n",
       "      <td id=\"T_c5f5b_row7_col23\" class=\"data row7 col23\" >-0.21</td>\n",
       "      <td id=\"T_c5f5b_row7_col24\" class=\"data row7 col24\" >-0.34</td>\n",
       "      <td id=\"T_c5f5b_row7_col25\" class=\"data row7 col25\" >-0.30</td>\n",
       "      <td id=\"T_c5f5b_row7_col26\" class=\"data row7 col26\" >-0.23</td>\n",
       "      <td id=\"T_c5f5b_row7_col27\" class=\"data row7 col27\" >-0.23</td>\n",
       "      <td id=\"T_c5f5b_row7_col28\" class=\"data row7 col28\" >-0.18</td>\n",
       "      <td id=\"T_c5f5b_row7_col29\" class=\"data row7 col29\" >-0.22</td>\n",
       "      <td id=\"T_c5f5b_row7_col30\" class=\"data row7 col30\" >-0.16</td>\n",
       "      <td id=\"T_c5f5b_row7_col31\" class=\"data row7 col31\" >-0.14</td>\n",
       "      <td id=\"T_c5f5b_row7_col32\" class=\"data row7 col32\" >-0.17</td>\n",
       "      <td id=\"T_c5f5b_row7_col33\" class=\"data row7 col33\" >-0.15</td>\n",
       "      <td id=\"T_c5f5b_row7_col34\" class=\"data row7 col34\" >-0.19</td>\n",
       "      <td id=\"T_c5f5b_row7_col35\" class=\"data row7 col35\" >-0.24</td>\n",
       "      <td id=\"T_c5f5b_row7_col36\" class=\"data row7 col36\" >-0.32</td>\n",
       "      <td id=\"T_c5f5b_row7_col37\" class=\"data row7 col37\" >-0.06</td>\n",
       "      <td id=\"T_c5f5b_row7_col38\" class=\"data row7 col38\" >-0.18</td>\n",
       "      <td id=\"T_c5f5b_row7_col39\" class=\"data row7 col39\" >-0.18</td>\n",
       "      <td id=\"T_c5f5b_row7_col40\" class=\"data row7 col40\" >-0.13</td>\n",
       "      <td id=\"T_c5f5b_row7_col41\" class=\"data row7 col41\" >6.76</td>\n",
       "      <td id=\"T_c5f5b_row7_col42\" class=\"data row7 col42\" >-0.21</td>\n",
       "      <td id=\"T_c5f5b_row7_col43\" class=\"data row7 col43\" >-0.12</td>\n",
       "      <td id=\"T_c5f5b_row7_col44\" class=\"data row7 col44\" >-0.30</td>\n",
       "      <td id=\"T_c5f5b_row7_col45\" class=\"data row7 col45\" >-0.20</td>\n",
       "      <td id=\"T_c5f5b_row7_col46\" class=\"data row7 col46\" >-0.07</td>\n",
       "      <td id=\"T_c5f5b_row7_col47\" class=\"data row7 col47\" >-0.11</td>\n",
       "      <td id=\"T_c5f5b_row7_col48\" class=\"data row7 col48\" >-0.16</td>\n",
       "      <td id=\"T_c5f5b_row7_col49\" class=\"data row7 col49\" >-0.48</td>\n",
       "      <td id=\"T_c5f5b_row7_col50\" class=\"data row7 col50\" >-0.19</td>\n",
       "      <td id=\"T_c5f5b_row7_col51\" class=\"data row7 col51\" >-0.31</td>\n",
       "      <td id=\"T_c5f5b_row7_col52\" class=\"data row7 col52\" >-0.30</td>\n",
       "      <td id=\"T_c5f5b_row7_col53\" class=\"data row7 col53\" >-0.10</td>\n",
       "      <td id=\"T_c5f5b_row7_col54\" class=\"data row7 col54\" >-0.12</td>\n",
       "      <td id=\"T_c5f5b_row7_col55\" class=\"data row7 col55\" >-0.24</td>\n",
       "      <td id=\"T_c5f5b_row7_col56\" class=\"data row7 col56\" >-0.44</td>\n",
       "    </tr>\n",
       "    <tr>\n",
       "      <td id=\"T_c5f5b_row8_col0\" class=\"data row8 col0\" >2.14</td>\n",
       "      <td id=\"T_c5f5b_row8_col1\" class=\"data row8 col1\" >-0.16</td>\n",
       "      <td id=\"T_c5f5b_row8_col2\" class=\"data row8 col2\" >0.94</td>\n",
       "      <td id=\"T_c5f5b_row8_col3\" class=\"data row8 col3\" >-0.05</td>\n",
       "      <td id=\"T_c5f5b_row8_col4\" class=\"data row8 col4\" >-0.46</td>\n",
       "      <td id=\"T_c5f5b_row8_col5\" class=\"data row8 col5\" >1.06</td>\n",
       "      <td id=\"T_c5f5b_row8_col6\" class=\"data row8 col6\" >-0.29</td>\n",
       "      <td id=\"T_c5f5b_row8_col7\" class=\"data row8 col7\" >-0.26</td>\n",
       "      <td id=\"T_c5f5b_row8_col8\" class=\"data row8 col8\" >-0.32</td>\n",
       "      <td id=\"T_c5f5b_row8_col9\" class=\"data row8 col9\" >-0.37</td>\n",
       "      <td id=\"T_c5f5b_row8_col10\" class=\"data row8 col10\" >-0.30</td>\n",
       "      <td id=\"T_c5f5b_row8_col11\" class=\"data row8 col11\" >0.69</td>\n",
       "      <td id=\"T_c5f5b_row8_col12\" class=\"data row8 col12\" >0.93</td>\n",
       "      <td id=\"T_c5f5b_row8_col13\" class=\"data row8 col13\" >-0.17</td>\n",
       "      <td id=\"T_c5f5b_row8_col14\" class=\"data row8 col14\" >-0.19</td>\n",
       "      <td id=\"T_c5f5b_row8_col15\" class=\"data row8 col15\" >-0.32</td>\n",
       "      <td id=\"T_c5f5b_row8_col16\" class=\"data row8 col16\" >-0.31</td>\n",
       "      <td id=\"T_c5f5b_row8_col17\" class=\"data row8 col17\" >-0.35</td>\n",
       "      <td id=\"T_c5f5b_row8_col18\" class=\"data row8 col18\" >0.34</td>\n",
       "      <td id=\"T_c5f5b_row8_col19\" class=\"data row8 col19\" >-0.16</td>\n",
       "      <td id=\"T_c5f5b_row8_col20\" class=\"data row8 col20\" >-0.67</td>\n",
       "      <td id=\"T_c5f5b_row8_col21\" class=\"data row8 col21\" >-0.12</td>\n",
       "      <td id=\"T_c5f5b_row8_col22\" class=\"data row8 col22\" >-0.29</td>\n",
       "      <td id=\"T_c5f5b_row8_col23\" class=\"data row8 col23\" >-0.21</td>\n",
       "      <td id=\"T_c5f5b_row8_col24\" class=\"data row8 col24\" >-0.34</td>\n",
       "      <td id=\"T_c5f5b_row8_col25\" class=\"data row8 col25\" >-0.30</td>\n",
       "      <td id=\"T_c5f5b_row8_col26\" class=\"data row8 col26\" >-0.23</td>\n",
       "      <td id=\"T_c5f5b_row8_col27\" class=\"data row8 col27\" >-0.23</td>\n",
       "      <td id=\"T_c5f5b_row8_col28\" class=\"data row8 col28\" >-0.18</td>\n",
       "      <td id=\"T_c5f5b_row8_col29\" class=\"data row8 col29\" >-0.22</td>\n",
       "      <td id=\"T_c5f5b_row8_col30\" class=\"data row8 col30\" >-0.16</td>\n",
       "      <td id=\"T_c5f5b_row8_col31\" class=\"data row8 col31\" >-0.14</td>\n",
       "      <td id=\"T_c5f5b_row8_col32\" class=\"data row8 col32\" >-0.17</td>\n",
       "      <td id=\"T_c5f5b_row8_col33\" class=\"data row8 col33\" >-0.15</td>\n",
       "      <td id=\"T_c5f5b_row8_col34\" class=\"data row8 col34\" >-0.19</td>\n",
       "      <td id=\"T_c5f5b_row8_col35\" class=\"data row8 col35\" >-0.24</td>\n",
       "      <td id=\"T_c5f5b_row8_col36\" class=\"data row8 col36\" >-0.32</td>\n",
       "      <td id=\"T_c5f5b_row8_col37\" class=\"data row8 col37\" >-0.06</td>\n",
       "      <td id=\"T_c5f5b_row8_col38\" class=\"data row8 col38\" >0.72</td>\n",
       "      <td id=\"T_c5f5b_row8_col39\" class=\"data row8 col39\" >-0.18</td>\n",
       "      <td id=\"T_c5f5b_row8_col40\" class=\"data row8 col40\" >7.30</td>\n",
       "      <td id=\"T_c5f5b_row8_col41\" class=\"data row8 col41\" >-0.18</td>\n",
       "      <td id=\"T_c5f5b_row8_col42\" class=\"data row8 col42\" >-0.21</td>\n",
       "      <td id=\"T_c5f5b_row8_col43\" class=\"data row8 col43\" >-0.12</td>\n",
       "      <td id=\"T_c5f5b_row8_col44\" class=\"data row8 col44\" >0.09</td>\n",
       "      <td id=\"T_c5f5b_row8_col45\" class=\"data row8 col45\" >0.22</td>\n",
       "      <td id=\"T_c5f5b_row8_col46\" class=\"data row8 col46\" >-0.07</td>\n",
       "      <td id=\"T_c5f5b_row8_col47\" class=\"data row8 col47\" >-0.11</td>\n",
       "      <td id=\"T_c5f5b_row8_col48\" class=\"data row8 col48\" >-0.16</td>\n",
       "      <td id=\"T_c5f5b_row8_col49\" class=\"data row8 col49\" >0.14</td>\n",
       "      <td id=\"T_c5f5b_row8_col50\" class=\"data row8 col50\" >-0.19</td>\n",
       "      <td id=\"T_c5f5b_row8_col51\" class=\"data row8 col51\" >0.31</td>\n",
       "      <td id=\"T_c5f5b_row8_col52\" class=\"data row8 col52\" >-0.30</td>\n",
       "      <td id=\"T_c5f5b_row8_col53\" class=\"data row8 col53\" >-0.10</td>\n",
       "      <td id=\"T_c5f5b_row8_col54\" class=\"data row8 col54\" >-0.09</td>\n",
       "      <td id=\"T_c5f5b_row8_col55\" class=\"data row8 col55\" >-0.18</td>\n",
       "      <td id=\"T_c5f5b_row8_col56\" class=\"data row8 col56\" >-0.23</td>\n",
       "    </tr>\n",
       "    <tr>\n",
       "      <td id=\"T_c5f5b_row9_col0\" class=\"data row9 col0\" >-0.35</td>\n",
       "      <td id=\"T_c5f5b_row9_col1\" class=\"data row9 col1\" >-0.16</td>\n",
       "      <td id=\"T_c5f5b_row9_col2\" class=\"data row9 col2\" >-0.56</td>\n",
       "      <td id=\"T_c5f5b_row9_col3\" class=\"data row9 col3\" >-0.05</td>\n",
       "      <td id=\"T_c5f5b_row9_col4\" class=\"data row9 col4\" >-0.46</td>\n",
       "      <td id=\"T_c5f5b_row9_col5\" class=\"data row9 col5\" >-0.36</td>\n",
       "      <td id=\"T_c5f5b_row9_col6\" class=\"data row9 col6\" >-0.29</td>\n",
       "      <td id=\"T_c5f5b_row9_col7\" class=\"data row9 col7\" >-0.26</td>\n",
       "      <td id=\"T_c5f5b_row9_col8\" class=\"data row9 col8\" >-0.32</td>\n",
       "      <td id=\"T_c5f5b_row9_col9\" class=\"data row9 col9\" >-0.37</td>\n",
       "      <td id=\"T_c5f5b_row9_col10\" class=\"data row9 col10\" >-0.30</td>\n",
       "      <td id=\"T_c5f5b_row9_col11\" class=\"data row9 col11\" >3.21</td>\n",
       "      <td id=\"T_c5f5b_row9_col12\" class=\"data row9 col12\" >-0.30</td>\n",
       "      <td id=\"T_c5f5b_row9_col13\" class=\"data row9 col13\" >-0.17</td>\n",
       "      <td id=\"T_c5f5b_row9_col14\" class=\"data row9 col14\" >-0.19</td>\n",
       "      <td id=\"T_c5f5b_row9_col15\" class=\"data row9 col15\" >-0.32</td>\n",
       "      <td id=\"T_c5f5b_row9_col16\" class=\"data row9 col16\" >-0.31</td>\n",
       "      <td id=\"T_c5f5b_row9_col17\" class=\"data row9 col17\" >-0.35</td>\n",
       "      <td id=\"T_c5f5b_row9_col18\" class=\"data row9 col18\" >-0.94</td>\n",
       "      <td id=\"T_c5f5b_row9_col19\" class=\"data row9 col19\" >-0.16</td>\n",
       "      <td id=\"T_c5f5b_row9_col20\" class=\"data row9 col20\" >-0.67</td>\n",
       "      <td id=\"T_c5f5b_row9_col21\" class=\"data row9 col21\" >-0.12</td>\n",
       "      <td id=\"T_c5f5b_row9_col22\" class=\"data row9 col22\" >-0.29</td>\n",
       "      <td id=\"T_c5f5b_row9_col23\" class=\"data row9 col23\" >-0.21</td>\n",
       "      <td id=\"T_c5f5b_row9_col24\" class=\"data row9 col24\" >-0.34</td>\n",
       "      <td id=\"T_c5f5b_row9_col25\" class=\"data row9 col25\" >-0.30</td>\n",
       "      <td id=\"T_c5f5b_row9_col26\" class=\"data row9 col26\" >-0.23</td>\n",
       "      <td id=\"T_c5f5b_row9_col27\" class=\"data row9 col27\" >-0.23</td>\n",
       "      <td id=\"T_c5f5b_row9_col28\" class=\"data row9 col28\" >-0.18</td>\n",
       "      <td id=\"T_c5f5b_row9_col29\" class=\"data row9 col29\" >-0.22</td>\n",
       "      <td id=\"T_c5f5b_row9_col30\" class=\"data row9 col30\" >-0.16</td>\n",
       "      <td id=\"T_c5f5b_row9_col31\" class=\"data row9 col31\" >-0.14</td>\n",
       "      <td id=\"T_c5f5b_row9_col32\" class=\"data row9 col32\" >-0.17</td>\n",
       "      <td id=\"T_c5f5b_row9_col33\" class=\"data row9 col33\" >-0.15</td>\n",
       "      <td id=\"T_c5f5b_row9_col34\" class=\"data row9 col34\" >-0.19</td>\n",
       "      <td id=\"T_c5f5b_row9_col35\" class=\"data row9 col35\" >-0.24</td>\n",
       "      <td id=\"T_c5f5b_row9_col36\" class=\"data row9 col36\" >-0.32</td>\n",
       "      <td id=\"T_c5f5b_row9_col37\" class=\"data row9 col37\" >-0.06</td>\n",
       "      <td id=\"T_c5f5b_row9_col38\" class=\"data row9 col38\" >-0.18</td>\n",
       "      <td id=\"T_c5f5b_row9_col39\" class=\"data row9 col39\" >-0.18</td>\n",
       "      <td id=\"T_c5f5b_row9_col40\" class=\"data row9 col40\" >-0.13</td>\n",
       "      <td id=\"T_c5f5b_row9_col41\" class=\"data row9 col41\" >-0.18</td>\n",
       "      <td id=\"T_c5f5b_row9_col42\" class=\"data row9 col42\" >-0.21</td>\n",
       "      <td id=\"T_c5f5b_row9_col43\" class=\"data row9 col43\" >-0.12</td>\n",
       "      <td id=\"T_c5f5b_row9_col44\" class=\"data row9 col44\" >-0.30</td>\n",
       "      <td id=\"T_c5f5b_row9_col45\" class=\"data row9 col45\" >-0.20</td>\n",
       "      <td id=\"T_c5f5b_row9_col46\" class=\"data row9 col46\" >-0.07</td>\n",
       "      <td id=\"T_c5f5b_row9_col47\" class=\"data row9 col47\" >10.64</td>\n",
       "      <td id=\"T_c5f5b_row9_col48\" class=\"data row9 col48\" >-0.16</td>\n",
       "      <td id=\"T_c5f5b_row9_col49\" class=\"data row9 col49\" >-0.48</td>\n",
       "      <td id=\"T_c5f5b_row9_col50\" class=\"data row9 col50\" >-0.19</td>\n",
       "      <td id=\"T_c5f5b_row9_col51\" class=\"data row9 col51\" >0.42</td>\n",
       "      <td id=\"T_c5f5b_row9_col52\" class=\"data row9 col52\" >-0.30</td>\n",
       "      <td id=\"T_c5f5b_row9_col53\" class=\"data row9 col53\" >-0.10</td>\n",
       "      <td id=\"T_c5f5b_row9_col54\" class=\"data row9 col54\" >-0.10</td>\n",
       "      <td id=\"T_c5f5b_row9_col55\" class=\"data row9 col55\" >-0.21</td>\n",
       "      <td id=\"T_c5f5b_row9_col56\" class=\"data row9 col56\" >-0.43</td>\n",
       "    </tr>\n",
       "  </tbody>\n",
       "</table>\n"
      ],
      "text/plain": [
       "<pandas.io.formats.style.Styler at 0x14b3b1a10>"
      ]
     },
     "execution_count": 35,
     "metadata": {},
     "output_type": "execute_result"
    }
   ],
   "source": [
    "pandas_processx.return_formatted_table \\\n",
    "    (x_train_scaled_cluster_centroids_dataframe, \n",
    "     'Table 2.7.3: Scaled Features Training Cluster Centroids Data')"
   ]
  },
  {
   "cell_type": "code",
   "execution_count": 36,
   "metadata": {},
   "outputs": [
    {
     "data": {
      "text/html": [
       "<style type=\"text/css\">\n",
       "#T_49b2e caption {\n",
       "  color: black;\n",
       "  font-size: 20px;\n",
       "  font-style: bold;\n",
       "  text-align: center;\n",
       "}\n",
       "#T_49b2e_row0_col0, #T_49b2e_row0_col1, #T_49b2e_row0_col2, #T_49b2e_row0_col3, #T_49b2e_row0_col4, #T_49b2e_row0_col5, #T_49b2e_row0_col6, #T_49b2e_row0_col7, #T_49b2e_row0_col8, #T_49b2e_row0_col9, #T_49b2e_row0_col10, #T_49b2e_row0_col11, #T_49b2e_row0_col12, #T_49b2e_row0_col13, #T_49b2e_row0_col14, #T_49b2e_row0_col15, #T_49b2e_row0_col16, #T_49b2e_row0_col17, #T_49b2e_row0_col18, #T_49b2e_row0_col19, #T_49b2e_row0_col20, #T_49b2e_row0_col21, #T_49b2e_row0_col22, #T_49b2e_row0_col23, #T_49b2e_row0_col24, #T_49b2e_row0_col25, #T_49b2e_row0_col26, #T_49b2e_row0_col27, #T_49b2e_row0_col28, #T_49b2e_row0_col29, #T_49b2e_row0_col30, #T_49b2e_row0_col31, #T_49b2e_row0_col32, #T_49b2e_row0_col33, #T_49b2e_row0_col34, #T_49b2e_row0_col35, #T_49b2e_row0_col36, #T_49b2e_row0_col37, #T_49b2e_row0_col38, #T_49b2e_row0_col39, #T_49b2e_row0_col40, #T_49b2e_row0_col41, #T_49b2e_row0_col42, #T_49b2e_row0_col43, #T_49b2e_row0_col44, #T_49b2e_row0_col45, #T_49b2e_row0_col46, #T_49b2e_row0_col47, #T_49b2e_row0_col48, #T_49b2e_row0_col49, #T_49b2e_row0_col50, #T_49b2e_row0_col51, #T_49b2e_row0_col52, #T_49b2e_row0_col53, #T_49b2e_row0_col54, #T_49b2e_row0_col55, #T_49b2e_row0_col56, #T_49b2e_row1_col0, #T_49b2e_row1_col1, #T_49b2e_row1_col2, #T_49b2e_row1_col3, #T_49b2e_row1_col4, #T_49b2e_row1_col5, #T_49b2e_row1_col6, #T_49b2e_row1_col7, #T_49b2e_row1_col8, #T_49b2e_row1_col9, #T_49b2e_row1_col10, #T_49b2e_row1_col11, #T_49b2e_row1_col12, #T_49b2e_row1_col13, #T_49b2e_row1_col14, #T_49b2e_row1_col15, #T_49b2e_row1_col16, #T_49b2e_row1_col17, #T_49b2e_row1_col18, #T_49b2e_row1_col19, #T_49b2e_row1_col20, #T_49b2e_row1_col21, #T_49b2e_row1_col22, #T_49b2e_row1_col23, #T_49b2e_row1_col24, #T_49b2e_row1_col25, #T_49b2e_row1_col26, #T_49b2e_row1_col27, #T_49b2e_row1_col28, #T_49b2e_row1_col29, #T_49b2e_row1_col30, #T_49b2e_row1_col31, #T_49b2e_row1_col32, #T_49b2e_row1_col33, #T_49b2e_row1_col34, #T_49b2e_row1_col35, #T_49b2e_row1_col36, #T_49b2e_row1_col37, #T_49b2e_row1_col38, #T_49b2e_row1_col39, #T_49b2e_row1_col40, #T_49b2e_row1_col41, #T_49b2e_row1_col42, #T_49b2e_row1_col43, #T_49b2e_row1_col44, #T_49b2e_row1_col45, #T_49b2e_row1_col46, #T_49b2e_row1_col47, #T_49b2e_row1_col48, #T_49b2e_row1_col49, #T_49b2e_row1_col50, #T_49b2e_row1_col51, #T_49b2e_row1_col52, #T_49b2e_row1_col53, #T_49b2e_row1_col54, #T_49b2e_row1_col55, #T_49b2e_row1_col56, #T_49b2e_row2_col0, #T_49b2e_row2_col1, #T_49b2e_row2_col2, #T_49b2e_row2_col3, #T_49b2e_row2_col4, #T_49b2e_row2_col5, #T_49b2e_row2_col6, #T_49b2e_row2_col7, #T_49b2e_row2_col8, #T_49b2e_row2_col9, #T_49b2e_row2_col10, #T_49b2e_row2_col11, #T_49b2e_row2_col12, #T_49b2e_row2_col13, #T_49b2e_row2_col14, #T_49b2e_row2_col15, #T_49b2e_row2_col16, #T_49b2e_row2_col17, #T_49b2e_row2_col18, #T_49b2e_row2_col19, #T_49b2e_row2_col20, #T_49b2e_row2_col21, #T_49b2e_row2_col22, #T_49b2e_row2_col23, #T_49b2e_row2_col24, #T_49b2e_row2_col25, #T_49b2e_row2_col26, #T_49b2e_row2_col27, #T_49b2e_row2_col28, #T_49b2e_row2_col29, #T_49b2e_row2_col30, #T_49b2e_row2_col31, #T_49b2e_row2_col32, #T_49b2e_row2_col33, #T_49b2e_row2_col34, #T_49b2e_row2_col35, #T_49b2e_row2_col36, #T_49b2e_row2_col37, #T_49b2e_row2_col38, #T_49b2e_row2_col39, #T_49b2e_row2_col40, #T_49b2e_row2_col41, #T_49b2e_row2_col42, #T_49b2e_row2_col43, #T_49b2e_row2_col44, #T_49b2e_row2_col45, #T_49b2e_row2_col46, #T_49b2e_row2_col47, #T_49b2e_row2_col48, #T_49b2e_row2_col49, #T_49b2e_row2_col50, #T_49b2e_row2_col51, #T_49b2e_row2_col52, #T_49b2e_row2_col53, #T_49b2e_row2_col54, #T_49b2e_row2_col55, #T_49b2e_row2_col56, #T_49b2e_row3_col0, #T_49b2e_row3_col1, #T_49b2e_row3_col2, #T_49b2e_row3_col3, #T_49b2e_row3_col4, #T_49b2e_row3_col5, #T_49b2e_row3_col6, #T_49b2e_row3_col7, #T_49b2e_row3_col8, #T_49b2e_row3_col9, #T_49b2e_row3_col10, #T_49b2e_row3_col11, #T_49b2e_row3_col12, #T_49b2e_row3_col13, #T_49b2e_row3_col14, #T_49b2e_row3_col15, #T_49b2e_row3_col16, #T_49b2e_row3_col17, #T_49b2e_row3_col18, #T_49b2e_row3_col19, #T_49b2e_row3_col20, #T_49b2e_row3_col21, #T_49b2e_row3_col22, #T_49b2e_row3_col23, #T_49b2e_row3_col24, #T_49b2e_row3_col25, #T_49b2e_row3_col26, #T_49b2e_row3_col27, #T_49b2e_row3_col28, #T_49b2e_row3_col29, #T_49b2e_row3_col30, #T_49b2e_row3_col31, #T_49b2e_row3_col32, #T_49b2e_row3_col33, #T_49b2e_row3_col34, #T_49b2e_row3_col35, #T_49b2e_row3_col36, #T_49b2e_row3_col37, #T_49b2e_row3_col38, #T_49b2e_row3_col39, #T_49b2e_row3_col40, #T_49b2e_row3_col41, #T_49b2e_row3_col42, #T_49b2e_row3_col43, #T_49b2e_row3_col44, #T_49b2e_row3_col45, #T_49b2e_row3_col46, #T_49b2e_row3_col47, #T_49b2e_row3_col48, #T_49b2e_row3_col49, #T_49b2e_row3_col50, #T_49b2e_row3_col51, #T_49b2e_row3_col52, #T_49b2e_row3_col53, #T_49b2e_row3_col54, #T_49b2e_row3_col55, #T_49b2e_row3_col56, #T_49b2e_row4_col0, #T_49b2e_row4_col1, #T_49b2e_row4_col2, #T_49b2e_row4_col3, #T_49b2e_row4_col4, #T_49b2e_row4_col5, #T_49b2e_row4_col6, #T_49b2e_row4_col7, #T_49b2e_row4_col8, #T_49b2e_row4_col9, #T_49b2e_row4_col10, #T_49b2e_row4_col11, #T_49b2e_row4_col12, #T_49b2e_row4_col13, #T_49b2e_row4_col14, #T_49b2e_row4_col15, #T_49b2e_row4_col16, #T_49b2e_row4_col17, #T_49b2e_row4_col18, #T_49b2e_row4_col19, #T_49b2e_row4_col20, #T_49b2e_row4_col21, #T_49b2e_row4_col22, #T_49b2e_row4_col23, #T_49b2e_row4_col24, #T_49b2e_row4_col25, #T_49b2e_row4_col26, #T_49b2e_row4_col27, #T_49b2e_row4_col28, #T_49b2e_row4_col29, #T_49b2e_row4_col30, #T_49b2e_row4_col31, #T_49b2e_row4_col32, #T_49b2e_row4_col33, #T_49b2e_row4_col34, #T_49b2e_row4_col35, #T_49b2e_row4_col36, #T_49b2e_row4_col37, #T_49b2e_row4_col38, #T_49b2e_row4_col39, #T_49b2e_row4_col40, #T_49b2e_row4_col41, #T_49b2e_row4_col42, #T_49b2e_row4_col43, #T_49b2e_row4_col44, #T_49b2e_row4_col45, #T_49b2e_row4_col46, #T_49b2e_row4_col47, #T_49b2e_row4_col48, #T_49b2e_row4_col49, #T_49b2e_row4_col50, #T_49b2e_row4_col51, #T_49b2e_row4_col52, #T_49b2e_row4_col53, #T_49b2e_row4_col54, #T_49b2e_row4_col55, #T_49b2e_row4_col56, #T_49b2e_row5_col0, #T_49b2e_row5_col1, #T_49b2e_row5_col2, #T_49b2e_row5_col3, #T_49b2e_row5_col4, #T_49b2e_row5_col5, #T_49b2e_row5_col6, #T_49b2e_row5_col7, #T_49b2e_row5_col8, #T_49b2e_row5_col9, #T_49b2e_row5_col10, #T_49b2e_row5_col11, #T_49b2e_row5_col12, #T_49b2e_row5_col13, #T_49b2e_row5_col14, #T_49b2e_row5_col15, #T_49b2e_row5_col16, #T_49b2e_row5_col17, #T_49b2e_row5_col18, #T_49b2e_row5_col19, #T_49b2e_row5_col20, #T_49b2e_row5_col21, #T_49b2e_row5_col22, #T_49b2e_row5_col23, #T_49b2e_row5_col24, #T_49b2e_row5_col25, #T_49b2e_row5_col26, #T_49b2e_row5_col27, #T_49b2e_row5_col28, #T_49b2e_row5_col29, #T_49b2e_row5_col30, #T_49b2e_row5_col31, #T_49b2e_row5_col32, #T_49b2e_row5_col33, #T_49b2e_row5_col34, #T_49b2e_row5_col35, #T_49b2e_row5_col36, #T_49b2e_row5_col37, #T_49b2e_row5_col38, #T_49b2e_row5_col39, #T_49b2e_row5_col40, #T_49b2e_row5_col41, #T_49b2e_row5_col42, #T_49b2e_row5_col43, #T_49b2e_row5_col44, #T_49b2e_row5_col45, #T_49b2e_row5_col46, #T_49b2e_row5_col47, #T_49b2e_row5_col48, #T_49b2e_row5_col49, #T_49b2e_row5_col50, #T_49b2e_row5_col51, #T_49b2e_row5_col52, #T_49b2e_row5_col53, #T_49b2e_row5_col54, #T_49b2e_row5_col55, #T_49b2e_row5_col56, #T_49b2e_row6_col0, #T_49b2e_row6_col1, #T_49b2e_row6_col2, #T_49b2e_row6_col3, #T_49b2e_row6_col4, #T_49b2e_row6_col5, #T_49b2e_row6_col6, #T_49b2e_row6_col7, #T_49b2e_row6_col8, #T_49b2e_row6_col9, #T_49b2e_row6_col10, #T_49b2e_row6_col11, #T_49b2e_row6_col12, #T_49b2e_row6_col13, #T_49b2e_row6_col14, #T_49b2e_row6_col15, #T_49b2e_row6_col16, #T_49b2e_row6_col17, #T_49b2e_row6_col18, #T_49b2e_row6_col19, #T_49b2e_row6_col20, #T_49b2e_row6_col21, #T_49b2e_row6_col22, #T_49b2e_row6_col23, #T_49b2e_row6_col24, #T_49b2e_row6_col25, #T_49b2e_row6_col26, #T_49b2e_row6_col27, #T_49b2e_row6_col28, #T_49b2e_row6_col29, #T_49b2e_row6_col30, #T_49b2e_row6_col31, #T_49b2e_row6_col32, #T_49b2e_row6_col33, #T_49b2e_row6_col34, #T_49b2e_row6_col35, #T_49b2e_row6_col36, #T_49b2e_row6_col37, #T_49b2e_row6_col38, #T_49b2e_row6_col39, #T_49b2e_row6_col40, #T_49b2e_row6_col41, #T_49b2e_row6_col42, #T_49b2e_row6_col43, #T_49b2e_row6_col44, #T_49b2e_row6_col45, #T_49b2e_row6_col46, #T_49b2e_row6_col47, #T_49b2e_row6_col48, #T_49b2e_row6_col49, #T_49b2e_row6_col50, #T_49b2e_row6_col51, #T_49b2e_row6_col52, #T_49b2e_row6_col53, #T_49b2e_row6_col54, #T_49b2e_row6_col55, #T_49b2e_row6_col56, #T_49b2e_row7_col0, #T_49b2e_row7_col1, #T_49b2e_row7_col2, #T_49b2e_row7_col3, #T_49b2e_row7_col4, #T_49b2e_row7_col5, #T_49b2e_row7_col6, #T_49b2e_row7_col7, #T_49b2e_row7_col8, #T_49b2e_row7_col9, #T_49b2e_row7_col10, #T_49b2e_row7_col11, #T_49b2e_row7_col12, #T_49b2e_row7_col13, #T_49b2e_row7_col14, #T_49b2e_row7_col15, #T_49b2e_row7_col16, #T_49b2e_row7_col17, #T_49b2e_row7_col18, #T_49b2e_row7_col19, #T_49b2e_row7_col20, #T_49b2e_row7_col21, #T_49b2e_row7_col22, #T_49b2e_row7_col23, #T_49b2e_row7_col24, #T_49b2e_row7_col25, #T_49b2e_row7_col26, #T_49b2e_row7_col27, #T_49b2e_row7_col28, #T_49b2e_row7_col29, #T_49b2e_row7_col30, #T_49b2e_row7_col31, #T_49b2e_row7_col32, #T_49b2e_row7_col33, #T_49b2e_row7_col34, #T_49b2e_row7_col35, #T_49b2e_row7_col36, #T_49b2e_row7_col37, #T_49b2e_row7_col38, #T_49b2e_row7_col39, #T_49b2e_row7_col40, #T_49b2e_row7_col41, #T_49b2e_row7_col42, #T_49b2e_row7_col43, #T_49b2e_row7_col44, #T_49b2e_row7_col45, #T_49b2e_row7_col46, #T_49b2e_row7_col47, #T_49b2e_row7_col48, #T_49b2e_row7_col49, #T_49b2e_row7_col50, #T_49b2e_row7_col51, #T_49b2e_row7_col52, #T_49b2e_row7_col53, #T_49b2e_row7_col54, #T_49b2e_row7_col55, #T_49b2e_row7_col56, #T_49b2e_row8_col0, #T_49b2e_row8_col1, #T_49b2e_row8_col2, #T_49b2e_row8_col3, #T_49b2e_row8_col4, #T_49b2e_row8_col5, #T_49b2e_row8_col6, #T_49b2e_row8_col7, #T_49b2e_row8_col8, #T_49b2e_row8_col9, #T_49b2e_row8_col10, #T_49b2e_row8_col11, #T_49b2e_row8_col12, #T_49b2e_row8_col13, #T_49b2e_row8_col14, #T_49b2e_row8_col15, #T_49b2e_row8_col16, #T_49b2e_row8_col17, #T_49b2e_row8_col18, #T_49b2e_row8_col19, #T_49b2e_row8_col20, #T_49b2e_row8_col21, #T_49b2e_row8_col22, #T_49b2e_row8_col23, #T_49b2e_row8_col24, #T_49b2e_row8_col25, #T_49b2e_row8_col26, #T_49b2e_row8_col27, #T_49b2e_row8_col28, #T_49b2e_row8_col29, #T_49b2e_row8_col30, #T_49b2e_row8_col31, #T_49b2e_row8_col32, #T_49b2e_row8_col33, #T_49b2e_row8_col34, #T_49b2e_row8_col35, #T_49b2e_row8_col36, #T_49b2e_row8_col37, #T_49b2e_row8_col38, #T_49b2e_row8_col39, #T_49b2e_row8_col40, #T_49b2e_row8_col41, #T_49b2e_row8_col42, #T_49b2e_row8_col43, #T_49b2e_row8_col44, #T_49b2e_row8_col45, #T_49b2e_row8_col46, #T_49b2e_row8_col47, #T_49b2e_row8_col48, #T_49b2e_row8_col49, #T_49b2e_row8_col50, #T_49b2e_row8_col51, #T_49b2e_row8_col52, #T_49b2e_row8_col53, #T_49b2e_row8_col54, #T_49b2e_row8_col55, #T_49b2e_row8_col56, #T_49b2e_row9_col0, #T_49b2e_row9_col1, #T_49b2e_row9_col2, #T_49b2e_row9_col3, #T_49b2e_row9_col4, #T_49b2e_row9_col5, #T_49b2e_row9_col6, #T_49b2e_row9_col7, #T_49b2e_row9_col8, #T_49b2e_row9_col9, #T_49b2e_row9_col10, #T_49b2e_row9_col11, #T_49b2e_row9_col12, #T_49b2e_row9_col13, #T_49b2e_row9_col14, #T_49b2e_row9_col15, #T_49b2e_row9_col16, #T_49b2e_row9_col17, #T_49b2e_row9_col18, #T_49b2e_row9_col19, #T_49b2e_row9_col20, #T_49b2e_row9_col21, #T_49b2e_row9_col22, #T_49b2e_row9_col23, #T_49b2e_row9_col24, #T_49b2e_row9_col25, #T_49b2e_row9_col26, #T_49b2e_row9_col27, #T_49b2e_row9_col28, #T_49b2e_row9_col29, #T_49b2e_row9_col30, #T_49b2e_row9_col31, #T_49b2e_row9_col32, #T_49b2e_row9_col33, #T_49b2e_row9_col34, #T_49b2e_row9_col35, #T_49b2e_row9_col36, #T_49b2e_row9_col37, #T_49b2e_row9_col38, #T_49b2e_row9_col39, #T_49b2e_row9_col40, #T_49b2e_row9_col41, #T_49b2e_row9_col42, #T_49b2e_row9_col43, #T_49b2e_row9_col44, #T_49b2e_row9_col45, #T_49b2e_row9_col46, #T_49b2e_row9_col47, #T_49b2e_row9_col48, #T_49b2e_row9_col49, #T_49b2e_row9_col50, #T_49b2e_row9_col51, #T_49b2e_row9_col52, #T_49b2e_row9_col53, #T_49b2e_row9_col54, #T_49b2e_row9_col55, #T_49b2e_row9_col56 {\n",
       "  text-align: center;\n",
       "  border: 1.3px solid red;\n",
       "  color: blue;\n",
       "}\n",
       "</style>\n",
       "<table id=\"T_49b2e\">\n",
       "  <caption>Table 2.7.4: Scaled Features Training SMOTE Data</caption>\n",
       "  <thead>\n",
       "    <tr>\n",
       "      <th id=\"T_49b2e_level0_col0\" class=\"col_heading level0 col0\" >word_freq_make</th>\n",
       "      <th id=\"T_49b2e_level0_col1\" class=\"col_heading level0 col1\" >word_freq_address</th>\n",
       "      <th id=\"T_49b2e_level0_col2\" class=\"col_heading level0 col2\" >word_freq_all</th>\n",
       "      <th id=\"T_49b2e_level0_col3\" class=\"col_heading level0 col3\" >word_freq_3d</th>\n",
       "      <th id=\"T_49b2e_level0_col4\" class=\"col_heading level0 col4\" >word_freq_our</th>\n",
       "      <th id=\"T_49b2e_level0_col5\" class=\"col_heading level0 col5\" >word_freq_over</th>\n",
       "      <th id=\"T_49b2e_level0_col6\" class=\"col_heading level0 col6\" >word_freq_remove</th>\n",
       "      <th id=\"T_49b2e_level0_col7\" class=\"col_heading level0 col7\" >word_freq_internet</th>\n",
       "      <th id=\"T_49b2e_level0_col8\" class=\"col_heading level0 col8\" >word_freq_order</th>\n",
       "      <th id=\"T_49b2e_level0_col9\" class=\"col_heading level0 col9\" >word_freq_mail</th>\n",
       "      <th id=\"T_49b2e_level0_col10\" class=\"col_heading level0 col10\" >word_freq_receive</th>\n",
       "      <th id=\"T_49b2e_level0_col11\" class=\"col_heading level0 col11\" >word_freq_will</th>\n",
       "      <th id=\"T_49b2e_level0_col12\" class=\"col_heading level0 col12\" >word_freq_people</th>\n",
       "      <th id=\"T_49b2e_level0_col13\" class=\"col_heading level0 col13\" >word_freq_report</th>\n",
       "      <th id=\"T_49b2e_level0_col14\" class=\"col_heading level0 col14\" >word_freq_addresses</th>\n",
       "      <th id=\"T_49b2e_level0_col15\" class=\"col_heading level0 col15\" >word_freq_free</th>\n",
       "      <th id=\"T_49b2e_level0_col16\" class=\"col_heading level0 col16\" >word_freq_business</th>\n",
       "      <th id=\"T_49b2e_level0_col17\" class=\"col_heading level0 col17\" >word_freq_email</th>\n",
       "      <th id=\"T_49b2e_level0_col18\" class=\"col_heading level0 col18\" >word_freq_you</th>\n",
       "      <th id=\"T_49b2e_level0_col19\" class=\"col_heading level0 col19\" >word_freq_credit</th>\n",
       "      <th id=\"T_49b2e_level0_col20\" class=\"col_heading level0 col20\" >word_freq_your</th>\n",
       "      <th id=\"T_49b2e_level0_col21\" class=\"col_heading level0 col21\" >word_freq_font</th>\n",
       "      <th id=\"T_49b2e_level0_col22\" class=\"col_heading level0 col22\" >word_freq_000</th>\n",
       "      <th id=\"T_49b2e_level0_col23\" class=\"col_heading level0 col23\" >word_freq_money</th>\n",
       "      <th id=\"T_49b2e_level0_col24\" class=\"col_heading level0 col24\" >word_freq_hp</th>\n",
       "      <th id=\"T_49b2e_level0_col25\" class=\"col_heading level0 col25\" >word_freq_hpl</th>\n",
       "      <th id=\"T_49b2e_level0_col26\" class=\"col_heading level0 col26\" >word_freq_george</th>\n",
       "      <th id=\"T_49b2e_level0_col27\" class=\"col_heading level0 col27\" >word_freq_650</th>\n",
       "      <th id=\"T_49b2e_level0_col28\" class=\"col_heading level0 col28\" >word_freq_lab</th>\n",
       "      <th id=\"T_49b2e_level0_col29\" class=\"col_heading level0 col29\" >word_freq_labs</th>\n",
       "      <th id=\"T_49b2e_level0_col30\" class=\"col_heading level0 col30\" >word_freq_telnet</th>\n",
       "      <th id=\"T_49b2e_level0_col31\" class=\"col_heading level0 col31\" >word_freq_857</th>\n",
       "      <th id=\"T_49b2e_level0_col32\" class=\"col_heading level0 col32\" >word_freq_data</th>\n",
       "      <th id=\"T_49b2e_level0_col33\" class=\"col_heading level0 col33\" >word_freq_415</th>\n",
       "      <th id=\"T_49b2e_level0_col34\" class=\"col_heading level0 col34\" >word_freq_85</th>\n",
       "      <th id=\"T_49b2e_level0_col35\" class=\"col_heading level0 col35\" >word_freq_technology</th>\n",
       "      <th id=\"T_49b2e_level0_col36\" class=\"col_heading level0 col36\" >word_freq_1999</th>\n",
       "      <th id=\"T_49b2e_level0_col37\" class=\"col_heading level0 col37\" >word_freq_parts</th>\n",
       "      <th id=\"T_49b2e_level0_col38\" class=\"col_heading level0 col38\" >word_freq_pm</th>\n",
       "      <th id=\"T_49b2e_level0_col39\" class=\"col_heading level0 col39\" >word_freq_direct</th>\n",
       "      <th id=\"T_49b2e_level0_col40\" class=\"col_heading level0 col40\" >word_freq_cs</th>\n",
       "      <th id=\"T_49b2e_level0_col41\" class=\"col_heading level0 col41\" >word_freq_meeting</th>\n",
       "      <th id=\"T_49b2e_level0_col42\" class=\"col_heading level0 col42\" >word_freq_original</th>\n",
       "      <th id=\"T_49b2e_level0_col43\" class=\"col_heading level0 col43\" >word_freq_project</th>\n",
       "      <th id=\"T_49b2e_level0_col44\" class=\"col_heading level0 col44\" >word_freq_re</th>\n",
       "      <th id=\"T_49b2e_level0_col45\" class=\"col_heading level0 col45\" >word_freq_edu</th>\n",
       "      <th id=\"T_49b2e_level0_col46\" class=\"col_heading level0 col46\" >word_freq_table</th>\n",
       "      <th id=\"T_49b2e_level0_col47\" class=\"col_heading level0 col47\" >word_freq_conference</th>\n",
       "      <th id=\"T_49b2e_level0_col48\" class=\"col_heading level0 col48\" >char_freq_;</th>\n",
       "      <th id=\"T_49b2e_level0_col49\" class=\"col_heading level0 col49\" >char_freq_(</th>\n",
       "      <th id=\"T_49b2e_level0_col50\" class=\"col_heading level0 col50\" >char_freq_[</th>\n",
       "      <th id=\"T_49b2e_level0_col51\" class=\"col_heading level0 col51\" >char_freq_!</th>\n",
       "      <th id=\"T_49b2e_level0_col52\" class=\"col_heading level0 col52\" >char_freq_$</th>\n",
       "      <th id=\"T_49b2e_level0_col53\" class=\"col_heading level0 col53\" >char_freq_#</th>\n",
       "      <th id=\"T_49b2e_level0_col54\" class=\"col_heading level0 col54\" >capital_run_length_average</th>\n",
       "      <th id=\"T_49b2e_level0_col55\" class=\"col_heading level0 col55\" >capital_run_length_longest</th>\n",
       "      <th id=\"T_49b2e_level0_col56\" class=\"col_heading level0 col56\" >capital_run_length_total</th>\n",
       "    </tr>\n",
       "  </thead>\n",
       "  <tbody>\n",
       "    <tr>\n",
       "      <td id=\"T_49b2e_row0_col0\" class=\"data row0 col0\" >2.83</td>\n",
       "      <td id=\"T_49b2e_row0_col1\" class=\"data row0 col1\" >-0.16</td>\n",
       "      <td id=\"T_49b2e_row0_col2\" class=\"data row0 col2\" >1.35</td>\n",
       "      <td id=\"T_49b2e_row0_col3\" class=\"data row0 col3\" >-0.05</td>\n",
       "      <td id=\"T_49b2e_row0_col4\" class=\"data row0 col4\" >-0.46</td>\n",
       "      <td id=\"T_49b2e_row0_col5\" class=\"data row0 col5\" >-0.36</td>\n",
       "      <td id=\"T_49b2e_row0_col6\" class=\"data row0 col6\" >-0.29</td>\n",
       "      <td id=\"T_49b2e_row0_col7\" class=\"data row0 col7\" >-0.26</td>\n",
       "      <td id=\"T_49b2e_row0_col8\" class=\"data row0 col8\" >-0.32</td>\n",
       "      <td id=\"T_49b2e_row0_col9\" class=\"data row0 col9\" >-0.37</td>\n",
       "      <td id=\"T_49b2e_row0_col10\" class=\"data row0 col10\" >-0.30</td>\n",
       "      <td id=\"T_49b2e_row0_col11\" class=\"data row0 col11\" >-0.63</td>\n",
       "      <td id=\"T_49b2e_row0_col12\" class=\"data row0 col12\" >-0.30</td>\n",
       "      <td id=\"T_49b2e_row0_col13\" class=\"data row0 col13\" >-0.17</td>\n",
       "      <td id=\"T_49b2e_row0_col14\" class=\"data row0 col14\" >-0.19</td>\n",
       "      <td id=\"T_49b2e_row0_col15\" class=\"data row0 col15\" >-0.32</td>\n",
       "      <td id=\"T_49b2e_row0_col16\" class=\"data row0 col16\" >-0.31</td>\n",
       "      <td id=\"T_49b2e_row0_col17\" class=\"data row0 col17\" >-0.35</td>\n",
       "      <td id=\"T_49b2e_row0_col18\" class=\"data row0 col18\" >0.68</td>\n",
       "      <td id=\"T_49b2e_row0_col19\" class=\"data row0 col19\" >-0.16</td>\n",
       "      <td id=\"T_49b2e_row0_col20\" class=\"data row0 col20\" >-0.67</td>\n",
       "      <td id=\"T_49b2e_row0_col21\" class=\"data row0 col21\" >-0.12</td>\n",
       "      <td id=\"T_49b2e_row0_col22\" class=\"data row0 col22\" >-0.29</td>\n",
       "      <td id=\"T_49b2e_row0_col23\" class=\"data row0 col23\" >-0.21</td>\n",
       "      <td id=\"T_49b2e_row0_col24\" class=\"data row0 col24\" >-0.34</td>\n",
       "      <td id=\"T_49b2e_row0_col25\" class=\"data row0 col25\" >-0.30</td>\n",
       "      <td id=\"T_49b2e_row0_col26\" class=\"data row0 col26\" >0.06</td>\n",
       "      <td id=\"T_49b2e_row0_col27\" class=\"data row0 col27\" >-0.23</td>\n",
       "      <td id=\"T_49b2e_row0_col28\" class=\"data row0 col28\" >-0.18</td>\n",
       "      <td id=\"T_49b2e_row0_col29\" class=\"data row0 col29\" >-0.22</td>\n",
       "      <td id=\"T_49b2e_row0_col30\" class=\"data row0 col30\" >-0.16</td>\n",
       "      <td id=\"T_49b2e_row0_col31\" class=\"data row0 col31\" >-0.14</td>\n",
       "      <td id=\"T_49b2e_row0_col32\" class=\"data row0 col32\" >-0.17</td>\n",
       "      <td id=\"T_49b2e_row0_col33\" class=\"data row0 col33\" >-0.15</td>\n",
       "      <td id=\"T_49b2e_row0_col34\" class=\"data row0 col34\" >-0.19</td>\n",
       "      <td id=\"T_49b2e_row0_col35\" class=\"data row0 col35\" >-0.24</td>\n",
       "      <td id=\"T_49b2e_row0_col36\" class=\"data row0 col36\" >-0.32</td>\n",
       "      <td id=\"T_49b2e_row0_col37\" class=\"data row0 col37\" >-0.06</td>\n",
       "      <td id=\"T_49b2e_row0_col38\" class=\"data row0 col38\" >-0.18</td>\n",
       "      <td id=\"T_49b2e_row0_col39\" class=\"data row0 col39\" >-0.18</td>\n",
       "      <td id=\"T_49b2e_row0_col40\" class=\"data row0 col40\" >-0.13</td>\n",
       "      <td id=\"T_49b2e_row0_col41\" class=\"data row0 col41\" >-0.18</td>\n",
       "      <td id=\"T_49b2e_row0_col42\" class=\"data row0 col42\" >-0.21</td>\n",
       "      <td id=\"T_49b2e_row0_col43\" class=\"data row0 col43\" >-0.12</td>\n",
       "      <td id=\"T_49b2e_row0_col44\" class=\"data row0 col44\" >-0.30</td>\n",
       "      <td id=\"T_49b2e_row0_col45\" class=\"data row0 col45\" >-0.20</td>\n",
       "      <td id=\"T_49b2e_row0_col46\" class=\"data row0 col46\" >-0.07</td>\n",
       "      <td id=\"T_49b2e_row0_col47\" class=\"data row0 col47\" >-0.11</td>\n",
       "      <td id=\"T_49b2e_row0_col48\" class=\"data row0 col48\" >-0.16</td>\n",
       "      <td id=\"T_49b2e_row0_col49\" class=\"data row0 col49\" >-0.48</td>\n",
       "      <td id=\"T_49b2e_row0_col50\" class=\"data row0 col50\" >-0.19</td>\n",
       "      <td id=\"T_49b2e_row0_col51\" class=\"data row0 col51\" >-0.12</td>\n",
       "      <td id=\"T_49b2e_row0_col52\" class=\"data row0 col52\" >-0.30</td>\n",
       "      <td id=\"T_49b2e_row0_col53\" class=\"data row0 col53\" >-0.10</td>\n",
       "      <td id=\"T_49b2e_row0_col54\" class=\"data row0 col54\" >-0.09</td>\n",
       "      <td id=\"T_49b2e_row0_col55\" class=\"data row0 col55\" >-0.20</td>\n",
       "      <td id=\"T_49b2e_row0_col56\" class=\"data row0 col56\" >-0.36</td>\n",
       "    </tr>\n",
       "    <tr>\n",
       "      <td id=\"T_49b2e_row1_col0\" class=\"data row1 col0\" >-0.35</td>\n",
       "      <td id=\"T_49b2e_row1_col1\" class=\"data row1 col1\" >-0.16</td>\n",
       "      <td id=\"T_49b2e_row1_col2\" class=\"data row1 col2\" >-0.56</td>\n",
       "      <td id=\"T_49b2e_row1_col3\" class=\"data row1 col3\" >-0.05</td>\n",
       "      <td id=\"T_49b2e_row1_col4\" class=\"data row1 col4\" >-0.46</td>\n",
       "      <td id=\"T_49b2e_row1_col5\" class=\"data row1 col5\" >-0.36</td>\n",
       "      <td id=\"T_49b2e_row1_col6\" class=\"data row1 col6\" >-0.29</td>\n",
       "      <td id=\"T_49b2e_row1_col7\" class=\"data row1 col7\" >-0.26</td>\n",
       "      <td id=\"T_49b2e_row1_col8\" class=\"data row1 col8\" >-0.32</td>\n",
       "      <td id=\"T_49b2e_row1_col9\" class=\"data row1 col9\" >-0.37</td>\n",
       "      <td id=\"T_49b2e_row1_col10\" class=\"data row1 col10\" >-0.30</td>\n",
       "      <td id=\"T_49b2e_row1_col11\" class=\"data row1 col11\" >-0.63</td>\n",
       "      <td id=\"T_49b2e_row1_col12\" class=\"data row1 col12\" >-0.30</td>\n",
       "      <td id=\"T_49b2e_row1_col13\" class=\"data row1 col13\" >-0.17</td>\n",
       "      <td id=\"T_49b2e_row1_col14\" class=\"data row1 col14\" >-0.19</td>\n",
       "      <td id=\"T_49b2e_row1_col15\" class=\"data row1 col15\" >-0.32</td>\n",
       "      <td id=\"T_49b2e_row1_col16\" class=\"data row1 col16\" >-0.31</td>\n",
       "      <td id=\"T_49b2e_row1_col17\" class=\"data row1 col17\" >-0.35</td>\n",
       "      <td id=\"T_49b2e_row1_col18\" class=\"data row1 col18\" >0.35</td>\n",
       "      <td id=\"T_49b2e_row1_col19\" class=\"data row1 col19\" >-0.16</td>\n",
       "      <td id=\"T_49b2e_row1_col20\" class=\"data row1 col20\" >-0.67</td>\n",
       "      <td id=\"T_49b2e_row1_col21\" class=\"data row1 col21\" >-0.12</td>\n",
       "      <td id=\"T_49b2e_row1_col22\" class=\"data row1 col22\" >-0.29</td>\n",
       "      <td id=\"T_49b2e_row1_col23\" class=\"data row1 col23\" >-0.21</td>\n",
       "      <td id=\"T_49b2e_row1_col24\" class=\"data row1 col24\" >-0.34</td>\n",
       "      <td id=\"T_49b2e_row1_col25\" class=\"data row1 col25\" >-0.30</td>\n",
       "      <td id=\"T_49b2e_row1_col26\" class=\"data row1 col26\" >-0.23</td>\n",
       "      <td id=\"T_49b2e_row1_col27\" class=\"data row1 col27\" >-0.23</td>\n",
       "      <td id=\"T_49b2e_row1_col28\" class=\"data row1 col28\" >-0.18</td>\n",
       "      <td id=\"T_49b2e_row1_col29\" class=\"data row1 col29\" >-0.22</td>\n",
       "      <td id=\"T_49b2e_row1_col30\" class=\"data row1 col30\" >-0.16</td>\n",
       "      <td id=\"T_49b2e_row1_col31\" class=\"data row1 col31\" >-0.14</td>\n",
       "      <td id=\"T_49b2e_row1_col32\" class=\"data row1 col32\" >-0.17</td>\n",
       "      <td id=\"T_49b2e_row1_col33\" class=\"data row1 col33\" >-0.15</td>\n",
       "      <td id=\"T_49b2e_row1_col34\" class=\"data row1 col34\" >3.86</td>\n",
       "      <td id=\"T_49b2e_row1_col35\" class=\"data row1 col35\" >-0.24</td>\n",
       "      <td id=\"T_49b2e_row1_col36\" class=\"data row1 col36\" >-0.32</td>\n",
       "      <td id=\"T_49b2e_row1_col37\" class=\"data row1 col37\" >-0.06</td>\n",
       "      <td id=\"T_49b2e_row1_col38\" class=\"data row1 col38\" >-0.18</td>\n",
       "      <td id=\"T_49b2e_row1_col39\" class=\"data row1 col39\" >-0.18</td>\n",
       "      <td id=\"T_49b2e_row1_col40\" class=\"data row1 col40\" >-0.13</td>\n",
       "      <td id=\"T_49b2e_row1_col41\" class=\"data row1 col41\" >2.80</td>\n",
       "      <td id=\"T_49b2e_row1_col42\" class=\"data row1 col42\" >-0.21</td>\n",
       "      <td id=\"T_49b2e_row1_col43\" class=\"data row1 col43\" >-0.12</td>\n",
       "      <td id=\"T_49b2e_row1_col44\" class=\"data row1 col44\" >-0.30</td>\n",
       "      <td id=\"T_49b2e_row1_col45\" class=\"data row1 col45\" >-0.20</td>\n",
       "      <td id=\"T_49b2e_row1_col46\" class=\"data row1 col46\" >-0.07</td>\n",
       "      <td id=\"T_49b2e_row1_col47\" class=\"data row1 col47\" >-0.11</td>\n",
       "      <td id=\"T_49b2e_row1_col48\" class=\"data row1 col48\" >-0.16</td>\n",
       "      <td id=\"T_49b2e_row1_col49\" class=\"data row1 col49\" >-0.48</td>\n",
       "      <td id=\"T_49b2e_row1_col50\" class=\"data row1 col50\" >-0.19</td>\n",
       "      <td id=\"T_49b2e_row1_col51\" class=\"data row1 col51\" >0.05</td>\n",
       "      <td id=\"T_49b2e_row1_col52\" class=\"data row1 col52\" >-0.30</td>\n",
       "      <td id=\"T_49b2e_row1_col53\" class=\"data row1 col53\" >-0.10</td>\n",
       "      <td id=\"T_49b2e_row1_col54\" class=\"data row1 col54\" >-0.09</td>\n",
       "      <td id=\"T_49b2e_row1_col55\" class=\"data row1 col55\" >-0.21</td>\n",
       "      <td id=\"T_49b2e_row1_col56\" class=\"data row1 col56\" >-0.38</td>\n",
       "    </tr>\n",
       "    <tr>\n",
       "      <td id=\"T_49b2e_row2_col0\" class=\"data row2 col0\" >-0.35</td>\n",
       "      <td id=\"T_49b2e_row2_col1\" class=\"data row2 col1\" >-0.16</td>\n",
       "      <td id=\"T_49b2e_row2_col2\" class=\"data row2 col2\" >-0.56</td>\n",
       "      <td id=\"T_49b2e_row2_col3\" class=\"data row2 col3\" >-0.05</td>\n",
       "      <td id=\"T_49b2e_row2_col4\" class=\"data row2 col4\" >-0.46</td>\n",
       "      <td id=\"T_49b2e_row2_col5\" class=\"data row2 col5\" >-0.36</td>\n",
       "      <td id=\"T_49b2e_row2_col6\" class=\"data row2 col6\" >-0.29</td>\n",
       "      <td id=\"T_49b2e_row2_col7\" class=\"data row2 col7\" >-0.26</td>\n",
       "      <td id=\"T_49b2e_row2_col8\" class=\"data row2 col8\" >-0.32</td>\n",
       "      <td id=\"T_49b2e_row2_col9\" class=\"data row2 col9\" >-0.37</td>\n",
       "      <td id=\"T_49b2e_row2_col10\" class=\"data row2 col10\" >-0.30</td>\n",
       "      <td id=\"T_49b2e_row2_col11\" class=\"data row2 col11\" >-0.63</td>\n",
       "      <td id=\"T_49b2e_row2_col12\" class=\"data row2 col12\" >-0.30</td>\n",
       "      <td id=\"T_49b2e_row2_col13\" class=\"data row2 col13\" >-0.17</td>\n",
       "      <td id=\"T_49b2e_row2_col14\" class=\"data row2 col14\" >-0.19</td>\n",
       "      <td id=\"T_49b2e_row2_col15\" class=\"data row2 col15\" >-0.32</td>\n",
       "      <td id=\"T_49b2e_row2_col16\" class=\"data row2 col16\" >-0.31</td>\n",
       "      <td id=\"T_49b2e_row2_col17\" class=\"data row2 col17\" >-0.35</td>\n",
       "      <td id=\"T_49b2e_row2_col18\" class=\"data row2 col18\" >-0.94</td>\n",
       "      <td id=\"T_49b2e_row2_col19\" class=\"data row2 col19\" >-0.16</td>\n",
       "      <td id=\"T_49b2e_row2_col20\" class=\"data row2 col20\" >-0.67</td>\n",
       "      <td id=\"T_49b2e_row2_col21\" class=\"data row2 col21\" >-0.12</td>\n",
       "      <td id=\"T_49b2e_row2_col22\" class=\"data row2 col22\" >-0.29</td>\n",
       "      <td id=\"T_49b2e_row2_col23\" class=\"data row2 col23\" >-0.21</td>\n",
       "      <td id=\"T_49b2e_row2_col24\" class=\"data row2 col24\" >-0.34</td>\n",
       "      <td id=\"T_49b2e_row2_col25\" class=\"data row2 col25\" >-0.30</td>\n",
       "      <td id=\"T_49b2e_row2_col26\" class=\"data row2 col26\" >-0.23</td>\n",
       "      <td id=\"T_49b2e_row2_col27\" class=\"data row2 col27\" >-0.23</td>\n",
       "      <td id=\"T_49b2e_row2_col28\" class=\"data row2 col28\" >-0.18</td>\n",
       "      <td id=\"T_49b2e_row2_col29\" class=\"data row2 col29\" >-0.22</td>\n",
       "      <td id=\"T_49b2e_row2_col30\" class=\"data row2 col30\" >-0.16</td>\n",
       "      <td id=\"T_49b2e_row2_col31\" class=\"data row2 col31\" >-0.14</td>\n",
       "      <td id=\"T_49b2e_row2_col32\" class=\"data row2 col32\" >-0.17</td>\n",
       "      <td id=\"T_49b2e_row2_col33\" class=\"data row2 col33\" >-0.15</td>\n",
       "      <td id=\"T_49b2e_row2_col34\" class=\"data row2 col34\" >-0.19</td>\n",
       "      <td id=\"T_49b2e_row2_col35\" class=\"data row2 col35\" >-0.24</td>\n",
       "      <td id=\"T_49b2e_row2_col36\" class=\"data row2 col36\" >-0.32</td>\n",
       "      <td id=\"T_49b2e_row2_col37\" class=\"data row2 col37\" >-0.06</td>\n",
       "      <td id=\"T_49b2e_row2_col38\" class=\"data row2 col38\" >-0.18</td>\n",
       "      <td id=\"T_49b2e_row2_col39\" class=\"data row2 col39\" >-0.18</td>\n",
       "      <td id=\"T_49b2e_row2_col40\" class=\"data row2 col40\" >-0.13</td>\n",
       "      <td id=\"T_49b2e_row2_col41\" class=\"data row2 col41\" >-0.18</td>\n",
       "      <td id=\"T_49b2e_row2_col42\" class=\"data row2 col42\" >-0.21</td>\n",
       "      <td id=\"T_49b2e_row2_col43\" class=\"data row2 col43\" >-0.12</td>\n",
       "      <td id=\"T_49b2e_row2_col44\" class=\"data row2 col44\" >-0.30</td>\n",
       "      <td id=\"T_49b2e_row2_col45\" class=\"data row2 col45\" >-0.20</td>\n",
       "      <td id=\"T_49b2e_row2_col46\" class=\"data row2 col46\" >-0.07</td>\n",
       "      <td id=\"T_49b2e_row2_col47\" class=\"data row2 col47\" >-0.11</td>\n",
       "      <td id=\"T_49b2e_row2_col48\" class=\"data row2 col48\" >-0.16</td>\n",
       "      <td id=\"T_49b2e_row2_col49\" class=\"data row2 col49\" >-0.48</td>\n",
       "      <td id=\"T_49b2e_row2_col50\" class=\"data row2 col50\" >-0.19</td>\n",
       "      <td id=\"T_49b2e_row2_col51\" class=\"data row2 col51\" >-0.31</td>\n",
       "      <td id=\"T_49b2e_row2_col52\" class=\"data row2 col52\" >-0.30</td>\n",
       "      <td id=\"T_49b2e_row2_col53\" class=\"data row2 col53\" >-0.10</td>\n",
       "      <td id=\"T_49b2e_row2_col54\" class=\"data row2 col54\" >-0.13</td>\n",
       "      <td id=\"T_49b2e_row2_col55\" class=\"data row2 col55\" >-0.25</td>\n",
       "      <td id=\"T_49b2e_row2_col56\" class=\"data row2 col56\" >-0.45</td>\n",
       "    </tr>\n",
       "    <tr>\n",
       "      <td id=\"T_49b2e_row3_col0\" class=\"data row3 col0\" >-0.35</td>\n",
       "      <td id=\"T_49b2e_row3_col1\" class=\"data row3 col1\" >-0.16</td>\n",
       "      <td id=\"T_49b2e_row3_col2\" class=\"data row3 col2\" >-0.56</td>\n",
       "      <td id=\"T_49b2e_row3_col3\" class=\"data row3 col3\" >-0.05</td>\n",
       "      <td id=\"T_49b2e_row3_col4\" class=\"data row3 col4\" >-0.46</td>\n",
       "      <td id=\"T_49b2e_row3_col5\" class=\"data row3 col5\" >-0.36</td>\n",
       "      <td id=\"T_49b2e_row3_col6\" class=\"data row3 col6\" >-0.29</td>\n",
       "      <td id=\"T_49b2e_row3_col7\" class=\"data row3 col7\" >-0.26</td>\n",
       "      <td id=\"T_49b2e_row3_col8\" class=\"data row3 col8\" >-0.32</td>\n",
       "      <td id=\"T_49b2e_row3_col9\" class=\"data row3 col9\" >-0.37</td>\n",
       "      <td id=\"T_49b2e_row3_col10\" class=\"data row3 col10\" >-0.30</td>\n",
       "      <td id=\"T_49b2e_row3_col11\" class=\"data row3 col11\" >-0.63</td>\n",
       "      <td id=\"T_49b2e_row3_col12\" class=\"data row3 col12\" >-0.30</td>\n",
       "      <td id=\"T_49b2e_row3_col13\" class=\"data row3 col13\" >-0.17</td>\n",
       "      <td id=\"T_49b2e_row3_col14\" class=\"data row3 col14\" >-0.19</td>\n",
       "      <td id=\"T_49b2e_row3_col15\" class=\"data row3 col15\" >-0.32</td>\n",
       "      <td id=\"T_49b2e_row3_col16\" class=\"data row3 col16\" >-0.31</td>\n",
       "      <td id=\"T_49b2e_row3_col17\" class=\"data row3 col17\" >-0.35</td>\n",
       "      <td id=\"T_49b2e_row3_col18\" class=\"data row3 col18\" >-0.94</td>\n",
       "      <td id=\"T_49b2e_row3_col19\" class=\"data row3 col19\" >-0.16</td>\n",
       "      <td id=\"T_49b2e_row3_col20\" class=\"data row3 col20\" >-0.67</td>\n",
       "      <td id=\"T_49b2e_row3_col21\" class=\"data row3 col21\" >-0.12</td>\n",
       "      <td id=\"T_49b2e_row3_col22\" class=\"data row3 col22\" >-0.29</td>\n",
       "      <td id=\"T_49b2e_row3_col23\" class=\"data row3 col23\" >-0.21</td>\n",
       "      <td id=\"T_49b2e_row3_col24\" class=\"data row3 col24\" >-0.34</td>\n",
       "      <td id=\"T_49b2e_row3_col25\" class=\"data row3 col25\" >-0.30</td>\n",
       "      <td id=\"T_49b2e_row3_col26\" class=\"data row3 col26\" >5.77</td>\n",
       "      <td id=\"T_49b2e_row3_col27\" class=\"data row3 col27\" >-0.23</td>\n",
       "      <td id=\"T_49b2e_row3_col28\" class=\"data row3 col28\" >-0.18</td>\n",
       "      <td id=\"T_49b2e_row3_col29\" class=\"data row3 col29\" >-0.22</td>\n",
       "      <td id=\"T_49b2e_row3_col30\" class=\"data row3 col30\" >-0.16</td>\n",
       "      <td id=\"T_49b2e_row3_col31\" class=\"data row3 col31\" >-0.14</td>\n",
       "      <td id=\"T_49b2e_row3_col32\" class=\"data row3 col32\" >-0.17</td>\n",
       "      <td id=\"T_49b2e_row3_col33\" class=\"data row3 col33\" >-0.15</td>\n",
       "      <td id=\"T_49b2e_row3_col34\" class=\"data row3 col34\" >-0.19</td>\n",
       "      <td id=\"T_49b2e_row3_col35\" class=\"data row3 col35\" >-0.24</td>\n",
       "      <td id=\"T_49b2e_row3_col36\" class=\"data row3 col36\" >-0.32</td>\n",
       "      <td id=\"T_49b2e_row3_col37\" class=\"data row3 col37\" >-0.06</td>\n",
       "      <td id=\"T_49b2e_row3_col38\" class=\"data row3 col38\" >-0.18</td>\n",
       "      <td id=\"T_49b2e_row3_col39\" class=\"data row3 col39\" >-0.18</td>\n",
       "      <td id=\"T_49b2e_row3_col40\" class=\"data row3 col40\" >-0.13</td>\n",
       "      <td id=\"T_49b2e_row3_col41\" class=\"data row3 col41\" >-0.18</td>\n",
       "      <td id=\"T_49b2e_row3_col42\" class=\"data row3 col42\" >-0.21</td>\n",
       "      <td id=\"T_49b2e_row3_col43\" class=\"data row3 col43\" >-0.12</td>\n",
       "      <td id=\"T_49b2e_row3_col44\" class=\"data row3 col44\" >-0.30</td>\n",
       "      <td id=\"T_49b2e_row3_col45\" class=\"data row3 col45\" >-0.20</td>\n",
       "      <td id=\"T_49b2e_row3_col46\" class=\"data row3 col46\" >-0.07</td>\n",
       "      <td id=\"T_49b2e_row3_col47\" class=\"data row3 col47\" >-0.11</td>\n",
       "      <td id=\"T_49b2e_row3_col48\" class=\"data row3 col48\" >-0.16</td>\n",
       "      <td id=\"T_49b2e_row3_col49\" class=\"data row3 col49\" >-0.48</td>\n",
       "      <td id=\"T_49b2e_row3_col50\" class=\"data row3 col50\" >-0.19</td>\n",
       "      <td id=\"T_49b2e_row3_col51\" class=\"data row3 col51\" >-0.31</td>\n",
       "      <td id=\"T_49b2e_row3_col52\" class=\"data row3 col52\" >-0.30</td>\n",
       "      <td id=\"T_49b2e_row3_col53\" class=\"data row3 col53\" >-0.10</td>\n",
       "      <td id=\"T_49b2e_row3_col54\" class=\"data row3 col54\" >-0.13</td>\n",
       "      <td id=\"T_49b2e_row3_col55\" class=\"data row3 col55\" >-0.25</td>\n",
       "      <td id=\"T_49b2e_row3_col56\" class=\"data row3 col56\" >-0.45</td>\n",
       "    </tr>\n",
       "    <tr>\n",
       "      <td id=\"T_49b2e_row4_col0\" class=\"data row4 col0\" >0.93</td>\n",
       "      <td id=\"T_49b2e_row4_col1\" class=\"data row4 col1\" >0.15</td>\n",
       "      <td id=\"T_49b2e_row4_col2\" class=\"data row4 col2\" >-0.56</td>\n",
       "      <td id=\"T_49b2e_row4_col3\" class=\"data row4 col3\" >-0.05</td>\n",
       "      <td id=\"T_49b2e_row4_col4\" class=\"data row4 col4\" >0.12</td>\n",
       "      <td id=\"T_49b2e_row4_col5\" class=\"data row4 col5\" >-0.36</td>\n",
       "      <td id=\"T_49b2e_row4_col6\" class=\"data row4 col6\" >-0.29</td>\n",
       "      <td id=\"T_49b2e_row4_col7\" class=\"data row4 col7\" >-0.26</td>\n",
       "      <td id=\"T_49b2e_row4_col8\" class=\"data row4 col8\" >-0.32</td>\n",
       "      <td id=\"T_49b2e_row4_col9\" class=\"data row4 col9\" >0.24</td>\n",
       "      <td id=\"T_49b2e_row4_col10\" class=\"data row4 col10\" >-0.30</td>\n",
       "      <td id=\"T_49b2e_row4_col11\" class=\"data row4 col11\" >0.74</td>\n",
       "      <td id=\"T_49b2e_row4_col12\" class=\"data row4 col12\" >-0.30</td>\n",
       "      <td id=\"T_49b2e_row4_col13\" class=\"data row4 col13\" >0.99</td>\n",
       "      <td id=\"T_49b2e_row4_col14\" class=\"data row4 col14\" >-0.19</td>\n",
       "      <td id=\"T_49b2e_row4_col15\" class=\"data row4 col15\" >-0.32</td>\n",
       "      <td id=\"T_49b2e_row4_col16\" class=\"data row4 col16\" >-0.31</td>\n",
       "      <td id=\"T_49b2e_row4_col17\" class=\"data row4 col17\" >-0.35</td>\n",
       "      <td id=\"T_49b2e_row4_col18\" class=\"data row4 col18\" >-0.28</td>\n",
       "      <td id=\"T_49b2e_row4_col19\" class=\"data row4 col19\" >-0.16</td>\n",
       "      <td id=\"T_49b2e_row4_col20\" class=\"data row4 col20\" >-0.67</td>\n",
       "      <td id=\"T_49b2e_row4_col21\" class=\"data row4 col21\" >-0.12</td>\n",
       "      <td id=\"T_49b2e_row4_col22\" class=\"data row4 col22\" >-0.29</td>\n",
       "      <td id=\"T_49b2e_row4_col23\" class=\"data row4 col23\" >-0.21</td>\n",
       "      <td id=\"T_49b2e_row4_col24\" class=\"data row4 col24\" >1.41</td>\n",
       "      <td id=\"T_49b2e_row4_col25\" class=\"data row4 col25\" >1.93</td>\n",
       "      <td id=\"T_49b2e_row4_col26\" class=\"data row4 col26\" >0.13</td>\n",
       "      <td id=\"T_49b2e_row4_col27\" class=\"data row4 col27\" >1.90</td>\n",
       "      <td id=\"T_49b2e_row4_col28\" class=\"data row4 col28\" >0.52</td>\n",
       "      <td id=\"T_49b2e_row4_col29\" class=\"data row4 col29\" >0.61</td>\n",
       "      <td id=\"T_49b2e_row4_col30\" class=\"data row4 col30\" >0.76</td>\n",
       "      <td id=\"T_49b2e_row4_col31\" class=\"data row4 col31\" >0.98</td>\n",
       "      <td id=\"T_49b2e_row4_col32\" class=\"data row4 col32\" >-0.17</td>\n",
       "      <td id=\"T_49b2e_row4_col33\" class=\"data row4 col33\" >0.97</td>\n",
       "      <td id=\"T_49b2e_row4_col34\" class=\"data row4 col34\" >1.88</td>\n",
       "      <td id=\"T_49b2e_row4_col35\" class=\"data row4 col35\" >0.76</td>\n",
       "      <td id=\"T_49b2e_row4_col36\" class=\"data row4 col36\" >0.58</td>\n",
       "      <td id=\"T_49b2e_row4_col37\" class=\"data row4 col37\" >-0.06</td>\n",
       "      <td id=\"T_49b2e_row4_col38\" class=\"data row4 col38\" >-0.18</td>\n",
       "      <td id=\"T_49b2e_row4_col39\" class=\"data row4 col39\" >0.88</td>\n",
       "      <td id=\"T_49b2e_row4_col40\" class=\"data row4 col40\" >-0.13</td>\n",
       "      <td id=\"T_49b2e_row4_col41\" class=\"data row4 col41\" >0.32</td>\n",
       "      <td id=\"T_49b2e_row4_col42\" class=\"data row4 col42\" >1.51</td>\n",
       "      <td id=\"T_49b2e_row4_col43\" class=\"data row4 col43\" >-0.12</td>\n",
       "      <td id=\"T_49b2e_row4_col44\" class=\"data row4 col44\" >0.10</td>\n",
       "      <td id=\"T_49b2e_row4_col45\" class=\"data row4 col45\" >-0.20</td>\n",
       "      <td id=\"T_49b2e_row4_col46\" class=\"data row4 col46\" >-0.07</td>\n",
       "      <td id=\"T_49b2e_row4_col47\" class=\"data row4 col47\" >-0.11</td>\n",
       "      <td id=\"T_49b2e_row4_col48\" class=\"data row4 col48\" >0.35</td>\n",
       "      <td id=\"T_49b2e_row4_col49\" class=\"data row4 col49\" >0.83</td>\n",
       "      <td id=\"T_49b2e_row4_col50\" class=\"data row4 col50\" >5.17</td>\n",
       "      <td id=\"T_49b2e_row4_col51\" class=\"data row4 col51\" >-0.31</td>\n",
       "      <td id=\"T_49b2e_row4_col52\" class=\"data row4 col52\" >-0.30</td>\n",
       "      <td id=\"T_49b2e_row4_col53\" class=\"data row4 col53\" >-0.10</td>\n",
       "      <td id=\"T_49b2e_row4_col54\" class=\"data row4 col54\" >-0.09</td>\n",
       "      <td id=\"T_49b2e_row4_col55\" class=\"data row4 col55\" >-0.19</td>\n",
       "      <td id=\"T_49b2e_row4_col56\" class=\"data row4 col56\" >-0.23</td>\n",
       "    </tr>\n",
       "    <tr>\n",
       "      <td id=\"T_49b2e_row5_col0\" class=\"data row5 col0\" >-0.35</td>\n",
       "      <td id=\"T_49b2e_row5_col1\" class=\"data row5 col1\" >-0.16</td>\n",
       "      <td id=\"T_49b2e_row5_col2\" class=\"data row5 col2\" >-0.56</td>\n",
       "      <td id=\"T_49b2e_row5_col3\" class=\"data row5 col3\" >-0.05</td>\n",
       "      <td id=\"T_49b2e_row5_col4\" class=\"data row5 col4\" >-0.46</td>\n",
       "      <td id=\"T_49b2e_row5_col5\" class=\"data row5 col5\" >-0.36</td>\n",
       "      <td id=\"T_49b2e_row5_col6\" class=\"data row5 col6\" >-0.29</td>\n",
       "      <td id=\"T_49b2e_row5_col7\" class=\"data row5 col7\" >-0.26</td>\n",
       "      <td id=\"T_49b2e_row5_col8\" class=\"data row5 col8\" >2.35</td>\n",
       "      <td id=\"T_49b2e_row5_col9\" class=\"data row5 col9\" >-0.37</td>\n",
       "      <td id=\"T_49b2e_row5_col10\" class=\"data row5 col10\" >-0.30</td>\n",
       "      <td id=\"T_49b2e_row5_col11\" class=\"data row5 col11\" >-0.63</td>\n",
       "      <td id=\"T_49b2e_row5_col12\" class=\"data row5 col12\" >-0.30</td>\n",
       "      <td id=\"T_49b2e_row5_col13\" class=\"data row5 col13\" >-0.17</td>\n",
       "      <td id=\"T_49b2e_row5_col14\" class=\"data row5 col14\" >-0.19</td>\n",
       "      <td id=\"T_49b2e_row5_col15\" class=\"data row5 col15\" >-0.32</td>\n",
       "      <td id=\"T_49b2e_row5_col16\" class=\"data row5 col16\" >-0.31</td>\n",
       "      <td id=\"T_49b2e_row5_col17\" class=\"data row5 col17\" >-0.35</td>\n",
       "      <td id=\"T_49b2e_row5_col18\" class=\"data row5 col18\" >0.30</td>\n",
       "      <td id=\"T_49b2e_row5_col19\" class=\"data row5 col19\" >-0.16</td>\n",
       "      <td id=\"T_49b2e_row5_col20\" class=\"data row5 col20\" >-0.67</td>\n",
       "      <td id=\"T_49b2e_row5_col21\" class=\"data row5 col21\" >-0.12</td>\n",
       "      <td id=\"T_49b2e_row5_col22\" class=\"data row5 col22\" >-0.29</td>\n",
       "      <td id=\"T_49b2e_row5_col23\" class=\"data row5 col23\" >-0.21</td>\n",
       "      <td id=\"T_49b2e_row5_col24\" class=\"data row5 col24\" >-0.34</td>\n",
       "      <td id=\"T_49b2e_row5_col25\" class=\"data row5 col25\" >-0.30</td>\n",
       "      <td id=\"T_49b2e_row5_col26\" class=\"data row5 col26\" >-0.23</td>\n",
       "      <td id=\"T_49b2e_row5_col27\" class=\"data row5 col27\" >-0.23</td>\n",
       "      <td id=\"T_49b2e_row5_col28\" class=\"data row5 col28\" >-0.18</td>\n",
       "      <td id=\"T_49b2e_row5_col29\" class=\"data row5 col29\" >-0.22</td>\n",
       "      <td id=\"T_49b2e_row5_col30\" class=\"data row5 col30\" >-0.16</td>\n",
       "      <td id=\"T_49b2e_row5_col31\" class=\"data row5 col31\" >-0.14</td>\n",
       "      <td id=\"T_49b2e_row5_col32\" class=\"data row5 col32\" >-0.17</td>\n",
       "      <td id=\"T_49b2e_row5_col33\" class=\"data row5 col33\" >-0.15</td>\n",
       "      <td id=\"T_49b2e_row5_col34\" class=\"data row5 col34\" >-0.19</td>\n",
       "      <td id=\"T_49b2e_row5_col35\" class=\"data row5 col35\" >-0.24</td>\n",
       "      <td id=\"T_49b2e_row5_col36\" class=\"data row5 col36\" >-0.32</td>\n",
       "      <td id=\"T_49b2e_row5_col37\" class=\"data row5 col37\" >-0.06</td>\n",
       "      <td id=\"T_49b2e_row5_col38\" class=\"data row5 col38\" >1.58</td>\n",
       "      <td id=\"T_49b2e_row5_col39\" class=\"data row5 col39\" >-0.18</td>\n",
       "      <td id=\"T_49b2e_row5_col40\" class=\"data row5 col40\" >-0.13</td>\n",
       "      <td id=\"T_49b2e_row5_col41\" class=\"data row5 col41\" >-0.18</td>\n",
       "      <td id=\"T_49b2e_row5_col42\" class=\"data row5 col42\" >-0.21</td>\n",
       "      <td id=\"T_49b2e_row5_col43\" class=\"data row5 col43\" >-0.12</td>\n",
       "      <td id=\"T_49b2e_row5_col44\" class=\"data row5 col44\" >0.46</td>\n",
       "      <td id=\"T_49b2e_row5_col45\" class=\"data row5 col45\" >-0.20</td>\n",
       "      <td id=\"T_49b2e_row5_col46\" class=\"data row5 col46\" >-0.07</td>\n",
       "      <td id=\"T_49b2e_row5_col47\" class=\"data row5 col47\" >-0.11</td>\n",
       "      <td id=\"T_49b2e_row5_col48\" class=\"data row5 col48\" >-0.16</td>\n",
       "      <td id=\"T_49b2e_row5_col49\" class=\"data row5 col49\" >0.48</td>\n",
       "      <td id=\"T_49b2e_row5_col50\" class=\"data row5 col50\" >-0.19</td>\n",
       "      <td id=\"T_49b2e_row5_col51\" class=\"data row5 col51\" >0.32</td>\n",
       "      <td id=\"T_49b2e_row5_col52\" class=\"data row5 col52\" >-0.30</td>\n",
       "      <td id=\"T_49b2e_row5_col53\" class=\"data row5 col53\" >-0.10</td>\n",
       "      <td id=\"T_49b2e_row5_col54\" class=\"data row5 col54\" >-0.08</td>\n",
       "      <td id=\"T_49b2e_row5_col55\" class=\"data row5 col55\" >-0.18</td>\n",
       "      <td id=\"T_49b2e_row5_col56\" class=\"data row5 col56\" >-0.34</td>\n",
       "    </tr>\n",
       "    <tr>\n",
       "      <td id=\"T_49b2e_row6_col0\" class=\"data row6 col0\" >1.42</td>\n",
       "      <td id=\"T_49b2e_row6_col1\" class=\"data row6 col1\" >-0.16</td>\n",
       "      <td id=\"T_49b2e_row6_col2\" class=\"data row6 col2\" >-0.56</td>\n",
       "      <td id=\"T_49b2e_row6_col3\" class=\"data row6 col3\" >-0.05</td>\n",
       "      <td id=\"T_49b2e_row6_col4\" class=\"data row6 col4\" >-0.46</td>\n",
       "      <td id=\"T_49b2e_row6_col5\" class=\"data row6 col5\" >0.65</td>\n",
       "      <td id=\"T_49b2e_row6_col6\" class=\"data row6 col6\" >-0.29</td>\n",
       "      <td id=\"T_49b2e_row6_col7\" class=\"data row6 col7\" >-0.26</td>\n",
       "      <td id=\"T_49b2e_row6_col8\" class=\"data row6 col8\" >-0.32</td>\n",
       "      <td id=\"T_49b2e_row6_col9\" class=\"data row6 col9\" >-0.37</td>\n",
       "      <td id=\"T_49b2e_row6_col10\" class=\"data row6 col10\" >-0.30</td>\n",
       "      <td id=\"T_49b2e_row6_col11\" class=\"data row6 col11\" >-0.63</td>\n",
       "      <td id=\"T_49b2e_row6_col12\" class=\"data row6 col12\" >1.45</td>\n",
       "      <td id=\"T_49b2e_row6_col13\" class=\"data row6 col13\" >-0.17</td>\n",
       "      <td id=\"T_49b2e_row6_col14\" class=\"data row6 col14\" >-0.19</td>\n",
       "      <td id=\"T_49b2e_row6_col15\" class=\"data row6 col15\" >-0.32</td>\n",
       "      <td id=\"T_49b2e_row6_col16\" class=\"data row6 col16\" >-0.31</td>\n",
       "      <td id=\"T_49b2e_row6_col17\" class=\"data row6 col17\" >-0.35</td>\n",
       "      <td id=\"T_49b2e_row6_col18\" class=\"data row6 col18\" >1.18</td>\n",
       "      <td id=\"T_49b2e_row6_col19\" class=\"data row6 col19\" >-0.16</td>\n",
       "      <td id=\"T_49b2e_row6_col20\" class=\"data row6 col20\" >-0.23</td>\n",
       "      <td id=\"T_49b2e_row6_col21\" class=\"data row6 col21\" >-0.12</td>\n",
       "      <td id=\"T_49b2e_row6_col22\" class=\"data row6 col22\" >-0.29</td>\n",
       "      <td id=\"T_49b2e_row6_col23\" class=\"data row6 col23\" >-0.21</td>\n",
       "      <td id=\"T_49b2e_row6_col24\" class=\"data row6 col24\" >-0.17</td>\n",
       "      <td id=\"T_49b2e_row6_col25\" class=\"data row6 col25\" >-0.30</td>\n",
       "      <td id=\"T_49b2e_row6_col26\" class=\"data row6 col26\" >-0.23</td>\n",
       "      <td id=\"T_49b2e_row6_col27\" class=\"data row6 col27\" >-0.23</td>\n",
       "      <td id=\"T_49b2e_row6_col28\" class=\"data row6 col28\" >-0.18</td>\n",
       "      <td id=\"T_49b2e_row6_col29\" class=\"data row6 col29\" >-0.22</td>\n",
       "      <td id=\"T_49b2e_row6_col30\" class=\"data row6 col30\" >1.11</td>\n",
       "      <td id=\"T_49b2e_row6_col31\" class=\"data row6 col31\" >-0.14</td>\n",
       "      <td id=\"T_49b2e_row6_col32\" class=\"data row6 col32\" >-0.17</td>\n",
       "      <td id=\"T_49b2e_row6_col33\" class=\"data row6 col33\" >-0.15</td>\n",
       "      <td id=\"T_49b2e_row6_col34\" class=\"data row6 col34\" >0.28</td>\n",
       "      <td id=\"T_49b2e_row6_col35\" class=\"data row6 col35\" >-0.24</td>\n",
       "      <td id=\"T_49b2e_row6_col36\" class=\"data row6 col36\" >-0.32</td>\n",
       "      <td id=\"T_49b2e_row6_col37\" class=\"data row6 col37\" >-0.06</td>\n",
       "      <td id=\"T_49b2e_row6_col38\" class=\"data row6 col38\" >-0.18</td>\n",
       "      <td id=\"T_49b2e_row6_col39\" class=\"data row6 col39\" >-0.18</td>\n",
       "      <td id=\"T_49b2e_row6_col40\" class=\"data row6 col40\" >-0.13</td>\n",
       "      <td id=\"T_49b2e_row6_col41\" class=\"data row6 col41\" >-0.18</td>\n",
       "      <td id=\"T_49b2e_row6_col42\" class=\"data row6 col42\" >-0.21</td>\n",
       "      <td id=\"T_49b2e_row6_col43\" class=\"data row6 col43\" >-0.12</td>\n",
       "      <td id=\"T_49b2e_row6_col44\" class=\"data row6 col44\" >-0.30</td>\n",
       "      <td id=\"T_49b2e_row6_col45\" class=\"data row6 col45\" >-0.20</td>\n",
       "      <td id=\"T_49b2e_row6_col46\" class=\"data row6 col46\" >-0.07</td>\n",
       "      <td id=\"T_49b2e_row6_col47\" class=\"data row6 col47\" >-0.11</td>\n",
       "      <td id=\"T_49b2e_row6_col48\" class=\"data row6 col48\" >-0.16</td>\n",
       "      <td id=\"T_49b2e_row6_col49\" class=\"data row6 col49\" >1.02</td>\n",
       "      <td id=\"T_49b2e_row6_col50\" class=\"data row6 col50\" >-0.19</td>\n",
       "      <td id=\"T_49b2e_row6_col51\" class=\"data row6 col51\" >-0.31</td>\n",
       "      <td id=\"T_49b2e_row6_col52\" class=\"data row6 col52\" >0.01</td>\n",
       "      <td id=\"T_49b2e_row6_col53\" class=\"data row6 col53\" >-0.10</td>\n",
       "      <td id=\"T_49b2e_row6_col54\" class=\"data row6 col54\" >-0.10</td>\n",
       "      <td id=\"T_49b2e_row6_col55\" class=\"data row6 col55\" >-0.17</td>\n",
       "      <td id=\"T_49b2e_row6_col56\" class=\"data row6 col56\" >-0.29</td>\n",
       "    </tr>\n",
       "    <tr>\n",
       "      <td id=\"T_49b2e_row7_col0\" class=\"data row7 col0\" >-0.35</td>\n",
       "      <td id=\"T_49b2e_row7_col1\" class=\"data row7 col1\" >-0.02</td>\n",
       "      <td id=\"T_49b2e_row7_col2\" class=\"data row7 col2\" >-0.56</td>\n",
       "      <td id=\"T_49b2e_row7_col3\" class=\"data row7 col3\" >-0.05</td>\n",
       "      <td id=\"T_49b2e_row7_col4\" class=\"data row7 col4\" >-0.20</td>\n",
       "      <td id=\"T_49b2e_row7_col5\" class=\"data row7 col5\" >-0.36</td>\n",
       "      <td id=\"T_49b2e_row7_col6\" class=\"data row7 col6\" >-0.29</td>\n",
       "      <td id=\"T_49b2e_row7_col7\" class=\"data row7 col7\" >0.66</td>\n",
       "      <td id=\"T_49b2e_row7_col8\" class=\"data row7 col8\" >-0.32</td>\n",
       "      <td id=\"T_49b2e_row7_col9\" class=\"data row7 col9\" >-0.37</td>\n",
       "      <td id=\"T_49b2e_row7_col10\" class=\"data row7 col10\" >-0.30</td>\n",
       "      <td id=\"T_49b2e_row7_col11\" class=\"data row7 col11\" >0.45</td>\n",
       "      <td id=\"T_49b2e_row7_col12\" class=\"data row7 col12\" >-0.30</td>\n",
       "      <td id=\"T_49b2e_row7_col13\" class=\"data row7 col13\" >-0.17</td>\n",
       "      <td id=\"T_49b2e_row7_col14\" class=\"data row7 col14\" >-0.19</td>\n",
       "      <td id=\"T_49b2e_row7_col15\" class=\"data row7 col15\" >-0.32</td>\n",
       "      <td id=\"T_49b2e_row7_col16\" class=\"data row7 col16\" >3.74</td>\n",
       "      <td id=\"T_49b2e_row7_col17\" class=\"data row7 col17\" >-0.35</td>\n",
       "      <td id=\"T_49b2e_row7_col18\" class=\"data row7 col18\" >-0.84</td>\n",
       "      <td id=\"T_49b2e_row7_col19\" class=\"data row7 col19\" >-0.16</td>\n",
       "      <td id=\"T_49b2e_row7_col20\" class=\"data row7 col20\" >-0.67</td>\n",
       "      <td id=\"T_49b2e_row7_col21\" class=\"data row7 col21\" >-0.12</td>\n",
       "      <td id=\"T_49b2e_row7_col22\" class=\"data row7 col22\" >-0.29</td>\n",
       "      <td id=\"T_49b2e_row7_col23\" class=\"data row7 col23\" >-0.21</td>\n",
       "      <td id=\"T_49b2e_row7_col24\" class=\"data row7 col24\" >-0.10</td>\n",
       "      <td id=\"T_49b2e_row7_col25\" class=\"data row7 col25\" >-0.10</td>\n",
       "      <td id=\"T_49b2e_row7_col26\" class=\"data row7 col26\" >-0.23</td>\n",
       "      <td id=\"T_49b2e_row7_col27\" class=\"data row7 col27\" >-0.23</td>\n",
       "      <td id=\"T_49b2e_row7_col28\" class=\"data row7 col28\" >-0.18</td>\n",
       "      <td id=\"T_49b2e_row7_col29\" class=\"data row7 col29\" >0.16</td>\n",
       "      <td id=\"T_49b2e_row7_col30\" class=\"data row7 col30\" >-0.16</td>\n",
       "      <td id=\"T_49b2e_row7_col31\" class=\"data row7 col31\" >-0.14</td>\n",
       "      <td id=\"T_49b2e_row7_col32\" class=\"data row7 col32\" >-0.17</td>\n",
       "      <td id=\"T_49b2e_row7_col33\" class=\"data row7 col33\" >-0.15</td>\n",
       "      <td id=\"T_49b2e_row7_col34\" class=\"data row7 col34\" >-0.19</td>\n",
       "      <td id=\"T_49b2e_row7_col35\" class=\"data row7 col35\" >0.71</td>\n",
       "      <td id=\"T_49b2e_row7_col36\" class=\"data row7 col36\" >-0.32</td>\n",
       "      <td id=\"T_49b2e_row7_col37\" class=\"data row7 col37\" >-0.06</td>\n",
       "      <td id=\"T_49b2e_row7_col38\" class=\"data row7 col38\" >-0.18</td>\n",
       "      <td id=\"T_49b2e_row7_col39\" class=\"data row7 col39\" >-0.18</td>\n",
       "      <td id=\"T_49b2e_row7_col40\" class=\"data row7 col40\" >-0.13</td>\n",
       "      <td id=\"T_49b2e_row7_col41\" class=\"data row7 col41\" >-0.18</td>\n",
       "      <td id=\"T_49b2e_row7_col42\" class=\"data row7 col42\" >-0.21</td>\n",
       "      <td id=\"T_49b2e_row7_col43\" class=\"data row7 col43\" >-0.12</td>\n",
       "      <td id=\"T_49b2e_row7_col44\" class=\"data row7 col44\" >0.28</td>\n",
       "      <td id=\"T_49b2e_row7_col45\" class=\"data row7 col45\" >-0.20</td>\n",
       "      <td id=\"T_49b2e_row7_col46\" class=\"data row7 col46\" >-0.07</td>\n",
       "      <td id=\"T_49b2e_row7_col47\" class=\"data row7 col47\" >-0.11</td>\n",
       "      <td id=\"T_49b2e_row7_col48\" class=\"data row7 col48\" >-0.16</td>\n",
       "      <td id=\"T_49b2e_row7_col49\" class=\"data row7 col49\" >0.36</td>\n",
       "      <td id=\"T_49b2e_row7_col50\" class=\"data row7 col50\" >-0.19</td>\n",
       "      <td id=\"T_49b2e_row7_col51\" class=\"data row7 col51\" >-0.31</td>\n",
       "      <td id=\"T_49b2e_row7_col52\" class=\"data row7 col52\" >-0.30</td>\n",
       "      <td id=\"T_49b2e_row7_col53\" class=\"data row7 col53\" >-0.10</td>\n",
       "      <td id=\"T_49b2e_row7_col54\" class=\"data row7 col54\" >-0.11</td>\n",
       "      <td id=\"T_49b2e_row7_col55\" class=\"data row7 col55\" >-0.21</td>\n",
       "      <td id=\"T_49b2e_row7_col56\" class=\"data row7 col56\" >-0.19</td>\n",
       "    </tr>\n",
       "    <tr>\n",
       "      <td id=\"T_49b2e_row8_col0\" class=\"data row8 col0\" >-0.35</td>\n",
       "      <td id=\"T_49b2e_row8_col1\" class=\"data row8 col1\" >-0.16</td>\n",
       "      <td id=\"T_49b2e_row8_col2\" class=\"data row8 col2\" >-0.56</td>\n",
       "      <td id=\"T_49b2e_row8_col3\" class=\"data row8 col3\" >-0.05</td>\n",
       "      <td id=\"T_49b2e_row8_col4\" class=\"data row8 col4\" >0.88</td>\n",
       "      <td id=\"T_49b2e_row8_col5\" class=\"data row8 col5\" >-0.36</td>\n",
       "      <td id=\"T_49b2e_row8_col6\" class=\"data row8 col6\" >1.88</td>\n",
       "      <td id=\"T_49b2e_row8_col7\" class=\"data row8 col7\" >-0.26</td>\n",
       "      <td id=\"T_49b2e_row8_col8\" class=\"data row8 col8\" >-0.32</td>\n",
       "      <td id=\"T_49b2e_row8_col9\" class=\"data row8 col9\" >1.04</td>\n",
       "      <td id=\"T_49b2e_row8_col10\" class=\"data row8 col10\" >4.10</td>\n",
       "      <td id=\"T_49b2e_row8_col11\" class=\"data row8 col11\" >-0.63</td>\n",
       "      <td id=\"T_49b2e_row8_col12\" class=\"data row8 col12\" >2.62</td>\n",
       "      <td id=\"T_49b2e_row8_col13\" class=\"data row8 col13\" >-0.17</td>\n",
       "      <td id=\"T_49b2e_row8_col14\" class=\"data row8 col14\" >-0.19</td>\n",
       "      <td id=\"T_49b2e_row8_col15\" class=\"data row8 col15\" >-0.32</td>\n",
       "      <td id=\"T_49b2e_row8_col16\" class=\"data row8 col16\" >-0.31</td>\n",
       "      <td id=\"T_49b2e_row8_col17\" class=\"data row8 col17\" >-0.35</td>\n",
       "      <td id=\"T_49b2e_row8_col18\" class=\"data row8 col18\" >0.58</td>\n",
       "      <td id=\"T_49b2e_row8_col19\" class=\"data row8 col19\" >-0.16</td>\n",
       "      <td id=\"T_49b2e_row8_col20\" class=\"data row8 col20\" >0.06</td>\n",
       "      <td id=\"T_49b2e_row8_col21\" class=\"data row8 col21\" >-0.12</td>\n",
       "      <td id=\"T_49b2e_row8_col22\" class=\"data row8 col22\" >-0.29</td>\n",
       "      <td id=\"T_49b2e_row8_col23\" class=\"data row8 col23\" >-0.21</td>\n",
       "      <td id=\"T_49b2e_row8_col24\" class=\"data row8 col24\" >-0.34</td>\n",
       "      <td id=\"T_49b2e_row8_col25\" class=\"data row8 col25\" >-0.30</td>\n",
       "      <td id=\"T_49b2e_row8_col26\" class=\"data row8 col26\" >-0.23</td>\n",
       "      <td id=\"T_49b2e_row8_col27\" class=\"data row8 col27\" >-0.23</td>\n",
       "      <td id=\"T_49b2e_row8_col28\" class=\"data row8 col28\" >-0.18</td>\n",
       "      <td id=\"T_49b2e_row8_col29\" class=\"data row8 col29\" >-0.22</td>\n",
       "      <td id=\"T_49b2e_row8_col30\" class=\"data row8 col30\" >-0.16</td>\n",
       "      <td id=\"T_49b2e_row8_col31\" class=\"data row8 col31\" >-0.14</td>\n",
       "      <td id=\"T_49b2e_row8_col32\" class=\"data row8 col32\" >-0.17</td>\n",
       "      <td id=\"T_49b2e_row8_col33\" class=\"data row8 col33\" >-0.15</td>\n",
       "      <td id=\"T_49b2e_row8_col34\" class=\"data row8 col34\" >-0.19</td>\n",
       "      <td id=\"T_49b2e_row8_col35\" class=\"data row8 col35\" >-0.24</td>\n",
       "      <td id=\"T_49b2e_row8_col36\" class=\"data row8 col36\" >-0.32</td>\n",
       "      <td id=\"T_49b2e_row8_col37\" class=\"data row8 col37\" >-0.06</td>\n",
       "      <td id=\"T_49b2e_row8_col38\" class=\"data row8 col38\" >-0.18</td>\n",
       "      <td id=\"T_49b2e_row8_col39\" class=\"data row8 col39\" >-0.18</td>\n",
       "      <td id=\"T_49b2e_row8_col40\" class=\"data row8 col40\" >-0.13</td>\n",
       "      <td id=\"T_49b2e_row8_col41\" class=\"data row8 col41\" >-0.18</td>\n",
       "      <td id=\"T_49b2e_row8_col42\" class=\"data row8 col42\" >-0.21</td>\n",
       "      <td id=\"T_49b2e_row8_col43\" class=\"data row8 col43\" >-0.12</td>\n",
       "      <td id=\"T_49b2e_row8_col44\" class=\"data row8 col44\" >-0.30</td>\n",
       "      <td id=\"T_49b2e_row8_col45\" class=\"data row8 col45\" >-0.20</td>\n",
       "      <td id=\"T_49b2e_row8_col46\" class=\"data row8 col46\" >-0.07</td>\n",
       "      <td id=\"T_49b2e_row8_col47\" class=\"data row8 col47\" >-0.11</td>\n",
       "      <td id=\"T_49b2e_row8_col48\" class=\"data row8 col48\" >-0.16</td>\n",
       "      <td id=\"T_49b2e_row8_col49\" class=\"data row8 col49\" >-0.48</td>\n",
       "      <td id=\"T_49b2e_row8_col50\" class=\"data row8 col50\" >-0.19</td>\n",
       "      <td id=\"T_49b2e_row8_col51\" class=\"data row8 col51\" >-0.31</td>\n",
       "      <td id=\"T_49b2e_row8_col52\" class=\"data row8 col52\" >-0.30</td>\n",
       "      <td id=\"T_49b2e_row8_col53\" class=\"data row8 col53\" >-0.10</td>\n",
       "      <td id=\"T_49b2e_row8_col54\" class=\"data row8 col54\" >-0.10</td>\n",
       "      <td id=\"T_49b2e_row8_col55\" class=\"data row8 col55\" >-0.22</td>\n",
       "      <td id=\"T_49b2e_row8_col56\" class=\"data row8 col56\" >-0.42</td>\n",
       "    </tr>\n",
       "    <tr>\n",
       "      <td id=\"T_49b2e_row9_col0\" class=\"data row9 col0\" >-0.35</td>\n",
       "      <td id=\"T_49b2e_row9_col1\" class=\"data row9 col1\" >-0.16</td>\n",
       "      <td id=\"T_49b2e_row9_col2\" class=\"data row9 col2\" >3.33</td>\n",
       "      <td id=\"T_49b2e_row9_col3\" class=\"data row9 col3\" >-0.05</td>\n",
       "      <td id=\"T_49b2e_row9_col4\" class=\"data row9 col4\" >1.01</td>\n",
       "      <td id=\"T_49b2e_row9_col5\" class=\"data row9 col5\" >-0.36</td>\n",
       "      <td id=\"T_49b2e_row9_col6\" class=\"data row9 col6\" >-0.29</td>\n",
       "      <td id=\"T_49b2e_row9_col7\" class=\"data row9 col7\" >-0.26</td>\n",
       "      <td id=\"T_49b2e_row9_col8\" class=\"data row9 col8\" >-0.32</td>\n",
       "      <td id=\"T_49b2e_row9_col9\" class=\"data row9 col9\" >-0.37</td>\n",
       "      <td id=\"T_49b2e_row9_col10\" class=\"data row9 col10\" >-0.30</td>\n",
       "      <td id=\"T_49b2e_row9_col11\" class=\"data row9 col11\" >1.65</td>\n",
       "      <td id=\"T_49b2e_row9_col12\" class=\"data row9 col12\" >-0.30</td>\n",
       "      <td id=\"T_49b2e_row9_col13\" class=\"data row9 col13\" >-0.17</td>\n",
       "      <td id=\"T_49b2e_row9_col14\" class=\"data row9 col14\" >-0.19</td>\n",
       "      <td id=\"T_49b2e_row9_col15\" class=\"data row9 col15\" >-0.32</td>\n",
       "      <td id=\"T_49b2e_row9_col16\" class=\"data row9 col16\" >-0.31</td>\n",
       "      <td id=\"T_49b2e_row9_col17\" class=\"data row9 col17\" >-0.35</td>\n",
       "      <td id=\"T_49b2e_row9_col18\" class=\"data row9 col18\" >1.83</td>\n",
       "      <td id=\"T_49b2e_row9_col19\" class=\"data row9 col19\" >-0.16</td>\n",
       "      <td id=\"T_49b2e_row9_col20\" class=\"data row9 col20\" >0.13</td>\n",
       "      <td id=\"T_49b2e_row9_col21\" class=\"data row9 col21\" >-0.12</td>\n",
       "      <td id=\"T_49b2e_row9_col22\" class=\"data row9 col22\" >-0.29</td>\n",
       "      <td id=\"T_49b2e_row9_col23\" class=\"data row9 col23\" >-0.21</td>\n",
       "      <td id=\"T_49b2e_row9_col24\" class=\"data row9 col24\" >-0.34</td>\n",
       "      <td id=\"T_49b2e_row9_col25\" class=\"data row9 col25\" >-0.30</td>\n",
       "      <td id=\"T_49b2e_row9_col26\" class=\"data row9 col26\" >-0.23</td>\n",
       "      <td id=\"T_49b2e_row9_col27\" class=\"data row9 col27\" >-0.23</td>\n",
       "      <td id=\"T_49b2e_row9_col28\" class=\"data row9 col28\" >-0.18</td>\n",
       "      <td id=\"T_49b2e_row9_col29\" class=\"data row9 col29\" >-0.22</td>\n",
       "      <td id=\"T_49b2e_row9_col30\" class=\"data row9 col30\" >-0.16</td>\n",
       "      <td id=\"T_49b2e_row9_col31\" class=\"data row9 col31\" >-0.14</td>\n",
       "      <td id=\"T_49b2e_row9_col32\" class=\"data row9 col32\" >-0.17</td>\n",
       "      <td id=\"T_49b2e_row9_col33\" class=\"data row9 col33\" >-0.15</td>\n",
       "      <td id=\"T_49b2e_row9_col34\" class=\"data row9 col34\" >-0.19</td>\n",
       "      <td id=\"T_49b2e_row9_col35\" class=\"data row9 col35\" >-0.24</td>\n",
       "      <td id=\"T_49b2e_row9_col36\" class=\"data row9 col36\" >-0.32</td>\n",
       "      <td id=\"T_49b2e_row9_col37\" class=\"data row9 col37\" >-0.06</td>\n",
       "      <td id=\"T_49b2e_row9_col38\" class=\"data row9 col38\" >2.18</td>\n",
       "      <td id=\"T_49b2e_row9_col39\" class=\"data row9 col39\" >-0.18</td>\n",
       "      <td id=\"T_49b2e_row9_col40\" class=\"data row9 col40\" >-0.13</td>\n",
       "      <td id=\"T_49b2e_row9_col41\" class=\"data row9 col41\" >2.37</td>\n",
       "      <td id=\"T_49b2e_row9_col42\" class=\"data row9 col42\" >-0.21</td>\n",
       "      <td id=\"T_49b2e_row9_col43\" class=\"data row9 col43\" >-0.12</td>\n",
       "      <td id=\"T_49b2e_row9_col44\" class=\"data row9 col44\" >-0.30</td>\n",
       "      <td id=\"T_49b2e_row9_col45\" class=\"data row9 col45\" >-0.20</td>\n",
       "      <td id=\"T_49b2e_row9_col46\" class=\"data row9 col46\" >-0.07</td>\n",
       "      <td id=\"T_49b2e_row9_col47\" class=\"data row9 col47\" >-0.11</td>\n",
       "      <td id=\"T_49b2e_row9_col48\" class=\"data row9 col48\" >-0.16</td>\n",
       "      <td id=\"T_49b2e_row9_col49\" class=\"data row9 col49\" >-0.48</td>\n",
       "      <td id=\"T_49b2e_row9_col50\" class=\"data row9 col50\" >-0.19</td>\n",
       "      <td id=\"T_49b2e_row9_col51\" class=\"data row9 col51\" >-0.31</td>\n",
       "      <td id=\"T_49b2e_row9_col52\" class=\"data row9 col52\" >-0.30</td>\n",
       "      <td id=\"T_49b2e_row9_col53\" class=\"data row9 col53\" >-0.10</td>\n",
       "      <td id=\"T_49b2e_row9_col54\" class=\"data row9 col54\" >-0.12</td>\n",
       "      <td id=\"T_49b2e_row9_col55\" class=\"data row9 col55\" >-0.23</td>\n",
       "      <td id=\"T_49b2e_row9_col56\" class=\"data row9 col56\" >-0.42</td>\n",
       "    </tr>\n",
       "  </tbody>\n",
       "</table>\n"
      ],
      "text/plain": [
       "<pandas.io.formats.style.Styler at 0x14b46fed0>"
      ]
     },
     "execution_count": 36,
     "metadata": {},
     "output_type": "execute_result"
    }
   ],
   "source": [
    "pandas_processx.return_formatted_table \\\n",
    "    (x_train_scaled_smote_dataframe, \n",
    "     'Table 2.7.4: Scaled Features Training SMOTE Data')"
   ]
  },
  {
   "cell_type": "code",
   "execution_count": 37,
   "metadata": {},
   "outputs": [
    {
     "data": {
      "text/html": [
       "<style type=\"text/css\">\n",
       "#T_58518 caption {\n",
       "  color: black;\n",
       "  font-size: 20px;\n",
       "  font-style: bold;\n",
       "  text-align: center;\n",
       "}\n",
       "#T_58518_row0_col0, #T_58518_row0_col1, #T_58518_row0_col2, #T_58518_row0_col3, #T_58518_row0_col4, #T_58518_row0_col5, #T_58518_row0_col6, #T_58518_row0_col7, #T_58518_row0_col8, #T_58518_row0_col9, #T_58518_row0_col10, #T_58518_row0_col11, #T_58518_row0_col12, #T_58518_row0_col13, #T_58518_row0_col14, #T_58518_row0_col15, #T_58518_row0_col16, #T_58518_row0_col17, #T_58518_row0_col18, #T_58518_row0_col19, #T_58518_row0_col20, #T_58518_row0_col21, #T_58518_row0_col22, #T_58518_row0_col23, #T_58518_row0_col24, #T_58518_row0_col25, #T_58518_row0_col26, #T_58518_row0_col27, #T_58518_row0_col28, #T_58518_row0_col29, #T_58518_row0_col30, #T_58518_row0_col31, #T_58518_row0_col32, #T_58518_row0_col33, #T_58518_row0_col34, #T_58518_row0_col35, #T_58518_row0_col36, #T_58518_row0_col37, #T_58518_row0_col38, #T_58518_row0_col39, #T_58518_row0_col40, #T_58518_row0_col41, #T_58518_row0_col42, #T_58518_row0_col43, #T_58518_row0_col44, #T_58518_row0_col45, #T_58518_row0_col46, #T_58518_row0_col47, #T_58518_row0_col48, #T_58518_row0_col49, #T_58518_row0_col50, #T_58518_row0_col51, #T_58518_row0_col52, #T_58518_row0_col53, #T_58518_row0_col54, #T_58518_row0_col55, #T_58518_row0_col56, #T_58518_row1_col0, #T_58518_row1_col1, #T_58518_row1_col2, #T_58518_row1_col3, #T_58518_row1_col4, #T_58518_row1_col5, #T_58518_row1_col6, #T_58518_row1_col7, #T_58518_row1_col8, #T_58518_row1_col9, #T_58518_row1_col10, #T_58518_row1_col11, #T_58518_row1_col12, #T_58518_row1_col13, #T_58518_row1_col14, #T_58518_row1_col15, #T_58518_row1_col16, #T_58518_row1_col17, #T_58518_row1_col18, #T_58518_row1_col19, #T_58518_row1_col20, #T_58518_row1_col21, #T_58518_row1_col22, #T_58518_row1_col23, #T_58518_row1_col24, #T_58518_row1_col25, #T_58518_row1_col26, #T_58518_row1_col27, #T_58518_row1_col28, #T_58518_row1_col29, #T_58518_row1_col30, #T_58518_row1_col31, #T_58518_row1_col32, #T_58518_row1_col33, #T_58518_row1_col34, #T_58518_row1_col35, #T_58518_row1_col36, #T_58518_row1_col37, #T_58518_row1_col38, #T_58518_row1_col39, #T_58518_row1_col40, #T_58518_row1_col41, #T_58518_row1_col42, #T_58518_row1_col43, #T_58518_row1_col44, #T_58518_row1_col45, #T_58518_row1_col46, #T_58518_row1_col47, #T_58518_row1_col48, #T_58518_row1_col49, #T_58518_row1_col50, #T_58518_row1_col51, #T_58518_row1_col52, #T_58518_row1_col53, #T_58518_row1_col54, #T_58518_row1_col55, #T_58518_row1_col56, #T_58518_row2_col0, #T_58518_row2_col1, #T_58518_row2_col2, #T_58518_row2_col3, #T_58518_row2_col4, #T_58518_row2_col5, #T_58518_row2_col6, #T_58518_row2_col7, #T_58518_row2_col8, #T_58518_row2_col9, #T_58518_row2_col10, #T_58518_row2_col11, #T_58518_row2_col12, #T_58518_row2_col13, #T_58518_row2_col14, #T_58518_row2_col15, #T_58518_row2_col16, #T_58518_row2_col17, #T_58518_row2_col18, #T_58518_row2_col19, #T_58518_row2_col20, #T_58518_row2_col21, #T_58518_row2_col22, #T_58518_row2_col23, #T_58518_row2_col24, #T_58518_row2_col25, #T_58518_row2_col26, #T_58518_row2_col27, #T_58518_row2_col28, #T_58518_row2_col29, #T_58518_row2_col30, #T_58518_row2_col31, #T_58518_row2_col32, #T_58518_row2_col33, #T_58518_row2_col34, #T_58518_row2_col35, #T_58518_row2_col36, #T_58518_row2_col37, #T_58518_row2_col38, #T_58518_row2_col39, #T_58518_row2_col40, #T_58518_row2_col41, #T_58518_row2_col42, #T_58518_row2_col43, #T_58518_row2_col44, #T_58518_row2_col45, #T_58518_row2_col46, #T_58518_row2_col47, #T_58518_row2_col48, #T_58518_row2_col49, #T_58518_row2_col50, #T_58518_row2_col51, #T_58518_row2_col52, #T_58518_row2_col53, #T_58518_row2_col54, #T_58518_row2_col55, #T_58518_row2_col56, #T_58518_row3_col0, #T_58518_row3_col1, #T_58518_row3_col2, #T_58518_row3_col3, #T_58518_row3_col4, #T_58518_row3_col5, #T_58518_row3_col6, #T_58518_row3_col7, #T_58518_row3_col8, #T_58518_row3_col9, #T_58518_row3_col10, #T_58518_row3_col11, #T_58518_row3_col12, #T_58518_row3_col13, #T_58518_row3_col14, #T_58518_row3_col15, #T_58518_row3_col16, #T_58518_row3_col17, #T_58518_row3_col18, #T_58518_row3_col19, #T_58518_row3_col20, #T_58518_row3_col21, #T_58518_row3_col22, #T_58518_row3_col23, #T_58518_row3_col24, #T_58518_row3_col25, #T_58518_row3_col26, #T_58518_row3_col27, #T_58518_row3_col28, #T_58518_row3_col29, #T_58518_row3_col30, #T_58518_row3_col31, #T_58518_row3_col32, #T_58518_row3_col33, #T_58518_row3_col34, #T_58518_row3_col35, #T_58518_row3_col36, #T_58518_row3_col37, #T_58518_row3_col38, #T_58518_row3_col39, #T_58518_row3_col40, #T_58518_row3_col41, #T_58518_row3_col42, #T_58518_row3_col43, #T_58518_row3_col44, #T_58518_row3_col45, #T_58518_row3_col46, #T_58518_row3_col47, #T_58518_row3_col48, #T_58518_row3_col49, #T_58518_row3_col50, #T_58518_row3_col51, #T_58518_row3_col52, #T_58518_row3_col53, #T_58518_row3_col54, #T_58518_row3_col55, #T_58518_row3_col56, #T_58518_row4_col0, #T_58518_row4_col1, #T_58518_row4_col2, #T_58518_row4_col3, #T_58518_row4_col4, #T_58518_row4_col5, #T_58518_row4_col6, #T_58518_row4_col7, #T_58518_row4_col8, #T_58518_row4_col9, #T_58518_row4_col10, #T_58518_row4_col11, #T_58518_row4_col12, #T_58518_row4_col13, #T_58518_row4_col14, #T_58518_row4_col15, #T_58518_row4_col16, #T_58518_row4_col17, #T_58518_row4_col18, #T_58518_row4_col19, #T_58518_row4_col20, #T_58518_row4_col21, #T_58518_row4_col22, #T_58518_row4_col23, #T_58518_row4_col24, #T_58518_row4_col25, #T_58518_row4_col26, #T_58518_row4_col27, #T_58518_row4_col28, #T_58518_row4_col29, #T_58518_row4_col30, #T_58518_row4_col31, #T_58518_row4_col32, #T_58518_row4_col33, #T_58518_row4_col34, #T_58518_row4_col35, #T_58518_row4_col36, #T_58518_row4_col37, #T_58518_row4_col38, #T_58518_row4_col39, #T_58518_row4_col40, #T_58518_row4_col41, #T_58518_row4_col42, #T_58518_row4_col43, #T_58518_row4_col44, #T_58518_row4_col45, #T_58518_row4_col46, #T_58518_row4_col47, #T_58518_row4_col48, #T_58518_row4_col49, #T_58518_row4_col50, #T_58518_row4_col51, #T_58518_row4_col52, #T_58518_row4_col53, #T_58518_row4_col54, #T_58518_row4_col55, #T_58518_row4_col56, #T_58518_row5_col0, #T_58518_row5_col1, #T_58518_row5_col2, #T_58518_row5_col3, #T_58518_row5_col4, #T_58518_row5_col5, #T_58518_row5_col6, #T_58518_row5_col7, #T_58518_row5_col8, #T_58518_row5_col9, #T_58518_row5_col10, #T_58518_row5_col11, #T_58518_row5_col12, #T_58518_row5_col13, #T_58518_row5_col14, #T_58518_row5_col15, #T_58518_row5_col16, #T_58518_row5_col17, #T_58518_row5_col18, #T_58518_row5_col19, #T_58518_row5_col20, #T_58518_row5_col21, #T_58518_row5_col22, #T_58518_row5_col23, #T_58518_row5_col24, #T_58518_row5_col25, #T_58518_row5_col26, #T_58518_row5_col27, #T_58518_row5_col28, #T_58518_row5_col29, #T_58518_row5_col30, #T_58518_row5_col31, #T_58518_row5_col32, #T_58518_row5_col33, #T_58518_row5_col34, #T_58518_row5_col35, #T_58518_row5_col36, #T_58518_row5_col37, #T_58518_row5_col38, #T_58518_row5_col39, #T_58518_row5_col40, #T_58518_row5_col41, #T_58518_row5_col42, #T_58518_row5_col43, #T_58518_row5_col44, #T_58518_row5_col45, #T_58518_row5_col46, #T_58518_row5_col47, #T_58518_row5_col48, #T_58518_row5_col49, #T_58518_row5_col50, #T_58518_row5_col51, #T_58518_row5_col52, #T_58518_row5_col53, #T_58518_row5_col54, #T_58518_row5_col55, #T_58518_row5_col56, #T_58518_row6_col0, #T_58518_row6_col1, #T_58518_row6_col2, #T_58518_row6_col3, #T_58518_row6_col4, #T_58518_row6_col5, #T_58518_row6_col6, #T_58518_row6_col7, #T_58518_row6_col8, #T_58518_row6_col9, #T_58518_row6_col10, #T_58518_row6_col11, #T_58518_row6_col12, #T_58518_row6_col13, #T_58518_row6_col14, #T_58518_row6_col15, #T_58518_row6_col16, #T_58518_row6_col17, #T_58518_row6_col18, #T_58518_row6_col19, #T_58518_row6_col20, #T_58518_row6_col21, #T_58518_row6_col22, #T_58518_row6_col23, #T_58518_row6_col24, #T_58518_row6_col25, #T_58518_row6_col26, #T_58518_row6_col27, #T_58518_row6_col28, #T_58518_row6_col29, #T_58518_row6_col30, #T_58518_row6_col31, #T_58518_row6_col32, #T_58518_row6_col33, #T_58518_row6_col34, #T_58518_row6_col35, #T_58518_row6_col36, #T_58518_row6_col37, #T_58518_row6_col38, #T_58518_row6_col39, #T_58518_row6_col40, #T_58518_row6_col41, #T_58518_row6_col42, #T_58518_row6_col43, #T_58518_row6_col44, #T_58518_row6_col45, #T_58518_row6_col46, #T_58518_row6_col47, #T_58518_row6_col48, #T_58518_row6_col49, #T_58518_row6_col50, #T_58518_row6_col51, #T_58518_row6_col52, #T_58518_row6_col53, #T_58518_row6_col54, #T_58518_row6_col55, #T_58518_row6_col56, #T_58518_row7_col0, #T_58518_row7_col1, #T_58518_row7_col2, #T_58518_row7_col3, #T_58518_row7_col4, #T_58518_row7_col5, #T_58518_row7_col6, #T_58518_row7_col7, #T_58518_row7_col8, #T_58518_row7_col9, #T_58518_row7_col10, #T_58518_row7_col11, #T_58518_row7_col12, #T_58518_row7_col13, #T_58518_row7_col14, #T_58518_row7_col15, #T_58518_row7_col16, #T_58518_row7_col17, #T_58518_row7_col18, #T_58518_row7_col19, #T_58518_row7_col20, #T_58518_row7_col21, #T_58518_row7_col22, #T_58518_row7_col23, #T_58518_row7_col24, #T_58518_row7_col25, #T_58518_row7_col26, #T_58518_row7_col27, #T_58518_row7_col28, #T_58518_row7_col29, #T_58518_row7_col30, #T_58518_row7_col31, #T_58518_row7_col32, #T_58518_row7_col33, #T_58518_row7_col34, #T_58518_row7_col35, #T_58518_row7_col36, #T_58518_row7_col37, #T_58518_row7_col38, #T_58518_row7_col39, #T_58518_row7_col40, #T_58518_row7_col41, #T_58518_row7_col42, #T_58518_row7_col43, #T_58518_row7_col44, #T_58518_row7_col45, #T_58518_row7_col46, #T_58518_row7_col47, #T_58518_row7_col48, #T_58518_row7_col49, #T_58518_row7_col50, #T_58518_row7_col51, #T_58518_row7_col52, #T_58518_row7_col53, #T_58518_row7_col54, #T_58518_row7_col55, #T_58518_row7_col56, #T_58518_row8_col0, #T_58518_row8_col1, #T_58518_row8_col2, #T_58518_row8_col3, #T_58518_row8_col4, #T_58518_row8_col5, #T_58518_row8_col6, #T_58518_row8_col7, #T_58518_row8_col8, #T_58518_row8_col9, #T_58518_row8_col10, #T_58518_row8_col11, #T_58518_row8_col12, #T_58518_row8_col13, #T_58518_row8_col14, #T_58518_row8_col15, #T_58518_row8_col16, #T_58518_row8_col17, #T_58518_row8_col18, #T_58518_row8_col19, #T_58518_row8_col20, #T_58518_row8_col21, #T_58518_row8_col22, #T_58518_row8_col23, #T_58518_row8_col24, #T_58518_row8_col25, #T_58518_row8_col26, #T_58518_row8_col27, #T_58518_row8_col28, #T_58518_row8_col29, #T_58518_row8_col30, #T_58518_row8_col31, #T_58518_row8_col32, #T_58518_row8_col33, #T_58518_row8_col34, #T_58518_row8_col35, #T_58518_row8_col36, #T_58518_row8_col37, #T_58518_row8_col38, #T_58518_row8_col39, #T_58518_row8_col40, #T_58518_row8_col41, #T_58518_row8_col42, #T_58518_row8_col43, #T_58518_row8_col44, #T_58518_row8_col45, #T_58518_row8_col46, #T_58518_row8_col47, #T_58518_row8_col48, #T_58518_row8_col49, #T_58518_row8_col50, #T_58518_row8_col51, #T_58518_row8_col52, #T_58518_row8_col53, #T_58518_row8_col54, #T_58518_row8_col55, #T_58518_row8_col56, #T_58518_row9_col0, #T_58518_row9_col1, #T_58518_row9_col2, #T_58518_row9_col3, #T_58518_row9_col4, #T_58518_row9_col5, #T_58518_row9_col6, #T_58518_row9_col7, #T_58518_row9_col8, #T_58518_row9_col9, #T_58518_row9_col10, #T_58518_row9_col11, #T_58518_row9_col12, #T_58518_row9_col13, #T_58518_row9_col14, #T_58518_row9_col15, #T_58518_row9_col16, #T_58518_row9_col17, #T_58518_row9_col18, #T_58518_row9_col19, #T_58518_row9_col20, #T_58518_row9_col21, #T_58518_row9_col22, #T_58518_row9_col23, #T_58518_row9_col24, #T_58518_row9_col25, #T_58518_row9_col26, #T_58518_row9_col27, #T_58518_row9_col28, #T_58518_row9_col29, #T_58518_row9_col30, #T_58518_row9_col31, #T_58518_row9_col32, #T_58518_row9_col33, #T_58518_row9_col34, #T_58518_row9_col35, #T_58518_row9_col36, #T_58518_row9_col37, #T_58518_row9_col38, #T_58518_row9_col39, #T_58518_row9_col40, #T_58518_row9_col41, #T_58518_row9_col42, #T_58518_row9_col43, #T_58518_row9_col44, #T_58518_row9_col45, #T_58518_row9_col46, #T_58518_row9_col47, #T_58518_row9_col48, #T_58518_row9_col49, #T_58518_row9_col50, #T_58518_row9_col51, #T_58518_row9_col52, #T_58518_row9_col53, #T_58518_row9_col54, #T_58518_row9_col55, #T_58518_row9_col56 {\n",
       "  text-align: center;\n",
       "  border: 1.3px solid red;\n",
       "  color: blue;\n",
       "}\n",
       "</style>\n",
       "<table id=\"T_58518\">\n",
       "  <caption>Table 2.7.5: Scaled Features Training SMOTEEN Data</caption>\n",
       "  <thead>\n",
       "    <tr>\n",
       "      <th id=\"T_58518_level0_col0\" class=\"col_heading level0 col0\" >word_freq_make</th>\n",
       "      <th id=\"T_58518_level0_col1\" class=\"col_heading level0 col1\" >word_freq_address</th>\n",
       "      <th id=\"T_58518_level0_col2\" class=\"col_heading level0 col2\" >word_freq_all</th>\n",
       "      <th id=\"T_58518_level0_col3\" class=\"col_heading level0 col3\" >word_freq_3d</th>\n",
       "      <th id=\"T_58518_level0_col4\" class=\"col_heading level0 col4\" >word_freq_our</th>\n",
       "      <th id=\"T_58518_level0_col5\" class=\"col_heading level0 col5\" >word_freq_over</th>\n",
       "      <th id=\"T_58518_level0_col6\" class=\"col_heading level0 col6\" >word_freq_remove</th>\n",
       "      <th id=\"T_58518_level0_col7\" class=\"col_heading level0 col7\" >word_freq_internet</th>\n",
       "      <th id=\"T_58518_level0_col8\" class=\"col_heading level0 col8\" >word_freq_order</th>\n",
       "      <th id=\"T_58518_level0_col9\" class=\"col_heading level0 col9\" >word_freq_mail</th>\n",
       "      <th id=\"T_58518_level0_col10\" class=\"col_heading level0 col10\" >word_freq_receive</th>\n",
       "      <th id=\"T_58518_level0_col11\" class=\"col_heading level0 col11\" >word_freq_will</th>\n",
       "      <th id=\"T_58518_level0_col12\" class=\"col_heading level0 col12\" >word_freq_people</th>\n",
       "      <th id=\"T_58518_level0_col13\" class=\"col_heading level0 col13\" >word_freq_report</th>\n",
       "      <th id=\"T_58518_level0_col14\" class=\"col_heading level0 col14\" >word_freq_addresses</th>\n",
       "      <th id=\"T_58518_level0_col15\" class=\"col_heading level0 col15\" >word_freq_free</th>\n",
       "      <th id=\"T_58518_level0_col16\" class=\"col_heading level0 col16\" >word_freq_business</th>\n",
       "      <th id=\"T_58518_level0_col17\" class=\"col_heading level0 col17\" >word_freq_email</th>\n",
       "      <th id=\"T_58518_level0_col18\" class=\"col_heading level0 col18\" >word_freq_you</th>\n",
       "      <th id=\"T_58518_level0_col19\" class=\"col_heading level0 col19\" >word_freq_credit</th>\n",
       "      <th id=\"T_58518_level0_col20\" class=\"col_heading level0 col20\" >word_freq_your</th>\n",
       "      <th id=\"T_58518_level0_col21\" class=\"col_heading level0 col21\" >word_freq_font</th>\n",
       "      <th id=\"T_58518_level0_col22\" class=\"col_heading level0 col22\" >word_freq_000</th>\n",
       "      <th id=\"T_58518_level0_col23\" class=\"col_heading level0 col23\" >word_freq_money</th>\n",
       "      <th id=\"T_58518_level0_col24\" class=\"col_heading level0 col24\" >word_freq_hp</th>\n",
       "      <th id=\"T_58518_level0_col25\" class=\"col_heading level0 col25\" >word_freq_hpl</th>\n",
       "      <th id=\"T_58518_level0_col26\" class=\"col_heading level0 col26\" >word_freq_george</th>\n",
       "      <th id=\"T_58518_level0_col27\" class=\"col_heading level0 col27\" >word_freq_650</th>\n",
       "      <th id=\"T_58518_level0_col28\" class=\"col_heading level0 col28\" >word_freq_lab</th>\n",
       "      <th id=\"T_58518_level0_col29\" class=\"col_heading level0 col29\" >word_freq_labs</th>\n",
       "      <th id=\"T_58518_level0_col30\" class=\"col_heading level0 col30\" >word_freq_telnet</th>\n",
       "      <th id=\"T_58518_level0_col31\" class=\"col_heading level0 col31\" >word_freq_857</th>\n",
       "      <th id=\"T_58518_level0_col32\" class=\"col_heading level0 col32\" >word_freq_data</th>\n",
       "      <th id=\"T_58518_level0_col33\" class=\"col_heading level0 col33\" >word_freq_415</th>\n",
       "      <th id=\"T_58518_level0_col34\" class=\"col_heading level0 col34\" >word_freq_85</th>\n",
       "      <th id=\"T_58518_level0_col35\" class=\"col_heading level0 col35\" >word_freq_technology</th>\n",
       "      <th id=\"T_58518_level0_col36\" class=\"col_heading level0 col36\" >word_freq_1999</th>\n",
       "      <th id=\"T_58518_level0_col37\" class=\"col_heading level0 col37\" >word_freq_parts</th>\n",
       "      <th id=\"T_58518_level0_col38\" class=\"col_heading level0 col38\" >word_freq_pm</th>\n",
       "      <th id=\"T_58518_level0_col39\" class=\"col_heading level0 col39\" >word_freq_direct</th>\n",
       "      <th id=\"T_58518_level0_col40\" class=\"col_heading level0 col40\" >word_freq_cs</th>\n",
       "      <th id=\"T_58518_level0_col41\" class=\"col_heading level0 col41\" >word_freq_meeting</th>\n",
       "      <th id=\"T_58518_level0_col42\" class=\"col_heading level0 col42\" >word_freq_original</th>\n",
       "      <th id=\"T_58518_level0_col43\" class=\"col_heading level0 col43\" >word_freq_project</th>\n",
       "      <th id=\"T_58518_level0_col44\" class=\"col_heading level0 col44\" >word_freq_re</th>\n",
       "      <th id=\"T_58518_level0_col45\" class=\"col_heading level0 col45\" >word_freq_edu</th>\n",
       "      <th id=\"T_58518_level0_col46\" class=\"col_heading level0 col46\" >word_freq_table</th>\n",
       "      <th id=\"T_58518_level0_col47\" class=\"col_heading level0 col47\" >word_freq_conference</th>\n",
       "      <th id=\"T_58518_level0_col48\" class=\"col_heading level0 col48\" >char_freq_;</th>\n",
       "      <th id=\"T_58518_level0_col49\" class=\"col_heading level0 col49\" >char_freq_(</th>\n",
       "      <th id=\"T_58518_level0_col50\" class=\"col_heading level0 col50\" >char_freq_[</th>\n",
       "      <th id=\"T_58518_level0_col51\" class=\"col_heading level0 col51\" >char_freq_!</th>\n",
       "      <th id=\"T_58518_level0_col52\" class=\"col_heading level0 col52\" >char_freq_$</th>\n",
       "      <th id=\"T_58518_level0_col53\" class=\"col_heading level0 col53\" >char_freq_#</th>\n",
       "      <th id=\"T_58518_level0_col54\" class=\"col_heading level0 col54\" >capital_run_length_average</th>\n",
       "      <th id=\"T_58518_level0_col55\" class=\"col_heading level0 col55\" >capital_run_length_longest</th>\n",
       "      <th id=\"T_58518_level0_col56\" class=\"col_heading level0 col56\" >capital_run_length_total</th>\n",
       "    </tr>\n",
       "  </thead>\n",
       "  <tbody>\n",
       "    <tr>\n",
       "      <td id=\"T_58518_row0_col0\" class=\"data row0 col0\" >2.83</td>\n",
       "      <td id=\"T_58518_row0_col1\" class=\"data row0 col1\" >-0.16</td>\n",
       "      <td id=\"T_58518_row0_col2\" class=\"data row0 col2\" >1.35</td>\n",
       "      <td id=\"T_58518_row0_col3\" class=\"data row0 col3\" >-0.05</td>\n",
       "      <td id=\"T_58518_row0_col4\" class=\"data row0 col4\" >-0.46</td>\n",
       "      <td id=\"T_58518_row0_col5\" class=\"data row0 col5\" >-0.36</td>\n",
       "      <td id=\"T_58518_row0_col6\" class=\"data row0 col6\" >-0.29</td>\n",
       "      <td id=\"T_58518_row0_col7\" class=\"data row0 col7\" >-0.26</td>\n",
       "      <td id=\"T_58518_row0_col8\" class=\"data row0 col8\" >-0.32</td>\n",
       "      <td id=\"T_58518_row0_col9\" class=\"data row0 col9\" >-0.37</td>\n",
       "      <td id=\"T_58518_row0_col10\" class=\"data row0 col10\" >-0.30</td>\n",
       "      <td id=\"T_58518_row0_col11\" class=\"data row0 col11\" >-0.63</td>\n",
       "      <td id=\"T_58518_row0_col12\" class=\"data row0 col12\" >-0.30</td>\n",
       "      <td id=\"T_58518_row0_col13\" class=\"data row0 col13\" >-0.17</td>\n",
       "      <td id=\"T_58518_row0_col14\" class=\"data row0 col14\" >-0.19</td>\n",
       "      <td id=\"T_58518_row0_col15\" class=\"data row0 col15\" >-0.32</td>\n",
       "      <td id=\"T_58518_row0_col16\" class=\"data row0 col16\" >-0.31</td>\n",
       "      <td id=\"T_58518_row0_col17\" class=\"data row0 col17\" >-0.35</td>\n",
       "      <td id=\"T_58518_row0_col18\" class=\"data row0 col18\" >0.68</td>\n",
       "      <td id=\"T_58518_row0_col19\" class=\"data row0 col19\" >-0.16</td>\n",
       "      <td id=\"T_58518_row0_col20\" class=\"data row0 col20\" >-0.67</td>\n",
       "      <td id=\"T_58518_row0_col21\" class=\"data row0 col21\" >-0.12</td>\n",
       "      <td id=\"T_58518_row0_col22\" class=\"data row0 col22\" >-0.29</td>\n",
       "      <td id=\"T_58518_row0_col23\" class=\"data row0 col23\" >-0.21</td>\n",
       "      <td id=\"T_58518_row0_col24\" class=\"data row0 col24\" >-0.34</td>\n",
       "      <td id=\"T_58518_row0_col25\" class=\"data row0 col25\" >-0.30</td>\n",
       "      <td id=\"T_58518_row0_col26\" class=\"data row0 col26\" >0.06</td>\n",
       "      <td id=\"T_58518_row0_col27\" class=\"data row0 col27\" >-0.23</td>\n",
       "      <td id=\"T_58518_row0_col28\" class=\"data row0 col28\" >-0.18</td>\n",
       "      <td id=\"T_58518_row0_col29\" class=\"data row0 col29\" >-0.22</td>\n",
       "      <td id=\"T_58518_row0_col30\" class=\"data row0 col30\" >-0.16</td>\n",
       "      <td id=\"T_58518_row0_col31\" class=\"data row0 col31\" >-0.14</td>\n",
       "      <td id=\"T_58518_row0_col32\" class=\"data row0 col32\" >-0.17</td>\n",
       "      <td id=\"T_58518_row0_col33\" class=\"data row0 col33\" >-0.15</td>\n",
       "      <td id=\"T_58518_row0_col34\" class=\"data row0 col34\" >-0.19</td>\n",
       "      <td id=\"T_58518_row0_col35\" class=\"data row0 col35\" >-0.24</td>\n",
       "      <td id=\"T_58518_row0_col36\" class=\"data row0 col36\" >-0.32</td>\n",
       "      <td id=\"T_58518_row0_col37\" class=\"data row0 col37\" >-0.06</td>\n",
       "      <td id=\"T_58518_row0_col38\" class=\"data row0 col38\" >-0.18</td>\n",
       "      <td id=\"T_58518_row0_col39\" class=\"data row0 col39\" >-0.18</td>\n",
       "      <td id=\"T_58518_row0_col40\" class=\"data row0 col40\" >-0.13</td>\n",
       "      <td id=\"T_58518_row0_col41\" class=\"data row0 col41\" >-0.18</td>\n",
       "      <td id=\"T_58518_row0_col42\" class=\"data row0 col42\" >-0.21</td>\n",
       "      <td id=\"T_58518_row0_col43\" class=\"data row0 col43\" >-0.12</td>\n",
       "      <td id=\"T_58518_row0_col44\" class=\"data row0 col44\" >-0.30</td>\n",
       "      <td id=\"T_58518_row0_col45\" class=\"data row0 col45\" >-0.20</td>\n",
       "      <td id=\"T_58518_row0_col46\" class=\"data row0 col46\" >-0.07</td>\n",
       "      <td id=\"T_58518_row0_col47\" class=\"data row0 col47\" >-0.11</td>\n",
       "      <td id=\"T_58518_row0_col48\" class=\"data row0 col48\" >-0.16</td>\n",
       "      <td id=\"T_58518_row0_col49\" class=\"data row0 col49\" >-0.48</td>\n",
       "      <td id=\"T_58518_row0_col50\" class=\"data row0 col50\" >-0.19</td>\n",
       "      <td id=\"T_58518_row0_col51\" class=\"data row0 col51\" >-0.12</td>\n",
       "      <td id=\"T_58518_row0_col52\" class=\"data row0 col52\" >-0.30</td>\n",
       "      <td id=\"T_58518_row0_col53\" class=\"data row0 col53\" >-0.10</td>\n",
       "      <td id=\"T_58518_row0_col54\" class=\"data row0 col54\" >-0.09</td>\n",
       "      <td id=\"T_58518_row0_col55\" class=\"data row0 col55\" >-0.20</td>\n",
       "      <td id=\"T_58518_row0_col56\" class=\"data row0 col56\" >-0.36</td>\n",
       "    </tr>\n",
       "    <tr>\n",
       "      <td id=\"T_58518_row1_col0\" class=\"data row1 col0\" >-0.35</td>\n",
       "      <td id=\"T_58518_row1_col1\" class=\"data row1 col1\" >-0.16</td>\n",
       "      <td id=\"T_58518_row1_col2\" class=\"data row1 col2\" >-0.56</td>\n",
       "      <td id=\"T_58518_row1_col3\" class=\"data row1 col3\" >-0.05</td>\n",
       "      <td id=\"T_58518_row1_col4\" class=\"data row1 col4\" >-0.46</td>\n",
       "      <td id=\"T_58518_row1_col5\" class=\"data row1 col5\" >-0.36</td>\n",
       "      <td id=\"T_58518_row1_col6\" class=\"data row1 col6\" >-0.29</td>\n",
       "      <td id=\"T_58518_row1_col7\" class=\"data row1 col7\" >-0.26</td>\n",
       "      <td id=\"T_58518_row1_col8\" class=\"data row1 col8\" >-0.32</td>\n",
       "      <td id=\"T_58518_row1_col9\" class=\"data row1 col9\" >-0.37</td>\n",
       "      <td id=\"T_58518_row1_col10\" class=\"data row1 col10\" >-0.30</td>\n",
       "      <td id=\"T_58518_row1_col11\" class=\"data row1 col11\" >-0.63</td>\n",
       "      <td id=\"T_58518_row1_col12\" class=\"data row1 col12\" >-0.30</td>\n",
       "      <td id=\"T_58518_row1_col13\" class=\"data row1 col13\" >-0.17</td>\n",
       "      <td id=\"T_58518_row1_col14\" class=\"data row1 col14\" >-0.19</td>\n",
       "      <td id=\"T_58518_row1_col15\" class=\"data row1 col15\" >-0.32</td>\n",
       "      <td id=\"T_58518_row1_col16\" class=\"data row1 col16\" >-0.31</td>\n",
       "      <td id=\"T_58518_row1_col17\" class=\"data row1 col17\" >-0.35</td>\n",
       "      <td id=\"T_58518_row1_col18\" class=\"data row1 col18\" >0.35</td>\n",
       "      <td id=\"T_58518_row1_col19\" class=\"data row1 col19\" >-0.16</td>\n",
       "      <td id=\"T_58518_row1_col20\" class=\"data row1 col20\" >-0.67</td>\n",
       "      <td id=\"T_58518_row1_col21\" class=\"data row1 col21\" >-0.12</td>\n",
       "      <td id=\"T_58518_row1_col22\" class=\"data row1 col22\" >-0.29</td>\n",
       "      <td id=\"T_58518_row1_col23\" class=\"data row1 col23\" >-0.21</td>\n",
       "      <td id=\"T_58518_row1_col24\" class=\"data row1 col24\" >-0.34</td>\n",
       "      <td id=\"T_58518_row1_col25\" class=\"data row1 col25\" >-0.30</td>\n",
       "      <td id=\"T_58518_row1_col26\" class=\"data row1 col26\" >-0.23</td>\n",
       "      <td id=\"T_58518_row1_col27\" class=\"data row1 col27\" >-0.23</td>\n",
       "      <td id=\"T_58518_row1_col28\" class=\"data row1 col28\" >-0.18</td>\n",
       "      <td id=\"T_58518_row1_col29\" class=\"data row1 col29\" >-0.22</td>\n",
       "      <td id=\"T_58518_row1_col30\" class=\"data row1 col30\" >-0.16</td>\n",
       "      <td id=\"T_58518_row1_col31\" class=\"data row1 col31\" >-0.14</td>\n",
       "      <td id=\"T_58518_row1_col32\" class=\"data row1 col32\" >-0.17</td>\n",
       "      <td id=\"T_58518_row1_col33\" class=\"data row1 col33\" >-0.15</td>\n",
       "      <td id=\"T_58518_row1_col34\" class=\"data row1 col34\" >3.86</td>\n",
       "      <td id=\"T_58518_row1_col35\" class=\"data row1 col35\" >-0.24</td>\n",
       "      <td id=\"T_58518_row1_col36\" class=\"data row1 col36\" >-0.32</td>\n",
       "      <td id=\"T_58518_row1_col37\" class=\"data row1 col37\" >-0.06</td>\n",
       "      <td id=\"T_58518_row1_col38\" class=\"data row1 col38\" >-0.18</td>\n",
       "      <td id=\"T_58518_row1_col39\" class=\"data row1 col39\" >-0.18</td>\n",
       "      <td id=\"T_58518_row1_col40\" class=\"data row1 col40\" >-0.13</td>\n",
       "      <td id=\"T_58518_row1_col41\" class=\"data row1 col41\" >2.80</td>\n",
       "      <td id=\"T_58518_row1_col42\" class=\"data row1 col42\" >-0.21</td>\n",
       "      <td id=\"T_58518_row1_col43\" class=\"data row1 col43\" >-0.12</td>\n",
       "      <td id=\"T_58518_row1_col44\" class=\"data row1 col44\" >-0.30</td>\n",
       "      <td id=\"T_58518_row1_col45\" class=\"data row1 col45\" >-0.20</td>\n",
       "      <td id=\"T_58518_row1_col46\" class=\"data row1 col46\" >-0.07</td>\n",
       "      <td id=\"T_58518_row1_col47\" class=\"data row1 col47\" >-0.11</td>\n",
       "      <td id=\"T_58518_row1_col48\" class=\"data row1 col48\" >-0.16</td>\n",
       "      <td id=\"T_58518_row1_col49\" class=\"data row1 col49\" >-0.48</td>\n",
       "      <td id=\"T_58518_row1_col50\" class=\"data row1 col50\" >-0.19</td>\n",
       "      <td id=\"T_58518_row1_col51\" class=\"data row1 col51\" >0.05</td>\n",
       "      <td id=\"T_58518_row1_col52\" class=\"data row1 col52\" >-0.30</td>\n",
       "      <td id=\"T_58518_row1_col53\" class=\"data row1 col53\" >-0.10</td>\n",
       "      <td id=\"T_58518_row1_col54\" class=\"data row1 col54\" >-0.09</td>\n",
       "      <td id=\"T_58518_row1_col55\" class=\"data row1 col55\" >-0.21</td>\n",
       "      <td id=\"T_58518_row1_col56\" class=\"data row1 col56\" >-0.38</td>\n",
       "    </tr>\n",
       "    <tr>\n",
       "      <td id=\"T_58518_row2_col0\" class=\"data row2 col0\" >-0.35</td>\n",
       "      <td id=\"T_58518_row2_col1\" class=\"data row2 col1\" >-0.16</td>\n",
       "      <td id=\"T_58518_row2_col2\" class=\"data row2 col2\" >-0.56</td>\n",
       "      <td id=\"T_58518_row2_col3\" class=\"data row2 col3\" >-0.05</td>\n",
       "      <td id=\"T_58518_row2_col4\" class=\"data row2 col4\" >-0.46</td>\n",
       "      <td id=\"T_58518_row2_col5\" class=\"data row2 col5\" >-0.36</td>\n",
       "      <td id=\"T_58518_row2_col6\" class=\"data row2 col6\" >-0.29</td>\n",
       "      <td id=\"T_58518_row2_col7\" class=\"data row2 col7\" >-0.26</td>\n",
       "      <td id=\"T_58518_row2_col8\" class=\"data row2 col8\" >-0.32</td>\n",
       "      <td id=\"T_58518_row2_col9\" class=\"data row2 col9\" >-0.37</td>\n",
       "      <td id=\"T_58518_row2_col10\" class=\"data row2 col10\" >-0.30</td>\n",
       "      <td id=\"T_58518_row2_col11\" class=\"data row2 col11\" >-0.63</td>\n",
       "      <td id=\"T_58518_row2_col12\" class=\"data row2 col12\" >-0.30</td>\n",
       "      <td id=\"T_58518_row2_col13\" class=\"data row2 col13\" >-0.17</td>\n",
       "      <td id=\"T_58518_row2_col14\" class=\"data row2 col14\" >-0.19</td>\n",
       "      <td id=\"T_58518_row2_col15\" class=\"data row2 col15\" >-0.32</td>\n",
       "      <td id=\"T_58518_row2_col16\" class=\"data row2 col16\" >-0.31</td>\n",
       "      <td id=\"T_58518_row2_col17\" class=\"data row2 col17\" >-0.35</td>\n",
       "      <td id=\"T_58518_row2_col18\" class=\"data row2 col18\" >-0.94</td>\n",
       "      <td id=\"T_58518_row2_col19\" class=\"data row2 col19\" >-0.16</td>\n",
       "      <td id=\"T_58518_row2_col20\" class=\"data row2 col20\" >-0.67</td>\n",
       "      <td id=\"T_58518_row2_col21\" class=\"data row2 col21\" >-0.12</td>\n",
       "      <td id=\"T_58518_row2_col22\" class=\"data row2 col22\" >-0.29</td>\n",
       "      <td id=\"T_58518_row2_col23\" class=\"data row2 col23\" >-0.21</td>\n",
       "      <td id=\"T_58518_row2_col24\" class=\"data row2 col24\" >-0.34</td>\n",
       "      <td id=\"T_58518_row2_col25\" class=\"data row2 col25\" >-0.30</td>\n",
       "      <td id=\"T_58518_row2_col26\" class=\"data row2 col26\" >-0.23</td>\n",
       "      <td id=\"T_58518_row2_col27\" class=\"data row2 col27\" >-0.23</td>\n",
       "      <td id=\"T_58518_row2_col28\" class=\"data row2 col28\" >-0.18</td>\n",
       "      <td id=\"T_58518_row2_col29\" class=\"data row2 col29\" >-0.22</td>\n",
       "      <td id=\"T_58518_row2_col30\" class=\"data row2 col30\" >-0.16</td>\n",
       "      <td id=\"T_58518_row2_col31\" class=\"data row2 col31\" >-0.14</td>\n",
       "      <td id=\"T_58518_row2_col32\" class=\"data row2 col32\" >-0.17</td>\n",
       "      <td id=\"T_58518_row2_col33\" class=\"data row2 col33\" >-0.15</td>\n",
       "      <td id=\"T_58518_row2_col34\" class=\"data row2 col34\" >-0.19</td>\n",
       "      <td id=\"T_58518_row2_col35\" class=\"data row2 col35\" >-0.24</td>\n",
       "      <td id=\"T_58518_row2_col36\" class=\"data row2 col36\" >-0.32</td>\n",
       "      <td id=\"T_58518_row2_col37\" class=\"data row2 col37\" >-0.06</td>\n",
       "      <td id=\"T_58518_row2_col38\" class=\"data row2 col38\" >-0.18</td>\n",
       "      <td id=\"T_58518_row2_col39\" class=\"data row2 col39\" >-0.18</td>\n",
       "      <td id=\"T_58518_row2_col40\" class=\"data row2 col40\" >-0.13</td>\n",
       "      <td id=\"T_58518_row2_col41\" class=\"data row2 col41\" >-0.18</td>\n",
       "      <td id=\"T_58518_row2_col42\" class=\"data row2 col42\" >-0.21</td>\n",
       "      <td id=\"T_58518_row2_col43\" class=\"data row2 col43\" >-0.12</td>\n",
       "      <td id=\"T_58518_row2_col44\" class=\"data row2 col44\" >-0.30</td>\n",
       "      <td id=\"T_58518_row2_col45\" class=\"data row2 col45\" >-0.20</td>\n",
       "      <td id=\"T_58518_row2_col46\" class=\"data row2 col46\" >-0.07</td>\n",
       "      <td id=\"T_58518_row2_col47\" class=\"data row2 col47\" >-0.11</td>\n",
       "      <td id=\"T_58518_row2_col48\" class=\"data row2 col48\" >-0.16</td>\n",
       "      <td id=\"T_58518_row2_col49\" class=\"data row2 col49\" >-0.48</td>\n",
       "      <td id=\"T_58518_row2_col50\" class=\"data row2 col50\" >-0.19</td>\n",
       "      <td id=\"T_58518_row2_col51\" class=\"data row2 col51\" >-0.31</td>\n",
       "      <td id=\"T_58518_row2_col52\" class=\"data row2 col52\" >-0.30</td>\n",
       "      <td id=\"T_58518_row2_col53\" class=\"data row2 col53\" >-0.10</td>\n",
       "      <td id=\"T_58518_row2_col54\" class=\"data row2 col54\" >-0.13</td>\n",
       "      <td id=\"T_58518_row2_col55\" class=\"data row2 col55\" >-0.25</td>\n",
       "      <td id=\"T_58518_row2_col56\" class=\"data row2 col56\" >-0.45</td>\n",
       "    </tr>\n",
       "    <tr>\n",
       "      <td id=\"T_58518_row3_col0\" class=\"data row3 col0\" >-0.35</td>\n",
       "      <td id=\"T_58518_row3_col1\" class=\"data row3 col1\" >-0.16</td>\n",
       "      <td id=\"T_58518_row3_col2\" class=\"data row3 col2\" >-0.56</td>\n",
       "      <td id=\"T_58518_row3_col3\" class=\"data row3 col3\" >-0.05</td>\n",
       "      <td id=\"T_58518_row3_col4\" class=\"data row3 col4\" >-0.46</td>\n",
       "      <td id=\"T_58518_row3_col5\" class=\"data row3 col5\" >-0.36</td>\n",
       "      <td id=\"T_58518_row3_col6\" class=\"data row3 col6\" >-0.29</td>\n",
       "      <td id=\"T_58518_row3_col7\" class=\"data row3 col7\" >-0.26</td>\n",
       "      <td id=\"T_58518_row3_col8\" class=\"data row3 col8\" >-0.32</td>\n",
       "      <td id=\"T_58518_row3_col9\" class=\"data row3 col9\" >-0.37</td>\n",
       "      <td id=\"T_58518_row3_col10\" class=\"data row3 col10\" >-0.30</td>\n",
       "      <td id=\"T_58518_row3_col11\" class=\"data row3 col11\" >-0.63</td>\n",
       "      <td id=\"T_58518_row3_col12\" class=\"data row3 col12\" >-0.30</td>\n",
       "      <td id=\"T_58518_row3_col13\" class=\"data row3 col13\" >-0.17</td>\n",
       "      <td id=\"T_58518_row3_col14\" class=\"data row3 col14\" >-0.19</td>\n",
       "      <td id=\"T_58518_row3_col15\" class=\"data row3 col15\" >-0.32</td>\n",
       "      <td id=\"T_58518_row3_col16\" class=\"data row3 col16\" >-0.31</td>\n",
       "      <td id=\"T_58518_row3_col17\" class=\"data row3 col17\" >-0.35</td>\n",
       "      <td id=\"T_58518_row3_col18\" class=\"data row3 col18\" >-0.94</td>\n",
       "      <td id=\"T_58518_row3_col19\" class=\"data row3 col19\" >-0.16</td>\n",
       "      <td id=\"T_58518_row3_col20\" class=\"data row3 col20\" >-0.67</td>\n",
       "      <td id=\"T_58518_row3_col21\" class=\"data row3 col21\" >-0.12</td>\n",
       "      <td id=\"T_58518_row3_col22\" class=\"data row3 col22\" >-0.29</td>\n",
       "      <td id=\"T_58518_row3_col23\" class=\"data row3 col23\" >-0.21</td>\n",
       "      <td id=\"T_58518_row3_col24\" class=\"data row3 col24\" >-0.34</td>\n",
       "      <td id=\"T_58518_row3_col25\" class=\"data row3 col25\" >-0.30</td>\n",
       "      <td id=\"T_58518_row3_col26\" class=\"data row3 col26\" >5.77</td>\n",
       "      <td id=\"T_58518_row3_col27\" class=\"data row3 col27\" >-0.23</td>\n",
       "      <td id=\"T_58518_row3_col28\" class=\"data row3 col28\" >-0.18</td>\n",
       "      <td id=\"T_58518_row3_col29\" class=\"data row3 col29\" >-0.22</td>\n",
       "      <td id=\"T_58518_row3_col30\" class=\"data row3 col30\" >-0.16</td>\n",
       "      <td id=\"T_58518_row3_col31\" class=\"data row3 col31\" >-0.14</td>\n",
       "      <td id=\"T_58518_row3_col32\" class=\"data row3 col32\" >-0.17</td>\n",
       "      <td id=\"T_58518_row3_col33\" class=\"data row3 col33\" >-0.15</td>\n",
       "      <td id=\"T_58518_row3_col34\" class=\"data row3 col34\" >-0.19</td>\n",
       "      <td id=\"T_58518_row3_col35\" class=\"data row3 col35\" >-0.24</td>\n",
       "      <td id=\"T_58518_row3_col36\" class=\"data row3 col36\" >-0.32</td>\n",
       "      <td id=\"T_58518_row3_col37\" class=\"data row3 col37\" >-0.06</td>\n",
       "      <td id=\"T_58518_row3_col38\" class=\"data row3 col38\" >-0.18</td>\n",
       "      <td id=\"T_58518_row3_col39\" class=\"data row3 col39\" >-0.18</td>\n",
       "      <td id=\"T_58518_row3_col40\" class=\"data row3 col40\" >-0.13</td>\n",
       "      <td id=\"T_58518_row3_col41\" class=\"data row3 col41\" >-0.18</td>\n",
       "      <td id=\"T_58518_row3_col42\" class=\"data row3 col42\" >-0.21</td>\n",
       "      <td id=\"T_58518_row3_col43\" class=\"data row3 col43\" >-0.12</td>\n",
       "      <td id=\"T_58518_row3_col44\" class=\"data row3 col44\" >-0.30</td>\n",
       "      <td id=\"T_58518_row3_col45\" class=\"data row3 col45\" >-0.20</td>\n",
       "      <td id=\"T_58518_row3_col46\" class=\"data row3 col46\" >-0.07</td>\n",
       "      <td id=\"T_58518_row3_col47\" class=\"data row3 col47\" >-0.11</td>\n",
       "      <td id=\"T_58518_row3_col48\" class=\"data row3 col48\" >-0.16</td>\n",
       "      <td id=\"T_58518_row3_col49\" class=\"data row3 col49\" >-0.48</td>\n",
       "      <td id=\"T_58518_row3_col50\" class=\"data row3 col50\" >-0.19</td>\n",
       "      <td id=\"T_58518_row3_col51\" class=\"data row3 col51\" >-0.31</td>\n",
       "      <td id=\"T_58518_row3_col52\" class=\"data row3 col52\" >-0.30</td>\n",
       "      <td id=\"T_58518_row3_col53\" class=\"data row3 col53\" >-0.10</td>\n",
       "      <td id=\"T_58518_row3_col54\" class=\"data row3 col54\" >-0.13</td>\n",
       "      <td id=\"T_58518_row3_col55\" class=\"data row3 col55\" >-0.25</td>\n",
       "      <td id=\"T_58518_row3_col56\" class=\"data row3 col56\" >-0.45</td>\n",
       "    </tr>\n",
       "    <tr>\n",
       "      <td id=\"T_58518_row4_col0\" class=\"data row4 col0\" >0.93</td>\n",
       "      <td id=\"T_58518_row4_col1\" class=\"data row4 col1\" >0.15</td>\n",
       "      <td id=\"T_58518_row4_col2\" class=\"data row4 col2\" >-0.56</td>\n",
       "      <td id=\"T_58518_row4_col3\" class=\"data row4 col3\" >-0.05</td>\n",
       "      <td id=\"T_58518_row4_col4\" class=\"data row4 col4\" >0.12</td>\n",
       "      <td id=\"T_58518_row4_col5\" class=\"data row4 col5\" >-0.36</td>\n",
       "      <td id=\"T_58518_row4_col6\" class=\"data row4 col6\" >-0.29</td>\n",
       "      <td id=\"T_58518_row4_col7\" class=\"data row4 col7\" >-0.26</td>\n",
       "      <td id=\"T_58518_row4_col8\" class=\"data row4 col8\" >-0.32</td>\n",
       "      <td id=\"T_58518_row4_col9\" class=\"data row4 col9\" >0.24</td>\n",
       "      <td id=\"T_58518_row4_col10\" class=\"data row4 col10\" >-0.30</td>\n",
       "      <td id=\"T_58518_row4_col11\" class=\"data row4 col11\" >0.74</td>\n",
       "      <td id=\"T_58518_row4_col12\" class=\"data row4 col12\" >-0.30</td>\n",
       "      <td id=\"T_58518_row4_col13\" class=\"data row4 col13\" >0.99</td>\n",
       "      <td id=\"T_58518_row4_col14\" class=\"data row4 col14\" >-0.19</td>\n",
       "      <td id=\"T_58518_row4_col15\" class=\"data row4 col15\" >-0.32</td>\n",
       "      <td id=\"T_58518_row4_col16\" class=\"data row4 col16\" >-0.31</td>\n",
       "      <td id=\"T_58518_row4_col17\" class=\"data row4 col17\" >-0.35</td>\n",
       "      <td id=\"T_58518_row4_col18\" class=\"data row4 col18\" >-0.28</td>\n",
       "      <td id=\"T_58518_row4_col19\" class=\"data row4 col19\" >-0.16</td>\n",
       "      <td id=\"T_58518_row4_col20\" class=\"data row4 col20\" >-0.67</td>\n",
       "      <td id=\"T_58518_row4_col21\" class=\"data row4 col21\" >-0.12</td>\n",
       "      <td id=\"T_58518_row4_col22\" class=\"data row4 col22\" >-0.29</td>\n",
       "      <td id=\"T_58518_row4_col23\" class=\"data row4 col23\" >-0.21</td>\n",
       "      <td id=\"T_58518_row4_col24\" class=\"data row4 col24\" >1.41</td>\n",
       "      <td id=\"T_58518_row4_col25\" class=\"data row4 col25\" >1.93</td>\n",
       "      <td id=\"T_58518_row4_col26\" class=\"data row4 col26\" >0.13</td>\n",
       "      <td id=\"T_58518_row4_col27\" class=\"data row4 col27\" >1.90</td>\n",
       "      <td id=\"T_58518_row4_col28\" class=\"data row4 col28\" >0.52</td>\n",
       "      <td id=\"T_58518_row4_col29\" class=\"data row4 col29\" >0.61</td>\n",
       "      <td id=\"T_58518_row4_col30\" class=\"data row4 col30\" >0.76</td>\n",
       "      <td id=\"T_58518_row4_col31\" class=\"data row4 col31\" >0.98</td>\n",
       "      <td id=\"T_58518_row4_col32\" class=\"data row4 col32\" >-0.17</td>\n",
       "      <td id=\"T_58518_row4_col33\" class=\"data row4 col33\" >0.97</td>\n",
       "      <td id=\"T_58518_row4_col34\" class=\"data row4 col34\" >1.88</td>\n",
       "      <td id=\"T_58518_row4_col35\" class=\"data row4 col35\" >0.76</td>\n",
       "      <td id=\"T_58518_row4_col36\" class=\"data row4 col36\" >0.58</td>\n",
       "      <td id=\"T_58518_row4_col37\" class=\"data row4 col37\" >-0.06</td>\n",
       "      <td id=\"T_58518_row4_col38\" class=\"data row4 col38\" >-0.18</td>\n",
       "      <td id=\"T_58518_row4_col39\" class=\"data row4 col39\" >0.88</td>\n",
       "      <td id=\"T_58518_row4_col40\" class=\"data row4 col40\" >-0.13</td>\n",
       "      <td id=\"T_58518_row4_col41\" class=\"data row4 col41\" >0.32</td>\n",
       "      <td id=\"T_58518_row4_col42\" class=\"data row4 col42\" >1.51</td>\n",
       "      <td id=\"T_58518_row4_col43\" class=\"data row4 col43\" >-0.12</td>\n",
       "      <td id=\"T_58518_row4_col44\" class=\"data row4 col44\" >0.10</td>\n",
       "      <td id=\"T_58518_row4_col45\" class=\"data row4 col45\" >-0.20</td>\n",
       "      <td id=\"T_58518_row4_col46\" class=\"data row4 col46\" >-0.07</td>\n",
       "      <td id=\"T_58518_row4_col47\" class=\"data row4 col47\" >-0.11</td>\n",
       "      <td id=\"T_58518_row4_col48\" class=\"data row4 col48\" >0.35</td>\n",
       "      <td id=\"T_58518_row4_col49\" class=\"data row4 col49\" >0.83</td>\n",
       "      <td id=\"T_58518_row4_col50\" class=\"data row4 col50\" >5.17</td>\n",
       "      <td id=\"T_58518_row4_col51\" class=\"data row4 col51\" >-0.31</td>\n",
       "      <td id=\"T_58518_row4_col52\" class=\"data row4 col52\" >-0.30</td>\n",
       "      <td id=\"T_58518_row4_col53\" class=\"data row4 col53\" >-0.10</td>\n",
       "      <td id=\"T_58518_row4_col54\" class=\"data row4 col54\" >-0.09</td>\n",
       "      <td id=\"T_58518_row4_col55\" class=\"data row4 col55\" >-0.19</td>\n",
       "      <td id=\"T_58518_row4_col56\" class=\"data row4 col56\" >-0.23</td>\n",
       "    </tr>\n",
       "    <tr>\n",
       "      <td id=\"T_58518_row5_col0\" class=\"data row5 col0\" >-0.35</td>\n",
       "      <td id=\"T_58518_row5_col1\" class=\"data row5 col1\" >-0.16</td>\n",
       "      <td id=\"T_58518_row5_col2\" class=\"data row5 col2\" >-0.56</td>\n",
       "      <td id=\"T_58518_row5_col3\" class=\"data row5 col3\" >-0.05</td>\n",
       "      <td id=\"T_58518_row5_col4\" class=\"data row5 col4\" >-0.46</td>\n",
       "      <td id=\"T_58518_row5_col5\" class=\"data row5 col5\" >-0.36</td>\n",
       "      <td id=\"T_58518_row5_col6\" class=\"data row5 col6\" >-0.29</td>\n",
       "      <td id=\"T_58518_row5_col7\" class=\"data row5 col7\" >-0.26</td>\n",
       "      <td id=\"T_58518_row5_col8\" class=\"data row5 col8\" >2.35</td>\n",
       "      <td id=\"T_58518_row5_col9\" class=\"data row5 col9\" >-0.37</td>\n",
       "      <td id=\"T_58518_row5_col10\" class=\"data row5 col10\" >-0.30</td>\n",
       "      <td id=\"T_58518_row5_col11\" class=\"data row5 col11\" >-0.63</td>\n",
       "      <td id=\"T_58518_row5_col12\" class=\"data row5 col12\" >-0.30</td>\n",
       "      <td id=\"T_58518_row5_col13\" class=\"data row5 col13\" >-0.17</td>\n",
       "      <td id=\"T_58518_row5_col14\" class=\"data row5 col14\" >-0.19</td>\n",
       "      <td id=\"T_58518_row5_col15\" class=\"data row5 col15\" >-0.32</td>\n",
       "      <td id=\"T_58518_row5_col16\" class=\"data row5 col16\" >-0.31</td>\n",
       "      <td id=\"T_58518_row5_col17\" class=\"data row5 col17\" >-0.35</td>\n",
       "      <td id=\"T_58518_row5_col18\" class=\"data row5 col18\" >0.30</td>\n",
       "      <td id=\"T_58518_row5_col19\" class=\"data row5 col19\" >-0.16</td>\n",
       "      <td id=\"T_58518_row5_col20\" class=\"data row5 col20\" >-0.67</td>\n",
       "      <td id=\"T_58518_row5_col21\" class=\"data row5 col21\" >-0.12</td>\n",
       "      <td id=\"T_58518_row5_col22\" class=\"data row5 col22\" >-0.29</td>\n",
       "      <td id=\"T_58518_row5_col23\" class=\"data row5 col23\" >-0.21</td>\n",
       "      <td id=\"T_58518_row5_col24\" class=\"data row5 col24\" >-0.34</td>\n",
       "      <td id=\"T_58518_row5_col25\" class=\"data row5 col25\" >-0.30</td>\n",
       "      <td id=\"T_58518_row5_col26\" class=\"data row5 col26\" >-0.23</td>\n",
       "      <td id=\"T_58518_row5_col27\" class=\"data row5 col27\" >-0.23</td>\n",
       "      <td id=\"T_58518_row5_col28\" class=\"data row5 col28\" >-0.18</td>\n",
       "      <td id=\"T_58518_row5_col29\" class=\"data row5 col29\" >-0.22</td>\n",
       "      <td id=\"T_58518_row5_col30\" class=\"data row5 col30\" >-0.16</td>\n",
       "      <td id=\"T_58518_row5_col31\" class=\"data row5 col31\" >-0.14</td>\n",
       "      <td id=\"T_58518_row5_col32\" class=\"data row5 col32\" >-0.17</td>\n",
       "      <td id=\"T_58518_row5_col33\" class=\"data row5 col33\" >-0.15</td>\n",
       "      <td id=\"T_58518_row5_col34\" class=\"data row5 col34\" >-0.19</td>\n",
       "      <td id=\"T_58518_row5_col35\" class=\"data row5 col35\" >-0.24</td>\n",
       "      <td id=\"T_58518_row5_col36\" class=\"data row5 col36\" >-0.32</td>\n",
       "      <td id=\"T_58518_row5_col37\" class=\"data row5 col37\" >-0.06</td>\n",
       "      <td id=\"T_58518_row5_col38\" class=\"data row5 col38\" >1.58</td>\n",
       "      <td id=\"T_58518_row5_col39\" class=\"data row5 col39\" >-0.18</td>\n",
       "      <td id=\"T_58518_row5_col40\" class=\"data row5 col40\" >-0.13</td>\n",
       "      <td id=\"T_58518_row5_col41\" class=\"data row5 col41\" >-0.18</td>\n",
       "      <td id=\"T_58518_row5_col42\" class=\"data row5 col42\" >-0.21</td>\n",
       "      <td id=\"T_58518_row5_col43\" class=\"data row5 col43\" >-0.12</td>\n",
       "      <td id=\"T_58518_row5_col44\" class=\"data row5 col44\" >0.46</td>\n",
       "      <td id=\"T_58518_row5_col45\" class=\"data row5 col45\" >-0.20</td>\n",
       "      <td id=\"T_58518_row5_col46\" class=\"data row5 col46\" >-0.07</td>\n",
       "      <td id=\"T_58518_row5_col47\" class=\"data row5 col47\" >-0.11</td>\n",
       "      <td id=\"T_58518_row5_col48\" class=\"data row5 col48\" >-0.16</td>\n",
       "      <td id=\"T_58518_row5_col49\" class=\"data row5 col49\" >0.48</td>\n",
       "      <td id=\"T_58518_row5_col50\" class=\"data row5 col50\" >-0.19</td>\n",
       "      <td id=\"T_58518_row5_col51\" class=\"data row5 col51\" >0.32</td>\n",
       "      <td id=\"T_58518_row5_col52\" class=\"data row5 col52\" >-0.30</td>\n",
       "      <td id=\"T_58518_row5_col53\" class=\"data row5 col53\" >-0.10</td>\n",
       "      <td id=\"T_58518_row5_col54\" class=\"data row5 col54\" >-0.08</td>\n",
       "      <td id=\"T_58518_row5_col55\" class=\"data row5 col55\" >-0.18</td>\n",
       "      <td id=\"T_58518_row5_col56\" class=\"data row5 col56\" >-0.34</td>\n",
       "    </tr>\n",
       "    <tr>\n",
       "      <td id=\"T_58518_row6_col0\" class=\"data row6 col0\" >1.42</td>\n",
       "      <td id=\"T_58518_row6_col1\" class=\"data row6 col1\" >-0.16</td>\n",
       "      <td id=\"T_58518_row6_col2\" class=\"data row6 col2\" >-0.56</td>\n",
       "      <td id=\"T_58518_row6_col3\" class=\"data row6 col3\" >-0.05</td>\n",
       "      <td id=\"T_58518_row6_col4\" class=\"data row6 col4\" >-0.46</td>\n",
       "      <td id=\"T_58518_row6_col5\" class=\"data row6 col5\" >0.65</td>\n",
       "      <td id=\"T_58518_row6_col6\" class=\"data row6 col6\" >-0.29</td>\n",
       "      <td id=\"T_58518_row6_col7\" class=\"data row6 col7\" >-0.26</td>\n",
       "      <td id=\"T_58518_row6_col8\" class=\"data row6 col8\" >-0.32</td>\n",
       "      <td id=\"T_58518_row6_col9\" class=\"data row6 col9\" >-0.37</td>\n",
       "      <td id=\"T_58518_row6_col10\" class=\"data row6 col10\" >-0.30</td>\n",
       "      <td id=\"T_58518_row6_col11\" class=\"data row6 col11\" >-0.63</td>\n",
       "      <td id=\"T_58518_row6_col12\" class=\"data row6 col12\" >1.45</td>\n",
       "      <td id=\"T_58518_row6_col13\" class=\"data row6 col13\" >-0.17</td>\n",
       "      <td id=\"T_58518_row6_col14\" class=\"data row6 col14\" >-0.19</td>\n",
       "      <td id=\"T_58518_row6_col15\" class=\"data row6 col15\" >-0.32</td>\n",
       "      <td id=\"T_58518_row6_col16\" class=\"data row6 col16\" >-0.31</td>\n",
       "      <td id=\"T_58518_row6_col17\" class=\"data row6 col17\" >-0.35</td>\n",
       "      <td id=\"T_58518_row6_col18\" class=\"data row6 col18\" >1.18</td>\n",
       "      <td id=\"T_58518_row6_col19\" class=\"data row6 col19\" >-0.16</td>\n",
       "      <td id=\"T_58518_row6_col20\" class=\"data row6 col20\" >-0.23</td>\n",
       "      <td id=\"T_58518_row6_col21\" class=\"data row6 col21\" >-0.12</td>\n",
       "      <td id=\"T_58518_row6_col22\" class=\"data row6 col22\" >-0.29</td>\n",
       "      <td id=\"T_58518_row6_col23\" class=\"data row6 col23\" >-0.21</td>\n",
       "      <td id=\"T_58518_row6_col24\" class=\"data row6 col24\" >-0.17</td>\n",
       "      <td id=\"T_58518_row6_col25\" class=\"data row6 col25\" >-0.30</td>\n",
       "      <td id=\"T_58518_row6_col26\" class=\"data row6 col26\" >-0.23</td>\n",
       "      <td id=\"T_58518_row6_col27\" class=\"data row6 col27\" >-0.23</td>\n",
       "      <td id=\"T_58518_row6_col28\" class=\"data row6 col28\" >-0.18</td>\n",
       "      <td id=\"T_58518_row6_col29\" class=\"data row6 col29\" >-0.22</td>\n",
       "      <td id=\"T_58518_row6_col30\" class=\"data row6 col30\" >1.11</td>\n",
       "      <td id=\"T_58518_row6_col31\" class=\"data row6 col31\" >-0.14</td>\n",
       "      <td id=\"T_58518_row6_col32\" class=\"data row6 col32\" >-0.17</td>\n",
       "      <td id=\"T_58518_row6_col33\" class=\"data row6 col33\" >-0.15</td>\n",
       "      <td id=\"T_58518_row6_col34\" class=\"data row6 col34\" >0.28</td>\n",
       "      <td id=\"T_58518_row6_col35\" class=\"data row6 col35\" >-0.24</td>\n",
       "      <td id=\"T_58518_row6_col36\" class=\"data row6 col36\" >-0.32</td>\n",
       "      <td id=\"T_58518_row6_col37\" class=\"data row6 col37\" >-0.06</td>\n",
       "      <td id=\"T_58518_row6_col38\" class=\"data row6 col38\" >-0.18</td>\n",
       "      <td id=\"T_58518_row6_col39\" class=\"data row6 col39\" >-0.18</td>\n",
       "      <td id=\"T_58518_row6_col40\" class=\"data row6 col40\" >-0.13</td>\n",
       "      <td id=\"T_58518_row6_col41\" class=\"data row6 col41\" >-0.18</td>\n",
       "      <td id=\"T_58518_row6_col42\" class=\"data row6 col42\" >-0.21</td>\n",
       "      <td id=\"T_58518_row6_col43\" class=\"data row6 col43\" >-0.12</td>\n",
       "      <td id=\"T_58518_row6_col44\" class=\"data row6 col44\" >-0.30</td>\n",
       "      <td id=\"T_58518_row6_col45\" class=\"data row6 col45\" >-0.20</td>\n",
       "      <td id=\"T_58518_row6_col46\" class=\"data row6 col46\" >-0.07</td>\n",
       "      <td id=\"T_58518_row6_col47\" class=\"data row6 col47\" >-0.11</td>\n",
       "      <td id=\"T_58518_row6_col48\" class=\"data row6 col48\" >-0.16</td>\n",
       "      <td id=\"T_58518_row6_col49\" class=\"data row6 col49\" >1.02</td>\n",
       "      <td id=\"T_58518_row6_col50\" class=\"data row6 col50\" >-0.19</td>\n",
       "      <td id=\"T_58518_row6_col51\" class=\"data row6 col51\" >-0.31</td>\n",
       "      <td id=\"T_58518_row6_col52\" class=\"data row6 col52\" >0.01</td>\n",
       "      <td id=\"T_58518_row6_col53\" class=\"data row6 col53\" >-0.10</td>\n",
       "      <td id=\"T_58518_row6_col54\" class=\"data row6 col54\" >-0.10</td>\n",
       "      <td id=\"T_58518_row6_col55\" class=\"data row6 col55\" >-0.17</td>\n",
       "      <td id=\"T_58518_row6_col56\" class=\"data row6 col56\" >-0.29</td>\n",
       "    </tr>\n",
       "    <tr>\n",
       "      <td id=\"T_58518_row7_col0\" class=\"data row7 col0\" >-0.35</td>\n",
       "      <td id=\"T_58518_row7_col1\" class=\"data row7 col1\" >-0.02</td>\n",
       "      <td id=\"T_58518_row7_col2\" class=\"data row7 col2\" >-0.56</td>\n",
       "      <td id=\"T_58518_row7_col3\" class=\"data row7 col3\" >-0.05</td>\n",
       "      <td id=\"T_58518_row7_col4\" class=\"data row7 col4\" >-0.20</td>\n",
       "      <td id=\"T_58518_row7_col5\" class=\"data row7 col5\" >-0.36</td>\n",
       "      <td id=\"T_58518_row7_col6\" class=\"data row7 col6\" >-0.29</td>\n",
       "      <td id=\"T_58518_row7_col7\" class=\"data row7 col7\" >0.66</td>\n",
       "      <td id=\"T_58518_row7_col8\" class=\"data row7 col8\" >-0.32</td>\n",
       "      <td id=\"T_58518_row7_col9\" class=\"data row7 col9\" >-0.37</td>\n",
       "      <td id=\"T_58518_row7_col10\" class=\"data row7 col10\" >-0.30</td>\n",
       "      <td id=\"T_58518_row7_col11\" class=\"data row7 col11\" >0.45</td>\n",
       "      <td id=\"T_58518_row7_col12\" class=\"data row7 col12\" >-0.30</td>\n",
       "      <td id=\"T_58518_row7_col13\" class=\"data row7 col13\" >-0.17</td>\n",
       "      <td id=\"T_58518_row7_col14\" class=\"data row7 col14\" >-0.19</td>\n",
       "      <td id=\"T_58518_row7_col15\" class=\"data row7 col15\" >-0.32</td>\n",
       "      <td id=\"T_58518_row7_col16\" class=\"data row7 col16\" >3.74</td>\n",
       "      <td id=\"T_58518_row7_col17\" class=\"data row7 col17\" >-0.35</td>\n",
       "      <td id=\"T_58518_row7_col18\" class=\"data row7 col18\" >-0.84</td>\n",
       "      <td id=\"T_58518_row7_col19\" class=\"data row7 col19\" >-0.16</td>\n",
       "      <td id=\"T_58518_row7_col20\" class=\"data row7 col20\" >-0.67</td>\n",
       "      <td id=\"T_58518_row7_col21\" class=\"data row7 col21\" >-0.12</td>\n",
       "      <td id=\"T_58518_row7_col22\" class=\"data row7 col22\" >-0.29</td>\n",
       "      <td id=\"T_58518_row7_col23\" class=\"data row7 col23\" >-0.21</td>\n",
       "      <td id=\"T_58518_row7_col24\" class=\"data row7 col24\" >-0.10</td>\n",
       "      <td id=\"T_58518_row7_col25\" class=\"data row7 col25\" >-0.10</td>\n",
       "      <td id=\"T_58518_row7_col26\" class=\"data row7 col26\" >-0.23</td>\n",
       "      <td id=\"T_58518_row7_col27\" class=\"data row7 col27\" >-0.23</td>\n",
       "      <td id=\"T_58518_row7_col28\" class=\"data row7 col28\" >-0.18</td>\n",
       "      <td id=\"T_58518_row7_col29\" class=\"data row7 col29\" >0.16</td>\n",
       "      <td id=\"T_58518_row7_col30\" class=\"data row7 col30\" >-0.16</td>\n",
       "      <td id=\"T_58518_row7_col31\" class=\"data row7 col31\" >-0.14</td>\n",
       "      <td id=\"T_58518_row7_col32\" class=\"data row7 col32\" >-0.17</td>\n",
       "      <td id=\"T_58518_row7_col33\" class=\"data row7 col33\" >-0.15</td>\n",
       "      <td id=\"T_58518_row7_col34\" class=\"data row7 col34\" >-0.19</td>\n",
       "      <td id=\"T_58518_row7_col35\" class=\"data row7 col35\" >0.71</td>\n",
       "      <td id=\"T_58518_row7_col36\" class=\"data row7 col36\" >-0.32</td>\n",
       "      <td id=\"T_58518_row7_col37\" class=\"data row7 col37\" >-0.06</td>\n",
       "      <td id=\"T_58518_row7_col38\" class=\"data row7 col38\" >-0.18</td>\n",
       "      <td id=\"T_58518_row7_col39\" class=\"data row7 col39\" >-0.18</td>\n",
       "      <td id=\"T_58518_row7_col40\" class=\"data row7 col40\" >-0.13</td>\n",
       "      <td id=\"T_58518_row7_col41\" class=\"data row7 col41\" >-0.18</td>\n",
       "      <td id=\"T_58518_row7_col42\" class=\"data row7 col42\" >-0.21</td>\n",
       "      <td id=\"T_58518_row7_col43\" class=\"data row7 col43\" >-0.12</td>\n",
       "      <td id=\"T_58518_row7_col44\" class=\"data row7 col44\" >0.28</td>\n",
       "      <td id=\"T_58518_row7_col45\" class=\"data row7 col45\" >-0.20</td>\n",
       "      <td id=\"T_58518_row7_col46\" class=\"data row7 col46\" >-0.07</td>\n",
       "      <td id=\"T_58518_row7_col47\" class=\"data row7 col47\" >-0.11</td>\n",
       "      <td id=\"T_58518_row7_col48\" class=\"data row7 col48\" >-0.16</td>\n",
       "      <td id=\"T_58518_row7_col49\" class=\"data row7 col49\" >0.36</td>\n",
       "      <td id=\"T_58518_row7_col50\" class=\"data row7 col50\" >-0.19</td>\n",
       "      <td id=\"T_58518_row7_col51\" class=\"data row7 col51\" >-0.31</td>\n",
       "      <td id=\"T_58518_row7_col52\" class=\"data row7 col52\" >-0.30</td>\n",
       "      <td id=\"T_58518_row7_col53\" class=\"data row7 col53\" >-0.10</td>\n",
       "      <td id=\"T_58518_row7_col54\" class=\"data row7 col54\" >-0.11</td>\n",
       "      <td id=\"T_58518_row7_col55\" class=\"data row7 col55\" >-0.21</td>\n",
       "      <td id=\"T_58518_row7_col56\" class=\"data row7 col56\" >-0.19</td>\n",
       "    </tr>\n",
       "    <tr>\n",
       "      <td id=\"T_58518_row8_col0\" class=\"data row8 col0\" >-0.35</td>\n",
       "      <td id=\"T_58518_row8_col1\" class=\"data row8 col1\" >-0.16</td>\n",
       "      <td id=\"T_58518_row8_col2\" class=\"data row8 col2\" >3.33</td>\n",
       "      <td id=\"T_58518_row8_col3\" class=\"data row8 col3\" >-0.05</td>\n",
       "      <td id=\"T_58518_row8_col4\" class=\"data row8 col4\" >1.01</td>\n",
       "      <td id=\"T_58518_row8_col5\" class=\"data row8 col5\" >-0.36</td>\n",
       "      <td id=\"T_58518_row8_col6\" class=\"data row8 col6\" >-0.29</td>\n",
       "      <td id=\"T_58518_row8_col7\" class=\"data row8 col7\" >-0.26</td>\n",
       "      <td id=\"T_58518_row8_col8\" class=\"data row8 col8\" >-0.32</td>\n",
       "      <td id=\"T_58518_row8_col9\" class=\"data row8 col9\" >-0.37</td>\n",
       "      <td id=\"T_58518_row8_col10\" class=\"data row8 col10\" >-0.30</td>\n",
       "      <td id=\"T_58518_row8_col11\" class=\"data row8 col11\" >1.65</td>\n",
       "      <td id=\"T_58518_row8_col12\" class=\"data row8 col12\" >-0.30</td>\n",
       "      <td id=\"T_58518_row8_col13\" class=\"data row8 col13\" >-0.17</td>\n",
       "      <td id=\"T_58518_row8_col14\" class=\"data row8 col14\" >-0.19</td>\n",
       "      <td id=\"T_58518_row8_col15\" class=\"data row8 col15\" >-0.32</td>\n",
       "      <td id=\"T_58518_row8_col16\" class=\"data row8 col16\" >-0.31</td>\n",
       "      <td id=\"T_58518_row8_col17\" class=\"data row8 col17\" >-0.35</td>\n",
       "      <td id=\"T_58518_row8_col18\" class=\"data row8 col18\" >1.83</td>\n",
       "      <td id=\"T_58518_row8_col19\" class=\"data row8 col19\" >-0.16</td>\n",
       "      <td id=\"T_58518_row8_col20\" class=\"data row8 col20\" >0.13</td>\n",
       "      <td id=\"T_58518_row8_col21\" class=\"data row8 col21\" >-0.12</td>\n",
       "      <td id=\"T_58518_row8_col22\" class=\"data row8 col22\" >-0.29</td>\n",
       "      <td id=\"T_58518_row8_col23\" class=\"data row8 col23\" >-0.21</td>\n",
       "      <td id=\"T_58518_row8_col24\" class=\"data row8 col24\" >-0.34</td>\n",
       "      <td id=\"T_58518_row8_col25\" class=\"data row8 col25\" >-0.30</td>\n",
       "      <td id=\"T_58518_row8_col26\" class=\"data row8 col26\" >-0.23</td>\n",
       "      <td id=\"T_58518_row8_col27\" class=\"data row8 col27\" >-0.23</td>\n",
       "      <td id=\"T_58518_row8_col28\" class=\"data row8 col28\" >-0.18</td>\n",
       "      <td id=\"T_58518_row8_col29\" class=\"data row8 col29\" >-0.22</td>\n",
       "      <td id=\"T_58518_row8_col30\" class=\"data row8 col30\" >-0.16</td>\n",
       "      <td id=\"T_58518_row8_col31\" class=\"data row8 col31\" >-0.14</td>\n",
       "      <td id=\"T_58518_row8_col32\" class=\"data row8 col32\" >-0.17</td>\n",
       "      <td id=\"T_58518_row8_col33\" class=\"data row8 col33\" >-0.15</td>\n",
       "      <td id=\"T_58518_row8_col34\" class=\"data row8 col34\" >-0.19</td>\n",
       "      <td id=\"T_58518_row8_col35\" class=\"data row8 col35\" >-0.24</td>\n",
       "      <td id=\"T_58518_row8_col36\" class=\"data row8 col36\" >-0.32</td>\n",
       "      <td id=\"T_58518_row8_col37\" class=\"data row8 col37\" >-0.06</td>\n",
       "      <td id=\"T_58518_row8_col38\" class=\"data row8 col38\" >2.18</td>\n",
       "      <td id=\"T_58518_row8_col39\" class=\"data row8 col39\" >-0.18</td>\n",
       "      <td id=\"T_58518_row8_col40\" class=\"data row8 col40\" >-0.13</td>\n",
       "      <td id=\"T_58518_row8_col41\" class=\"data row8 col41\" >2.37</td>\n",
       "      <td id=\"T_58518_row8_col42\" class=\"data row8 col42\" >-0.21</td>\n",
       "      <td id=\"T_58518_row8_col43\" class=\"data row8 col43\" >-0.12</td>\n",
       "      <td id=\"T_58518_row8_col44\" class=\"data row8 col44\" >-0.30</td>\n",
       "      <td id=\"T_58518_row8_col45\" class=\"data row8 col45\" >-0.20</td>\n",
       "      <td id=\"T_58518_row8_col46\" class=\"data row8 col46\" >-0.07</td>\n",
       "      <td id=\"T_58518_row8_col47\" class=\"data row8 col47\" >-0.11</td>\n",
       "      <td id=\"T_58518_row8_col48\" class=\"data row8 col48\" >-0.16</td>\n",
       "      <td id=\"T_58518_row8_col49\" class=\"data row8 col49\" >-0.48</td>\n",
       "      <td id=\"T_58518_row8_col50\" class=\"data row8 col50\" >-0.19</td>\n",
       "      <td id=\"T_58518_row8_col51\" class=\"data row8 col51\" >-0.31</td>\n",
       "      <td id=\"T_58518_row8_col52\" class=\"data row8 col52\" >-0.30</td>\n",
       "      <td id=\"T_58518_row8_col53\" class=\"data row8 col53\" >-0.10</td>\n",
       "      <td id=\"T_58518_row8_col54\" class=\"data row8 col54\" >-0.12</td>\n",
       "      <td id=\"T_58518_row8_col55\" class=\"data row8 col55\" >-0.23</td>\n",
       "      <td id=\"T_58518_row8_col56\" class=\"data row8 col56\" >-0.42</td>\n",
       "    </tr>\n",
       "    <tr>\n",
       "      <td id=\"T_58518_row9_col0\" class=\"data row9 col0\" >-0.35</td>\n",
       "      <td id=\"T_58518_row9_col1\" class=\"data row9 col1\" >-0.16</td>\n",
       "      <td id=\"T_58518_row9_col2\" class=\"data row9 col2\" >-0.56</td>\n",
       "      <td id=\"T_58518_row9_col3\" class=\"data row9 col3\" >-0.05</td>\n",
       "      <td id=\"T_58518_row9_col4\" class=\"data row9 col4\" >-0.46</td>\n",
       "      <td id=\"T_58518_row9_col5\" class=\"data row9 col5\" >-0.36</td>\n",
       "      <td id=\"T_58518_row9_col6\" class=\"data row9 col6\" >-0.29</td>\n",
       "      <td id=\"T_58518_row9_col7\" class=\"data row9 col7\" >-0.26</td>\n",
       "      <td id=\"T_58518_row9_col8\" class=\"data row9 col8\" >-0.32</td>\n",
       "      <td id=\"T_58518_row9_col9\" class=\"data row9 col9\" >1.79</td>\n",
       "      <td id=\"T_58518_row9_col10\" class=\"data row9 col10\" >-0.30</td>\n",
       "      <td id=\"T_58518_row9_col11\" class=\"data row9 col11\" >-0.63</td>\n",
       "      <td id=\"T_58518_row9_col12\" class=\"data row9 col12\" >-0.30</td>\n",
       "      <td id=\"T_58518_row9_col13\" class=\"data row9 col13\" >-0.17</td>\n",
       "      <td id=\"T_58518_row9_col14\" class=\"data row9 col14\" >-0.19</td>\n",
       "      <td id=\"T_58518_row9_col15\" class=\"data row9 col15\" >-0.32</td>\n",
       "      <td id=\"T_58518_row9_col16\" class=\"data row9 col16\" >-0.31</td>\n",
       "      <td id=\"T_58518_row9_col17\" class=\"data row9 col17\" >-0.35</td>\n",
       "      <td id=\"T_58518_row9_col18\" class=\"data row9 col18\" >1.38</td>\n",
       "      <td id=\"T_58518_row9_col19\" class=\"data row9 col19\" >-0.16</td>\n",
       "      <td id=\"T_58518_row9_col20\" class=\"data row9 col20\" >-0.67</td>\n",
       "      <td id=\"T_58518_row9_col21\" class=\"data row9 col21\" >-0.12</td>\n",
       "      <td id=\"T_58518_row9_col22\" class=\"data row9 col22\" >-0.29</td>\n",
       "      <td id=\"T_58518_row9_col23\" class=\"data row9 col23\" >-0.21</td>\n",
       "      <td id=\"T_58518_row9_col24\" class=\"data row9 col24\" >-0.34</td>\n",
       "      <td id=\"T_58518_row9_col25\" class=\"data row9 col25\" >-0.30</td>\n",
       "      <td id=\"T_58518_row9_col26\" class=\"data row9 col26\" >-0.23</td>\n",
       "      <td id=\"T_58518_row9_col27\" class=\"data row9 col27\" >-0.23</td>\n",
       "      <td id=\"T_58518_row9_col28\" class=\"data row9 col28\" >-0.18</td>\n",
       "      <td id=\"T_58518_row9_col29\" class=\"data row9 col29\" >-0.22</td>\n",
       "      <td id=\"T_58518_row9_col30\" class=\"data row9 col30\" >-0.16</td>\n",
       "      <td id=\"T_58518_row9_col31\" class=\"data row9 col31\" >-0.14</td>\n",
       "      <td id=\"T_58518_row9_col32\" class=\"data row9 col32\" >-0.17</td>\n",
       "      <td id=\"T_58518_row9_col33\" class=\"data row9 col33\" >-0.15</td>\n",
       "      <td id=\"T_58518_row9_col34\" class=\"data row9 col34\" >-0.19</td>\n",
       "      <td id=\"T_58518_row9_col35\" class=\"data row9 col35\" >-0.24</td>\n",
       "      <td id=\"T_58518_row9_col36\" class=\"data row9 col36\" >-0.32</td>\n",
       "      <td id=\"T_58518_row9_col37\" class=\"data row9 col37\" >-0.06</td>\n",
       "      <td id=\"T_58518_row9_col38\" class=\"data row9 col38\" >-0.18</td>\n",
       "      <td id=\"T_58518_row9_col39\" class=\"data row9 col39\" >-0.18</td>\n",
       "      <td id=\"T_58518_row9_col40\" class=\"data row9 col40\" >-0.13</td>\n",
       "      <td id=\"T_58518_row9_col41\" class=\"data row9 col41\" >-0.18</td>\n",
       "      <td id=\"T_58518_row9_col42\" class=\"data row9 col42\" >-0.21</td>\n",
       "      <td id=\"T_58518_row9_col43\" class=\"data row9 col43\" >-0.12</td>\n",
       "      <td id=\"T_58518_row9_col44\" class=\"data row9 col44\" >-0.30</td>\n",
       "      <td id=\"T_58518_row9_col45\" class=\"data row9 col45\" >1.34</td>\n",
       "      <td id=\"T_58518_row9_col46\" class=\"data row9 col46\" >-0.07</td>\n",
       "      <td id=\"T_58518_row9_col47\" class=\"data row9 col47\" >-0.11</td>\n",
       "      <td id=\"T_58518_row9_col48\" class=\"data row9 col48\" >-0.16</td>\n",
       "      <td id=\"T_58518_row9_col49\" class=\"data row9 col49\" >-0.48</td>\n",
       "      <td id=\"T_58518_row9_col50\" class=\"data row9 col50\" >-0.19</td>\n",
       "      <td id=\"T_58518_row9_col51\" class=\"data row9 col51\" >-0.31</td>\n",
       "      <td id=\"T_58518_row9_col52\" class=\"data row9 col52\" >-0.30</td>\n",
       "      <td id=\"T_58518_row9_col53\" class=\"data row9 col53\" >-0.10</td>\n",
       "      <td id=\"T_58518_row9_col54\" class=\"data row9 col54\" >-0.11</td>\n",
       "      <td id=\"T_58518_row9_col55\" class=\"data row9 col55\" >-0.23</td>\n",
       "      <td id=\"T_58518_row9_col56\" class=\"data row9 col56\" >-0.42</td>\n",
       "    </tr>\n",
       "  </tbody>\n",
       "</table>\n"
      ],
      "text/plain": [
       "<pandas.io.formats.style.Styler at 0x14b3613d0>"
      ]
     },
     "execution_count": 37,
     "metadata": {},
     "output_type": "execute_result"
    }
   ],
   "source": [
    "pandas_processx.return_formatted_table \\\n",
    "    (x_train_scaled_smoteen_dataframe, \n",
    "     'Table 2.7.5: Scaled Features Training SMOTEEN Data')"
   ]
  },
  {
   "cell_type": "markdown",
   "metadata": {},
   "source": [
    "# <br> **Section 3: Logistic Regression Models**"
   ]
  },
  {
   "cell_type": "markdown",
   "metadata": {},
   "source": [
    "## **3.1: Fit Models by Using the Scaled Training Data.**"
   ]
  },
  {
   "cell_type": "markdown",
   "metadata": {},
   "source": [
    "### **Original**"
   ]
  },
  {
   "cell_type": "code",
   "execution_count": 38,
   "metadata": {},
   "outputs": [],
   "source": [
    "lr_grid_search_model \\\n",
    "    = pickle.load(open(spam_detector_constants.CONSTANT_LR_GRID_SEARCH_MODEL_FILE_PATH, 'rb'))\n",
    "\n",
    "logistic_regression_model \\\n",
    "    = LogisticRegression \\\n",
    "        (class_weight = lr_grid_search_model.best_params_['class_weight'],\n",
    "         solver = lr_grid_search_model.best_params_['solver'],\n",
    "         multi_class = lr_grid_search_model.best_params_['multi_class'],\n",
    "         max_iter = spam_detector_constants.CONSTANT_ML_LR_MAX_ITERATIONS,\n",
    "         random_state = spam_detector_constants.CONSTANT_ML_RANDOM_STATE_1) \\\n",
    "            .fit(x_train_scaled_dataframe, y_train_series)"
   ]
  },
  {
   "cell_type": "markdown",
   "metadata": {},
   "source": [
    "### **Random Undersampling**"
   ]
  },
  {
   "cell_type": "code",
   "execution_count": 39,
   "metadata": {},
   "outputs": [],
   "source": [
    "lr_undersampled_grid_search_model \\\n",
    "    = pickle.load \\\n",
    "        (open(spam_detector_constants.CONSTANT_LR_UNDERSAMPLED_GRID_SEARCH_MODEL_FILE_PATH, 'rb'))\n",
    "\n",
    "logistic_regression_undersampled_model \\\n",
    "    = LogisticRegression \\\n",
    "        (class_weight = lr_undersampled_grid_search_model.best_params_['class_weight'],\n",
    "         solver = lr_undersampled_grid_search_model.best_params_['solver'],\n",
    "         multi_class = lr_undersampled_grid_search_model.best_params_['multi_class'],\n",
    "         max_iter = spam_detector_constants.CONSTANT_ML_LR_MAX_ITERATIONS,\n",
    "         random_state = spam_detector_constants.CONSTANT_ML_RANDOM_STATE_1) \\\n",
    "            .fit(x_train_scaled_undersampled_dataframe, y_train_undersampled_series)"
   ]
  },
  {
   "cell_type": "markdown",
   "metadata": {},
   "source": [
    "### **Random Oversampling**"
   ]
  },
  {
   "cell_type": "code",
   "execution_count": 40,
   "metadata": {},
   "outputs": [],
   "source": [
    "lr_oversampled_grid_search_model \\\n",
    "    = pickle.load \\\n",
    "        (open(spam_detector_constants.CONSTANT_LR_OVERSAMPLED_GRID_SEARCH_MODEL_FILE_PATH, 'rb'))\n",
    "\n",
    "logistic_regression_oversampled_model \\\n",
    "    = LogisticRegression \\\n",
    "        (class_weight = lr_oversampled_grid_search_model.best_params_['class_weight'],\n",
    "         solver = lr_oversampled_grid_search_model.best_params_['solver'],\n",
    "         multi_class = lr_oversampled_grid_search_model.best_params_['multi_class'],\n",
    "         max_iter = spam_detector_constants.CONSTANT_ML_LR_MAX_ITERATIONS,\n",
    "         random_state = spam_detector_constants.CONSTANT_ML_RANDOM_STATE_1) \\\n",
    "            .fit(x_train_scaled_oversampled_dataframe, y_train_oversampled_series)"
   ]
  },
  {
   "cell_type": "markdown",
   "metadata": {},
   "source": [
    "### **Cluster Centroids**"
   ]
  },
  {
   "cell_type": "code",
   "execution_count": 41,
   "metadata": {},
   "outputs": [],
   "source": [
    "lr_cluster_centroids_grid_search_model \\\n",
    "    = pickle.load \\\n",
    "        (open(spam_detector_constants.CONSTANT_LR_CENTROIDS_GRID_SEARCH_MODEL_FILE_PATH, 'rb'))\n",
    "\n",
    "logistic_regression_cluster_centroids_model \\\n",
    "    = LogisticRegression \\\n",
    "        (class_weight = lr_cluster_centroids_grid_search_model.best_params_['class_weight'],\n",
    "         solver = lr_cluster_centroids_grid_search_model.best_params_['solver'],\n",
    "         multi_class = lr_cluster_centroids_grid_search_model.best_params_['multi_class'],\n",
    "         max_iter = spam_detector_constants.CONSTANT_ML_LR_MAX_ITERATIONS,\n",
    "         random_state = spam_detector_constants.CONSTANT_ML_RANDOM_STATE_1) \\\n",
    "            .fit(x_train_scaled_cluster_centroids_dataframe, y_train_cluster_centroids_series)"
   ]
  },
  {
   "cell_type": "markdown",
   "metadata": {},
   "source": [
    "### **Smote**"
   ]
  },
  {
   "cell_type": "code",
   "execution_count": 42,
   "metadata": {},
   "outputs": [],
   "source": [
    "lr_smote_grid_search_model \\\n",
    "    = pickle.load \\\n",
    "        (open(spam_detector_constants.CONSTANT_LR_SMOTE_GRID_SEARCH_MODEL_FILE_PATH, 'rb'))\n",
    "\n",
    "logistic_regression_smote_model \\\n",
    "    = LogisticRegression \\\n",
    "        (class_weight = lr_smote_grid_search_model.best_params_['class_weight'],\n",
    "         solver = lr_smote_grid_search_model.best_params_['solver'],\n",
    "         multi_class = lr_smote_grid_search_model.best_params_['multi_class'],\n",
    "         max_iter = spam_detector_constants.CONSTANT_ML_LR_MAX_ITERATIONS,\n",
    "         random_state = spam_detector_constants.CONSTANT_ML_RANDOM_STATE_1) \\\n",
    "            .fit(x_train_scaled_smote_dataframe, y_train_smote_series)"
   ]
  },
  {
   "cell_type": "markdown",
   "metadata": {},
   "source": [
    "### **Smoteen**"
   ]
  },
  {
   "cell_type": "code",
   "execution_count": 43,
   "metadata": {},
   "outputs": [],
   "source": [
    "lr_smoteen_grid_search_model \\\n",
    "    = pickle.load \\\n",
    "        (open(spam_detector_constants.CONSTANT_LR_SMOTEEN_GRID_SEARCH_MODEL_FILE_PATH, 'rb'))\n",
    "\n",
    "logistic_regression_smoteen_model \\\n",
    "    = LogisticRegression \\\n",
    "        (class_weight = lr_smoteen_grid_search_model.best_params_['class_weight'],\n",
    "         solver = lr_smoteen_grid_search_model.best_params_['solver'],\n",
    "         multi_class = lr_smoteen_grid_search_model.best_params_['multi_class'],\n",
    "         max_iter = spam_detector_constants.CONSTANT_ML_LR_MAX_ITERATIONS,\n",
    "         random_state = spam_detector_constants.CONSTANT_ML_RANDOM_STATE_1) \\\n",
    "            .fit(x_train_scaled_smoteen_dataframe, y_train_smoteen_series)"
   ]
  },
  {
   "cell_type": "markdown",
   "metadata": {},
   "source": [
    "## **3.2: Display the Model Scores Using the Scaled Training and Testing data.**"
   ]
  },
  {
   "cell_type": "markdown",
   "metadata": {},
   "source": [
    "### **Original**"
   ]
  },
  {
   "cell_type": "code",
   "execution_count": 44,
   "metadata": {},
   "outputs": [
    {
     "name": "stdout",
     "output_type": "stream",
     "text": [
      "\u001b[1mThe logistic regression model score from scaled training data is 92.81%\u001b[0m\n"
     ]
    }
   ],
   "source": [
    "accuracy_score_train_float \\\n",
    "    = logistic_regression_model.score \\\n",
    "        (x_train_scaled_dataframe, y_train_series) * 100\n",
    "\n",
    "logx.print_and_log_text \\\n",
    "    ('\\033[1m'\n",
    "     + 'The logistic regression model score from scaled training data is {:.2f}%' \\\n",
    "         .format(accuracy_score_train_float) \n",
    "     + '\\033[0m')"
   ]
  },
  {
   "cell_type": "code",
   "execution_count": 45,
   "metadata": {},
   "outputs": [
    {
     "name": "stdout",
     "output_type": "stream",
     "text": [
      "\u001b[1mThe logistic regression model score from scaled test data is 90.88%\u001b[0m\n"
     ]
    }
   ],
   "source": [
    "accuracy_score_test_float \\\n",
    "    = logistic_regression_model.score \\\n",
    "        (x_test_scaled_dataframe, y_test_series) * 100\n",
    "\n",
    "logx.print_and_log_text \\\n",
    "    ('\\033[1m' \n",
    "     + 'The logistic regression model score from scaled test data is {:.2f}%' \\\n",
    "         .format(accuracy_score_test_float) \n",
    "     + '\\033[0m')"
   ]
  },
  {
   "cell_type": "markdown",
   "metadata": {},
   "source": [
    "### **Random Undersampling**"
   ]
  },
  {
   "cell_type": "code",
   "execution_count": 46,
   "metadata": {},
   "outputs": [
    {
     "name": "stdout",
     "output_type": "stream",
     "text": [
      "\u001b[1mThe logistic regression model score from undersampled scaled training data is 93.51%\u001b[0m\n"
     ]
    }
   ],
   "source": [
    "accuracy_score_train_float \\\n",
    "    = logistic_regression_undersampled_model.score \\\n",
    "        (x_train_scaled_dataframe, y_train_series) * 100\n",
    "\n",
    "logx.print_and_log_text \\\n",
    "    ('\\033[1m' \n",
    "     + 'The logistic regression model score from undersampled scaled training data is {:.2f}%' \\\n",
    "         .format(accuracy_score_train_float) \n",
    "     + '\\033[0m')"
   ]
  },
  {
   "cell_type": "code",
   "execution_count": 47,
   "metadata": {},
   "outputs": [
    {
     "name": "stdout",
     "output_type": "stream",
     "text": [
      "\u001b[1mThe logistic regression model score from undersampled scaled test data is 92.44%\u001b[0m\n"
     ]
    }
   ],
   "source": [
    "accuracy_score_test_float \\\n",
    "    = logistic_regression_undersampled_model.score \\\n",
    "        (x_test_scaled_dataframe, y_test_series) * 100\n",
    "\n",
    "logx.print_and_log_text \\\n",
    "    ('\\033[1m' \n",
    "     + 'The logistic regression model score from undersampled scaled test data is {:.2f}%' \\\n",
    "         .format(accuracy_score_test_float) \n",
    "     + '\\033[0m')"
   ]
  },
  {
   "cell_type": "markdown",
   "metadata": {},
   "source": [
    "### **Random Oversampling**"
   ]
  },
  {
   "cell_type": "code",
   "execution_count": 48,
   "metadata": {},
   "outputs": [
    {
     "name": "stdout",
     "output_type": "stream",
     "text": [
      "\u001b[1mThe logistic regression model score from overersampled scaled training data is 93.19%\u001b[0m\n"
     ]
    }
   ],
   "source": [
    "accuracy_score_train_float \\\n",
    "    = logistic_regression_oversampled_model.score \\\n",
    "        (x_train_scaled_dataframe, y_train_series) * 100\n",
    "\n",
    "logx.print_and_log_text \\\n",
    "    ('\\033[1m' \n",
    "     + 'The logistic regression model score from overersampled scaled training data is {:.2f}%' \\\n",
    "         .format(accuracy_score_train_float) \n",
    "     + '\\033[0m')"
   ]
  },
  {
   "cell_type": "code",
   "execution_count": 49,
   "metadata": {},
   "outputs": [
    {
     "name": "stdout",
     "output_type": "stream",
     "text": [
      "\u001b[1mThe logistic regression model score from oversampled scaled test data is 91.57%\u001b[0m\n"
     ]
    }
   ],
   "source": [
    "accuracy_score_test_float \\\n",
    "    = logistic_regression_oversampled_model.score \\\n",
    "        (x_test_scaled_dataframe, y_test_series) * 100\n",
    "\n",
    "logx.print_and_log_text \\\n",
    "    ('\\033[1m' \n",
    "     + 'The logistic regression model score from oversampled scaled test data is {:.2f}%' \\\n",
    "         .format(accuracy_score_test_float) \n",
    "     + '\\033[0m')"
   ]
  },
  {
   "cell_type": "markdown",
   "metadata": {},
   "source": [
    "### **Cluster Centroids**"
   ]
  },
  {
   "cell_type": "code",
   "execution_count": 50,
   "metadata": {},
   "outputs": [
    {
     "name": "stdout",
     "output_type": "stream",
     "text": [
      "\u001b[1mThe logistic regression model score from cluster centroids scaled training data is 91.19%\u001b[0m\n"
     ]
    }
   ],
   "source": [
    "accuracy_score_train_float \\\n",
    "    = logistic_regression_cluster_centroids_model.score \\\n",
    "        (x_train_scaled_dataframe, y_train_series) * 100\n",
    "\n",
    "logx.print_and_log_text \\\n",
    "    ('\\033[1m' \n",
    "     + 'The logistic regression model score from cluster centroids scaled training data is {:.2f}%' \\\n",
    "         .format(accuracy_score_train_float) \n",
    "     + '\\033[0m')"
   ]
  },
  {
   "cell_type": "code",
   "execution_count": 51,
   "metadata": {},
   "outputs": [
    {
     "name": "stdout",
     "output_type": "stream",
     "text": [
      "\u001b[1mThe logistic regression model score from cluster centroids scaled test data is 91.40%\u001b[0m\n"
     ]
    }
   ],
   "source": [
    "accuracy_score_test_float \\\n",
    "    = logistic_regression_cluster_centroids_model.score \\\n",
    "        (x_test_scaled_dataframe, y_test_series) * 100\n",
    "\n",
    "logx.print_and_log_text \\\n",
    "    ('\\033[1m' \n",
    "     + 'The logistic regression model score from cluster centroids scaled test data is {:.2f}%' \\\n",
    "         .format(accuracy_score_test_float) \n",
    "     + '\\033[0m')"
   ]
  },
  {
   "cell_type": "markdown",
   "metadata": {},
   "source": [
    "### **SMOTE**"
   ]
  },
  {
   "cell_type": "code",
   "execution_count": 52,
   "metadata": {},
   "outputs": [
    {
     "name": "stdout",
     "output_type": "stream",
     "text": [
      "\u001b[1mThe logistic regression model score from SMOTE scaled training data is 93.10%\u001b[0m\n"
     ]
    }
   ],
   "source": [
    "accuracy_score_train_float \\\n",
    "    = logistic_regression_smote_model.score \\\n",
    "        (x_train_scaled_dataframe, y_train_series) * 100\n",
    "\n",
    "logx.print_and_log_text \\\n",
    "    ('\\033[1m' \n",
    "     + 'The logistic regression model score from SMOTE scaled training data is {:.2f}%' \\\n",
    "         .format(accuracy_score_train_float) \n",
    "     + '\\033[0m')"
   ]
  },
  {
   "cell_type": "code",
   "execution_count": 53,
   "metadata": {},
   "outputs": [
    {
     "name": "stdout",
     "output_type": "stream",
     "text": [
      "\u001b[1mThe logistic regression model score from SMOTE scaled test data is 92.09%\u001b[0m\n"
     ]
    }
   ],
   "source": [
    "accuracy_score_test_float \\\n",
    "    = logistic_regression_smote_model.score \\\n",
    "        (x_test_scaled_dataframe, y_test_series) * 100\n",
    "\n",
    "logx.print_and_log_text \\\n",
    "    ('\\033[1m' \n",
    "     + 'The logistic regression model score from SMOTE scaled test data is {:.2f}%' \\\n",
    "         .format(accuracy_score_test_float) \n",
    "     + '\\033[0m')"
   ]
  },
  {
   "cell_type": "markdown",
   "metadata": {},
   "source": [
    "### **SMOTEEN**"
   ]
  },
  {
   "cell_type": "code",
   "execution_count": 54,
   "metadata": {},
   "outputs": [
    {
     "name": "stdout",
     "output_type": "stream",
     "text": [
      "\u001b[1mThe logistic regression model score from SMOTEEN scaled training data is 93.30%\u001b[0m\n"
     ]
    }
   ],
   "source": [
    "accuracy_score_train_float \\\n",
    "    = logistic_regression_smoteen_model.score \\\n",
    "        (x_train_scaled_dataframe, y_train_series) * 100\n",
    "\n",
    "logx.print_and_log_text \\\n",
    "    ('\\033[1m' \n",
    "     + 'The logistic regression model score from SMOTEEN scaled training data is {:.2f}%' \\\n",
    "         .format(accuracy_score_train_float) \n",
    "     + '\\033[0m')"
   ]
  },
  {
   "cell_type": "code",
   "execution_count": 55,
   "metadata": {},
   "outputs": [
    {
     "name": "stdout",
     "output_type": "stream",
     "text": [
      "\u001b[1mThe logistic regression model score from SMOTEEN scaled test data is 92.18%\u001b[0m\n"
     ]
    }
   ],
   "source": [
    "accuracy_score_test_float \\\n",
    "    = logistic_regression_smoteen_model.score \\\n",
    "        (x_test_scaled_dataframe, y_test_series) * 100\n",
    "\n",
    "logx.print_and_log_text \\\n",
    "    ('\\033[1m' \n",
    "     + 'The logistic regression model score from SMOTEEN scaled test data is {:.2f}%' \\\n",
    "         .format(accuracy_score_test_float) \n",
    "     + '\\033[0m')"
   ]
  },
  {
   "cell_type": "markdown",
   "metadata": {},
   "source": [
    "## **3.3: Calculate Training and Test Predictions.**"
   ]
  },
  {
   "cell_type": "markdown",
   "metadata": {},
   "source": [
    "### **Original**"
   ]
  },
  {
   "cell_type": "code",
   "execution_count": 56,
   "metadata": {},
   "outputs": [],
   "source": [
    "lr_train_predictions_dataframe \\\n",
    "    = classificationsx.return_predictions_dataframe \\\n",
    "        (logistic_regression_model,\n",
    "         x_train_scaled_dataframe,\n",
    "         y_train_series)\n",
    "\n",
    "logx.log_write_object(lr_train_predictions_dataframe)"
   ]
  },
  {
   "cell_type": "code",
   "execution_count": 57,
   "metadata": {},
   "outputs": [],
   "source": [
    "lr_test_predictions_dataframe \\\n",
    "    = classificationsx.return_predictions_dataframe \\\n",
    "        (logistic_regression_model,\n",
    "         x_test_scaled_dataframe,\n",
    "         y_test_series)\n",
    "\n",
    "logx.log_write_object(lr_test_predictions_dataframe)"
   ]
  },
  {
   "cell_type": "markdown",
   "metadata": {},
   "source": [
    "### **Random Undersampling**"
   ]
  },
  {
   "cell_type": "code",
   "execution_count": 58,
   "metadata": {},
   "outputs": [],
   "source": [
    "lr_train_undersampled_predictions_dataframe \\\n",
    "    = classificationsx.return_predictions_dataframe \\\n",
    "        (logistic_regression_undersampled_model,\n",
    "         x_train_scaled_dataframe,\n",
    "         y_train_series)\n",
    "\n",
    "logx.log_write_object(lr_train_undersampled_predictions_dataframe)"
   ]
  },
  {
   "cell_type": "code",
   "execution_count": 59,
   "metadata": {},
   "outputs": [],
   "source": [
    "lr_test_undersampled_predictions_dataframe \\\n",
    "    = classificationsx.return_predictions_dataframe \\\n",
    "        (logistic_regression_undersampled_model,\n",
    "         x_test_scaled_dataframe,\n",
    "         y_test_series)\n",
    "\n",
    "logx.log_write_object(lr_test_undersampled_predictions_dataframe)"
   ]
  },
  {
   "cell_type": "markdown",
   "metadata": {},
   "source": [
    "### **Random Oversampling**"
   ]
  },
  {
   "cell_type": "code",
   "execution_count": 60,
   "metadata": {},
   "outputs": [],
   "source": [
    "lr_train_oversampled_predictions_dataframe \\\n",
    "    = classificationsx.return_predictions_dataframe \\\n",
    "        (logistic_regression_oversampled_model,\n",
    "         x_train_scaled_dataframe,\n",
    "         y_train_series)\n",
    "\n",
    "logx.log_write_object(lr_train_oversampled_predictions_dataframe)"
   ]
  },
  {
   "cell_type": "code",
   "execution_count": 61,
   "metadata": {},
   "outputs": [],
   "source": [
    "lr_test_oversampled_predictions_dataframe \\\n",
    "    = classificationsx.return_predictions_dataframe \\\n",
    "        (logistic_regression_oversampled_model,\n",
    "         x_test_scaled_dataframe,\n",
    "         y_test_series)\n",
    "\n",
    "logx.log_write_object(lr_test_oversampled_predictions_dataframe)"
   ]
  },
  {
   "cell_type": "markdown",
   "metadata": {},
   "source": [
    "### **Cluster Centroids**"
   ]
  },
  {
   "cell_type": "code",
   "execution_count": 62,
   "metadata": {},
   "outputs": [],
   "source": [
    "lr_train_cluster_centroids_predictions_dataframe \\\n",
    "    = classificationsx.return_predictions_dataframe \\\n",
    "        (logistic_regression_cluster_centroids_model,\n",
    "         x_train_scaled_dataframe,\n",
    "         y_train_series)\n",
    "\n",
    "logx.log_write_object(lr_train_cluster_centroids_predictions_dataframe)"
   ]
  },
  {
   "cell_type": "code",
   "execution_count": 63,
   "metadata": {},
   "outputs": [],
   "source": [
    "lr_test_cluster_centroids_predictions_dataframe \\\n",
    "    = classificationsx.return_predictions_dataframe \\\n",
    "        (logistic_regression_cluster_centroids_model,\n",
    "         x_test_scaled_dataframe,\n",
    "         y_test_series)\n",
    "\n",
    "logx.log_write_object(lr_test_cluster_centroids_predictions_dataframe)"
   ]
  },
  {
   "cell_type": "markdown",
   "metadata": {},
   "source": [
    "### **SMOTE**"
   ]
  },
  {
   "cell_type": "code",
   "execution_count": 64,
   "metadata": {},
   "outputs": [],
   "source": [
    "lr_train_smote_predictions_dataframe \\\n",
    "    = classificationsx.return_predictions_dataframe \\\n",
    "        (logistic_regression_smote_model,\n",
    "         x_train_scaled_dataframe,\n",
    "         y_train_series)\n",
    "\n",
    "logx.log_write_object(lr_train_smote_predictions_dataframe)"
   ]
  },
  {
   "cell_type": "code",
   "execution_count": 65,
   "metadata": {},
   "outputs": [],
   "source": [
    "lr_test_smote_predictions_dataframe \\\n",
    "    = classificationsx.return_predictions_dataframe \\\n",
    "        (logistic_regression_smote_model,\n",
    "         x_test_scaled_dataframe,\n",
    "         y_test_series)\n",
    "\n",
    "logx.log_write_object(lr_test_smote_predictions_dataframe)"
   ]
  },
  {
   "cell_type": "markdown",
   "metadata": {},
   "source": [
    "### **SMOTEEN**"
   ]
  },
  {
   "cell_type": "code",
   "execution_count": 66,
   "metadata": {},
   "outputs": [],
   "source": [
    "lr_train_smoteen_predictions_dataframe \\\n",
    "    = classificationsx.return_predictions_dataframe \\\n",
    "        (logistic_regression_smoteen_model,\n",
    "         x_train_scaled_dataframe,\n",
    "         y_train_series)\n",
    "\n",
    "logx.log_write_object(lr_train_smoteen_predictions_dataframe)"
   ]
  },
  {
   "cell_type": "code",
   "execution_count": 67,
   "metadata": {},
   "outputs": [],
   "source": [
    "lr_test_smoteen_predictions_dataframe \\\n",
    "    = classificationsx.return_predictions_dataframe \\\n",
    "        (logistic_regression_smote_model,\n",
    "         x_test_scaled_dataframe,\n",
    "         y_test_series)\n",
    "\n",
    "logx.log_write_object(lr_test_smoteen_predictions_dataframe)"
   ]
  },
  {
   "cell_type": "markdown",
   "metadata": {},
   "source": [
    "# <br> **Section 4: Decision Tree Models**"
   ]
  },
  {
   "cell_type": "markdown",
   "metadata": {},
   "source": [
    "## **4.1: Fit Models by Using the Scaled Training Data.**"
   ]
  },
  {
   "cell_type": "markdown",
   "metadata": {},
   "source": [
    "### **Original**"
   ]
  },
  {
   "cell_type": "code",
   "execution_count": 68,
   "metadata": {},
   "outputs": [],
   "source": [
    "dt_grid_search_model \\\n",
    "    = pickle.load(open(spam_detector_constants.CONSTANT_DT_GRID_SEARCH_MODEL_FILE_PATH, 'rb'))\n",
    "\n",
    "decision_tree_model \\\n",
    "    = DecisionTreeClassifier \\\n",
    "        (criterion = dt_grid_search_model.best_params_['criterion'],\n",
    "         splitter = dt_grid_search_model.best_params_['splitter'],\n",
    "         class_weight = dt_grid_search_model.best_params_['class_weight'],\n",
    "         random_state = spam_detector_constants.CONSTANT_ML_RANDOM_STATE_1) \\\n",
    "            .fit(x_train_scaled_dataframe, y_train_series)"
   ]
  },
  {
   "cell_type": "markdown",
   "metadata": {},
   "source": [
    "### **Random Undersampling**"
   ]
  },
  {
   "cell_type": "code",
   "execution_count": 69,
   "metadata": {},
   "outputs": [],
   "source": [
    "dt_undersampled_grid_search_model \\\n",
    "    = pickle.load \\\n",
    "        (open(spam_detector_constants.CONSTANT_DT_UNDERSAMPLED_GRID_SEARCH_MODEL_FILE_PATH, 'rb'))\n",
    "\n",
    "decision_tree_undersampled_model \\\n",
    "    = DecisionTreeClassifier \\\n",
    "        (criterion = dt_undersampled_grid_search_model.best_params_['criterion'],\n",
    "         splitter = dt_undersampled_grid_search_model.best_params_['splitter'],\n",
    "         class_weight = dt_undersampled_grid_search_model.best_params_['class_weight'],\n",
    "         random_state = spam_detector_constants.CONSTANT_ML_RANDOM_STATE_1) \\\n",
    "            .fit(x_train_scaled_undersampled_dataframe, y_train_undersampled_series)"
   ]
  },
  {
   "cell_type": "markdown",
   "metadata": {},
   "source": [
    "### **Random Oversampling**"
   ]
  },
  {
   "cell_type": "code",
   "execution_count": 70,
   "metadata": {},
   "outputs": [],
   "source": [
    "dt_oversampled_grid_search_model \\\n",
    "    = pickle.load \\\n",
    "        (open(spam_detector_constants.CONSTANT_DT_OVERSAMPLED_GRID_SEARCH_MODEL_FILE_PATH, 'rb'))\n",
    "\n",
    "decision_tree_oversampled_model \\\n",
    "    = DecisionTreeClassifier \\\n",
    "        (criterion = dt_oversampled_grid_search_model.best_params_['criterion'],\n",
    "         splitter = dt_oversampled_grid_search_model.best_params_['splitter'],\n",
    "         class_weight = dt_oversampled_grid_search_model.best_params_['class_weight'],\n",
    "         random_state = spam_detector_constants.CONSTANT_ML_RANDOM_STATE_1) \\\n",
    "            .fit(x_train_scaled_oversampled_dataframe, y_train_oversampled_series)"
   ]
  },
  {
   "cell_type": "markdown",
   "metadata": {},
   "source": [
    "### **Cluster Centroids**"
   ]
  },
  {
   "cell_type": "code",
   "execution_count": 71,
   "metadata": {},
   "outputs": [],
   "source": [
    "dt_cluster_centroids_grid_search_model \\\n",
    "    = pickle.load \\\n",
    "        (open(spam_detector_constants.CONSTANT_DT_CENTROIDS_GRID_SEARCH_MODEL_FILE_PATH, 'rb'))\n",
    "\n",
    "decision_tree_cluster_centroids_model \\\n",
    "    = DecisionTreeClassifier \\\n",
    "        (criterion = dt_cluster_centroids_grid_search_model.best_params_['criterion'],\n",
    "         splitter = dt_cluster_centroids_grid_search_model.best_params_['splitter'],\n",
    "         class_weight = dt_cluster_centroids_grid_search_model.best_params_['class_weight'],\n",
    "         random_state = spam_detector_constants.CONSTANT_ML_RANDOM_STATE_1) \\\n",
    "            .fit(x_train_scaled_cluster_centroids_dataframe, y_train_cluster_centroids_series)"
   ]
  },
  {
   "cell_type": "markdown",
   "metadata": {},
   "source": [
    "### **Smote**"
   ]
  },
  {
   "cell_type": "code",
   "execution_count": 72,
   "metadata": {},
   "outputs": [],
   "source": [
    "dt_smote_grid_search_model \\\n",
    "    = pickle.load \\\n",
    "        (open(spam_detector_constants.CONSTANT_DT_SMOTE_GRID_SEARCH_MODEL_FILE_PATH, 'rb'))\n",
    "\n",
    "decision_tree_smote_model \\\n",
    "    = DecisionTreeClassifier \\\n",
    "        (criterion = dt_smote_grid_search_model.best_params_['criterion'],\n",
    "         splitter = dt_smote_grid_search_model.best_params_['splitter'],\n",
    "         class_weight = dt_smote_grid_search_model.best_params_['class_weight'],\n",
    "         random_state = spam_detector_constants.CONSTANT_ML_RANDOM_STATE_1) \\\n",
    "            .fit(x_train_scaled_smote_dataframe, y_train_smote_series)"
   ]
  },
  {
   "cell_type": "markdown",
   "metadata": {},
   "source": [
    "### **Smoteen**"
   ]
  },
  {
   "cell_type": "code",
   "execution_count": 73,
   "metadata": {},
   "outputs": [],
   "source": [
    "dt_smoteen_grid_search_model \\\n",
    "    = pickle.load \\\n",
    "        (open(spam_detector_constants.CONSTANT_DT_SMOTEEN_GRID_SEARCH_MODEL_FILE_PATH, 'rb'))\n",
    "\n",
    "decision_tree_smoteen_model \\\n",
    "    = DecisionTreeClassifier \\\n",
    "        (criterion = dt_smoteen_grid_search_model.best_params_['criterion'],\n",
    "         splitter = dt_smoteen_grid_search_model.best_params_['splitter'],\n",
    "         class_weight = dt_smoteen_grid_search_model.best_params_['class_weight'],\n",
    "         random_state = spam_detector_constants.CONSTANT_ML_RANDOM_STATE_1) \\\n",
    "            .fit(x_train_scaled_smoteen_dataframe, y_train_smoteen_series)"
   ]
  },
  {
   "cell_type": "markdown",
   "metadata": {},
   "source": [
    "## **4.2: Display the Model Scores Using the Scaled Training and Testing data.**"
   ]
  },
  {
   "cell_type": "markdown",
   "metadata": {},
   "source": [
    "### **Original**"
   ]
  },
  {
   "cell_type": "code",
   "execution_count": 74,
   "metadata": {},
   "outputs": [
    {
     "name": "stdout",
     "output_type": "stream",
     "text": [
      "\u001b[1mThe decision tree model score from scaled training data is 99.91%\u001b[0m\n"
     ]
    }
   ],
   "source": [
    "accuracy_score_train_float \\\n",
    "    = decision_tree_model.score \\\n",
    "        (x_train_scaled_dataframe, y_train_series) * 100\n",
    "\n",
    "logx.print_and_log_text \\\n",
    "    ('\\033[1m'\n",
    "     + 'The decision tree model score from scaled training data is {:.2f}%' \\\n",
    "         .format(accuracy_score_train_float) \n",
    "     + '\\033[0m')"
   ]
  },
  {
   "cell_type": "code",
   "execution_count": 75,
   "metadata": {},
   "outputs": [
    {
     "name": "stdout",
     "output_type": "stream",
     "text": [
      "\u001b[1mThe decision tree model score from scaled test data is 89.66%\u001b[0m\n"
     ]
    }
   ],
   "source": [
    "accuracy_score_test_float \\\n",
    "    = decision_tree_model.score \\\n",
    "        (x_test_scaled_dataframe, y_test_series) * 100\n",
    "\n",
    "logx.print_and_log_text \\\n",
    "    ('\\033[1m' \n",
    "     + 'The decision tree model score from scaled test data is {:.2f}%' \\\n",
    "         .format(accuracy_score_test_float) \n",
    "     + '\\033[0m')"
   ]
  },
  {
   "cell_type": "markdown",
   "metadata": {},
   "source": [
    "### **Random Undersampling**"
   ]
  },
  {
   "cell_type": "code",
   "execution_count": 76,
   "metadata": {},
   "outputs": [
    {
     "name": "stdout",
     "output_type": "stream",
     "text": [
      "\u001b[1mThe decision tree model score from undersampled scaled training data is 97.54%\u001b[0m\n"
     ]
    }
   ],
   "source": [
    "accuracy_score_train_float \\\n",
    "    = decision_tree_undersampled_model.score \\\n",
    "        (x_train_scaled_dataframe, y_train_series) * 100\n",
    "\n",
    "logx.print_and_log_text \\\n",
    "    ('\\033[1m' \n",
    "     + 'The decision tree model score from undersampled scaled training data is {:.2f}%' \\\n",
    "         .format(accuracy_score_train_float) \n",
    "     + '\\033[0m')"
   ]
  },
  {
   "cell_type": "code",
   "execution_count": 77,
   "metadata": {},
   "outputs": [
    {
     "name": "stdout",
     "output_type": "stream",
     "text": [
      "\u001b[1mThe decision tree model score from undersampled scaled test data is 89.66%\u001b[0m\n"
     ]
    }
   ],
   "source": [
    "accuracy_score_test_float \\\n",
    "    = decision_tree_undersampled_model.score \\\n",
    "        (x_test_scaled_dataframe, y_test_series) * 100\n",
    "\n",
    "logx.print_and_log_text \\\n",
    "    ('\\033[1m' \n",
    "     + 'The decision tree model score from undersampled scaled test data is {:.2f}%' \\\n",
    "         .format(accuracy_score_test_float) \n",
    "     + '\\033[0m')"
   ]
  },
  {
   "cell_type": "markdown",
   "metadata": {},
   "source": [
    "### **Random Oversampling**"
   ]
  },
  {
   "cell_type": "code",
   "execution_count": 78,
   "metadata": {},
   "outputs": [
    {
     "name": "stdout",
     "output_type": "stream",
     "text": [
      "\u001b[1mThe decision tree model score from overersampled scaled training data is 99.91%\u001b[0m\n"
     ]
    }
   ],
   "source": [
    "accuracy_score_train_float \\\n",
    "    = decision_tree_oversampled_model.score \\\n",
    "        (x_train_scaled_dataframe, y_train_series) * 100\n",
    "\n",
    "logx.print_and_log_text \\\n",
    "    ('\\033[1m' \n",
    "     + 'The decision tree model score from overersampled scaled training data is {:.2f}%' \\\n",
    "         .format(accuracy_score_train_float) \n",
    "     + '\\033[0m')"
   ]
  },
  {
   "cell_type": "code",
   "execution_count": 79,
   "metadata": {},
   "outputs": [
    {
     "name": "stdout",
     "output_type": "stream",
     "text": [
      "\u001b[1mThe decision tree model score from oversampled scaled test data is 89.75%\u001b[0m\n"
     ]
    }
   ],
   "source": [
    "accuracy_score_test_float \\\n",
    "    = decision_tree_oversampled_model.score \\\n",
    "        (x_test_scaled_dataframe, y_test_series) * 100\n",
    "\n",
    "logx.print_and_log_text \\\n",
    "    ('\\033[1m' \n",
    "     + 'The decision tree model score from oversampled scaled test data is {:.2f}%' \\\n",
    "         .format(accuracy_score_test_float) \n",
    "     + '\\033[0m')"
   ]
  },
  {
   "cell_type": "markdown",
   "metadata": {},
   "source": [
    "### **Cluster Centroids**"
   ]
  },
  {
   "cell_type": "code",
   "execution_count": 80,
   "metadata": {},
   "outputs": [
    {
     "name": "stdout",
     "output_type": "stream",
     "text": [
      "\u001b[1mThe decision tree model score from cluster centroids scaled training data is 98.23%\u001b[0m\n"
     ]
    }
   ],
   "source": [
    "accuracy_score_train_float \\\n",
    "    = decision_tree_cluster_centroids_model.score \\\n",
    "        (x_train_scaled_dataframe, y_train_series) * 100\n",
    "\n",
    "logx.print_and_log_text \\\n",
    "    ('\\033[1m' \n",
    "     + 'The decision tree model score from cluster centroids scaled training data is {:.2f}%' \\\n",
    "         .format(accuracy_score_train_float) \n",
    "     + '\\033[0m')"
   ]
  },
  {
   "cell_type": "code",
   "execution_count": 81,
   "metadata": {},
   "outputs": [
    {
     "name": "stdout",
     "output_type": "stream",
     "text": [
      "\u001b[1mThe decision tree model score from cluster centroids scaled test data is 88.97%\u001b[0m\n"
     ]
    }
   ],
   "source": [
    "accuracy_score_test_float \\\n",
    "    = decision_tree_cluster_centroids_model.score \\\n",
    "        (x_test_scaled_dataframe, y_test_series) * 100\n",
    "\n",
    "logx.print_and_log_text \\\n",
    "    ('\\033[1m' \n",
    "     + 'The decision tree model score from cluster centroids scaled test data is {:.2f}%' \\\n",
    "         .format(accuracy_score_test_float) \n",
    "     + '\\033[0m')"
   ]
  },
  {
   "cell_type": "markdown",
   "metadata": {},
   "source": [
    "### **SMOTE**"
   ]
  },
  {
   "cell_type": "code",
   "execution_count": 82,
   "metadata": {},
   "outputs": [
    {
     "name": "stdout",
     "output_type": "stream",
     "text": [
      "\u001b[1mThe decision tree model score from SMOTE scaled training data is 99.91%\u001b[0m\n"
     ]
    }
   ],
   "source": [
    "accuracy_score_train_float \\\n",
    "    = decision_tree_smote_model.score \\\n",
    "        (x_train_scaled_dataframe, y_train_series) * 100\n",
    "\n",
    "logx.print_and_log_text \\\n",
    "    ('\\033[1m' \n",
    "     + 'The decision tree model score from SMOTE scaled training data is {:.2f}%' \\\n",
    "         .format(accuracy_score_train_float) \n",
    "     + '\\033[0m')"
   ]
  },
  {
   "cell_type": "code",
   "execution_count": 83,
   "metadata": {},
   "outputs": [
    {
     "name": "stdout",
     "output_type": "stream",
     "text": [
      "\u001b[1mThe decision tree model score from SMOTE scaled test data is 90.96%\u001b[0m\n"
     ]
    }
   ],
   "source": [
    "accuracy_score_test_float \\\n",
    "    = decision_tree_smote_model.score \\\n",
    "        (x_test_scaled_dataframe, y_test_series) * 100\n",
    "\n",
    "logx.print_and_log_text \\\n",
    "    ('\\033[1m' \n",
    "     + 'The decision tree model score from SMOTE scaled test data is {:.2f}%' \\\n",
    "         .format(accuracy_score_test_float) \n",
    "     + '\\033[0m')"
   ]
  },
  {
   "cell_type": "markdown",
   "metadata": {},
   "source": [
    "### **SMOTEEN**"
   ]
  },
  {
   "cell_type": "code",
   "execution_count": 84,
   "metadata": {},
   "outputs": [
    {
     "name": "stdout",
     "output_type": "stream",
     "text": [
      "\u001b[1mThe decision tree model score from SMOTEEN scaled training data is 94.96%\u001b[0m\n"
     ]
    }
   ],
   "source": [
    "accuracy_score_train_float \\\n",
    "    = decision_tree_smoteen_model.score \\\n",
    "        (x_train_scaled_dataframe, y_train_series) * 100\n",
    "\n",
    "logx.print_and_log_text \\\n",
    "    ('\\033[1m' \n",
    "     + 'The decision tree model score from SMOTEEN scaled training data is {:.2f}%' \\\n",
    "         .format(accuracy_score_train_float) \n",
    "     + '\\033[0m')"
   ]
  },
  {
   "cell_type": "code",
   "execution_count": 85,
   "metadata": {},
   "outputs": [
    {
     "name": "stdout",
     "output_type": "stream",
     "text": [
      "\u001b[1mThe decision tree model score from SMOTEEN scaled test data is 56.04%\u001b[0m\n"
     ]
    }
   ],
   "source": [
    "accuracy_score_test_float \\\n",
    "    = decision_tree_smoteen_model.score \\\n",
    "        (x_test_scaled_dataframe, y_test_series) * 100\n",
    "\n",
    "logx.print_and_log_text \\\n",
    "    ('\\033[1m' \n",
    "     + 'The decision tree model score from SMOTEEN scaled test data is {:.2f}%' \\\n",
    "         .format(accuracy_score_test_float) \n",
    "     + '\\033[0m')"
   ]
  },
  {
   "cell_type": "markdown",
   "metadata": {},
   "source": [
    "## **4.3: Calculate Training and Test Predictions.**"
   ]
  },
  {
   "cell_type": "markdown",
   "metadata": {},
   "source": [
    "### **Original**"
   ]
  },
  {
   "cell_type": "code",
   "execution_count": 86,
   "metadata": {},
   "outputs": [],
   "source": [
    "dt_train_predictions_dataframe \\\n",
    "    = classificationsx.return_predictions_dataframe \\\n",
    "        (decision_tree_model,\n",
    "         x_train_scaled_dataframe,\n",
    "         y_train_series)\n",
    "\n",
    "logx.log_write_object(dt_train_predictions_dataframe)"
   ]
  },
  {
   "cell_type": "code",
   "execution_count": 87,
   "metadata": {},
   "outputs": [],
   "source": [
    "dt_test_predictions_dataframe \\\n",
    "    = classificationsx.return_predictions_dataframe \\\n",
    "        (decision_tree_model,\n",
    "         x_test_scaled_dataframe,\n",
    "         y_test_series)\n",
    "\n",
    "logx.log_write_object(dt_test_predictions_dataframe)"
   ]
  },
  {
   "cell_type": "markdown",
   "metadata": {},
   "source": [
    "### **Random Undersampling**"
   ]
  },
  {
   "cell_type": "code",
   "execution_count": 88,
   "metadata": {},
   "outputs": [],
   "source": [
    "dt_train_undersampled_predictions_dataframe \\\n",
    "    = classificationsx.return_predictions_dataframe \\\n",
    "        (decision_tree_undersampled_model,\n",
    "         x_train_scaled_dataframe,\n",
    "         y_train_series)\n",
    "\n",
    "logx.log_write_object(dt_train_undersampled_predictions_dataframe)"
   ]
  },
  {
   "cell_type": "code",
   "execution_count": 89,
   "metadata": {},
   "outputs": [],
   "source": [
    "dt_test_undersampled_predictions_dataframe \\\n",
    "    = classificationsx.return_predictions_dataframe \\\n",
    "        (decision_tree_undersampled_model,\n",
    "         x_test_scaled_dataframe,\n",
    "         y_test_series)\n",
    "\n",
    "logx.log_write_object(dt_test_undersampled_predictions_dataframe)"
   ]
  },
  {
   "cell_type": "markdown",
   "metadata": {},
   "source": [
    "### **Random Oversampling**"
   ]
  },
  {
   "cell_type": "code",
   "execution_count": 90,
   "metadata": {},
   "outputs": [],
   "source": [
    "dt_train_oversampled_predictions_dataframe \\\n",
    "    = classificationsx.return_predictions_dataframe \\\n",
    "        (decision_tree_oversampled_model,\n",
    "         x_train_scaled_dataframe,\n",
    "         y_train_series)\n",
    "\n",
    "logx.log_write_object(dt_train_oversampled_predictions_dataframe)"
   ]
  },
  {
   "cell_type": "code",
   "execution_count": 91,
   "metadata": {},
   "outputs": [],
   "source": [
    "dt_test_oversampled_predictions_dataframe \\\n",
    "    = classificationsx.return_predictions_dataframe \\\n",
    "        (decision_tree_oversampled_model,\n",
    "         x_test_scaled_dataframe,\n",
    "         y_test_series)\n",
    "\n",
    "logx.log_write_object(dt_test_oversampled_predictions_dataframe)"
   ]
  },
  {
   "cell_type": "markdown",
   "metadata": {},
   "source": [
    "### **Cluster Centroids**"
   ]
  },
  {
   "cell_type": "code",
   "execution_count": 92,
   "metadata": {},
   "outputs": [],
   "source": [
    "dt_train_cluster_centroids_predictions_dataframe \\\n",
    "    = classificationsx.return_predictions_dataframe \\\n",
    "        (decision_tree_cluster_centroids_model,\n",
    "         x_train_scaled_dataframe,\n",
    "         y_train_series)\n",
    "\n",
    "logx.log_write_object(dt_train_cluster_centroids_predictions_dataframe)"
   ]
  },
  {
   "cell_type": "code",
   "execution_count": 93,
   "metadata": {},
   "outputs": [],
   "source": [
    "dt_test_cluster_centroids_predictions_dataframe \\\n",
    "    = classificationsx.return_predictions_dataframe \\\n",
    "        (decision_tree_cluster_centroids_model,\n",
    "         x_test_scaled_dataframe,\n",
    "         y_test_series)\n",
    "\n",
    "logx.log_write_object(dt_test_cluster_centroids_predictions_dataframe)"
   ]
  },
  {
   "cell_type": "markdown",
   "metadata": {},
   "source": [
    "### **SMOTE**"
   ]
  },
  {
   "cell_type": "code",
   "execution_count": 94,
   "metadata": {},
   "outputs": [],
   "source": [
    "dt_train_smote_predictions_dataframe \\\n",
    "    = classificationsx.return_predictions_dataframe \\\n",
    "        (decision_tree_smote_model,\n",
    "         x_train_scaled_dataframe,\n",
    "         y_train_series)\n",
    "\n",
    "logx.log_write_object(dt_train_smote_predictions_dataframe)"
   ]
  },
  {
   "cell_type": "code",
   "execution_count": 95,
   "metadata": {},
   "outputs": [],
   "source": [
    "dt_test_smote_predictions_dataframe \\\n",
    "    = classificationsx.return_predictions_dataframe \\\n",
    "        (decision_tree_smote_model,\n",
    "         x_test_scaled_dataframe,\n",
    "         y_test_series)\n",
    "\n",
    "logx.log_write_object(dt_test_smote_predictions_dataframe)"
   ]
  },
  {
   "cell_type": "markdown",
   "metadata": {},
   "source": [
    "### **SMOTEEN**"
   ]
  },
  {
   "cell_type": "code",
   "execution_count": 96,
   "metadata": {},
   "outputs": [],
   "source": [
    "dt_train_smoteen_predictions_dataframe \\\n",
    "    = classificationsx.return_predictions_dataframe \\\n",
    "        (decision_tree_smoteen_model,\n",
    "         x_train_scaled_dataframe,\n",
    "         y_train_series)\n",
    "\n",
    "logx.log_write_object(dt_train_smoteen_predictions_dataframe)"
   ]
  },
  {
   "cell_type": "code",
   "execution_count": 97,
   "metadata": {},
   "outputs": [],
   "source": [
    "dt_test_smoteen_predictions_dataframe \\\n",
    "    = classificationsx.return_predictions_dataframe \\\n",
    "        (decision_tree_smote_model,\n",
    "         x_test_scaled_dataframe,\n",
    "         y_test_series)\n",
    "\n",
    "logx.log_write_object(dt_test_smoteen_predictions_dataframe)"
   ]
  },
  {
   "cell_type": "markdown",
   "metadata": {},
   "source": [
    "# <br> **Section 5: Random Forest Models**"
   ]
  },
  {
   "cell_type": "markdown",
   "metadata": {},
   "source": [
    "## **5.1: Fit Models by Using the Scaled Training Data.**"
   ]
  },
  {
   "cell_type": "markdown",
   "metadata": {},
   "source": [
    "### **Original**"
   ]
  },
  {
   "cell_type": "code",
   "execution_count": 98,
   "metadata": {},
   "outputs": [],
   "source": [
    "rf_grid_search_model \\\n",
    "    = pickle.load(open(spam_detector_constants.CONSTANT_RF_GRID_SEARCH_MODEL_FILE_PATH, 'rb'))\n",
    "\n",
    "random_forest_model \\\n",
    "    = RandomForestClassifier \\\n",
    "        (criterion = rf_grid_search_model.best_params_['criterion'],\n",
    "         max_features = rf_grid_search_model.best_params_['max_features'],\n",
    "         class_weight = rf_grid_search_model.best_params_['class_weight'],\n",
    "         n_estimators = spam_detector_constants.CONSTANT_ML_RF_N_ESTIMATORS,\n",
    "         random_state = spam_detector_constants.CONSTANT_ML_RANDOM_STATE_1) \\\n",
    "            .fit(x_train_scaled_dataframe, y_train_series)"
   ]
  },
  {
   "cell_type": "markdown",
   "metadata": {},
   "source": [
    "### **Random Undersampling**"
   ]
  },
  {
   "cell_type": "code",
   "execution_count": 99,
   "metadata": {},
   "outputs": [],
   "source": [
    "rf_undersampled_grid_search_model \\\n",
    "    = pickle.load \\\n",
    "        (open(spam_detector_constants.CONSTANT_RF_UNDERSAMPLED_GRID_SEARCH_MODEL_FILE_PATH, 'rb'))\n",
    "\n",
    "random_forest_undersampled_model \\\n",
    "    = RandomForestClassifier \\\n",
    "        (criterion = rf_undersampled_grid_search_model.best_params_['criterion'],\n",
    "         max_features = rf_undersampled_grid_search_model.best_params_['max_features'],\n",
    "         class_weight = rf_undersampled_grid_search_model.best_params_['class_weight'],\n",
    "         n_estimators = spam_detector_constants.CONSTANT_ML_RF_N_ESTIMATORS,\n",
    "         random_state = spam_detector_constants.CONSTANT_ML_RANDOM_STATE_1) \\\n",
    "            .fit(x_train_scaled_undersampled_dataframe, y_train_undersampled_series)"
   ]
  },
  {
   "cell_type": "markdown",
   "metadata": {},
   "source": [
    "### **Random Oversampling**"
   ]
  },
  {
   "cell_type": "code",
   "execution_count": 100,
   "metadata": {},
   "outputs": [],
   "source": [
    "rf_oversampled_grid_search_model \\\n",
    "    = pickle.load \\\n",
    "        (open(spam_detector_constants.CONSTANT_RF_OVERSAMPLED_GRID_SEARCH_MODEL_FILE_PATH, 'rb'))\n",
    "\n",
    "random_forest_oversampled_model \\\n",
    "    = RandomForestClassifier \\\n",
    "        (criterion = rf_oversampled_grid_search_model.best_params_['criterion'],\n",
    "         max_features = rf_oversampled_grid_search_model.best_params_['max_features'],\n",
    "         class_weight = rf_oversampled_grid_search_model.best_params_['class_weight'],\n",
    "         n_estimators = spam_detector_constants.CONSTANT_ML_RF_N_ESTIMATORS,\n",
    "         random_state = spam_detector_constants.CONSTANT_ML_RANDOM_STATE_1) \\\n",
    "            .fit(x_train_scaled_oversampled_dataframe, y_train_oversampled_series)"
   ]
  },
  {
   "cell_type": "markdown",
   "metadata": {},
   "source": [
    "### **Cluster Centroids**"
   ]
  },
  {
   "cell_type": "code",
   "execution_count": 101,
   "metadata": {},
   "outputs": [],
   "source": [
    "rf_cluster_centroids_grid_search_model \\\n",
    "    = pickle.load \\\n",
    "        (open(spam_detector_constants.CONSTANT_RF_CENTROIDS_GRID_SEARCH_MODEL_FILE_PATH, 'rb'))\n",
    "\n",
    "random_forest_cluster_centroids_model \\\n",
    "    = RandomForestClassifier \\\n",
    "        (criterion = rf_cluster_centroids_grid_search_model.best_params_['criterion'],\n",
    "         max_features = rf_cluster_centroids_grid_search_model.best_params_['max_features'],\n",
    "         class_weight = rf_cluster_centroids_grid_search_model.best_params_['class_weight'],\n",
    "         n_estimators = spam_detector_constants.CONSTANT_ML_RF_N_ESTIMATORS,\n",
    "         random_state = spam_detector_constants.CONSTANT_ML_RANDOM_STATE_1) \\\n",
    "            .fit(x_train_scaled_cluster_centroids_dataframe, y_train_cluster_centroids_series)"
   ]
  },
  {
   "cell_type": "markdown",
   "metadata": {},
   "source": [
    "### **Smote**"
   ]
  },
  {
   "cell_type": "code",
   "execution_count": 102,
   "metadata": {},
   "outputs": [],
   "source": [
    "rf_smote_grid_search_model \\\n",
    "    = pickle.load \\\n",
    "        (open(spam_detector_constants.CONSTANT_RF_SMOTE_GRID_SEARCH_MODEL_FILE_PATH, 'rb'))\n",
    "\n",
    "random_forest_smote_model \\\n",
    "    = RandomForestClassifier \\\n",
    "        (criterion = rf_smote_grid_search_model.best_params_['criterion'],\n",
    "         max_features = rf_smote_grid_search_model.best_params_['max_features'],\n",
    "         class_weight = rf_smote_grid_search_model.best_params_['class_weight'],\n",
    "         n_estimators = spam_detector_constants.CONSTANT_ML_RF_N_ESTIMATORS,\n",
    "         random_state = spam_detector_constants.CONSTANT_ML_RANDOM_STATE_1) \\\n",
    "            .fit(x_train_scaled_smote_dataframe, y_train_smote_series)"
   ]
  },
  {
   "cell_type": "markdown",
   "metadata": {},
   "source": [
    "### **Smoteen**"
   ]
  },
  {
   "cell_type": "code",
   "execution_count": 103,
   "metadata": {},
   "outputs": [],
   "source": [
    "rf_smoteen_grid_search_model \\\n",
    "    = pickle.load \\\n",
    "        (open(spam_detector_constants.CONSTANT_RF_SMOTEEN_GRID_SEARCH_MODEL_FILE_PATH, 'rb'))\n",
    "\n",
    "random_forest_smoteen_model \\\n",
    "    = RandomForestClassifier \\\n",
    "        (criterion = rf_smoteen_grid_search_model.best_params_['criterion'],\n",
    "         max_features = rf_smoteen_grid_search_model.best_params_['max_features'],\n",
    "         class_weight = rf_smoteen_grid_search_model.best_params_['class_weight'],\n",
    "         n_estimators = spam_detector_constants.CONSTANT_ML_RF_N_ESTIMATORS,\n",
    "         random_state = spam_detector_constants.CONSTANT_ML_RANDOM_STATE_1) \\\n",
    "            .fit(x_train_scaled_smoteen_dataframe, y_train_smoteen_series)"
   ]
  },
  {
   "cell_type": "markdown",
   "metadata": {},
   "source": [
    "## **5.2: Display the Model Scores Using the Scaled Training and Testing data.**"
   ]
  },
  {
   "cell_type": "markdown",
   "metadata": {},
   "source": [
    "### **Original**"
   ]
  },
  {
   "cell_type": "code",
   "execution_count": 104,
   "metadata": {},
   "outputs": [
    {
     "name": "stdout",
     "output_type": "stream",
     "text": [
      "\u001b[1mThe random forest model score from scaled training data is 99.91%\u001b[0m\n"
     ]
    }
   ],
   "source": [
    "accuracy_score_train_float \\\n",
    "    = random_forest_model.score \\\n",
    "        (x_train_scaled_dataframe, y_train_series) * 100\n",
    "\n",
    "logx.print_and_log_text \\\n",
    "    ('\\033[1m'\n",
    "     + 'The random forest model score from scaled training data is {:.2f}%' \\\n",
    "         .format(accuracy_score_train_float) \n",
    "     + '\\033[0m')"
   ]
  },
  {
   "cell_type": "code",
   "execution_count": 105,
   "metadata": {},
   "outputs": [
    {
     "name": "stdout",
     "output_type": "stream",
     "text": [
      "\u001b[1mThe random forest model score from scaled test data is 92.96%\u001b[0m\n"
     ]
    }
   ],
   "source": [
    "accuracy_score_test_float \\\n",
    "    = random_forest_model.score \\\n",
    "        (x_test_scaled_dataframe, y_test_series) * 100\n",
    "\n",
    "logx.print_and_log_text \\\n",
    "    ('\\033[1m' \n",
    "     + 'The random forest model score from scaled test data is {:.2f}%' \\\n",
    "         .format(accuracy_score_test_float) \n",
    "     + '\\033[0m')"
   ]
  },
  {
   "cell_type": "markdown",
   "metadata": {},
   "source": [
    "### **Random Undersampling**"
   ]
  },
  {
   "cell_type": "code",
   "execution_count": 106,
   "metadata": {},
   "outputs": [
    {
     "name": "stdout",
     "output_type": "stream",
     "text": [
      "\u001b[1mThe random forest model score from undersampled scaled training data is 99.07%\u001b[0m\n"
     ]
    }
   ],
   "source": [
    "accuracy_score_train_float \\\n",
    "    = random_forest_undersampled_model.score \\\n",
    "        (x_train_scaled_dataframe, y_train_series) * 100\n",
    "\n",
    "logx.print_and_log_text \\\n",
    "    ('\\033[1m' \n",
    "     + 'The random forest model score from undersampled scaled training data is {:.2f}%' \\\n",
    "         .format(accuracy_score_train_float) \n",
    "     + '\\033[0m')"
   ]
  },
  {
   "cell_type": "code",
   "execution_count": 107,
   "metadata": {},
   "outputs": [
    {
     "name": "stdout",
     "output_type": "stream",
     "text": [
      "\u001b[1mThe random forest model score from undersampled scaled test data is 94.18%\u001b[0m\n"
     ]
    }
   ],
   "source": [
    "accuracy_score_test_float \\\n",
    "    = random_forest_undersampled_model.score \\\n",
    "        (x_test_scaled_dataframe, y_test_series) * 100\n",
    "\n",
    "logx.print_and_log_text \\\n",
    "    ('\\033[1m' \n",
    "     + 'The random forest model score from undersampled scaled test data is {:.2f}%' \\\n",
    "         .format(accuracy_score_test_float) \n",
    "     + '\\033[0m')"
   ]
  },
  {
   "cell_type": "markdown",
   "metadata": {},
   "source": [
    "### **Random Oversampling**"
   ]
  },
  {
   "cell_type": "code",
   "execution_count": 108,
   "metadata": {},
   "outputs": [
    {
     "name": "stdout",
     "output_type": "stream",
     "text": [
      "\u001b[1mThe random forest model score from overersampled scaled training data is 99.91%\u001b[0m\n"
     ]
    }
   ],
   "source": [
    "accuracy_score_train_float \\\n",
    "    = random_forest_oversampled_model.score \\\n",
    "        (x_train_scaled_dataframe, y_train_series) * 100\n",
    "\n",
    "logx.print_and_log_text \\\n",
    "    ('\\033[1m' \n",
    "     + 'The random forest model score from overersampled scaled training data is {:.2f}%' \\\n",
    "         .format(accuracy_score_train_float) \n",
    "     + '\\033[0m')"
   ]
  },
  {
   "cell_type": "code",
   "execution_count": 109,
   "metadata": {},
   "outputs": [
    {
     "name": "stdout",
     "output_type": "stream",
     "text": [
      "\u001b[1mThe random forest model score from oversampled scaled test data is 93.05%\u001b[0m\n"
     ]
    }
   ],
   "source": [
    "accuracy_score_test_float \\\n",
    "    = random_forest_oversampled_model.score \\\n",
    "        (x_test_scaled_dataframe, y_test_series) * 100\n",
    "\n",
    "logx.print_and_log_text \\\n",
    "    ('\\033[1m' \n",
    "     + 'The random forest model score from oversampled scaled test data is {:.2f}%' \\\n",
    "         .format(accuracy_score_test_float) \n",
    "     + '\\033[0m')"
   ]
  },
  {
   "cell_type": "markdown",
   "metadata": {},
   "source": [
    "### **Cluster Centroids**"
   ]
  },
  {
   "cell_type": "code",
   "execution_count": 110,
   "metadata": {},
   "outputs": [
    {
     "name": "stdout",
     "output_type": "stream",
     "text": [
      "\u001b[1mThe random forest model score from cluster centroids scaled training data is 99.10%\u001b[0m\n"
     ]
    }
   ],
   "source": [
    "accuracy_score_train_float \\\n",
    "    = random_forest_cluster_centroids_model.score \\\n",
    "        (x_train_scaled_dataframe, y_train_series) * 100\n",
    "\n",
    "logx.print_and_log_text \\\n",
    "    ('\\033[1m' \n",
    "     + 'The random forest model score from cluster centroids scaled training data is {:.2f}%' \\\n",
    "         .format(accuracy_score_train_float) \n",
    "     + '\\033[0m')"
   ]
  },
  {
   "cell_type": "code",
   "execution_count": 111,
   "metadata": {},
   "outputs": [
    {
     "name": "stdout",
     "output_type": "stream",
     "text": [
      "\u001b[1mThe random forest model score from cluster centroids scaled test data is 92.44%\u001b[0m\n"
     ]
    }
   ],
   "source": [
    "accuracy_score_test_float \\\n",
    "    = random_forest_cluster_centroids_model.score \\\n",
    "        (x_test_scaled_dataframe, y_test_series) * 100\n",
    "\n",
    "logx.print_and_log_text \\\n",
    "    ('\\033[1m' \n",
    "     + 'The random forest model score from cluster centroids scaled test data is {:.2f}%' \\\n",
    "         .format(accuracy_score_test_float) \n",
    "     + '\\033[0m')"
   ]
  },
  {
   "cell_type": "markdown",
   "metadata": {},
   "source": [
    "### **SMOTE**"
   ]
  },
  {
   "cell_type": "code",
   "execution_count": 112,
   "metadata": {},
   "outputs": [
    {
     "name": "stdout",
     "output_type": "stream",
     "text": [
      "\u001b[1mThe random forest model score from SMOTE scaled training data is 99.91%\u001b[0m\n"
     ]
    }
   ],
   "source": [
    "accuracy_score_train_float \\\n",
    "    = random_forest_smote_model.score \\\n",
    "        (x_train_scaled_dataframe, y_train_series) * 100\n",
    "\n",
    "logx.print_and_log_text \\\n",
    "    ('\\033[1m' \n",
    "     + 'The random forest model score from SMOTE scaled training data is {:.2f}%' \\\n",
    "         .format(accuracy_score_train_float) \n",
    "     + '\\033[0m')"
   ]
  },
  {
   "cell_type": "code",
   "execution_count": 113,
   "metadata": {},
   "outputs": [
    {
     "name": "stdout",
     "output_type": "stream",
     "text": [
      "\u001b[1mThe random forest model score from SMOTE scaled test data is 93.74%\u001b[0m\n"
     ]
    }
   ],
   "source": [
    "accuracy_score_test_float \\\n",
    "    = random_forest_smote_model.score \\\n",
    "        (x_test_scaled_dataframe, y_test_series) * 100\n",
    "\n",
    "logx.print_and_log_text \\\n",
    "    ('\\033[1m' \n",
    "     + 'The random forest model score from SMOTE scaled test data is {:.2f}%' \\\n",
    "         .format(accuracy_score_test_float) \n",
    "     + '\\033[0m')"
   ]
  },
  {
   "cell_type": "markdown",
   "metadata": {},
   "source": [
    "### **SMOTEEN**"
   ]
  },
  {
   "cell_type": "code",
   "execution_count": 114,
   "metadata": {},
   "outputs": [
    {
     "name": "stdout",
     "output_type": "stream",
     "text": [
      "\u001b[1mThe random forest model score from SMOTEEN scaled training data is 95.80%\u001b[0m\n"
     ]
    }
   ],
   "source": [
    "accuracy_score_train_float \\\n",
    "    = random_forest_smoteen_model.score \\\n",
    "        (x_train_scaled_dataframe, y_train_series) * 100\n",
    "\n",
    "logx.print_and_log_text \\\n",
    "    ('\\033[1m' \n",
    "     + 'The random forest model score from SMOTEEN scaled training data is {:.2f}%' \\\n",
    "         .format(accuracy_score_train_float) \n",
    "     + '\\033[0m')"
   ]
  },
  {
   "cell_type": "code",
   "execution_count": 115,
   "metadata": {},
   "outputs": [
    {
     "name": "stdout",
     "output_type": "stream",
     "text": [
      "\u001b[1mThe random forest model score from SMOTEEN scaled test data is 93.92%\u001b[0m\n"
     ]
    }
   ],
   "source": [
    "accuracy_score_test_float \\\n",
    "    = random_forest_smoteen_model.score \\\n",
    "        (x_test_scaled_dataframe, y_test_series) * 100\n",
    "\n",
    "logx.print_and_log_text \\\n",
    "    ('\\033[1m' \n",
    "     + 'The random forest model score from SMOTEEN scaled test data is {:.2f}%' \\\n",
    "         .format(accuracy_score_test_float) \n",
    "     + '\\033[0m')"
   ]
  },
  {
   "cell_type": "markdown",
   "metadata": {},
   "source": [
    "## **5.3: Calculate Training and Test Predictions.**"
   ]
  },
  {
   "cell_type": "markdown",
   "metadata": {},
   "source": [
    "### **Original**"
   ]
  },
  {
   "cell_type": "code",
   "execution_count": 116,
   "metadata": {},
   "outputs": [],
   "source": [
    "rf_train_predictions_dataframe \\\n",
    "    = classificationsx.return_predictions_dataframe \\\n",
    "        (random_forest_model,\n",
    "         x_train_scaled_dataframe,\n",
    "         y_train_series)\n",
    "\n",
    "logx.log_write_object(rf_train_predictions_dataframe)"
   ]
  },
  {
   "cell_type": "code",
   "execution_count": 117,
   "metadata": {},
   "outputs": [],
   "source": [
    "rf_test_predictions_dataframe \\\n",
    "    = classificationsx.return_predictions_dataframe \\\n",
    "        (random_forest_model,\n",
    "         x_test_scaled_dataframe,\n",
    "         y_test_series)\n",
    "\n",
    "logx.log_write_object(rf_test_predictions_dataframe)"
   ]
  },
  {
   "cell_type": "markdown",
   "metadata": {},
   "source": [
    "### **Random Undersampling**"
   ]
  },
  {
   "cell_type": "code",
   "execution_count": 118,
   "metadata": {},
   "outputs": [],
   "source": [
    "rf_train_undersampled_predictions_dataframe \\\n",
    "    = classificationsx.return_predictions_dataframe \\\n",
    "        (random_forest_undersampled_model,\n",
    "         x_train_scaled_dataframe,\n",
    "         y_train_series)\n",
    "\n",
    "logx.log_write_object(rf_train_undersampled_predictions_dataframe)"
   ]
  },
  {
   "cell_type": "code",
   "execution_count": 119,
   "metadata": {},
   "outputs": [],
   "source": [
    "rf_test_undersampled_predictions_dataframe \\\n",
    "    = classificationsx.return_predictions_dataframe \\\n",
    "        (random_forest_undersampled_model,\n",
    "         x_test_scaled_dataframe,\n",
    "         y_test_series)\n",
    "\n",
    "logx.log_write_object(rf_test_undersampled_predictions_dataframe)"
   ]
  },
  {
   "cell_type": "markdown",
   "metadata": {},
   "source": [
    "### **Random Oversampling**"
   ]
  },
  {
   "cell_type": "code",
   "execution_count": 120,
   "metadata": {},
   "outputs": [],
   "source": [
    "rf_train_oversampled_predictions_dataframe \\\n",
    "    = classificationsx.return_predictions_dataframe \\\n",
    "        (random_forest_oversampled_model,\n",
    "         x_train_scaled_dataframe,\n",
    "         y_train_series)\n",
    "\n",
    "logx.log_write_object(rf_train_oversampled_predictions_dataframe)"
   ]
  },
  {
   "cell_type": "code",
   "execution_count": 121,
   "metadata": {},
   "outputs": [],
   "source": [
    "rf_test_oversampled_predictions_dataframe \\\n",
    "    = classificationsx.return_predictions_dataframe \\\n",
    "        (random_forest_oversampled_model,\n",
    "         x_test_scaled_dataframe,\n",
    "         y_test_series)\n",
    "\n",
    "logx.log_write_object(rf_test_oversampled_predictions_dataframe)"
   ]
  },
  {
   "cell_type": "markdown",
   "metadata": {},
   "source": [
    "### **Cluster Centroids**"
   ]
  },
  {
   "cell_type": "code",
   "execution_count": 122,
   "metadata": {},
   "outputs": [],
   "source": [
    "rf_train_cluster_centroids_predictions_dataframe \\\n",
    "    = classificationsx.return_predictions_dataframe \\\n",
    "        (random_forest_cluster_centroids_model,\n",
    "         x_train_scaled_dataframe,\n",
    "         y_train_series)\n",
    "\n",
    "logx.log_write_object(rf_train_cluster_centroids_predictions_dataframe)"
   ]
  },
  {
   "cell_type": "code",
   "execution_count": 123,
   "metadata": {},
   "outputs": [],
   "source": [
    "rf_test_cluster_centroids_predictions_dataframe \\\n",
    "    = classificationsx.return_predictions_dataframe \\\n",
    "        (random_forest_cluster_centroids_model,\n",
    "         x_test_scaled_dataframe,\n",
    "         y_test_series)\n",
    "\n",
    "logx.log_write_object(rf_test_cluster_centroids_predictions_dataframe)"
   ]
  },
  {
   "cell_type": "markdown",
   "metadata": {},
   "source": [
    "### **SMOTE**"
   ]
  },
  {
   "cell_type": "code",
   "execution_count": 124,
   "metadata": {},
   "outputs": [],
   "source": [
    "rf_train_smote_predictions_dataframe \\\n",
    "    = classificationsx.return_predictions_dataframe \\\n",
    "        (random_forest_smote_model,\n",
    "         x_train_scaled_dataframe,\n",
    "         y_train_series)\n",
    "\n",
    "logx.log_write_object(rf_train_smote_predictions_dataframe)"
   ]
  },
  {
   "cell_type": "code",
   "execution_count": 125,
   "metadata": {},
   "outputs": [],
   "source": [
    "rf_test_smote_predictions_dataframe \\\n",
    "    = classificationsx.return_predictions_dataframe \\\n",
    "        (random_forest_smote_model,\n",
    "         x_test_scaled_dataframe,\n",
    "         y_test_series)\n",
    "\n",
    "logx.log_write_object(rf_test_smote_predictions_dataframe)"
   ]
  },
  {
   "cell_type": "markdown",
   "metadata": {},
   "source": [
    "### **SMOTEEN**"
   ]
  },
  {
   "cell_type": "code",
   "execution_count": 126,
   "metadata": {},
   "outputs": [],
   "source": [
    "rf_train_smoteen_predictions_dataframe \\\n",
    "    = classificationsx.return_predictions_dataframe \\\n",
    "        (random_forest_smoteen_model,\n",
    "         x_train_scaled_dataframe,\n",
    "         y_train_series)\n",
    "\n",
    "logx.log_write_object(rf_train_smoteen_predictions_dataframe)"
   ]
  },
  {
   "cell_type": "code",
   "execution_count": 127,
   "metadata": {},
   "outputs": [],
   "source": [
    "rf_test_smoteen_predictions_dataframe \\\n",
    "    = classificationsx.return_predictions_dataframe \\\n",
    "        (random_forest_smote_model,\n",
    "         x_test_scaled_dataframe,\n",
    "         y_test_series)\n",
    "\n",
    "logx.log_write_object(rf_test_smoteen_predictions_dataframe)"
   ]
  },
  {
   "cell_type": "markdown",
   "metadata": {},
   "source": [
    "# <br> **Section 6: Support Vector Machine (SVM) Models**"
   ]
  },
  {
   "cell_type": "markdown",
   "metadata": {},
   "source": [
    "## **6.1: Fit Models by Using the Scaled Training Data.**"
   ]
  },
  {
   "cell_type": "markdown",
   "metadata": {},
   "source": [
    "### **Original**"
   ]
  },
  {
   "cell_type": "code",
   "execution_count": 128,
   "metadata": {},
   "outputs": [],
   "source": [
    "svm_grid_search_model \\\n",
    "    = pickle.load(open(spam_detector_constants.CONSTANT_SVM_GRID_SEARCH_MODEL_FILE_PATH, 'rb'))\n",
    "\n",
    "svm_model \\\n",
    "    = SVC \\\n",
    "        (kernel = svm_grid_search_model.best_params_['kernel'],\n",
    "         gamma = svm_grid_search_model.best_params_['gamma'],\n",
    "         class_weight = svm_grid_search_model.best_params_['class_weight'],\n",
    "         decision_function_shape = svm_grid_search_model.best_params_['decision_function_shape'],\n",
    "         probability = spam_detector_constants.CONSTANT_ML_SVM_PROBABILITY,\n",
    "         random_state = spam_detector_constants.CONSTANT_ML_RANDOM_STATE_1) \\\n",
    "            .fit(x_train_scaled_dataframe, y_train_series)"
   ]
  },
  {
   "cell_type": "markdown",
   "metadata": {},
   "source": [
    "### **Random Undersampling**"
   ]
  },
  {
   "cell_type": "code",
   "execution_count": 129,
   "metadata": {},
   "outputs": [],
   "source": [
    "svm_undersampled_grid_search_model \\\n",
    "    = pickle.load \\\n",
    "        (open(spam_detector_constants.CONSTANT_SVM_UNDERSAMPLED_GRID_SEARCH_MODEL_FILE_PATH, 'rb'))\n",
    "\n",
    "svm_undersampled_model \\\n",
    "    = SVC \\\n",
    "        (kernel = svm_undersampled_grid_search_model.best_params_['kernel'],\n",
    "         gamma = svm_undersampled_grid_search_model.best_params_['gamma'],\n",
    "         class_weight = svm_undersampled_grid_search_model.best_params_['class_weight'],\n",
    "         decision_function_shape = svm_undersampled_grid_search_model.best_params_['decision_function_shape'],\n",
    "         probability = spam_detector_constants.CONSTANT_ML_SVM_PROBABILITY,\n",
    "         random_state = spam_detector_constants.CONSTANT_ML_RANDOM_STATE_1) \\\n",
    "            .fit(x_train_scaled_undersampled_dataframe, y_train_undersampled_series)"
   ]
  },
  {
   "cell_type": "markdown",
   "metadata": {},
   "source": [
    "### **Random Oversampling**"
   ]
  },
  {
   "cell_type": "code",
   "execution_count": 130,
   "metadata": {},
   "outputs": [],
   "source": [
    "svm_oversampled_grid_search_model \\\n",
    "    = pickle.load \\\n",
    "        (open(spam_detector_constants.CONSTANT_SVM_OVERSAMPLED_GRID_SEARCH_MODEL_FILE_PATH, 'rb'))\n",
    "\n",
    "svm_oversampled_model \\\n",
    "    = SVC \\\n",
    "        (kernel = svm_oversampled_grid_search_model.best_params_['kernel'],\n",
    "         gamma = svm_oversampled_grid_search_model.best_params_['gamma'],\n",
    "         class_weight = svm_oversampled_grid_search_model.best_params_['class_weight'],\n",
    "         decision_function_shape = svm_oversampled_grid_search_model.best_params_['decision_function_shape'],\n",
    "         probability = spam_detector_constants.CONSTANT_ML_SVM_PROBABILITY,\n",
    "         random_state = spam_detector_constants.CONSTANT_ML_RANDOM_STATE_1) \\\n",
    "            .fit(x_train_scaled_oversampled_dataframe, y_train_oversampled_series)"
   ]
  },
  {
   "cell_type": "markdown",
   "metadata": {},
   "source": [
    "### **Cluster Centroids**"
   ]
  },
  {
   "cell_type": "code",
   "execution_count": 131,
   "metadata": {},
   "outputs": [],
   "source": [
    "svm_cluster_centroids_grid_search_model \\\n",
    "    = pickle.load \\\n",
    "        (open(spam_detector_constants.CONSTANT_SVM_CENTROIDS_GRID_SEARCH_MODEL_FILE_PATH, 'rb'))\n",
    "\n",
    "svm_cluster_centroids_model \\\n",
    "    = SVC \\\n",
    "        (kernel = svm_cluster_centroids_grid_search_model.best_params_['kernel'],\n",
    "         gamma = svm_cluster_centroids_grid_search_model.best_params_['gamma'],\n",
    "         class_weight = svm_cluster_centroids_grid_search_model.best_params_['class_weight'],\n",
    "         decision_function_shape = svm_cluster_centroids_grid_search_model.best_params_['decision_function_shape'],\n",
    "         probability = spam_detector_constants.CONSTANT_ML_SVM_PROBABILITY,\n",
    "         random_state = spam_detector_constants.CONSTANT_ML_RANDOM_STATE_1) \\\n",
    "            .fit(x_train_scaled_cluster_centroids_dataframe, y_train_cluster_centroids_series)"
   ]
  },
  {
   "cell_type": "markdown",
   "metadata": {},
   "source": [
    "### **Smote**"
   ]
  },
  {
   "cell_type": "code",
   "execution_count": 132,
   "metadata": {},
   "outputs": [],
   "source": [
    "svm_smote_grid_search_model \\\n",
    "    = pickle.load \\\n",
    "        (open(spam_detector_constants.CONSTANT_SVM_SMOTE_GRID_SEARCH_MODEL_FILE_PATH, 'rb'))\n",
    "\n",
    "svm_smote_model \\\n",
    "    = SVC \\\n",
    "        (kernel = svm_smote_grid_search_model.best_params_['kernel'],\n",
    "         gamma = svm_smote_grid_search_model.best_params_['gamma'],\n",
    "         class_weight = svm_smote_grid_search_model.best_params_['class_weight'],\n",
    "         decision_function_shape = svm_smote_grid_search_model.best_params_['decision_function_shape'],\n",
    "         probability = spam_detector_constants.CONSTANT_ML_SVM_PROBABILITY,\n",
    "         random_state = spam_detector_constants.CONSTANT_ML_RANDOM_STATE_1) \\\n",
    "            .fit(x_train_scaled_smote_dataframe, y_train_smote_series)"
   ]
  },
  {
   "cell_type": "markdown",
   "metadata": {},
   "source": [
    "### **Smoteen**"
   ]
  },
  {
   "cell_type": "code",
   "execution_count": 133,
   "metadata": {},
   "outputs": [],
   "source": [
    "svm_smoteen_grid_search_model \\\n",
    "    = pickle.load \\\n",
    "        (open(spam_detector_constants.CONSTANT_SVM_SMOTEEN_GRID_SEARCH_MODEL_FILE_PATH, 'rb'))\n",
    "\n",
    "svm_smoteen_model \\\n",
    "    = SVC \\\n",
    "        (kernel = svm_smoteen_grid_search_model.best_params_['kernel'],\n",
    "         gamma = svm_smoteen_grid_search_model.best_params_['gamma'],\n",
    "         class_weight = svm_smoteen_grid_search_model.best_params_['class_weight'],\n",
    "         decision_function_shape = svm_smoteen_grid_search_model.best_params_['decision_function_shape'],\n",
    "         probability = spam_detector_constants.CONSTANT_ML_SVM_PROBABILITY,\n",
    "         random_state = spam_detector_constants.CONSTANT_ML_RANDOM_STATE_1) \\\n",
    "            .fit(x_train_scaled_smoteen_dataframe, y_train_smoteen_series)"
   ]
  },
  {
   "cell_type": "markdown",
   "metadata": {},
   "source": [
    "## **6.2: Display the Model Scores Using the Scaled Training and Testing data.**"
   ]
  },
  {
   "cell_type": "markdown",
   "metadata": {},
   "source": [
    "### **Original**"
   ]
  },
  {
   "cell_type": "code",
   "execution_count": 134,
   "metadata": {},
   "outputs": [
    {
     "name": "stdout",
     "output_type": "stream",
     "text": [
      "\u001b[1mThe svm model score from scaled training data is 94.81%\u001b[0m\n"
     ]
    }
   ],
   "source": [
    "accuracy_score_train_float \\\n",
    "    = svm_model.score \\\n",
    "        (x_train_scaled_dataframe, y_train_series) * 100\n",
    "\n",
    "logx.print_and_log_text \\\n",
    "    ('\\033[1m'\n",
    "     + 'The svm model score from scaled training data is {:.2f}%' \\\n",
    "         .format(accuracy_score_train_float) \n",
    "     + '\\033[0m')"
   ]
  },
  {
   "cell_type": "code",
   "execution_count": 135,
   "metadata": {},
   "outputs": [
    {
     "name": "stdout",
     "output_type": "stream",
     "text": [
      "\u001b[1mThe svm model score from scaled test data is 92.53%\u001b[0m\n"
     ]
    }
   ],
   "source": [
    "accuracy_score_test_float \\\n",
    "    = svm_model.score \\\n",
    "        (x_test_scaled_dataframe, y_test_series) * 100\n",
    "\n",
    "logx.print_and_log_text \\\n",
    "    ('\\033[1m' \n",
    "     + 'The svm model score from scaled test data is {:.2f}%' \\\n",
    "         .format(accuracy_score_test_float) \n",
    "     + '\\033[0m')"
   ]
  },
  {
   "cell_type": "markdown",
   "metadata": {},
   "source": [
    "### **Random Undersampling**"
   ]
  },
  {
   "cell_type": "code",
   "execution_count": 136,
   "metadata": {},
   "outputs": [
    {
     "name": "stdout",
     "output_type": "stream",
     "text": [
      "\u001b[1mThe svm model score from undersampled scaled training data is 93.68%\u001b[0m\n"
     ]
    }
   ],
   "source": [
    "accuracy_score_train_float \\\n",
    "    = svm_undersampled_model.score \\\n",
    "        (x_train_scaled_dataframe, y_train_series) * 100\n",
    "\n",
    "logx.print_and_log_text \\\n",
    "    ('\\033[1m' \n",
    "     + 'The svm model score from undersampled scaled training data is {:.2f}%' \\\n",
    "         .format(accuracy_score_train_float) \n",
    "     + '\\033[0m')"
   ]
  },
  {
   "cell_type": "code",
   "execution_count": 137,
   "metadata": {},
   "outputs": [
    {
     "name": "stdout",
     "output_type": "stream",
     "text": [
      "\u001b[1mThe svm model score from undersampled scaled test data is 93.05%\u001b[0m\n"
     ]
    }
   ],
   "source": [
    "accuracy_score_test_float \\\n",
    "    = svm_undersampled_model.score \\\n",
    "        (x_test_scaled_dataframe, y_test_series) * 100\n",
    "\n",
    "logx.print_and_log_text \\\n",
    "    ('\\033[1m' \n",
    "     + 'The svm model score from undersampled scaled test data is {:.2f}%' \\\n",
    "         .format(accuracy_score_test_float) \n",
    "     + '\\033[0m')"
   ]
  },
  {
   "cell_type": "markdown",
   "metadata": {},
   "source": [
    "### **Random Oversampling**"
   ]
  },
  {
   "cell_type": "code",
   "execution_count": 138,
   "metadata": {},
   "outputs": [
    {
     "name": "stdout",
     "output_type": "stream",
     "text": [
      "\u001b[1mThe svm model score from overersampled scaled training data is 95.10%\u001b[0m\n"
     ]
    }
   ],
   "source": [
    "accuracy_score_train_float \\\n",
    "    = svm_oversampled_model.score \\\n",
    "        (x_train_scaled_dataframe, y_train_series) * 100\n",
    "\n",
    "logx.print_and_log_text \\\n",
    "    ('\\033[1m' \n",
    "     + 'The svm model score from overersampled scaled training data is {:.2f}%' \\\n",
    "         .format(accuracy_score_train_float) \n",
    "     + '\\033[0m')"
   ]
  },
  {
   "cell_type": "code",
   "execution_count": 139,
   "metadata": {},
   "outputs": [
    {
     "name": "stdout",
     "output_type": "stream",
     "text": [
      "\u001b[1mThe svm model score from oversampled scaled test data is 92.44%\u001b[0m\n"
     ]
    }
   ],
   "source": [
    "accuracy_score_test_float \\\n",
    "    = svm_oversampled_model.score \\\n",
    "        (x_test_scaled_dataframe, y_test_series) * 100\n",
    "\n",
    "logx.print_and_log_text \\\n",
    "    ('\\033[1m' \n",
    "     + 'The svm model score from oversampled scaled test data is {:.2f}%' \\\n",
    "         .format(accuracy_score_test_float) \n",
    "     + '\\033[0m')"
   ]
  },
  {
   "cell_type": "markdown",
   "metadata": {},
   "source": [
    "### **Cluster Centroids**"
   ]
  },
  {
   "cell_type": "code",
   "execution_count": 140,
   "metadata": {},
   "outputs": [
    {
     "name": "stdout",
     "output_type": "stream",
     "text": [
      "\u001b[1mThe svm model score from cluster centroids scaled training data is 89.59%\u001b[0m\n"
     ]
    }
   ],
   "source": [
    "accuracy_score_train_float \\\n",
    "    = svm_cluster_centroids_model.score \\\n",
    "        (x_train_scaled_dataframe, y_train_series) * 100\n",
    "\n",
    "logx.print_and_log_text \\\n",
    "    ('\\033[1m' \n",
    "     + 'The svm model score from cluster centroids scaled training data is {:.2f}%' \\\n",
    "         .format(accuracy_score_train_float) \n",
    "     + '\\033[0m')"
   ]
  },
  {
   "cell_type": "code",
   "execution_count": 141,
   "metadata": {},
   "outputs": [
    {
     "name": "stdout",
     "output_type": "stream",
     "text": [
      "\u001b[1mThe svm model score from cluster centroids scaled test data is 91.49%\u001b[0m\n"
     ]
    }
   ],
   "source": [
    "accuracy_score_test_float \\\n",
    "    = svm_cluster_centroids_model.score \\\n",
    "        (x_test_scaled_dataframe, y_test_series) * 100\n",
    "\n",
    "logx.print_and_log_text \\\n",
    "    ('\\033[1m' \n",
    "     + 'The svm model score from cluster centroids scaled test data is {:.2f}%' \\\n",
    "         .format(accuracy_score_test_float) \n",
    "     + '\\033[0m')"
   ]
  },
  {
   "cell_type": "markdown",
   "metadata": {},
   "source": [
    "### **SMOTE**"
   ]
  },
  {
   "cell_type": "code",
   "execution_count": 142,
   "metadata": {},
   "outputs": [
    {
     "name": "stdout",
     "output_type": "stream",
     "text": [
      "\u001b[1mThe svm model score from SMOTE scaled training data is 95.13%\u001b[0m\n"
     ]
    }
   ],
   "source": [
    "accuracy_score_train_float \\\n",
    "    = svm_smote_model.score \\\n",
    "        (x_train_scaled_dataframe, y_train_series) * 100\n",
    "\n",
    "logx.print_and_log_text \\\n",
    "    ('\\033[1m' \n",
    "     + 'The svm model score from SMOTE scaled training data is {:.2f}%' \\\n",
    "         .format(accuracy_score_train_float) \n",
    "     + '\\033[0m')"
   ]
  },
  {
   "cell_type": "code",
   "execution_count": 143,
   "metadata": {},
   "outputs": [
    {
     "name": "stdout",
     "output_type": "stream",
     "text": [
      "\u001b[1mThe svm model score from SMOTE scaled test data is 92.35%\u001b[0m\n"
     ]
    }
   ],
   "source": [
    "accuracy_score_test_float \\\n",
    "    = svm_smote_model.score \\\n",
    "        (x_test_scaled_dataframe, y_test_series) * 100\n",
    "\n",
    "logx.print_and_log_text \\\n",
    "    ('\\033[1m' \n",
    "     + 'The svm model score from SMOTE scaled test data is {:.2f}%' \\\n",
    "         .format(accuracy_score_test_float) \n",
    "     + '\\033[0m')"
   ]
  },
  {
   "cell_type": "markdown",
   "metadata": {},
   "source": [
    "### **SMOTEEN**"
   ]
  },
  {
   "cell_type": "code",
   "execution_count": 144,
   "metadata": {},
   "outputs": [
    {
     "name": "stdout",
     "output_type": "stream",
     "text": [
      "\u001b[1mThe svm model score from SMOTEEN scaled training data is 93.57%\u001b[0m\n"
     ]
    }
   ],
   "source": [
    "accuracy_score_train_float \\\n",
    "    = svm_smoteen_model.score \\\n",
    "        (x_train_scaled_dataframe, y_train_series) * 100\n",
    "\n",
    "logx.print_and_log_text \\\n",
    "    ('\\033[1m' \n",
    "     + 'The svm model score from SMOTEEN scaled training data is {:.2f}%' \\\n",
    "         .format(accuracy_score_train_float) \n",
    "     + '\\033[0m')"
   ]
  },
  {
   "cell_type": "code",
   "execution_count": 145,
   "metadata": {},
   "outputs": [
    {
     "name": "stdout",
     "output_type": "stream",
     "text": [
      "\u001b[1mThe svm model score from SMOTEEN scaled test data is 92.44%\u001b[0m\n"
     ]
    }
   ],
   "source": [
    "accuracy_score_test_float \\\n",
    "    = svm_smoteen_model.score \\\n",
    "        (x_test_scaled_dataframe, y_test_series) * 100\n",
    "\n",
    "logx.print_and_log_text \\\n",
    "    ('\\033[1m' \n",
    "     + 'The svm model score from SMOTEEN scaled test data is {:.2f}%' \\\n",
    "         .format(accuracy_score_test_float) \n",
    "     + '\\033[0m')"
   ]
  },
  {
   "cell_type": "markdown",
   "metadata": {},
   "source": [
    "## **6.3: Calculate Training and Test Predictions.**"
   ]
  },
  {
   "cell_type": "markdown",
   "metadata": {},
   "source": [
    "### **Original**"
   ]
  },
  {
   "cell_type": "code",
   "execution_count": 146,
   "metadata": {},
   "outputs": [],
   "source": [
    "svm_train_predictions_dataframe \\\n",
    "    = classificationsx.return_predictions_dataframe \\\n",
    "        (svm_model,\n",
    "         x_train_scaled_dataframe,\n",
    "         y_train_series)\n",
    "\n",
    "logx.log_write_object(svm_train_predictions_dataframe)"
   ]
  },
  {
   "cell_type": "code",
   "execution_count": 147,
   "metadata": {},
   "outputs": [],
   "source": [
    "svm_test_predictions_dataframe \\\n",
    "    = classificationsx.return_predictions_dataframe \\\n",
    "        (svm_model,\n",
    "         x_test_scaled_dataframe,\n",
    "         y_test_series)\n",
    "\n",
    "logx.log_write_object(svm_test_predictions_dataframe)"
   ]
  },
  {
   "cell_type": "markdown",
   "metadata": {},
   "source": [
    "### **Random Undersampling**"
   ]
  },
  {
   "cell_type": "code",
   "execution_count": 148,
   "metadata": {},
   "outputs": [],
   "source": [
    "svm_train_undersampled_predictions_dataframe \\\n",
    "    = classificationsx.return_predictions_dataframe \\\n",
    "        (svm_undersampled_model,\n",
    "         x_train_scaled_dataframe,\n",
    "         y_train_series)\n",
    "\n",
    "logx.log_write_object(svm_train_undersampled_predictions_dataframe)"
   ]
  },
  {
   "cell_type": "code",
   "execution_count": 149,
   "metadata": {},
   "outputs": [],
   "source": [
    "svm_test_undersampled_predictions_dataframe \\\n",
    "    = classificationsx.return_predictions_dataframe \\\n",
    "        (svm_undersampled_model,\n",
    "         x_test_scaled_dataframe,\n",
    "         y_test_series)\n",
    "\n",
    "logx.log_write_object(svm_test_undersampled_predictions_dataframe)"
   ]
  },
  {
   "cell_type": "markdown",
   "metadata": {},
   "source": [
    "### **Random Oversampling**"
   ]
  },
  {
   "cell_type": "code",
   "execution_count": 150,
   "metadata": {},
   "outputs": [],
   "source": [
    "svm_train_oversampled_predictions_dataframe \\\n",
    "    = classificationsx.return_predictions_dataframe \\\n",
    "        (svm_oversampled_model,\n",
    "         x_train_scaled_dataframe,\n",
    "         y_train_series)\n",
    "\n",
    "logx.log_write_object(svm_train_oversampled_predictions_dataframe)"
   ]
  },
  {
   "cell_type": "code",
   "execution_count": 151,
   "metadata": {},
   "outputs": [],
   "source": [
    "svm_test_oversampled_predictions_dataframe \\\n",
    "    = classificationsx.return_predictions_dataframe \\\n",
    "        (svm_oversampled_model,\n",
    "         x_test_scaled_dataframe,\n",
    "         y_test_series)\n",
    "\n",
    "logx.log_write_object(svm_test_oversampled_predictions_dataframe)"
   ]
  },
  {
   "cell_type": "markdown",
   "metadata": {},
   "source": [
    "### **Cluster Centroids**"
   ]
  },
  {
   "cell_type": "code",
   "execution_count": 152,
   "metadata": {},
   "outputs": [],
   "source": [
    "svm_train_cluster_centroids_predictions_dataframe \\\n",
    "    = classificationsx.return_predictions_dataframe \\\n",
    "        (svm_cluster_centroids_model,\n",
    "         x_train_scaled_dataframe,\n",
    "         y_train_series)\n",
    "\n",
    "logx.log_write_object(svm_train_cluster_centroids_predictions_dataframe)"
   ]
  },
  {
   "cell_type": "code",
   "execution_count": 153,
   "metadata": {},
   "outputs": [],
   "source": [
    "svm_test_cluster_centroids_predictions_dataframe \\\n",
    "    = classificationsx.return_predictions_dataframe \\\n",
    "        (svm_cluster_centroids_model,\n",
    "         x_test_scaled_dataframe,\n",
    "         y_test_series)\n",
    "\n",
    "logx.log_write_object(svm_test_cluster_centroids_predictions_dataframe)"
   ]
  },
  {
   "cell_type": "markdown",
   "metadata": {},
   "source": [
    "### **SMOTE**"
   ]
  },
  {
   "cell_type": "code",
   "execution_count": 154,
   "metadata": {},
   "outputs": [],
   "source": [
    "svm_train_smote_predictions_dataframe \\\n",
    "    = classificationsx.return_predictions_dataframe \\\n",
    "        (svm_smote_model,\n",
    "         x_train_scaled_dataframe,\n",
    "         y_train_series)\n",
    "\n",
    "logx.log_write_object(svm_train_smote_predictions_dataframe)"
   ]
  },
  {
   "cell_type": "code",
   "execution_count": 155,
   "metadata": {},
   "outputs": [],
   "source": [
    "svm_test_smote_predictions_dataframe \\\n",
    "    = classificationsx.return_predictions_dataframe \\\n",
    "        (svm_smote_model,\n",
    "         x_test_scaled_dataframe,\n",
    "         y_test_series)\n",
    "\n",
    "logx.log_write_object(svm_test_smote_predictions_dataframe)"
   ]
  },
  {
   "cell_type": "markdown",
   "metadata": {},
   "source": [
    "### **SMOTEEN**"
   ]
  },
  {
   "cell_type": "code",
   "execution_count": 156,
   "metadata": {},
   "outputs": [],
   "source": [
    "svm_train_smoteen_predictions_dataframe \\\n",
    "    = classificationsx.return_predictions_dataframe \\\n",
    "        (svm_smoteen_model,\n",
    "         x_train_scaled_dataframe,\n",
    "         y_train_series)\n",
    "\n",
    "logx.log_write_object(svm_train_smoteen_predictions_dataframe)"
   ]
  },
  {
   "cell_type": "code",
   "execution_count": 157,
   "metadata": {},
   "outputs": [],
   "source": [
    "svm_test_smoteen_predictions_dataframe \\\n",
    "    = classificationsx.return_predictions_dataframe \\\n",
    "        (svm_smote_model,\n",
    "         x_test_scaled_dataframe,\n",
    "         y_test_series)\n",
    "\n",
    "logx.log_write_object(svm_test_smoteen_predictions_dataframe)"
   ]
  },
  {
   "cell_type": "markdown",
   "metadata": {},
   "source": [
    "# <br> **Section 7: K-Nearest Neighbor (KNN) Models**"
   ]
  },
  {
   "cell_type": "markdown",
   "metadata": {},
   "source": [
    "## **7.1: Fit Models by Using the Scaled Training Data.**"
   ]
  },
  {
   "cell_type": "markdown",
   "metadata": {},
   "source": [
    "### **Original**"
   ]
  },
  {
   "cell_type": "code",
   "execution_count": 158,
   "metadata": {},
   "outputs": [],
   "source": [
    "knn_grid_search_model \\\n",
    "    = pickle.load(open(spam_detector_constants.CONSTANT_KNN_GRID_SEARCH_MODEL_FILE_PATH, 'rb'))\n",
    "\n",
    "knn_model \\\n",
    "    = KNeighborsClassifier \\\n",
    "        (n_neighbors = knn_grid_search_model.best_params_['n_neighbors'],\n",
    "         weights = knn_grid_search_model.best_params_['weights'],\n",
    "         algorithm = knn_grid_search_model.best_params_['algorithm'],\n",
    "         p = knn_grid_search_model.best_params_['p'],\n",
    "         leaf_size = spam_detector_constants.CONSTANT_ML_KNN_LEAF_SIZE) \\\n",
    "            .fit(x_train_scaled_dataframe, y_train_series)"
   ]
  },
  {
   "cell_type": "markdown",
   "metadata": {},
   "source": [
    "### **Random Undersampling**"
   ]
  },
  {
   "cell_type": "code",
   "execution_count": 159,
   "metadata": {},
   "outputs": [],
   "source": [
    "knn_undersampled_grid_search_model \\\n",
    "    = pickle.load \\\n",
    "        (open(spam_detector_constants.CONSTANT_KNN_UNDERSAMPLED_GRID_SEARCH_MODEL_FILE_PATH, 'rb'))\n",
    "\n",
    "knn_undersampled_model \\\n",
    "    = KNeighborsClassifier \\\n",
    "        (n_neighbors = knn_undersampled_grid_search_model.best_params_['n_neighbors'],\n",
    "         weights = knn_undersampled_grid_search_model.best_params_['weights'],\n",
    "         algorithm = knn_undersampled_grid_search_model.best_params_['algorithm'],\n",
    "         p = knn_undersampled_grid_search_model.best_params_['p'],\n",
    "         leaf_size = spam_detector_constants.CONSTANT_ML_KNN_LEAF_SIZE) \\\n",
    "            .fit(x_train_scaled_undersampled_dataframe, y_train_undersampled_series)"
   ]
  },
  {
   "cell_type": "markdown",
   "metadata": {},
   "source": [
    "### **Random Oversampling**"
   ]
  },
  {
   "cell_type": "code",
   "execution_count": 160,
   "metadata": {},
   "outputs": [],
   "source": [
    "knn_oversampled_grid_search_model \\\n",
    "    = pickle.load \\\n",
    "        (open(spam_detector_constants.CONSTANT_KNN_OVERSAMPLED_GRID_SEARCH_MODEL_FILE_PATH, 'rb'))\n",
    "\n",
    "knn_oversampled_model \\\n",
    "    = KNeighborsClassifier \\\n",
    "        (n_neighbors = knn_oversampled_grid_search_model.best_params_['n_neighbors'],\n",
    "         weights = knn_oversampled_grid_search_model.best_params_['weights'],\n",
    "         algorithm = knn_oversampled_grid_search_model.best_params_['algorithm'],\n",
    "         p = knn_oversampled_grid_search_model.best_params_['p'],\n",
    "         leaf_size = spam_detector_constants.CONSTANT_ML_KNN_LEAF_SIZE) \\\n",
    "            .fit(x_train_scaled_oversampled_dataframe, y_train_oversampled_series)"
   ]
  },
  {
   "cell_type": "markdown",
   "metadata": {},
   "source": [
    "### **Cluster Centroids**"
   ]
  },
  {
   "cell_type": "code",
   "execution_count": 161,
   "metadata": {},
   "outputs": [],
   "source": [
    "knn_cluster_centroids_grid_search_model \\\n",
    "    = pickle.load \\\n",
    "        (open(spam_detector_constants.CONSTANT_KNN_CENTROIDS_GRID_SEARCH_MODEL_FILE_PATH, 'rb'))\n",
    "\n",
    "knn_cluster_centroids_model \\\n",
    "    = KNeighborsClassifier \\\n",
    "        (n_neighbors = knn_cluster_centroids_grid_search_model.best_params_['n_neighbors'],\n",
    "         weights = knn_cluster_centroids_grid_search_model.best_params_['weights'],\n",
    "         algorithm = knn_cluster_centroids_grid_search_model.best_params_['algorithm'],\n",
    "         p = knn_cluster_centroids_grid_search_model.best_params_['p'],\n",
    "         leaf_size = spam_detector_constants.CONSTANT_ML_KNN_LEAF_SIZE) \\\n",
    "            .fit(x_train_scaled_cluster_centroids_dataframe, y_train_cluster_centroids_series)"
   ]
  },
  {
   "cell_type": "markdown",
   "metadata": {},
   "source": [
    "### **Smote**"
   ]
  },
  {
   "cell_type": "code",
   "execution_count": 162,
   "metadata": {},
   "outputs": [],
   "source": [
    "knn_smote_grid_search_model \\\n",
    "    = pickle.load \\\n",
    "        (open(spam_detector_constants.CONSTANT_KNN_SMOTE_GRID_SEARCH_MODEL_FILE_PATH, 'rb'))\n",
    "\n",
    "knn_smote_model \\\n",
    "    = KNeighborsClassifier \\\n",
    "        (n_neighbors = knn_smote_grid_search_model.best_params_['n_neighbors'],\n",
    "         weights = knn_smote_grid_search_model.best_params_['weights'],\n",
    "         algorithm = knn_smote_grid_search_model.best_params_['algorithm'],\n",
    "         p = knn_smote_grid_search_model.best_params_['p'],\n",
    "         leaf_size = spam_detector_constants.CONSTANT_ML_KNN_LEAF_SIZE) \\\n",
    "            .fit(x_train_scaled_smote_dataframe, y_train_smote_series)"
   ]
  },
  {
   "cell_type": "markdown",
   "metadata": {},
   "source": [
    "### **Smoteen**"
   ]
  },
  {
   "cell_type": "code",
   "execution_count": 163,
   "metadata": {},
   "outputs": [],
   "source": [
    "knn_smoteen_grid_search_model \\\n",
    "    = pickle.load \\\n",
    "        (open(spam_detector_constants.CONSTANT_KNN_SMOTEEN_GRID_SEARCH_MODEL_FILE_PATH, 'rb'))\n",
    "\n",
    "knn_smoteen_model \\\n",
    "    = KNeighborsClassifier \\\n",
    "        (n_neighbors = knn_smoteen_grid_search_model.best_params_['n_neighbors'],\n",
    "         weights = knn_smoteen_grid_search_model.best_params_['weights'],\n",
    "         algorithm = knn_smoteen_grid_search_model.best_params_['algorithm'],\n",
    "         p = knn_smoteen_grid_search_model.best_params_['p'],\n",
    "         leaf_size = spam_detector_constants.CONSTANT_ML_KNN_LEAF_SIZE) \\\n",
    "            .fit(x_train_scaled_smoteen_dataframe, y_train_smoteen_series)"
   ]
  },
  {
   "cell_type": "markdown",
   "metadata": {},
   "source": [
    "## **7.2: Display the Model Scores Using the Scaled Training and Testing data.**"
   ]
  },
  {
   "cell_type": "markdown",
   "metadata": {},
   "source": [
    "### **Original**"
   ]
  },
  {
   "cell_type": "code",
   "execution_count": 164,
   "metadata": {},
   "outputs": [
    {
     "name": "stdout",
     "output_type": "stream",
     "text": [
      "\u001b[1mThe knn model score from scaled training data is 99.91%\u001b[0m\n"
     ]
    }
   ],
   "source": [
    "accuracy_score_train_float \\\n",
    "    = knn_model.score \\\n",
    "        (x_train_scaled_dataframe, y_train_series) * 100\n",
    "\n",
    "logx.print_and_log_text \\\n",
    "    ('\\033[1m'\n",
    "     + 'The knn model score from scaled training data is {:.2f}%' \\\n",
    "         .format(accuracy_score_train_float) \n",
    "     + '\\033[0m')"
   ]
  },
  {
   "cell_type": "code",
   "execution_count": 165,
   "metadata": {},
   "outputs": [
    {
     "name": "stdout",
     "output_type": "stream",
     "text": [
      "\u001b[1mThe knn model score from scaled test data is 92.35%\u001b[0m\n"
     ]
    }
   ],
   "source": [
    "accuracy_score_test_float \\\n",
    "    = knn_model.score \\\n",
    "        (x_test_scaled_dataframe, y_test_series) * 100\n",
    "\n",
    "logx.print_and_log_text \\\n",
    "    ('\\033[1m' \n",
    "     + 'The knn model score from scaled test data is {:.2f}%' \\\n",
    "         .format(accuracy_score_test_float) \n",
    "     + '\\033[0m')"
   ]
  },
  {
   "cell_type": "markdown",
   "metadata": {},
   "source": [
    "### **Random Undersampling**"
   ]
  },
  {
   "cell_type": "code",
   "execution_count": 166,
   "metadata": {},
   "outputs": [
    {
     "name": "stdout",
     "output_type": "stream",
     "text": [
      "\u001b[1mThe knn model score from undersampled scaled training data is 98.90%\u001b[0m\n"
     ]
    }
   ],
   "source": [
    "accuracy_score_train_float \\\n",
    "    = knn_undersampled_model.score \\\n",
    "        (x_train_scaled_dataframe, y_train_series) * 100\n",
    "\n",
    "logx.print_and_log_text \\\n",
    "    ('\\033[1m' \n",
    "     + 'The knn model score from undersampled scaled training data is {:.2f}%' \\\n",
    "         .format(accuracy_score_train_float) \n",
    "     + '\\033[0m')"
   ]
  },
  {
   "cell_type": "code",
   "execution_count": 167,
   "metadata": {},
   "outputs": [
    {
     "name": "stdout",
     "output_type": "stream",
     "text": [
      "\u001b[1mThe knn model score from undersampled scaled test data is 91.57%\u001b[0m\n"
     ]
    }
   ],
   "source": [
    "accuracy_score_test_float \\\n",
    "    = knn_undersampled_model.score \\\n",
    "        (x_test_scaled_dataframe, y_test_series) * 100\n",
    "\n",
    "logx.print_and_log_text \\\n",
    "    ('\\033[1m' \n",
    "     + 'The knn model score from undersampled scaled test data is {:.2f}%' \\\n",
    "         .format(accuracy_score_test_float) \n",
    "     + '\\033[0m')"
   ]
  },
  {
   "cell_type": "markdown",
   "metadata": {},
   "source": [
    "### **Random Oversampling**"
   ]
  },
  {
   "cell_type": "code",
   "execution_count": 168,
   "metadata": {},
   "outputs": [
    {
     "name": "stdout",
     "output_type": "stream",
     "text": [
      "\u001b[1mThe knn model score from overersampled scaled training data is 99.91%\u001b[0m\n"
     ]
    }
   ],
   "source": [
    "accuracy_score_train_float \\\n",
    "    = knn_oversampled_model.score \\\n",
    "        (x_train_scaled_dataframe, y_train_series) * 100\n",
    "\n",
    "logx.print_and_log_text \\\n",
    "    ('\\033[1m' \n",
    "     + 'The knn model score from overersampled scaled training data is {:.2f}%' \\\n",
    "         .format(accuracy_score_train_float) \n",
    "     + '\\033[0m')"
   ]
  },
  {
   "cell_type": "code",
   "execution_count": 169,
   "metadata": {},
   "outputs": [
    {
     "name": "stdout",
     "output_type": "stream",
     "text": [
      "\u001b[1mThe knn model score from oversampled scaled test data is 91.92%\u001b[0m\n"
     ]
    }
   ],
   "source": [
    "accuracy_score_test_float \\\n",
    "    = knn_oversampled_model.score \\\n",
    "        (x_test_scaled_dataframe, y_test_series) * 100\n",
    "\n",
    "logx.print_and_log_text \\\n",
    "    ('\\033[1m' \n",
    "     + 'The knn model score from oversampled scaled test data is {:.2f}%' \\\n",
    "         .format(accuracy_score_test_float) \n",
    "     + '\\033[0m')"
   ]
  },
  {
   "cell_type": "markdown",
   "metadata": {},
   "source": [
    "### **Cluster Centroids**"
   ]
  },
  {
   "cell_type": "code",
   "execution_count": 170,
   "metadata": {},
   "outputs": [
    {
     "name": "stdout",
     "output_type": "stream",
     "text": [
      "\u001b[1mThe knn model score from cluster centroids scaled training data is 95.04%\u001b[0m\n"
     ]
    }
   ],
   "source": [
    "accuracy_score_train_float \\\n",
    "    = knn_cluster_centroids_model.score \\\n",
    "        (x_train_scaled_dataframe, y_train_series) * 100\n",
    "\n",
    "logx.print_and_log_text \\\n",
    "    ('\\033[1m' \n",
    "     + 'The knn model score from cluster centroids scaled training data is {:.2f}%' \\\n",
    "         .format(accuracy_score_train_float) \n",
    "     + '\\033[0m')"
   ]
  },
  {
   "cell_type": "code",
   "execution_count": 171,
   "metadata": {},
   "outputs": [
    {
     "name": "stdout",
     "output_type": "stream",
     "text": [
      "\u001b[1mThe knn model score from cluster centroids scaled test data is 87.58%\u001b[0m\n"
     ]
    }
   ],
   "source": [
    "accuracy_score_test_float \\\n",
    "    = knn_cluster_centroids_model.score \\\n",
    "        (x_test_scaled_dataframe, y_test_series) * 100\n",
    "\n",
    "logx.print_and_log_text \\\n",
    "    ('\\033[1m' \n",
    "     + 'The knn model score from cluster centroids scaled test data is {:.2f}%' \\\n",
    "         .format(accuracy_score_test_float) \n",
    "     + '\\033[0m')"
   ]
  },
  {
   "cell_type": "markdown",
   "metadata": {},
   "source": [
    "### **SMOTE**"
   ]
  },
  {
   "cell_type": "code",
   "execution_count": 172,
   "metadata": {},
   "outputs": [
    {
     "name": "stdout",
     "output_type": "stream",
     "text": [
      "\u001b[1mThe knn model score from SMOTE scaled training data is 99.91%\u001b[0m\n"
     ]
    }
   ],
   "source": [
    "accuracy_score_train_float \\\n",
    "    = knn_smote_model.score \\\n",
    "        (x_train_scaled_dataframe, y_train_series) * 100\n",
    "\n",
    "logx.print_and_log_text \\\n",
    "    ('\\033[1m' \n",
    "     + 'The knn model score from SMOTE scaled training data is {:.2f}%' \\\n",
    "         .format(accuracy_score_train_float) \n",
    "     + '\\033[0m')"
   ]
  },
  {
   "cell_type": "code",
   "execution_count": 173,
   "metadata": {},
   "outputs": [
    {
     "name": "stdout",
     "output_type": "stream",
     "text": [
      "\u001b[1mThe knn model score from SMOTE scaled test data is 92.62%\u001b[0m\n"
     ]
    }
   ],
   "source": [
    "accuracy_score_test_float \\\n",
    "    = knn_smote_model.score \\\n",
    "        (x_test_scaled_dataframe, y_test_series) * 100\n",
    "\n",
    "logx.print_and_log_text \\\n",
    "    ('\\033[1m' \n",
    "     + 'The knn model score from SMOTE scaled test data is {:.2f}%' \\\n",
    "         .format(accuracy_score_test_float) \n",
    "     + '\\033[0m')"
   ]
  },
  {
   "cell_type": "markdown",
   "metadata": {},
   "source": [
    "### **SMOTEEN**"
   ]
  },
  {
   "cell_type": "code",
   "execution_count": 174,
   "metadata": {},
   "outputs": [
    {
     "name": "stdout",
     "output_type": "stream",
     "text": [
      "\u001b[1mThe knn model score from SMOTEEN scaled training data is 91.65%\u001b[0m\n"
     ]
    }
   ],
   "source": [
    "accuracy_score_train_float \\\n",
    "    = knn_smoteen_model.score \\\n",
    "        (x_train_scaled_dataframe, y_train_series) * 100\n",
    "\n",
    "logx.print_and_log_text \\\n",
    "    ('\\033[1m' \n",
    "     + 'The knn model score from SMOTEEN scaled training data is {:.2f}%' \\\n",
    "         .format(accuracy_score_train_float) \n",
    "     + '\\033[0m')"
   ]
  },
  {
   "cell_type": "code",
   "execution_count": 175,
   "metadata": {},
   "outputs": [
    {
     "name": "stdout",
     "output_type": "stream",
     "text": [
      "\u001b[1mThe knn model score from SMOTEEN scaled test data is 89.14%\u001b[0m\n"
     ]
    }
   ],
   "source": [
    "accuracy_score_test_float \\\n",
    "    = knn_smoteen_model.score \\\n",
    "        (x_test_scaled_dataframe, y_test_series) * 100\n",
    "\n",
    "logx.print_and_log_text \\\n",
    "    ('\\033[1m' \n",
    "     + 'The knn model score from SMOTEEN scaled test data is {:.2f}%' \\\n",
    "         .format(accuracy_score_test_float) \n",
    "     + '\\033[0m')"
   ]
  },
  {
   "cell_type": "markdown",
   "metadata": {},
   "source": [
    "## **7.3: Calculate Training and Test Predictions.**"
   ]
  },
  {
   "cell_type": "markdown",
   "metadata": {},
   "source": [
    "### **Original**"
   ]
  },
  {
   "cell_type": "code",
   "execution_count": 176,
   "metadata": {},
   "outputs": [],
   "source": [
    "knn_train_predictions_dataframe \\\n",
    "    = classificationsx.return_predictions_dataframe \\\n",
    "        (knn_model,\n",
    "         x_train_scaled_dataframe,\n",
    "         y_train_series)\n",
    "\n",
    "logx.log_write_object(knn_train_predictions_dataframe)"
   ]
  },
  {
   "cell_type": "code",
   "execution_count": 177,
   "metadata": {},
   "outputs": [],
   "source": [
    "knn_test_predictions_dataframe \\\n",
    "    = classificationsx.return_predictions_dataframe \\\n",
    "        (knn_model,\n",
    "         x_test_scaled_dataframe,\n",
    "         y_test_series)\n",
    "\n",
    "logx.log_write_object(knn_test_predictions_dataframe)"
   ]
  },
  {
   "cell_type": "markdown",
   "metadata": {},
   "source": [
    "### **Random Undersampling**"
   ]
  },
  {
   "cell_type": "code",
   "execution_count": 178,
   "metadata": {},
   "outputs": [],
   "source": [
    "knn_train_undersampled_predictions_dataframe \\\n",
    "    = classificationsx.return_predictions_dataframe \\\n",
    "        (knn_undersampled_model,\n",
    "         x_train_scaled_dataframe,\n",
    "         y_train_series)\n",
    "\n",
    "logx.log_write_object(knn_train_undersampled_predictions_dataframe)"
   ]
  },
  {
   "cell_type": "code",
   "execution_count": 179,
   "metadata": {},
   "outputs": [],
   "source": [
    "knn_test_undersampled_predictions_dataframe \\\n",
    "    = classificationsx.return_predictions_dataframe \\\n",
    "        (knn_undersampled_model,\n",
    "         x_test_scaled_dataframe,\n",
    "         y_test_series)\n",
    "\n",
    "logx.log_write_object(knn_test_undersampled_predictions_dataframe)"
   ]
  },
  {
   "cell_type": "markdown",
   "metadata": {},
   "source": [
    "### **Random Oversampling**"
   ]
  },
  {
   "cell_type": "code",
   "execution_count": 180,
   "metadata": {},
   "outputs": [],
   "source": [
    "knn_train_oversampled_predictions_dataframe \\\n",
    "    = classificationsx.return_predictions_dataframe \\\n",
    "        (knn_oversampled_model,\n",
    "         x_train_scaled_dataframe,\n",
    "         y_train_series)\n",
    "\n",
    "logx.log_write_object(knn_train_oversampled_predictions_dataframe)"
   ]
  },
  {
   "cell_type": "code",
   "execution_count": 181,
   "metadata": {},
   "outputs": [],
   "source": [
    "knn_test_oversampled_predictions_dataframe \\\n",
    "    = classificationsx.return_predictions_dataframe \\\n",
    "        (knn_oversampled_model,\n",
    "         x_test_scaled_dataframe,\n",
    "         y_test_series)\n",
    "\n",
    "logx.log_write_object(knn_test_oversampled_predictions_dataframe)"
   ]
  },
  {
   "cell_type": "markdown",
   "metadata": {},
   "source": [
    "### **Cluster Centroids**"
   ]
  },
  {
   "cell_type": "code",
   "execution_count": 182,
   "metadata": {},
   "outputs": [],
   "source": [
    "knn_train_cluster_centroids_predictions_dataframe \\\n",
    "    = classificationsx.return_predictions_dataframe \\\n",
    "        (knn_cluster_centroids_model,\n",
    "         x_train_scaled_dataframe,\n",
    "         y_train_series)\n",
    "\n",
    "logx.log_write_object(knn_train_cluster_centroids_predictions_dataframe)"
   ]
  },
  {
   "cell_type": "code",
   "execution_count": 183,
   "metadata": {},
   "outputs": [],
   "source": [
    "knn_test_cluster_centroids_predictions_dataframe \\\n",
    "    = classificationsx.return_predictions_dataframe \\\n",
    "        (knn_cluster_centroids_model,\n",
    "         x_test_scaled_dataframe,\n",
    "         y_test_series)\n",
    "\n",
    "logx.log_write_object(knn_test_cluster_centroids_predictions_dataframe)"
   ]
  },
  {
   "cell_type": "markdown",
   "metadata": {},
   "source": [
    "### **SMOTE**"
   ]
  },
  {
   "cell_type": "code",
   "execution_count": 184,
   "metadata": {},
   "outputs": [],
   "source": [
    "knn_train_smote_predictions_dataframe \\\n",
    "    = classificationsx.return_predictions_dataframe \\\n",
    "        (knn_smote_model,\n",
    "         x_train_scaled_dataframe,\n",
    "         y_train_series)\n",
    "\n",
    "logx.log_write_object(knn_train_smote_predictions_dataframe)"
   ]
  },
  {
   "cell_type": "code",
   "execution_count": 185,
   "metadata": {},
   "outputs": [],
   "source": [
    "knn_test_smote_predictions_dataframe \\\n",
    "    = classificationsx.return_predictions_dataframe \\\n",
    "        (knn_smote_model,\n",
    "         x_test_scaled_dataframe,\n",
    "         y_test_series)\n",
    "\n",
    "logx.log_write_object(knn_test_smote_predictions_dataframe)"
   ]
  },
  {
   "cell_type": "markdown",
   "metadata": {},
   "source": [
    "### **SMOTEEN**"
   ]
  },
  {
   "cell_type": "code",
   "execution_count": 186,
   "metadata": {},
   "outputs": [],
   "source": [
    "knn_train_smoteen_predictions_dataframe \\\n",
    "    = classificationsx.return_predictions_dataframe \\\n",
    "        (knn_smoteen_model,\n",
    "         x_train_scaled_dataframe,\n",
    "         y_train_series)\n",
    "\n",
    "logx.log_write_object(knn_train_smoteen_predictions_dataframe)"
   ]
  },
  {
   "cell_type": "code",
   "execution_count": 187,
   "metadata": {},
   "outputs": [],
   "source": [
    "knn_test_smoteen_predictions_dataframe \\\n",
    "    = classificationsx.return_predictions_dataframe \\\n",
    "        (knn_smote_model,\n",
    "         x_test_scaled_dataframe,\n",
    "         y_test_series)\n",
    "\n",
    "logx.log_write_object(knn_test_smoteen_predictions_dataframe)"
   ]
  },
  {
   "cell_type": "markdown",
   "metadata": {},
   "source": [
    "# <br> **Section 8: Gaussian Naive Bayes (GNB) Models**"
   ]
  },
  {
   "cell_type": "markdown",
   "metadata": {},
   "source": [
    "## **8.1: Fit Models by Using the Scaled Training Data.**"
   ]
  },
  {
   "cell_type": "markdown",
   "metadata": {},
   "source": [
    "### **Original**"
   ]
  },
  {
   "cell_type": "code",
   "execution_count": 188,
   "metadata": {},
   "outputs": [],
   "source": [
    "gnb_model \\\n",
    "    = GaussianNB().fit(x_train_scaled_dataframe, y_train_series)"
   ]
  },
  {
   "cell_type": "markdown",
   "metadata": {},
   "source": [
    "### **Random Undersampling**"
   ]
  },
  {
   "cell_type": "code",
   "execution_count": 189,
   "metadata": {},
   "outputs": [],
   "source": [
    "gnb_undersampled_model \\\n",
    "    = GaussianNB().fit(x_train_scaled_undersampled_dataframe, y_train_undersampled_series)"
   ]
  },
  {
   "cell_type": "markdown",
   "metadata": {},
   "source": [
    "### **Random Oversampling**"
   ]
  },
  {
   "cell_type": "code",
   "execution_count": 190,
   "metadata": {},
   "outputs": [],
   "source": [
    "gnb_oversampled_model \\\n",
    "    = GaussianNB().fit(x_train_scaled_oversampled_dataframe, y_train_oversampled_series)"
   ]
  },
  {
   "cell_type": "markdown",
   "metadata": {},
   "source": [
    "### **Cluster Centroids**"
   ]
  },
  {
   "cell_type": "code",
   "execution_count": 191,
   "metadata": {},
   "outputs": [],
   "source": [
    "gnb_cluster_centroids_model \\\n",
    "    = GaussianNB().fit(x_train_scaled_cluster_centroids_dataframe, y_train_cluster_centroids_series)"
   ]
  },
  {
   "cell_type": "markdown",
   "metadata": {},
   "source": [
    "### **Smote**"
   ]
  },
  {
   "cell_type": "code",
   "execution_count": 192,
   "metadata": {},
   "outputs": [],
   "source": [
    "gnb_smote_model \\\n",
    "    = GaussianNB().fit(x_train_scaled_smote_dataframe, y_train_smote_series)"
   ]
  },
  {
   "cell_type": "markdown",
   "metadata": {},
   "source": [
    "### **Smoteen**"
   ]
  },
  {
   "cell_type": "code",
   "execution_count": 193,
   "metadata": {},
   "outputs": [],
   "source": [
    "gnb_smoteen_model \\\n",
    "    = GaussianNB().fit(x_train_scaled_smoteen_dataframe, y_train_smoteen_series)"
   ]
  },
  {
   "cell_type": "markdown",
   "metadata": {},
   "source": [
    "## **8.2: Display the Model Scores Using the Scaled Training and Testing data.**"
   ]
  },
  {
   "cell_type": "markdown",
   "metadata": {},
   "source": [
    "### **Original**"
   ]
  },
  {
   "cell_type": "code",
   "execution_count": 194,
   "metadata": {},
   "outputs": [
    {
     "name": "stdout",
     "output_type": "stream",
     "text": [
      "\u001b[1mThe gnb model score from scaled training data is 81.62%\u001b[0m\n"
     ]
    }
   ],
   "source": [
    "accuracy_score_train_float \\\n",
    "    = gnb_model.score \\\n",
    "        (x_train_scaled_dataframe, y_train_series) * 100\n",
    "\n",
    "logx.print_and_log_text \\\n",
    "    ('\\033[1m'\n",
    "     + 'The gnb model score from scaled training data is {:.2f}%' \\\n",
    "         .format(accuracy_score_train_float) \n",
    "     + '\\033[0m')"
   ]
  },
  {
   "cell_type": "code",
   "execution_count": 195,
   "metadata": {},
   "outputs": [
    {
     "name": "stdout",
     "output_type": "stream",
     "text": [
      "\u001b[1mThe gnb model score from scaled test data is 81.15%\u001b[0m\n"
     ]
    }
   ],
   "source": [
    "accuracy_score_test_float \\\n",
    "    = gnb_model.score \\\n",
    "        (x_test_scaled_dataframe, y_test_series) * 100\n",
    "\n",
    "logx.print_and_log_text \\\n",
    "    ('\\033[1m' \n",
    "     + 'The gnb model score from scaled test data is {:.2f}%' \\\n",
    "         .format(accuracy_score_test_float) \n",
    "     + '\\033[0m')"
   ]
  },
  {
   "cell_type": "markdown",
   "metadata": {},
   "source": [
    "### **Random Undersampling**"
   ]
  },
  {
   "cell_type": "code",
   "execution_count": 196,
   "metadata": {},
   "outputs": [
    {
     "name": "stdout",
     "output_type": "stream",
     "text": [
      "\u001b[1mThe gnb model score from undersampled scaled training data is 81.71%\u001b[0m\n"
     ]
    }
   ],
   "source": [
    "accuracy_score_train_float \\\n",
    "    = gnb_undersampled_model.score \\\n",
    "        (x_train_scaled_dataframe, y_train_series) * 100\n",
    "\n",
    "logx.print_and_log_text \\\n",
    "    ('\\033[1m' \n",
    "     + 'The gnb model score from undersampled scaled training data is {:.2f}%' \\\n",
    "         .format(accuracy_score_train_float) \n",
    "     + '\\033[0m')"
   ]
  },
  {
   "cell_type": "code",
   "execution_count": 197,
   "metadata": {},
   "outputs": [
    {
     "name": "stdout",
     "output_type": "stream",
     "text": [
      "\u001b[1mThe gnb model score from undersampled scaled test data is 81.15%\u001b[0m\n"
     ]
    }
   ],
   "source": [
    "accuracy_score_test_float \\\n",
    "    = gnb_undersampled_model.score \\\n",
    "        (x_test_scaled_dataframe, y_test_series) * 100\n",
    "\n",
    "logx.print_and_log_text \\\n",
    "    ('\\033[1m' \n",
    "     + 'The gnb model score from undersampled scaled test data is {:.2f}%' \\\n",
    "         .format(accuracy_score_test_float) \n",
    "     + '\\033[0m')"
   ]
  },
  {
   "cell_type": "markdown",
   "metadata": {},
   "source": [
    "### **Random Oversampling**"
   ]
  },
  {
   "cell_type": "code",
   "execution_count": 198,
   "metadata": {},
   "outputs": [
    {
     "name": "stdout",
     "output_type": "stream",
     "text": [
      "\u001b[1mThe gnb model score from overersampled scaled training data is 81.25%\u001b[0m\n"
     ]
    }
   ],
   "source": [
    "accuracy_score_train_float \\\n",
    "    = gnb_oversampled_model.score \\\n",
    "        (x_train_scaled_dataframe, y_train_series) * 100\n",
    "\n",
    "logx.print_and_log_text \\\n",
    "    ('\\033[1m' \n",
    "     + 'The gnb model score from overersampled scaled training data is {:.2f}%' \\\n",
    "         .format(accuracy_score_train_float) \n",
    "     + '\\033[0m')"
   ]
  },
  {
   "cell_type": "code",
   "execution_count": 199,
   "metadata": {},
   "outputs": [
    {
     "name": "stdout",
     "output_type": "stream",
     "text": [
      "\u001b[1mThe gnb model score from oversampled scaled test data is 80.97%\u001b[0m\n"
     ]
    }
   ],
   "source": [
    "accuracy_score_test_float \\\n",
    "    = gnb_oversampled_model.score \\\n",
    "        (x_test_scaled_dataframe, y_test_series) * 100\n",
    "\n",
    "logx.print_and_log_text \\\n",
    "    ('\\033[1m' \n",
    "     + 'The gnb model score from oversampled scaled test data is {:.2f}%' \\\n",
    "         .format(accuracy_score_test_float) \n",
    "     + '\\033[0m')"
   ]
  },
  {
   "cell_type": "markdown",
   "metadata": {},
   "source": [
    "### **Cluster Centroids**"
   ]
  },
  {
   "cell_type": "code",
   "execution_count": 200,
   "metadata": {},
   "outputs": [
    {
     "name": "stdout",
     "output_type": "stream",
     "text": [
      "\u001b[1mThe gnb model score from cluster centroids scaled training data is 81.30%\u001b[0m\n"
     ]
    }
   ],
   "source": [
    "accuracy_score_train_float \\\n",
    "    = gnb_cluster_centroids_model.score \\\n",
    "        (x_train_scaled_dataframe, y_train_series) * 100\n",
    "\n",
    "logx.print_and_log_text \\\n",
    "    ('\\033[1m' \n",
    "     + 'The gnb model score from cluster centroids scaled training data is {:.2f}%' \\\n",
    "         .format(accuracy_score_train_float) \n",
    "     + '\\033[0m')"
   ]
  },
  {
   "cell_type": "code",
   "execution_count": 201,
   "metadata": {},
   "outputs": [
    {
     "name": "stdout",
     "output_type": "stream",
     "text": [
      "\u001b[1mThe gnb model score from cluster centroids scaled test data is 81.23%\u001b[0m\n"
     ]
    }
   ],
   "source": [
    "accuracy_score_test_float \\\n",
    "    = gnb_cluster_centroids_model.score \\\n",
    "        (x_test_scaled_dataframe, y_test_series) * 100\n",
    "\n",
    "logx.print_and_log_text \\\n",
    "    ('\\033[1m' \n",
    "     + 'The gnb model score from cluster centroids scaled test data is {:.2f}%' \\\n",
    "         .format(accuracy_score_test_float) \n",
    "     + '\\033[0m')"
   ]
  },
  {
   "cell_type": "markdown",
   "metadata": {},
   "source": [
    "### **SMOTE**"
   ]
  },
  {
   "cell_type": "code",
   "execution_count": 202,
   "metadata": {},
   "outputs": [
    {
     "name": "stdout",
     "output_type": "stream",
     "text": [
      "\u001b[1mThe gnb model score from SMOTE scaled training data is 81.91%\u001b[0m\n"
     ]
    }
   ],
   "source": [
    "accuracy_score_train_float \\\n",
    "    = gnb_smote_model.score \\\n",
    "        (x_train_scaled_dataframe, y_train_series) * 100\n",
    "\n",
    "logx.print_and_log_text \\\n",
    "    ('\\033[1m' \n",
    "     + 'The gnb model score from SMOTE scaled training data is {:.2f}%' \\\n",
    "         .format(accuracy_score_train_float) \n",
    "     + '\\033[0m')"
   ]
  },
  {
   "cell_type": "code",
   "execution_count": 203,
   "metadata": {},
   "outputs": [
    {
     "name": "stdout",
     "output_type": "stream",
     "text": [
      "\u001b[1mThe gnb model score from SMOTE scaled test data is 81.49%\u001b[0m\n"
     ]
    }
   ],
   "source": [
    "accuracy_score_test_float \\\n",
    "    = gnb_smote_model.score \\\n",
    "        (x_test_scaled_dataframe, y_test_series) * 100\n",
    "\n",
    "logx.print_and_log_text \\\n",
    "    ('\\033[1m' \n",
    "     + 'The gnb model score from SMOTE scaled test data is {:.2f}%' \\\n",
    "         .format(accuracy_score_test_float) \n",
    "     + '\\033[0m')"
   ]
  },
  {
   "cell_type": "markdown",
   "metadata": {},
   "source": [
    "### **SMOTEEN**"
   ]
  },
  {
   "cell_type": "code",
   "execution_count": 204,
   "metadata": {},
   "outputs": [
    {
     "name": "stdout",
     "output_type": "stream",
     "text": [
      "\u001b[1mThe gnb model score from SMOTEEN scaled training data is 83.25%\u001b[0m\n"
     ]
    }
   ],
   "source": [
    "accuracy_score_train_float \\\n",
    "    = gnb_smoteen_model.score \\\n",
    "        (x_train_scaled_dataframe, y_train_series) * 100\n",
    "\n",
    "logx.print_and_log_text \\\n",
    "    ('\\033[1m' \n",
    "     + 'The gnb model score from SMOTEEN scaled training data is {:.2f}%' \\\n",
    "         .format(accuracy_score_train_float) \n",
    "     + '\\033[0m')"
   ]
  },
  {
   "cell_type": "code",
   "execution_count": 205,
   "metadata": {},
   "outputs": [
    {
     "name": "stdout",
     "output_type": "stream",
     "text": [
      "\u001b[1mThe gnb model score from SMOTEEN scaled test data is 84.19%\u001b[0m\n"
     ]
    }
   ],
   "source": [
    "accuracy_score_test_float \\\n",
    "    = gnb_smoteen_model.score \\\n",
    "        (x_test_scaled_dataframe, y_test_series) * 100\n",
    "\n",
    "logx.print_and_log_text \\\n",
    "    ('\\033[1m' \n",
    "     + 'The gnb model score from SMOTEEN scaled test data is {:.2f}%' \\\n",
    "         .format(accuracy_score_test_float) \n",
    "     + '\\033[0m')"
   ]
  },
  {
   "cell_type": "markdown",
   "metadata": {},
   "source": [
    "## **8.3: Calculate Training and Test Predictions.**"
   ]
  },
  {
   "cell_type": "markdown",
   "metadata": {},
   "source": [
    "### **Original**"
   ]
  },
  {
   "cell_type": "code",
   "execution_count": 206,
   "metadata": {},
   "outputs": [],
   "source": [
    "gnb_train_predictions_dataframe \\\n",
    "    = classificationsx.return_predictions_dataframe \\\n",
    "        (gnb_model,\n",
    "         x_train_scaled_dataframe,\n",
    "         y_train_series)\n",
    "\n",
    "logx.log_write_object(gnb_train_predictions_dataframe)"
   ]
  },
  {
   "cell_type": "code",
   "execution_count": 207,
   "metadata": {},
   "outputs": [],
   "source": [
    "gnb_test_predictions_dataframe \\\n",
    "    = classificationsx.return_predictions_dataframe \\\n",
    "        (gnb_model,\n",
    "         x_test_scaled_dataframe,\n",
    "         y_test_series)\n",
    "\n",
    "logx.log_write_object(gnb_test_predictions_dataframe)"
   ]
  },
  {
   "cell_type": "markdown",
   "metadata": {},
   "source": [
    "### **Random Undersampling**"
   ]
  },
  {
   "cell_type": "code",
   "execution_count": 208,
   "metadata": {},
   "outputs": [],
   "source": [
    "gnb_train_undersampled_predictions_dataframe \\\n",
    "    = classificationsx.return_predictions_dataframe \\\n",
    "        (gnb_undersampled_model,\n",
    "         x_train_scaled_dataframe,\n",
    "         y_train_series)\n",
    "\n",
    "logx.log_write_object(gnb_train_undersampled_predictions_dataframe)"
   ]
  },
  {
   "cell_type": "code",
   "execution_count": 209,
   "metadata": {},
   "outputs": [],
   "source": [
    "gnb_test_undersampled_predictions_dataframe \\\n",
    "    = classificationsx.return_predictions_dataframe \\\n",
    "        (gnb_undersampled_model,\n",
    "         x_test_scaled_dataframe,\n",
    "         y_test_series)\n",
    "\n",
    "logx.log_write_object(gnb_test_undersampled_predictions_dataframe)"
   ]
  },
  {
   "cell_type": "markdown",
   "metadata": {},
   "source": [
    "### **Random Oversampling**"
   ]
  },
  {
   "cell_type": "code",
   "execution_count": 210,
   "metadata": {},
   "outputs": [],
   "source": [
    "gnb_train_oversampled_predictions_dataframe \\\n",
    "    = classificationsx.return_predictions_dataframe \\\n",
    "        (gnb_oversampled_model,\n",
    "         x_train_scaled_dataframe,\n",
    "         y_train_series)\n",
    "\n",
    "logx.log_write_object(gnb_train_oversampled_predictions_dataframe)"
   ]
  },
  {
   "cell_type": "code",
   "execution_count": 211,
   "metadata": {},
   "outputs": [],
   "source": [
    "gnb_test_oversampled_predictions_dataframe \\\n",
    "    = classificationsx.return_predictions_dataframe \\\n",
    "        (gnb_oversampled_model,\n",
    "         x_test_scaled_dataframe,\n",
    "         y_test_series)\n",
    "\n",
    "logx.log_write_object(gnb_test_oversampled_predictions_dataframe)"
   ]
  },
  {
   "cell_type": "markdown",
   "metadata": {},
   "source": [
    "### **Cluster Centroids**"
   ]
  },
  {
   "cell_type": "code",
   "execution_count": 212,
   "metadata": {},
   "outputs": [],
   "source": [
    "gnb_train_cluster_centroids_predictions_dataframe \\\n",
    "    = classificationsx.return_predictions_dataframe \\\n",
    "        (gnb_cluster_centroids_model,\n",
    "         x_train_scaled_dataframe,\n",
    "         y_train_series)\n",
    "\n",
    "logx.log_write_object(gnb_train_cluster_centroids_predictions_dataframe)"
   ]
  },
  {
   "cell_type": "code",
   "execution_count": 213,
   "metadata": {},
   "outputs": [],
   "source": [
    "gnb_test_cluster_centroids_predictions_dataframe \\\n",
    "    = classificationsx.return_predictions_dataframe \\\n",
    "        (gnb_cluster_centroids_model,\n",
    "         x_test_scaled_dataframe,\n",
    "         y_test_series)\n",
    "\n",
    "logx.log_write_object(gnb_test_cluster_centroids_predictions_dataframe)"
   ]
  },
  {
   "cell_type": "markdown",
   "metadata": {},
   "source": [
    "### **SMOTE**"
   ]
  },
  {
   "cell_type": "code",
   "execution_count": 214,
   "metadata": {},
   "outputs": [],
   "source": [
    "gnb_train_smote_predictions_dataframe \\\n",
    "    = classificationsx.return_predictions_dataframe \\\n",
    "        (gnb_smote_model,\n",
    "         x_train_scaled_dataframe,\n",
    "         y_train_series)\n",
    "\n",
    "logx.log_write_object(gnb_train_smote_predictions_dataframe)"
   ]
  },
  {
   "cell_type": "code",
   "execution_count": 215,
   "metadata": {},
   "outputs": [],
   "source": [
    "gnb_test_smote_predictions_dataframe \\\n",
    "    = classificationsx.return_predictions_dataframe \\\n",
    "        (gnb_smote_model,\n",
    "         x_test_scaled_dataframe,\n",
    "         y_test_series)\n",
    "\n",
    "logx.log_write_object(gnb_test_smote_predictions_dataframe)"
   ]
  },
  {
   "cell_type": "markdown",
   "metadata": {},
   "source": [
    "### **SMOTEEN**"
   ]
  },
  {
   "cell_type": "code",
   "execution_count": 216,
   "metadata": {},
   "outputs": [],
   "source": [
    "gnb_train_smoteen_predictions_dataframe \\\n",
    "    = classificationsx.return_predictions_dataframe \\\n",
    "        (gnb_smoteen_model,\n",
    "         x_train_scaled_dataframe,\n",
    "         y_train_series)\n",
    "\n",
    "logx.log_write_object(gnb_train_smoteen_predictions_dataframe)"
   ]
  },
  {
   "cell_type": "code",
   "execution_count": 217,
   "metadata": {},
   "outputs": [],
   "source": [
    "gnb_test_smoteen_predictions_dataframe \\\n",
    "    = classificationsx.return_predictions_dataframe \\\n",
    "        (gnb_smote_model,\n",
    "         x_test_scaled_dataframe,\n",
    "         y_test_series)\n",
    "\n",
    "logx.log_write_object(gnb_test_smoteen_predictions_dataframe)"
   ]
  },
  {
   "cell_type": "markdown",
   "metadata": {},
   "source": [
    "# <br> **Section 9: Evaluate Model Performance**"
   ]
  },
  {
   "cell_type": "markdown",
   "metadata": {},
   "source": [
    "## **9.1: Logistic Regression**"
   ]
  },
  {
   "cell_type": "markdown",
   "metadata": {},
   "source": [
    "### **Original**"
   ]
  },
  {
   "cell_type": "code",
   "execution_count": 218,
   "metadata": {},
   "outputs": [
    {
     "data": {
      "text/plain": [
       "{'C': 1.0,\n",
       " 'class_weight': None,\n",
       " 'dual': False,\n",
       " 'fit_intercept': True,\n",
       " 'intercept_scaling': 1,\n",
       " 'l1_ratio': None,\n",
       " 'max_iter': 10000,\n",
       " 'multi_class': 'multinomial',\n",
       " 'n_jobs': None,\n",
       " 'penalty': 'l2',\n",
       " 'random_state': 21,\n",
       " 'solver': 'newton-cg',\n",
       " 'tol': 0.0001,\n",
       " 'verbose': 0,\n",
       " 'warm_start': False}"
      ]
     },
     "execution_count": 218,
     "metadata": {},
     "output_type": "execute_result"
    }
   ],
   "source": [
    "logistic_regression_model.get_params()"
   ]
  },
  {
   "cell_type": "code",
   "execution_count": 219,
   "metadata": {},
   "outputs": [
    {
     "name": "stdout",
     "output_type": "stream",
     "text": [
      "\u001b[1mThe balanced accuracy score for logistic regression from actual vs. test predictions is 90.88%\u001b[0m\n"
     ]
    }
   ],
   "source": [
    "lr_predictions_nparray = logistic_regression_model.predict(x_test_scaled_dataframe)\n",
    "\n",
    "lr_balanced_accuracy_score_float \\\n",
    "    = accuracy_score(y_test_series, lr_predictions_nparray) * 100\n",
    "\n",
    "logx.print_and_log_text \\\n",
    "    ('\\033[1m' \n",
    "     + 'The balanced accuracy score for logistic regression from actual vs. test predictions is {:.2f}%' \\\n",
    "         .format(lr_balanced_accuracy_score_float) \n",
    "     + '\\033[0m')"
   ]
  },
  {
   "cell_type": "code",
   "execution_count": 220,
   "metadata": {},
   "outputs": [
    {
     "name": "stdout",
     "output_type": "stream",
     "text": [
      "\u001b[1mLOGISTIC REGRESSION MODEL\n",
      "\u001b[0m\n",
      "1) \u001b[1mOverall Accuracy Score: \u001b[0m89.67%\n",
      "\n",
      "2) \u001b[1mConfusion Matrix:\n",
      "\u001b[0m\n",
      "                 Predicted Spam  Predicted Not Spam\n",
      "Actual Spam                 666                  33\n",
      "Actual Not Spam              72                 380\n",
      "\n",
      "3) \u001b[1mClassification Report:\n",
      "\u001b[0m\n",
      "              precision    recall  f1-score   support\n",
      "\n",
      "        spam       0.90      0.95      0.93       699\n",
      "    not spam       0.92      0.84      0.88       452\n",
      "\n",
      "    accuracy                           0.91      1151\n",
      "   macro avg       0.91      0.90      0.90      1151\n",
      "weighted avg       0.91      0.91      0.91      1151\n",
      "\n",
      "\n"
     ]
    }
   ],
   "source": [
    "lr_accuracy_score_float, \\\n",
    "lr_confusion_matrix_dataframe, \\\n",
    "lr_classification_report_string \\\n",
    "    = classificationsx.return_binary_classification_confusion_matrix \\\n",
    "        (y_test_series, \n",
    "         lr_predictions_nparray, \n",
    "         'LOGISTIC REGRESSION MODEL',\n",
    "         'Spam', 'Not Spam')\n",
    "\n",
    "model_performance_dictionary \\\n",
    "    = {'logistic_regression': [lr_accuracy_score_float * 100]}\n",
    "\n",
    "model_performance_ranking_dictionary \\\n",
    "    = {'logistic_regression': lr_accuracy_score_float * 100}"
   ]
  },
  {
   "cell_type": "markdown",
   "metadata": {},
   "source": [
    "### **Random Undersampling**"
   ]
  },
  {
   "cell_type": "code",
   "execution_count": 221,
   "metadata": {},
   "outputs": [
    {
     "data": {
      "text/plain": [
       "{'C': 1.0,\n",
       " 'class_weight': 'balanced',\n",
       " 'dual': False,\n",
       " 'fit_intercept': True,\n",
       " 'intercept_scaling': 1,\n",
       " 'l1_ratio': None,\n",
       " 'max_iter': 10000,\n",
       " 'multi_class': 'auto',\n",
       " 'n_jobs': None,\n",
       " 'penalty': 'l2',\n",
       " 'random_state': 21,\n",
       " 'solver': 'liblinear',\n",
       " 'tol': 0.0001,\n",
       " 'verbose': 0,\n",
       " 'warm_start': False}"
      ]
     },
     "execution_count": 221,
     "metadata": {},
     "output_type": "execute_result"
    }
   ],
   "source": [
    "logistic_regression_undersampled_model.get_params()"
   ]
  },
  {
   "cell_type": "code",
   "execution_count": 222,
   "metadata": {},
   "outputs": [
    {
     "name": "stdout",
     "output_type": "stream",
     "text": [
      "\u001b[1mThe balanced accuracy score for logistic regression undersampled from actual vs. test predictions is 92.44%\u001b[0m\n"
     ]
    }
   ],
   "source": [
    "lr_undersampled_predictions_nparray \\\n",
    "    = logistic_regression_undersampled_model.predict(x_test_scaled_dataframe)\n",
    "\n",
    "lr_undersampled_balanced_accuracy_score_float \\\n",
    "    = accuracy_score(y_test_series, lr_undersampled_predictions_nparray) * 100\n",
    "\n",
    "logx.print_and_log_text \\\n",
    "    ('\\033[1m' \\\n",
    "     + 'The balanced accuracy score for logistic regression undersampled from actual vs. test predictions is {:.2f}%' \\\n",
    "         .format(lr_undersampled_balanced_accuracy_score_float) \\\n",
    "     + '\\033[0m')"
   ]
  },
  {
   "cell_type": "code",
   "execution_count": 223,
   "metadata": {},
   "outputs": [
    {
     "name": "stdout",
     "output_type": "stream",
     "text": [
      "\u001b[1mLOGISTIC REGRESSION MODEL (Undersampled)\n",
      "\u001b[0m\n",
      "1) \u001b[1mOverall Accuracy Score: \u001b[0m92.02%\n",
      "\n",
      "2) \u001b[1mConfusion Matrix:\n",
      "\u001b[0m\n",
      "                 Predicted Spam  Predicted Not Spam\n",
      "Actual Spam                 657                  42\n",
      "Actual Not Spam              45                 407\n",
      "\n",
      "3) \u001b[1mClassification Report:\n",
      "\u001b[0m\n",
      "              precision    recall  f1-score   support\n",
      "\n",
      "        spam       0.94      0.94      0.94       699\n",
      "    not spam       0.91      0.90      0.90       452\n",
      "\n",
      "    accuracy                           0.92      1151\n",
      "   macro avg       0.92      0.92      0.92      1151\n",
      "weighted avg       0.92      0.92      0.92      1151\n",
      "\n",
      "\n"
     ]
    }
   ],
   "source": [
    "lr_undersampled_accuracy_score_float, \\\n",
    "lr_undersampled_confusion_matrix_dataframe, \\\n",
    "lr_undersampled_classification_report_string \\\n",
    "    = classificationsx.return_binary_classification_confusion_matrix \\\n",
    "        (y_test_series, \n",
    "         lr_undersampled_predictions_nparray, \n",
    "         'LOGISTIC REGRESSION MODEL (Undersampled)',\n",
    "         'Spam', 'Not Spam')\n",
    "\n",
    "model_performance_dictionary['logistic_regression'] \\\n",
    "    .append(lr_undersampled_accuracy_score_float * 100)\n",
    "\n",
    "model_performance_ranking_dictionary['logistic_regression_undersampled'] \\\n",
    "    = lr_undersampled_accuracy_score_float * 100"
   ]
  },
  {
   "cell_type": "markdown",
   "metadata": {},
   "source": [
    "### **Random Oversampling**"
   ]
  },
  {
   "cell_type": "code",
   "execution_count": 224,
   "metadata": {},
   "outputs": [
    {
     "data": {
      "text/plain": [
       "{'C': 1.0,\n",
       " 'class_weight': 'balanced',\n",
       " 'dual': False,\n",
       " 'fit_intercept': True,\n",
       " 'intercept_scaling': 1,\n",
       " 'l1_ratio': None,\n",
       " 'max_iter': 10000,\n",
       " 'multi_class': 'auto',\n",
       " 'n_jobs': None,\n",
       " 'penalty': 'l2',\n",
       " 'random_state': 21,\n",
       " 'solver': 'saga',\n",
       " 'tol': 0.0001,\n",
       " 'verbose': 0,\n",
       " 'warm_start': False}"
      ]
     },
     "execution_count": 224,
     "metadata": {},
     "output_type": "execute_result"
    }
   ],
   "source": [
    "logistic_regression_oversampled_model.get_params()"
   ]
  },
  {
   "cell_type": "code",
   "execution_count": 225,
   "metadata": {},
   "outputs": [
    {
     "name": "stdout",
     "output_type": "stream",
     "text": [
      "\u001b[1mThe balanced accuracy score for logistic regression oversampled from actual vs. test predictions is 91.57%\u001b[0m\n"
     ]
    }
   ],
   "source": [
    "lr_oversampled_predictions_nparray \\\n",
    "    = logistic_regression_oversampled_model.predict(x_test_scaled_dataframe)\n",
    "\n",
    "lr_oversampled_balanced_accuracy_score_float \\\n",
    "    = accuracy_score(y_test_series, lr_oversampled_predictions_nparray) * 100\n",
    "\n",
    "logx.print_and_log_text \\\n",
    "    ('\\033[1m' \\\n",
    "     + 'The balanced accuracy score for logistic regression oversampled from actual vs. test predictions is {:.2f}%' \\\n",
    "         .format(lr_oversampled_balanced_accuracy_score_float) \\\n",
    "     + '\\033[0m')"
   ]
  },
  {
   "cell_type": "code",
   "execution_count": 226,
   "metadata": {},
   "outputs": [
    {
     "name": "stdout",
     "output_type": "stream",
     "text": [
      "\u001b[1mLOGISTIC REGRESSION MODEL (Oversampled)\n",
      "\u001b[0m\n",
      "1) \u001b[1mOverall Accuracy Score: \u001b[0m91.22%\n",
      "\n",
      "2) \u001b[1mConfusion Matrix:\n",
      "\u001b[0m\n",
      "                 Predicted Spam  Predicted Not Spam\n",
      "Actual Spam                 649                  50\n",
      "Actual Not Spam              47                 405\n",
      "\n",
      "3) \u001b[1mClassification Report:\n",
      "\u001b[0m\n",
      "              precision    recall  f1-score   support\n",
      "\n",
      "        spam       0.93      0.93      0.93       699\n",
      "    not spam       0.89      0.90      0.89       452\n",
      "\n",
      "    accuracy                           0.92      1151\n",
      "   macro avg       0.91      0.91      0.91      1151\n",
      "weighted avg       0.92      0.92      0.92      1151\n",
      "\n",
      "\n"
     ]
    }
   ],
   "source": [
    "lr_oversampled_accuracy_score_float, \\\n",
    "lr_oversampled_confusion_matrix_dataframe, \\\n",
    "lr_oversampled_classification_report_string \\\n",
    "    = classificationsx.return_binary_classification_confusion_matrix \\\n",
    "        (y_test_series, \n",
    "         lr_oversampled_predictions_nparray, \n",
    "         'LOGISTIC REGRESSION MODEL (Oversampled)',\n",
    "         'Spam', 'Not Spam')\n",
    "\n",
    "model_performance_dictionary['logistic_regression'] \\\n",
    "    .append(lr_oversampled_accuracy_score_float * 100)\n",
    "\n",
    "model_performance_ranking_dictionary['logistic_regression_oversampled'] \\\n",
    "    = lr_oversampled_accuracy_score_float * 100"
   ]
  },
  {
   "cell_type": "markdown",
   "metadata": {},
   "source": [
    "### **Cluster Centroids**"
   ]
  },
  {
   "cell_type": "code",
   "execution_count": 227,
   "metadata": {},
   "outputs": [
    {
     "data": {
      "text/plain": [
       "{'C': 1.0,\n",
       " 'class_weight': 'balanced',\n",
       " 'dual': False,\n",
       " 'fit_intercept': True,\n",
       " 'intercept_scaling': 1,\n",
       " 'l1_ratio': None,\n",
       " 'max_iter': 10000,\n",
       " 'multi_class': 'multinomial',\n",
       " 'n_jobs': None,\n",
       " 'penalty': 'l2',\n",
       " 'random_state': 21,\n",
       " 'solver': 'lbfgs',\n",
       " 'tol': 0.0001,\n",
       " 'verbose': 0,\n",
       " 'warm_start': False}"
      ]
     },
     "execution_count": 227,
     "metadata": {},
     "output_type": "execute_result"
    }
   ],
   "source": [
    "logistic_regression_cluster_centroids_model.get_params()"
   ]
  },
  {
   "cell_type": "code",
   "execution_count": 228,
   "metadata": {},
   "outputs": [
    {
     "name": "stdout",
     "output_type": "stream",
     "text": [
      "\u001b[1mThe balanced accuracy score for logistic regression cluster centroids from actual vs. test predictions is 91.40%\u001b[0m\n"
     ]
    }
   ],
   "source": [
    "lr_cluster_centroids_predictions_nparray \\\n",
    "    = logistic_regression_cluster_centroids_model.predict(x_test_scaled_dataframe)\n",
    "\n",
    "lr_cluster_centroids_balanced_accuracy_score_float \\\n",
    "    = accuracy_score(y_test_series, lr_cluster_centroids_predictions_nparray) * 100\n",
    "\n",
    "logx.print_and_log_text \\\n",
    "    ('\\033[1m' \\\n",
    "     + 'The balanced accuracy score for logistic regression cluster centroids from actual vs. test predictions is {:.2f}%' \\\n",
    "         .format(lr_cluster_centroids_balanced_accuracy_score_float) \\\n",
    "     + '\\033[0m')"
   ]
  },
  {
   "cell_type": "code",
   "execution_count": 229,
   "metadata": {},
   "outputs": [
    {
     "name": "stdout",
     "output_type": "stream",
     "text": [
      "\u001b[1mLOGISTIC REGRESSION MODEL (Cluster Centroids)\n",
      "\u001b[0m\n",
      "1) \u001b[1mOverall Accuracy Score: \u001b[0m91.12%\n",
      "\n",
      "2) \u001b[1mConfusion Matrix:\n",
      "\u001b[0m\n",
      "                 Predicted Spam  Predicted Not Spam\n",
      "Actual Spam                 646                  53\n",
      "Actual Not Spam              46                 406\n",
      "\n",
      "3) \u001b[1mClassification Report:\n",
      "\u001b[0m\n",
      "              precision    recall  f1-score   support\n",
      "\n",
      "        spam       0.93      0.92      0.93       699\n",
      "    not spam       0.88      0.90      0.89       452\n",
      "\n",
      "    accuracy                           0.91      1151\n",
      "   macro avg       0.91      0.91      0.91      1151\n",
      "weighted avg       0.91      0.91      0.91      1151\n",
      "\n",
      "\n"
     ]
    }
   ],
   "source": [
    "lr_cluster_centroids_accuracy_score_float, \\\n",
    "lr_cluster_centroids_confusion_matrix_dataframe, \\\n",
    "lr_cluster_centroids_classification_report_string \\\n",
    "    = classificationsx.return_binary_classification_confusion_matrix \\\n",
    "        (y_test_series, \n",
    "         lr_cluster_centroids_predictions_nparray, \n",
    "         'LOGISTIC REGRESSION MODEL (Cluster Centroids)',\n",
    "         'Spam', 'Not Spam')\n",
    "\n",
    "model_performance_dictionary['logistic_regression'] \\\n",
    "    .append(lr_cluster_centroids_accuracy_score_float * 100)\n",
    "\n",
    "model_performance_ranking_dictionary['logistic_regression_cluster_centroids'] \\\n",
    "    = lr_cluster_centroids_accuracy_score_float * 100"
   ]
  },
  {
   "cell_type": "markdown",
   "metadata": {},
   "source": [
    "### **SMOTE**"
   ]
  },
  {
   "cell_type": "code",
   "execution_count": 230,
   "metadata": {},
   "outputs": [
    {
     "data": {
      "text/plain": [
       "{'C': 1.0,\n",
       " 'class_weight': 'balanced',\n",
       " 'dual': False,\n",
       " 'fit_intercept': True,\n",
       " 'intercept_scaling': 1,\n",
       " 'l1_ratio': None,\n",
       " 'max_iter': 10000,\n",
       " 'multi_class': 'auto',\n",
       " 'n_jobs': None,\n",
       " 'penalty': 'l2',\n",
       " 'random_state': 21,\n",
       " 'solver': 'saga',\n",
       " 'tol': 0.0001,\n",
       " 'verbose': 0,\n",
       " 'warm_start': False}"
      ]
     },
     "execution_count": 230,
     "metadata": {},
     "output_type": "execute_result"
    }
   ],
   "source": [
    "logistic_regression_smote_model.get_params()"
   ]
  },
  {
   "cell_type": "code",
   "execution_count": 231,
   "metadata": {},
   "outputs": [
    {
     "name": "stdout",
     "output_type": "stream",
     "text": [
      "\u001b[1mThe balanced accuracy score for logistic regression SMOTE from actual vs. test predictions is 92.09%\u001b[0m\n"
     ]
    }
   ],
   "source": [
    "lr_smote_predictions_nparray \\\n",
    "    = logistic_regression_smote_model.predict(x_test_scaled_dataframe)\n",
    "\n",
    "lr_smote_balanced_accuracy_score_float \\\n",
    "    = accuracy_score(y_test_series, lr_smote_predictions_nparray) * 100\n",
    "\n",
    "logx.print_and_log_text \\\n",
    "    ('\\033[1m' \\\n",
    "     + 'The balanced accuracy score for logistic regression SMOTE from actual vs. test predictions is {:.2f}%' \\\n",
    "         .format(lr_smote_balanced_accuracy_score_float) \\\n",
    "     + '\\033[0m')"
   ]
  },
  {
   "cell_type": "code",
   "execution_count": 232,
   "metadata": {},
   "outputs": [
    {
     "name": "stdout",
     "output_type": "stream",
     "text": [
      "\u001b[1mLOGISTIC REGRESSION MODEL (SMOTE)\n",
      "\u001b[0m\n",
      "1) \u001b[1mOverall Accuracy Score: \u001b[0m91.69%\n",
      "\n",
      "2) \u001b[1mConfusion Matrix:\n",
      "\u001b[0m\n",
      "                 Predicted Spam  Predicted Not Spam\n",
      "Actual Spam                 654                  45\n",
      "Actual Not Spam              46                 406\n",
      "\n",
      "3) \u001b[1mClassification Report:\n",
      "\u001b[0m\n",
      "              precision    recall  f1-score   support\n",
      "\n",
      "        spam       0.93      0.94      0.93       699\n",
      "    not spam       0.90      0.90      0.90       452\n",
      "\n",
      "    accuracy                           0.92      1151\n",
      "   macro avg       0.92      0.92      0.92      1151\n",
      "weighted avg       0.92      0.92      0.92      1151\n",
      "\n",
      "\n"
     ]
    }
   ],
   "source": [
    "lr_smote_accuracy_score_float, \\\n",
    "lr_smote_confusion_matrix_dataframe, \\\n",
    "lr_smote_classification_report_string \\\n",
    "    = classificationsx.return_binary_classification_confusion_matrix \\\n",
    "        (y_test_series, \n",
    "         lr_smote_predictions_nparray, \n",
    "         'LOGISTIC REGRESSION MODEL (SMOTE)',\n",
    "         'Spam', 'Not Spam')\n",
    "\n",
    "model_performance_dictionary['logistic_regression'] \\\n",
    "    .append(lr_smote_accuracy_score_float * 100)\n",
    "\n",
    "model_performance_ranking_dictionary['logistic_regression_smote'] \\\n",
    "    = lr_smote_accuracy_score_float * 100"
   ]
  },
  {
   "cell_type": "markdown",
   "metadata": {},
   "source": [
    "### **SMOTEEN**"
   ]
  },
  {
   "cell_type": "code",
   "execution_count": 233,
   "metadata": {},
   "outputs": [
    {
     "data": {
      "text/plain": [
       "{'C': 1.0,\n",
       " 'class_weight': 'balanced',\n",
       " 'dual': False,\n",
       " 'fit_intercept': True,\n",
       " 'intercept_scaling': 1,\n",
       " 'l1_ratio': None,\n",
       " 'max_iter': 10000,\n",
       " 'multi_class': 'auto',\n",
       " 'n_jobs': None,\n",
       " 'penalty': 'l2',\n",
       " 'random_state': 21,\n",
       " 'solver': 'lbfgs',\n",
       " 'tol': 0.0001,\n",
       " 'verbose': 0,\n",
       " 'warm_start': False}"
      ]
     },
     "execution_count": 233,
     "metadata": {},
     "output_type": "execute_result"
    }
   ],
   "source": [
    "logistic_regression_smoteen_model.get_params()"
   ]
  },
  {
   "cell_type": "code",
   "execution_count": 234,
   "metadata": {},
   "outputs": [
    {
     "name": "stdout",
     "output_type": "stream",
     "text": [
      "\u001b[1mThe balanced accuracy score for logistic regression SMOTEEN from actual vs. test predictions is 92.18%\u001b[0m\n"
     ]
    }
   ],
   "source": [
    "lr_smoteen_predictions_nparray \\\n",
    "    = logistic_regression_smoteen_model.predict(x_test_scaled_dataframe)\n",
    "\n",
    "lr_smoteen_balanced_accuracy_score_float \\\n",
    "    = accuracy_score(y_test_series, lr_smoteen_predictions_nparray) * 100\n",
    "\n",
    "logx.print_and_log_text \\\n",
    "    ('\\033[1m' \\\n",
    "     + 'The balanced accuracy score for logistic regression SMOTEEN from actual vs. test predictions is {:.2f}%' \\\n",
    "         .format(lr_smoteen_balanced_accuracy_score_float) \\\n",
    "     + '\\033[0m')"
   ]
  },
  {
   "cell_type": "code",
   "execution_count": 235,
   "metadata": {},
   "outputs": [
    {
     "name": "stdout",
     "output_type": "stream",
     "text": [
      "\u001b[1mLOGISTIC REGRESSION MODEL (SMOTEEN)\n",
      "\u001b[0m\n",
      "1) \u001b[1mOverall Accuracy Score: \u001b[0m92.04%\n",
      "\n",
      "2) \u001b[1mConfusion Matrix:\n",
      "\u001b[0m\n",
      "                 Predicted Spam  Predicted Not Spam\n",
      "Actual Spam                 648                  51\n",
      "Actual Not Spam              39                 413\n",
      "\n",
      "3) \u001b[1mClassification Report:\n",
      "\u001b[0m\n",
      "              precision    recall  f1-score   support\n",
      "\n",
      "        spam       0.94      0.93      0.94       699\n",
      "    not spam       0.89      0.91      0.90       452\n",
      "\n",
      "    accuracy                           0.92      1151\n",
      "   macro avg       0.92      0.92      0.92      1151\n",
      "weighted avg       0.92      0.92      0.92      1151\n",
      "\n",
      "\n"
     ]
    }
   ],
   "source": [
    "lr_smoteen_accuracy_score_float, \\\n",
    "lr_smoteen_confusion_matrix_dataframe, \\\n",
    "lr_smoteen_classification_report_string \\\n",
    "    = classificationsx.return_binary_classification_confusion_matrix \\\n",
    "        (y_test_series, \n",
    "         lr_smoteen_predictions_nparray, \n",
    "         'LOGISTIC REGRESSION MODEL (SMOTEEN)',\n",
    "         'Spam', 'Not Spam')\n",
    "\n",
    "model_performance_dictionary['logistic_regression'] \\\n",
    "    .append(lr_smoteen_accuracy_score_float * 100)\n",
    "\n",
    "model_performance_ranking_dictionary['logistic_regression_smoteen'] \\\n",
    "    = lr_smoteen_accuracy_score_float * 100"
   ]
  },
  {
   "cell_type": "markdown",
   "metadata": {},
   "source": [
    "## **9.2: Decision Tree**"
   ]
  },
  {
   "cell_type": "markdown",
   "metadata": {},
   "source": [
    "### **Original**"
   ]
  },
  {
   "cell_type": "code",
   "execution_count": 236,
   "metadata": {},
   "outputs": [
    {
     "data": {
      "text/plain": [
       "{'ccp_alpha': 0.0,\n",
       " 'class_weight': 'balanced',\n",
       " 'criterion': 'entropy',\n",
       " 'max_depth': None,\n",
       " 'max_features': None,\n",
       " 'max_leaf_nodes': None,\n",
       " 'min_impurity_decrease': 0.0,\n",
       " 'min_samples_leaf': 1,\n",
       " 'min_samples_split': 2,\n",
       " 'min_weight_fraction_leaf': 0.0,\n",
       " 'monotonic_cst': None,\n",
       " 'random_state': 21,\n",
       " 'splitter': 'best'}"
      ]
     },
     "execution_count": 236,
     "metadata": {},
     "output_type": "execute_result"
    }
   ],
   "source": [
    "decision_tree_model.get_params()"
   ]
  },
  {
   "cell_type": "code",
   "execution_count": 237,
   "metadata": {},
   "outputs": [
    {
     "name": "stdout",
     "output_type": "stream",
     "text": [
      "\u001b[1mThe balanced accuracy score for decision tree from actual vs. test predictions is 89.66%\u001b[0m\n"
     ]
    }
   ],
   "source": [
    "dt_predictions_nparray \\\n",
    "    = decision_tree_model.predict(x_test_scaled_dataframe)\n",
    "\n",
    "dt_balanced_accuracy_score_float \\\n",
    "    = accuracy_score(y_test_series, dt_predictions_nparray) * 100\n",
    "\n",
    "logx.print_and_log_text \\\n",
    "    ('\\033[1m' \n",
    "     + 'The balanced accuracy score for decision tree from actual vs. test predictions is {:.2f}%' \\\n",
    "         .format(dt_balanced_accuracy_score_float) \n",
    "     + '\\033[0m')"
   ]
  },
  {
   "cell_type": "code",
   "execution_count": 238,
   "metadata": {},
   "outputs": [
    {
     "name": "stdout",
     "output_type": "stream",
     "text": [
      "\u001b[1mDECISION TREE MODEL\n",
      "\u001b[0m\n",
      "1) \u001b[1mOverall Accuracy Score: \u001b[0m87.77%\n",
      "\n",
      "2) \u001b[1mConfusion Matrix:\n",
      "\u001b[0m\n",
      "                 Predicted Spam  Predicted Not Spam\n",
      "Actual Spam                 675                  24\n",
      "Actual Not Spam              95                 357\n",
      "\n",
      "3) \u001b[1mClassification Report:\n",
      "\u001b[0m\n",
      "              precision    recall  f1-score   support\n",
      "\n",
      "        spam       0.88      0.97      0.92       699\n",
      "    not spam       0.94      0.79      0.86       452\n",
      "\n",
      "    accuracy                           0.90      1151\n",
      "   macro avg       0.91      0.88      0.89      1151\n",
      "weighted avg       0.90      0.90      0.89      1151\n",
      "\n",
      "\n"
     ]
    }
   ],
   "source": [
    "dt_accuracy_score_float, \\\n",
    "dt_confusion_matrix_dataframe, \\\n",
    "dt_classification_report_string \\\n",
    "    = classificationsx.return_binary_classification_confusion_matrix \\\n",
    "        (y_test_series, \n",
    "         dt_predictions_nparray, \n",
    "         'DECISION TREE MODEL',\n",
    "         'Spam', 'Not Spam')\n",
    "\n",
    "model_performance_dictionary['decision_tree'] \\\n",
    "    = [dt_accuracy_score_float * 100]\n",
    "\n",
    "model_performance_ranking_dictionary['decision_tree'] \\\n",
    "    = dt_accuracy_score_float * 100"
   ]
  },
  {
   "cell_type": "markdown",
   "metadata": {},
   "source": [
    "### **Random Undersampling**"
   ]
  },
  {
   "cell_type": "code",
   "execution_count": 239,
   "metadata": {},
   "outputs": [
    {
     "data": {
      "text/plain": [
       "{'ccp_alpha': 0.0,\n",
       " 'class_weight': 'balanced',\n",
       " 'criterion': 'entropy',\n",
       " 'max_depth': None,\n",
       " 'max_features': None,\n",
       " 'max_leaf_nodes': None,\n",
       " 'min_impurity_decrease': 0.0,\n",
       " 'min_samples_leaf': 1,\n",
       " 'min_samples_split': 2,\n",
       " 'min_weight_fraction_leaf': 0.0,\n",
       " 'monotonic_cst': None,\n",
       " 'random_state': 21,\n",
       " 'splitter': 'best'}"
      ]
     },
     "execution_count": 239,
     "metadata": {},
     "output_type": "execute_result"
    }
   ],
   "source": [
    "decision_tree_undersampled_model.get_params()"
   ]
  },
  {
   "cell_type": "code",
   "execution_count": 240,
   "metadata": {},
   "outputs": [
    {
     "name": "stdout",
     "output_type": "stream",
     "text": [
      "\u001b[1mThe balanced accuracy score for decision tree undersampled from actual vs. test predictions is 89.66%\u001b[0m\n"
     ]
    }
   ],
   "source": [
    "dt_undersampled_predictions_nparray \\\n",
    "    = decision_tree_undersampled_model.predict(x_test_scaled_dataframe)\n",
    "\n",
    "dt_undersampled_balanced_accuracy_score_float \\\n",
    "    = accuracy_score(y_test_series, dt_undersampled_predictions_nparray) * 100\n",
    "\n",
    "logx.print_and_log_text \\\n",
    "    ('\\033[1m' \\\n",
    "     + 'The balanced accuracy score for decision tree undersampled from actual vs. test predictions is {:.2f}%' \\\n",
    "         .format(dt_undersampled_balanced_accuracy_score_float) \\\n",
    "     + '\\033[0m')"
   ]
  },
  {
   "cell_type": "code",
   "execution_count": 241,
   "metadata": {},
   "outputs": [
    {
     "name": "stdout",
     "output_type": "stream",
     "text": [
      "\u001b[1mDECISION TREE MODEL (Undersampled)\n",
      "\u001b[0m\n",
      "1) \u001b[1mOverall Accuracy Score: \u001b[0m88.01%\n",
      "\n",
      "2) \u001b[1mConfusion Matrix:\n",
      "\u001b[0m\n",
      "                 Predicted Spam  Predicted Not Spam\n",
      "Actual Spam                 669                  30\n",
      "Actual Not Spam              89                 363\n",
      "\n",
      "3) \u001b[1mClassification Report:\n",
      "\u001b[0m\n",
      "              precision    recall  f1-score   support\n",
      "\n",
      "        spam       0.88      0.96      0.92       699\n",
      "    not spam       0.92      0.80      0.86       452\n",
      "\n",
      "    accuracy                           0.90      1151\n",
      "   macro avg       0.90      0.88      0.89      1151\n",
      "weighted avg       0.90      0.90      0.90      1151\n",
      "\n",
      "\n"
     ]
    }
   ],
   "source": [
    "dt_undersampled_accuracy_score_float, \\\n",
    "dt_undersampled_confusion_matrix_dataframe, \\\n",
    "dt_undersampled_classification_report_string \\\n",
    "    = classificationsx.return_binary_classification_confusion_matrix \\\n",
    "        (y_test_series, \n",
    "         dt_undersampled_predictions_nparray, \n",
    "         'DECISION TREE MODEL (Undersampled)',\n",
    "         'Spam', 'Not Spam')\n",
    "\n",
    "model_performance_dictionary['decision_tree'] \\\n",
    "    .append(dt_undersampled_accuracy_score_float * 100)\n",
    "\n",
    "model_performance_ranking_dictionary['decision_tree_undersampling'] \\\n",
    "    = dt_undersampled_accuracy_score_float * 100"
   ]
  },
  {
   "cell_type": "markdown",
   "metadata": {},
   "source": [
    "### **Random Oversampling**"
   ]
  },
  {
   "cell_type": "code",
   "execution_count": 242,
   "metadata": {},
   "outputs": [
    {
     "data": {
      "text/plain": [
       "{'ccp_alpha': 0.0,\n",
       " 'class_weight': None,\n",
       " 'criterion': 'entropy',\n",
       " 'max_depth': None,\n",
       " 'max_features': None,\n",
       " 'max_leaf_nodes': None,\n",
       " 'min_impurity_decrease': 0.0,\n",
       " 'min_samples_leaf': 1,\n",
       " 'min_samples_split': 2,\n",
       " 'min_weight_fraction_leaf': 0.0,\n",
       " 'monotonic_cst': None,\n",
       " 'random_state': 21,\n",
       " 'splitter': 'best'}"
      ]
     },
     "execution_count": 242,
     "metadata": {},
     "output_type": "execute_result"
    }
   ],
   "source": [
    "decision_tree_oversampled_model.get_params()"
   ]
  },
  {
   "cell_type": "code",
   "execution_count": 243,
   "metadata": {},
   "outputs": [
    {
     "name": "stdout",
     "output_type": "stream",
     "text": [
      "\u001b[1mThe balanced accuracy score for decision tree oversampled from actual vs. test predictions is 89.75%\u001b[0m\n"
     ]
    }
   ],
   "source": [
    "dt_oversampled_predictions_nparray \\\n",
    "    = decision_tree_oversampled_model.predict(x_test_scaled_dataframe)\n",
    "\n",
    "dt_oversampled_balanced_accuracy_score_float \\\n",
    "    = accuracy_score(y_test_series, dt_oversampled_predictions_nparray) * 100\n",
    "\n",
    "logx.print_and_log_text \\\n",
    "    ('\\033[1m' \\\n",
    "     + 'The balanced accuracy score for decision tree oversampled from actual vs. test predictions is {:.2f}%' \\\n",
    "         .format(dt_oversampled_balanced_accuracy_score_float) \\\n",
    "     + '\\033[0m')"
   ]
  },
  {
   "cell_type": "code",
   "execution_count": 244,
   "metadata": {},
   "outputs": [
    {
     "name": "stdout",
     "output_type": "stream",
     "text": [
      "\u001b[1mDECISION TREE MODEL (Oversampled)\n",
      "\u001b[0m\n",
      "1) \u001b[1mOverall Accuracy Score: \u001b[0m88.04%\n",
      "\n",
      "2) \u001b[1mConfusion Matrix:\n",
      "\u001b[0m\n",
      "                 Predicted Spam  Predicted Not Spam\n",
      "Actual Spam                 671                  28\n",
      "Actual Not Spam              90                 362\n",
      "\n",
      "3) \u001b[1mClassification Report:\n",
      "\u001b[0m\n",
      "              precision    recall  f1-score   support\n",
      "\n",
      "        spam       0.88      0.96      0.92       699\n",
      "    not spam       0.93      0.80      0.86       452\n",
      "\n",
      "    accuracy                           0.90      1151\n",
      "   macro avg       0.90      0.88      0.89      1151\n",
      "weighted avg       0.90      0.90      0.90      1151\n",
      "\n",
      "\n"
     ]
    }
   ],
   "source": [
    "dt_oversampled_accuracy_score_float, \\\n",
    "dt_oversampled_confusion_matrix_dataframe, \\\n",
    "dt_oversampled_classification_report_string \\\n",
    "    = classificationsx.return_binary_classification_confusion_matrix \\\n",
    "        (y_test_series, \n",
    "         dt_oversampled_predictions_nparray, \n",
    "         'DECISION TREE MODEL (Oversampled)',\n",
    "         'Spam', 'Not Spam')\n",
    "\n",
    "model_performance_dictionary['decision_tree'] \\\n",
    "    .append(dt_oversampled_accuracy_score_float * 100)\n",
    "\n",
    "model_performance_ranking_dictionary['decision_tree_oversampling'] \\\n",
    "    = dt_oversampled_accuracy_score_float * 100"
   ]
  },
  {
   "cell_type": "markdown",
   "metadata": {},
   "source": [
    "### **Cluster Centroids**"
   ]
  },
  {
   "cell_type": "code",
   "execution_count": 245,
   "metadata": {},
   "outputs": [
    {
     "data": {
      "text/plain": [
       "{'ccp_alpha': 0.0,\n",
       " 'class_weight': None,\n",
       " 'criterion': 'entropy',\n",
       " 'max_depth': None,\n",
       " 'max_features': None,\n",
       " 'max_leaf_nodes': None,\n",
       " 'min_impurity_decrease': 0.0,\n",
       " 'min_samples_leaf': 1,\n",
       " 'min_samples_split': 2,\n",
       " 'min_weight_fraction_leaf': 0.0,\n",
       " 'monotonic_cst': None,\n",
       " 'random_state': 21,\n",
       " 'splitter': 'best'}"
      ]
     },
     "execution_count": 245,
     "metadata": {},
     "output_type": "execute_result"
    }
   ],
   "source": [
    "decision_tree_cluster_centroids_model.get_params()"
   ]
  },
  {
   "cell_type": "code",
   "execution_count": 246,
   "metadata": {},
   "outputs": [
    {
     "name": "stdout",
     "output_type": "stream",
     "text": [
      "\u001b[1mThe balanced accuracy score for decision tree cluster centroids from actual vs. test predictions is 88.97%\u001b[0m\n"
     ]
    }
   ],
   "source": [
    "dt_cluster_centroids_predictions_nparray \\\n",
    "    = decision_tree_cluster_centroids_model.predict(x_test_scaled_dataframe)\n",
    "\n",
    "dt_cluster_centroids_balanced_accuracy_score_float \\\n",
    "    = accuracy_score(y_test_series, dt_cluster_centroids_predictions_nparray) * 100\n",
    "\n",
    "logx.print_and_log_text \\\n",
    "    ('\\033[1m' \\\n",
    "     + 'The balanced accuracy score for decision tree cluster centroids from actual vs. test predictions is {:.2f}%' \\\n",
    "         .format(dt_cluster_centroids_balanced_accuracy_score_float) \\\n",
    "     + '\\033[0m')"
   ]
  },
  {
   "cell_type": "code",
   "execution_count": 247,
   "metadata": {},
   "outputs": [
    {
     "name": "stdout",
     "output_type": "stream",
     "text": [
      "\u001b[1mDECISION TREE MODEL (Cluster Centroids)\n",
      "\u001b[0m\n",
      "1) \u001b[1mOverall Accuracy Score: \u001b[0m87.28%\n",
      "\n",
      "2) \u001b[1mConfusion Matrix:\n",
      "\u001b[0m\n",
      "                 Predicted Spam  Predicted Not Spam\n",
      "Actual Spam                 665                  34\n",
      "Actual Not Spam              93                 359\n",
      "\n",
      "3) \u001b[1mClassification Report:\n",
      "\u001b[0m\n",
      "              precision    recall  f1-score   support\n",
      "\n",
      "        spam       0.88      0.95      0.91       699\n",
      "    not spam       0.91      0.79      0.85       452\n",
      "\n",
      "    accuracy                           0.89      1151\n",
      "   macro avg       0.90      0.87      0.88      1151\n",
      "weighted avg       0.89      0.89      0.89      1151\n",
      "\n",
      "\n"
     ]
    }
   ],
   "source": [
    "dt_cluster_centroids_accuracy_score_float, \\\n",
    "dt_cluster_centroids_confusion_matrix_dataframe, \\\n",
    "dt_cluster_centroids_classification_report_string \\\n",
    "    = classificationsx.return_binary_classification_confusion_matrix \\\n",
    "        (y_test_series, \n",
    "         dt_cluster_centroids_predictions_nparray, \n",
    "         'DECISION TREE MODEL (Cluster Centroids)',\n",
    "         'Spam', 'Not Spam')\n",
    "\n",
    "model_performance_dictionary['decision_tree'] \\\n",
    "    .append(dt_cluster_centroids_accuracy_score_float * 100)\n",
    "\n",
    "model_performance_ranking_dictionary['decision_tree_cluster_centroids'] \\\n",
    "    = dt_cluster_centroids_accuracy_score_float * 100"
   ]
  },
  {
   "cell_type": "markdown",
   "metadata": {},
   "source": [
    "### **SMOTE**"
   ]
  },
  {
   "cell_type": "code",
   "execution_count": 248,
   "metadata": {},
   "outputs": [
    {
     "data": {
      "text/plain": [
       "{'ccp_alpha': 0.0,\n",
       " 'class_weight': None,\n",
       " 'criterion': 'entropy',\n",
       " 'max_depth': None,\n",
       " 'max_features': None,\n",
       " 'max_leaf_nodes': None,\n",
       " 'min_impurity_decrease': 0.0,\n",
       " 'min_samples_leaf': 1,\n",
       " 'min_samples_split': 2,\n",
       " 'min_weight_fraction_leaf': 0.0,\n",
       " 'monotonic_cst': None,\n",
       " 'random_state': 21,\n",
       " 'splitter': 'best'}"
      ]
     },
     "execution_count": 248,
     "metadata": {},
     "output_type": "execute_result"
    }
   ],
   "source": [
    "decision_tree_smote_model.get_params()"
   ]
  },
  {
   "cell_type": "code",
   "execution_count": 249,
   "metadata": {},
   "outputs": [
    {
     "name": "stdout",
     "output_type": "stream",
     "text": [
      "\u001b[1mThe balanced accuracy score for decision tree SMOTE from actual vs. test predictions is 90.96%\u001b[0m\n"
     ]
    }
   ],
   "source": [
    "dt_smote_predictions_nparray \\\n",
    "    = decision_tree_smote_model.predict(x_test_scaled_dataframe)\n",
    "\n",
    "dt_smote_balanced_accuracy_score_float \\\n",
    "    = accuracy_score(y_test_series, dt_smote_predictions_nparray) * 100\n",
    "\n",
    "logx.print_and_log_text \\\n",
    "    ('\\033[1m' \\\n",
    "     + 'The balanced accuracy score for decision tree SMOTE from actual vs. test predictions is {:.2f}%' \\\n",
    "         .format(dt_smote_balanced_accuracy_score_float) \\\n",
    "     + '\\033[0m')"
   ]
  },
  {
   "cell_type": "code",
   "execution_count": 250,
   "metadata": {},
   "outputs": [
    {
     "name": "stdout",
     "output_type": "stream",
     "text": [
      "\u001b[1mDECISION TREE MODEL (SMOTE)\n",
      "\u001b[0m\n",
      "1) \u001b[1mOverall Accuracy Score: \u001b[0m89.67%\n",
      "\n",
      "2) \u001b[1mConfusion Matrix:\n",
      "\u001b[0m\n",
      "                 Predicted Spam  Predicted Not Spam\n",
      "Actual Spam                 669                  30\n",
      "Actual Not Spam              74                 378\n",
      "\n",
      "3) \u001b[1mClassification Report:\n",
      "\u001b[0m\n",
      "              precision    recall  f1-score   support\n",
      "\n",
      "        spam       0.90      0.96      0.93       699\n",
      "    not spam       0.93      0.84      0.88       452\n",
      "\n",
      "    accuracy                           0.91      1151\n",
      "   macro avg       0.91      0.90      0.90      1151\n",
      "weighted avg       0.91      0.91      0.91      1151\n",
      "\n",
      "\n"
     ]
    }
   ],
   "source": [
    "dt_smote_accuracy_score_float, \\\n",
    "dt_smote_confusion_matrix_dataframe, \\\n",
    "dt_smote_classification_report_string \\\n",
    "    = classificationsx.return_binary_classification_confusion_matrix \\\n",
    "        (y_test_series, \n",
    "         dt_smote_predictions_nparray, \n",
    "         'DECISION TREE MODEL (SMOTE)',\n",
    "         'Spam', 'Not Spam')\n",
    "\n",
    "model_performance_dictionary['decision_tree'] \\\n",
    "    .append(dt_smote_accuracy_score_float * 100)\n",
    "\n",
    "model_performance_ranking_dictionary['decision_tree_smote'] \\\n",
    "    = dt_smote_accuracy_score_float * 100"
   ]
  },
  {
   "cell_type": "markdown",
   "metadata": {},
   "source": [
    "### **SMOTEEN**"
   ]
  },
  {
   "cell_type": "code",
   "execution_count": 251,
   "metadata": {},
   "outputs": [
    {
     "data": {
      "text/plain": [
       "{'ccp_alpha': 0.0,\n",
       " 'class_weight': None,\n",
       " 'criterion': 'entropy',\n",
       " 'max_depth': None,\n",
       " 'max_features': None,\n",
       " 'max_leaf_nodes': None,\n",
       " 'min_impurity_decrease': 0.0,\n",
       " 'min_samples_leaf': 1,\n",
       " 'min_samples_split': 2,\n",
       " 'min_weight_fraction_leaf': 0.0,\n",
       " 'monotonic_cst': None,\n",
       " 'random_state': 21,\n",
       " 'splitter': 'best'}"
      ]
     },
     "execution_count": 251,
     "metadata": {},
     "output_type": "execute_result"
    }
   ],
   "source": [
    "decision_tree_smoteen_model.get_params()"
   ]
  },
  {
   "cell_type": "code",
   "execution_count": 252,
   "metadata": {},
   "outputs": [
    {
     "name": "stdout",
     "output_type": "stream",
     "text": [
      "\u001b[1mThe balanced accuracy score for decision tree SMOTEEN from actual vs. test predictions is 56.04%\u001b[0m\n"
     ]
    }
   ],
   "source": [
    "dt_smoteen_predictions_nparray \\\n",
    "    = decision_tree_smoteen_model.predict(x_test_scaled_dataframe)\n",
    "\n",
    "dt_smoteen_balanced_accuracy_score_float \\\n",
    "    = accuracy_score(y_test_series, dt_smoteen_predictions_nparray) * 100\n",
    "\n",
    "logx.print_and_log_text \\\n",
    "    ('\\033[1m' \\\n",
    "     + 'The balanced accuracy score for decision tree SMOTEEN from actual vs. test predictions is {:.2f}%' \\\n",
    "         .format(dt_smoteen_balanced_accuracy_score_float) \\\n",
    "     + '\\033[0m')"
   ]
  },
  {
   "cell_type": "code",
   "execution_count": 253,
   "metadata": {},
   "outputs": [
    {
     "name": "stdout",
     "output_type": "stream",
     "text": [
      "\u001b[1mDECISION TREE MODEL (SMOTEEN)\n",
      "\u001b[0m\n",
      "1) \u001b[1mOverall Accuracy Score: \u001b[0m62.4%\n",
      "\n",
      "2) \u001b[1mConfusion Matrix:\n",
      "\u001b[0m\n",
      "                 Predicted Spam  Predicted Not Spam\n",
      "Actual Spam                 229                 470\n",
      "Actual Not Spam              36                 416\n",
      "\n",
      "3) \u001b[1mClassification Report:\n",
      "\u001b[0m\n",
      "              precision    recall  f1-score   support\n",
      "\n",
      "        spam       0.86      0.33      0.48       699\n",
      "    not spam       0.47      0.92      0.62       452\n",
      "\n",
      "    accuracy                           0.56      1151\n",
      "   macro avg       0.67      0.62      0.55      1151\n",
      "weighted avg       0.71      0.56      0.53      1151\n",
      "\n",
      "\n"
     ]
    }
   ],
   "source": [
    "dt_smoteen_accuracy_score_float, \\\n",
    "dt_smoteen_confusion_matrix_dataframe, \\\n",
    "dt_smoteen_classification_report_string \\\n",
    "    = classificationsx.return_binary_classification_confusion_matrix \\\n",
    "        (y_test_series, \n",
    "         dt_smoteen_predictions_nparray, \n",
    "         'DECISION TREE MODEL (SMOTEEN)',\n",
    "         'Spam', 'Not Spam')\n",
    "\n",
    "model_performance_dictionary['decision_tree'] \\\n",
    "    .append(dt_smoteen_accuracy_score_float * 100)\n",
    "\n",
    "model_performance_ranking_dictionary['decision_tree_smoteen'] \\\n",
    "    = dt_smoteen_accuracy_score_float * 100"
   ]
  },
  {
   "cell_type": "markdown",
   "metadata": {},
   "source": [
    "## **9.3: Random Forest**"
   ]
  },
  {
   "cell_type": "markdown",
   "metadata": {},
   "source": [
    "### **Original**"
   ]
  },
  {
   "cell_type": "code",
   "execution_count": 254,
   "metadata": {},
   "outputs": [
    {
     "data": {
      "text/plain": [
       "{'bootstrap': True,\n",
       " 'ccp_alpha': 0.0,\n",
       " 'class_weight': 'balanced_subsample',\n",
       " 'criterion': 'entropy',\n",
       " 'max_depth': None,\n",
       " 'max_features': 'log2',\n",
       " 'max_leaf_nodes': None,\n",
       " 'max_samples': None,\n",
       " 'min_impurity_decrease': 0.0,\n",
       " 'min_samples_leaf': 1,\n",
       " 'min_samples_split': 2,\n",
       " 'min_weight_fraction_leaf': 0.0,\n",
       " 'monotonic_cst': None,\n",
       " 'n_estimators': 200,\n",
       " 'n_jobs': None,\n",
       " 'oob_score': False,\n",
       " 'random_state': 21,\n",
       " 'verbose': 0,\n",
       " 'warm_start': False}"
      ]
     },
     "execution_count": 254,
     "metadata": {},
     "output_type": "execute_result"
    }
   ],
   "source": [
    "random_forest_model.get_params()"
   ]
  },
  {
   "cell_type": "code",
   "execution_count": 255,
   "metadata": {},
   "outputs": [
    {
     "name": "stdout",
     "output_type": "stream",
     "text": [
      "\u001b[1mThe balanced accuracy score for random forest from actual vs. test predictions is 92.96%\u001b[0m\n"
     ]
    }
   ],
   "source": [
    "rt_predictions_nparray \\\n",
    "    = random_forest_model.predict(x_test_scaled_dataframe)\n",
    "\n",
    "rf_balanced_accuracy_score_float \\\n",
    "    = accuracy_score(y_test_series, rt_predictions_nparray) * 100\n",
    "\n",
    "logx.print_and_log_text \\\n",
    "    ('\\033[1m' \\\n",
    "     + 'The balanced accuracy score for random forest from actual vs. test predictions is {:.2f}%' \\\n",
    "         .format(rf_balanced_accuracy_score_float) \\\n",
    "     + '\\033[0m')"
   ]
  },
  {
   "cell_type": "code",
   "execution_count": 256,
   "metadata": {},
   "outputs": [
    {
     "name": "stdout",
     "output_type": "stream",
     "text": [
      "\u001b[1mRANDOM FOREST MODEL\n",
      "\u001b[0m\n",
      "1) \u001b[1mOverall Accuracy Score: \u001b[0m91.35%\n",
      "\n",
      "2) \u001b[1mConfusion Matrix:\n",
      "\u001b[0m\n",
      "                 Predicted Spam  Predicted Not Spam\n",
      "Actual Spam                 691                   8\n",
      "Actual Not Spam              73                 379\n",
      "\n",
      "3) \u001b[1mClassification Report:\n",
      "\u001b[0m\n",
      "              precision    recall  f1-score   support\n",
      "\n",
      "        spam       0.90      0.99      0.94       699\n",
      "    not spam       0.98      0.84      0.90       452\n",
      "\n",
      "    accuracy                           0.93      1151\n",
      "   macro avg       0.94      0.91      0.92      1151\n",
      "weighted avg       0.93      0.93      0.93      1151\n",
      "\n",
      "\n"
     ]
    }
   ],
   "source": [
    "rf_accuracy_score_float, rf_confusion_matrix_dataframe, rf_classification_report_string \\\n",
    "    = classificationsx.return_binary_classification_confusion_matrix \\\n",
    "        (y_test_series, \n",
    "         rt_predictions_nparray, \n",
    "         'RANDOM FOREST MODEL',\n",
    "         'Spam', 'Not Spam')\n",
    "\n",
    "model_performance_dictionary['random_forest'] \\\n",
    "    = [rf_accuracy_score_float * 100]\n",
    "\n",
    "model_performance_ranking_dictionary['random_forest'] \\\n",
    "    = rf_accuracy_score_float * 100"
   ]
  },
  {
   "cell_type": "markdown",
   "metadata": {},
   "source": [
    "### **Random Undersampling**"
   ]
  },
  {
   "cell_type": "code",
   "execution_count": 257,
   "metadata": {},
   "outputs": [
    {
     "data": {
      "text/plain": [
       "{'bootstrap': True,\n",
       " 'ccp_alpha': 0.0,\n",
       " 'class_weight': None,\n",
       " 'criterion': 'gini',\n",
       " 'max_depth': None,\n",
       " 'max_features': 'log2',\n",
       " 'max_leaf_nodes': None,\n",
       " 'max_samples': None,\n",
       " 'min_impurity_decrease': 0.0,\n",
       " 'min_samples_leaf': 1,\n",
       " 'min_samples_split': 2,\n",
       " 'min_weight_fraction_leaf': 0.0,\n",
       " 'monotonic_cst': None,\n",
       " 'n_estimators': 200,\n",
       " 'n_jobs': None,\n",
       " 'oob_score': False,\n",
       " 'random_state': 21,\n",
       " 'verbose': 0,\n",
       " 'warm_start': False}"
      ]
     },
     "execution_count": 257,
     "metadata": {},
     "output_type": "execute_result"
    }
   ],
   "source": [
    "random_forest_undersampled_model.get_params()"
   ]
  },
  {
   "cell_type": "code",
   "execution_count": 258,
   "metadata": {},
   "outputs": [
    {
     "name": "stdout",
     "output_type": "stream",
     "text": [
      "\u001b[1mThe balanced accuracy score for random forest undersampled from actual vs. test predictions is 94.18%\u001b[0m\n"
     ]
    }
   ],
   "source": [
    "rt_undersampled_predictions_nparray \\\n",
    "    = random_forest_undersampled_model.predict(x_test_scaled_dataframe)\n",
    "\n",
    "rf_undersampled_balanced_accuracy_score_float \\\n",
    "    = accuracy_score(y_test_series, rt_undersampled_predictions_nparray) * 100\n",
    "\n",
    "logx.print_and_log_text \\\n",
    "    ('\\033[1m' \\\n",
    "     + 'The balanced accuracy score for random forest undersampled from actual vs. test predictions is {:.2f}%' \\\n",
    "         .format(rf_undersampled_balanced_accuracy_score_float) \\\n",
    "     + '\\033[0m')"
   ]
  },
  {
   "cell_type": "code",
   "execution_count": 259,
   "metadata": {},
   "outputs": [
    {
     "name": "stdout",
     "output_type": "stream",
     "text": [
      "\u001b[1mRANDOM FOREST MODEL (Undersampled)\n",
      "\u001b[0m\n",
      "1) \u001b[1mOverall Accuracy Score: \u001b[0m93.02%\n",
      "\n",
      "2) \u001b[1mConfusion Matrix:\n",
      "\u001b[0m\n",
      "                 Predicted Spam  Predicted Not Spam\n",
      "Actual Spam                 688                  11\n",
      "Actual Not Spam              56                 396\n",
      "\n",
      "3) \u001b[1mClassification Report:\n",
      "\u001b[0m\n",
      "              precision    recall  f1-score   support\n",
      "\n",
      "        spam       0.92      0.98      0.95       699\n",
      "    not spam       0.97      0.88      0.92       452\n",
      "\n",
      "    accuracy                           0.94      1151\n",
      "   macro avg       0.95      0.93      0.94      1151\n",
      "weighted avg       0.94      0.94      0.94      1151\n",
      "\n",
      "\n"
     ]
    }
   ],
   "source": [
    "rf_undersampled_accuracy_score_float, \\\n",
    "rf_undersampled_confusion_matrix_dataframe, \\\n",
    "rf_undersampled_classification_report_string \\\n",
    "    = classificationsx.return_binary_classification_confusion_matrix \\\n",
    "        (y_test_series, \n",
    "         rt_undersampled_predictions_nparray, \n",
    "         'RANDOM FOREST MODEL (Undersampled)',\n",
    "         'Spam', 'Not Spam')\n",
    "\n",
    "model_performance_dictionary['random_forest'] \\\n",
    "    .append(rf_undersampled_accuracy_score_float * 100)\n",
    "\n",
    "model_performance_ranking_dictionary['random_forest_undersampled'] \\\n",
    "    = rf_undersampled_accuracy_score_float * 100"
   ]
  },
  {
   "cell_type": "markdown",
   "metadata": {},
   "source": [
    "### **Random Oversampling**"
   ]
  },
  {
   "cell_type": "code",
   "execution_count": 260,
   "metadata": {},
   "outputs": [
    {
     "data": {
      "text/plain": [
       "{'bootstrap': True,\n",
       " 'ccp_alpha': 0.0,\n",
       " 'class_weight': None,\n",
       " 'criterion': 'gini',\n",
       " 'max_depth': None,\n",
       " 'max_features': 'log2',\n",
       " 'max_leaf_nodes': None,\n",
       " 'max_samples': None,\n",
       " 'min_impurity_decrease': 0.0,\n",
       " 'min_samples_leaf': 1,\n",
       " 'min_samples_split': 2,\n",
       " 'min_weight_fraction_leaf': 0.0,\n",
       " 'monotonic_cst': None,\n",
       " 'n_estimators': 200,\n",
       " 'n_jobs': None,\n",
       " 'oob_score': False,\n",
       " 'random_state': 21,\n",
       " 'verbose': 0,\n",
       " 'warm_start': False}"
      ]
     },
     "execution_count": 260,
     "metadata": {},
     "output_type": "execute_result"
    }
   ],
   "source": [
    "random_forest_oversampled_model.get_params()"
   ]
  },
  {
   "cell_type": "code",
   "execution_count": 261,
   "metadata": {},
   "outputs": [
    {
     "name": "stdout",
     "output_type": "stream",
     "text": [
      "\u001b[1mThe balanced accuracy score for random forest oversampled from actual vs. test predictions is 93.05%\u001b[0m\n"
     ]
    }
   ],
   "source": [
    "rt_oversampled_predictions_nparray \\\n",
    "    = random_forest_oversampled_model.predict(x_test_scaled_dataframe)\n",
    "\n",
    "rf_oversampled_balanced_accuracy_score_float \\\n",
    "    = accuracy_score(y_test_series, rt_oversampled_predictions_nparray) * 100\n",
    "\n",
    "logx.print_and_log_text \\\n",
    "    ('\\033[1m' \\\n",
    "     + 'The balanced accuracy score for random forest oversampled from actual vs. test predictions is {:.2f}%' \\\n",
    "         .format(rf_oversampled_balanced_accuracy_score_float) \\\n",
    "     + '\\033[0m')"
   ]
  },
  {
   "cell_type": "code",
   "execution_count": 262,
   "metadata": {},
   "outputs": [
    {
     "name": "stdout",
     "output_type": "stream",
     "text": [
      "\u001b[1mRANDOM FOREST MODEL (Oversampled)\n",
      "\u001b[0m\n",
      "1) \u001b[1mOverall Accuracy Score: \u001b[0m91.62%\n",
      "\n",
      "2) \u001b[1mConfusion Matrix:\n",
      "\u001b[0m\n",
      "                 Predicted Spam  Predicted Not Spam\n",
      "Actual Spam                 687                  12\n",
      "Actual Not Spam              68                 384\n",
      "\n",
      "3) \u001b[1mClassification Report:\n",
      "\u001b[0m\n",
      "              precision    recall  f1-score   support\n",
      "\n",
      "        spam       0.91      0.98      0.94       699\n",
      "    not spam       0.97      0.85      0.91       452\n",
      "\n",
      "    accuracy                           0.93      1151\n",
      "   macro avg       0.94      0.92      0.93      1151\n",
      "weighted avg       0.93      0.93      0.93      1151\n",
      "\n",
      "\n"
     ]
    }
   ],
   "source": [
    "rf_oversampled_accuracy_score_float, \\\n",
    "rf_oversampled_confusion_matrix_dataframe, \\\n",
    "rf_oversampled_classification_report_string \\\n",
    "    = classificationsx.return_binary_classification_confusion_matrix \\\n",
    "        (y_test_series, \n",
    "         rt_oversampled_predictions_nparray, \n",
    "         'RANDOM FOREST MODEL (Oversampled)',\n",
    "         'Spam', 'Not Spam')\n",
    "\n",
    "model_performance_dictionary['random_forest'] \\\n",
    "    .append(rf_oversampled_accuracy_score_float * 100)\n",
    "\n",
    "model_performance_ranking_dictionary['random_forest_oversampled'] \\\n",
    "    = rf_oversampled_accuracy_score_float * 100"
   ]
  },
  {
   "cell_type": "markdown",
   "metadata": {},
   "source": [
    "### **Cluster Centroids**"
   ]
  },
  {
   "cell_type": "code",
   "execution_count": 263,
   "metadata": {},
   "outputs": [
    {
     "data": {
      "text/plain": [
       "{'bootstrap': True,\n",
       " 'ccp_alpha': 0.0,\n",
       " 'class_weight': 'balanced_subsample',\n",
       " 'criterion': 'gini',\n",
       " 'max_depth': None,\n",
       " 'max_features': 'log2',\n",
       " 'max_leaf_nodes': None,\n",
       " 'max_samples': None,\n",
       " 'min_impurity_decrease': 0.0,\n",
       " 'min_samples_leaf': 1,\n",
       " 'min_samples_split': 2,\n",
       " 'min_weight_fraction_leaf': 0.0,\n",
       " 'monotonic_cst': None,\n",
       " 'n_estimators': 200,\n",
       " 'n_jobs': None,\n",
       " 'oob_score': False,\n",
       " 'random_state': 21,\n",
       " 'verbose': 0,\n",
       " 'warm_start': False}"
      ]
     },
     "execution_count": 263,
     "metadata": {},
     "output_type": "execute_result"
    }
   ],
   "source": [
    "random_forest_cluster_centroids_model.get_params()"
   ]
  },
  {
   "cell_type": "code",
   "execution_count": 264,
   "metadata": {},
   "outputs": [
    {
     "name": "stdout",
     "output_type": "stream",
     "text": [
      "\u001b[1mThe balanced accuracy score for random forest cluster centroids from actual vs. test predictions is 92.44%\u001b[0m\n"
     ]
    }
   ],
   "source": [
    "rf_cluster_centroids_predictions_nparray \\\n",
    "    = random_forest_cluster_centroids_model.predict(x_test_scaled_dataframe)\n",
    "\n",
    "rf_cluster_centroids_balanced_accuracy_score_float \\\n",
    "    = accuracy_score(y_test_series, rf_cluster_centroids_predictions_nparray) * 100\n",
    "\n",
    "logx.print_and_log_text \\\n",
    "    ('\\033[1m' \\\n",
    "     + 'The balanced accuracy score for random forest cluster centroids from actual vs. test predictions is {:.2f}%' \\\n",
    "         .format(rf_cluster_centroids_balanced_accuracy_score_float) \\\n",
    "     + '\\033[0m')"
   ]
  },
  {
   "cell_type": "code",
   "execution_count": 265,
   "metadata": {},
   "outputs": [
    {
     "name": "stdout",
     "output_type": "stream",
     "text": [
      "\u001b[1mRANDOM FOREST MODEL (Cluster Centroids)\n",
      "\u001b[0m\n",
      "1) \u001b[1mOverall Accuracy Score: \u001b[0m90.69%\n",
      "\n",
      "2) \u001b[1mConfusion Matrix:\n",
      "\u001b[0m\n",
      "                 Predicted Spam  Predicted Not Spam\n",
      "Actual Spam                 691                   8\n",
      "Actual Not Spam              79                 373\n",
      "\n",
      "3) \u001b[1mClassification Report:\n",
      "\u001b[0m\n",
      "              precision    recall  f1-score   support\n",
      "\n",
      "        spam       0.90      0.99      0.94       699\n",
      "    not spam       0.98      0.83      0.90       452\n",
      "\n",
      "    accuracy                           0.92      1151\n",
      "   macro avg       0.94      0.91      0.92      1151\n",
      "weighted avg       0.93      0.92      0.92      1151\n",
      "\n",
      "\n"
     ]
    }
   ],
   "source": [
    "rf_cluster_centroids_accuracy_score_float, \\\n",
    "rf_cluster_centroids_confusion_matrix_dataframe, \\\n",
    "rf_cluster_centroids_classification_report_string \\\n",
    "    = classificationsx.return_binary_classification_confusion_matrix \\\n",
    "        (y_test_series, \n",
    "         rf_cluster_centroids_predictions_nparray, \n",
    "         'RANDOM FOREST MODEL (Cluster Centroids)',\n",
    "         'Spam', 'Not Spam')\n",
    "\n",
    "model_performance_dictionary['random_forest'] \\\n",
    "    .append(rf_cluster_centroids_accuracy_score_float * 100)\n",
    "\n",
    "model_performance_ranking_dictionary['random_forest_cluster_centroids'] \\\n",
    "    = rf_cluster_centroids_accuracy_score_float * 100"
   ]
  },
  {
   "cell_type": "markdown",
   "metadata": {},
   "source": [
    "### **SMOTE**"
   ]
  },
  {
   "cell_type": "code",
   "execution_count": 266,
   "metadata": {},
   "outputs": [
    {
     "data": {
      "text/plain": [
       "{'bootstrap': True,\n",
       " 'ccp_alpha': 0.0,\n",
       " 'class_weight': 'balanced_subsample',\n",
       " 'criterion': 'entropy',\n",
       " 'max_depth': None,\n",
       " 'max_features': 'log2',\n",
       " 'max_leaf_nodes': None,\n",
       " 'max_samples': None,\n",
       " 'min_impurity_decrease': 0.0,\n",
       " 'min_samples_leaf': 1,\n",
       " 'min_samples_split': 2,\n",
       " 'min_weight_fraction_leaf': 0.0,\n",
       " 'monotonic_cst': None,\n",
       " 'n_estimators': 200,\n",
       " 'n_jobs': None,\n",
       " 'oob_score': False,\n",
       " 'random_state': 21,\n",
       " 'verbose': 0,\n",
       " 'warm_start': False}"
      ]
     },
     "execution_count": 266,
     "metadata": {},
     "output_type": "execute_result"
    }
   ],
   "source": [
    "random_forest_smote_model.get_params()"
   ]
  },
  {
   "cell_type": "code",
   "execution_count": 267,
   "metadata": {},
   "outputs": [
    {
     "name": "stdout",
     "output_type": "stream",
     "text": [
      "\u001b[1mThe balanced accuracy score for random forest SMOTE from actual vs. test predictions is 93.74%\u001b[0m\n"
     ]
    }
   ],
   "source": [
    "rf_smote_predictions_nparray \\\n",
    "    = random_forest_smote_model.predict(x_test_scaled_dataframe)\n",
    "\n",
    "rf_smote_balanced_accuracy_score_float \\\n",
    "    = accuracy_score(y_test_series, rf_smote_predictions_nparray) * 100\n",
    "\n",
    "logx.print_and_log_text \\\n",
    "    ('\\033[1m' \\\n",
    "     + 'The balanced accuracy score for random forest SMOTE from actual vs. test predictions is {:.2f}%' \\\n",
    "         .format(rf_smote_balanced_accuracy_score_float) \\\n",
    "     + '\\033[0m')"
   ]
  },
  {
   "cell_type": "code",
   "execution_count": 268,
   "metadata": {},
   "outputs": [
    {
     "name": "stdout",
     "output_type": "stream",
     "text": [
      "\u001b[1mRANDOM FOREST MODEL (SMOTE)\n",
      "\u001b[0m\n",
      "1) \u001b[1mOverall Accuracy Score: \u001b[0m92.5%\n",
      "\n",
      "2) \u001b[1mConfusion Matrix:\n",
      "\u001b[0m\n",
      "                 Predicted Spam  Predicted Not Spam\n",
      "Actual Spam                 687                  12\n",
      "Actual Not Spam              60                 392\n",
      "\n",
      "3) \u001b[1mClassification Report:\n",
      "\u001b[0m\n",
      "              precision    recall  f1-score   support\n",
      "\n",
      "        spam       0.92      0.98      0.95       699\n",
      "    not spam       0.97      0.87      0.92       452\n",
      "\n",
      "    accuracy                           0.94      1151\n",
      "   macro avg       0.94      0.93      0.93      1151\n",
      "weighted avg       0.94      0.94      0.94      1151\n",
      "\n",
      "\n"
     ]
    }
   ],
   "source": [
    "rf_smote_accuracy_score_float, \\\n",
    "rf_smote_confusion_matrix_dataframe, \\\n",
    "rf_smote_classification_report_string \\\n",
    "    = classificationsx.return_binary_classification_confusion_matrix \\\n",
    "        (y_test_series, \n",
    "         rf_smote_predictions_nparray, \n",
    "         'RANDOM FOREST MODEL (SMOTE)',\n",
    "         'Spam', 'Not Spam')\n",
    "\n",
    "model_performance_dictionary['random_forest'] \\\n",
    "    .append(rf_smote_accuracy_score_float * 100)\n",
    "\n",
    "model_performance_ranking_dictionary['random_forest_smote'] \\\n",
    "    = rf_smote_accuracy_score_float * 100"
   ]
  },
  {
   "cell_type": "markdown",
   "metadata": {},
   "source": [
    "### **SMOTEEN**"
   ]
  },
  {
   "cell_type": "code",
   "execution_count": 269,
   "metadata": {},
   "outputs": [
    {
     "data": {
      "text/plain": [
       "{'bootstrap': True,\n",
       " 'ccp_alpha': 0.0,\n",
       " 'class_weight': 'balanced_subsample',\n",
       " 'criterion': 'gini',\n",
       " 'max_depth': None,\n",
       " 'max_features': 'log2',\n",
       " 'max_leaf_nodes': None,\n",
       " 'max_samples': None,\n",
       " 'min_impurity_decrease': 0.0,\n",
       " 'min_samples_leaf': 1,\n",
       " 'min_samples_split': 2,\n",
       " 'min_weight_fraction_leaf': 0.0,\n",
       " 'monotonic_cst': None,\n",
       " 'n_estimators': 200,\n",
       " 'n_jobs': None,\n",
       " 'oob_score': False,\n",
       " 'random_state': 21,\n",
       " 'verbose': 0,\n",
       " 'warm_start': False}"
      ]
     },
     "execution_count": 269,
     "metadata": {},
     "output_type": "execute_result"
    }
   ],
   "source": [
    "random_forest_smoteen_model.get_params()"
   ]
  },
  {
   "cell_type": "code",
   "execution_count": 270,
   "metadata": {},
   "outputs": [
    {
     "name": "stdout",
     "output_type": "stream",
     "text": [
      "\u001b[1mThe balanced accuracy score for random forest SMOTEEN from actual vs. test predictions is 93.92%\u001b[0m\n"
     ]
    }
   ],
   "source": [
    "rf_smoteen_predictions_nparray \\\n",
    "    = random_forest_smoteen_model.predict(x_test_scaled_dataframe)\n",
    "\n",
    "rf_smoteen_balanced_accuracy_score_float \\\n",
    "    = accuracy_score(y_test_series, rf_smoteen_predictions_nparray) * 100\n",
    "\n",
    "logx.print_and_log_text \\\n",
    "    ('\\033[1m' \\\n",
    "     + 'The balanced accuracy score for random forest SMOTEEN from actual vs. test predictions is {:.2f}%' \\\n",
    "         .format(rf_smoteen_balanced_accuracy_score_float) \\\n",
    "     + '\\033[0m')"
   ]
  },
  {
   "cell_type": "code",
   "execution_count": 271,
   "metadata": {},
   "outputs": [
    {
     "name": "stdout",
     "output_type": "stream",
     "text": [
      "\u001b[1mRANDOM FOREST MODEL (SMOTEEN)\n",
      "\u001b[0m\n",
      "1) \u001b[1mOverall Accuracy Score: \u001b[0m92.92%\n",
      "\n",
      "2) \u001b[1mConfusion Matrix:\n",
      "\u001b[0m\n",
      "                 Predicted Spam  Predicted Not Spam\n",
      "Actual Spam                 682                  17\n",
      "Actual Not Spam              53                 399\n",
      "\n",
      "3) \u001b[1mClassification Report:\n",
      "\u001b[0m\n",
      "              precision    recall  f1-score   support\n",
      "\n",
      "        spam       0.93      0.98      0.95       699\n",
      "    not spam       0.96      0.88      0.92       452\n",
      "\n",
      "    accuracy                           0.94      1151\n",
      "   macro avg       0.94      0.93      0.94      1151\n",
      "weighted avg       0.94      0.94      0.94      1151\n",
      "\n",
      "\n"
     ]
    }
   ],
   "source": [
    "rf_smoteen_accuracy_score_float, \\\n",
    "rf_smoteen_confusion_matrix_dataframe, \\\n",
    "rf_smoteen_classification_report_string \\\n",
    "    = classificationsx.return_binary_classification_confusion_matrix \\\n",
    "        (y_test_series, \n",
    "         rf_smoteen_predictions_nparray, \n",
    "         'RANDOM FOREST MODEL (SMOTEEN)',\n",
    "         'Spam', 'Not Spam')\n",
    "\n",
    "model_performance_dictionary['random_forest'] \\\n",
    "    .append(rf_smoteen_accuracy_score_float * 100)\n",
    "\n",
    "model_performance_ranking_dictionary['random_forest_smoteen'] \\\n",
    "    = rf_smoteen_accuracy_score_float * 100"
   ]
  },
  {
   "cell_type": "markdown",
   "metadata": {},
   "source": [
    "## **9.4: Support Vector Machine (SVM)**"
   ]
  },
  {
   "cell_type": "markdown",
   "metadata": {},
   "source": [
    "### **Original**"
   ]
  },
  {
   "cell_type": "code",
   "execution_count": 272,
   "metadata": {},
   "outputs": [
    {
     "data": {
      "text/plain": [
       "{'C': 1.0,\n",
       " 'break_ties': False,\n",
       " 'cache_size': 200,\n",
       " 'class_weight': None,\n",
       " 'coef0': 0.0,\n",
       " 'decision_function_shape': 'ovo',\n",
       " 'degree': 3,\n",
       " 'gamma': 'scale',\n",
       " 'kernel': 'rbf',\n",
       " 'max_iter': -1,\n",
       " 'probability': True,\n",
       " 'random_state': 21,\n",
       " 'shrinking': True,\n",
       " 'tol': 0.001,\n",
       " 'verbose': False}"
      ]
     },
     "execution_count": 272,
     "metadata": {},
     "output_type": "execute_result"
    }
   ],
   "source": [
    "svm_model.get_params()"
   ]
  },
  {
   "cell_type": "code",
   "execution_count": 273,
   "metadata": {},
   "outputs": [
    {
     "name": "stdout",
     "output_type": "stream",
     "text": [
      "\u001b[1mThe balanced accuracy score for SVM from actual vs. test predictions is 92.53%\u001b[0m\n"
     ]
    }
   ],
   "source": [
    "svm_predictions_nparray \\\n",
    "    = svm_model.predict(x_test_scaled_dataframe)\n",
    "\n",
    "svm_balanced_accuracy_score_float \\\n",
    "    = accuracy_score(y_test_series, svm_predictions_nparray) * 100\n",
    "\n",
    "logx.print_and_log_text \\\n",
    "    ('\\033[1m' \\\n",
    "     + 'The balanced accuracy score for SVM from actual vs. test predictions is {:.2f}%' \\\n",
    "         .format(svm_balanced_accuracy_score_float) \\\n",
    "     + '\\033[0m')"
   ]
  },
  {
   "cell_type": "code",
   "execution_count": 274,
   "metadata": {},
   "outputs": [
    {
     "name": "stdout",
     "output_type": "stream",
     "text": [
      "\u001b[1mSVM MODEL\n",
      "\u001b[0m\n",
      "1) \u001b[1mOverall Accuracy Score: \u001b[0m91.7%\n",
      "\n",
      "2) \u001b[1mConfusion Matrix:\n",
      "\u001b[0m\n",
      "                 Predicted Spam  Predicted Not Spam\n",
      "Actual Spam                 668                  31\n",
      "Actual Not Spam              55                 397\n",
      "\n",
      "3) \u001b[1mClassification Report:\n",
      "\u001b[0m\n",
      "              precision    recall  f1-score   support\n",
      "\n",
      "        spam       0.92      0.96      0.94       699\n",
      "    not spam       0.93      0.88      0.90       452\n",
      "\n",
      "    accuracy                           0.93      1151\n",
      "   macro avg       0.93      0.92      0.92      1151\n",
      "weighted avg       0.93      0.93      0.92      1151\n",
      "\n",
      "\n"
     ]
    }
   ],
   "source": [
    "svm_accuracy_score_float, svm_confusion_matrix_dataframe, svm_classification_report_string \\\n",
    "    = classificationsx.return_binary_classification_confusion_matrix \\\n",
    "        (y_test_series, \n",
    "         svm_predictions_nparray, \n",
    "         'SVM MODEL',\n",
    "         'Spam', 'Not Spam')\n",
    "\n",
    "model_performance_dictionary['svm'] \\\n",
    "    = [svm_accuracy_score_float * 100]\n",
    "\n",
    "model_performance_ranking_dictionary['svm'] \\\n",
    "    = svm_accuracy_score_float * 100"
   ]
  },
  {
   "cell_type": "markdown",
   "metadata": {},
   "source": [
    "### **Random Undersampling**"
   ]
  },
  {
   "cell_type": "code",
   "execution_count": 275,
   "metadata": {},
   "outputs": [
    {
     "data": {
      "text/plain": [
       "{'C': 1.0,\n",
       " 'break_ties': False,\n",
       " 'cache_size': 200,\n",
       " 'class_weight': 'balanced',\n",
       " 'coef0': 0.0,\n",
       " 'decision_function_shape': 'ovo',\n",
       " 'degree': 3,\n",
       " 'gamma': 'scale',\n",
       " 'kernel': 'linear',\n",
       " 'max_iter': -1,\n",
       " 'probability': True,\n",
       " 'random_state': 21,\n",
       " 'shrinking': True,\n",
       " 'tol': 0.001,\n",
       " 'verbose': False}"
      ]
     },
     "execution_count": 275,
     "metadata": {},
     "output_type": "execute_result"
    }
   ],
   "source": [
    "svm_undersampled_model.get_params()"
   ]
  },
  {
   "cell_type": "code",
   "execution_count": 276,
   "metadata": {},
   "outputs": [
    {
     "name": "stdout",
     "output_type": "stream",
     "text": [
      "\u001b[1mThe balanced accuracy score for svm undersampled from actual vs. test predictions is 93.05%\u001b[0m\n"
     ]
    }
   ],
   "source": [
    "svm_undersampled_predictions_nparray \\\n",
    "    = svm_undersampled_model.predict(x_test_scaled_dataframe)\n",
    "\n",
    "svm_undersampled_balanced_accuracy_score_float \\\n",
    "    = accuracy_score(y_test_series, svm_undersampled_predictions_nparray) * 100\n",
    "\n",
    "logx.print_and_log_text \\\n",
    "    ('\\033[1m' \n",
    "     + 'The balanced accuracy score for svm undersampled from actual vs. test predictions is {:.2f}%' \\\n",
    "         .format(svm_undersampled_balanced_accuracy_score_float) \n",
    "     + '\\033[0m')"
   ]
  },
  {
   "cell_type": "code",
   "execution_count": 277,
   "metadata": {},
   "outputs": [
    {
     "name": "stdout",
     "output_type": "stream",
     "text": [
      "\u001b[1mSVM MODEL (Undersampled)\n",
      "\u001b[0m\n",
      "1) \u001b[1mOverall Accuracy Score: \u001b[0m92.79%\n",
      "\n",
      "2) \u001b[1mConfusion Matrix:\n",
      "\u001b[0m\n",
      "                 Predicted Spam  Predicted Not Spam\n",
      "Actual Spam                 657                  42\n",
      "Actual Not Spam              38                 414\n",
      "\n",
      "3) \u001b[1mClassification Report:\n",
      "\u001b[0m\n",
      "              precision    recall  f1-score   support\n",
      "\n",
      "        spam       0.95      0.94      0.94       699\n",
      "    not spam       0.91      0.92      0.91       452\n",
      "\n",
      "    accuracy                           0.93      1151\n",
      "   macro avg       0.93      0.93      0.93      1151\n",
      "weighted avg       0.93      0.93      0.93      1151\n",
      "\n",
      "\n"
     ]
    }
   ],
   "source": [
    "svm_undersampled_accuracy_score_float, \\\n",
    "svm_undersampled_confusion_matrix_dataframe, \\\n",
    "svm_undersampled_classification_report_string \\\n",
    "    = classificationsx.return_binary_classification_confusion_matrix \\\n",
    "        (y_test_series, \n",
    "         svm_undersampled_predictions_nparray, \n",
    "         'SVM MODEL (Undersampled)',\n",
    "         'Spam', 'Not Spam')\n",
    "\n",
    "model_performance_dictionary['svm'] \\\n",
    "    .append(svm_undersampled_accuracy_score_float * 100)\n",
    "\n",
    "model_performance_ranking_dictionary['svm_undersampled'] \\\n",
    "    = svm_undersampled_accuracy_score_float * 100"
   ]
  },
  {
   "cell_type": "markdown",
   "metadata": {},
   "source": [
    "### **Random Oversampling**"
   ]
  },
  {
   "cell_type": "code",
   "execution_count": 278,
   "metadata": {},
   "outputs": [
    {
     "data": {
      "text/plain": [
       "{'C': 1.0,\n",
       " 'break_ties': False,\n",
       " 'cache_size': 200,\n",
       " 'class_weight': 'balanced',\n",
       " 'coef0': 0.0,\n",
       " 'decision_function_shape': 'ovo',\n",
       " 'degree': 3,\n",
       " 'gamma': 'scale',\n",
       " 'kernel': 'rbf',\n",
       " 'max_iter': -1,\n",
       " 'probability': True,\n",
       " 'random_state': 21,\n",
       " 'shrinking': True,\n",
       " 'tol': 0.001,\n",
       " 'verbose': False}"
      ]
     },
     "execution_count": 278,
     "metadata": {},
     "output_type": "execute_result"
    }
   ],
   "source": [
    "svm_oversampled_model.get_params()"
   ]
  },
  {
   "cell_type": "code",
   "execution_count": 279,
   "metadata": {},
   "outputs": [
    {
     "name": "stdout",
     "output_type": "stream",
     "text": [
      "\u001b[1mThe balanced accuracy score for svm oversampled from actual vs. test predictions is 92.44%\u001b[0m\n"
     ]
    }
   ],
   "source": [
    "svm_oversampled_predictions_nparray \\\n",
    "    = svm_oversampled_model.predict(x_test_scaled_dataframe)\n",
    "\n",
    "svm_oversampled_balanced_accuracy_score_float \\\n",
    "    = accuracy_score(y_test_series, svm_oversampled_predictions_nparray) * 100\n",
    "\n",
    "logx.print_and_log_text \\\n",
    "    ('\\033[1m' \n",
    "     + 'The balanced accuracy score for svm oversampled from actual vs. test predictions is {:.2f}%' \\\n",
    "         .format(svm_oversampled_balanced_accuracy_score_float) \n",
    "     + '\\033[0m')"
   ]
  },
  {
   "cell_type": "code",
   "execution_count": 280,
   "metadata": {},
   "outputs": [
    {
     "name": "stdout",
     "output_type": "stream",
     "text": [
      "\u001b[1mSVM MODEL (Oversampled)\n",
      "\u001b[0m\n",
      "1) \u001b[1mOverall Accuracy Score: \u001b[0m91.86%\n",
      "\n",
      "2) \u001b[1mConfusion Matrix:\n",
      "\u001b[0m\n",
      "                 Predicted Spam  Predicted Not Spam\n",
      "Actual Spam                 661                  38\n",
      "Actual Not Spam              49                 403\n",
      "\n",
      "3) \u001b[1mClassification Report:\n",
      "\u001b[0m\n",
      "              precision    recall  f1-score   support\n",
      "\n",
      "        spam       0.93      0.95      0.94       699\n",
      "    not spam       0.91      0.89      0.90       452\n",
      "\n",
      "    accuracy                           0.92      1151\n",
      "   macro avg       0.92      0.92      0.92      1151\n",
      "weighted avg       0.92      0.92      0.92      1151\n",
      "\n",
      "\n"
     ]
    }
   ],
   "source": [
    "svm_oversampled_accuracy_score_float, \\\n",
    "svm_oversampled_confusion_matrix_dataframe, \\\n",
    "svm_oversampled_classification_report_string \\\n",
    "    = classificationsx.return_binary_classification_confusion_matrix \\\n",
    "        (y_test_series, \n",
    "         svm_oversampled_predictions_nparray, \n",
    "         'SVM MODEL (Oversampled)',\n",
    "         'Spam', 'Not Spam')\n",
    "\n",
    "model_performance_dictionary['svm'] \\\n",
    "    .append(svm_oversampled_accuracy_score_float * 100)\n",
    "\n",
    "model_performance_ranking_dictionary['svm_oversampled'] \\\n",
    "    = svm_oversampled_accuracy_score_float * 100"
   ]
  },
  {
   "cell_type": "markdown",
   "metadata": {},
   "source": [
    "### **Cluster Centroids**"
   ]
  },
  {
   "cell_type": "code",
   "execution_count": 281,
   "metadata": {},
   "outputs": [
    {
     "data": {
      "text/plain": [
       "{'C': 1.0,\n",
       " 'break_ties': False,\n",
       " 'cache_size': 200,\n",
       " 'class_weight': 'balanced',\n",
       " 'coef0': 0.0,\n",
       " 'decision_function_shape': 'ovo',\n",
       " 'degree': 3,\n",
       " 'gamma': 'scale',\n",
       " 'kernel': 'linear',\n",
       " 'max_iter': -1,\n",
       " 'probability': True,\n",
       " 'random_state': 21,\n",
       " 'shrinking': True,\n",
       " 'tol': 0.001,\n",
       " 'verbose': False}"
      ]
     },
     "execution_count": 281,
     "metadata": {},
     "output_type": "execute_result"
    }
   ],
   "source": [
    "svm_cluster_centroids_model.get_params()"
   ]
  },
  {
   "cell_type": "code",
   "execution_count": 282,
   "metadata": {},
   "outputs": [
    {
     "name": "stdout",
     "output_type": "stream",
     "text": [
      "\u001b[1mThe balanced accuracy score for svm cluster centroids from actual vs. test predictions is 91.49%\u001b[0m\n"
     ]
    }
   ],
   "source": [
    "svm_cluster_centroids_predictions_nparray \\\n",
    "    = svm_cluster_centroids_model.predict(x_test_scaled_dataframe)\n",
    "\n",
    "svm_cluster_centroids_balanced_accuracy_score_float \\\n",
    "    = accuracy_score(y_test_series, svm_cluster_centroids_predictions_nparray) * 100\n",
    "\n",
    "logx.print_and_log_text \\\n",
    "    ('\\033[1m' \\\n",
    "     + 'The balanced accuracy score for svm cluster centroids from actual vs. test predictions is {:.2f}%' \\\n",
    "         .format(svm_cluster_centroids_balanced_accuracy_score_float) \\\n",
    "     + '\\033[0m')"
   ]
  },
  {
   "cell_type": "code",
   "execution_count": 283,
   "metadata": {},
   "outputs": [
    {
     "name": "stdout",
     "output_type": "stream",
     "text": [
      "\u001b[1mSVM MODEL (Cluster Centroids)\n",
      "\u001b[0m\n",
      "1) \u001b[1mOverall Accuracy Score: \u001b[0m91.39%\n",
      "\n",
      "2) \u001b[1mConfusion Matrix:\n",
      "\u001b[0m\n",
      "                 Predicted Spam  Predicted Not Spam\n",
      "Actual Spam                 642                  57\n",
      "Actual Not Spam              41                 411\n",
      "\n",
      "3) \u001b[1mClassification Report:\n",
      "\u001b[0m\n",
      "              precision    recall  f1-score   support\n",
      "\n",
      "        spam       0.94      0.92      0.93       699\n",
      "    not spam       0.88      0.91      0.89       452\n",
      "\n",
      "    accuracy                           0.91      1151\n",
      "   macro avg       0.91      0.91      0.91      1151\n",
      "weighted avg       0.92      0.91      0.92      1151\n",
      "\n",
      "\n"
     ]
    }
   ],
   "source": [
    "svm_cluster_centroids_accuracy_score_float, \\\n",
    "svm_cluster_centroids_confusion_matrix_dataframe, \\\n",
    "svm_cluster_centroids_classification_report_string \\\n",
    "    = classificationsx.return_binary_classification_confusion_matrix \\\n",
    "        (y_test_series, \n",
    "         svm_cluster_centroids_predictions_nparray, \n",
    "         'SVM MODEL (Cluster Centroids)',\n",
    "         'Spam', 'Not Spam')\n",
    "\n",
    "model_performance_dictionary['svm'] \\\n",
    "    .append(svm_cluster_centroids_accuracy_score_float * 100)\n",
    "\n",
    "model_performance_ranking_dictionary['svm_cluster_centroids'] \\\n",
    "    = svm_cluster_centroids_accuracy_score_float * 100"
   ]
  },
  {
   "cell_type": "markdown",
   "metadata": {},
   "source": [
    "### **SMOTE**"
   ]
  },
  {
   "cell_type": "code",
   "execution_count": 284,
   "metadata": {},
   "outputs": [
    {
     "data": {
      "text/plain": [
       "{'C': 1.0,\n",
       " 'break_ties': False,\n",
       " 'cache_size': 200,\n",
       " 'class_weight': 'balanced',\n",
       " 'coef0': 0.0,\n",
       " 'decision_function_shape': 'ovo',\n",
       " 'degree': 3,\n",
       " 'gamma': 'scale',\n",
       " 'kernel': 'rbf',\n",
       " 'max_iter': -1,\n",
       " 'probability': True,\n",
       " 'random_state': 21,\n",
       " 'shrinking': True,\n",
       " 'tol': 0.001,\n",
       " 'verbose': False}"
      ]
     },
     "execution_count": 284,
     "metadata": {},
     "output_type": "execute_result"
    }
   ],
   "source": [
    "svm_smote_model.get_params()"
   ]
  },
  {
   "cell_type": "code",
   "execution_count": 285,
   "metadata": {},
   "outputs": [
    {
     "name": "stdout",
     "output_type": "stream",
     "text": [
      "\u001b[1mThe balanced accuracy score for svm SMOTE from actual vs. test predictions is 92.35%\u001b[0m\n"
     ]
    }
   ],
   "source": [
    "svm_smote_predictions_nparray \\\n",
    "    = svm_smote_model.predict(x_test_scaled_dataframe)\n",
    "\n",
    "svm_smote_balanced_accuracy_score_float \\\n",
    "    = accuracy_score(y_test_series, svm_smote_predictions_nparray) * 100\n",
    "\n",
    "logx.print_and_log_text \\\n",
    "    ('\\033[1m' \\\n",
    "     + 'The balanced accuracy score for svm SMOTE from actual vs. test predictions is {:.2f}%' \\\n",
    "         .format(svm_smote_balanced_accuracy_score_float) \\\n",
    "     + '\\033[0m')"
   ]
  },
  {
   "cell_type": "code",
   "execution_count": 286,
   "metadata": {},
   "outputs": [
    {
     "name": "stdout",
     "output_type": "stream",
     "text": [
      "\u001b[1mSVM MODEL (SMOTE)\n",
      "\u001b[0m\n",
      "1) \u001b[1mOverall Accuracy Score: \u001b[0m91.75%\n",
      "\n",
      "2) \u001b[1mConfusion Matrix:\n",
      "\u001b[0m\n",
      "                 Predicted Spam  Predicted Not Spam\n",
      "Actual Spam                 661                  38\n",
      "Actual Not Spam              50                 402\n",
      "\n",
      "3) \u001b[1mClassification Report:\n",
      "\u001b[0m\n",
      "              precision    recall  f1-score   support\n",
      "\n",
      "        spam       0.93      0.95      0.94       699\n",
      "    not spam       0.91      0.89      0.90       452\n",
      "\n",
      "    accuracy                           0.92      1151\n",
      "   macro avg       0.92      0.92      0.92      1151\n",
      "weighted avg       0.92      0.92      0.92      1151\n",
      "\n",
      "\n"
     ]
    }
   ],
   "source": [
    "svm_smote_accuracy_score_float, \\\n",
    "svm_smote_confusion_matrix_dataframe, \\\n",
    "svm_smote_classification_report_string \\\n",
    "    = classificationsx.return_binary_classification_confusion_matrix \\\n",
    "        (y_test_series, \n",
    "         svm_smote_predictions_nparray, \n",
    "         'SVM MODEL (SMOTE)',\n",
    "         'Spam', 'Not Spam')\n",
    "\n",
    "model_performance_dictionary['svm'] \\\n",
    "    .append(svm_smote_accuracy_score_float * 100)\n",
    "\n",
    "model_performance_ranking_dictionary['svm_smote'] \\\n",
    "    = svm_smote_accuracy_score_float * 100"
   ]
  },
  {
   "cell_type": "markdown",
   "metadata": {},
   "source": [
    "### **SMOTEEN**"
   ]
  },
  {
   "cell_type": "code",
   "execution_count": 287,
   "metadata": {},
   "outputs": [
    {
     "data": {
      "text/plain": [
       "{'C': 1.0,\n",
       " 'break_ties': False,\n",
       " 'cache_size': 200,\n",
       " 'class_weight': None,\n",
       " 'coef0': 0.0,\n",
       " 'decision_function_shape': 'ovo',\n",
       " 'degree': 3,\n",
       " 'gamma': 'scale',\n",
       " 'kernel': 'rbf',\n",
       " 'max_iter': -1,\n",
       " 'probability': True,\n",
       " 'random_state': 21,\n",
       " 'shrinking': True,\n",
       " 'tol': 0.001,\n",
       " 'verbose': False}"
      ]
     },
     "execution_count": 287,
     "metadata": {},
     "output_type": "execute_result"
    }
   ],
   "source": [
    "svm_smoteen_model.get_params()"
   ]
  },
  {
   "cell_type": "code",
   "execution_count": 288,
   "metadata": {},
   "outputs": [
    {
     "name": "stdout",
     "output_type": "stream",
     "text": [
      "\u001b[1mThe balanced accuracy score for svm SMOTEEN from actual vs. test predictions is 92.44%\u001b[0m\n"
     ]
    }
   ],
   "source": [
    "svm_smoteen_predictions_nparray \\\n",
    "    = svm_smoteen_model.predict(x_test_scaled_dataframe)\n",
    "\n",
    "svm_smoteen_balanced_accuracy_score_float \\\n",
    "    = accuracy_score(y_test_series, svm_smoteen_predictions_nparray) * 100\n",
    "\n",
    "logx.print_and_log_text \\\n",
    "    ('\\033[1m' \\\n",
    "     + 'The balanced accuracy score for svm SMOTEEN from actual vs. test predictions is {:.2f}%' \\\n",
    "         .format(svm_smoteen_balanced_accuracy_score_float) \\\n",
    "     + '\\033[0m')"
   ]
  },
  {
   "cell_type": "code",
   "execution_count": 289,
   "metadata": {},
   "outputs": [
    {
     "name": "stdout",
     "output_type": "stream",
     "text": [
      "\u001b[1mSVM MODEL (SMOTEEN)\n",
      "\u001b[0m\n",
      "1) \u001b[1mOverall Accuracy Score: \u001b[0m92.1%\n",
      "\n",
      "2) \u001b[1mConfusion Matrix:\n",
      "\u001b[0m\n",
      "                 Predicted Spam  Predicted Not Spam\n",
      "Actual Spam                 655                  44\n",
      "Actual Not Spam              43                 409\n",
      "\n",
      "3) \u001b[1mClassification Report:\n",
      "\u001b[0m\n",
      "              precision    recall  f1-score   support\n",
      "\n",
      "        spam       0.94      0.94      0.94       699\n",
      "    not spam       0.90      0.90      0.90       452\n",
      "\n",
      "    accuracy                           0.92      1151\n",
      "   macro avg       0.92      0.92      0.92      1151\n",
      "weighted avg       0.92      0.92      0.92      1151\n",
      "\n",
      "\n"
     ]
    }
   ],
   "source": [
    "svm_smoteen_accuracy_score_float, \\\n",
    "svm_smoteen_confusion_matrix_dataframe, \\\n",
    "svm_smoteen_classification_report_string \\\n",
    "    = classificationsx.return_binary_classification_confusion_matrix \\\n",
    "        (y_test_series, \n",
    "         svm_smoteen_predictions_nparray, \n",
    "         'SVM MODEL (SMOTEEN)',\n",
    "         'Spam', 'Not Spam')\n",
    "\n",
    "model_performance_dictionary['svm'] \\\n",
    "    .append(svm_smoteen_accuracy_score_float * 100)\n",
    "\n",
    "model_performance_ranking_dictionary['svm_smoteen'] \\\n",
    "    = svm_smoteen_accuracy_score_float * 100"
   ]
  },
  {
   "cell_type": "markdown",
   "metadata": {},
   "source": [
    "## **9.5: K-Nearest Neighbor (KNN)**"
   ]
  },
  {
   "cell_type": "markdown",
   "metadata": {},
   "source": [
    "### **Original**"
   ]
  },
  {
   "cell_type": "code",
   "execution_count": 290,
   "metadata": {},
   "outputs": [
    {
     "data": {
      "text/plain": [
       "{'algorithm': 'auto',\n",
       " 'leaf_size': 2,\n",
       " 'metric': 'minkowski',\n",
       " 'metric_params': None,\n",
       " 'n_jobs': None,\n",
       " 'n_neighbors': 10,\n",
       " 'p': 2,\n",
       " 'weights': 'distance'}"
      ]
     },
     "execution_count": 290,
     "metadata": {},
     "output_type": "execute_result"
    }
   ],
   "source": [
    "knn_model.get_params()"
   ]
  },
  {
   "cell_type": "code",
   "execution_count": 291,
   "metadata": {},
   "outputs": [
    {
     "name": "stdout",
     "output_type": "stream",
     "text": [
      "\u001b[1mThe balanced accuracy score for KNN from actual vs. test predictions is 92.35%\u001b[0m\n"
     ]
    }
   ],
   "source": [
    "knn_predictions_nparray = knn_model.predict(x_test_scaled_dataframe)\n",
    "\n",
    "knn_balanced_accuracy_score_float \\\n",
    "    = accuracy_score(y_test_series, knn_predictions_nparray) * 100\n",
    "\n",
    "logx.print_and_log_text \\\n",
    "    ('\\033[1m' \\\n",
    "     + 'The balanced accuracy score for KNN from actual vs. test predictions is {:.2f}%' \\\n",
    "         .format(knn_balanced_accuracy_score_float) \\\n",
    "     + '\\033[0m')"
   ]
  },
  {
   "cell_type": "code",
   "execution_count": 292,
   "metadata": {},
   "outputs": [
    {
     "name": "stdout",
     "output_type": "stream",
     "text": [
      "\u001b[1mKNN MODEL\n",
      "\u001b[0m\n",
      "1) \u001b[1mOverall Accuracy Score: \u001b[0m91.91%\n",
      "\n",
      "2) \u001b[1mConfusion Matrix:\n",
      "\u001b[0m\n",
      "                 Predicted Spam  Predicted Not Spam\n",
      "Actual Spam                 657                  42\n",
      "Actual Not Spam              46                 406\n",
      "\n",
      "3) \u001b[1mClassification Report:\n",
      "\u001b[0m\n",
      "              precision    recall  f1-score   support\n",
      "\n",
      "        spam       0.93      0.94      0.94       699\n",
      "    not spam       0.91      0.90      0.90       452\n",
      "\n",
      "    accuracy                           0.92      1151\n",
      "   macro avg       0.92      0.92      0.92      1151\n",
      "weighted avg       0.92      0.92      0.92      1151\n",
      "\n",
      "\n"
     ]
    }
   ],
   "source": [
    "knn_accuracy_score_float, \\\n",
    "knn_confusion_matrix_dataframe, \\\n",
    "knn_classification_report_string \\\n",
    "    = classificationsx.return_binary_classification_confusion_matrix \\\n",
    "        (y_test_series, \n",
    "         knn_predictions_nparray, \n",
    "         'KNN MODEL',\n",
    "         'Spam', 'Not Spam')\n",
    "\n",
    "model_performance_dictionary['knn'] \\\n",
    "    = [knn_accuracy_score_float * 100]\n",
    "\n",
    "model_performance_ranking_dictionary['knn'] \\\n",
    "    = knn_accuracy_score_float * 100"
   ]
  },
  {
   "cell_type": "markdown",
   "metadata": {},
   "source": [
    "### **Random Undersampling**"
   ]
  },
  {
   "cell_type": "code",
   "execution_count": 293,
   "metadata": {},
   "outputs": [
    {
     "data": {
      "text/plain": [
       "{'algorithm': 'auto',\n",
       " 'leaf_size': 2,\n",
       " 'metric': 'minkowski',\n",
       " 'metric_params': None,\n",
       " 'n_jobs': None,\n",
       " 'n_neighbors': 12,\n",
       " 'p': 1,\n",
       " 'weights': 'distance'}"
      ]
     },
     "execution_count": 293,
     "metadata": {},
     "output_type": "execute_result"
    }
   ],
   "source": [
    "knn_undersampled_model.get_params()"
   ]
  },
  {
   "cell_type": "code",
   "execution_count": 294,
   "metadata": {},
   "outputs": [
    {
     "name": "stdout",
     "output_type": "stream",
     "text": [
      "\u001b[1mThe balanced accuracy score for knn undersampled from actual vs. test predictions is 91.57%\u001b[0m\n"
     ]
    }
   ],
   "source": [
    "knn_undersampled_predictions_nparray \\\n",
    "    = knn_undersampled_model.predict(x_test_scaled_dataframe)\n",
    "\n",
    "knn_undersampled_balanced_accuracy_score_float \\\n",
    "    = accuracy_score(y_test_series, knn_undersampled_predictions_nparray) * 100\n",
    "\n",
    "logx.print_and_log_text \\\n",
    "    ('\\033[1m' \\\n",
    "     + 'The balanced accuracy score for knn undersampled from actual vs. test predictions is {:.2f}%' \\\n",
    "         .format(knn_undersampled_balanced_accuracy_score_float) \\\n",
    "     + '\\033[0m')"
   ]
  },
  {
   "cell_type": "code",
   "execution_count": 295,
   "metadata": {},
   "outputs": [
    {
     "name": "stdout",
     "output_type": "stream",
     "text": [
      "\u001b[1mKNN MODEL (Undersampled)\n",
      "\u001b[0m\n",
      "1) \u001b[1mOverall Accuracy Score: \u001b[0m90.64%\n",
      "\n",
      "2) \u001b[1mConfusion Matrix:\n",
      "\u001b[0m\n",
      "                 Predicted Spam  Predicted Not Spam\n",
      "Actual Spam                 664                  35\n",
      "Actual Not Spam              62                 390\n",
      "\n",
      "3) \u001b[1mClassification Report:\n",
      "\u001b[0m\n",
      "              precision    recall  f1-score   support\n",
      "\n",
      "        spam       0.91      0.95      0.93       699\n",
      "    not spam       0.92      0.86      0.89       452\n",
      "\n",
      "    accuracy                           0.92      1151\n",
      "   macro avg       0.92      0.91      0.91      1151\n",
      "weighted avg       0.92      0.92      0.92      1151\n",
      "\n",
      "\n"
     ]
    }
   ],
   "source": [
    "knn_undersampled_accuracy_score_float, \\\n",
    "knn_undersampled_confusion_matrix_dataframe, \\\n",
    "knn_undersampled_classification_report_string \\\n",
    "    = classificationsx.return_binary_classification_confusion_matrix \\\n",
    "        (y_test_series, \n",
    "         knn_undersampled_predictions_nparray, \n",
    "         'KNN MODEL (Undersampled)',\n",
    "         'Spam', 'Not Spam')\n",
    "\n",
    "model_performance_dictionary['knn'] \\\n",
    "    .append(knn_undersampled_accuracy_score_float * 100)\n",
    "\n",
    "model_performance_ranking_dictionary['knn_undersampled'] \\\n",
    "    = knn_undersampled_accuracy_score_float * 100"
   ]
  },
  {
   "cell_type": "markdown",
   "metadata": {},
   "source": [
    "### **Random Oversampling**"
   ]
  },
  {
   "cell_type": "code",
   "execution_count": 296,
   "metadata": {},
   "outputs": [
    {
     "data": {
      "text/plain": [
       "{'algorithm': 'auto',\n",
       " 'leaf_size': 2,\n",
       " 'metric': 'minkowski',\n",
       " 'metric_params': None,\n",
       " 'n_jobs': None,\n",
       " 'n_neighbors': 19,\n",
       " 'p': 1,\n",
       " 'weights': 'distance'}"
      ]
     },
     "execution_count": 296,
     "metadata": {},
     "output_type": "execute_result"
    }
   ],
   "source": [
    "knn_oversampled_model.get_params()"
   ]
  },
  {
   "cell_type": "code",
   "execution_count": 297,
   "metadata": {},
   "outputs": [
    {
     "name": "stdout",
     "output_type": "stream",
     "text": [
      "\u001b[1mThe balanced accuracy score for knn oversampled from actual vs. test predictions is 91.92%\u001b[0m\n"
     ]
    }
   ],
   "source": [
    "knn_oversampled_predictions_nparray \\\n",
    "    = knn_oversampled_model.predict(x_test_scaled_dataframe)\n",
    "\n",
    "knn_oversampled_balanced_accuracy_score_float \\\n",
    "    = accuracy_score(y_test_series, knn_oversampled_predictions_nparray) * 100\n",
    "\n",
    "logx.print_and_log_text \\\n",
    "    ('\\033[1m' \n",
    "     + 'The balanced accuracy score for knn oversampled from actual vs. test predictions is {:.2f}%' \\\n",
    "         .format(knn_oversampled_balanced_accuracy_score_float) \n",
    "     + '\\033[0m')"
   ]
  },
  {
   "cell_type": "code",
   "execution_count": 298,
   "metadata": {},
   "outputs": [
    {
     "name": "stdout",
     "output_type": "stream",
     "text": [
      "\u001b[1mKNN MODEL (Oversampled)\n",
      "\u001b[0m\n",
      "1) \u001b[1mOverall Accuracy Score: \u001b[0m90.89%\n",
      "\n",
      "2) \u001b[1mConfusion Matrix:\n",
      "\u001b[0m\n",
      "                 Predicted Spam  Predicted Not Spam\n",
      "Actual Spam                 669                  30\n",
      "Actual Not Spam              63                 389\n",
      "\n",
      "3) \u001b[1mClassification Report:\n",
      "\u001b[0m\n",
      "              precision    recall  f1-score   support\n",
      "\n",
      "        spam       0.91      0.96      0.94       699\n",
      "    not spam       0.93      0.86      0.89       452\n",
      "\n",
      "    accuracy                           0.92      1151\n",
      "   macro avg       0.92      0.91      0.91      1151\n",
      "weighted avg       0.92      0.92      0.92      1151\n",
      "\n",
      "\n"
     ]
    }
   ],
   "source": [
    "knn_oversampled_accuracy_score_float, \\\n",
    "knn_oversampled_confusion_matrix_dataframe, \\\n",
    "knn_oversampled_classification_report_string \\\n",
    "    = classificationsx.return_binary_classification_confusion_matrix \\\n",
    "        (y_test_series, \n",
    "         knn_oversampled_predictions_nparray, \n",
    "         'KNN MODEL (Oversampled)',\n",
    "         'Spam', 'Not Spam')\n",
    "\n",
    "model_performance_dictionary['knn'] \\\n",
    "    .append(knn_oversampled_accuracy_score_float * 100)\n",
    "\n",
    "model_performance_ranking_dictionary['knn_oversampled'] \\\n",
    "    = knn_oversampled_accuracy_score_float * 100"
   ]
  },
  {
   "cell_type": "markdown",
   "metadata": {},
   "source": [
    "### **Cluster Centroids**"
   ]
  },
  {
   "cell_type": "code",
   "execution_count": 299,
   "metadata": {},
   "outputs": [
    {
     "data": {
      "text/plain": [
       "{'algorithm': 'auto',\n",
       " 'leaf_size': 2,\n",
       " 'metric': 'minkowski',\n",
       " 'metric_params': None,\n",
       " 'n_jobs': None,\n",
       " 'n_neighbors': 6,\n",
       " 'p': 2,\n",
       " 'weights': 'distance'}"
      ]
     },
     "execution_count": 299,
     "metadata": {},
     "output_type": "execute_result"
    }
   ],
   "source": [
    "knn_cluster_centroids_model.get_params()"
   ]
  },
  {
   "cell_type": "code",
   "execution_count": 300,
   "metadata": {},
   "outputs": [
    {
     "name": "stdout",
     "output_type": "stream",
     "text": [
      "\u001b[1mThe balanced accuracy score for knn cluster centroids from actual vs. test predictions is 87.58%\u001b[0m\n"
     ]
    }
   ],
   "source": [
    "knn_cluster_centroids_predictions_nparray \\\n",
    "    = knn_cluster_centroids_model.predict(x_test_scaled_dataframe)\n",
    "\n",
    "knn_cluster_centroids_balanced_accuracy_score_float \\\n",
    "    = accuracy_score(y_test_series, knn_cluster_centroids_predictions_nparray) * 100\n",
    "\n",
    "logx.print_and_log_text \\\n",
    "    ('\\033[1m' \\\n",
    "     + 'The balanced accuracy score for knn cluster centroids from actual vs. test predictions is {:.2f}%' \\\n",
    "         .format(knn_cluster_centroids_balanced_accuracy_score_float) \\\n",
    "     + '\\033[0m')"
   ]
  },
  {
   "cell_type": "code",
   "execution_count": 301,
   "metadata": {},
   "outputs": [
    {
     "name": "stdout",
     "output_type": "stream",
     "text": [
      "\u001b[1mKNN MODEL (Cluster Centroids)\n",
      "\u001b[0m\n",
      "1) \u001b[1mOverall Accuracy Score: \u001b[0m88.68%\n",
      "\n",
      "2) \u001b[1mConfusion Matrix:\n",
      "\u001b[0m\n",
      "                 Predicted Spam  Predicted Not Spam\n",
      "Actual Spam                 584                 115\n",
      "Actual Not Spam              28                 424\n",
      "\n",
      "3) \u001b[1mClassification Report:\n",
      "\u001b[0m\n",
      "              precision    recall  f1-score   support\n",
      "\n",
      "        spam       0.95      0.84      0.89       699\n",
      "    not spam       0.79      0.94      0.86       452\n",
      "\n",
      "    accuracy                           0.88      1151\n",
      "   macro avg       0.87      0.89      0.87      1151\n",
      "weighted avg       0.89      0.88      0.88      1151\n",
      "\n",
      "\n"
     ]
    }
   ],
   "source": [
    "knn_cluster_centroids_accuracy_score_float, \\\n",
    "knn_cluster_centroids_confusion_matrix_dataframe, \\\n",
    "knn_cluster_centroids_classification_report_string \\\n",
    "    = classificationsx.return_binary_classification_confusion_matrix \\\n",
    "        (y_test_series, \n",
    "         knn_cluster_centroids_predictions_nparray, \n",
    "         'KNN MODEL (Cluster Centroids)',\n",
    "         'Spam', 'Not Spam')\n",
    "\n",
    "model_performance_dictionary['knn'] \\\n",
    "    .append(knn_cluster_centroids_accuracy_score_float * 100)\n",
    "\n",
    "model_performance_ranking_dictionary['knn_cluster_centroids'] \\\n",
    "    = knn_cluster_centroids_accuracy_score_float * 100"
   ]
  },
  {
   "cell_type": "markdown",
   "metadata": {},
   "source": [
    "### **SMOTE**"
   ]
  },
  {
   "cell_type": "code",
   "execution_count": 302,
   "metadata": {},
   "outputs": [
    {
     "data": {
      "text/plain": [
       "{'algorithm': 'auto',\n",
       " 'leaf_size': 2,\n",
       " 'metric': 'minkowski',\n",
       " 'metric_params': None,\n",
       " 'n_jobs': None,\n",
       " 'n_neighbors': 12,\n",
       " 'p': 1,\n",
       " 'weights': 'distance'}"
      ]
     },
     "execution_count": 302,
     "metadata": {},
     "output_type": "execute_result"
    }
   ],
   "source": [
    "knn_smote_model.get_params()"
   ]
  },
  {
   "cell_type": "code",
   "execution_count": 303,
   "metadata": {},
   "outputs": [
    {
     "name": "stdout",
     "output_type": "stream",
     "text": [
      "\u001b[1mThe balanced accuracy score for knn SMOTE from actual vs. test predictions is 92.62%\u001b[0m\n"
     ]
    }
   ],
   "source": [
    "knn_smote_predictions_nparray \\\n",
    "    = knn_smote_model.predict(x_test_scaled_dataframe)\n",
    "\n",
    "knn_smote_balanced_accuracy_score_float \\\n",
    "    = accuracy_score(y_test_series, knn_smote_predictions_nparray) * 100\n",
    "\n",
    "logx.print_and_log_text \\\n",
    "    ('\\033[1m' \\\n",
    "     + 'The balanced accuracy score for knn SMOTE from actual vs. test predictions is {:.2f}%' \\\n",
    "         .format(knn_smote_balanced_accuracy_score_float) \\\n",
    "     + '\\033[0m')"
   ]
  },
  {
   "cell_type": "code",
   "execution_count": 304,
   "metadata": {},
   "outputs": [
    {
     "name": "stdout",
     "output_type": "stream",
     "text": [
      "\u001b[1mKNN MODEL (SMOTE)\n",
      "\u001b[0m\n",
      "1) \u001b[1mOverall Accuracy Score: \u001b[0m92.0%\n",
      "\n",
      "2) \u001b[1mConfusion Matrix:\n",
      "\u001b[0m\n",
      "                 Predicted Spam  Predicted Not Spam\n",
      "Actual Spam                 663                  36\n",
      "Actual Not Spam              49                 403\n",
      "\n",
      "3) \u001b[1mClassification Report:\n",
      "\u001b[0m\n",
      "              precision    recall  f1-score   support\n",
      "\n",
      "        spam       0.93      0.95      0.94       699\n",
      "    not spam       0.92      0.89      0.90       452\n",
      "\n",
      "    accuracy                           0.93      1151\n",
      "   macro avg       0.92      0.92      0.92      1151\n",
      "weighted avg       0.93      0.93      0.93      1151\n",
      "\n",
      "\n"
     ]
    }
   ],
   "source": [
    "knn_smote_accuracy_score_float, \\\n",
    "knn_smote_confusion_matrix_dataframe, \\\n",
    "knn_smote_classification_report_string \\\n",
    "    = classificationsx.return_binary_classification_confusion_matrix \\\n",
    "        (y_test_series, \n",
    "         knn_smote_predictions_nparray, \n",
    "         'KNN MODEL (SMOTE)',\n",
    "         'Spam', 'Not Spam')\n",
    "\n",
    "model_performance_dictionary['knn'] \\\n",
    "    .append(knn_smote_accuracy_score_float * 100)\n",
    "\n",
    "model_performance_ranking_dictionary['knn_smote'] \\\n",
    "    = knn_smote_accuracy_score_float * 100"
   ]
  },
  {
   "cell_type": "markdown",
   "metadata": {},
   "source": [
    "### **SMOTEEN**"
   ]
  },
  {
   "cell_type": "code",
   "execution_count": 305,
   "metadata": {},
   "outputs": [
    {
     "data": {
      "text/plain": [
       "{'algorithm': 'auto',\n",
       " 'leaf_size': 2,\n",
       " 'metric': 'minkowski',\n",
       " 'metric_params': None,\n",
       " 'n_jobs': None,\n",
       " 'n_neighbors': 6,\n",
       " 'p': 2,\n",
       " 'weights': 'distance'}"
      ]
     },
     "execution_count": 305,
     "metadata": {},
     "output_type": "execute_result"
    }
   ],
   "source": [
    "knn_smoteen_model.get_params()"
   ]
  },
  {
   "cell_type": "code",
   "execution_count": 306,
   "metadata": {},
   "outputs": [
    {
     "name": "stdout",
     "output_type": "stream",
     "text": [
      "\u001b[1mThe balanced accuracy score for knn SMOTEEN from actual vs. test predictions is 89.14%\u001b[0m\n"
     ]
    }
   ],
   "source": [
    "knn_smoteen_predictions_nparray \\\n",
    "    = knn_smoteen_model.predict(x_test_scaled_dataframe)\n",
    "\n",
    "knn_smoteen_balanced_accuracy_score_float \\\n",
    "    = accuracy_score(y_test_series, knn_smoteen_predictions_nparray) * 100\n",
    "\n",
    "logx.print_and_log_text \\\n",
    "    ('\\033[1m' \\\n",
    "     + 'The balanced accuracy score for knn SMOTEEN from actual vs. test predictions is {:.2f}%' \\\n",
    "         .format(knn_smoteen_balanced_accuracy_score_float) \\\n",
    "     + '\\033[0m')"
   ]
  },
  {
   "cell_type": "code",
   "execution_count": 307,
   "metadata": {},
   "outputs": [
    {
     "name": "stdout",
     "output_type": "stream",
     "text": [
      "\u001b[1mKNN MODEL (SMOTEEN)\n",
      "\u001b[0m\n",
      "1) \u001b[1mOverall Accuracy Score: \u001b[0m89.5%\n",
      "\n",
      "2) \u001b[1mConfusion Matrix:\n",
      "\u001b[0m\n",
      "                 Predicted Spam  Predicted Not Spam\n",
      "Actual Spam                 614                  85\n",
      "Actual Not Spam              40                 412\n",
      "\n",
      "3) \u001b[1mClassification Report:\n",
      "\u001b[0m\n",
      "              precision    recall  f1-score   support\n",
      "\n",
      "        spam       0.94      0.88      0.91       699\n",
      "    not spam       0.83      0.91      0.87       452\n",
      "\n",
      "    accuracy                           0.89      1151\n",
      "   macro avg       0.88      0.89      0.89      1151\n",
      "weighted avg       0.90      0.89      0.89      1151\n",
      "\n",
      "\n"
     ]
    }
   ],
   "source": [
    "knn_smoteen_accuracy_score_float, \\\n",
    "knn_smoteen_confusion_matrix_dataframe, \\\n",
    "knn_smoteen_classification_report_string \\\n",
    "    = classificationsx.return_binary_classification_confusion_matrix \\\n",
    "        (y_test_series, \n",
    "         knn_smoteen_predictions_nparray, \n",
    "         'KNN MODEL (SMOTEEN)',\n",
    "         'Spam', 'Not Spam')\n",
    "\n",
    "model_performance_dictionary['knn'] \\\n",
    "    .append(knn_smoteen_accuracy_score_float * 100)\n",
    "\n",
    "model_performance_ranking_dictionary['knn_smoteen'] \\\n",
    "    = knn_smoteen_accuracy_score_float * 100"
   ]
  },
  {
   "cell_type": "markdown",
   "metadata": {},
   "source": [
    "## **9.6: Gaussian Naive Bayes (GNB)**"
   ]
  },
  {
   "cell_type": "markdown",
   "metadata": {},
   "source": [
    "### **Original**"
   ]
  },
  {
   "cell_type": "code",
   "execution_count": 308,
   "metadata": {},
   "outputs": [
    {
     "data": {
      "text/plain": [
       "{'priors': None, 'var_smoothing': 1e-09}"
      ]
     },
     "execution_count": 308,
     "metadata": {},
     "output_type": "execute_result"
    }
   ],
   "source": [
    "gnb_model.get_params()"
   ]
  },
  {
   "cell_type": "code",
   "execution_count": 309,
   "metadata": {},
   "outputs": [
    {
     "name": "stdout",
     "output_type": "stream",
     "text": [
      "\u001b[1mThe balanced accuracy score for GNB from actual vs. test predictions is 81.15%\u001b[0m\n"
     ]
    }
   ],
   "source": [
    "gnb_predictions_nparray = gnb_model.predict(x_test_scaled_dataframe)\n",
    "\n",
    "gnb_balanced_accuracy_score_float \\\n",
    "    = accuracy_score(y_test_series, gnb_predictions_nparray) * 100\n",
    "\n",
    "logx.print_and_log_text \\\n",
    "    ('\\033[1m' \\\n",
    "     + 'The balanced accuracy score for GNB from actual vs. test predictions is {:.2f}%' \\\n",
    "         .format(gnb_balanced_accuracy_score_float) \\\n",
    "     + '\\033[0m')"
   ]
  },
  {
   "cell_type": "code",
   "execution_count": 310,
   "metadata": {},
   "outputs": [
    {
     "name": "stdout",
     "output_type": "stream",
     "text": [
      "\u001b[1mGNB MODEL\n",
      "\u001b[0m\n",
      "1) \u001b[1mOverall Accuracy Score: \u001b[0m83.66%\n",
      "\n",
      "2) \u001b[1mConfusion Matrix:\n",
      "\u001b[0m\n",
      "                 Predicted Spam  Predicted Not Spam\n",
      "Actual Spam                 503                 196\n",
      "Actual Not Spam              21                 431\n",
      "\n",
      "3) \u001b[1mClassification Report:\n",
      "\u001b[0m\n",
      "              precision    recall  f1-score   support\n",
      "\n",
      "        spam       0.96      0.72      0.82       699\n",
      "    not spam       0.69      0.95      0.80       452\n",
      "\n",
      "    accuracy                           0.81      1151\n",
      "   macro avg       0.82      0.84      0.81      1151\n",
      "weighted avg       0.85      0.81      0.81      1151\n",
      "\n",
      "\n"
     ]
    }
   ],
   "source": [
    "gnb_accuracy_score_float, \\\n",
    "gnb_confusion_matrix_dataframe, \\\n",
    "gnb_classification_report_string \\\n",
    "    = classificationsx.return_binary_classification_confusion_matrix \\\n",
    "        (y_test_series, \n",
    "         gnb_predictions_nparray, \n",
    "         'GNB MODEL',\n",
    "         'Spam', 'Not Spam')\n",
    "\n",
    "model_performance_dictionary['gnb'] \\\n",
    "    = [gnb_accuracy_score_float * 100]\n",
    "\n",
    "model_performance_ranking_dictionary['gnb'] \\\n",
    "    = gnb_accuracy_score_float * 100"
   ]
  },
  {
   "cell_type": "markdown",
   "metadata": {},
   "source": [
    "### **Random Undersampling**"
   ]
  },
  {
   "cell_type": "code",
   "execution_count": 311,
   "metadata": {},
   "outputs": [
    {
     "data": {
      "text/plain": [
       "{'priors': None, 'var_smoothing': 1e-09}"
      ]
     },
     "execution_count": 311,
     "metadata": {},
     "output_type": "execute_result"
    }
   ],
   "source": [
    "gnb_undersampled_model.get_params()"
   ]
  },
  {
   "cell_type": "code",
   "execution_count": 312,
   "metadata": {},
   "outputs": [
    {
     "name": "stdout",
     "output_type": "stream",
     "text": [
      "\u001b[1mThe balanced accuracy score for gnb undersampled from actual vs. test predictions is 81.15%\u001b[0m\n"
     ]
    }
   ],
   "source": [
    "gnb_undersampled_predictions_nparray \\\n",
    "    = gnb_undersampled_model.predict(x_test_scaled_dataframe)\n",
    "\n",
    "gnb_undersampled_balanced_accuracy_score_float \\\n",
    "    = accuracy_score(y_test_series, gnb_undersampled_predictions_nparray) * 100\n",
    "\n",
    "logx.print_and_log_text \\\n",
    "    ('\\033[1m' \\\n",
    "     + 'The balanced accuracy score for gnb undersampled from actual vs. test predictions is {:.2f}%' \\\n",
    "         .format(gnb_undersampled_balanced_accuracy_score_float) \\\n",
    "     + '\\033[0m')"
   ]
  },
  {
   "cell_type": "code",
   "execution_count": 313,
   "metadata": {},
   "outputs": [
    {
     "name": "stdout",
     "output_type": "stream",
     "text": [
      "\u001b[1mGNB MODEL (Undersampled)\n",
      "\u001b[0m\n",
      "1) \u001b[1mOverall Accuracy Score: \u001b[0m83.62%\n",
      "\n",
      "2) \u001b[1mConfusion Matrix:\n",
      "\u001b[0m\n",
      "                 Predicted Spam  Predicted Not Spam\n",
      "Actual Spam                 504                 195\n",
      "Actual Not Spam              22                 430\n",
      "\n",
      "3) \u001b[1mClassification Report:\n",
      "\u001b[0m\n",
      "              precision    recall  f1-score   support\n",
      "\n",
      "        spam       0.96      0.72      0.82       699\n",
      "    not spam       0.69      0.95      0.80       452\n",
      "\n",
      "    accuracy                           0.81      1151\n",
      "   macro avg       0.82      0.84      0.81      1151\n",
      "weighted avg       0.85      0.81      0.81      1151\n",
      "\n",
      "\n"
     ]
    }
   ],
   "source": [
    "gnb_undersampled_accuracy_score_float, \\\n",
    "gnb_undersampled_confusion_matrix_dataframe, \\\n",
    "gnb_undersampled_classification_report_string \\\n",
    "    = classificationsx.return_binary_classification_confusion_matrix \\\n",
    "        (y_test_series, \n",
    "         gnb_undersampled_predictions_nparray, \n",
    "         'GNB MODEL (Undersampled)',\n",
    "         'Spam', 'Not Spam')\n",
    "\n",
    "model_performance_dictionary['gnb'] \\\n",
    "    .append(gnb_undersampled_accuracy_score_float * 100)\n",
    "\n",
    "model_performance_ranking_dictionary['gnb_undersampled'] \\\n",
    "    = gnb_undersampled_accuracy_score_float * 100"
   ]
  },
  {
   "cell_type": "markdown",
   "metadata": {},
   "source": [
    "### **Random Oversampling**"
   ]
  },
  {
   "cell_type": "code",
   "execution_count": 314,
   "metadata": {},
   "outputs": [
    {
     "data": {
      "text/plain": [
       "{'priors': None, 'var_smoothing': 1e-09}"
      ]
     },
     "execution_count": 314,
     "metadata": {},
     "output_type": "execute_result"
    }
   ],
   "source": [
    "gnb_oversampled_model.get_params()"
   ]
  },
  {
   "cell_type": "code",
   "execution_count": 315,
   "metadata": {},
   "outputs": [
    {
     "name": "stdout",
     "output_type": "stream",
     "text": [
      "\u001b[1mThe balanced accuracy score for gnb oversampled from actual vs. test predictions is 80.97%\u001b[0m\n"
     ]
    }
   ],
   "source": [
    "gnb_oversampled_predictions_nparray \\\n",
    "    = gnb_oversampled_model.predict(x_test_scaled_dataframe)\n",
    "\n",
    "gnb_oversampled_balanced_accuracy_score_float \\\n",
    "    = accuracy_score(y_test_series, gnb_oversampled_predictions_nparray) * 100\n",
    "\n",
    "logx.print_and_log_text \\\n",
    "    ('\\033[1m' \\\n",
    "     + 'The balanced accuracy score for gnb oversampled from actual vs. test predictions is {:.2f}%' \\\n",
    "         .format(gnb_oversampled_balanced_accuracy_score_float) \\\n",
    "     + '\\033[0m')"
   ]
  },
  {
   "cell_type": "code",
   "execution_count": 316,
   "metadata": {},
   "outputs": [
    {
     "name": "stdout",
     "output_type": "stream",
     "text": [
      "\u001b[1mGNB MODEL (Oversampled)\n",
      "\u001b[0m\n",
      "1) \u001b[1mOverall Accuracy Score: \u001b[0m83.4%\n",
      "\n",
      "2) \u001b[1mConfusion Matrix:\n",
      "\u001b[0m\n",
      "                 Predicted Spam  Predicted Not Spam\n",
      "Actual Spam                 504                 195\n",
      "Actual Not Spam              24                 428\n",
      "\n",
      "3) \u001b[1mClassification Report:\n",
      "\u001b[0m\n",
      "              precision    recall  f1-score   support\n",
      "\n",
      "        spam       0.95      0.72      0.82       699\n",
      "    not spam       0.69      0.95      0.80       452\n",
      "\n",
      "    accuracy                           0.81      1151\n",
      "   macro avg       0.82      0.83      0.81      1151\n",
      "weighted avg       0.85      0.81      0.81      1151\n",
      "\n",
      "\n"
     ]
    }
   ],
   "source": [
    "gnb_oversampled_accuracy_score_float, \\\n",
    "gnb_oversampled_confusion_matrix_dataframe, \\\n",
    "gnb_oversampled_classification_report_string \\\n",
    "    = classificationsx.return_binary_classification_confusion_matrix \\\n",
    "        (y_test_series, \n",
    "         gnb_oversampled_predictions_nparray, \n",
    "         'GNB MODEL (Oversampled)',\n",
    "         'Spam', 'Not Spam')\n",
    "\n",
    "model_performance_dictionary['gnb'] \\\n",
    "    .append(gnb_oversampled_accuracy_score_float * 100)\n",
    "\n",
    "model_performance_ranking_dictionary['gnb_oversampled'] \\\n",
    "    = gnb_oversampled_accuracy_score_float * 100"
   ]
  },
  {
   "cell_type": "markdown",
   "metadata": {},
   "source": [
    "### **Cluster Centroids**"
   ]
  },
  {
   "cell_type": "code",
   "execution_count": 317,
   "metadata": {},
   "outputs": [
    {
     "data": {
      "text/plain": [
       "{'priors': None, 'var_smoothing': 1e-09}"
      ]
     },
     "execution_count": 317,
     "metadata": {},
     "output_type": "execute_result"
    }
   ],
   "source": [
    "gnb_cluster_centroids_model.get_params()"
   ]
  },
  {
   "cell_type": "code",
   "execution_count": 318,
   "metadata": {},
   "outputs": [
    {
     "name": "stdout",
     "output_type": "stream",
     "text": [
      "\u001b[1mThe balanced accuracy score for knn cluster centroids from actual vs. test predictions is 81.23%\u001b[0m\n"
     ]
    }
   ],
   "source": [
    "gnb_cluster_centroids_predictions_nparray \\\n",
    "    = gnb_cluster_centroids_model.predict(x_test_scaled_dataframe)\n",
    "\n",
    "gnb_cluster_centroids_balanced_accuracy_score_float \\\n",
    "    = accuracy_score(y_test_series, gnb_cluster_centroids_predictions_nparray) * 100\n",
    "\n",
    "logx.print_and_log_text \\\n",
    "    ('\\033[1m' \\\n",
    "     + 'The balanced accuracy score for knn cluster centroids from actual vs. test predictions is {:.2f}%' \\\n",
    "         .format(gnb_cluster_centroids_balanced_accuracy_score_float) \\\n",
    "     + '\\033[0m')"
   ]
  },
  {
   "cell_type": "code",
   "execution_count": 319,
   "metadata": {},
   "outputs": [
    {
     "name": "stdout",
     "output_type": "stream",
     "text": [
      "\u001b[1mGNB MODEL (Cluster Centroids)\n",
      "\u001b[0m\n",
      "1) \u001b[1mOverall Accuracy Score: \u001b[0m83.77%\n",
      "\n",
      "2) \u001b[1mConfusion Matrix:\n",
      "\u001b[0m\n",
      "                 Predicted Spam  Predicted Not Spam\n",
      "Actual Spam                 503                 196\n",
      "Actual Not Spam              20                 432\n",
      "\n",
      "3) \u001b[1mClassification Report:\n",
      "\u001b[0m\n",
      "              precision    recall  f1-score   support\n",
      "\n",
      "        spam       0.96      0.72      0.82       699\n",
      "    not spam       0.69      0.96      0.80       452\n",
      "\n",
      "    accuracy                           0.81      1151\n",
      "   macro avg       0.82      0.84      0.81      1151\n",
      "weighted avg       0.85      0.81      0.81      1151\n",
      "\n",
      "\n"
     ]
    }
   ],
   "source": [
    "gnb_cluster_centroids_accuracy_score_float, \\\n",
    "gnb_cluster_centroids_confusion_matrix_dataframe, \\\n",
    "gnb_cluster_centroids_classification_report_string \\\n",
    "    = classificationsx.return_binary_classification_confusion_matrix \\\n",
    "        (y_test_series, \n",
    "         gnb_cluster_centroids_predictions_nparray, \n",
    "         'GNB MODEL (Cluster Centroids)',\n",
    "         'Spam', 'Not Spam')\n",
    "\n",
    "model_performance_dictionary['gnb'] \\\n",
    "    .append(gnb_cluster_centroids_accuracy_score_float * 100)\n",
    "\n",
    "model_performance_ranking_dictionary['gnb_cluster_centroids'] \\\n",
    "    = gnb_cluster_centroids_accuracy_score_float * 100"
   ]
  },
  {
   "cell_type": "markdown",
   "metadata": {},
   "source": [
    "### **SMOTE**"
   ]
  },
  {
   "cell_type": "code",
   "execution_count": 320,
   "metadata": {},
   "outputs": [
    {
     "data": {
      "text/plain": [
       "{'priors': None, 'var_smoothing': 1e-09}"
      ]
     },
     "execution_count": 320,
     "metadata": {},
     "output_type": "execute_result"
    }
   ],
   "source": [
    "gnb_smote_model.get_params()"
   ]
  },
  {
   "cell_type": "code",
   "execution_count": 321,
   "metadata": {},
   "outputs": [
    {
     "name": "stdout",
     "output_type": "stream",
     "text": [
      "\u001b[1mThe balanced accuracy score for gnb SMOTE from actual vs. test predictions is 81.49%\u001b[0m\n"
     ]
    }
   ],
   "source": [
    "gnb_smote_predictions_nparray \\\n",
    "    = gnb_smote_model.predict(x_test_scaled_dataframe)\n",
    "\n",
    "gnb_smote_balanced_accuracy_score_float \\\n",
    "    = accuracy_score(y_test_series, gnb_smote_predictions_nparray) * 100\n",
    "\n",
    "logx.print_and_log_text \\\n",
    "    ('\\033[1m' \\\n",
    "     + 'The balanced accuracy score for gnb SMOTE from actual vs. test predictions is {:.2f}%' \\\n",
    "         .format(gnb_smote_balanced_accuracy_score_float) \\\n",
    "     + '\\033[0m')"
   ]
  },
  {
   "cell_type": "code",
   "execution_count": 322,
   "metadata": {},
   "outputs": [
    {
     "name": "stdout",
     "output_type": "stream",
     "text": [
      "\u001b[1mGNB MODEL (SMOTE)\n",
      "\u001b[0m\n",
      "1) \u001b[1mOverall Accuracy Score: \u001b[0m83.86%\n",
      "\n",
      "2) \u001b[1mConfusion Matrix:\n",
      "\u001b[0m\n",
      "                 Predicted Spam  Predicted Not Spam\n",
      "Actual Spam                 509                 190\n",
      "Actual Not Spam              23                 429\n",
      "\n",
      "3) \u001b[1mClassification Report:\n",
      "\u001b[0m\n",
      "              precision    recall  f1-score   support\n",
      "\n",
      "        spam       0.96      0.73      0.83       699\n",
      "    not spam       0.69      0.95      0.80       452\n",
      "\n",
      "    accuracy                           0.81      1151\n",
      "   macro avg       0.82      0.84      0.81      1151\n",
      "weighted avg       0.85      0.81      0.82      1151\n",
      "\n",
      "\n"
     ]
    }
   ],
   "source": [
    "gnb_smote_accuracy_score_float, \\\n",
    "gnb_smote_confusion_matrix_dataframe, \\\n",
    "gnb_smote_classification_report_string \\\n",
    "    = classificationsx.return_binary_classification_confusion_matrix \\\n",
    "        (y_test_series, \n",
    "         gnb_smote_predictions_nparray, \n",
    "         'GNB MODEL (SMOTE)',\n",
    "         'Spam', 'Not Spam')\n",
    "\n",
    "model_performance_dictionary['gnb'] \\\n",
    "    .append(gnb_smote_accuracy_score_float * 100)\n",
    "\n",
    "model_performance_ranking_dictionary['gnb_smote'] \\\n",
    "    = gnb_smote_accuracy_score_float * 100"
   ]
  },
  {
   "cell_type": "markdown",
   "metadata": {},
   "source": [
    "### **SMOTEEN**"
   ]
  },
  {
   "cell_type": "code",
   "execution_count": 323,
   "metadata": {},
   "outputs": [
    {
     "data": {
      "text/plain": [
       "{'priors': None, 'var_smoothing': 1e-09}"
      ]
     },
     "execution_count": 323,
     "metadata": {},
     "output_type": "execute_result"
    }
   ],
   "source": [
    "gnb_smoteen_model.get_params()"
   ]
  },
  {
   "cell_type": "code",
   "execution_count": 324,
   "metadata": {},
   "outputs": [
    {
     "name": "stdout",
     "output_type": "stream",
     "text": [
      "\u001b[1mThe balanced accuracy score for gnb SMOTEEN from actual vs. test predictions is 84.19%\u001b[0m\n"
     ]
    }
   ],
   "source": [
    "gnb_smoteen_predictions_nparray \\\n",
    "    = gnb_smoteen_model.predict(x_test_scaled_dataframe)\n",
    "\n",
    "gnb_smoteen_balanced_accuracy_score_float \\\n",
    "    = accuracy_score(y_test_series, gnb_smoteen_predictions_nparray) * 100\n",
    "\n",
    "logx.print_and_log_text \\\n",
    "    ('\\033[1m' \\\n",
    "     + 'The balanced accuracy score for gnb SMOTEEN from actual vs. test predictions is {:.2f}%' \\\n",
    "         .format(gnb_smoteen_balanced_accuracy_score_float) \\\n",
    "     + '\\033[0m')"
   ]
  },
  {
   "cell_type": "code",
   "execution_count": 325,
   "metadata": {},
   "outputs": [
    {
     "name": "stdout",
     "output_type": "stream",
     "text": [
      "\u001b[1mGNB MODEL (SMOTEEN)\n",
      "\u001b[0m\n",
      "1) \u001b[1mOverall Accuracy Score: \u001b[0m85.81%\n",
      "\n",
      "2) \u001b[1mConfusion Matrix:\n",
      "\u001b[0m\n",
      "                 Predicted Spam  Predicted Not Spam\n",
      "Actual Spam                 547                 152\n",
      "Actual Not Spam              30                 422\n",
      "\n",
      "3) \u001b[1mClassification Report:\n",
      "\u001b[0m\n",
      "              precision    recall  f1-score   support\n",
      "\n",
      "        spam       0.95      0.78      0.86       699\n",
      "    not spam       0.74      0.93      0.82       452\n",
      "\n",
      "    accuracy                           0.84      1151\n",
      "   macro avg       0.84      0.86      0.84      1151\n",
      "weighted avg       0.86      0.84      0.84      1151\n",
      "\n",
      "\n"
     ]
    }
   ],
   "source": [
    "gnb_smoteen_accuracy_score_float, \\\n",
    "gnb_smoteen_confusion_matrix_dataframe, \\\n",
    "gnb_smoteen_classification_report_string \\\n",
    "    = classificationsx.return_binary_classification_confusion_matrix \\\n",
    "        (y_test_series, \n",
    "         gnb_smoteen_predictions_nparray, \n",
    "         'GNB MODEL (SMOTEEN)',\n",
    "         'Spam', 'Not Spam')\n",
    "\n",
    "model_performance_dictionary['gnb'] \\\n",
    "    .append(gnb_smoteen_accuracy_score_float * 100)\n",
    "\n",
    "model_performance_ranking_dictionary['gnb_smoteen'] \\\n",
    "    = gnb_smoteen_accuracy_score_float * 100"
   ]
  },
  {
   "cell_type": "markdown",
   "metadata": {},
   "source": [
    "## **9.7: Model Performance Results**"
   ]
  },
  {
   "cell_type": "markdown",
   "metadata": {},
   "source": [
    "### **Performance Matrix**"
   ]
  },
  {
   "cell_type": "code",
   "execution_count": 326,
   "metadata": {},
   "outputs": [],
   "source": [
    "index_string_list \\\n",
    "    = ['original', 'undersampled', 'oversampled', 'cluster centroids', 'smote', 'smoteen']\n",
    "\n",
    "model_performace_dataframe \\\n",
    "    = pd.DataFrame.from_dict \\\n",
    "        (model_performance_dictionary, orient = 'index').transpose()\n",
    "\n",
    "model_performace_dataframe['resampling_method'] = index_string_list\n",
    "\n",
    "model_performace_dataframe.set_index('resampling_method', drop = True, inplace = True)\n",
    "\n",
    "logx.log_write_object(model_performace_dataframe)"
   ]
  },
  {
   "cell_type": "code",
   "execution_count": 327,
   "metadata": {},
   "outputs": [
    {
     "data": {
      "text/html": [
       "<style type=\"text/css\">\n",
       "#T_20b4c caption {\n",
       "  color: black;\n",
       "  font-size: 20px;\n",
       "  font-style: bold;\n",
       "  text-align: center;\n",
       "}\n",
       "#T_20b4c_row0_col0, #T_20b4c_row0_col1, #T_20b4c_row0_col2, #T_20b4c_row0_col3, #T_20b4c_row0_col4, #T_20b4c_row0_col5, #T_20b4c_row1_col0, #T_20b4c_row1_col1, #T_20b4c_row1_col2, #T_20b4c_row1_col3, #T_20b4c_row1_col4, #T_20b4c_row1_col5, #T_20b4c_row2_col0, #T_20b4c_row2_col1, #T_20b4c_row2_col2, #T_20b4c_row2_col3, #T_20b4c_row2_col4, #T_20b4c_row2_col5, #T_20b4c_row3_col0, #T_20b4c_row3_col1, #T_20b4c_row3_col2, #T_20b4c_row3_col3, #T_20b4c_row3_col4, #T_20b4c_row3_col5, #T_20b4c_row4_col0, #T_20b4c_row4_col1, #T_20b4c_row4_col2, #T_20b4c_row4_col3, #T_20b4c_row4_col4, #T_20b4c_row4_col5, #T_20b4c_row5_col0, #T_20b4c_row5_col1, #T_20b4c_row5_col2, #T_20b4c_row5_col3, #T_20b4c_row5_col4, #T_20b4c_row5_col5 {\n",
       "  text-align: center;\n",
       "  border: 1.3px solid red;\n",
       "  color: blue;\n",
       "}\n",
       "</style>\n",
       "<table id=\"T_20b4c\">\n",
       "  <caption>Table 9.7.1: Model Performance Matrix</caption>\n",
       "  <thead>\n",
       "    <tr>\n",
       "      <th class=\"blank level0\" >&nbsp;</th>\n",
       "      <th id=\"T_20b4c_level0_col0\" class=\"col_heading level0 col0\" >logistic_regression</th>\n",
       "      <th id=\"T_20b4c_level0_col1\" class=\"col_heading level0 col1\" >decision_tree</th>\n",
       "      <th id=\"T_20b4c_level0_col2\" class=\"col_heading level0 col2\" >random_forest</th>\n",
       "      <th id=\"T_20b4c_level0_col3\" class=\"col_heading level0 col3\" >svm</th>\n",
       "      <th id=\"T_20b4c_level0_col4\" class=\"col_heading level0 col4\" >knn</th>\n",
       "      <th id=\"T_20b4c_level0_col5\" class=\"col_heading level0 col5\" >gnb</th>\n",
       "    </tr>\n",
       "    <tr>\n",
       "      <th class=\"index_name level0\" >resampling_method</th>\n",
       "      <th class=\"blank col0\" >&nbsp;</th>\n",
       "      <th class=\"blank col1\" >&nbsp;</th>\n",
       "      <th class=\"blank col2\" >&nbsp;</th>\n",
       "      <th class=\"blank col3\" >&nbsp;</th>\n",
       "      <th class=\"blank col4\" >&nbsp;</th>\n",
       "      <th class=\"blank col5\" >&nbsp;</th>\n",
       "    </tr>\n",
       "  </thead>\n",
       "  <tbody>\n",
       "    <tr>\n",
       "      <th id=\"T_20b4c_level0_row0\" class=\"row_heading level0 row0\" >original</th>\n",
       "      <td id=\"T_20b4c_row0_col0\" class=\"data row0 col0\" >89.7%</td>\n",
       "      <td id=\"T_20b4c_row0_col1\" class=\"data row0 col1\" >87.8%</td>\n",
       "      <td id=\"T_20b4c_row0_col2\" class=\"data row0 col2\" >91.4%</td>\n",
       "      <td id=\"T_20b4c_row0_col3\" class=\"data row0 col3\" >91.7%</td>\n",
       "      <td id=\"T_20b4c_row0_col4\" class=\"data row0 col4\" >91.9%</td>\n",
       "      <td id=\"T_20b4c_row0_col5\" class=\"data row0 col5\" >83.7%</td>\n",
       "    </tr>\n",
       "    <tr>\n",
       "      <th id=\"T_20b4c_level0_row1\" class=\"row_heading level0 row1\" >undersampled</th>\n",
       "      <td id=\"T_20b4c_row1_col0\" class=\"data row1 col0\" >92.0%</td>\n",
       "      <td id=\"T_20b4c_row1_col1\" class=\"data row1 col1\" >88.0%</td>\n",
       "      <td id=\"T_20b4c_row1_col2\" class=\"data row1 col2\" >93.0%</td>\n",
       "      <td id=\"T_20b4c_row1_col3\" class=\"data row1 col3\" >92.8%</td>\n",
       "      <td id=\"T_20b4c_row1_col4\" class=\"data row1 col4\" >90.6%</td>\n",
       "      <td id=\"T_20b4c_row1_col5\" class=\"data row1 col5\" >83.6%</td>\n",
       "    </tr>\n",
       "    <tr>\n",
       "      <th id=\"T_20b4c_level0_row2\" class=\"row_heading level0 row2\" >oversampled</th>\n",
       "      <td id=\"T_20b4c_row2_col0\" class=\"data row2 col0\" >91.2%</td>\n",
       "      <td id=\"T_20b4c_row2_col1\" class=\"data row2 col1\" >88.0%</td>\n",
       "      <td id=\"T_20b4c_row2_col2\" class=\"data row2 col2\" >91.6%</td>\n",
       "      <td id=\"T_20b4c_row2_col3\" class=\"data row2 col3\" >91.9%</td>\n",
       "      <td id=\"T_20b4c_row2_col4\" class=\"data row2 col4\" >90.9%</td>\n",
       "      <td id=\"T_20b4c_row2_col5\" class=\"data row2 col5\" >83.4%</td>\n",
       "    </tr>\n",
       "    <tr>\n",
       "      <th id=\"T_20b4c_level0_row3\" class=\"row_heading level0 row3\" >cluster centroids</th>\n",
       "      <td id=\"T_20b4c_row3_col0\" class=\"data row3 col0\" >91.1%</td>\n",
       "      <td id=\"T_20b4c_row3_col1\" class=\"data row3 col1\" >87.3%</td>\n",
       "      <td id=\"T_20b4c_row3_col2\" class=\"data row3 col2\" >90.7%</td>\n",
       "      <td id=\"T_20b4c_row3_col3\" class=\"data row3 col3\" >91.4%</td>\n",
       "      <td id=\"T_20b4c_row3_col4\" class=\"data row3 col4\" >88.7%</td>\n",
       "      <td id=\"T_20b4c_row3_col5\" class=\"data row3 col5\" >83.8%</td>\n",
       "    </tr>\n",
       "    <tr>\n",
       "      <th id=\"T_20b4c_level0_row4\" class=\"row_heading level0 row4\" >smote</th>\n",
       "      <td id=\"T_20b4c_row4_col0\" class=\"data row4 col0\" >91.7%</td>\n",
       "      <td id=\"T_20b4c_row4_col1\" class=\"data row4 col1\" >89.7%</td>\n",
       "      <td id=\"T_20b4c_row4_col2\" class=\"data row4 col2\" >92.5%</td>\n",
       "      <td id=\"T_20b4c_row4_col3\" class=\"data row4 col3\" >91.8%</td>\n",
       "      <td id=\"T_20b4c_row4_col4\" class=\"data row4 col4\" >92.0%</td>\n",
       "      <td id=\"T_20b4c_row4_col5\" class=\"data row4 col5\" >83.9%</td>\n",
       "    </tr>\n",
       "    <tr>\n",
       "      <th id=\"T_20b4c_level0_row5\" class=\"row_heading level0 row5\" >smoteen</th>\n",
       "      <td id=\"T_20b4c_row5_col0\" class=\"data row5 col0\" >92.0%</td>\n",
       "      <td id=\"T_20b4c_row5_col1\" class=\"data row5 col1\" >62.4%</td>\n",
       "      <td id=\"T_20b4c_row5_col2\" class=\"data row5 col2\" >92.9%</td>\n",
       "      <td id=\"T_20b4c_row5_col3\" class=\"data row5 col3\" >92.1%</td>\n",
       "      <td id=\"T_20b4c_row5_col4\" class=\"data row5 col4\" >89.5%</td>\n",
       "      <td id=\"T_20b4c_row5_col5\" class=\"data row5 col5\" >85.8%</td>\n",
       "    </tr>\n",
       "  </tbody>\n",
       "</table>\n"
      ],
      "text/plain": [
       "<pandas.io.formats.style.Styler at 0x17360cc10>"
      ]
     },
     "execution_count": 327,
     "metadata": {},
     "output_type": "execute_result"
    }
   ],
   "source": [
    "pandas_processx.return_formatted_table \\\n",
    "    (model_performace_dataframe, \n",
    "     'Table 9.7.1: Model Performance Matrix',\n",
    "     line_count_integer = 36,\n",
    "     hide_index_boolean = False) \\\n",
    "        .format('{:,.1f}%')"
   ]
  },
  {
   "cell_type": "markdown",
   "metadata": {},
   "source": [
    "### **Performance Ranking**"
   ]
  },
  {
   "cell_type": "code",
   "execution_count": 328,
   "metadata": {},
   "outputs": [],
   "source": [
    "temp_dictionary \\\n",
    "    = dict(sorted(model_performance_ranking_dictionary.items(), key = lambda x: x[1], reverse = True))\n",
    "\n",
    "model_performace_rankings_dataframe \\\n",
    "    = pd.DataFrame.from_dict \\\n",
    "        (temp_dictionary, orient = 'index', columns = ['accuracy'])\n",
    "\n",
    "model_performace_rankings_dataframe.index.name = 'model'\n",
    "\n",
    "logx.log_write_object(model_performace_rankings_dataframe)"
   ]
  },
  {
   "cell_type": "code",
   "execution_count": 329,
   "metadata": {},
   "outputs": [
    {
     "data": {
      "text/html": [
       "<style type=\"text/css\">\n",
       "#T_8494c caption {\n",
       "  color: black;\n",
       "  font-size: 20px;\n",
       "  font-style: bold;\n",
       "  text-align: center;\n",
       "}\n",
       "#T_8494c_row0_col0, #T_8494c_row1_col0, #T_8494c_row2_col0, #T_8494c_row3_col0, #T_8494c_row4_col0, #T_8494c_row5_col0, #T_8494c_row6_col0, #T_8494c_row7_col0, #T_8494c_row8_col0, #T_8494c_row9_col0, #T_8494c_row10_col0, #T_8494c_row11_col0, #T_8494c_row12_col0, #T_8494c_row13_col0, #T_8494c_row14_col0, #T_8494c_row15_col0, #T_8494c_row16_col0, #T_8494c_row17_col0, #T_8494c_row18_col0, #T_8494c_row19_col0, #T_8494c_row20_col0, #T_8494c_row21_col0, #T_8494c_row22_col0, #T_8494c_row23_col0, #T_8494c_row24_col0, #T_8494c_row25_col0, #T_8494c_row26_col0, #T_8494c_row27_col0, #T_8494c_row28_col0, #T_8494c_row29_col0, #T_8494c_row30_col0, #T_8494c_row31_col0, #T_8494c_row32_col0, #T_8494c_row33_col0, #T_8494c_row34_col0, #T_8494c_row35_col0 {\n",
       "  text-align: center;\n",
       "  border: 1.3px solid red;\n",
       "  color: blue;\n",
       "}\n",
       "</style>\n",
       "<table id=\"T_8494c\">\n",
       "  <caption>Table 9.7.2: Model Performance Rankings</caption>\n",
       "  <thead>\n",
       "    <tr>\n",
       "      <th class=\"blank level0\" >&nbsp;</th>\n",
       "      <th id=\"T_8494c_level0_col0\" class=\"col_heading level0 col0\" >accuracy</th>\n",
       "    </tr>\n",
       "    <tr>\n",
       "      <th class=\"index_name level0\" >model</th>\n",
       "      <th class=\"blank col0\" >&nbsp;</th>\n",
       "    </tr>\n",
       "  </thead>\n",
       "  <tbody>\n",
       "    <tr>\n",
       "      <th id=\"T_8494c_level0_row0\" class=\"row_heading level0 row0\" >random_forest_undersampled</th>\n",
       "      <td id=\"T_8494c_row0_col0\" class=\"data row0 col0\" >93.0%</td>\n",
       "    </tr>\n",
       "    <tr>\n",
       "      <th id=\"T_8494c_level0_row1\" class=\"row_heading level0 row1\" >random_forest_smoteen</th>\n",
       "      <td id=\"T_8494c_row1_col0\" class=\"data row1 col0\" >92.9%</td>\n",
       "    </tr>\n",
       "    <tr>\n",
       "      <th id=\"T_8494c_level0_row2\" class=\"row_heading level0 row2\" >svm_undersampled</th>\n",
       "      <td id=\"T_8494c_row2_col0\" class=\"data row2 col0\" >92.8%</td>\n",
       "    </tr>\n",
       "    <tr>\n",
       "      <th id=\"T_8494c_level0_row3\" class=\"row_heading level0 row3\" >random_forest_smote</th>\n",
       "      <td id=\"T_8494c_row3_col0\" class=\"data row3 col0\" >92.5%</td>\n",
       "    </tr>\n",
       "    <tr>\n",
       "      <th id=\"T_8494c_level0_row4\" class=\"row_heading level0 row4\" >svm_smoteen</th>\n",
       "      <td id=\"T_8494c_row4_col0\" class=\"data row4 col0\" >92.1%</td>\n",
       "    </tr>\n",
       "    <tr>\n",
       "      <th id=\"T_8494c_level0_row5\" class=\"row_heading level0 row5\" >logistic_regression_smoteen</th>\n",
       "      <td id=\"T_8494c_row5_col0\" class=\"data row5 col0\" >92.0%</td>\n",
       "    </tr>\n",
       "    <tr>\n",
       "      <th id=\"T_8494c_level0_row6\" class=\"row_heading level0 row6\" >logistic_regression_undersampled</th>\n",
       "      <td id=\"T_8494c_row6_col0\" class=\"data row6 col0\" >92.0%</td>\n",
       "    </tr>\n",
       "    <tr>\n",
       "      <th id=\"T_8494c_level0_row7\" class=\"row_heading level0 row7\" >knn_smote</th>\n",
       "      <td id=\"T_8494c_row7_col0\" class=\"data row7 col0\" >92.0%</td>\n",
       "    </tr>\n",
       "    <tr>\n",
       "      <th id=\"T_8494c_level0_row8\" class=\"row_heading level0 row8\" >knn</th>\n",
       "      <td id=\"T_8494c_row8_col0\" class=\"data row8 col0\" >91.9%</td>\n",
       "    </tr>\n",
       "    <tr>\n",
       "      <th id=\"T_8494c_level0_row9\" class=\"row_heading level0 row9\" >svm_oversampled</th>\n",
       "      <td id=\"T_8494c_row9_col0\" class=\"data row9 col0\" >91.9%</td>\n",
       "    </tr>\n",
       "    <tr>\n",
       "      <th id=\"T_8494c_level0_row10\" class=\"row_heading level0 row10\" >svm_smote</th>\n",
       "      <td id=\"T_8494c_row10_col0\" class=\"data row10 col0\" >91.8%</td>\n",
       "    </tr>\n",
       "    <tr>\n",
       "      <th id=\"T_8494c_level0_row11\" class=\"row_heading level0 row11\" >svm</th>\n",
       "      <td id=\"T_8494c_row11_col0\" class=\"data row11 col0\" >91.7%</td>\n",
       "    </tr>\n",
       "    <tr>\n",
       "      <th id=\"T_8494c_level0_row12\" class=\"row_heading level0 row12\" >logistic_regression_smote</th>\n",
       "      <td id=\"T_8494c_row12_col0\" class=\"data row12 col0\" >91.7%</td>\n",
       "    </tr>\n",
       "    <tr>\n",
       "      <th id=\"T_8494c_level0_row13\" class=\"row_heading level0 row13\" >random_forest_oversampled</th>\n",
       "      <td id=\"T_8494c_row13_col0\" class=\"data row13 col0\" >91.6%</td>\n",
       "    </tr>\n",
       "    <tr>\n",
       "      <th id=\"T_8494c_level0_row14\" class=\"row_heading level0 row14\" >svm_cluster_centroids</th>\n",
       "      <td id=\"T_8494c_row14_col0\" class=\"data row14 col0\" >91.4%</td>\n",
       "    </tr>\n",
       "    <tr>\n",
       "      <th id=\"T_8494c_level0_row15\" class=\"row_heading level0 row15\" >random_forest</th>\n",
       "      <td id=\"T_8494c_row15_col0\" class=\"data row15 col0\" >91.4%</td>\n",
       "    </tr>\n",
       "    <tr>\n",
       "      <th id=\"T_8494c_level0_row16\" class=\"row_heading level0 row16\" >logistic_regression_oversampled</th>\n",
       "      <td id=\"T_8494c_row16_col0\" class=\"data row16 col0\" >91.2%</td>\n",
       "    </tr>\n",
       "    <tr>\n",
       "      <th id=\"T_8494c_level0_row17\" class=\"row_heading level0 row17\" >logistic_regression_cluster_centroids</th>\n",
       "      <td id=\"T_8494c_row17_col0\" class=\"data row17 col0\" >91.1%</td>\n",
       "    </tr>\n",
       "    <tr>\n",
       "      <th id=\"T_8494c_level0_row18\" class=\"row_heading level0 row18\" >knn_oversampled</th>\n",
       "      <td id=\"T_8494c_row18_col0\" class=\"data row18 col0\" >90.9%</td>\n",
       "    </tr>\n",
       "    <tr>\n",
       "      <th id=\"T_8494c_level0_row19\" class=\"row_heading level0 row19\" >random_forest_cluster_centroids</th>\n",
       "      <td id=\"T_8494c_row19_col0\" class=\"data row19 col0\" >90.7%</td>\n",
       "    </tr>\n",
       "    <tr>\n",
       "      <th id=\"T_8494c_level0_row20\" class=\"row_heading level0 row20\" >knn_undersampled</th>\n",
       "      <td id=\"T_8494c_row20_col0\" class=\"data row20 col0\" >90.6%</td>\n",
       "    </tr>\n",
       "    <tr>\n",
       "      <th id=\"T_8494c_level0_row21\" class=\"row_heading level0 row21\" >logistic_regression</th>\n",
       "      <td id=\"T_8494c_row21_col0\" class=\"data row21 col0\" >89.7%</td>\n",
       "    </tr>\n",
       "    <tr>\n",
       "      <th id=\"T_8494c_level0_row22\" class=\"row_heading level0 row22\" >decision_tree_smote</th>\n",
       "      <td id=\"T_8494c_row22_col0\" class=\"data row22 col0\" >89.7%</td>\n",
       "    </tr>\n",
       "    <tr>\n",
       "      <th id=\"T_8494c_level0_row23\" class=\"row_heading level0 row23\" >knn_smoteen</th>\n",
       "      <td id=\"T_8494c_row23_col0\" class=\"data row23 col0\" >89.5%</td>\n",
       "    </tr>\n",
       "    <tr>\n",
       "      <th id=\"T_8494c_level0_row24\" class=\"row_heading level0 row24\" >knn_cluster_centroids</th>\n",
       "      <td id=\"T_8494c_row24_col0\" class=\"data row24 col0\" >88.7%</td>\n",
       "    </tr>\n",
       "    <tr>\n",
       "      <th id=\"T_8494c_level0_row25\" class=\"row_heading level0 row25\" >decision_tree_oversampling</th>\n",
       "      <td id=\"T_8494c_row25_col0\" class=\"data row25 col0\" >88.0%</td>\n",
       "    </tr>\n",
       "    <tr>\n",
       "      <th id=\"T_8494c_level0_row26\" class=\"row_heading level0 row26\" >decision_tree_undersampling</th>\n",
       "      <td id=\"T_8494c_row26_col0\" class=\"data row26 col0\" >88.0%</td>\n",
       "    </tr>\n",
       "    <tr>\n",
       "      <th id=\"T_8494c_level0_row27\" class=\"row_heading level0 row27\" >decision_tree</th>\n",
       "      <td id=\"T_8494c_row27_col0\" class=\"data row27 col0\" >87.8%</td>\n",
       "    </tr>\n",
       "    <tr>\n",
       "      <th id=\"T_8494c_level0_row28\" class=\"row_heading level0 row28\" >decision_tree_cluster_centroids</th>\n",
       "      <td id=\"T_8494c_row28_col0\" class=\"data row28 col0\" >87.3%</td>\n",
       "    </tr>\n",
       "    <tr>\n",
       "      <th id=\"T_8494c_level0_row29\" class=\"row_heading level0 row29\" >gnb_smoteen</th>\n",
       "      <td id=\"T_8494c_row29_col0\" class=\"data row29 col0\" >85.8%</td>\n",
       "    </tr>\n",
       "    <tr>\n",
       "      <th id=\"T_8494c_level0_row30\" class=\"row_heading level0 row30\" >gnb_smote</th>\n",
       "      <td id=\"T_8494c_row30_col0\" class=\"data row30 col0\" >83.9%</td>\n",
       "    </tr>\n",
       "    <tr>\n",
       "      <th id=\"T_8494c_level0_row31\" class=\"row_heading level0 row31\" >gnb_cluster_centroids</th>\n",
       "      <td id=\"T_8494c_row31_col0\" class=\"data row31 col0\" >83.8%</td>\n",
       "    </tr>\n",
       "    <tr>\n",
       "      <th id=\"T_8494c_level0_row32\" class=\"row_heading level0 row32\" >gnb</th>\n",
       "      <td id=\"T_8494c_row32_col0\" class=\"data row32 col0\" >83.7%</td>\n",
       "    </tr>\n",
       "    <tr>\n",
       "      <th id=\"T_8494c_level0_row33\" class=\"row_heading level0 row33\" >gnb_undersampled</th>\n",
       "      <td id=\"T_8494c_row33_col0\" class=\"data row33 col0\" >83.6%</td>\n",
       "    </tr>\n",
       "    <tr>\n",
       "      <th id=\"T_8494c_level0_row34\" class=\"row_heading level0 row34\" >gnb_oversampled</th>\n",
       "      <td id=\"T_8494c_row34_col0\" class=\"data row34 col0\" >83.4%</td>\n",
       "    </tr>\n",
       "    <tr>\n",
       "      <th id=\"T_8494c_level0_row35\" class=\"row_heading level0 row35\" >decision_tree_smoteen</th>\n",
       "      <td id=\"T_8494c_row35_col0\" class=\"data row35 col0\" >62.4%</td>\n",
       "    </tr>\n",
       "  </tbody>\n",
       "</table>\n"
      ],
      "text/plain": [
       "<pandas.io.formats.style.Styler at 0x14b367f10>"
      ]
     },
     "execution_count": 329,
     "metadata": {},
     "output_type": "execute_result"
    }
   ],
   "source": [
    "pandas_processx.return_formatted_table \\\n",
    "    (model_performace_rankings_dataframe, \n",
    "     'Table 9.7.2: Model Performance Rankings',\n",
    "     line_count_integer = 36,\n",
    "     hide_index_boolean = False) \\\n",
    "        .format({'accuracy': '{:,.1f}%'})"
   ]
  },
  {
   "cell_type": "markdown",
   "metadata": {},
   "source": [
    "# <br> **Section 10: Save Models To Files**"
   ]
  },
  {
   "cell_type": "markdown",
   "metadata": {},
   "source": [
    "## **10.1: Logistic Regression**"
   ]
  },
  {
   "cell_type": "markdown",
   "metadata": {},
   "source": [
    "### **Original**"
   ]
  },
  {
   "cell_type": "code",
   "execution_count": 330,
   "metadata": {},
   "outputs": [],
   "source": [
    "pickle.dump \\\n",
    "    (logistic_regression_model, \n",
    "     open(spam_detector_constants.CONSTANT_LR_MODEL_FILE_PATH, 'wb'))"
   ]
  },
  {
   "cell_type": "markdown",
   "metadata": {},
   "source": [
    "### **Random Undersampling**"
   ]
  },
  {
   "cell_type": "code",
   "execution_count": 331,
   "metadata": {},
   "outputs": [],
   "source": [
    "pickle.dump \\\n",
    "    (logistic_regression_undersampled_model, \n",
    "     open(spam_detector_constants.CONSTANT_LR_UNDERSAMPLED_MODEL_FILE_PATH, 'wb'))"
   ]
  },
  {
   "cell_type": "markdown",
   "metadata": {},
   "source": [
    "### **Random Oversampling**"
   ]
  },
  {
   "cell_type": "code",
   "execution_count": 332,
   "metadata": {},
   "outputs": [],
   "source": [
    "pickle.dump \\\n",
    "    (logistic_regression_oversampled_model, \n",
    "     open(spam_detector_constants.CONSTANT_LR_OVERSAMPLED_MODEL_FILE_PATH, 'wb'))"
   ]
  },
  {
   "cell_type": "markdown",
   "metadata": {},
   "source": [
    "### **Cluster Centroids**"
   ]
  },
  {
   "cell_type": "code",
   "execution_count": 333,
   "metadata": {},
   "outputs": [],
   "source": [
    "pickle.dump \\\n",
    "    (logistic_regression_cluster_centroids_model, \n",
    "     open(spam_detector_constants.CONSTANT_LR_CENTROIDS_MODEL_FILE_PATH, 'wb'))"
   ]
  },
  {
   "cell_type": "markdown",
   "metadata": {},
   "source": [
    "### **SMOTE**"
   ]
  },
  {
   "cell_type": "code",
   "execution_count": 334,
   "metadata": {},
   "outputs": [],
   "source": [
    "pickle.dump \\\n",
    "    (logistic_regression_smote_model, \n",
    "     open(spam_detector_constants.CONSTANT_LR_SMOTE_MODEL_FILE_PATH, 'wb'))"
   ]
  },
  {
   "cell_type": "markdown",
   "metadata": {},
   "source": [
    "### **SMOTEEN**"
   ]
  },
  {
   "cell_type": "code",
   "execution_count": 335,
   "metadata": {},
   "outputs": [],
   "source": [
    "pickle.dump \\\n",
    "    (logistic_regression_smoteen_model, \n",
    "     open(spam_detector_constants.CONSTANT_LR_SMOTEEN_MODEL_FILE_PATH, 'wb'))"
   ]
  },
  {
   "cell_type": "markdown",
   "metadata": {},
   "source": [
    "## **10.2: Decision Tree**"
   ]
  },
  {
   "cell_type": "markdown",
   "metadata": {},
   "source": [
    "### **Original**"
   ]
  },
  {
   "cell_type": "code",
   "execution_count": 336,
   "metadata": {},
   "outputs": [],
   "source": [
    "pickle.dump \\\n",
    "    (decision_tree_model, \n",
    "     open(spam_detector_constants.CONSTANT_DT_MODEL_FILE_PATH, 'wb'))"
   ]
  },
  {
   "cell_type": "markdown",
   "metadata": {},
   "source": [
    "### **Random Undersampling**"
   ]
  },
  {
   "cell_type": "code",
   "execution_count": 337,
   "metadata": {},
   "outputs": [],
   "source": [
    "pickle.dump \\\n",
    "    (decision_tree_undersampled_model, \n",
    "     open(spam_detector_constants.CONSTANT_DT_UNDERSAMPLED_MODEL_FILE_PATH, 'wb'))"
   ]
  },
  {
   "cell_type": "markdown",
   "metadata": {},
   "source": [
    "### **Random Oversampling**"
   ]
  },
  {
   "cell_type": "code",
   "execution_count": 338,
   "metadata": {},
   "outputs": [],
   "source": [
    "pickle.dump \\\n",
    "    (decision_tree_oversampled_model, \n",
    "     open(spam_detector_constants.CONSTANT_DT_OVERSAMPLED_MODEL_FILE_PATH, 'wb'))"
   ]
  },
  {
   "cell_type": "markdown",
   "metadata": {},
   "source": [
    "### **Cluster Centroids**"
   ]
  },
  {
   "cell_type": "code",
   "execution_count": 339,
   "metadata": {},
   "outputs": [],
   "source": [
    "pickle.dump \\\n",
    "    (decision_tree_cluster_centroids_model, \n",
    "     open(spam_detector_constants.CONSTANT_DT_CENTROIDS_MODEL_FILE_PATH, 'wb'))"
   ]
  },
  {
   "cell_type": "markdown",
   "metadata": {},
   "source": [
    "### **SMOTE**"
   ]
  },
  {
   "cell_type": "code",
   "execution_count": 340,
   "metadata": {},
   "outputs": [],
   "source": [
    "pickle.dump \\\n",
    "    (decision_tree_smote_model, \n",
    "     open(spam_detector_constants.CONSTANT_DT_SMOTE_MODEL_FILE_PATH, 'wb'))"
   ]
  },
  {
   "cell_type": "markdown",
   "metadata": {},
   "source": [
    "### **SMOTEEN**"
   ]
  },
  {
   "cell_type": "code",
   "execution_count": 341,
   "metadata": {},
   "outputs": [],
   "source": [
    "pickle.dump \\\n",
    "    (decision_tree_smoteen_model, \n",
    "     open(spam_detector_constants.CONSTANT_DT_SMOTEEN_MODEL_FILE_PATH, 'wb'))"
   ]
  },
  {
   "cell_type": "markdown",
   "metadata": {},
   "source": [
    "## **10.3: Random Forest**"
   ]
  },
  {
   "cell_type": "markdown",
   "metadata": {},
   "source": [
    "### **Original**"
   ]
  },
  {
   "cell_type": "code",
   "execution_count": 342,
   "metadata": {},
   "outputs": [],
   "source": [
    "pickle.dump \\\n",
    "    (random_forest_model, \n",
    "     open(spam_detector_constants.CONSTANT_RF_MODEL_FILE_PATH, 'wb'))"
   ]
  },
  {
   "cell_type": "markdown",
   "metadata": {},
   "source": [
    "### **Random Undersampling**"
   ]
  },
  {
   "cell_type": "code",
   "execution_count": 343,
   "metadata": {},
   "outputs": [],
   "source": [
    "pickle.dump \\\n",
    "    (random_forest_undersampled_model, \n",
    "     open(spam_detector_constants.CONSTANT_RF_UNDERSAMPLED_MODEL_FILE_PATH, 'wb'))"
   ]
  },
  {
   "cell_type": "markdown",
   "metadata": {},
   "source": [
    "### **Random Oversampling**"
   ]
  },
  {
   "cell_type": "code",
   "execution_count": 344,
   "metadata": {},
   "outputs": [],
   "source": [
    "pickle.dump \\\n",
    "    (random_forest_oversampled_model, \n",
    "     open(spam_detector_constants.CONSTANT_RF_OVERSAMPLED_MODEL_FILE_PATH, 'wb'))"
   ]
  },
  {
   "cell_type": "markdown",
   "metadata": {},
   "source": [
    "### **Cluster Centroids**"
   ]
  },
  {
   "cell_type": "code",
   "execution_count": 345,
   "metadata": {},
   "outputs": [],
   "source": [
    "pickle.dump \\\n",
    "    (random_forest_cluster_centroids_model, \n",
    "     open(spam_detector_constants.CONSTANT_RF_CENTROIDS_MODEL_FILE_PATH, 'wb'))"
   ]
  },
  {
   "cell_type": "markdown",
   "metadata": {},
   "source": [
    "### **SMOTE**"
   ]
  },
  {
   "cell_type": "code",
   "execution_count": 346,
   "metadata": {},
   "outputs": [],
   "source": [
    "pickle.dump \\\n",
    "    (random_forest_smote_model, \n",
    "     open(spam_detector_constants.CONSTANT_RF_SMOTE_MODEL_FILE_PATH, 'wb'))"
   ]
  },
  {
   "cell_type": "markdown",
   "metadata": {},
   "source": [
    "### **SMOTEEN**"
   ]
  },
  {
   "cell_type": "code",
   "execution_count": 347,
   "metadata": {},
   "outputs": [],
   "source": [
    "pickle.dump \\\n",
    "    (random_forest_smoteen_model, \n",
    "     open(spam_detector_constants.CONSTANT_RF_SMOTEEN_MODEL_FILE_PATH, 'wb'))"
   ]
  },
  {
   "cell_type": "markdown",
   "metadata": {},
   "source": [
    "## **10.4: Support Vector Machine (SVM)**"
   ]
  },
  {
   "cell_type": "markdown",
   "metadata": {},
   "source": [
    "### **Original**"
   ]
  },
  {
   "cell_type": "code",
   "execution_count": 348,
   "metadata": {},
   "outputs": [],
   "source": [
    "pickle.dump \\\n",
    "    (svm_model, \n",
    "     open(spam_detector_constants.CONSTANT_SVM_MODEL_FILE_PATH, 'wb'))"
   ]
  },
  {
   "cell_type": "markdown",
   "metadata": {},
   "source": [
    "### **Random Undersampling**"
   ]
  },
  {
   "cell_type": "code",
   "execution_count": 349,
   "metadata": {},
   "outputs": [],
   "source": [
    "pickle.dump \\\n",
    "    (svm_undersampled_model, \n",
    "     open(spam_detector_constants.CONSTANT_SVM_UNDERSAMPLED_MODEL_FILE_PATH, 'wb'))"
   ]
  },
  {
   "cell_type": "markdown",
   "metadata": {},
   "source": [
    "### **Random Oversampling**"
   ]
  },
  {
   "cell_type": "code",
   "execution_count": 350,
   "metadata": {},
   "outputs": [],
   "source": [
    "pickle.dump \\\n",
    "    (svm_oversampled_model, \n",
    "     open(spam_detector_constants.CONSTANT_SVM_OVERSAMPLED_MODEL_FILE_PATH, 'wb'))"
   ]
  },
  {
   "cell_type": "markdown",
   "metadata": {},
   "source": [
    "### **Cluster Centroids**"
   ]
  },
  {
   "cell_type": "code",
   "execution_count": 351,
   "metadata": {},
   "outputs": [],
   "source": [
    "pickle.dump \\\n",
    "    (svm_cluster_centroids_model, \n",
    "     open(spam_detector_constants.CONSTANT_SVM_CENTROIDS_MODEL_FILE_PATH, 'wb'))"
   ]
  },
  {
   "cell_type": "markdown",
   "metadata": {},
   "source": [
    "### **SMOTE**"
   ]
  },
  {
   "cell_type": "code",
   "execution_count": 352,
   "metadata": {},
   "outputs": [],
   "source": [
    "pickle.dump \\\n",
    "    (svm_smote_model, \n",
    "     open(spam_detector_constants.CONSTANT_SVM_SMOTE_MODEL_FILE_PATH, 'wb'))"
   ]
  },
  {
   "cell_type": "markdown",
   "metadata": {},
   "source": [
    "### **SMOTEEN**"
   ]
  },
  {
   "cell_type": "code",
   "execution_count": 353,
   "metadata": {},
   "outputs": [],
   "source": [
    "pickle.dump \\\n",
    "    (svm_smoteen_model, \n",
    "     open(spam_detector_constants.CONSTANT_SVM_SMOTEEN_MODEL_FILE_PATH, 'wb'))"
   ]
  },
  {
   "cell_type": "markdown",
   "metadata": {},
   "source": [
    "## **10.5: K-Nearest Neighbor (KNN)**"
   ]
  },
  {
   "cell_type": "markdown",
   "metadata": {},
   "source": [
    "### **Original**"
   ]
  },
  {
   "cell_type": "code",
   "execution_count": 354,
   "metadata": {},
   "outputs": [],
   "source": [
    "pickle.dump \\\n",
    "    (knn_model, \n",
    "     open(spam_detector_constants.CONSTANT_KNN_MODEL_FILE_PATH, 'wb'))"
   ]
  },
  {
   "cell_type": "markdown",
   "metadata": {},
   "source": [
    "### **Random Undersampling**"
   ]
  },
  {
   "cell_type": "code",
   "execution_count": 355,
   "metadata": {},
   "outputs": [],
   "source": [
    "pickle.dump \\\n",
    "    (knn_undersampled_model, \n",
    "     open(spam_detector_constants.CONSTANT_KNN_UNDERSAMPLED_MODEL_FILE_PATH, 'wb'))"
   ]
  },
  {
   "cell_type": "markdown",
   "metadata": {},
   "source": [
    "### **Random Oversampling**"
   ]
  },
  {
   "cell_type": "code",
   "execution_count": 356,
   "metadata": {},
   "outputs": [],
   "source": [
    "pickle.dump \\\n",
    "    (knn_oversampled_model, \n",
    "     open(spam_detector_constants.CONSTANT_KNN_OVERSAMPLED_MODEL_FILE_PATH, 'wb'))"
   ]
  },
  {
   "cell_type": "markdown",
   "metadata": {},
   "source": [
    "### **Cluster Centroids**"
   ]
  },
  {
   "cell_type": "code",
   "execution_count": 357,
   "metadata": {},
   "outputs": [],
   "source": [
    "pickle.dump \\\n",
    "    (knn_cluster_centroids_model, \n",
    "     open(spam_detector_constants.CONSTANT_KNN_CENTROIDS_MODEL_FILE_PATH, 'wb'))"
   ]
  },
  {
   "cell_type": "markdown",
   "metadata": {},
   "source": [
    "### **SMOTE**"
   ]
  },
  {
   "cell_type": "code",
   "execution_count": 358,
   "metadata": {},
   "outputs": [],
   "source": [
    "pickle.dump \\\n",
    "    (knn_smote_model, \n",
    "     open(spam_detector_constants.CONSTANT_KNN_SMOTE_MODEL_FILE_PATH, 'wb'))"
   ]
  },
  {
   "cell_type": "markdown",
   "metadata": {},
   "source": [
    "### **SMOTEEN**"
   ]
  },
  {
   "cell_type": "code",
   "execution_count": 359,
   "metadata": {},
   "outputs": [],
   "source": [
    "pickle.dump \\\n",
    "    (knn_smoteen_model, \n",
    "     open(spam_detector_constants.CONSTANT_KNN_SMOTEEN_MODEL_FILE_PATH, 'wb'))"
   ]
  },
  {
   "cell_type": "markdown",
   "metadata": {},
   "source": [
    "## **10.6: Gaussian Naive Bayes (GNB)**"
   ]
  },
  {
   "cell_type": "markdown",
   "metadata": {},
   "source": [
    "### **Original**"
   ]
  },
  {
   "cell_type": "code",
   "execution_count": 360,
   "metadata": {},
   "outputs": [],
   "source": [
    "pickle.dump \\\n",
    "    (gnb_model, \n",
    "     open(spam_detector_constants.CONSTANT_GNB_MODEL_FILE_PATH, 'wb'))"
   ]
  },
  {
   "cell_type": "markdown",
   "metadata": {},
   "source": [
    "### **Random Undersampling**"
   ]
  },
  {
   "cell_type": "code",
   "execution_count": 361,
   "metadata": {},
   "outputs": [],
   "source": [
    "pickle.dump \\\n",
    "    (gnb_undersampled_model, \n",
    "     open(spam_detector_constants.CONSTANT_GNB_UNDERSAMPLED_MODEL_FILE_PATH, 'wb'))"
   ]
  },
  {
   "cell_type": "markdown",
   "metadata": {},
   "source": [
    "### **Random Oversampling**"
   ]
  },
  {
   "cell_type": "code",
   "execution_count": 362,
   "metadata": {},
   "outputs": [],
   "source": [
    "pickle.dump \\\n",
    "    (gnb_oversampled_model, \n",
    "     open(spam_detector_constants.CONSTANT_GNB_OVERSAMPLED_MODEL_FILE_PATH, 'wb'))"
   ]
  },
  {
   "cell_type": "markdown",
   "metadata": {},
   "source": [
    "### **Cluster Centroids**"
   ]
  },
  {
   "cell_type": "code",
   "execution_count": 363,
   "metadata": {},
   "outputs": [],
   "source": [
    "pickle.dump \\\n",
    "    (gnb_cluster_centroids_model, \n",
    "     open(spam_detector_constants.CONSTANT_GNB_CENTROIDS_MODEL_FILE_PATH, 'wb'))"
   ]
  },
  {
   "cell_type": "markdown",
   "metadata": {},
   "source": [
    "### **SMOTE**"
   ]
  },
  {
   "cell_type": "code",
   "execution_count": 364,
   "metadata": {},
   "outputs": [],
   "source": [
    "pickle.dump \\\n",
    "    (gnb_smote_model, \n",
    "     open(spam_detector_constants.CONSTANT_GNB_SMOTE_MODEL_FILE_PATH, 'wb'))"
   ]
  },
  {
   "cell_type": "markdown",
   "metadata": {},
   "source": [
    "### **SMOTEEN**"
   ]
  },
  {
   "cell_type": "code",
   "execution_count": 365,
   "metadata": {},
   "outputs": [],
   "source": [
    "pickle.dump \\\n",
    "    (gnb_smoteen_model, \n",
    "     open(spam_detector_constants.CONSTANT_GNB_SMOTEEN_MODEL_FILE_PATH, 'wb'))"
   ]
  },
  {
   "cell_type": "code",
   "execution_count": 366,
   "metadata": {},
   "outputs": [],
   "source": [
    "# logx.end_program()"
   ]
  },
  {
   "cell_type": "code",
   "execution_count": null,
   "metadata": {},
   "outputs": [],
   "source": []
  }
 ],
 "metadata": {
  "kernelspec": {
   "display_name": "Python 3 (ipykernel)",
   "language": "python",
   "name": "python3"
  },
  "language_info": {
   "codemirror_mode": {
    "name": "ipython",
    "version": 3
   },
   "file_extension": ".py",
   "mimetype": "text/x-python",
   "name": "python",
   "nbconvert_exporter": "python",
   "pygments_lexer": "ipython3",
   "version": "3.11.7"
  }
 },
 "nbformat": 4,
 "nbformat_minor": 4
}
